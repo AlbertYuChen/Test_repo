{
 "cells": [
  {
   "cell_type": "code",
   "execution_count": 23,
   "metadata": {
    "scrolled": true
   },
   "outputs": [
    {
     "name": "stdout",
     "output_type": "stream",
     "text": [
      "The autoreload extension is already loaded. To reload it, use:\n",
      "  %reload_ext autoreload\n"
     ]
    },
    {
     "data": {
      "text/html": [
       "<style>.container { width:80% !important; }</style>"
      ],
      "text/plain": [
       "<IPython.core.display.HTML object>"
      ]
     },
     "metadata": {},
     "output_type": "display_data"
    }
   ],
   "source": [
    "%load_ext autoreload\n",
    "%autoreload 2\n",
    "\n",
    "from IPython.core.display import display, HTML\n",
    "display(HTML(\"<style>.container { width:80% !important; }</style>\"))\n",
    "import numpy as np; np.set_printoptions(linewidth=110);\n",
    "import pandas as pd\n",
    "# tell pandas to show all columns when we display a DataFrame\n",
    "pd.set_option(\"display.max_columns\", None)\n",
    "\n",
    "# first we need a bit of import boilerplate\n",
    "import os\n",
    "import sys\n",
    "from sys import platform\n",
    "if platform == 'win32':\n",
    "    sys.path.append('D:/Brain_Network/Code/')\n",
    "    manifest_path = 'D:/Brain_Network/Data/Allen_Institute_Dataset/manifest.json'\n",
    "    project_dir = 'D:/Brain_Network/'\n",
    "elif platform =='darwin':\n",
    "    sys.path.append('/Users/chenyu/Workspace/Brain_Network/Code/')\n",
    "    manifest_path = '/Users/chenyu/Workspace/Brain_Network/Data/Allen_Institute_Dataset/manifest.json'\n",
    "    project_dir = '/Users/chenyu/Workspace/Brain_Network/'\n",
    "elif platform == 'linux':\n",
    "    sys.path.append('/home/yuchen/workspace/Brain_Network/Code/')\n",
    "    manifest_path = '/home/yuchen/workspace/Brain_Network/Data/Allen_Institute_Dataset/manifest.json'\n",
    "    project_dir = '/home/yuchen/workspace/Brain_Network/'\n",
    "else:\n",
    "    print('Add new computer system settings.')\n",
    "\n",
    "import matplotlib.pyplot as plt\n",
    "import random\n",
    "from tqdm import tqdm\n",
    "from tqdm.notebook import trange\n",
    "import time\n",
    "\n",
    "from allensdk.brain_observatory.ecephys.ecephys_project_cache import EcephysProjectCache\n",
    "from allensdk.brain_observatory.ecephys.ecephys_session import EcephysSession\n",
    "\n",
    "import data_visualizer\n",
    "import data_model\n",
    "import fine_time_coupling_model\n",
    "import smoothing_spline\n",
    "import util\n",
    "import hierarchical_sampling_model\n",
    "import hierarchical_model_generator\n",
    "import jitter"
   ]
  },
  {
   "cell_type": "code",
   "execution_count": 2,
   "metadata": {},
   "outputs": [
    {
     "name": "stdout",
     "output_type": "stream",
     "text": [
      "allensdk 2.2.0\n",
      "pandas 1.3.5\n",
      "h5py 2.8.0\n",
      "pynwb 1.4.0\n",
      "hdmf 2.2.0\n",
      "matplotlib 3.4.1\n"
     ]
    }
   ],
   "source": [
    "import allensdk\n",
    "import pandas\n",
    "import h5py\n",
    "import pynwb\n",
    "import hdmf\n",
    "import matplotlib\n",
    "print('allensdk', allensdk.__version__)\n",
    "print('pandas', pandas.__version__)\n",
    "print('h5py', h5py.__version__)\n",
    "print('pynwb', pynwb.__version__)\n",
    "print('hdmf', hdmf.__version__)\n",
    "print('matplotlib', matplotlib.__version__)"
   ]
  },
  {
   "cell_type": "markdown",
   "metadata": {},
   "source": [
    "# Data generator"
   ]
  },
  {
   "cell_type": "markdown",
   "metadata": {},
   "source": [
    "### Data generator Hawkes process (constant baseline)."
   ]
  },
  {
   "cell_type": "code",
   "execution_count": 203,
   "metadata": {},
   "outputs": [
    {
     "name": "stdout",
     "output_type": "stream",
     "text": [
      "100%|█████████████████████████████████████████████████████████████████| 1/1 [00:08<00:00,  8.10s/it]\n"
     ]
    }
   ],
   "source": [
    "generator = hierarchical_model_generator.HierarchicalModelGenerator()\n",
    "data_dir = project_dir + 'Output/jitter/bivariate_coupling_data/'\n",
    "trial_length = 2\n",
    "generator_par = {'trial_length': trial_length, 'trial_window':[0, trial_length], 'num_trials': 500, 'random_seed': None,\n",
    "        'type': 'square', 'mu': [20., 20.], 'alpha': [[0., 2], [0.0, 0.0]], 'beta': [[1.0, 0.04], [1.0, 1.0]], 'num_nodes': 2}\n",
    "file_path = data_dir + f'Hawkes_square_alpha2_beta40ms_generator_par.pkl'\n",
    "util.save_variable(file_path, generator_par)\n",
    "\n",
    "for itr in tqdm(range(1), ncols=100, file=sys.stdout):\n",
    "    generator_par['random_seed'] = itr\n",
    "    spike_times = generator.generate_hawkes_spike_times(generator_par, verbose=0)\n",
    "#     generator.spike_times_statistics(spike_times, generator_par['trial_length'], verbose=0)\n",
    "    file_path = data_dir + f'Hawkes_square_alpha2_beta40ms_itr{itr}.pkl'\n",
    "    util.save_variable(file_path, spike_times, verbose=False)"
   ]
  },
  {
   "cell_type": "markdown",
   "metadata": {},
   "source": [
    "### Data generator Amarasingham (fixed number of baseline clusters) + coupling filter."
   ]
  },
  {
   "cell_type": "code",
   "execution_count": 9,
   "metadata": {},
   "outputs": [
    {
     "name": "stdout",
     "output_type": "stream",
     "text": [
      "util.save_variable, save variable to:  D:/Brain_Network/Output/jitter/bivariate_coupling_data/amarasingham_square_alphaN1_beta40ms_trials2000_generator_par.pkl\n",
      "100%|█████████████████████████████████████████████████████████| 300/300 [10:10:07<00:00, 122.03s/it]\n"
     ]
    }
   ],
   "source": [
    "generator = hierarchical_model_generator.HierarchicalModelGenerator()\n",
    "data_dir = project_dir + 'Output/jitter/bivariate_coupling_data/'\n",
    "trial_length = 2\n",
    "trial_window = [0, trial_length]\n",
    "num_trials = 2000\n",
    "alpha = -1\n",
    "alpha_str = 'N1'\n",
    "model_name = f'amarasingham_square_alpha{alpha_str}_beta40ms_trials{num_trials}'\n",
    "generator_par = {'trial_length': trial_length, 'trial_window': trial_window,\n",
    "    'num_peaks': 30, 'num_trials': num_trials, 'baseline': 10, 'sigma': 0.04, 'random_seed': None,\n",
    "    'type': 'square', 'alpha': [[0., alpha], [0.0, 0.0]], 'beta': [[1.0, 0.04], [1.0, 1.0]], 'num_nodes': 2}\n",
    "file_path = data_dir + model_name + '_generator_par.pkl'\n",
    "util.save_variable(file_path, generator_par)\n",
    "\n",
    "for itr in tqdm(range(0, 300), ncols=100, file=sys.stdout):\n",
    "    generator_par['random_seed'] = itr\n",
    "    spike_times = generator.generate_amarasingham_coupling_filter_spike_times(generator_par, verbose=0)\n",
    "#     generator.spike_times_statistics(spike_times, generator_par['trial_length'], verbose=0)\n",
    "#     _=generator.plot_psth(spike_times, generator_par['trial_length'], 0.005, ylim=[0, 100])\n",
    "    file_path = data_dir + model_name + f'_itr{itr}.pkl'\n",
    "    util.save_variable(file_path, spike_times, verbose=False)"
   ]
  },
  {
   "cell_type": "markdown",
   "metadata": {},
   "source": [
    "### Amarasingham non-repeated trials (fixed number of baseline clusters) + coupling filter."
   ]
  },
  {
   "cell_type": "code",
   "execution_count": 21,
   "metadata": {},
   "outputs": [
    {
     "name": "stdout",
     "output_type": "stream",
     "text": [
      "util.save_variable, save variable to:  D:/Brain_Network/Output/jitter/bivariate_coupling_data/amarasingham_square_alphaN1_beta40ms_trials2000_nonrepeated_generator_par.pkl\n",
      "100%|█████████████████████████████████████████████████████████| 300/300 [10:50:57<00:00, 130.19s/it]\n"
     ]
    }
   ],
   "source": [
    "generator = hierarchical_model_generator.HierarchicalModelGenerator()\n",
    "data_dir = project_dir + 'Output/jitter/bivariate_coupling_data/'\n",
    "trial_length = 2\n",
    "trial_window = [0, trial_length]\n",
    "num_trials = 2000\n",
    "alpha = -1\n",
    "alpha_str = 'N1'\n",
    "model_name = f'amarasingham_square_alpha{alpha_str}_beta40ms_trials{num_trials}_nonrepeated'\n",
    "generator_par = {'trial_length': trial_length, 'trial_window': trial_window,\n",
    "    'num_peaks': 30, 'num_trials': num_trials, 'baseline': 10, 'sigma': 0.04, 'random_seed': None,\n",
    "    'type': 'square', 'alpha': [[0., alpha], [0.0, 0.0]], 'beta': [[1.0, 0.04], [1.0, 1.0]], 'num_nodes': 2}\n",
    "file_path = data_dir + model_name + '_generator_par.pkl'\n",
    "util.save_variable(file_path, generator_par)\n",
    "\n",
    "for itr in tqdm(range(0, 300), ncols=100, file=sys.stdout):\n",
    "    generator_par['random_seed'] = itr\n",
    "    spike_times = generator.generate_amarasingham_coupling_filter_spike_times_nonrepeated(generator_par, verbose=0)\n",
    "    file_path = data_dir + model_name + f'_itr{itr}.pkl'\n",
    "    util.save_variable(file_path, spike_times, verbose=False)"
   ]
  },
  {
   "cell_type": "markdown",
   "metadata": {},
   "source": [
    "### Basic: Linear Cox (baseline clusters from Poisson) + Gaussian window + non-repeated trials + coupling filter.\n",
    "For the coupling matrix, alpha, beta has format [[Target->Target, Source->Target], [Target->Source, Source->Source]]"
   ]
  },
  {
   "cell_type": "code",
   "execution_count": null,
   "metadata": {},
   "outputs": [],
   "source": [
    "generator = hierarchical_model_generator.HierarchicalModelGenerator()\n",
    "data_dir = project_dir + 'Output/jitter/bivariate_coupling_data/'\n",
    "trial_length = 5\n",
    "trial_window = [0, trial_length]\n",
    "num_trials = 200\n",
    "alpha = 2; alpha_str = '2'\n",
    "beta = 30; beta_str = '30'  # ms\n",
    "model_name = 'poisson_background_gaussian_mixture_square_' + \\\n",
    "        f'alpha{alpha_str}_beta{beta_str}ms_sigma100ms_trials{num_trials}_nonrepeated'\n",
    "\n",
    "generator_par = {'num_trials': num_trials, 'trial_length': trial_length, 'trial_window': trial_window,\n",
    "    'rho': 30, 'mu': 30, 'baseline': 10, 'window': 'gaussian', 'sigma': 0.1, 'random_seed': None,\n",
    "    'type': 'square', 'alpha': [[0., alpha], [0.0, 0.0]], 'beta': [[1.0, beta/1000], [1.0, 1.0]], 'num_nodes': 2}\n",
    "file_path = data_dir + model_name + '_generator_par.pkl'\n",
    "util.save_variable(file_path, generator_par)\n",
    "\n",
    "for itr in tqdm(range(0, 100), ncols=100, file=sys.stdout):\n",
    "    generator_par['random_seed'] = itr\n",
    "    spike_times = generator.generate_amarasingham_coupling_filter_spike_times_nonrepeated(generator_par, verbose=0)\n",
    "    file_path = data_dir + model_name + f'_itr{itr}.pkl'\n",
    "    util.save_variable(file_path, spike_times, verbose=False)"
   ]
  },
  {
   "cell_type": "markdown",
   "metadata": {},
   "source": [
    "### Double coupling Linear Cox (baseline clusters from Poisson) + Gaussian window + non-repeated trials + coupling filter."
   ]
  },
  {
   "cell_type": "code",
   "execution_count": 6,
   "metadata": {},
   "outputs": [
    {
     "name": "stdout",
     "output_type": "stream",
     "text": [
      "util.save_variable, save variable to:  D:/Brain_Network/Output/jitter/bivariate_coupling_data/poisson_background_gaussian_mixture_square_Source2Target_alpha2_beta30ms_Target2Source_alpha01_sigma100ms_trials200_nonrepeated_generator_par.pkl\n",
      "100%|█████████████████████████████████████████████████████████████| 100/100 [46:53<00:00, 28.14s/it]\n"
     ]
    }
   ],
   "source": [
    "generator = hierarchical_model_generator.HierarchicalModelGenerator()\n",
    "data_dir = project_dir + 'Output/jitter/bivariate_coupling_data/'\n",
    "trial_length = 5\n",
    "trial_window = [0, trial_length]\n",
    "num_trials = 200\n",
    "alpha = 2; alpha_str = '2'\n",
    "beta = 30; beta_str = '30'  # ms\n",
    "model_name = 'poisson_background_gaussian_mixture_square_' + \\\n",
    "        f'Source2Target_alpha{alpha_str}_beta{beta_str}ms_Target2Source_alpha01_sigma100ms_trials{num_trials}_nonrepeated'\n",
    "\n",
    "generator_par = {'num_trials': num_trials, 'trial_length': trial_length, 'trial_window': trial_window,\n",
    "    'rho': 30, 'mu': 30, 'baseline': 10, 'window': 'gaussian', 'sigma': 0.1, 'random_seed': None,\n",
    "    'type': 'square', 'alpha': [[0., alpha], [0.1, 0.0]], 'beta': [[1.0, beta/1000], [beta/1000, 1.0]], 'num_nodes': 2}\n",
    "file_path = data_dir + model_name + '_generator_par.pkl'\n",
    "util.save_variable(file_path, generator_par)\n",
    "\n",
    "for itr in tqdm(range(0, 100), ncols=100, file=sys.stdout):\n",
    "    generator_par['random_seed'] = itr\n",
    "    spike_times = generator.generate_amarasingham_coupling_filter_spike_times_nonrepeated(generator_par, verbose=0)\n",
    "    file_path = data_dir + model_name + f'_itr{itr}.pkl'\n",
    "    util.save_variable(file_path, spike_times, verbose=False)"
   ]
  },
  {
   "cell_type": "markdown",
   "metadata": {},
   "source": [
    "### Self-coupling Linear Cox (baseline clusters from Poisson) + Gaussian window + non-repeated trials + coupling filter"
   ]
  },
  {
   "cell_type": "code",
   "execution_count": 123,
   "metadata": {},
   "outputs": [
    {
     "name": "stdout",
     "output_type": "stream",
     "text": [
      "util.save_variable, save variable to:  D:/Brain_Network/Output/jitter/bivariate_coupling_data/poisson_background_gaussian_mixture_square_alpha2_beta30ms_selfcoupling_sourceN15_10ms_targetN20_20ms_sigma100ms_trials200_nonrepeated_generator_par.pkl\n",
      "100%|███████████████████████████████████████████████████████████████| 20/20 [09:30<00:00, 28.55s/it]\n"
     ]
    }
   ],
   "source": [
    "generator = hierarchical_model_generator.HierarchicalModelGenerator()\n",
    "data_dir = project_dir + 'Output/jitter/bivariate_coupling_data/'\n",
    "trial_length = 5\n",
    "trial_window = [0, trial_length]\n",
    "num_trials = 200\n",
    "alpha = 2; alpha_str = '2'\n",
    "beta = 30; beta_str = '30'  # ms\n",
    "model_name = 'poisson_background_gaussian_mixture_square_' + \\\n",
    "        f'alpha{alpha_str}_beta{beta_str}ms_selfcoupling_sourceN15_10ms_targetN20_20ms_sigma100ms_trials{num_trials}_nonrepeated'\n",
    "\n",
    "generator_par = {'num_trials': num_trials, 'trial_length': trial_length, 'trial_window': trial_window,\n",
    "    'rho': 20, 'mu': 20, 'baseline': 20, 'window': 'gaussian', 'sigma': 0.1, 'random_seed': None,\n",
    "    'type': 'square', 'alpha': [[-20.0, alpha], [0.0, -15.0]], 'beta': [[0.02, beta/1000], [0.0, 0.01]], 'num_nodes': 2}\n",
    "file_path = data_dir + model_name + '_generator_par.pkl'\n",
    "util.save_variable(file_path, generator_par)\n",
    "\n",
    "for itr in tqdm(range(0, 20), ncols=100, file=sys.stdout):\n",
    "    generator_par['random_seed'] = itr\n",
    "    spike_times = generator.generate_amarasingham_coupling_filter_spike_times_nonrepeated(generator_par, verbose=0)\n",
    "    file_path = data_dir + model_name + f'_itr{itr}.pkl'\n",
    "    util.save_variable(file_path, spike_times, verbose=False)"
   ]
  },
  {
   "cell_type": "markdown",
   "metadata": {},
   "source": [
    "### Laplace window + Linear Cox process"
   ]
  },
  {
   "cell_type": "code",
   "execution_count": 89,
   "metadata": {},
   "outputs": [
    {
     "name": "stdout",
     "output_type": "stream",
     "text": [
      "util.save_variable, save variable to:  D:/Brain_Network/Output/jitter/bivariate_coupling_data/poisson_background_laplacian_mixture_square_alpha2_beta30ms_sigma100ms_trials200_nonrepeated_generator_par.pkl\n",
      "100%|███████████████████████████████████████████████████████████| 100/100 [1:21:38<00:00, 48.98s/it]\n"
     ]
    }
   ],
   "source": [
    "generator = hierarchical_model_generator.HierarchicalModelGenerator()\n",
    "data_dir = project_dir + 'Output/jitter/bivariate_coupling_data/'\n",
    "trial_length = 5\n",
    "trial_window = [0, trial_length]\n",
    "num_trials = 200\n",
    "alpha = 2; alpha_str = '2'\n",
    "beta = 30; beta_str = '30'  # ms\n",
    "model_name = 'poisson_background_laplacian_mixture_square_' + \\\n",
    "        f'alpha{alpha_str}_beta{beta_str}ms_sigma100ms_trials{num_trials}_nonrepeated'\n",
    "\n",
    "generator_par = {'num_trials': num_trials, 'trial_length': trial_length, 'trial_window': trial_window,\n",
    "    'rho': 30, 'mu': 30, 'baseline': 10, 'window': 'laplacian', 'sigma': 0.1, 'random_seed': None,\n",
    "    'type': 'square', 'alpha': [[0., alpha], [0.0, 0.0]], 'beta': [[1.0, beta/1000], [1.0, 1.0]], 'num_nodes': 2}\n",
    "file_path = data_dir + model_name + '_generator_par.pkl'\n",
    "util.save_variable(file_path, generator_par)\n",
    "\n",
    "for itr in tqdm(range(0, 100), ncols=100, file=sys.stdout):\n",
    "    generator_par['random_seed'] = itr\n",
    "    spike_times = generator.generate_amarasingham_coupling_filter_spike_times_nonrepeated(generator_par, verbose=0)\n",
    "    file_path = data_dir + model_name + f'_itr{itr}.pkl'\n",
    "    util.save_variable(file_path, spike_times, verbose=False)"
   ]
  },
  {
   "cell_type": "markdown",
   "metadata": {},
   "source": [
    "### For hypothesis testing."
   ]
  },
  {
   "cell_type": "code",
   "execution_count": 52,
   "metadata": {},
   "outputs": [
    {
     "name": "stdout",
     "output_type": "stream",
     "text": [
      "util.save_variable, save variable to:  D:/Brain_Network/Output/jitter/bivariate_coupling_data/poisson_background_gaussian_mixture_square_alpha1_beta30ms_sigma100ms_trials10_nonrepeated_generator_par.pkl\n",
      "100%|█████████████████████████████████████████████████████████████| 100/100 [02:10<00:00,  1.30s/it]\n"
     ]
    }
   ],
   "source": [
    "generator = hierarchical_model_generator.HierarchicalModelGenerator()\n",
    "data_dir = project_dir + 'Output/jitter/bivariate_coupling_data/'\n",
    "trial_length = 5\n",
    "trial_window = [0, trial_length]\n",
    "num_trials = 10\n",
    "alpha = 1; alpha_str = '1'\n",
    "beta = 30; beta_str = '30'  # ms\n",
    "model_name = 'poisson_background_gaussian_mixture_square_' + \\\n",
    "        f'alpha{alpha_str}_beta{beta_str}ms_sigma100ms_trials{num_trials}_nonrepeated'\n",
    "\n",
    "generator_par = {'num_trials': num_trials, 'trial_length': trial_length, 'trial_window': trial_window,\n",
    "    'rho': 30, 'mu': 30, 'baseline': 10, 'window': 'gaussian', 'sigma': 0.1, 'random_seed': None,\n",
    "    'type': 'square', 'alpha': [[0., alpha], [0.0, 0.0]], 'beta': [[1.0, beta/1000], [1.0, 1.0]], 'num_nodes': 2}\n",
    "file_path = data_dir + model_name + '_generator_par.pkl'\n",
    "util.save_variable(file_path, generator_par)\n",
    "\n",
    "for itr in tqdm(range(0, 100), ncols=100, file=sys.stdout):\n",
    "    generator_par['random_seed'] = itr\n",
    "    spike_times = generator.generate_amarasingham_coupling_filter_spike_times_nonrepeated(generator_par, verbose=0)\n",
    "    file_path = data_dir + model_name + f'_itr{itr}.pkl'\n",
    "    util.save_variable(file_path, spike_times, verbose=False)"
   ]
  },
  {
   "cell_type": "markdown",
   "metadata": {},
   "source": [
    "### Fast changing Linear Cox + Gaussian window + non-repeated trials + coupling filter."
   ]
  },
  {
   "cell_type": "code",
   "execution_count": 98,
   "metadata": {},
   "outputs": [
    {
     "name": "stdout",
     "output_type": "stream",
     "text": [
      "util.save_variable, save variable to:  D:/Brain_Network/Output/jitter/bivariate_coupling_data/poisson_background_gaussian_mixture_square_alpha2_beta30ms_sigma5ms_trials200_nonrepeated_generator_par.pkl\n",
      "100%|██████████████████████████████████████████████████████████████| 25/25 [42:55<00:00, 103.01s/it]\n"
     ]
    }
   ],
   "source": [
    "generator = hierarchical_model_generator.HierarchicalModelGenerator()\n",
    "data_dir = project_dir + 'Output/jitter/bivariate_coupling_data/'\n",
    "trial_length = 5\n",
    "trial_window = [0, trial_length]\n",
    "num_trials = 200\n",
    "alpha = 2; alpha_str = '2'\n",
    "beta = 30; beta_str = '30'  # ms\n",
    "# model_name = 'poisson_background_gaussian_mixture_square_' + \\\n",
    "#         f'alpha{alpha_str}_beta{beta_str}ms_sigma20ms_trials{num_trials}_nonrepeated'\n",
    "model_name = 'poisson_background_gaussian_mixture_square_' + \\\n",
    "        f'alpha{alpha_str}_beta{beta_str}ms_sigma5ms_trials{num_trials}_nonrepeated'\n",
    "\n",
    "generator_par = {'num_trials': num_trials, 'trial_length': trial_length, 'trial_window': trial_window,\n",
    "    'rho': 30, 'mu': 30, 'baseline': 10, 'window': 'gaussian', 'sigma': 0.005, 'random_seed': None,\n",
    "    'type': 'square', 'alpha': [[0., alpha], [0.0, 0.0]], 'beta': [[1.0, beta/1000], [1.0, 1.0]], 'num_nodes': 2}\n",
    "file_path = data_dir + model_name + '_generator_par.pkl'\n",
    "util.save_variable(file_path, generator_par)\n",
    "\n",
    "for itr in tqdm(range(0, 25), ncols=100, file=sys.stdout):\n",
    "    generator_par['random_seed'] = itr\n",
    "    spike_times = generator.generate_amarasingham_coupling_filter_spike_times_nonrepeated(generator_par, verbose=0)\n",
    "    file_path = data_dir + model_name + f'_itr{itr}.pkl'\n",
    "    util.save_variable(file_path, spike_times, verbose=False)"
   ]
  },
  {
   "cell_type": "markdown",
   "metadata": {},
   "source": [
    "###  Varying Gaussian window + Lienear Cox + non-repeated trials + coupling filter."
   ]
  },
  {
   "cell_type": "code",
   "execution_count": 14,
   "metadata": {
    "scrolled": true
   },
   "outputs": [
    {
     "name": "stdout",
     "output_type": "stream",
     "text": [
      "util.save_variable, save variable to:  D:/Brain_Network/Output/jitter/bivariate_coupling_data/poisson_background_gaussian_mixture_square_alpha2_beta30ms_varying_sigma_80_140ms_trials200_nonrepeated_generator_par.pkl\n",
      "100%|███████████████████████████████████████████████████████████| 300/300 [2:14:05<00:00, 26.82s/it]\n"
     ]
    }
   ],
   "source": [
    "generator = hierarchical_model_generator.HierarchicalModelGenerator()\n",
    "data_dir = project_dir + 'Output/jitter/bivariate_coupling_data/'\n",
    "trial_length = 5\n",
    "trial_window = [0, trial_length]\n",
    "num_trials = 200\n",
    "alpha = 2; alpha_str = '2'\n",
    "beta = 30; beta_str = '30'  # ms\n",
    "model_name = 'poisson_background_gaussian_mixture_square_' + \\\n",
    "        f'alpha{alpha_str}_beta{beta_str}ms_varying_sigma_80_140ms_trials{num_trials}_nonrepeated'\n",
    "\n",
    "generator_par = {'num_trials': num_trials, 'trial_length': trial_length, 'trial_window': trial_window,\n",
    "    'rho': 30, 'mu': 30, 'baseline': 10, 'window': 'gaussian_varying', 'sigma': [0.08, 0.14], 'random_seed': None,\n",
    "    'type': 'square', 'alpha': [[0., alpha], [0.0, 0.0]], 'beta': [[1.0, beta/1000], [1.0, 1.0]], 'num_nodes': 2}\n",
    "file_path = data_dir + model_name + '_generator_par.pkl'\n",
    "util.save_variable(file_path, generator_par)\n",
    "\n",
    "for itr in tqdm(range(0, 300), ncols=100, file=sys.stdout):\n",
    "    generator_par['random_seed'] = itr\n",
    "    spike_times = generator.generate_amarasingham_coupling_filter_spike_times_nonrepeated(generator_par, verbose=0)\n",
    "    file_path = data_dir + model_name + f'_itr{itr}.pkl'\n",
    "    util.save_variable(file_path, spike_times, verbose=False)"
   ]
  },
  {
   "cell_type": "markdown",
   "metadata": {},
   "source": [
    "### Injection non-shared + Linear Cox + non-repeated trials + coupling filter."
   ]
  },
  {
   "cell_type": "code",
   "execution_count": null,
   "metadata": {},
   "outputs": [],
   "source": [
    "generator = hierarchical_model_generator.HierarchicalModelGenerator()\n",
    "data_dir = project_dir + 'Output/jitter/bivariate_coupling_data/'\n",
    "trial_length = 5\n",
    "trial_window = [0, trial_length]\n",
    "num_trials = 200\n",
    "alpha = 2; alpha_str = '2'\n",
    "beta = 30; beta_str = '30'  # ms\n",
    "model_name = 'poisson_background_gaussian_mixture_square_' + \\\n",
    "        f'alpha{alpha_str}_beta{beta_str}ms_sigma_100ms_sharerho20_nonsharerho10_trials{num_trials}_nonrepeated'\n",
    "\n",
    "generator_par = {'num_trials': num_trials, 'trial_length': trial_length, 'trial_window': trial_window,\n",
    "    'rho': 20, 'mu': 20, 'rho_injection': 10, 'baseline': 10, 'window': 'gaussian', 'sigma': 0.1, 'random_seed': None,\n",
    "    'type': 'square', 'alpha': [[0., alpha], [0.0, 0.0]], 'beta': [[1.0, beta/1000], [1.0, 1.0]], 'num_nodes': 2}\n",
    "file_path = data_dir + model_name + '_generator_par.pkl'\n",
    "util.save_variable(file_path, generator_par)\n",
    "\n",
    "for itr in tqdm(range(148, 300), ncols=100, file=sys.stdout):\n",
    "    generator_par['random_seed'] = itr\n",
    "    spike_times = generator.generate_amarasingham_coupling_filter_spike_times_inject_nonshared_nonrepeated(generator_par, verbose=0)\n",
    "    file_path = data_dir + model_name + f'_itr{itr}.pkl'\n",
    "    util.save_variable(file_path, spike_times, verbose=False)"
   ]
  },
  {
   "cell_type": "markdown",
   "metadata": {},
   "source": [
    "### Inhomo-injection non-shared + Linear Cox + non-repeated trials + coupling filter."
   ]
  },
  {
   "cell_type": "markdown",
   "metadata": {},
   "source": [
    "i (id=2 here, as source) is constant baseline, j (target) is fluctuating"
   ]
  },
  {
   "cell_type": "code",
   "execution_count": 6,
   "metadata": {},
   "outputs": [
    {
     "name": "stdout",
     "output_type": "stream",
     "text": [
      "util.save_variable, save variable to:  D:/Brain_Network/Output/jitter/bivariate_coupling_data/poisson_background_gaussian_mixture_square_alpha2_beta30ms_sigma_100ms_inhomorho_10_0_trials200_nonrepeated_generator_par.pkl\n",
      "100%|███████████████████████████████████████████████████████████████| 30/30 [09:36<00:00, 19.21s/it]\n"
     ]
    }
   ],
   "source": [
    "generator = hierarchical_model_generator.HierarchicalModelGenerator()\n",
    "data_dir = project_dir + 'Output/jitter/bivariate_coupling_data/'\n",
    "trial_length = 5\n",
    "trial_window = [0, trial_length]\n",
    "num_trials = 200\n",
    "alpha = 2; alpha_str = '2'\n",
    "beta = 30; beta_str = '30'  # ms\n",
    "model_name = 'poisson_background_gaussian_mixture_square_' + \\\n",
    "        f'alpha{alpha_str}_beta{beta_str}ms_sigma_100ms_inhomorho_10_0_trials{num_trials}_nonrepeated'\n",
    "\n",
    "generator_par = {'num_trials': num_trials, 'trial_length': trial_length, 'trial_window': trial_window,\n",
    "    'rho': 0, 'mu': 0, 'rho_injection': [10, 0], 'baseline': 20, 'window': 'gaussian', 'sigma': 0.1, 'random_seed': None,\n",
    "    'type': 'square', 'alpha': [[0., alpha], [0.0, 0.0]], 'beta': [[1.0, beta/1000], [1.0, 1.0]], 'num_nodes': 2}\n",
    "file_path = data_dir + model_name + '_generator_par.pkl'\n",
    "util.save_variable(file_path, generator_par)\n",
    "\n",
    "for itr in tqdm(range(20, 50), ncols=100, file=sys.stdout):\n",
    "    generator_par['random_seed'] = itr\n",
    "    spike_times = generator.generate_amarasingham_coupling_filter_spike_times_inhomo_inject_nonshared_nonrepeated(generator_par, verbose=0)\n",
    "    file_path = data_dir + model_name + f'_itr{itr}.pkl'\n",
    "    util.save_variable(file_path, spike_times, verbose=False)\n"
   ]
  },
  {
   "cell_type": "markdown",
   "metadata": {},
   "source": [
    "h (id=0 here, as target) is constant baseline, i (source) is fluctuating"
   ]
  },
  {
   "cell_type": "code",
   "execution_count": 7,
   "metadata": {},
   "outputs": [
    {
     "name": "stdout",
     "output_type": "stream",
     "text": [
      "util.save_variable, save variable to:  D:/Brain_Network/Output/jitter/bivariate_coupling_data/poisson_background_gaussian_mixture_square_alpha2_beta30ms_sigma_100ms_inhomorho_target0_source10_trials200_nonrepeated_generator_par.pkl\n",
      "100%|███████████████████████████████████████████████████████████████| 50/50 [18:12<00:00, 21.85s/it]\n"
     ]
    }
   ],
   "source": [
    "generator = hierarchical_model_generator.HierarchicalModelGenerator()\n",
    "data_dir = project_dir + 'Output/jitter/bivariate_coupling_data/'\n",
    "trial_length = 5\n",
    "trial_window = [0, trial_length]\n",
    "num_trials = 200\n",
    "alpha = 2; alpha_str = '2'\n",
    "beta = 30; beta_str = '30'  # ms\n",
    "model_name = 'poisson_background_gaussian_mixture_square_' + \\\n",
    "        f'alpha{alpha_str}_beta{beta_str}ms_sigma_100ms_inhomorho_target0_source10_trials{num_trials}_nonrepeated'\n",
    "\n",
    "generator_par = {'num_trials': num_trials, 'trial_length': trial_length, 'trial_window': trial_window,\n",
    "    'rho': 0, 'mu': 0, 'rho_injection': [10, 0], 'baseline': 20, 'window': 'gaussian', 'sigma': 0.1, 'random_seed': None,\n",
    "    'type': 'square', 'alpha': [[0., alpha], [0.0, 0.0]], 'beta': [[1.0, beta/1000], [1.0, 1.0]], 'num_nodes': 2}\n",
    "file_path = data_dir + model_name + '_generator_par.pkl'\n",
    "util.save_variable(file_path, generator_par)\n",
    "\n",
    "for itr in tqdm(range(0, 50), ncols=100, file=sys.stdout):\n",
    "    generator_par['random_seed'] = itr\n",
    "    spike_times = generator.generate_amarasingham_coupling_filter_spike_times_inhomo_inject_nonshared_nonrepeated(generator_par, verbose=0)\n",
    "    file_path = data_dir + model_name + f'_itr{itr}.pkl'\n",
    "    util.save_variable(file_path, spike_times, verbose=False)\n"
   ]
  },
  {
   "cell_type": "markdown",
   "metadata": {},
   "source": [
    "### Delayed shared + Linear Cox + non-repeated trials + coupling filter."
   ]
  },
  {
   "cell_type": "code",
   "execution_count": 9,
   "metadata": {
    "scrolled": true
   },
   "outputs": [
    {
     "name": "stdout",
     "output_type": "stream",
     "text": [
      "util.save_variable, save variable to:  D:/Brain_Network/Output/jitter/bivariate_coupling_data/poisson_background_gaussian_mixture_square_alpha2_beta30ms_sigma_100ms_delaysN20ms_trials200_nonrepeated_generator_par.pkl\n",
      "100%|███████████████████████████████████████████████████████████████| 20/20 [14:59<00:00, 44.99s/it]\n"
     ]
    }
   ],
   "source": [
    "generator = hierarchical_model_generator.HierarchicalModelGenerator()\n",
    "data_dir = project_dir + 'Output/jitter/bivariate_coupling_data/'\n",
    "trial_length = 5\n",
    "trial_window = [0, trial_length]\n",
    "num_trials = 200\n",
    "alpha = 2; alpha_str = '2'\n",
    "beta = 30; beta_str = '30'  # ms\n",
    "model_name = 'poisson_background_gaussian_mixture_square_' + \\\n",
    "        f'alpha{alpha_str}_beta{beta_str}ms_sigma_100ms_delaysN20ms_trials{num_trials}_nonrepeated'\n",
    "\n",
    "generator_par = {'num_trials': num_trials, 'trial_length': trial_length, 'trial_window': trial_window,\n",
    "    'rho': 30, 'mu': 30, 'baseline': 10, 'window': 'gaussian', 'sigma': 0.1, 'delays': [0.0, 0.02], 'random_seed': None,\n",
    "    'type': 'square', 'alpha': [[0., alpha], [0.0, 0.0]], 'beta': [[1.0, beta/1000], [1.0, 1.0]], 'num_nodes': 2}\n",
    "file_path = data_dir + model_name + '_generator_par.pkl'\n",
    "util.save_variable(file_path, generator_par)\n",
    "\n",
    "for itr in tqdm(range(0, 20), ncols=100, file=sys.stdout):\n",
    "    generator_par['random_seed'] = itr\n",
    "    spike_times = generator.generate_amarasingham_coupling_filter_spike_times_delayed_nonrepeated(generator_par, verbose=0)\n",
    "    file_path = data_dir + model_name + f'_itr{itr}.pkl'\n",
    "    util.save_variable(file_path, spike_times, verbose=False)"
   ]
  },
  {
   "cell_type": "markdown",
   "metadata": {},
   "source": [
    "### Sinusoid + linear Cox"
   ]
  },
  {
   "cell_type": "code",
   "execution_count": 17,
   "metadata": {
    "scrolled": true
   },
   "outputs": [
    {
     "name": "stdout",
     "output_type": "stream",
     "text": [
      "poisson_background_gaussian_mixture_square_alpha2_beta30ms_sigma_100ms_delay0div64_trials200\n",
      "util.save_variable, save variable to:  D:/Brain_Network/Output/jitter/bivariate_coupling_data/poisson_background_gaussian_mixture_square_alpha2_beta30ms_sigma_100ms_delay0div64_trials200_generator_par.pkl\n",
      "100%|█████████████████████████████████████████████████████████████| 100/100 [42:32<00:00, 25.52s/it]\n",
      "poisson_background_gaussian_mixture_square_alpha2_beta30ms_sigma_100ms_delay1div64_trials200\n",
      "util.save_variable, save variable to:  D:/Brain_Network/Output/jitter/bivariate_coupling_data/poisson_background_gaussian_mixture_square_alpha2_beta30ms_sigma_100ms_delay1div64_trials200_generator_par.pkl\n",
      "100%|█████████████████████████████████████████████████████████████| 100/100 [41:02<00:00, 24.63s/it]\n",
      "poisson_background_gaussian_mixture_square_alpha2_beta30ms_sigma_100ms_delay2div64_trials200\n",
      "util.save_variable, save variable to:  D:/Brain_Network/Output/jitter/bivariate_coupling_data/poisson_background_gaussian_mixture_square_alpha2_beta30ms_sigma_100ms_delay2div64_trials200_generator_par.pkl\n",
      "100%|█████████████████████████████████████████████████████████████| 100/100 [41:12<00:00, 24.72s/it]\n",
      "poisson_background_gaussian_mixture_square_alpha2_beta30ms_sigma_100ms_delay3div64_trials200\n",
      "util.save_variable, save variable to:  D:/Brain_Network/Output/jitter/bivariate_coupling_data/poisson_background_gaussian_mixture_square_alpha2_beta30ms_sigma_100ms_delay3div64_trials200_generator_par.pkl\n",
      "100%|█████████████████████████████████████████████████████████████| 100/100 [41:23<00:00, 24.84s/it]\n",
      "poisson_background_gaussian_mixture_square_alpha2_beta30ms_sigma_100ms_delay4div64_trials200\n",
      "util.save_variable, save variable to:  D:/Brain_Network/Output/jitter/bivariate_coupling_data/poisson_background_gaussian_mixture_square_alpha2_beta30ms_sigma_100ms_delay4div64_trials200_generator_par.pkl\n",
      "100%|█████████████████████████████████████████████████████████████| 100/100 [41:46<00:00, 25.06s/it]\n",
      "poisson_background_gaussian_mixture_square_alpha2_beta30ms_sigma_100ms_delay5div64_trials200\n",
      "util.save_variable, save variable to:  D:/Brain_Network/Output/jitter/bivariate_coupling_data/poisson_background_gaussian_mixture_square_alpha2_beta30ms_sigma_100ms_delay5div64_trials200_generator_par.pkl\n",
      "100%|█████████████████████████████████████████████████████████████| 100/100 [41:48<00:00, 25.08s/it]\n",
      "poisson_background_gaussian_mixture_square_alpha2_beta30ms_sigma_100ms_delay6div64_trials200\n",
      "util.save_variable, save variable to:  D:/Brain_Network/Output/jitter/bivariate_coupling_data/poisson_background_gaussian_mixture_square_alpha2_beta30ms_sigma_100ms_delay6div64_trials200_generator_par.pkl\n",
      "100%|█████████████████████████████████████████████████████████████| 100/100 [40:11<00:00, 24.12s/it]\n",
      "poisson_background_gaussian_mixture_square_alpha2_beta30ms_sigma_100ms_delay7div64_trials200\n",
      "util.save_variable, save variable to:  D:/Brain_Network/Output/jitter/bivariate_coupling_data/poisson_background_gaussian_mixture_square_alpha2_beta30ms_sigma_100ms_delay7div64_trials200_generator_par.pkl\n",
      "100%|█████████████████████████████████████████████████████████████| 100/100 [38:23<00:00, 23.04s/it]\n"
     ]
    }
   ],
   "source": [
    "generator = hierarchical_model_generator.HierarchicalModelGenerator()\n",
    "data_dir = project_dir + 'Output/jitter/bivariate_coupling_data/'\n",
    "trial_length = 5\n",
    "trial_window = [0, trial_length]\n",
    "num_trials = 200\n",
    "alpha = 2; alpha_str = '2'\n",
    "beta = 30; beta_str = '30'  # ms\n",
    "amplitude = 5\n",
    "\n",
    "for lag in np.arange(0,8):\n",
    "    model_name = 'poisson_background_gaussian_mixture_square_' + \\\n",
    "            f'alpha{alpha_str}_beta{beta_str}ms_sigma_100ms_sinusoid_amp{amplitude}_delay{lag}div64_trials{num_trials}_nonrepeated'\n",
    "    print(model_name)\n",
    "\n",
    "    generator_par = {'num_trials': num_trials, 'trial_length': trial_length, 'trial_window': trial_window,\n",
    "        'baseline': 30, 'amplitude': amplitude, 'frequency': 1, 'window': 'sinusoid', 'delays': [0.0, lag/64], 'random_seed': None,\n",
    "        'type': 'square', 'alpha': [[0., alpha], [0.0, 0.0]], 'beta': [[1.0, beta/1000], [1.0, 1.0]], 'num_nodes': 2}\n",
    "    file_path = data_dir + model_name + '_generator_par.pkl'\n",
    "    util.save_variable(file_path, generator_par)\n",
    "\n",
    "    for itr in tqdm(range(0, 100), ncols=100, file=sys.stdout):\n",
    "        generator_par['random_seed'] = itr\n",
    "        init_lag = np.random.rand()\n",
    "        generator_par['delays'][0] = generator_par['delays'][0] + init_lag\n",
    "        generator_par['delays'][1] = generator_par['delays'][1] + init_lag\n",
    "        spike_times = generator.generate_linear_cox_coupling_filter_spike_times_delayed_sinusoid(generator_par, verbose=0)\n",
    "        file_path = data_dir + model_name + f'_itr{itr}.pkl'\n",
    "        util.save_variable(file_path, spike_times, verbose=False)"
   ]
  },
  {
   "cell_type": "markdown",
   "metadata": {},
   "source": [
    "### Multivariate slow background + spike driver"
   ]
  },
  {
   "cell_type": "code",
   "execution_count": null,
   "metadata": {},
   "outputs": [],
   "source": [
    "generator = hierarchical_model_generator.HierarchicalModelGenerator()\n",
    "trial_length = 5\n",
    "trial_window = [0, trial_length]\n",
    "# Inject spike trains. (can introduce coupling effects)\n",
    "alpha = np.zeros([6,6]); alpha[-1,:4] = 15; alpha[-2,:4] = 15\n",
    "beta = np.zeros([6,6]); beta[-1,:4] = 0.01; beta[-2,:4] = 0.01\n",
    "\n",
    "model_name = 'poisson_background_gaussian_mixture_square_spike_driver' + \\\n",
    "        f'alpha{15}_beta{10}ms_sigma_100ms_trials{100}_nonrepeated'\n",
    "\n",
    "generator_par = { 'num_trials': 100, 'trial_length': trial_length, 'trial_window': trial_window,\n",
    "    'rho': 20, 'mu':20, 'baseline': 10, 'window': 'gaussian', 'sigma': 0.1, 'random_seed': 1, \n",
    "    'type': 'square', 'num_nodes': 6, 'alpha': alpha, 'beta': beta}\n",
    "\n",
    "spike_times = generator.generate_amarasingham_coupling_filter_spike_times_nonrepeated(generator_par, verbose=2)\n",
    "\n",
    "file_path = data_dir + model_name + f'_itr{itr}.pkl'\n",
    "util.save_variable(file_path, spike_times, verbose=False)"
   ]
  },
  {
   "cell_type": "markdown",
   "metadata": {},
   "source": [
    "### Multivariate only spike driver."
   ]
  },
  {
   "cell_type": "code",
   "execution_count": null,
   "metadata": {},
   "outputs": [],
   "source": [
    "generator = hierarchical_model_generator.HierarchicalModelGenerator()\n",
    "trial_length = 5\n",
    "trial_window = [0, trial_length]\n",
    "# Inject spike trains. (can introduce coupling effects)\n",
    "alpha = np.zeros([6,6]); alpha[-1,:4] = 15; alpha[-2,:4] = 15\n",
    "beta = np.zeros([6,6]); beta[-1,:4] = 0.01; beta[-2,:4] = 0.01\n",
    "\n",
    "model_name = 'nobackground_square_spike_driver' + \\\n",
    "        f'alpha{15}_beta{10}ms_sigma_100ms_trials{100}_nonrepeated'\n",
    "\n",
    "generator_par = { 'num_trials': 100, 'trial_length': trial_length, 'trial_window': trial_window,\n",
    "    'rho': 0, 'mu':0, 'baseline': 20, 'window': 'gaussian', 'sigma': 1, 'random_seed': 2, \n",
    "    'type': 'square', 'num_nodes': 6, 'alpha': alpha, 'beta': beta}\n",
    "\n",
    "spike_times = generator.generate_amarasingham_coupling_filter_spike_times_nonrepeated(generator_par, verbose=2)\n",
    "\n",
    "file_path = data_dir + model_name + f'_itr{itr}.pkl'\n",
    "util.save_variable(file_path, spike_times, verbose=False)"
   ]
  },
  {
   "cell_type": "markdown",
   "metadata": {},
   "source": [
    "# Model fitting"
   ]
  },
  {
   "cell_type": "markdown",
   "metadata": {},
   "source": [
    "### General fitting."
   ]
  },
  {
   "cell_type": "code",
   "execution_count": 22,
   "metadata": {
    "scrolled": true
   },
   "outputs": [
    {
     "name": "stdout",
     "output_type": "stream",
     "text": [
      "100%|█████████████████████████████████████████████████████████████| 100/100 [07:57<00:00,  4.78s/it]\n",
      "util.save_variable, save variable to:  D:/Brain_Network/Output/jitter/bivariate_coupling_model/poisson_background_gaussian_mixture_point_process_likelihood_regression/poisson_background_gaussian_mixture_square_alpha2_beta30ms_sigma_100ms_sinusoid_amp10_freq05_delay32div64_trials200_nonrepeated_kernel60ms_model_par_list.pkl\n",
      "100%|█████████████████████████████████████████████████████████████| 100/100 [08:08<00:00,  4.88s/it]\n",
      "util.save_variable, save variable to:  D:/Brain_Network/Output/jitter/bivariate_coupling_model/poisson_background_gaussian_mixture_point_process_likelihood_regression/poisson_background_gaussian_mixture_square_alpha2_beta30ms_sigma_100ms_sinusoid_amp10_freq05_delay32div64_trials200_nonrepeated_kernel80ms_model_par_list.pkl\n",
      "100%|█████████████████████████████████████████████████████████████| 100/100 [07:22<00:00,  4.43s/it]\n",
      "util.save_variable, save variable to:  D:/Brain_Network/Output/jitter/bivariate_coupling_model/poisson_background_gaussian_mixture_point_process_likelihood_regression/poisson_background_gaussian_mixture_square_alpha2_beta30ms_sigma_100ms_sinusoid_amp10_freq05_delay32div64_trials200_nonrepeated_kernel90ms_model_par_list.pkl\n",
      "100%|█████████████████████████████████████████████████████████████| 100/100 [07:15<00:00,  4.36s/it]\n",
      "util.save_variable, save variable to:  D:/Brain_Network/Output/jitter/bivariate_coupling_model/poisson_background_gaussian_mixture_point_process_likelihood_regression/poisson_background_gaussian_mixture_square_alpha2_beta30ms_sigma_100ms_sinusoid_amp10_freq05_delay32div64_trials200_nonrepeated_kernel100ms_model_par_list.pkl\n",
      "100%|█████████████████████████████████████████████████████████████| 100/100 [07:19<00:00,  4.40s/it]\n",
      "util.save_variable, save variable to:  D:/Brain_Network/Output/jitter/bivariate_coupling_model/poisson_background_gaussian_mixture_point_process_likelihood_regression/poisson_background_gaussian_mixture_square_alpha2_beta30ms_sigma_100ms_sinusoid_amp10_freq05_delay32div64_trials200_nonrepeated_kernel120ms_model_par_list.pkl\n",
      "100%|█████████████████████████████████████████████████████████████| 100/100 [07:16<00:00,  4.37s/it]\n",
      "util.save_variable, save variable to:  D:/Brain_Network/Output/jitter/bivariate_coupling_model/poisson_background_gaussian_mixture_point_process_likelihood_regression/poisson_background_gaussian_mixture_square_alpha2_beta30ms_sigma_100ms_sinusoid_amp10_freq05_delay32div64_trials200_nonrepeated_kernel125ms_model_par_list.pkl\n",
      "100%|█████████████████████████████████████████████████████████████| 100/100 [07:14<00:00,  4.34s/it]\n",
      "util.save_variable, save variable to:  D:/Brain_Network/Output/jitter/bivariate_coupling_model/poisson_background_gaussian_mixture_point_process_likelihood_regression/poisson_background_gaussian_mixture_square_alpha2_beta30ms_sigma_100ms_sinusoid_amp10_freq05_delay32div64_trials200_nonrepeated_kernel130ms_model_par_list.pkl\n",
      "100%|█████████████████████████████████████████████████████████████| 100/100 [07:18<00:00,  4.38s/it]\n",
      "util.save_variable, save variable to:  D:/Brain_Network/Output/jitter/bivariate_coupling_model/poisson_background_gaussian_mixture_point_process_likelihood_regression/poisson_background_gaussian_mixture_square_alpha2_beta30ms_sigma_100ms_sinusoid_amp10_freq05_delay32div64_trials200_nonrepeated_kernel140ms_model_par_list.pkl\n",
      "100%|█████████████████████████████████████████████████████████████| 100/100 [07:17<00:00,  4.37s/it]\n",
      "util.save_variable, save variable to:  D:/Brain_Network/Output/jitter/bivariate_coupling_model/poisson_background_gaussian_mixture_point_process_likelihood_regression/poisson_background_gaussian_mixture_square_alpha2_beta30ms_sigma_100ms_sinusoid_amp10_freq05_delay32div64_trials200_nonrepeated_kernel160ms_model_par_list.pkl\n",
      "100%|█████████████████████████████████████████████████████████████| 100/100 [07:14<00:00,  4.35s/it]\n",
      "util.save_variable, save variable to:  D:/Brain_Network/Output/jitter/bivariate_coupling_model/poisson_background_gaussian_mixture_point_process_likelihood_regression/poisson_background_gaussian_mixture_square_alpha2_beta30ms_sigma_100ms_sinusoid_amp10_freq05_delay32div64_trials200_nonrepeated_kernel180ms_model_par_list.pkl\n",
      "100%|█████████████████████████████████████████████████████████████| 100/100 [07:19<00:00,  4.40s/it]\n",
      "util.save_variable, save variable to:  D:/Brain_Network/Output/jitter/bivariate_coupling_model/poisson_background_gaussian_mixture_point_process_likelihood_regression/poisson_background_gaussian_mixture_square_alpha2_beta30ms_sigma_100ms_sinusoid_amp10_freq05_delay32div64_trials200_nonrepeated_kernel200ms_model_par_list.pkl\n",
      "100%|█████████████████████████████████████████████████████████████| 100/100 [00:24<00:00,  4.03it/s]\n",
      "util.save_variable, save variable to:  D:/Brain_Network/Output/jitter/bivariate_coupling_model/poisson_background_gaussian_mixture_point_process_likelihood_regression/poisson_background_gaussian_mixture_square_alpha2_beta30ms_sigma_100ms_sinusoid_amp10_freq05_delay32div64_trials200_nonrepeated_kernelnonems_model_par_list.pkl\n"
     ]
    }
   ],
   "source": [
    "jittertool = jitter.JitterTool()\n",
    "data_dir = project_dir + 'Output/jitter/bivariate_coupling_data/'\n",
    "model_dir = project_dir + 'Output/jitter/bivariate_coupling_model/poisson_background_gaussian_mixture_point_process_likelihood_regression/'\n",
    "\n",
    "# model_name = 'poisson_background_gaussian_mixture_square_alpha2_beta30ms_sigma100ms_trials200_nonrepeated'\n",
    "# model_name = 'poisson_background_gaussian_mixture_square_alphaN2_beta30ms_sigma100ms_trials200_nonrepeated'\n",
    "# model_name = 'poisson_background_gaussian_mixture_square_alpha0_beta30ms_sigma100ms_trials200_nonrepeated'\n",
    "# model_name = 'poisson_background_gaussian_mixture_square_alpha2_beta30ms_varying_sigma_80_140ms_trials200_nonrepeated'\n",
    "# model_name = 'poisson_background_gaussian_mixture_square_alpha2_beta30ms_sigma_100ms_sharerho20_nonsharerho10_trials200_nonrepeated'\n",
    "# model_name = 'poisson_background_gaussian_mixture_square_alpha2_beta30ms_sigma20ms_trials200_nonrepeated'\n",
    "# model_name = 'poisson_background_gaussian_mixture_square_alpha2_beta30ms_sigma5ms_trials200_nonrepeated'\n",
    "# model_name = 'poisson_background_laplacian_mixture_square_alpha2_beta30ms_sigma100ms_trials200_nonrepeated'\n",
    "# model_name = 'poisson_background_gaussian_mixture_square_alpha2_beta30ms_self_coupling_sigma100ms_trials200_nonrepeated'\n",
    "# model_name = 'poisson_background_gaussian_mixture_square_alpha2_beta30ms_self_coupling15ms_sigma100ms_trials200_nonrepeated'\n",
    "# model_name = 'poisson_background_gaussian_mixture_square_alpha2_beta30ms_source_self_coupling15ms_sigma100ms_trials200_nonrepeated'\n",
    "# model_name = 'poisson_background_gaussian_mixture_square_alpha2_beta30ms_source_selfcouplingN15_10ms_sigma100ms_trials200_nonrepeated'\n",
    "# model_name = 'poisson_background_gaussian_mixture_square_alpha2_beta30ms_target_selfcouplingN20_20ms_sigma100ms_trials200_nonrepeated'\n",
    "# model_name = 'poisson_background_gaussian_mixture_square_alpha2_beta30ms_source_selfcouplingN20_20ms_sigma100ms_trials200_nonrepeated'\n",
    "# model_name = 'poisson_background_gaussian_mixture_square_alpha2_beta30ms_target_selfcouplingN15_10ms_sigma100ms_trials200_nonrepeated'\n",
    "# model_name = 'poisson_background_gaussian_mixture_square_alpha2_beta30ms_selfcoupling_sourceN15_10ms_targetN15_10ms_sigma100ms_trials200_nonrepeated'\n",
    "# model_name = 'poisson_background_gaussian_mixture_square_alpha2_beta30ms_selfcoupling_sourceN15_10ms_targetN20_20ms_sigma100ms_trials200_nonrepeated'\n",
    "# model_name = 'poisson_background_gaussian_mixture_square_alpha2_beta30ms_sigma_100ms_delays20ms_trials200_nonrepeated'\n",
    "# model_name = 'poisson_background_gaussian_mixture_square_alpha2_beta30ms_sigma_100ms_delaysN20ms_trials200_nonrepeated'\n",
    "# model_name = 'poisson_background_gaussian_mixture_square_alpha2_beta30ms_sigma_100ms_inhomorho_10_0_trials200_nonrepeated'\n",
    "# model_name = 'poisson_background_gaussian_mixture_square_alpha2_beta30ms_sigma_100ms_inhomorho_target0_source10_trials200_nonrepeated'\n",
    "# model_name = 'poisson_background_gaussian_mixture_square_Source2Target_Target2Source_alpha2_beta30ms_sigma100ms_trials200_nonrepeated'\n",
    "# model_name = 'poisson_background_gaussian_mixture_square_Source2Target_alpha2_beta30ms_Target2Source_alpha01_sigma100ms_trials200_nonrepeated'\n",
    "# model_name = 'poisson_background_gaussian_mixture_square_alpha2_beta30ms_sigma_100ms_delay20div64_trials200'\n",
    "# model_name = 'poisson_background_gaussian_mixture_square_alpha2_beta30ms_sigma_100ms_delay16div64_trials200_nonrepeated'\n",
    "model_name = 'poisson_background_gaussian_mixture_square_alpha2_beta30ms_sigma_100ms_sinusoid_amp10_freq05_delay32div64_trials200_nonrepeated'\n",
    "# model_name = 'poisson_background_gaussian_mixture_square_alpha2_beta30ms_sigma_100ms_sinusoid_amp10_freq2_delay8div64_trials200_nonrepeated'\n",
    "\n",
    "\n",
    "file_path = data_dir + f'{model_name}_generator_par.pkl'\n",
    "generator_par = util.load_variable(file_path, verbose=False)\n",
    "trial_length = generator_par['trial_length']\n",
    "\n",
    "num_itrs = 100\n",
    "# kernel_widths = [5,20,30,80,100,130,160,200,250,500,800,'none']  # Fast search\n",
    "# kernel_widths = [2,5,8,10,15,20,25,30,40,60,80,90,100,120,125,130,140,160,180,200,250,300,500,800,1000,'none']  # Full\n",
    "kernel_widths = [60,80,90,100,120,125,130,140,160,180,200,'none']  # narrow to best model.\n",
    "# kernel_widths = [2,5,8,10,15,20,25]  # Sub-tasks\n",
    "\n",
    "for kernel_width in kernel_widths:\n",
    "    model_par_list = []\n",
    "    if kernel_width == 'none':\n",
    "        model_par = {'filter_type': 'square', 'filter_length': generator_par['beta'][0][1],\n",
    "                     'append_nuisance': ['const'],\n",
    "                     'const_offset': 0, 'learning_rate': 0.5, 'max_num_itrs': 500, 'epsilon'\n",
    "                     : 1e-5}\n",
    "    else:\n",
    "        model_par = {'filter_type': 'square', 'filter_length': generator_par['beta'][0][1],\n",
    "                     'append_nuisance': ['const', 'gaussian_kernel'], 'kernel_width': kernel_width/1000,\n",
    "                     'const_offset': 0, 'learning_rate': 0.5, 'max_num_itrs': 500, 'epsilon': 1e-5}\n",
    "\n",
    "    trange = tqdm(range(num_itrs), ncols=100, file=sys.stdout)\n",
    "    for itr in trange:\n",
    "        file_path = data_dir + f'{model_name}_itr{itr}.pkl'\n",
    "        spike_times = util.load_variable(file_path, verbose=False)\n",
    "        spike_times_x, spike_times_y = spike_times[1], spike_times[0]\n",
    "        model_par_hat = jittertool.bivariate_continuous_time_coupling_filter_regression(\n",
    "                spike_times_x, spike_times_y, [0,trial_length], model_par)\n",
    "        model_par_list.append(model_par_hat)\n",
    "\n",
    "    file_path = model_dir + f'{model_name}_kernel{kernel_width}ms_model_par_list.pkl'\n",
    "    util.save_variable(file_path, model_par_list)"
   ]
  },
  {
   "cell_type": "markdown",
   "metadata": {},
   "source": [
    "### For hypothesis testing. Less trials."
   ]
  },
  {
   "cell_type": "code",
   "execution_count": 53,
   "metadata": {},
   "outputs": [
    {
     "name": "stdout",
     "output_type": "stream",
     "text": [
      "100%|█████████████████████████████████████████████████████████████| 100/100 [00:31<00:00,  3.16it/s]\n",
      "util.save_variable, save variable to:  D:/Brain_Network/Output/jitter/bivariate_coupling_model/poisson_background_gaussian_mixture_point_process_likelihood_regression/poisson_background_gaussian_mixture_square_alpha1_beta30ms_sigma_100ms_trials10_nonrepeated_kernel125ms_model_par_list.pkl\n"
     ]
    }
   ],
   "source": [
    "jittertool = jitter.JitterTool()\n",
    "data_dir = project_dir + 'Output/jitter/bivariate_coupling_data/'\n",
    "model_dir = project_dir + 'Output/jitter/bivariate_coupling_model/poisson_background_gaussian_mixture_point_process_likelihood_regression/'\n",
    "# model_name = 'poisson_background_gaussian_mixture_square_alpha0_beta30ms_sigma100ms_trials200_nonrepeated'\n",
    "# save_name = 'poisson_background_gaussian_mixture_square_alpha0_beta30ms_sigma_100ms_trials10_nonrepeated'\n",
    "\n",
    "# model_name = 'poisson_background_gaussian_mixture_square_alpha2_beta30ms_sigma100ms_trials200_nonrepeated'\n",
    "# save_name = 'poisson_background_gaussian_mixture_square_alpha2_beta30ms_sigma_100ms_trials10_nonrepeated'\n",
    "\n",
    "# model_name = 'poisson_background_gaussian_mixture_square_alphaN2_beta30ms_sigma100ms_trials200_nonrepeated'\n",
    "# save_name = 'poisson_background_gaussian_mixture_square_alphaN2_beta30ms_sigma_100ms_trials10_nonrepeated'\n",
    "\n",
    "model_name = 'poisson_background_gaussian_mixture_square_alpha1_beta30ms_sigma100ms_trials10_nonrepeated'\n",
    "save_name = 'poisson_background_gaussian_mixture_square_alpha1_beta30ms_sigma_100ms_trials10_nonrepeated'\n",
    "\n",
    "file_path = data_dir + f'{model_name}_generator_par.pkl'\n",
    "generator_par = util.load_variable(file_path, verbose=False)\n",
    "trial_length = generator_par['trial_length']\n",
    "\n",
    "num_selected_trials = 10\n",
    "num_itrs = 100\n",
    "# kernel_widths = [2, 5, 8, 10, 15, 20, 25, 30, 40, 60, 80, 100, 120, 125, 130, 140, 160, 200, 250, 300, 500, 800, 1000, 'none']\n",
    "kernel_widths = [125]\n",
    "\n",
    "for kernel_width in kernel_widths:\n",
    "    model_par_list = []\n",
    "    if kernel_width == 'none':\n",
    "        model_par = {'filter_type': 'square', 'filter_length': generator_par['beta'][0][1],\n",
    "                     'append_nuisance': ['const'],\n",
    "                     'const_offset': 0, 'learning_rate': 0.5, 'max_num_itrs': 500, 'epsilon': 1e-5}\n",
    "    else:\n",
    "        model_par = {'filter_type': 'square', 'filter_length': generator_par['beta'][0][1],\n",
    "                     'append_nuisance': ['const', 'gaussian_kernel'], 'kernel_width': kernel_width/1000,\n",
    "                     'const_offset': 0, 'learning_rate': 0.5, 'max_num_itrs': 500, 'epsilon': 1e-5}\n",
    "\n",
    "    trange = tqdm(range(num_itrs), ncols=100, file=sys.stdout)\n",
    "    for itr in trange:\n",
    "        file_path = data_dir + f'{model_name}_itr{itr}.pkl'\n",
    "        spike_times = util.load_variable(file_path, verbose=False)\n",
    "        spike_times_x, spike_times_y = spike_times[1], spike_times[0]\n",
    "        model_par_hat = jittertool.bivariate_continuous_time_coupling_filter_regression(\n",
    "                spike_times_x[:num_selected_trials], spike_times_y[:num_selected_trials], [0,trial_length], model_par)\n",
    "        model_par_list.append(model_par_hat)\n",
    "\n",
    "    file_path = model_dir + f'{save_name}_kernel{kernel_width}ms_model_par_list.pkl'\n",
    "    util.save_variable(file_path, model_par_list)"
   ]
  },
  {
   "cell_type": "markdown",
   "metadata": {},
   "source": [
    "#### Jitter detection."
   ]
  },
  {
   "cell_type": "code",
   "execution_count": 83,
   "metadata": {
    "scrolled": true
   },
   "outputs": [
    {
     "name": "stdout",
     "output_type": "stream",
     "text": [
      "100%|███████████████████████████████████████████████████████████| 1000/1000 [00:15<00:00, 65.97it/s]\n"
     ]
    },
    {
     "data": {
      "image/png": "[encoded data removed]",
      "text/plain": [
       "<Figure size 360x216 with 1 Axes>"
      ]
     },
     "metadata": {
      "needs_background": "light"
     },
     "output_type": "display_data"
    },
    {
     "name": "stdout",
     "output_type": "stream",
     "text": [
      "0.009\n",
      "100%|███████████████████████████████████████████████████████████| 1000/1000 [00:14<00:00, 67.42it/s]\n"
     ]
    },
    {
     "data": {
      "image/png": "[encoded data removed]",
      "text/plain": [
       "<Figure size 360x216 with 1 Axes>"
      ]
     },
     "metadata": {
      "needs_background": "light"
     },
     "output_type": "display_data"
    },
    {
     "name": "stdout",
     "output_type": "stream",
     "text": [
      "0.021\n",
      "100%|███████████████████████████████████████████████████████████| 1000/1000 [00:14<00:00, 66.71it/s]\n"
     ]
    },
    {
     "data": {
      "image/png": "[encoded data removed]",
      "text/plain": [
       "<Figure size 360x216 with 1 Axes>"
      ]
     },
     "metadata": {
      "needs_background": "light"
     },
     "output_type": "display_data"
    },
    {
     "name": "stdout",
     "output_type": "stream",
     "text": [
      "0.0\n",
      "100%|█████████████████████████████████████████████████████████████████| 3/3 [00:45<00:00, 15.24s/it]\n"
     ]
    }
   ],
   "source": [
    "jittertool = jitter.JitterTool()\n",
    "data_dir = project_dir + 'Output/jitter/bivariate_coupling_data/'\n",
    "model_dir = project_dir + 'Output/jitter/bivariate_coupling_model/poisson_background_gaussian_mixture_jitter/'\n",
    "\n",
    "# model_name = 'poisson_background_gaussian_mixture_square_alpha0_beta30ms_sigma100ms_trials200_nonrepeated'\n",
    "# save_name = 'poisson_background_gaussian_mixture_square_alpha0_beta30ms_sigma_100ms_trials10_nonrepeated'\n",
    "\n",
    "model_name = 'poisson_background_gaussian_mixture_square_alpha2_beta30ms_sigma100ms_trials200_nonrepeated'\n",
    "save_name = 'poisson_background_gaussian_mixture_square_alpha2_beta30ms_sigma_100ms_trials10_nonrepeated'\n",
    "\n",
    "# model_name = 'poisson_background_gaussian_mixture_square_alphaN2_beta30ms_sigma100ms_trials200_nonrepeated'\n",
    "# save_name = 'poisson_background_gaussian_mixture_square_alphaN2_beta30ms_sigma_100ms_trials10_nonrepeated'\n",
    "\n",
    "# model_name = 'poisson_background_gaussian_mixture_square_alpha1_beta30ms_sigma100ms_trials10_nonrepeated'\n",
    "# save_name = 'poisson_background_gaussian_mixture_square_alpha1_beta30ms_sigma_100ms_trials10_nonrepeated'\n",
    "\n",
    "file_path = data_dir + f'{model_name}_generator_par.pkl'\n",
    "generator_par = util.load_variable(file_path, verbose=False)\n",
    "trial_length = generator_par['trial_length']\n",
    "\n",
    "num_selected_trials = 100\n",
    "num_itrs = 3\n",
    "spk_bin_width = 0.002\n",
    "lag_range = [0, 0.03]\n",
    "jitter_window_width = 100  # ms\n",
    "distribution_type='mc_sim'\n",
    "num_jitter = 1000\n",
    "\n",
    "model_par_list = []\n",
    "trange = tqdm(range(num_itrs), ncols=100, file=sys.stdout)\n",
    "for itr in trange:\n",
    "    file_path = data_dir + f'{model_name}_itr{itr}.pkl'\n",
    "    spike_times = util.load_variable(file_path, verbose=False)\n",
    "    spike_times_x, spike_times_y = spike_times[1], spike_times[0]\n",
    "    ret_vals = jittertool.cross_correlation_jitter(\n",
    "        spike_times_x[:num_selected_trials], spike_times_y[:num_selected_trials], spk_bin_width, trial_length,\n",
    "        lag_range, jitter_window_width/1000, distribution_type=distribution_type, num_jitter=num_jitter, \n",
    "        ci_alpha=0.05, verbose=1)\n",
    "    model_par_list.append(ret_vals)\n",
    "    print(ret_vals[-2])\n",
    "#     print(ret_vals[-1])\n",
    "\n",
    "# file_path = model_dir + f'{save_name}_jwindow{jitter_window_width}ms_model_par_list.pkl'\n",
    "# util.save_variable(file_path, model_par_list)"
   ]
  },
  {
   "cell_type": "markdown",
   "metadata": {},
   "source": [
    "### Unmatch filter length."
   ]
  },
  {
   "cell_type": "code",
   "execution_count": 24,
   "metadata": {},
   "outputs": [
    {
     "name": "stdout",
     "output_type": "stream",
     "text": [
      "100%|█████████████████████████████████████████████████████████████| 100/100 [09:04<00:00,  5.44s/it]\n",
      "util.save_variable, save variable to:  D:/Brain_Network/Output/jitter/bivariate_coupling_model/poisson_background_gaussian_mixture_point_process_likelihood_regression/poisson_background_gaussian_mixture_square_alpha2_beta30ms_fitbeta_20ms_sigma100ms_trials200_nonrepeated_kernel12ms_model_par_list.pkl\n"
     ]
    }
   ],
   "source": [
    "jittertool = jitter.JitterTool()\n",
    "data_dir = project_dir + 'Output/jitter/bivariate_coupling_data/'\n",
    "model_dir = project_dir + 'Output/jitter/bivariate_coupling_model/poisson_background_gaussian_mixture_point_process_likelihood_regression/'\n",
    "model_name = 'poisson_background_gaussian_mixture_square_alpha2_beta30ms_sigma100ms_trials200_nonrepeated'\n",
    "save_model_name = 'poisson_background_gaussian_mixture_square_alpha2_beta30ms_fitbeta_20ms_sigma100ms_trials200_nonrepeated'\n",
    "# save_model_name = 'poisson_background_gaussian_mixture_square_alpha2_beta30ms_fitbeta_40ms_sigma100ms_trials200_nonrepeated'\n",
    "filter_length = 0.02\n",
    "\n",
    "file_path = data_dir + f'{model_name}_generator_par.pkl'\n",
    "generator_par = util.load_variable(file_path, verbose=False)\n",
    "trial_length = generator_par['trial_length']\n",
    "num_itrs = 100\n",
    "# kernel_widths = [2, 5, 8, 10, 15, 20, 25, 30, 40, 60, 80, 100, 120, 125, 130, 140, 160, 200, 250, 300, 500, 800, 1000, 'none']\n",
    "kernel_widths = [12 ]\n",
    "\n",
    "for kernel_width in kernel_widths:\n",
    "    model_par_list = []\n",
    "    if kernel_width == 'none':\n",
    "        model_par = {'filter_type': 'square', 'filter_length': filter_length,\n",
    "                     'append_nuisance': ['const'],\n",
    "                     'const_offset': 0, 'learning_rate': 0.5, 'max_num_itrs': 500, 'epsilon': 1e-5}\n",
    "    else:\n",
    "        model_par = {'filter_type': 'square', 'filter_length': filter_length,\n",
    "                     'append_nuisance': ['const', 'gaussian_kernel'], 'kernel_width': kernel_width/1000,\n",
    "                     'const_offset': 0, 'learning_rate': 0.5, 'max_num_itrs': 500, 'epsilon': 1e-5}\n",
    "\n",
    "    trange = tqdm(range(num_itrs), ncols=100, file=sys.stdout)\n",
    "    for itr in trange:\n",
    "        file_path = data_dir + f'{model_name}_itr{itr}.pkl'\n",
    "        spike_times = util.load_variable(file_path, verbose=False)\n",
    "        spike_times_x, spike_times_y = spike_times[1], spike_times[0]\n",
    "        model_par_hat = jittertool.bivariate_continuous_time_coupling_filter_regression(\n",
    "                spike_times_x, spike_times_y, [0,trial_length], model_par)\n",
    "        model_par_list.append(model_par_hat)\n",
    "\n",
    "    file_path = model_dir + f'{save_model_name}_kernel{kernel_width}ms_model_par_list.pkl'\n",
    "    util.save_variable(file_path, model_par_list)"
   ]
  },
  {
   "cell_type": "markdown",
   "metadata": {},
   "source": [
    "### B-spline fitting."
   ]
  },
  {
   "cell_type": "code",
   "execution_count": 45,
   "metadata": {
    "scrolled": true
   },
   "outputs": [
    {
     "name": "stdout",
     "output_type": "stream",
     "text": [
      "100%|█████████████████████████████████████████████████████████████| 100/100 [14:22<00:00,  8.63s/it]\n",
      "util.save_variable, save variable to:  D:/Brain_Network/Output/jitter/bivariate_coupling_model/poisson_background_gaussian_mixture_point_process_likelihood_regression/poisson_background_gaussian_mixture_square_alpha2_beta30ms_sigma100ms_trials200_nonrepeated_kernel2ms_model_par_list.pkl\n",
      "100%|█████████████████████████████████████████████████████████████| 100/100 [16:29<00:00,  9.89s/it]\n",
      "util.save_variable, save variable to:  D:/Brain_Network/Output/jitter/bivariate_coupling_model/poisson_background_gaussian_mixture_point_process_likelihood_regression/poisson_background_gaussian_mixture_square_alpha2_beta30ms_sigma100ms_trials200_nonrepeated_kernel5ms_model_par_list.pkl\n",
      "100%|█████████████████████████████████████████████████████████████| 100/100 [16:19<00:00,  9.79s/it]\n",
      "util.save_variable, save variable to:  D:/Brain_Network/Output/jitter/bivariate_coupling_model/poisson_background_gaussian_mixture_point_process_likelihood_regression/poisson_background_gaussian_mixture_square_alpha2_beta30ms_sigma100ms_trials200_nonrepeated_kernel8ms_model_par_list.pkl\n",
      "100%|█████████████████████████████████████████████████████████████| 100/100 [16:31<00:00,  9.92s/it]\n",
      "util.save_variable, save variable to:  D:/Brain_Network/Output/jitter/bivariate_coupling_model/poisson_background_gaussian_mixture_point_process_likelihood_regression/poisson_background_gaussian_mixture_square_alpha2_beta30ms_sigma100ms_trials200_nonrepeated_kernel10ms_model_par_list.pkl\n",
      "100%|█████████████████████████████████████████████████████████████| 100/100 [16:39<00:00, 10.00s/it]\n",
      "util.save_variable, save variable to:  D:/Brain_Network/Output/jitter/bivariate_coupling_model/poisson_background_gaussian_mixture_point_process_likelihood_regression/poisson_background_gaussian_mixture_square_alpha2_beta30ms_sigma100ms_trials200_nonrepeated_kernel15ms_model_par_list.pkl\n",
      "100%|█████████████████████████████████████████████████████████████| 100/100 [16:42<00:00, 10.02s/it]\n",
      "util.save_variable, save variable to:  D:/Brain_Network/Output/jitter/bivariate_coupling_model/poisson_background_gaussian_mixture_point_process_likelihood_regression/poisson_background_gaussian_mixture_square_alpha2_beta30ms_sigma100ms_trials200_nonrepeated_kernel20ms_model_par_list.pkl\n",
      "100%|█████████████████████████████████████████████████████████████| 100/100 [16:38<00:00,  9.99s/it]\n",
      "util.save_variable, save variable to:  D:/Brain_Network/Output/jitter/bivariate_coupling_model/poisson_background_gaussian_mixture_point_process_likelihood_regression/poisson_background_gaussian_mixture_square_alpha2_beta30ms_sigma100ms_trials200_nonrepeated_kernel25ms_model_par_list.pkl\n",
      "100%|█████████████████████████████████████████████████████████████| 100/100 [16:36<00:00,  9.97s/it]\n",
      "util.save_variable, save variable to:  D:/Brain_Network/Output/jitter/bivariate_coupling_model/poisson_background_gaussian_mixture_point_process_likelihood_regression/poisson_background_gaussian_mixture_square_alpha2_beta30ms_sigma100ms_trials200_nonrepeated_kernel30ms_model_par_list.pkl\n",
      "100%|█████████████████████████████████████████████████████████████| 100/100 [16:38<00:00,  9.98s/it]\n",
      "util.save_variable, save variable to:  D:/Brain_Network/Output/jitter/bivariate_coupling_model/poisson_background_gaussian_mixture_point_process_likelihood_regression/poisson_background_gaussian_mixture_square_alpha2_beta30ms_sigma100ms_trials200_nonrepeated_kernel40ms_model_par_list.pkl\n",
      "100%|█████████████████████████████████████████████████████████████| 100/100 [16:42<00:00, 10.02s/it]\n",
      "util.save_variable, save variable to:  D:/Brain_Network/Output/jitter/bivariate_coupling_model/poisson_background_gaussian_mixture_point_process_likelihood_regression/poisson_background_gaussian_mixture_square_alpha2_beta30ms_sigma100ms_trials200_nonrepeated_kernel60ms_model_par_list.pkl\n",
      "100%|█████████████████████████████████████████████████████████████| 100/100 [16:53<00:00, 10.14s/it]\n",
      "util.save_variable, save variable to:  D:/Brain_Network/Output/jitter/bivariate_coupling_model/poisson_background_gaussian_mixture_point_process_likelihood_regression/poisson_background_gaussian_mixture_square_alpha2_beta30ms_sigma100ms_trials200_nonrepeated_kernel80ms_model_par_list.pkl\n",
      "100%|█████████████████████████████████████████████████████████████| 100/100 [15:57<00:00,  9.58s/it]\n",
      "util.save_variable, save variable to:  D:/Brain_Network/Output/jitter/bivariate_coupling_model/poisson_background_gaussian_mixture_point_process_likelihood_regression/poisson_background_gaussian_mixture_square_alpha2_beta30ms_sigma100ms_trials200_nonrepeated_kernel100ms_model_par_list.pkl\n",
      "100%|█████████████████████████████████████████████████████████████| 100/100 [15:58<00:00,  9.59s/it]\n",
      "util.save_variable, save variable to:  D:/Brain_Network/Output/jitter/bivariate_coupling_model/poisson_background_gaussian_mixture_point_process_likelihood_regression/poisson_background_gaussian_mixture_square_alpha2_beta30ms_sigma100ms_trials200_nonrepeated_kernel120ms_model_par_list.pkl\n"
     ]
    }
   ],
   "source": [
    "jittertool = jitter.JitterTool()\n",
    "data_dir = project_dir + 'Output/jitter/bivariate_coupling_data/'\n",
    "model_dir = project_dir + 'Output/jitter/bivariate_coupling_model/poisson_background_gaussian_mixture_point_process_likelihood_regression/'\n",
    "model_name = 'poisson_background_gaussian_mixture_square_alpha2_beta30ms_sigma100ms_trials200_nonrepeated'\n",
    "save_name = 'poisson_background_gaussian_mixture_square_alpha2_beta30ms_sigma100ms_trials200_nonrepeated_bspline'\n",
    "file_path = data_dir + f'{model_name}_generator_par.pkl'\n",
    "generator_par = util.load_variable(file_path, verbose=False)\n",
    "trial_length = generator_par['trial_length']\n",
    "\n",
    "num_itrs = 100\n",
    "# kernel_widths = [2, 5, 8, 10, 15, 20, 25, 30, 40, 60, 80, 100, 120, 125, 130, 140, 160, 200, 250, 300, 500, 800, 1000, 'none']\n",
    "kernel_widths = [2, 5, 8, 10, 15, 20, 25, 30, 40, 60, 80, 100, 120, ]\n",
    "\n",
    "\n",
    "for kernel_width in kernel_widths:\n",
    "    model_par_list = []\n",
    "    if kernel_width == 'none':\n",
    "        model_par = {'filter_type': 'bspline', 'num_knots': 9, 'knot_space_par': 1,\n",
    "                     'filter_length': generator_par['beta'][0][1]*1.5, 'num_tail_drop': 1,\n",
    "                     'append_nuisance': ['const'],\n",
    "                     'const_offset': 0, 'learning_rate': 0.5, 'max_num_itrs': 500, 'epsilon': 1e-5}\n",
    "    else:\n",
    "        model_par = {'filter_type': 'bspline', 'num_knots': 9, 'knot_space_par': 1,\n",
    "                     'filter_length': generator_par['beta'][0][1]*1.5, 'num_tail_drop': 1,\n",
    "                     'append_nuisance': ['const', 'gaussian_kernel'], 'kernel_width': kernel_width/1000,\n",
    "                     'const_offset': 0, 'learning_rate': 0.5, 'max_num_itrs': 500, 'epsilon': 1e-5}\n",
    "\n",
    "    trange = tqdm(range(num_itrs), ncols=100, file=sys.stdout)\n",
    "    for itr in trange:\n",
    "        file_path = data_dir + f'{model_name}_itr{itr}.pkl'\n",
    "        spike_times = util.load_variable(file_path, verbose=False)\n",
    "        spike_times_x, spike_times_y = spike_times[1], spike_times[0]\n",
    "        model_par_hat = jittertool.bivariate_continuous_time_coupling_filter_regression(\n",
    "                spike_times_x, spike_times_y, [0,trial_length], model_par)\n",
    "        model_par_list.append(model_par_hat)\n",
    "#         jittertool.plot_continuous_time_bivariate_regression_model_par(model_par_hat, ylim=[-2, 4], file_path=None)\n",
    "    file_path = model_dir + f'{save_name}_kernel{kernel_width}ms_model_par_list.pkl'\n",
    "    util.save_variable(file_path, model_par_list)"
   ]
  },
  {
   "cell_type": "code",
   "execution_count": null,
   "metadata": {},
   "outputs": [],
   "source": []
  },
  {
   "cell_type": "code",
   "execution_count": null,
   "metadata": {},
   "outputs": [],
   "source": []
  },
  {
   "cell_type": "code",
   "execution_count": null,
   "metadata": {},
   "outputs": [],
   "source": []
  },
  {
   "cell_type": "code",
   "execution_count": null,
   "metadata": {},
   "outputs": [],
   "source": []
  },
  {
   "cell_type": "code",
   "execution_count": null,
   "metadata": {},
   "outputs": [],
   "source": []
  }
 ],
 "metadata": {
  "kernelspec": {
   "display_name": "Python 3 (ipykernel)",
   "language": "python",
   "name": "python3"
  },
  "language_info": {
   "codemirror_mode": {
    "name": "ipython",
    "version": 3
   },
   "file_extension": ".py",
   "mimetype": "text/x-python",
   "name": "python",
   "nbconvert_exporter": "python",
   "pygments_lexer": "ipython3",
   "version": "3.7.10"
  },
  "nbdime-conflicts": {
   "local_diff": [
    {
     "key": "kernelspec",
     "op": "add",
     "value": {
      "display_name": "allensdk",
      "language": "python",
      "name": "allensdk"
     }
    },
    {
     "key": "language_info",
     "op": "add",
     "value": {
      "codemirror_mode": {
       "name": "ipython",
       "version": 3
      },
      "file_extension": ".py",
      "mimetype": "text/x-python",
      "name": "python",
      "nbconvert_exporter": "python",
      "pygments_lexer": "ipython3",
      "version": "3.6.8"
     }
    }
   ],
   "remote_diff": [
    {
     "key": "kernelspec",
     "op": "add",
     "value": {
      "display_name": "py37",
      "language": "python",
      "name": "py37"
     }
    },
    {
     "key": "language_info",
     "op": "add",
     "value": {
      "codemirror_mode": {
       "name": "ipython",
       "version": 3
      },
      "file_extension": ".py",
      "mimetype": "text/x-python",
      "name": "python",
      "nbconvert_exporter": "python",
      "pygments_lexer": "ipython3",
      "version": "3.7.3"
     }
    }
   ]
  }
 },
 "nbformat": 4,
 "nbformat_minor": 2
}
