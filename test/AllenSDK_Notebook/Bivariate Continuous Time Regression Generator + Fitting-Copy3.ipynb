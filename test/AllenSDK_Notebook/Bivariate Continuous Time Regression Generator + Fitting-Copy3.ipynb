{
 "cells": [
  {
   "cell_type": "code",
   "execution_count": 1,
   "metadata": {
    "scrolled": true
   },
   "outputs": [
    {
     "data": {
      "text/html": [
       "<style>.container { width:80% !important; }</style>"
      ],
      "text/plain": [
       "<IPython.core.display.HTML object>"
      ]
     },
     "metadata": {},
     "output_type": "display_data"
    }
   ],
   "source": [
    "%load_ext autoreload\n",
    "%autoreload 2\n",
    "\n",
    "from IPython.core.display import display, HTML\n",
    "display(HTML(\"<style>.container { width:80% !important; }</style>\"))\n",
    "import numpy as np; np.set_printoptions(linewidth=110);\n",
    "import pandas as pd\n",
    "# tell pandas to show all columns when we display a DataFrame\n",
    "pd.set_option(\"display.max_columns\", None)\n",
    "\n",
    "# first we need a bit of import boilerplate\n",
    "import os\n",
    "import sys\n",
    "from sys import platform\n",
    "if platform == 'win32':\n",
    "    sys.path.append('D:/Brain_Network/Code/')\n",
    "    manifest_path = 'D:/Brain_Network/Data/Allen_Institute_Dataset/manifest.json'\n",
    "    project_dir = 'D:/Brain_Network/'\n",
    "elif platform =='darwin':\n",
    "    sys.path.append('/Users/chenyu/Workspace/Brain_Network/Code/')\n",
    "    manifest_path = '/Users/chenyu/Workspace/Brain_Network/Data/Allen_Institute_Dataset/manifest.json'\n",
    "    project_dir = '/Users/chenyu/Workspace/Brain_Network/'\n",
    "elif platform == 'linux':\n",
    "    sys.path.append('/home/yuchen/workspace/Brain_Network/Code/')\n",
    "    manifest_path = '/home/yuchen/workspace/Brain_Network/Data/Allen_Institute_Dataset/manifest.json'\n",
    "    project_dir = '/home/yuchen/workspace/Brain_Network/'\n",
    "else:\n",
    "    print('Add new computer system settings.')\n",
    "\n",
    "import matplotlib.pyplot as plt\n",
    "import random\n",
    "from tqdm import tqdm\n",
    "from tqdm.notebook import trange\n",
    "import time\n",
    "import itertools\n",
    "\n",
    "from allensdk.brain_observatory.ecephys.ecephys_project_cache import EcephysProjectCache\n",
    "from allensdk.brain_observatory.ecephys.ecephys_session import EcephysSession\n",
    "\n",
    "import data_visualizer\n",
    "import data_model\n",
    "import fine_time_coupling_model\n",
    "import smoothing_spline\n",
    "import util\n",
    "import hierarchical_sampling_model\n",
    "import hierarchical_model_generator\n",
    "import jitter"
   ]
  },
  {
   "cell_type": "markdown",
   "metadata": {},
   "source": [
    "# Data generator"
   ]
  },
  {
   "cell_type": "code",
   "execution_count": 2,
   "metadata": {},
   "outputs": [
    {
     "name": "stdout",
     "output_type": "stream",
     "text": [
      "util.save_variable, save variable to:  D:/Brain_Network/Output/jitter/bivariate_coupling_data/poisson_background_gaussian_mixture_square_full_model_beta30ms_sigma100ms_trials200_nonrepeated_generator_par.pkl\n",
      "100%|███████████████████████████████████████████████████████████████| 25/25 [13:06<00:00, 31.45s/it]\n"
     ]
    }
   ],
   "source": [
    "generator = hierarchical_model_generator.HierarchicalModelGenerator()\n",
    "data_dir = project_dir + 'Output/jitter/bivariate_coupling_data/'\n",
    "trial_length = 5\n",
    "trial_window = [0, trial_length]\n",
    "num_trials = 200\n",
    "beta = 30; beta_str = '30'  # ms\n",
    "model_name = f'poisson_background_gaussian_mixture_square_full_model_beta{beta_str}ms_sigma100ms_trials{num_trials}_nonrepeated'\n",
    "\n",
    "generator_par = {'num_trials': num_trials, 'trial_length': trial_length, 'trial_window': trial_window,\n",
    "    'rho': 30, 'mu': 30, 'baseline': 10, 'window': 'gaussian', 'sigma': 0.1, 'random_seed': None,\n",
    "    'type': 'square', 'alpha': [[0.5, -2.0], [2.0, 0.5]], 'beta': [[beta/1000, beta/1000], [beta/1000, beta/1000]], 'num_nodes': 2}\n",
    "file_path = data_dir + model_name + '_generator_par.pkl'\n",
    "util.save_variable(file_path, generator_par)\n",
    "\n",
    "for itr in tqdm(range(75, 100), ncols=100, file=sys.stdout):\n",
    "    generator_par['random_seed'] = itr\n",
    "    spike_times = generator.generate_amarasingham_coupling_filter_spike_times_nonrepeated(generator_par, verbose=0)\n",
    "    file_path = data_dir + model_name + f'_itr{itr}.pkl'\n",
    "    util.save_variable(file_path, spike_times, verbose=False)"
   ]
  },
  {
   "cell_type": "code",
   "execution_count": null,
   "metadata": {},
   "outputs": [],
   "source": []
  },
  {
   "cell_type": "markdown",
   "metadata": {},
   "source": [
    "# Model fitting"
   ]
  },
  {
   "cell_type": "code",
   "execution_count": 5,
   "metadata": {},
   "outputs": [
    {
     "name": "stdout",
     "output_type": "stream",
     "text": [
      "100%|█████████████████████████████████████████████████████████████| 100/100 [12:54<00:00,  7.75s/it]\n",
      "util.save_variable, save variable to:  D:/Brain_Network/Output/jitter/bivariate_coupling_model/poisson_background_gaussian_mixture_point_process_likelihood_regression/poisson_background_gaussian_mixture_square_alpha2_beta30ms_sigma12ms_trials200_nonrepeated_kernel180ms_model_par_list.pkl\n",
      "100%|█████████████████████████████████████████████████████████████| 100/100 [12:39<00:00,  7.60s/it]\n",
      "util.save_variable, save variable to:  D:/Brain_Network/Output/jitter/bivariate_coupling_model/poisson_background_gaussian_mixture_point_process_likelihood_regression/poisson_background_gaussian_mixture_square_alpha2_beta30ms_sigma12ms_trials200_nonrepeated_kernel200ms_model_par_list.pkl\n",
      "100%|█████████████████████████████████████████████████████████████| 100/100 [12:28<00:00,  7.48s/it]\n",
      "util.save_variable, save variable to:  D:/Brain_Network/Output/jitter/bivariate_coupling_model/poisson_background_gaussian_mixture_point_process_likelihood_regression/poisson_background_gaussian_mixture_square_alpha2_beta30ms_sigma12ms_trials200_nonrepeated_kernel250ms_model_par_list.pkl\n",
      "100%|█████████████████████████████████████████████████████████████| 100/100 [11:39<00:00,  6.99s/it]\n",
      "util.save_variable, save variable to:  D:/Brain_Network/Output/jitter/bivariate_coupling_model/poisson_background_gaussian_mixture_point_process_likelihood_regression/poisson_background_gaussian_mixture_square_alpha2_beta30ms_sigma12ms_trials200_nonrepeated_kernel300ms_model_par_list.pkl\n"
     ]
    }
   ],
   "source": [
    "jittertool = jitter.JitterTool()\n",
    "data_dir = project_dir + 'Output/jitter/bivariate_coupling_data/'\n",
    "model_dir = project_dir + 'Output/jitter/bivariate_coupling_model/poisson_background_gaussian_mixture_point_process_likelihood_regression/'\n",
    "\n",
    "# model_name = 'poisson_background_gaussian_mixture_square_alpha2_beta30ms_sigma100ms_trials200_nonrepeated'\n",
    "# model_name = 'poisson_background_gaussian_mixture_square_alphaN2_beta30ms_sigma100ms_trials200_nonrepeated'\n",
    "# model_name = 'poisson_background_gaussian_mixture_square_alpha0_beta30ms_sigma100ms_trials200_nonrepeated'\n",
    "# model_name = 'poisson_background_gaussian_mixture_square_alpha2_beta30ms_varying_sigma_80_140ms_trials200_nonrepeated'\n",
    "# model_name = 'poisson_background_gaussian_mixture_square_alpha2_beta30ms_sigma_100ms_sharerho20_nonsharerho10_trials200_nonrepeated'\n",
    "# model_name = 'poisson_background_gaussian_mixture_square_alpha2_beta30ms_sigma20ms_trials200_nonrepeated'\n",
    "# model_name = 'poisson_background_gaussian_mixture_square_alpha2_beta30ms_sigma5ms_trials200_nonrepeated'\n",
    "# model_name = 'poisson_background_laplacian_mixture_square_alpha2_beta30ms_sigma100ms_trials200_nonrepeated'\n",
    "# model_name = 'poisson_background_gaussian_mixture_square_alpha2_beta30ms_self_coupling_sigma100ms_trials200_nonrepeated'\n",
    "# model_name = 'poisson_background_gaussian_mixture_square_alpha2_beta30ms_self_coupling15ms_sigma100ms_trials200_nonrepeated'\n",
    "# model_name = 'poisson_background_gaussian_mixture_square_alpha2_beta30ms_source_self_coupling15ms_sigma100ms_trials200_nonrepeated'\n",
    "# model_name = 'poisson_background_gaussian_mixture_square_alpha2_beta30ms_source_selfcouplingN15_10ms_sigma100ms_trials200_nonrepeated'\n",
    "# model_name = 'poisson_background_gaussian_mixture_square_alpha2_beta30ms_target_selfcouplingN20_20ms_sigma100ms_trials200_nonrepeated'\n",
    "# model_name = 'poisson_background_gaussian_mixture_square_alpha2_beta30ms_source_selfcouplingN20_20ms_sigma100ms_trials200_nonrepeated'\n",
    "# model_name = 'poisson_background_gaussian_mixture_square_alpha2_beta30ms_target_selfcouplingN15_10ms_sigma100ms_trials200_nonrepeated'\n",
    "# model_name = 'poisson_background_gaussian_mixture_square_alpha2_beta30ms_selfcoupling_sourceN15_10ms_targetN15_10ms_sigma100ms_trials200_nonrepeated'\n",
    "# model_name = 'poisson_background_gaussian_mixture_square_alpha2_beta30ms_selfcoupling_sourceN15_10ms_targetN20_20ms_sigma100ms_trials200_nonrepeated'\n",
    "# model_name = 'poisson_background_gaussian_mixture_square_alpha2_beta30ms_sigma_100ms_delays20ms_trials200_nonrepeated'\n",
    "# model_name = 'poisson_background_gaussian_mixture_square_alpha2_beta30ms_sigma_100ms_delaysN20ms_trials200_nonrepeated'\n",
    "# model_name = 'poisson_background_gaussian_mixture_square_alpha2_beta30ms_sigma_100ms_inhomorho_10_0_trials200_nonrepeated'\n",
    "# model_name = 'poisson_background_gaussian_mixture_square_alpha2_beta30ms_sigma_100ms_inhomorho_target0_source10_trials200_nonrepeated'\n",
    "# model_name = 'poisson_background_gaussian_mixture_square_Source2Target_Target2Source_alpha2_beta30ms_sigma100ms_trials200_nonrepeated'\n",
    "# model_name = 'poisson_background_gaussian_mixture_square_Source2Target_alpha2_beta30ms_Target2Source_alpha01_sigma100ms_trials200_nonrepeated'\n",
    "# model_name = 'poisson_background_gaussian_mixture_square_alpha2_beta30ms_sigma_100ms_delay10div64_trials200'\n",
    "model_name = 'poisson_background_gaussian_mixture_square_alpha2_beta30ms_sigma12ms_trials200_nonrepeated'\n",
    "\n",
    "\n",
    "file_path = data_dir + f'{model_name}_generator_par.pkl'\n",
    "generator_par = util.load_variable(file_path, verbose=False)\n",
    "trial_length = generator_par['trial_length']\n",
    "\n",
    "num_itrs = 100\n",
    "# kernel_widths = [5,20,30,80,100,130,160,200,250,500,800,'none']  # Fast search\n",
    "# kernel_widths = [2,5,8,10,15,20,25,30,40,60,80,90,100,120,125,130,140,160,180,200,250,300,500,800,1000,'none']  # Full\n",
    "# kernel_widths = [60,80,90,100,120,125,130,140,160,180,200,'none']  # narrow to best model.\n",
    "kernel_widths = [180,200,250,300,]\n",
    "\n",
    "for kernel_width in kernel_widths:\n",
    "    model_par_list = []\n",
    "    if kernel_width == 'none':\n",
    "        model_par = {'filter_type': 'square', 'filter_length': generator_par['beta'][0][1],\n",
    "                     'append_nuisance': ['const'],\n",
    "                     'const_offset': 0, 'learning_rate': 0.5, 'max_num_itrs': 500, 'epsilon': 1e-5}\n",
    "    else:\n",
    "        model_par = {'filter_type': 'square', 'filter_length': generator_par['beta'][0][1],\n",
    "                     'append_nuisance': ['const', 'gaussian_kernel'], 'kernel_width': kernel_width/1000,\n",
    "                     'const_offset': 0, 'learning_rate': 0.5, 'max_num_itrs': 500, 'epsilon': 1e-5}\n",
    "\n",
    "    trange = tqdm(range(num_itrs), ncols=100, file=sys.stdout)\n",
    "    for itr in trange:\n",
    "        file_path = data_dir + f'{model_name}_itr{itr}.pkl'\n",
    "        spike_times = util.load_variable(file_path, verbose=False)\n",
    "        spike_times_x, spike_times_y = spike_times[1], spike_times[0]\n",
    "        model_par_hat = jittertool.bivariate_continuous_time_coupling_filter_regression(\n",
    "                spike_times_x, spike_times_y, [0,trial_length], model_par)\n",
    "        model_par_list.append(model_par_hat)\n",
    "\n",
    "    file_path = model_dir + f'{model_name}_kernel{kernel_width}ms_model_par_list.pkl'\n",
    "    util.save_variable(file_path, model_par_list)\n",
    "\n"
   ]
  },
  {
   "cell_type": "code",
   "execution_count": null,
   "metadata": {},
   "outputs": [],
   "source": []
  },
  {
   "cell_type": "code",
   "execution_count": null,
   "metadata": {},
   "outputs": [],
   "source": []
  }
 ],
 "metadata": {
  "kernelspec": {
   "display_name": "Python 3 (ipykernel)",
   "language": "python",
   "name": "python3"
  },
  "language_info": {
   "codemirror_mode": {
    "name": "ipython",
    "version": 3
   },
   "file_extension": ".py",
   "mimetype": "text/x-python",
   "name": "python",
   "nbconvert_exporter": "python",
   "pygments_lexer": "ipython3",
   "version": "3.7.10"
  },
  "nbdime-conflicts": {
   "local_diff": [
    {
     "key": "kernelspec",
     "op": "add",
     "value": {
      "display_name": "allensdk",
      "language": "python",
      "name": "allensdk"
     }
    },
    {
     "key": "language_info",
     "op": "add",
     "value": {
      "codemirror_mode": {
       "name": "ipython",
       "version": 3
      },
      "file_extension": ".py",
      "mimetype": "text/x-python",
      "name": "python",
      "nbconvert_exporter": "python",
      "pygments_lexer": "ipython3",
      "version": "3.6.8"
     }
    }
   ],
   "remote_diff": [
    {
     "key": "kernelspec",
     "op": "add",
     "value": {
      "display_name": "py37",
      "language": "python",
      "name": "py37"
     }
    },
    {
     "key": "language_info",
     "op": "add",
     "value": {
      "codemirror_mode": {
       "name": "ipython",
       "version": 3
      },
      "file_extension": ".py",
      "mimetype": "text/x-python",
      "name": "python",
      "nbconvert_exporter": "python",
      "pygments_lexer": "ipython3",
      "version": "3.7.3"
     }
    }
   ]
  }
 },
 "nbformat": 4,
 "nbformat_minor": 2
}
