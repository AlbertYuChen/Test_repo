{
 "cells": [
  {
   "cell_type": "code",
   "execution_count": 1,
   "metadata": {},
   "outputs": [
    {
     "name": "stdout",
     "output_type": "stream",
     "text": [
      "110\n",
      "Download time: 291600\n"
     ]
    }
   ],
   "source": [
    "%load_ext autoreload\n",
    "%autoreload 2\n",
    "\n",
    "# first we need a bit of import boilerplate\n",
    "import os\n",
    "import sys\n",
    "from sys import platform\n",
    "if platform == 'win32':\n",
    "    sys.path.append('D:/Brain_Network/Code/')\n",
    "    manifest_path = 'D:\\Brain_Network\\Data\\Allen_Institute_Dataset/manifest.json'\n",
    "elif platform=='darwin':\n",
    "    sys.path.append('/Users/chenyu/Workspace/Brain_Network/Code/')\n",
    "    manifest_path = '/Users/chenyu/Workspace/Brain_Network/Data/Allen_Institute_Dataset/manifest.json'\n",
    "else:\n",
    "    print('Add new computer system settings.')\n",
    "\n",
    "import numpy as np; np.set_printoptions(linewidth=110); print(np.get_printoptions()['linewidth'])\n",
    "import pandas as pd\n",
    "import matplotlib.pyplot as plt\n",
    "# import seaborn\n",
    "import scipy\n",
    "import scipy.io as sio\n",
    "from scipy.ndimage.filters import gaussian_filter\n",
    "import seaborn\n",
    "\n",
    "from allensdk.brain_observatory.ecephys.ecephys_project_cache import EcephysProjectCache\n",
    "from allensdk.brain_observatory.ecephys.ecephys_session import (\n",
    "    EcephysSession, \n",
    "    removed_unused_stimulus_presentation_columns\n",
    ")\n",
    "from allensdk.brain_observatory.ecephys.visualization import (\n",
    "    plot_mean_waveforms, \n",
    "    plot_spike_counts, \n",
    "    raster_plot)\n",
    "from allensdk.brain_observatory.visualization import plot_running_speed\n",
    "\n",
    "# tell pandas to show all columns when we display a DataFrame\n",
    "pd.set_option(\"display.max_columns\", None)\n",
    "\n",
    "import data_visualizer\n",
    "import data_model\n",
    "import hierarchical_model\n",
    "import util\n",
    "import smoothing_spline"
   ]
  },
  {
   "cell_type": "code",
   "execution_count": 2,
   "metadata": {},
   "outputs": [
    {
     "name": "stdout",
     "output_type": "stream",
     "text": [
      "Download time: 291600\n",
      "['brain_observatory_1.1', 'functional_connectivity']\n"
     ]
    }
   ],
   "source": [
    "cache = EcephysProjectCache.from_warehouse(manifest=manifest_path)\n",
    "print(cache.get_all_session_types())\n"
   ]
  },
  {
   "cell_type": "code",
   "execution_count": 3,
   "metadata": {},
   "outputs": [],
   "source": [
    "session_id = 791319847  # 715093703 791319847 754829445 771990200\n",
    "session = cache.get_session_data(session_id)\n"
   ]
  },
  {
   "cell_type": "markdown",
   "metadata": {},
   "source": [
    "# Extract data from multiple brain areas"
   ]
  },
  {
   "cell_type": "markdown",
   "metadata": {},
   "source": [
    "# Hierarchical model inference"
   ]
  },
  {
   "cell_type": "code",
   "execution_count": 204,
   "metadata": {},
   "outputs": [],
   "source": [
    "# model = data_model.AllenInstituteDataModel(session)\n",
    "model = hierarchical_model.HierarchicalModel(session)"
   ]
  },
  {
   "cell_type": "markdown",
   "metadata": {},
   "source": [
    "### Select neurons by regions"
   ]
  },
  {
   "cell_type": "code",
   "execution_count": 5,
   "metadata": {
    "scrolled": true
   },
   "outputs": [
    {
     "data": {
      "text/plain": [
       "(136, 89)"
      ]
     },
     "metadata": {},
     "output_type": "display_data"
    },
    {
     "data": {
      "text/plain": [
       "(93, 89)"
      ]
     },
     "metadata": {},
     "output_type": "display_data"
    },
    {
     "data": {
      "text/plain": [
       "(43, 89)"
      ]
     },
     "metadata": {},
     "output_type": "display_data"
    }
   ],
   "source": [
    "probes = ['probeC', 'probeE']\n",
    "selected_units = session.units[\n",
    "    session.units['ecephys_structure_acronym'].isin(util.VISUAL_AREA) & \n",
    "    session.units['probe_description'].isin(probes)]\n",
    "\n",
    "display(selected_units.shape)\n",
    "display(selected_units[selected_units['probe_description'] == probes[0]].shape)\n",
    "display(selected_units[selected_units['probe_description'] == probes[1]].shape)\n",
    "\n",
    "# display(selected_units.head())\n",
    "# display(selected_units.tail())"
   ]
  },
  {
   "cell_type": "markdown",
   "metadata": {},
   "source": [
    "### Select conditions"
   ]
  },
  {
   "cell_type": "code",
   "execution_count": 6,
   "metadata": {},
   "outputs": [
    {
     "name": "stdout",
     "output_type": "stream",
     "text": [
      "num trials: 15\n"
     ]
    }
   ],
   "source": [
    "orientation = [270,]  # 'null'\n",
    "temporal_frequency = [8.,]  # 'null'\n",
    "\n",
    "stimulus_table = session.get_stimulus_table(['drifting_gratings'])\n",
    "trials_indices = stimulus_table[\n",
    "    stimulus_table['orientation'].isin(orientation) & \n",
    "    stimulus_table['temporal_frequency'].isin(temporal_frequency)].index.values\n",
    "# trials_indices = stimulus_table[\n",
    "#     (stimulus_table['orientation']==orientation)].index.values\n",
    "\n",
    "print('num trials:', len(trials_indices))"
   ]
  },
  {
   "cell_type": "markdown",
   "metadata": {},
   "source": [
    "### Get spike trains."
   ]
  },
  {
   "cell_type": "code",
   "execution_count": 7,
   "metadata": {},
   "outputs": [
    {
     "data": {
      "text/plain": [
       "(136, 15)"
      ]
     },
     "metadata": {},
     "output_type": "display_data"
    },
    {
     "data": {
      "text/plain": [
       "(1050,)"
      ]
     },
     "metadata": {},
     "output_type": "display_data"
    },
    {
     "data": {
      "text/plain": [
       "(1050,)"
      ]
     },
     "metadata": {},
     "output_type": "display_data"
    }
   ],
   "source": [
    "trial_time_window=[0.0, 2.1]\n",
    "dt=0.002\n",
    "spike_train_time_line = np.arange(trial_time_window[0], trial_time_window[1], dt)\n",
    "\n",
    "spike_trains = model.get_trial_metric_per_unit_per_trial(\n",
    "        stimulus_presentation_ids=trials_indices,\n",
    "        unit_ids=selected_units.index.values,\n",
    "        trial_time_window=trial_time_window,\n",
    "        metric_type='spike_trains',\n",
    "        dt=dt)\n",
    "\n",
    "display(spike_trains.shape)\n",
    "display(spike_trains.iloc[0, 0].shape)\n",
    "display(spike_train_time_line.shape)\n",
    "\n",
    "# display(spike_trains.head())"
   ]
  },
  {
   "cell_type": "code",
   "execution_count": null,
   "metadata": {},
   "outputs": [],
   "source": []
  },
  {
   "cell_type": "markdown",
   "metadata": {},
   "source": [
    "# Initial step: group using spike count."
   ]
  },
  {
   "cell_type": "code",
   "execution_count": 235,
   "metadata": {},
   "outputs": [],
   "source": [
    "model = hierarchical_model.HierarchicalModel(session)\n",
    "model.initial_step(selected_units, trials_indices, trial_time_window, probes)\n"
   ]
  },
  {
   "cell_type": "markdown",
   "metadata": {},
   "source": [
    "# EM loops"
   ]
  },
  {
   "cell_type": "code",
   "execution_count": 236,
   "metadata": {
    "scrolled": true
   },
   "outputs": [
    {
     "name": "stdout",
     "output_type": "stream",
     "text": [
      "0\n",
      "1\n",
      "2\n",
      "3\n",
      "4\n",
      "5\n",
      "6\n",
      "7\n"
     ]
    }
   ],
   "source": [
    "verbose = False\n",
    "num_iterations = 8\n",
    "log_likeli = np.zeros(num_iterations)\n",
    "\n",
    "for itr in range(num_iterations):\n",
    "    model.update_f_local_pop_gac(spike_trains, spike_train_time_line, probes, trials_indices, verbose=verbose)\n",
    "\n",
    "    model.update_f_cross_pop_ac(spike_trains, spike_train_time_line, probes, trials_indices, verbose=verbose)\n",
    "\n",
    "    model.update_q_arc(spike_trains, spike_train_time_line, probes, trials_indices, verbose=False)\n",
    "\n",
    "    model.update_mu_simga(verbose=verbose)\n",
    "\n",
    "    model.update_z_ngac(spike_trains, probes, trials_indices, verbose=verbose)\n",
    "    \n",
    "    model.update_p_ac(probes, verbose=verbose)\n",
    "    \n",
    "    ll = model.complete_log_likelihood(spike_trains, spike_train_time_line, trials_indices, probes)\n",
    "    log_likeli[itr] = ll\n",
    "    print(itr)\n",
    "#     model.plot_f_pop(spike_train_time_line)\n",
    "#     print(model.p_gac)\n"
   ]
  },
  {
   "cell_type": "code",
   "execution_count": 239,
   "metadata": {},
   "outputs": [
    {
     "data": {
      "image/png": "[encoded data removed]",
      "text/plain": [
       "<Figure size 432x288 with 1 Axes>"
      ]
     },
     "metadata": {
      "needs_background": "light"
     },
     "output_type": "display_data"
    },
    {
     "name": "stdout",
     "output_type": "stream",
     "text": [
      "[[[0.43010753]\n",
      "  [0.30232558]]\n",
      "\n",
      " [[0.03225806]\n",
      "  [0.13953488]]\n",
      "\n",
      " [[0.53763441]\n",
      "  [0.55813953]]]\n",
      "[[0.14676668 0.08551626]\n",
      " [0.08551626 0.09615968]]\n",
      "0.7198441436841662\n"
     ]
    },
    {
     "data": {
      "image/png": "[encoded data removed]",
      "text/plain": [
       "<Figure size 864x576 with 6 Axes>"
      ]
     },
     "metadata": {
      "needs_background": "light"
     },
     "output_type": "display_data"
    }
   ],
   "source": [
    "plt.figure()\n",
    "plt.plot(log_likeli)\n",
    "plt.show()\n",
    "\n",
    "print(model.p_gac)\n",
    "print(model.sigma_cross_pop)\n",
    "print(model.rho)\n",
    "# print(model.q_arc)\n",
    "\n",
    "model.plot_f_pop(spike_train_time_line)\n"
   ]
  },
  {
   "cell_type": "markdown",
   "metadata": {},
   "source": [
    "# Verify results"
   ]
  },
  {
   "cell_type": "code",
   "execution_count": null,
   "metadata": {},
   "outputs": [],
   "source": []
  },
  {
   "cell_type": "code",
   "execution_count": 234,
   "metadata": {},
   "outputs": [
    {
     "data": {
      "text/plain": [
       "(136, 15)"
      ]
     },
     "metadata": {},
     "output_type": "display_data"
    }
   ],
   "source": [
    "spike_counts = model.get_trial_metric_per_unit_per_trial(\n",
    "        stimulus_presentation_ids=trials_indices,\n",
    "        unit_ids=selected_units.index.values,\n",
    "        trial_time_window=[0.0, 2.1],\n",
    "        metric_type='count')\n",
    "display(spike_counts.shape)\n",
    "# display(spike_counts.head())\n"
   ]
  },
  {
   "cell_type": "code",
   "execution_count": 258,
   "metadata": {
    "scrolled": false
   },
   "outputs": [
    {
     "name": "stdout",
     "output_type": "stream",
     "text": [
      "units\n",
      "951068576    0.447411\n",
      "951068883    0.413164\n",
      "951069037    0.403573\n",
      "951068589    0.366378\n",
      "951068630   -0.366141\n",
      "951068906   -0.178301\n",
      "951068915    0.025471\n",
      "951068922    0.283095\n",
      "951068940    0.050272\n",
      "951069014    0.196239\n",
      "951069141    0.344930\n",
      "951069154    0.378738\n",
      "951070237    0.092862\n",
      "dtype: float64\n"
     ]
    },
    {
     "data": {
      "image/png": "[encoded data removed]",
      "text/plain": [
       "<Figure size 864x720 with 7 Axes>"
      ]
     },
     "metadata": {
      "needs_background": "light"
     },
     "output_type": "display_data"
    }
   ],
   "source": [
    "sub_group_df = model.sub_group_df\n",
    "gA0 = sub_group_df[\n",
    "      (sub_group_df['probe_from'] == 'probeC') &\n",
    "      (sub_group_df['probe_to'] == 'probeE') &\n",
    "      (sub_group_df['group_id'] == 0)].index.values\n",
    "gA1 = sub_group_df[\n",
    "      (sub_group_df['probe_from'] == 'probeC') &\n",
    "      (sub_group_df['probe_to'] == 'probeE') &\n",
    "      (sub_group_df['group_id'] == 1)].index.values\n",
    "gA2 = sub_group_df[\n",
    "      (sub_group_df['probe_from'] == 'probeC') &\n",
    "      (sub_group_df['probe_to'] == 'probeE') &\n",
    "      (sub_group_df['group_id'] == 2)].index.values\n",
    "\n",
    "gB0 = sub_group_df[\n",
    "      (sub_group_df['probe_from'] == 'probeE') &\n",
    "      (sub_group_df['probe_to'] == 'probeC') &\n",
    "      (sub_group_df['group_id'] == 0)].index.values\n",
    "gB1 = sub_group_df[\n",
    "      (sub_group_df['probe_from'] == 'probeE') &\n",
    "      (sub_group_df['probe_to'] == 'probeC') &\n",
    "      (sub_group_df['group_id'] == 1)].index.values\n",
    "gB2 = sub_group_df[\n",
    "      (sub_group_df['probe_from'] == 'probeE') &\n",
    "      (sub_group_df['probe_to'] == 'probeC') &\n",
    "      (sub_group_df['group_id'] == 2)].index.values\n",
    "\n",
    "corr_matrix = spike_counts.T.corr()\n",
    "x_ = np.hstack([gA0, gA1, gA2])\n",
    "y_ = np.hstack([gB0, gB1, gB2])\n",
    "sub_mat = corr_matrix.loc[x_, y_]\n",
    "sub_mat = corr_matrix.loc[gA0, gB0]\n",
    "# print(sub_mat.mean())\n",
    "\n",
    "# visualizer = data_visualizer.AllenInstituteDataVisualizer(session)\n",
    "# visualizer.plot_matrix_by_areas(sub_mat)"
   ]
  },
  {
   "cell_type": "code",
   "execution_count": null,
   "metadata": {},
   "outputs": [],
   "source": []
  },
  {
   "cell_type": "code",
   "execution_count": null,
   "metadata": {},
   "outputs": [],
   "source": []
  },
  {
   "cell_type": "code",
   "execution_count": null,
   "metadata": {},
   "outputs": [],
   "source": []
  },
  {
   "cell_type": "code",
   "execution_count": null,
   "metadata": {},
   "outputs": [],
   "source": []
  },
  {
   "cell_type": "code",
   "execution_count": null,
   "metadata": {},
   "outputs": [],
   "source": []
  },
  {
   "cell_type": "code",
   "execution_count": null,
   "metadata": {},
   "outputs": [],
   "source": []
  }
 ],
 "metadata": {
  "kernelspec": {
   "display_name": "Python36",
   "language": "python",
   "name": "python36"
  },
  "language_info": {
   "codemirror_mode": {
    "name": "ipython",
    "version": 3
   },
   "file_extension": ".py",
   "mimetype": "text/x-python",
   "name": "python",
   "nbconvert_exporter": "python",
   "pygments_lexer": "ipython3",
   "version": "3.6.10"
  },
  "nbdime-conflicts": {
   "local_diff": [
    {
     "key": "kernelspec",
     "op": "add",
     "value": {
      "display_name": "allensdk",
      "language": "python",
      "name": "allensdk"
     }
    },
    {
     "key": "language_info",
     "op": "add",
     "value": {
      "codemirror_mode": {
       "name": "ipython",
       "version": 3
      },
      "file_extension": ".py",
      "mimetype": "text/x-python",
      "name": "python",
      "nbconvert_exporter": "python",
      "pygments_lexer": "ipython3",
      "version": "3.6.8"
     }
    }
   ],
   "remote_diff": [
    {
     "key": "kernelspec",
     "op": "add",
     "value": {
      "display_name": "py37",
      "language": "python",
      "name": "py37"
     }
    },
    {
     "key": "language_info",
     "op": "add",
     "value": {
      "codemirror_mode": {
       "name": "ipython",
       "version": 3
      },
      "file_extension": ".py",
      "mimetype": "text/x-python",
      "name": "python",
      "nbconvert_exporter": "python",
      "pygments_lexer": "ipython3",
      "version": "3.7.3"
     }
    }
   ]
  }
 },
 "nbformat": 4,
 "nbformat_minor": 2
}
