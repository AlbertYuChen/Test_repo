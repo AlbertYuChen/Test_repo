{
 "cells": [
  {
   "cell_type": "markdown",
   "metadata": {},
   "source": [
    "# Table of contents\n",
    "\n",
    "[Trial-wise cluster, joint-trial filter fit](#joint_filter)\n",
    "\n",
    "[Trial-to-trial corr analysis](#t2t_analysis)"
   ]
  },
  {
   "cell_type": "code",
   "execution_count": 3,
   "metadata": {
    "scrolled": true
   },
   "outputs": [
    {
     "name": "stdout",
     "output_type": "stream",
     "text": [
      "The autoreload extension is already loaded. To reload it, use:\n",
      "  %reload_ext autoreload\n"
     ]
    },
    {
     "data": {
      "text/html": [
       "<style>.container { width:80% !important; }</style>"
      ],
      "text/plain": [
       "<IPython.core.display.HTML object>"
      ]
     },
     "metadata": {},
     "output_type": "display_data"
    }
   ],
   "source": [
    "%load_ext autoreload\n",
    "%autoreload 2\n",
    "\n",
    "from IPython.core.display import display, HTML\n",
    "display(HTML(\"<style>.container { width:80% !important; }</style>\"))\n",
    "import numpy as np; np.set_printoptions(linewidth=110);\n",
    "import pandas as pd\n",
    "# tell pandas to show all columns when we display a DataFrame\n",
    "pd.set_option(\"display.max_columns\", None)\n",
    "\n",
    "# first we need a bit of import boilerplate\n",
    "import os\n",
    "import sys\n",
    "from sys import platform\n",
    "if platform == 'win32':\n",
    "    sys.path.append('D:/Brain_Network/Code/')\n",
    "    manifest_path = 'D:/Brain_Network/Data/Allen_Institute_Dataset/manifest.json'\n",
    "    project_dir = 'D:/Brain_Network/'\n",
    "elif platform =='darwin':\n",
    "    sys.path.append('/Users/chenyu/Workspace/Brain_Network/Code/')\n",
    "    manifest_path = '/Users/chenyu/Workspace/Brain_Network/Data/Allen_Institute_Dataset/manifest.json'\n",
    "    project_dir = '/Users/chenyu/Workspace/Brain_Network/'\n",
    "elif platform == 'linux':\n",
    "    sys.path.append('/home/yuchen/workspace/Brain_Network/Code/')\n",
    "    manifest_path = '/home/yuchen/workspace/Brain_Network/Data/Allen_Institute_Dataset/manifest.json'\n",
    "    project_dir = '/home/yuchen/workspace/Brain_Network/'\n",
    "else:\n",
    "    print('Add new computer system settings.')\n",
    "\n",
    "import matplotlib.pyplot as plt\n",
    "import networkx as nx\n",
    "import seaborn\n",
    "import scipy\n",
    "import scipy.io as sio\n",
    "from scipy.ndimage.filters import gaussian_filter\n",
    "import seaborn\n",
    "from tqdm import tqdm\n",
    "from tqdm.notebook import trange\n",
    "import time\n",
    "import joblib\n",
    "from joblib import Parallel, delayed\n",
    "\n",
    "from allensdk.brain_observatory.ecephys.ecephys_project_cache import EcephysProjectCache\n",
    "from allensdk.brain_observatory.ecephys.ecephys_session import EcephysSession\n",
    "\n",
    "import data_visualizer\n",
    "import data_model\n",
    "import fine_time_coupling_model\n",
    "import smoothing_spline\n",
    "import util\n",
    "import hierarchical_sampling_model\n",
    "import hierarchical_model_generator\n",
    "import jitter\n"
   ]
  },
  {
   "cell_type": "code",
   "execution_count": 4,
   "metadata": {},
   "outputs": [
    {
     "name": "stdout",
     "output_type": "stream",
     "text": [
      "allensdk 2.2.0\n",
      "pandas 1.1.1\n",
      "h5py 2.8.0\n",
      "pynwb 1.4.0\n",
      "hdmf 2.2.0\n",
      "matplotlib 3.4.1\n"
     ]
    }
   ],
   "source": [
    "import allensdk\n",
    "import pandas\n",
    "import h5py\n",
    "import pynwb\n",
    "import hdmf\n",
    "import matplotlib\n",
    "print('allensdk', allensdk.__version__)\n",
    "print('pandas', pandas.__version__)\n",
    "print('h5py', h5py.__version__)\n",
    "print('pynwb', pynwb.__version__)\n",
    "print('hdmf', hdmf.__version__)\n",
    "print('matplotlib', matplotlib.__version__)"
   ]
  },
  {
   "cell_type": "markdown",
   "metadata": {},
   "source": [
    "# Neuropixels data. <a name='data'></a>"
   ]
  },
  {
   "cell_type": "code",
   "execution_count": 5,
   "metadata": {
    "scrolled": true
   },
   "outputs": [
    {
     "name": "stdout",
     "output_type": "stream",
     "text": [
      "Download time: 720000\n"
     ]
    }
   ],
   "source": [
    "cache = EcephysProjectCache.from_warehouse(manifest=manifest_path)"
   ]
  },
  {
   "cell_type": "code",
   "execution_count": 6,
   "metadata": {},
   "outputs": [],
   "source": [
    "session_id = 798911424  #  791319847 798911424  799864342\n",
    "session = cache.get_session_data(session_id)"
   ]
  },
  {
   "cell_type": "markdown",
   "metadata": {},
   "source": [
    "### Neurons Selection"
   ]
  },
  {
   "cell_type": "code",
   "execution_count": 7,
   "metadata": {},
   "outputs": [
    {
     "data": {
      "text/plain": [
       "probeC    94\n",
       "probeE    89\n",
       "probeD    78\n",
       "Name: probe_description, dtype: int64"
      ]
     },
     "metadata": {},
     "output_type": "display_data"
    },
    {
     "data": {
      "text/plain": [
       "261"
      ]
     },
     "metadata": {},
     "output_type": "display_data"
    }
   ],
   "source": [
    "probes = ['probeC', 'probeD', 'probeE'] # ['probeC', 'probeE']\n",
    "selected_units = session.units[\n",
    "    session.units['ecephys_structure_acronym'].isin(util.VISUAL_AREA) &\n",
    "    session.units['probe_description'].isin(probes)]\n",
    "display(selected_units['probe_description'].value_counts())\n",
    "display(selected_units['probe_description'].count())"
   ]
  },
  {
   "cell_type": "markdown",
   "metadata": {},
   "source": [
    "#### Fine Time Coupling Model"
   ]
  },
  {
   "cell_type": "code",
   "execution_count": 8,
   "metadata": {},
   "outputs": [],
   "source": [
    "model = fine_time_coupling_model.FineTimeCouplingModel(session)\n",
    "jittertool = jitter.JitterTool()"
   ]
  },
  {
   "cell_type": "markdown",
   "metadata": {},
   "source": [
    "## Trials Selection"
   ]
  },
  {
   "cell_type": "code",
   "execution_count": 9,
   "metadata": {
    "scrolled": false
   },
   "outputs": [
    {
     "name": "stdout",
     "output_type": "stream",
     "text": [
      "0  246 temp freq [15.0] orient [0.0] contrast [0.8] [ 3798  3852  3947  3966  3979 31016 31026 31160 31186 49206 49245 49346 49372 49409 49412]\n",
      "1  249 temp freq [8.0] orient [90.0] contrast [0.8] [ 3801  3810  3828  3911  3964 31002 31054 31055 31178 49257 49317 49341 49365 49395 49430]\n",
      "2  256 temp freq [15.0] orient [270.0] contrast [0.8] [ 3811  3845  3942  3958 31003 31056 31112 31126 31137 31169 31191 49260 49305 49344 49381]\n",
      "3  257 temp freq [8.0] orient [315.0] contrast [0.8] [ 3813  3822  3870  3876  3932  3936  3987 31022 31027 31075 31171 49215 49217 49368 49370]\n",
      "4  258 temp freq [4.0] orient [225.0] contrast [0.8] [ 3814  3895  3922  3967  3986  3997 31043 31151 31152 31175 31196 49251 49282 49340 49414]\n",
      "5  260 temp freq [4.0] orient [315.0] contrast [0.8] [ 3816  3888  3930  3943  3948 31028 31033 31190 49263 49266 49320 49364 49410 49411 49428]\n",
      "6  261 temp freq [8.0] orient [135.0] contrast [0.8] [ 3817  3826  3875  3928 31020 31053 31129 31161 31162 49230 49254 49268 49275 49313 49407]\n",
      "7  263 temp freq [15.0] orient [90.0] contrast [0.8] [ 3819  3906  3917  3959 31015 31024 31098 31170 49209 49223 49262 49378 49416 49424 49426]\n",
      "8  265 temp freq [4.0] orient [135.0] contrast [0.8] [ 3824  3848  3880  3920  3953  3955  3960  3968  3973  3992 31039 31093 49232 49339 49383]\n",
      "9  267 temp freq [15.0] orient [225.0] contrast [0.8] [ 3829  3831  3859  3881  3886 31048 31076 31078 31147 49220 49253 49264 49353 49354 49391]\n",
      "10  268 temp freq [4.0] orient [45.0] contrast [0.8] [ 3833  3882  3884  3899  3951  3988 31040 31086 31089 31116 31149 31197 49255 49277 49327]\n",
      "11  270 temp freq [8.0] orient [45.0] contrast [0.8] [ 3835  3898  3914  3934 31062 31104 31114 49250 49274 49281 49286 49304 49322 49415 49422]\n",
      "12  274 temp freq [4.0] orient [90.0] contrast [0.8] [ 3844  3862  3897  3996 31096 31148 31156 31167 31184 31185 49349 49361 49367 49400 49420]\n",
      "13  275 temp freq [8.0] orient [0.0] contrast [0.8] [ 3855  3860  3938 31004 31072 31081 31105 31135 31200 49231 49299 49316 49389 49399 49427]\n",
      "14  278 temp freq [8.0] orient [225.0] contrast [0.8] [ 3866  3878  3925  3937  3984 31142 31159 31174 31194 49290 49307 49374 49390 49401 49418]\n",
      "15  280 temp freq [8.0] orient [270.0] contrast [0.8] [ 3872  3900  3905  3946  3956  3980 31021 31046 31064 31080 31173 31182 31188 49211 49225]\n",
      "16  281 temp freq [15.0] orient [315.0] contrast [0.8] [ 3889  3921  3944  3981  3989 31014 31035 31066 31071 31166 31172 49323 49380 49394 49431]\n",
      "17  284 temp freq [15.0] orient [45.0] contrast [0.8] [ 3912  3924  3995 31034 31047 31051 31058 31079 31085 31125 31133 31179 49247 49301 49335]\n",
      "18  286 temp freq [8.0] orient [180.0] contrast [0.8] [ 3933  3949  3962 31154 31165 31177 31187 31199 49226 49228 49240 49280 49328 49332 49405]\n",
      "total num trials: 285\n"
     ]
    }
   ],
   "source": [
    "condition_ids = [275, 246, 268, 270, 284, 274, 249, 263, 265, 261, 286, 258, 278, 267, 280, 256, 260, 257, 281]\n",
    "stimulus_table = session.get_stimulus_table(['drifting_gratings'])\n",
    "trials_df = stimulus_table[stimulus_table['stimulus_condition_id'].isin(condition_ids)]\n",
    "all_trials_indices = trials_df.index.values\n",
    "trials_groups = trials_df.groupby('stimulus_condition_id')\n",
    "all_condition_ids = list(trials_groups.groups.keys())\n",
    "model.print_conditions(trials_groups)"
   ]
  },
  {
   "cell_type": "markdown",
   "metadata": {},
   "source": [
    "## Spike Trains"
   ]
  },
  {
   "cell_type": "code",
   "execution_count": 10,
   "metadata": {},
   "outputs": [],
   "source": [
    "trial_window = [0.4, 2.0]\n",
    "\n",
    "spike_times = model.get_trial_metric_per_unit_per_trial(\n",
    "        stimulus_presentation_ids=all_trials_indices,\n",
    "        unit_ids=selected_units.index.values,\n",
    "        trial_time_window=trial_window,\n",
    "        metric_type='spike_times')\n"
   ]
  },
  {
   "cell_type": "code",
   "execution_count": 11,
   "metadata": {},
   "outputs": [
    {
     "data": {
      "text/plain": [
       "(261, 285)"
      ]
     },
     "metadata": {},
     "output_type": "display_data"
    }
   ],
   "source": [
    "# display(spike_trains.shape)\n",
    "# display(spike_trains.iloc[0,0].shape)\n",
    "display(spike_times.shape)\n",
    "# display(spike_times.head())"
   ]
  },
  {
   "cell_type": "markdown",
   "metadata": {},
   "source": [
    "# Multivariate regression."
   ]
  },
  {
   "cell_type": "code",
   "execution_count": 12,
   "metadata": {},
   "outputs": [
    {
     "name": "stdout",
     "output_type": "stream",
     "text": [
      "conditions: [(0, 246), (1, 249), (2, 256), (3, 257), (4, 258), (5, 260), (6, 261), (7, 263), (8, 265), (9, 267), (10, 268), (11, 270), (12, 274), (13, 275), (14, 278), (15, 280), (16, 281), (17, 284), (18, 286)]\n"
     ]
    }
   ],
   "source": [
    "model = fine_time_coupling_model.FineTimeCouplingModel(session)\n",
    "model.initial_step(None, spike_times, selected_units, trials_groups, trial_window,\n",
    "                   probes=['probeC', 'probeD', 'probeE'], num_areas=3, verbose=False)"
   ]
  },
  {
   "cell_type": "code",
   "execution_count": 13,
   "metadata": {},
   "outputs": [
    {
     "name": "stdout",
     "output_type": "stream",
     "text": [
      "[ 3798  3801  3810  3811  3813  3814  3816  3817  3819  3822  3824  3826  3828  3829  3831  3833  3835  3844\n",
      "  3845  3848  3852  3855  3859  3860  3862  3866  3870  3872  3875  3876  3878  3880  3881  3882  3884  3886\n",
      "  3888  3889  3895  3897  3898  3899  3900  3905  3906  3911  3912  3914  3917  3920  3921  3922  3924  3925\n",
      "  3928  3930  3932  3933  3934  3936  3937  3938  3942  3943  3944  3946  3947  3948  3949  3951  3953  3955\n",
      "  3956  3958  3959  3960  3962  3964  3966  3967  3968  3973  3979  3980  3981  3984  3986  3987  3988  3989\n",
      "  3992  3995  3996  3997 31002 31003 31004 31014 31015 31016 31020 31021 31022 31024 31026 31027 31028 31033\n",
      " 31034 31035 31039 31040 31043 31046 31047 31048 31051 31053 31054 31055 31056 31058 31062 31064 31066 31071\n",
      " 31072 31075 31076 31078 31079 31080 31081 31085 31086 31089 31093 31096 31098 31104 31105 31112 31114 31116\n",
      " 31125 31126 31129 31133 31135 31137 31142 31147 31148 31149 31151 31152 31154 31156 31159 31160 31161 31162\n",
      " 31165 31166 31167 31169 31170 31171 31172 31173 31174 31175 31177 31178 31179 31182 31184 31185 31186 31187\n",
      " 31188 31190 31191 31194 31196 31197 31199 31200 49206 49209 49211 49215 49217 49220 49223 49225 49226 49228\n",
      " 49230 49231 49232 49240 49245 49247 49250 49251 49253 49254 49255 49257 49260 49262 49263 49264 49266 49268\n",
      " 49274 49275 49277 49280 49281 49282 49286 49290 49299 49301 49304 49305 49307 49313 49316 49317 49320 49322\n",
      " 49323 49327 49328 49332 49335 49339 49340 49341 49344 49346 49349 49353 49354 49361 49364 49365 49367 49368\n",
      " 49370 49372 49374 49378 49380 49381 49383 49389 49390 49391 49394 49395 49399 49400 49401 49405 49407 49409\n",
      " 49410 49411 49412 49414 49415 49416 49418 49420 49422 49424 49426 49427 49428 49430 49431]\n"
     ]
    }
   ],
   "source": [
    "select_condition_ids = [275, 246, 268, 270, 284, 274, 249, 263, 265, 261, 286, 258, 278, 267, 280, 256, 260, 257, 281]\n",
    "stimulus_table = session.get_stimulus_table(['drifting_gratings'])\n",
    "trials_df = stimulus_table[stimulus_table['stimulus_condition_id'].isin(select_condition_ids)]\n",
    "selected_trial_ids = trials_df.index.values\n",
    "print(selected_trial_ids)"
   ]
  },
  {
   "cell_type": "code",
   "execution_count": 14,
   "metadata": {},
   "outputs": [
    {
     "data": {
      "image/png": "[encoded data removed]",
      "text/plain": [
       "<Figure size 1080x144 with 3 Axes>"
      ]
     },
     "metadata": {
      "needs_background": "light"
     },
     "output_type": "display_data"
    },
    {
     "name": "stdout",
     "output_type": "stream",
     "text": [
      "num_pairs: 672\n",
      "num_pairs: 648\n"
     ]
    }
   ],
   "source": [
    "active_firing_rate_quantile_threshold = 0.7\n",
    "active_units = model.get_active_units(active_firing_rate_quantile_threshold, group_type='probe', verbose=True)\n",
    "\n",
    "probe_pairs = [('probeC', 'probeD')]\n",
    "neuron_pairs = model.construct_unit_pairs(active_units, pair_type='between_probe', probe_pairs=probe_pairs, verbose=True)\n",
    "filter_membership_CD = model.init_filter_membership(neuron_pairs, trial_ids=selected_trial_ids)\n",
    "\n",
    "probe_pairs = [('probeD', 'probeE')]\n",
    "neuron_pairs = model.construct_unit_pairs(active_units, pair_type='between_probe', probe_pairs=probe_pairs, verbose=True)\n",
    "filter_membership_DE = model.init_filter_membership(neuron_pairs, trial_ids=selected_trial_ids)\n",
    "\n",
    "group_portion = np.array([0.2, 0.2, 0.2, 0.2, 0.2])"
   ]
  },
  {
   "cell_type": "markdown",
   "metadata": {},
   "source": [
    "### Load individual cluster, joint filter fit.\n",
    "If we need the membership refit to match the original, the filter model should be one iteration behine."
   ]
  },
  {
   "cell_type": "code",
   "execution_count": 15,
   "metadata": {},
   "outputs": [
    {
     "data": {
      "image/png": "[encoded data removed]",
      "text/plain": [
       "<Figure size 1260x144 with 5 Axes>"
      ]
     },
     "metadata": {
      "needs_background": "light"
     },
     "output_type": "display_data"
    }
   ],
   "source": [
    "model_path = project_dir + 'Output/jitter/coupling_filter/CD_DE_condition19_joint_fit_fixed_portion_11122021/group_model_pars_joint_itr29_20211113_102001.pkl'\n",
    "group_model_pars = util.load_variable(model_path)\n",
    "file_path = project_dir + 'Output/fig/CD_DE_group_filters.pdf'\n",
    "model.plot_multiple_filters(group_model_pars, ylim=[-7, 20], num_rows_cols=[1,5], file_path=None)"
   ]
  },
  {
   "cell_type": "code",
   "execution_count": 16,
   "metadata": {},
   "outputs": [
    {
     "name": "stdout",
     "output_type": "stream",
     "text": [
      "filter_membership.shape (672, 285)\n",
      "membership cnt [(0.0, 44863), (1.0, 39015), (2.0, 49584), (3.0, 28984), (4.0, 29074)]\n",
      "filter_membership.shape (648, 285)\n",
      "membership cnt [(0.0, 34628), (1.0, 36494), (2.0, 50835), (3.0, 30905), (4.0, 31818)]\n",
      "filter_membership.shape (1320, 285)\n",
      "membership cnt [(0.0, 79491), (1.0, 75509), (2.0, 100419), (3.0, 59889), (4.0, 60892)]\n"
     ]
    }
   ],
   "source": [
    "model_dir = project_dir + 'Output/jitter/coupling_filter/CD_DE_condition19_joint_fit_fixed_portion_11122021/'  # 0.20,0.20,0.20,0.20,0.20\n",
    "# model_dir = project_dir + 'Output/jitter/coupling_filter/CD_DE_condition19_joint_fit_fixed_portion_uneven_11132021/'  # 0.15,0.25,0.20,0.20,0.20\n",
    "# model_dir = project_dir + 'Output/jitter/coupling_filter/CD_DE_condition19_joint_fit_fixed_portion_uneven_11142021/'  # 0.25,0.15,0.25,0.20,0.20\n",
    "# model_dir = project_dir + 'Output/jitter/coupling_filter/CD_DE_condition19_joint_fit_fixed_portion_uneven_11142021_1923/'  # 0.15,0.20,0.25,0.20,0.20\n",
    "\n",
    "file_path = model_dir + 'filter_membership_CD_itr29_20211113_100406.pkl'\n",
    "filter_membership_CD = util.load_variable(file_path)\n",
    "file_path = model_dir + 'filter_membership_DE_itr29_20211113_100406.pkl'\n",
    "filter_membership_DE = util.load_variable(file_path)\n",
    "\n",
    "filter_membership_joint = filter_membership_CD.append(filter_membership_DE)\n",
    "_=model.filter_membership_statistics(filter_membership_CD, verbose=True)\n",
    "_=model.filter_membership_statistics(filter_membership_DE, verbose=True)\n",
    "_=model.filter_membership_statistics(filter_membership_joint, verbose=True)"
   ]
  },
  {
   "cell_type": "markdown",
   "metadata": {},
   "source": [
    "# Multivariate regression V1 --> LM --> AL"
   ]
  },
  {
   "cell_type": "code",
   "execution_count": 17,
   "metadata": {},
   "outputs": [
    {
     "name": "stdout",
     "output_type": "stream",
     "text": [
      "V1 28 [951102476 951102646 951102686 951102962 951102820 951103019 951103093 951103163 951103150 951103361\n",
      " 951103290 951103262 951103238 951103332 951103380 951103498 951103488 951103530 951103632 951103624\n",
      " 951103508 951103652 951103958 951103704 951103877 951104031 951103918 951104192]\n",
      "LM 24\n",
      "AL 27 [951112464 951112448 951112431 951112416 951112479 951112638 951112590 951112712 951112786 951112780\n",
      " 951112768 951112845 951112906 951112937 951112992 951113075 951113056 951113039 951113191 951113175\n",
      " 951113141 951113271 951113211 951113240 951113464 951113514 951113717]\n"
     ]
    }
   ],
   "source": [
    "v1_neurons = active_units[active_units['probe_description']=='probeC'].index.values\n",
    "lm_neurons = active_units[active_units['probe_description']=='probeD'].index.values\n",
    "al_neurons = active_units[active_units['probe_description']=='probeE'].index.values\n",
    "\n",
    "print('V1', len(v1_neurons), v1_neurons)\n",
    "print('LM', len(lm_neurons), )\n",
    "print('AL', len(al_neurons), al_neurons)"
   ]
  },
  {
   "cell_type": "code",
   "execution_count": 18,
   "metadata": {
    "scrolled": true
   },
   "outputs": [
    {
     "name": "stdout",
     "output_type": "stream",
     "text": [
      "0it [00:00, ?it/s]util.save_variable, save variable to:  D:/Brain_Network/Output/jitter/coupling_filter/CD_DE_condition19_joint_fit_fixed_portion_11122021_multi_reg/univariate_filtertype2_951102476_951112464.pkl\n",
      "util.save_variable, save variable to:  D:/Brain_Network/Output/jitter/coupling_filter/CD_DE_condition19_joint_fit_fixed_portion_11122021_multi_reg/multivariate_filtertype2_951102476_951112464.pkl\n",
      "1it [00:07,  7.91s/it]util.save_variable, save variable to:  D:/Brain_Network/Output/jitter/coupling_filter/CD_DE_condition19_joint_fit_fixed_portion_11122021_multi_reg/univariate_filtertype2_951102476_951112448.pkl\n",
      "util.save_variable, save variable to:  D:/Brain_Network/Output/jitter/coupling_filter/CD_DE_condition19_joint_fit_fixed_portion_11122021_multi_reg/multivariate_filtertype2_951102476_951112448.pkl\n",
      "2it [00:15,  7.95s/it]"
     ]
    },
    {
     "name": "stderr",
     "output_type": "stream",
     "text": [
      "D:/Brain_Network/Code\\jitter.py:4063: RuntimeWarning: invalid value encountered in matmul\n",
      "  lmbd = X @ (beta + beta_offset) + offset\n",
      "D:/Brain_Network/Code\\jitter.py:4065: RuntimeWarning: invalid value encountered in matmul\n",
      "  lmbd_integral = basis_integral.T @ (beta + beta_offset) + offset_integral\n",
      "D:/Brain_Network/Code\\jitter.py:4090: RuntimeWarning: invalid value encountered in subtract\n",
      "  beta_err = np.sum(np.abs(beta_old - beta))\n"
     ]
    },
    {
     "name": "stdout",
     "output_type": "stream",
     "text": [
      "util.save_variable, save variable to:  D:/Brain_Network/Output/jitter/coupling_filter/CD_DE_condition19_joint_fit_fixed_portion_11122021_multi_reg/univariate_filtertype2_951102476_951112431.pkl\n",
      "util.save_variable, save variable to:  D:/Brain_Network/Output/jitter/coupling_filter/CD_DE_condition19_joint_fit_fixed_portion_11122021_multi_reg/multivariate_filtertype2_951102476_951112431.pkl\n",
      "3it [00:23,  7.76s/it]util.save_variable, save variable to:  D:/Brain_Network/Output/jitter/coupling_filter/CD_DE_condition19_joint_fit_fixed_portion_11122021_multi_reg/univariate_filtertype2_951102476_951112416.pkl\n",
      "util.save_variable, save variable to:  D:/Brain_Network/Output/jitter/coupling_filter/CD_DE_condition19_joint_fit_fixed_portion_11122021_multi_reg/multivariate_filtertype2_951102476_951112416.pkl\n",
      "4it [00:31,  7.85s/it]util.save_variable, save variable to:  D:/Brain_Network/Output/jitter/coupling_filter/CD_DE_condition19_joint_fit_fixed_portion_11122021_multi_reg/univariate_filtertype2_951102476_951112479.pkl\n",
      "util.save_variable, save variable to:  D:/Brain_Network/Output/jitter/coupling_filter/CD_DE_condition19_joint_fit_fixed_portion_11122021_multi_reg/multivariate_filtertype2_951102476_951112479.pkl\n",
      "5it [00:40,  8.33s/it]util.save_variable, save variable to:  D:/Brain_Network/Output/jitter/coupling_filter/CD_DE_condition19_joint_fit_fixed_portion_11122021_multi_reg/univariate_filtertype2_951102476_951112638.pkl\n",
      "util.save_variable, save variable to:  D:/Brain_Network/Output/jitter/coupling_filter/CD_DE_condition19_joint_fit_fixed_portion_11122021_multi_reg/multivariate_filtertype2_951102476_951112638.pkl\n",
      "6it [00:49,  8.55s/it]"
     ]
    },
    {
     "name": "stderr",
     "output_type": "stream",
     "text": [
      "D:/Brain_Network/Code\\jitter.py:4063: RuntimeWarning: invalid value encountered in matmul\n",
      "  lmbd = X @ (beta + beta_offset) + offset\n",
      "D:/Brain_Network/Code\\jitter.py:4065: RuntimeWarning: invalid value encountered in matmul\n",
      "  lmbd_integral = basis_integral.T @ (beta + beta_offset) + offset_integral\n",
      "D:/Brain_Network/Code\\jitter.py:4090: RuntimeWarning: invalid value encountered in subtract\n",
      "  beta_err = np.sum(np.abs(beta_old - beta))\n"
     ]
    },
    {
     "name": "stdout",
     "output_type": "stream",
     "text": [
      "util.save_variable, save variable to:  D:/Brain_Network/Output/jitter/coupling_filter/CD_DE_condition19_joint_fit_fixed_portion_11122021_multi_reg/univariate_filtertype2_951102476_951112590.pkl\n",
      "util.save_variable, save variable to:  D:/Brain_Network/Output/jitter/coupling_filter/CD_DE_condition19_joint_fit_fixed_portion_11122021_multi_reg/multivariate_filtertype2_951102476_951112590.pkl\n",
      "7it [00:59,  8.76s/it]"
     ]
    },
    {
     "name": "stderr",
     "output_type": "stream",
     "text": [
      "D:/Brain_Network/Code\\jitter.py:8323: UserWarning: Reach max itrs 500. Last err:2.410e-01\n",
      "  warnings.warn(f'Reach max itrs {max_num_itrs}. Last err:{beta_err:.3e}')\n"
     ]
    },
    {
     "name": "stdout",
     "output_type": "stream",
     "text": [
      "util.save_variable, save variable to:  D:/Brain_Network/Output/jitter/coupling_filter/CD_DE_condition19_joint_fit_fixed_portion_11122021_multi_reg/univariate_filtertype2_951102476_951112712.pkl\n",
      "util.save_variable, save variable to:  D:/Brain_Network/Output/jitter/coupling_filter/CD_DE_condition19_joint_fit_fixed_portion_11122021_multi_reg/multivariate_filtertype2_951102476_951112712.pkl\n",
      "8it [01:15, 11.01s/it]util.save_variable, save variable to:  D:/Brain_Network/Output/jitter/coupling_filter/CD_DE_condition19_joint_fit_fixed_portion_11122021_multi_reg/univariate_filtertype2_951102476_951112786.pkl\n",
      "util.save_variable, save variable to:  D:/Brain_Network/Output/jitter/coupling_filter/CD_DE_condition19_joint_fit_fixed_portion_11122021_multi_reg/multivariate_filtertype2_951102476_951112786.pkl\n",
      "9it [01:22,  9.85s/it]util.save_variable, save variable to:  D:/Brain_Network/Output/jitter/coupling_filter/CD_DE_condition19_joint_fit_fixed_portion_11122021_multi_reg/univariate_filtertype2_951102476_951112780.pkl\n",
      "util.save_variable, save variable to:  D:/Brain_Network/Output/jitter/coupling_filter/CD_DE_condition19_joint_fit_fixed_portion_11122021_multi_reg/multivariate_filtertype2_951102476_951112780.pkl\n",
      "10it [01:29,  8.90s/it]"
     ]
    },
    {
     "name": "stderr",
     "output_type": "stream",
     "text": [
      "D:/Brain_Network/Code\\jitter.py:4063: RuntimeWarning: invalid value encountered in matmul\n",
      "  lmbd = X @ (beta + beta_offset) + offset\n",
      "D:/Brain_Network/Code\\jitter.py:4065: RuntimeWarning: invalid value encountered in matmul\n",
      "  lmbd_integral = basis_integral.T @ (beta + beta_offset) + offset_integral\n",
      "D:/Brain_Network/Code\\jitter.py:4090: RuntimeWarning: invalid value encountered in subtract\n",
      "  beta_err = np.sum(np.abs(beta_old - beta))\n"
     ]
    },
    {
     "name": "stdout",
     "output_type": "stream",
     "text": [
      "util.save_variable, save variable to:  D:/Brain_Network/Output/jitter/coupling_filter/CD_DE_condition19_joint_fit_fixed_portion_11122021_multi_reg/univariate_filtertype2_951102476_951112768.pkl\n",
      "util.save_variable, save variable to:  D:/Brain_Network/Output/jitter/coupling_filter/CD_DE_condition19_joint_fit_fixed_portion_11122021_multi_reg/multivariate_filtertype2_951102476_951112768.pkl\n",
      "11it [01:42, 10.18s/it]util.save_variable, save variable to:  D:/Brain_Network/Output/jitter/coupling_filter/CD_DE_condition19_joint_fit_fixed_portion_11122021_multi_reg/univariate_filtertype2_951102476_951112845.pkl\n",
      "util.save_variable, save variable to:  D:/Brain_Network/Output/jitter/coupling_filter/CD_DE_condition19_joint_fit_fixed_portion_11122021_multi_reg/multivariate_filtertype2_951102476_951112845.pkl\n",
      "12it [01:49,  9.15s/it]"
     ]
    },
    {
     "name": "stderr",
     "output_type": "stream",
     "text": [
      "D:/Brain_Network/Code\\jitter.py:4063: RuntimeWarning: invalid value encountered in matmul\n",
      "  lmbd = X @ (beta + beta_offset) + offset\n",
      "D:/Brain_Network/Code\\jitter.py:4065: RuntimeWarning: invalid value encountered in matmul\n",
      "  lmbd_integral = basis_integral.T @ (beta + beta_offset) + offset_integral\n",
      "D:/Brain_Network/Code\\jitter.py:4090: RuntimeWarning: invalid value encountered in subtract\n",
      "  beta_err = np.sum(np.abs(beta_old - beta))\n"
     ]
    },
    {
     "name": "stdout",
     "output_type": "stream",
     "text": [
      "util.save_variable, save variable to:  D:/Brain_Network/Output/jitter/coupling_filter/CD_DE_condition19_joint_fit_fixed_portion_11122021_multi_reg/univariate_filtertype2_951102476_951112906.pkl\n",
      "util.save_variable, save variable to:  D:/Brain_Network/Output/jitter/coupling_filter/CD_DE_condition19_joint_fit_fixed_portion_11122021_multi_reg/multivariate_filtertype2_951102476_951112906.pkl\n",
      "13it [01:57,  8.93s/it]util.save_variable, save variable to:  D:/Brain_Network/Output/jitter/coupling_filter/CD_DE_condition19_joint_fit_fixed_portion_11122021_multi_reg/univariate_filtertype2_951102476_951112937.pkl\n",
      "util.save_variable, save variable to:  D:/Brain_Network/Output/jitter/coupling_filter/CD_DE_condition19_joint_fit_fixed_portion_11122021_multi_reg/multivariate_filtertype2_951102476_951112937.pkl\n",
      "14it [02:03,  8.14s/it]util.save_variable, save variable to:  D:/Brain_Network/Output/jitter/coupling_filter/CD_DE_condition19_joint_fit_fixed_portion_11122021_multi_reg/univariate_filtertype2_951102476_951112992.pkl\n",
      "util.save_variable, save variable to:  D:/Brain_Network/Output/jitter/coupling_filter/CD_DE_condition19_joint_fit_fixed_portion_11122021_multi_reg/multivariate_filtertype2_951102476_951112992.pkl\n",
      "15it [02:15,  9.11s/it]"
     ]
    },
    {
     "name": "stderr",
     "output_type": "stream",
     "text": [
      "D:/Brain_Network/Code\\jitter.py:4063: RuntimeWarning: invalid value encountered in matmul\n",
      "  lmbd = X @ (beta + beta_offset) + offset\n",
      "D:/Brain_Network/Code\\jitter.py:4065: RuntimeWarning: invalid value encountered in matmul\n",
      "  lmbd_integral = basis_integral.T @ (beta + beta_offset) + offset_integral\n",
      "D:/Brain_Network/Code\\jitter.py:4090: RuntimeWarning: invalid value encountered in subtract\n",
      "  beta_err = np.sum(np.abs(beta_old - beta))\n"
     ]
    },
    {
     "name": "stdout",
     "output_type": "stream",
     "text": [
      "util.save_variable, save variable to:  D:/Brain_Network/Output/jitter/coupling_filter/CD_DE_condition19_joint_fit_fixed_portion_11122021_multi_reg/univariate_filtertype2_951102476_951113075.pkl\n",
      "util.save_variable, save variable to:  D:/Brain_Network/Output/jitter/coupling_filter/CD_DE_condition19_joint_fit_fixed_portion_11122021_multi_reg/multivariate_filtertype2_951102476_951113075.pkl\n",
      "16it [02:22,  8.63s/it]util.save_variable, save variable to:  D:/Brain_Network/Output/jitter/coupling_filter/CD_DE_condition19_joint_fit_fixed_portion_11122021_multi_reg/univariate_filtertype2_951102476_951113056.pkl\n",
      "util.save_variable, save variable to:  D:/Brain_Network/Output/jitter/coupling_filter/CD_DE_condition19_joint_fit_fixed_portion_11122021_multi_reg/multivariate_filtertype2_951102476_951113056.pkl\n",
      "17it [02:29,  8.05s/it]"
     ]
    },
    {
     "name": "stderr",
     "output_type": "stream",
     "text": [
      "D:/Brain_Network/Code\\jitter.py:4063: RuntimeWarning: invalid value encountered in matmul\n",
      "  lmbd = X @ (beta + beta_offset) + offset\n",
      "D:/Brain_Network/Code\\jitter.py:4065: RuntimeWarning: invalid value encountered in matmul\n",
      "  lmbd_integral = basis_integral.T @ (beta + beta_offset) + offset_integral\n",
      "D:/Brain_Network/Code\\jitter.py:4090: RuntimeWarning: invalid value encountered in subtract\n",
      "  beta_err = np.sum(np.abs(beta_old - beta))\n"
     ]
    },
    {
     "name": "stdout",
     "output_type": "stream",
     "text": [
      "util.save_variable, save variable to:  D:/Brain_Network/Output/jitter/coupling_filter/CD_DE_condition19_joint_fit_fixed_portion_11122021_multi_reg/univariate_filtertype2_951102476_951113039.pkl\n",
      "util.save_variable, save variable to:  D:/Brain_Network/Output/jitter/coupling_filter/CD_DE_condition19_joint_fit_fixed_portion_11122021_multi_reg/multivariate_filtertype2_951102476_951113039.pkl\n",
      "18it [02:43,  9.84s/it]util.save_variable, save variable to:  D:/Brain_Network/Output/jitter/coupling_filter/CD_DE_condition19_joint_fit_fixed_portion_11122021_multi_reg/univariate_filtertype2_951102476_951113191.pkl\n",
      "util.save_variable, save variable to:  D:/Brain_Network/Output/jitter/coupling_filter/CD_DE_condition19_joint_fit_fixed_portion_11122021_multi_reg/multivariate_filtertype2_951102476_951113191.pkl\n",
      "19it [02:50,  8.87s/it]util.save_variable, save variable to:  D:/Brain_Network/Output/jitter/coupling_filter/CD_DE_condition19_joint_fit_fixed_portion_11122021_multi_reg/univariate_filtertype2_951102476_951113175.pkl\n",
      "util.save_variable, save variable to:  D:/Brain_Network/Output/jitter/coupling_filter/CD_DE_condition19_joint_fit_fixed_portion_11122021_multi_reg/multivariate_filtertype2_951102476_951113175.pkl\n",
      "20it [02:58,  8.75s/it]util.save_variable, save variable to:  D:/Brain_Network/Output/jitter/coupling_filter/CD_DE_condition19_joint_fit_fixed_portion_11122021_multi_reg/univariate_filtertype2_951102476_951113141.pkl\n",
      "util.save_variable, save variable to:  D:/Brain_Network/Output/jitter/coupling_filter/CD_DE_condition19_joint_fit_fixed_portion_11122021_multi_reg/multivariate_filtertype2_951102476_951113141.pkl\n",
      "21it [03:07,  8.74s/it]util.save_variable, save variable to:  D:/Brain_Network/Output/jitter/coupling_filter/CD_DE_condition19_joint_fit_fixed_portion_11122021_multi_reg/univariate_filtertype2_951102476_951113271.pkl\n",
      "util.save_variable, save variable to:  D:/Brain_Network/Output/jitter/coupling_filter/CD_DE_condition19_joint_fit_fixed_portion_11122021_multi_reg/multivariate_filtertype2_951102476_951113271.pkl\n",
      "22it [03:28, 12.57s/it]util.save_variable, save variable to:  D:/Brain_Network/Output/jitter/coupling_filter/CD_DE_condition19_joint_fit_fixed_portion_11122021_multi_reg/univariate_filtertype2_951102476_951113211.pkl\n",
      "util.save_variable, save variable to:  D:/Brain_Network/Output/jitter/coupling_filter/CD_DE_condition19_joint_fit_fixed_portion_11122021_multi_reg/multivariate_filtertype2_951102476_951113211.pkl\n",
      "23it [03:37, 11.47s/it]util.save_variable, save variable to:  D:/Brain_Network/Output/jitter/coupling_filter/CD_DE_condition19_joint_fit_fixed_portion_11122021_multi_reg/univariate_filtertype2_951102476_951113240.pkl\n",
      "util.save_variable, save variable to:  D:/Brain_Network/Output/jitter/coupling_filter/CD_DE_condition19_joint_fit_fixed_portion_11122021_multi_reg/multivariate_filtertype2_951102476_951113240.pkl\n",
      "24it [03:44, 10.07s/it]util.save_variable, save variable to:  D:/Brain_Network/Output/jitter/coupling_filter/CD_DE_condition19_joint_fit_fixed_portion_11122021_multi_reg/univariate_filtertype2_951102476_951113464.pkl\n",
      "util.save_variable, save variable to:  D:/Brain_Network/Output/jitter/coupling_filter/CD_DE_condition19_joint_fit_fixed_portion_11122021_multi_reg/multivariate_filtertype2_951102476_951113464.pkl\n",
      "25it [03:58, 11.18s/it]"
     ]
    },
    {
     "name": "stderr",
     "output_type": "stream",
     "text": [
      "D:/Brain_Network/Code\\jitter.py:4063: RuntimeWarning: invalid value encountered in matmul\n",
      "  lmbd = X @ (beta + beta_offset) + offset\n",
      "D:/Brain_Network/Code\\jitter.py:4065: RuntimeWarning: invalid value encountered in matmul\n",
      "  lmbd_integral = basis_integral.T @ (beta + beta_offset) + offset_integral\n",
      "D:/Brain_Network/Code\\jitter.py:4090: RuntimeWarning: invalid value encountered in subtract\n",
      "  beta_err = np.sum(np.abs(beta_old - beta))\n"
     ]
    },
    {
     "name": "stdout",
     "output_type": "stream",
     "text": [
      "util.save_variable, save variable to:  D:/Brain_Network/Output/jitter/coupling_filter/CD_DE_condition19_joint_fit_fixed_portion_11122021_multi_reg/univariate_filtertype2_951102476_951113514.pkl\n",
      "util.save_variable, save variable to:  D:/Brain_Network/Output/jitter/coupling_filter/CD_DE_condition19_joint_fit_fixed_portion_11122021_multi_reg/multivariate_filtertype2_951102476_951113514.pkl\n",
      "26it [04:07, 10.55s/it]util.save_variable, save variable to:  D:/Brain_Network/Output/jitter/coupling_filter/CD_DE_condition19_joint_fit_fixed_portion_11122021_multi_reg/univariate_filtertype2_951102476_951113717.pkl\n",
      "util.save_variable, save variable to:  D:/Brain_Network/Output/jitter/coupling_filter/CD_DE_condition19_joint_fit_fixed_portion_11122021_multi_reg/multivariate_filtertype2_951102476_951113717.pkl\n",
      "27it [04:16, 10.12s/it]util.save_variable, save variable to:  D:/Brain_Network/Output/jitter/coupling_filter/CD_DE_condition19_joint_fit_fixed_portion_11122021_multi_reg/univariate_filtertype2_951102646_951112464.pkl\n",
      "util.save_variable, save variable to:  D:/Brain_Network/Output/jitter/coupling_filter/CD_DE_condition19_joint_fit_fixed_portion_11122021_multi_reg/multivariate_filtertype2_951102646_951112464.pkl\n",
      "28it [04:23,  9.22s/it]util.save_variable, save variable to:  D:/Brain_Network/Output/jitter/coupling_filter/CD_DE_condition19_joint_fit_fixed_portion_11122021_multi_reg/univariate_filtertype2_951102646_951112448.pkl\n",
      "util.save_variable, save variable to:  D:/Brain_Network/Output/jitter/coupling_filter/CD_DE_condition19_joint_fit_fixed_portion_11122021_multi_reg/multivariate_filtertype2_951102646_951112448.pkl\n",
      "29it [04:30,  8.59s/it]util.save_variable, save variable to:  D:/Brain_Network/Output/jitter/coupling_filter/CD_DE_condition19_joint_fit_fixed_portion_11122021_multi_reg/univariate_filtertype2_951102646_951112431.pkl\n",
      "util.save_variable, save variable to:  D:/Brain_Network/Output/jitter/coupling_filter/CD_DE_condition19_joint_fit_fixed_portion_11122021_multi_reg/multivariate_filtertype2_951102646_951112431.pkl\n",
      "30it [04:37,  8.12s/it]util.save_variable, save variable to:  D:/Brain_Network/Output/jitter/coupling_filter/CD_DE_condition19_joint_fit_fixed_portion_11122021_multi_reg/univariate_filtertype2_951102646_951112416.pkl\n",
      "util.save_variable, save variable to:  D:/Brain_Network/Output/jitter/coupling_filter/CD_DE_condition19_joint_fit_fixed_portion_11122021_multi_reg/multivariate_filtertype2_951102646_951112416.pkl\n",
      "31it [04:45,  7.96s/it]"
     ]
    },
    {
     "name": "stderr",
     "output_type": "stream",
     "text": [
      "D:/Brain_Network/Code\\jitter.py:4063: RuntimeWarning: invalid value encountered in matmul\n",
      "  lmbd = X @ (beta + beta_offset) + offset\n",
      "D:/Brain_Network/Code\\jitter.py:4065: RuntimeWarning: invalid value encountered in matmul\n",
      "  lmbd_integral = basis_integral.T @ (beta + beta_offset) + offset_integral\n",
      "D:/Brain_Network/Code\\jitter.py:4090: RuntimeWarning: invalid value encountered in subtract\n",
      "  beta_err = np.sum(np.abs(beta_old - beta))\n"
     ]
    },
    {
     "name": "stdout",
     "output_type": "stream",
     "text": [
      "util.save_variable, save variable to:  D:/Brain_Network/Output/jitter/coupling_filter/CD_DE_condition19_joint_fit_fixed_portion_11122021_multi_reg/univariate_filtertype2_951102646_951112479.pkl\n",
      "util.save_variable, save variable to:  D:/Brain_Network/Output/jitter/coupling_filter/CD_DE_condition19_joint_fit_fixed_portion_11122021_multi_reg/multivariate_filtertype2_951102646_951112479.pkl\n",
      "32it [04:52,  7.62s/it]util.save_variable, save variable to:  D:/Brain_Network/Output/jitter/coupling_filter/CD_DE_condition19_joint_fit_fixed_portion_11122021_multi_reg/univariate_filtertype2_951102646_951112638.pkl\n",
      "util.save_variable, save variable to:  D:/Brain_Network/Output/jitter/coupling_filter/CD_DE_condition19_joint_fit_fixed_portion_11122021_multi_reg/multivariate_filtertype2_951102646_951112638.pkl\n",
      "33it [04:57,  6.89s/it]util.save_variable, save variable to:  D:/Brain_Network/Output/jitter/coupling_filter/CD_DE_condition19_joint_fit_fixed_portion_11122021_multi_reg/univariate_filtertype2_951102646_951112590.pkl\n",
      "util.save_variable, save variable to:  D:/Brain_Network/Output/jitter/coupling_filter/CD_DE_condition19_joint_fit_fixed_portion_11122021_multi_reg/multivariate_filtertype2_951102646_951112590.pkl\n",
      "34it [05:03,  6.68s/it]util.save_variable, save variable to:  D:/Brain_Network/Output/jitter/coupling_filter/CD_DE_condition19_joint_fit_fixed_portion_11122021_multi_reg/univariate_filtertype2_951102646_951112712.pkl\n",
      "util.save_variable, save variable to:  D:/Brain_Network/Output/jitter/coupling_filter/CD_DE_condition19_joint_fit_fixed_portion_11122021_multi_reg/multivariate_filtertype2_951102646_951112712.pkl\n",
      "35it [05:17,  8.81s/it]util.save_variable, save variable to:  D:/Brain_Network/Output/jitter/coupling_filter/CD_DE_condition19_joint_fit_fixed_portion_11122021_multi_reg/univariate_filtertype2_951102646_951112786.pkl\n",
      "util.save_variable, save variable to:  D:/Brain_Network/Output/jitter/coupling_filter/CD_DE_condition19_joint_fit_fixed_portion_11122021_multi_reg/multivariate_filtertype2_951102646_951112786.pkl\n",
      "36it [05:24,  8.33s/it]util.save_variable, save variable to:  D:/Brain_Network/Output/jitter/coupling_filter/CD_DE_condition19_joint_fit_fixed_portion_11122021_multi_reg/univariate_filtertype2_951102646_951112780.pkl\n",
      "util.save_variable, save variable to:  D:/Brain_Network/Output/jitter/coupling_filter/CD_DE_condition19_joint_fit_fixed_portion_11122021_multi_reg/multivariate_filtertype2_951102646_951112780.pkl\n",
      "37it [05:30,  7.74s/it]"
     ]
    },
    {
     "name": "stderr",
     "output_type": "stream",
     "text": [
      "D:/Brain_Network/Code\\jitter.py:4063: RuntimeWarning: invalid value encountered in matmul\n",
      "  lmbd = X @ (beta + beta_offset) + offset\n",
      "D:/Brain_Network/Code\\jitter.py:4065: RuntimeWarning: invalid value encountered in matmul\n",
      "  lmbd_integral = basis_integral.T @ (beta + beta_offset) + offset_integral\n",
      "D:/Brain_Network/Code\\jitter.py:4090: RuntimeWarning: invalid value encountered in subtract\n",
      "  beta_err = np.sum(np.abs(beta_old - beta))\n"
     ]
    },
    {
     "name": "stdout",
     "output_type": "stream",
     "text": [
      "util.save_variable, save variable to:  D:/Brain_Network/Output/jitter/coupling_filter/CD_DE_condition19_joint_fit_fixed_portion_11122021_multi_reg/univariate_filtertype2_951102646_951112768.pkl\n",
      "util.save_variable, save variable to:  D:/Brain_Network/Output/jitter/coupling_filter/CD_DE_condition19_joint_fit_fixed_portion_11122021_multi_reg/multivariate_filtertype2_951102646_951112768.pkl\n",
      "38it [05:41,  8.72s/it]util.save_variable, save variable to:  D:/Brain_Network/Output/jitter/coupling_filter/CD_DE_condition19_joint_fit_fixed_portion_11122021_multi_reg/univariate_filtertype2_951102646_951112845.pkl\n",
      "util.save_variable, save variable to:  D:/Brain_Network/Output/jitter/coupling_filter/CD_DE_condition19_joint_fit_fixed_portion_11122021_multi_reg/multivariate_filtertype2_951102646_951112845.pkl\n",
      "39it [05:47,  7.71s/it]util.save_variable, save variable to:  D:/Brain_Network/Output/jitter/coupling_filter/CD_DE_condition19_joint_fit_fixed_portion_11122021_multi_reg/univariate_filtertype2_951102646_951112906.pkl\n",
      "util.save_variable, save variable to:  D:/Brain_Network/Output/jitter/coupling_filter/CD_DE_condition19_joint_fit_fixed_portion_11122021_multi_reg/multivariate_filtertype2_951102646_951112906.pkl\n",
      "40it [05:53,  7.23s/it]util.save_variable, save variable to:  D:/Brain_Network/Output/jitter/coupling_filter/CD_DE_condition19_joint_fit_fixed_portion_11122021_multi_reg/univariate_filtertype2_951102646_951112937.pkl\n",
      "util.save_variable, save variable to:  D:/Brain_Network/Output/jitter/coupling_filter/CD_DE_condition19_joint_fit_fixed_portion_11122021_multi_reg/multivariate_filtertype2_951102646_951112937.pkl\n",
      "41it [06:00,  7.31s/it]util.save_variable, save variable to:  D:/Brain_Network/Output/jitter/coupling_filter/CD_DE_condition19_joint_fit_fixed_portion_11122021_multi_reg/univariate_filtertype2_951102646_951112992.pkl\n",
      "util.save_variable, save variable to:  D:/Brain_Network/Output/jitter/coupling_filter/CD_DE_condition19_joint_fit_fixed_portion_11122021_multi_reg/multivariate_filtertype2_951102646_951112992.pkl\n",
      "42it [06:09,  7.79s/it]util.save_variable, save variable to:  D:/Brain_Network/Output/jitter/coupling_filter/CD_DE_condition19_joint_fit_fixed_portion_11122021_multi_reg/univariate_filtertype2_951102646_951113075.pkl\n",
      "util.save_variable, save variable to:  D:/Brain_Network/Output/jitter/coupling_filter/CD_DE_condition19_joint_fit_fixed_portion_11122021_multi_reg/multivariate_filtertype2_951102646_951113075.pkl\n",
      "43it [06:16,  7.43s/it]util.save_variable, save variable to:  D:/Brain_Network/Output/jitter/coupling_filter/CD_DE_condition19_joint_fit_fixed_portion_11122021_multi_reg/univariate_filtertype2_951102646_951113056.pkl\n",
      "util.save_variable, save variable to:  D:/Brain_Network/Output/jitter/coupling_filter/CD_DE_condition19_joint_fit_fixed_portion_11122021_multi_reg/multivariate_filtertype2_951102646_951113056.pkl\n",
      "44it [06:21,  6.89s/it]util.save_variable, save variable to:  D:/Brain_Network/Output/jitter/coupling_filter/CD_DE_condition19_joint_fit_fixed_portion_11122021_multi_reg/univariate_filtertype2_951102646_951113039.pkl\n",
      "util.save_variable, save variable to:  D:/Brain_Network/Output/jitter/coupling_filter/CD_DE_condition19_joint_fit_fixed_portion_11122021_multi_reg/multivariate_filtertype2_951102646_951113039.pkl\n",
      "45it [06:28,  6.81s/it]"
     ]
    },
    {
     "name": "stderr",
     "output_type": "stream",
     "text": [
      "D:/Brain_Network/Code\\jitter.py:4063: RuntimeWarning: invalid value encountered in matmul\n",
      "  lmbd = X @ (beta + beta_offset) + offset\n",
      "D:/Brain_Network/Code\\jitter.py:4065: RuntimeWarning: invalid value encountered in matmul\n",
      "  lmbd_integral = basis_integral.T @ (beta + beta_offset) + offset_integral\n",
      "D:/Brain_Network/Code\\jitter.py:4090: RuntimeWarning: invalid value encountered in subtract\n",
      "  beta_err = np.sum(np.abs(beta_old - beta))\n"
     ]
    },
    {
     "name": "stdout",
     "output_type": "stream",
     "text": [
      "util.save_variable, save variable to:  D:/Brain_Network/Output/jitter/coupling_filter/CD_DE_condition19_joint_fit_fixed_portion_11122021_multi_reg/univariate_filtertype2_951102646_951113191.pkl\n",
      "util.save_variable, save variable to:  D:/Brain_Network/Output/jitter/coupling_filter/CD_DE_condition19_joint_fit_fixed_portion_11122021_multi_reg/multivariate_filtertype2_951102646_951113191.pkl\n",
      "46it [06:35,  6.89s/it]util.save_variable, save variable to:  D:/Brain_Network/Output/jitter/coupling_filter/CD_DE_condition19_joint_fit_fixed_portion_11122021_multi_reg/univariate_filtertype2_951102646_951113175.pkl\n",
      "util.save_variable, save variable to:  D:/Brain_Network/Output/jitter/coupling_filter/CD_DE_condition19_joint_fit_fixed_portion_11122021_multi_reg/multivariate_filtertype2_951102646_951113175.pkl\n",
      "47it [06:44,  7.41s/it]util.save_variable, save variable to:  D:/Brain_Network/Output/jitter/coupling_filter/CD_DE_condition19_joint_fit_fixed_portion_11122021_multi_reg/univariate_filtertype2_951102646_951113141.pkl\n",
      "util.save_variable, save variable to:  D:/Brain_Network/Output/jitter/coupling_filter/CD_DE_condition19_joint_fit_fixed_portion_11122021_multi_reg/multivariate_filtertype2_951102646_951113141.pkl\n",
      "48it [06:52,  7.56s/it]util.save_variable, save variable to:  D:/Brain_Network/Output/jitter/coupling_filter/CD_DE_condition19_joint_fit_fixed_portion_11122021_multi_reg/univariate_filtertype2_951102646_951113271.pkl\n",
      "util.save_variable, save variable to:  D:/Brain_Network/Output/jitter/coupling_filter/CD_DE_condition19_joint_fit_fixed_portion_11122021_multi_reg/multivariate_filtertype2_951102646_951113271.pkl\n",
      "49it [07:10, 10.87s/it]util.save_variable, save variable to:  D:/Brain_Network/Output/jitter/coupling_filter/CD_DE_condition19_joint_fit_fixed_portion_11122021_multi_reg/univariate_filtertype2_951102646_951113211.pkl\n",
      "util.save_variable, save variable to:  D:/Brain_Network/Output/jitter/coupling_filter/CD_DE_condition19_joint_fit_fixed_portion_11122021_multi_reg/multivariate_filtertype2_951102646_951113211.pkl\n",
      "50it [07:19, 10.39s/it]util.save_variable, save variable to:  D:/Brain_Network/Output/jitter/coupling_filter/CD_DE_condition19_joint_fit_fixed_portion_11122021_multi_reg/univariate_filtertype2_951102646_951113240.pkl\n",
      "util.save_variable, save variable to:  D:/Brain_Network/Output/jitter/coupling_filter/CD_DE_condition19_joint_fit_fixed_portion_11122021_multi_reg/multivariate_filtertype2_951102646_951113240.pkl\n",
      "51it [07:25,  8.84s/it]util.save_variable, save variable to:  D:/Brain_Network/Output/jitter/coupling_filter/CD_DE_condition19_joint_fit_fixed_portion_11122021_multi_reg/univariate_filtertype2_951102646_951113464.pkl\n",
      "util.save_variable, save variable to:  D:/Brain_Network/Output/jitter/coupling_filter/CD_DE_condition19_joint_fit_fixed_portion_11122021_multi_reg/multivariate_filtertype2_951102646_951113464.pkl\n",
      "52it [07:38, 10.10s/it]"
     ]
    },
    {
     "name": "stderr",
     "output_type": "stream",
     "text": [
      "D:/Brain_Network/Code\\jitter.py:4063: RuntimeWarning: invalid value encountered in matmul\n",
      "  lmbd = X @ (beta + beta_offset) + offset\n",
      "D:/Brain_Network/Code\\jitter.py:4065: RuntimeWarning: invalid value encountered in matmul\n",
      "  lmbd_integral = basis_integral.T @ (beta + beta_offset) + offset_integral\n",
      "D:/Brain_Network/Code\\jitter.py:4090: RuntimeWarning: invalid value encountered in subtract\n",
      "  beta_err = np.sum(np.abs(beta_old - beta))\n"
     ]
    },
    {
     "name": "stdout",
     "output_type": "stream",
     "text": [
      "util.save_variable, save variable to:  D:/Brain_Network/Output/jitter/coupling_filter/CD_DE_condition19_joint_fit_fixed_portion_11122021_multi_reg/univariate_filtertype2_951102646_951113514.pkl\n",
      "util.save_variable, save variable to:  D:/Brain_Network/Output/jitter/coupling_filter/CD_DE_condition19_joint_fit_fixed_portion_11122021_multi_reg/multivariate_filtertype2_951102646_951113514.pkl\n",
      "53it [07:45,  9.38s/it]util.save_variable, save variable to:  D:/Brain_Network/Output/jitter/coupling_filter/CD_DE_condition19_joint_fit_fixed_portion_11122021_multi_reg/univariate_filtertype2_951102646_951113717.pkl\n",
      "util.save_variable, save variable to:  D:/Brain_Network/Output/jitter/coupling_filter/CD_DE_condition19_joint_fit_fixed_portion_11122021_multi_reg/multivariate_filtertype2_951102646_951113717.pkl\n",
      "54it [07:53,  8.96s/it]util.save_variable, save variable to:  D:/Brain_Network/Output/jitter/coupling_filter/CD_DE_condition19_joint_fit_fixed_portion_11122021_multi_reg/univariate_filtertype2_951102686_951112464.pkl\n",
      "util.save_variable, save variable to:  D:/Brain_Network/Output/jitter/coupling_filter/CD_DE_condition19_joint_fit_fixed_portion_11122021_multi_reg/multivariate_filtertype2_951102686_951112464.pkl\n",
      "55it [08:05,  9.65s/it]util.save_variable, save variable to:  D:/Brain_Network/Output/jitter/coupling_filter/CD_DE_condition19_joint_fit_fixed_portion_11122021_multi_reg/univariate_filtertype2_951102686_951112448.pkl\n",
      "util.save_variable, save variable to:  D:/Brain_Network/Output/jitter/coupling_filter/CD_DE_condition19_joint_fit_fixed_portion_11122021_multi_reg/multivariate_filtertype2_951102686_951112448.pkl\n",
      "56it [08:17, 10.47s/it]util.save_variable, save variable to:  D:/Brain_Network/Output/jitter/coupling_filter/CD_DE_condition19_joint_fit_fixed_portion_11122021_multi_reg/univariate_filtertype2_951102686_951112431.pkl\n",
      "util.save_variable, save variable to:  D:/Brain_Network/Output/jitter/coupling_filter/CD_DE_condition19_joint_fit_fixed_portion_11122021_multi_reg/multivariate_filtertype2_951102686_951112431.pkl\n",
      "57it [08:30, 11.16s/it]"
     ]
    },
    {
     "name": "stderr",
     "output_type": "stream",
     "text": [
      "D:/Brain_Network/Code\\jitter.py:4063: RuntimeWarning: invalid value encountered in matmul\n",
      "  lmbd = X @ (beta + beta_offset) + offset\n",
      "D:/Brain_Network/Code\\jitter.py:4065: RuntimeWarning: invalid value encountered in matmul\n",
      "  lmbd_integral = basis_integral.T @ (beta + beta_offset) + offset_integral\n",
      "D:/Brain_Network/Code\\jitter.py:4090: RuntimeWarning: invalid value encountered in subtract\n",
      "  beta_err = np.sum(np.abs(beta_old - beta))\n"
     ]
    },
    {
     "name": "stdout",
     "output_type": "stream",
     "text": [
      "util.save_variable, save variable to:  D:/Brain_Network/Output/jitter/coupling_filter/CD_DE_condition19_joint_fit_fixed_portion_11122021_multi_reg/univariate_filtertype2_951102686_951112416.pkl\n",
      "util.save_variable, save variable to:  D:/Brain_Network/Output/jitter/coupling_filter/CD_DE_condition19_joint_fit_fixed_portion_11122021_multi_reg/multivariate_filtertype2_951102686_951112416.pkl\n",
      "58it [08:42, 11.35s/it]util.save_variable, save variable to:  D:/Brain_Network/Output/jitter/coupling_filter/CD_DE_condition19_joint_fit_fixed_portion_11122021_multi_reg/univariate_filtertype2_951102686_951112479.pkl\n",
      "util.save_variable, save variable to:  D:/Brain_Network/Output/jitter/coupling_filter/CD_DE_condition19_joint_fit_fixed_portion_11122021_multi_reg/multivariate_filtertype2_951102686_951112479.pkl\n",
      "59it [08:54, 11.60s/it]util.save_variable, save variable to:  D:/Brain_Network/Output/jitter/coupling_filter/CD_DE_condition19_joint_fit_fixed_portion_11122021_multi_reg/univariate_filtertype2_951102686_951112638.pkl\n",
      "util.save_variable, save variable to:  D:/Brain_Network/Output/jitter/coupling_filter/CD_DE_condition19_joint_fit_fixed_portion_11122021_multi_reg/multivariate_filtertype2_951102686_951112638.pkl\n",
      "60it [09:08, 12.38s/it]util.save_variable, save variable to:  D:/Brain_Network/Output/jitter/coupling_filter/CD_DE_condition19_joint_fit_fixed_portion_11122021_multi_reg/univariate_filtertype2_951102686_951112590.pkl\n",
      "util.save_variable, save variable to:  D:/Brain_Network/Output/jitter/coupling_filter/CD_DE_condition19_joint_fit_fixed_portion_11122021_multi_reg/multivariate_filtertype2_951102686_951112590.pkl\n",
      "61it [09:22, 12.72s/it]util.save_variable, save variable to:  D:/Brain_Network/Output/jitter/coupling_filter/CD_DE_condition19_joint_fit_fixed_portion_11122021_multi_reg/univariate_filtertype2_951102686_951112712.pkl\n",
      "util.save_variable, save variable to:  D:/Brain_Network/Output/jitter/coupling_filter/CD_DE_condition19_joint_fit_fixed_portion_11122021_multi_reg/multivariate_filtertype2_951102686_951112712.pkl\n",
      "62it [09:44, 15.51s/it]util.save_variable, save variable to:  D:/Brain_Network/Output/jitter/coupling_filter/CD_DE_condition19_joint_fit_fixed_portion_11122021_multi_reg/univariate_filtertype2_951102686_951112786.pkl\n",
      "util.save_variable, save variable to:  D:/Brain_Network/Output/jitter/coupling_filter/CD_DE_condition19_joint_fit_fixed_portion_11122021_multi_reg/multivariate_filtertype2_951102686_951112786.pkl\n",
      "63it [09:55, 14.19s/it]"
     ]
    },
    {
     "name": "stderr",
     "output_type": "stream",
     "text": [
      "D:/Brain_Network/Code\\jitter.py:4063: RuntimeWarning: invalid value encountered in matmul\n",
      "  lmbd = X @ (beta + beta_offset) + offset\n",
      "D:/Brain_Network/Code\\jitter.py:4065: RuntimeWarning: invalid value encountered in matmul\n",
      "  lmbd_integral = basis_integral.T @ (beta + beta_offset) + offset_integral\n",
      "D:/Brain_Network/Code\\jitter.py:4090: RuntimeWarning: invalid value encountered in subtract\n",
      "  beta_err = np.sum(np.abs(beta_old - beta))\n"
     ]
    },
    {
     "name": "stdout",
     "output_type": "stream",
     "text": [
      "util.save_variable, save variable to:  D:/Brain_Network/Output/jitter/coupling_filter/CD_DE_condition19_joint_fit_fixed_portion_11122021_multi_reg/univariate_filtertype2_951102686_951112780.pkl\n",
      "util.save_variable, save variable to:  D:/Brain_Network/Output/jitter/coupling_filter/CD_DE_condition19_joint_fit_fixed_portion_11122021_multi_reg/multivariate_filtertype2_951102686_951112780.pkl\n",
      "64it [10:01, 11.86s/it]"
     ]
    },
    {
     "name": "stderr",
     "output_type": "stream",
     "text": [
      "D:/Brain_Network/Code\\jitter.py:8323: UserWarning: Reach max itrs 500. Last err:3.380e+12\n",
      "  warnings.warn(f'Reach max itrs {max_num_itrs}. Last err:{beta_err:.3e}')\n"
     ]
    },
    {
     "name": "stdout",
     "output_type": "stream",
     "text": [
      "util.save_variable, save variable to:  D:/Brain_Network/Output/jitter/coupling_filter/CD_DE_condition19_joint_fit_fixed_portion_11122021_multi_reg/univariate_filtertype2_951102686_951112768.pkl\n",
      "util.save_variable, save variable to:  D:/Brain_Network/Output/jitter/coupling_filter/CD_DE_condition19_joint_fit_fixed_portion_11122021_multi_reg/multivariate_filtertype2_951102686_951112768.pkl\n",
      "65it [10:20, 13.98s/it]util.save_variable, save variable to:  D:/Brain_Network/Output/jitter/coupling_filter/CD_DE_condition19_joint_fit_fixed_portion_11122021_multi_reg/univariate_filtertype2_951102686_951112845.pkl\n",
      "util.save_variable, save variable to:  D:/Brain_Network/Output/jitter/coupling_filter/CD_DE_condition19_joint_fit_fixed_portion_11122021_multi_reg/multivariate_filtertype2_951102686_951112845.pkl\n",
      "66it [10:29, 12.39s/it]util.save_variable, save variable to:  D:/Brain_Network/Output/jitter/coupling_filter/CD_DE_condition19_joint_fit_fixed_portion_11122021_multi_reg/univariate_filtertype2_951102686_951112906.pkl\n",
      "util.save_variable, save variable to:  D:/Brain_Network/Output/jitter/coupling_filter/CD_DE_condition19_joint_fit_fixed_portion_11122021_multi_reg/multivariate_filtertype2_951102686_951112906.pkl\n",
      "67it [10:37, 11.28s/it]util.save_variable, save variable to:  D:/Brain_Network/Output/jitter/coupling_filter/CD_DE_condition19_joint_fit_fixed_portion_11122021_multi_reg/univariate_filtertype2_951102686_951112937.pkl\n",
      "util.save_variable, save variable to:  D:/Brain_Network/Output/jitter/coupling_filter/CD_DE_condition19_joint_fit_fixed_portion_11122021_multi_reg/multivariate_filtertype2_951102686_951112937.pkl\n",
      "68it [10:48, 10.96s/it]util.save_variable, save variable to:  D:/Brain_Network/Output/jitter/coupling_filter/CD_DE_condition19_joint_fit_fixed_portion_11122021_multi_reg/univariate_filtertype2_951102686_951112992.pkl\n",
      "util.save_variable, save variable to:  D:/Brain_Network/Output/jitter/coupling_filter/CD_DE_condition19_joint_fit_fixed_portion_11122021_multi_reg/multivariate_filtertype2_951102686_951112992.pkl\n",
      "69it [11:04, 12.62s/it]util.save_variable, save variable to:  D:/Brain_Network/Output/jitter/coupling_filter/CD_DE_condition19_joint_fit_fixed_portion_11122021_multi_reg/univariate_filtertype2_951102686_951113075.pkl\n",
      "util.save_variable, save variable to:  D:/Brain_Network/Output/jitter/coupling_filter/CD_DE_condition19_joint_fit_fixed_portion_11122021_multi_reg/multivariate_filtertype2_951102686_951113075.pkl\n",
      "70it [11:16, 12.30s/it]util.save_variable, save variable to:  D:/Brain_Network/Output/jitter/coupling_filter/CD_DE_condition19_joint_fit_fixed_portion_11122021_multi_reg/univariate_filtertype2_951102686_951113056.pkl\n",
      "util.save_variable, save variable to:  D:/Brain_Network/Output/jitter/coupling_filter/CD_DE_condition19_joint_fit_fixed_portion_11122021_multi_reg/multivariate_filtertype2_951102686_951113056.pkl\n",
      "71it [11:25, 11.56s/it]"
     ]
    },
    {
     "name": "stderr",
     "output_type": "stream",
     "text": [
      "D:/Brain_Network/Code\\jitter.py:4063: RuntimeWarning: invalid value encountered in matmul\n",
      "  lmbd = X @ (beta + beta_offset) + offset\n",
      "D:/Brain_Network/Code\\jitter.py:4065: RuntimeWarning: invalid value encountered in matmul\n",
      "  lmbd_integral = basis_integral.T @ (beta + beta_offset) + offset_integral\n",
      "D:/Brain_Network/Code\\jitter.py:4090: RuntimeWarning: invalid value encountered in subtract\n",
      "  beta_err = np.sum(np.abs(beta_old - beta))\n"
     ]
    },
    {
     "name": "stdout",
     "output_type": "stream",
     "text": [
      "util.save_variable, save variable to:  D:/Brain_Network/Output/jitter/coupling_filter/CD_DE_condition19_joint_fit_fixed_portion_11122021_multi_reg/univariate_filtertype2_951102686_951113039.pkl\n",
      "util.save_variable, save variable to:  D:/Brain_Network/Output/jitter/coupling_filter/CD_DE_condition19_joint_fit_fixed_portion_11122021_multi_reg/multivariate_filtertype2_951102686_951113039.pkl\n",
      "72it [11:47, 14.51s/it]util.save_variable, save variable to:  D:/Brain_Network/Output/jitter/coupling_filter/CD_DE_condition19_joint_fit_fixed_portion_11122021_multi_reg/univariate_filtertype2_951102686_951113191.pkl\n",
      "util.save_variable, save variable to:  D:/Brain_Network/Output/jitter/coupling_filter/CD_DE_condition19_joint_fit_fixed_portion_11122021_multi_reg/multivariate_filtertype2_951102686_951113191.pkl\n",
      "73it [11:57, 13.30s/it]util.save_variable, save variable to:  D:/Brain_Network/Output/jitter/coupling_filter/CD_DE_condition19_joint_fit_fixed_portion_11122021_multi_reg/univariate_filtertype2_951102686_951113175.pkl\n",
      "util.save_variable, save variable to:  D:/Brain_Network/Output/jitter/coupling_filter/CD_DE_condition19_joint_fit_fixed_portion_11122021_multi_reg/multivariate_filtertype2_951102686_951113175.pkl\n",
      "74it [12:10, 13.09s/it]"
     ]
    },
    {
     "name": "stderr",
     "output_type": "stream",
     "text": [
      "D:/Brain_Network/Code\\jitter.py:4063: RuntimeWarning: invalid value encountered in matmul\n",
      "  lmbd = X @ (beta + beta_offset) + offset\n",
      "D:/Brain_Network/Code\\jitter.py:4065: RuntimeWarning: invalid value encountered in matmul\n",
      "  lmbd_integral = basis_integral.T @ (beta + beta_offset) + offset_integral\n",
      "D:/Brain_Network/Code\\jitter.py:4090: RuntimeWarning: invalid value encountered in subtract\n",
      "  beta_err = np.sum(np.abs(beta_old - beta))\n"
     ]
    },
    {
     "name": "stdout",
     "output_type": "stream",
     "text": [
      "util.save_variable, save variable to:  D:/Brain_Network/Output/jitter/coupling_filter/CD_DE_condition19_joint_fit_fixed_portion_11122021_multi_reg/univariate_filtertype2_951102686_951113141.pkl\n",
      "util.save_variable, save variable to:  D:/Brain_Network/Output/jitter/coupling_filter/CD_DE_condition19_joint_fit_fixed_portion_11122021_multi_reg/multivariate_filtertype2_951102686_951113141.pkl\n",
      "75it [12:21, 12.37s/it]util.save_variable, save variable to:  D:/Brain_Network/Output/jitter/coupling_filter/CD_DE_condition19_joint_fit_fixed_portion_11122021_multi_reg/univariate_filtertype2_951102686_951113271.pkl\n",
      "util.save_variable, save variable to:  D:/Brain_Network/Output/jitter/coupling_filter/CD_DE_condition19_joint_fit_fixed_portion_11122021_multi_reg/multivariate_filtertype2_951102686_951113271.pkl\n",
      "76it [12:54, 18.77s/it]util.save_variable, save variable to:  D:/Brain_Network/Output/jitter/coupling_filter/CD_DE_condition19_joint_fit_fixed_portion_11122021_multi_reg/univariate_filtertype2_951102686_951113211.pkl\n",
      "util.save_variable, save variable to:  D:/Brain_Network/Output/jitter/coupling_filter/CD_DE_condition19_joint_fit_fixed_portion_11122021_multi_reg/multivariate_filtertype2_951102686_951113211.pkl\n",
      "77it [13:09, 17.41s/it]util.save_variable, save variable to:  D:/Brain_Network/Output/jitter/coupling_filter/CD_DE_condition19_joint_fit_fixed_portion_11122021_multi_reg/univariate_filtertype2_951102686_951113240.pkl\n",
      "util.save_variable, save variable to:  D:/Brain_Network/Output/jitter/coupling_filter/CD_DE_condition19_joint_fit_fixed_portion_11122021_multi_reg/multivariate_filtertype2_951102686_951113240.pkl\n",
      "78it [13:19, 15.27s/it]util.save_variable, save variable to:  D:/Brain_Network/Output/jitter/coupling_filter/CD_DE_condition19_joint_fit_fixed_portion_11122021_multi_reg/univariate_filtertype2_951102686_951113464.pkl\n",
      "util.save_variable, save variable to:  D:/Brain_Network/Output/jitter/coupling_filter/CD_DE_condition19_joint_fit_fixed_portion_11122021_multi_reg/multivariate_filtertype2_951102686_951113464.pkl\n",
      "79it [13:36, 15.69s/it]"
     ]
    },
    {
     "name": "stderr",
     "output_type": "stream",
     "text": [
      "D:/Brain_Network/Code\\jitter.py:4063: RuntimeWarning: invalid value encountered in matmul\n",
      "  lmbd = X @ (beta + beta_offset) + offset\n",
      "D:/Brain_Network/Code\\jitter.py:4065: RuntimeWarning: invalid value encountered in matmul\n",
      "  lmbd_integral = basis_integral.T @ (beta + beta_offset) + offset_integral\n",
      "D:/Brain_Network/Code\\jitter.py:4090: RuntimeWarning: invalid value encountered in subtract\n",
      "  beta_err = np.sum(np.abs(beta_old - beta))\n"
     ]
    },
    {
     "name": "stdout",
     "output_type": "stream",
     "text": [
      "util.save_variable, save variable to:  D:/Brain_Network/Output/jitter/coupling_filter/CD_DE_condition19_joint_fit_fixed_portion_11122021_multi_reg/univariate_filtertype2_951102686_951113514.pkl\n",
      "util.save_variable, save variable to:  D:/Brain_Network/Output/jitter/coupling_filter/CD_DE_condition19_joint_fit_fixed_portion_11122021_multi_reg/multivariate_filtertype2_951102686_951113514.pkl\n",
      "80it [13:48, 14.62s/it]util.save_variable, save variable to:  D:/Brain_Network/Output/jitter/coupling_filter/CD_DE_condition19_joint_fit_fixed_portion_11122021_multi_reg/univariate_filtertype2_951102686_951113717.pkl\n",
      "util.save_variable, save variable to:  D:/Brain_Network/Output/jitter/coupling_filter/CD_DE_condition19_joint_fit_fixed_portion_11122021_multi_reg/multivariate_filtertype2_951102686_951113717.pkl\n",
      "81it [13:58, 13.36s/it]util.save_variable, save variable to:  D:/Brain_Network/Output/jitter/coupling_filter/CD_DE_condition19_joint_fit_fixed_portion_11122021_multi_reg/univariate_filtertype2_951102962_951112464.pkl\n",
      "util.save_variable, save variable to:  D:/Brain_Network/Output/jitter/coupling_filter/CD_DE_condition19_joint_fit_fixed_portion_11122021_multi_reg/multivariate_filtertype2_951102962_951112464.pkl\n",
      "82it [14:08, 12.30s/it]util.save_variable, save variable to:  D:/Brain_Network/Output/jitter/coupling_filter/CD_DE_condition19_joint_fit_fixed_portion_11122021_multi_reg/univariate_filtertype2_951102962_951112448.pkl\n",
      "util.save_variable, save variable to:  D:/Brain_Network/Output/jitter/coupling_filter/CD_DE_condition19_joint_fit_fixed_portion_11122021_multi_reg/multivariate_filtertype2_951102962_951112448.pkl\n",
      "83it [14:21, 12.55s/it]util.save_variable, save variable to:  D:/Brain_Network/Output/jitter/coupling_filter/CD_DE_condition19_joint_fit_fixed_portion_11122021_multi_reg/univariate_filtertype2_951102962_951112431.pkl\n",
      "util.save_variable, save variable to:  D:/Brain_Network/Output/jitter/coupling_filter/CD_DE_condition19_joint_fit_fixed_portion_11122021_multi_reg/multivariate_filtertype2_951102962_951112431.pkl\n",
      "84it [14:33, 12.31s/it]util.save_variable, save variable to:  D:/Brain_Network/Output/jitter/coupling_filter/CD_DE_condition19_joint_fit_fixed_portion_11122021_multi_reg/univariate_filtertype2_951102962_951112416.pkl\n",
      "util.save_variable, save variable to:  D:/Brain_Network/Output/jitter/coupling_filter/CD_DE_condition19_joint_fit_fixed_portion_11122021_multi_reg/multivariate_filtertype2_951102962_951112416.pkl\n",
      "85it [14:43, 11.62s/it]"
     ]
    },
    {
     "name": "stderr",
     "output_type": "stream",
     "text": [
      "D:/Brain_Network/Code\\jitter.py:4063: RuntimeWarning: invalid value encountered in matmul\n",
      "  lmbd = X @ (beta + beta_offset) + offset\n",
      "D:/Brain_Network/Code\\jitter.py:4065: RuntimeWarning: invalid value encountered in matmul\n",
      "  lmbd_integral = basis_integral.T @ (beta + beta_offset) + offset_integral\n",
      "D:/Brain_Network/Code\\jitter.py:4090: RuntimeWarning: invalid value encountered in subtract\n",
      "  beta_err = np.sum(np.abs(beta_old - beta))\n"
     ]
    },
    {
     "name": "stdout",
     "output_type": "stream",
     "text": [
      "util.save_variable, save variable to:  D:/Brain_Network/Output/jitter/coupling_filter/CD_DE_condition19_joint_fit_fixed_portion_11122021_multi_reg/univariate_filtertype2_951102962_951112479.pkl\n",
      "util.save_variable, save variable to:  D:/Brain_Network/Output/jitter/coupling_filter/CD_DE_condition19_joint_fit_fixed_portion_11122021_multi_reg/multivariate_filtertype2_951102962_951112479.pkl\n",
      "86it [14:54, 11.56s/it]util.save_variable, save variable to:  D:/Brain_Network/Output/jitter/coupling_filter/CD_DE_condition19_joint_fit_fixed_portion_11122021_multi_reg/univariate_filtertype2_951102962_951112638.pkl\n",
      "util.save_variable, save variable to:  D:/Brain_Network/Output/jitter/coupling_filter/CD_DE_condition19_joint_fit_fixed_portion_11122021_multi_reg/multivariate_filtertype2_951102962_951112638.pkl\n",
      "87it [15:07, 12.01s/it]"
     ]
    },
    {
     "name": "stderr",
     "output_type": "stream",
     "text": [
      "D:/Brain_Network/Code\\jitter.py:4063: RuntimeWarning: invalid value encountered in matmul\n",
      "  lmbd = X @ (beta + beta_offset) + offset\n",
      "D:/Brain_Network/Code\\jitter.py:4065: RuntimeWarning: invalid value encountered in matmul\n",
      "  lmbd_integral = basis_integral.T @ (beta + beta_offset) + offset_integral\n",
      "D:/Brain_Network/Code\\jitter.py:4090: RuntimeWarning: invalid value encountered in subtract\n",
      "  beta_err = np.sum(np.abs(beta_old - beta))\n"
     ]
    },
    {
     "name": "stdout",
     "output_type": "stream",
     "text": [
      "util.save_variable, save variable to:  D:/Brain_Network/Output/jitter/coupling_filter/CD_DE_condition19_joint_fit_fixed_portion_11122021_multi_reg/univariate_filtertype2_951102962_951112590.pkl\n",
      "util.save_variable, save variable to:  D:/Brain_Network/Output/jitter/coupling_filter/CD_DE_condition19_joint_fit_fixed_portion_11122021_multi_reg/multivariate_filtertype2_951102962_951112590.pkl\n",
      "88it [15:21, 12.46s/it]"
     ]
    },
    {
     "name": "stderr",
     "output_type": "stream",
     "text": [
      "D:/Brain_Network/Code\\jitter.py:8323: UserWarning: Reach max itrs 500. Last err:2.520e-01\n",
      "  warnings.warn(f'Reach max itrs {max_num_itrs}. Last err:{beta_err:.3e}')\n"
     ]
    },
    {
     "name": "stdout",
     "output_type": "stream",
     "text": [
      "util.save_variable, save variable to:  D:/Brain_Network/Output/jitter/coupling_filter/CD_DE_condition19_joint_fit_fixed_portion_11122021_multi_reg/univariate_filtertype2_951102962_951112712.pkl\n",
      "util.save_variable, save variable to:  D:/Brain_Network/Output/jitter/coupling_filter/CD_DE_condition19_joint_fit_fixed_portion_11122021_multi_reg/multivariate_filtertype2_951102962_951112712.pkl\n",
      "89it [15:40, 14.51s/it]"
     ]
    },
    {
     "name": "stderr",
     "output_type": "stream",
     "text": [
      "D:/Brain_Network/Code\\jitter.py:3298: RuntimeWarning: invalid value encountered in add\n",
      "  nll = -np.sum(np.log(lmbd_samples)) + lmbd_integral\n",
      "D:/Brain_Network/Code\\jitter.py:4090: RuntimeWarning: invalid value encountered in subtract\n",
      "  beta_err = np.sum(np.abs(beta_old - beta))\n"
     ]
    },
    {
     "name": "stdout",
     "output_type": "stream",
     "text": [
      "util.save_variable, save variable to:  D:/Brain_Network/Output/jitter/coupling_filter/CD_DE_condition19_joint_fit_fixed_portion_11122021_multi_reg/univariate_filtertype2_951102962_951112786.pkl\n",
      "util.save_variable, save variable to:  D:/Brain_Network/Output/jitter/coupling_filter/CD_DE_condition19_joint_fit_fixed_portion_11122021_multi_reg/multivariate_filtertype2_951102962_951112786.pkl\n",
      "90it [15:50, 13.22s/it]"
     ]
    },
    {
     "name": "stderr",
     "output_type": "stream",
     "text": [
      "D:/Brain_Network/Code\\jitter.py:4063: RuntimeWarning: invalid value encountered in matmul\n",
      "  lmbd = X @ (beta + beta_offset) + offset\n",
      "D:/Brain_Network/Code\\jitter.py:4065: RuntimeWarning: invalid value encountered in matmul\n",
      "  lmbd_integral = basis_integral.T @ (beta + beta_offset) + offset_integral\n",
      "D:/Brain_Network/Code\\jitter.py:4090: RuntimeWarning: invalid value encountered in subtract\n",
      "  beta_err = np.sum(np.abs(beta_old - beta))\n"
     ]
    },
    {
     "name": "stdout",
     "output_type": "stream",
     "text": [
      "util.save_variable, save variable to:  D:/Brain_Network/Output/jitter/coupling_filter/CD_DE_condition19_joint_fit_fixed_portion_11122021_multi_reg/univariate_filtertype2_951102962_951112780.pkl\n",
      "util.save_variable, save variable to:  D:/Brain_Network/Output/jitter/coupling_filter/CD_DE_condition19_joint_fit_fixed_portion_11122021_multi_reg/multivariate_filtertype2_951102962_951112780.pkl\n",
      "91it [15:57, 11.42s/it]util.save_variable, save variable to:  D:/Brain_Network/Output/jitter/coupling_filter/CD_DE_condition19_joint_fit_fixed_portion_11122021_multi_reg/univariate_filtertype2_951102962_951112768.pkl\n",
      "util.save_variable, save variable to:  D:/Brain_Network/Output/jitter/coupling_filter/CD_DE_condition19_joint_fit_fixed_portion_11122021_multi_reg/multivariate_filtertype2_951102962_951112768.pkl\n",
      "92it [16:15, 13.34s/it]"
     ]
    },
    {
     "name": "stderr",
     "output_type": "stream",
     "text": [
      "D:/Brain_Network/Code\\jitter.py:4063: RuntimeWarning: invalid value encountered in matmul\n",
      "  lmbd = X @ (beta + beta_offset) + offset\n",
      "D:/Brain_Network/Code\\jitter.py:4065: RuntimeWarning: invalid value encountered in matmul\n",
      "  lmbd_integral = basis_integral.T @ (beta + beta_offset) + offset_integral\n",
      "D:/Brain_Network/Code\\jitter.py:4090: RuntimeWarning: invalid value encountered in subtract\n",
      "  beta_err = np.sum(np.abs(beta_old - beta))\n"
     ]
    },
    {
     "name": "stdout",
     "output_type": "stream",
     "text": [
      "util.save_variable, save variable to:  D:/Brain_Network/Output/jitter/coupling_filter/CD_DE_condition19_joint_fit_fixed_portion_11122021_multi_reg/univariate_filtertype2_951102962_951112845.pkl\n",
      "util.save_variable, save variable to:  D:/Brain_Network/Output/jitter/coupling_filter/CD_DE_condition19_joint_fit_fixed_portion_11122021_multi_reg/multivariate_filtertype2_951102962_951112845.pkl\n",
      "93it [16:24, 11.81s/it]"
     ]
    },
    {
     "name": "stderr",
     "output_type": "stream",
     "text": [
      "D:/Brain_Network/Code\\jitter.py:4063: RuntimeWarning: invalid value encountered in matmul\n",
      "  lmbd = X @ (beta + beta_offset) + offset\n",
      "D:/Brain_Network/Code\\jitter.py:4065: RuntimeWarning: invalid value encountered in matmul\n",
      "  lmbd_integral = basis_integral.T @ (beta + beta_offset) + offset_integral\n",
      "D:/Brain_Network/Code\\jitter.py:4090: RuntimeWarning: invalid value encountered in subtract\n",
      "  beta_err = np.sum(np.abs(beta_old - beta))\n"
     ]
    },
    {
     "name": "stdout",
     "output_type": "stream",
     "text": [
      "util.save_variable, save variable to:  D:/Brain_Network/Output/jitter/coupling_filter/CD_DE_condition19_joint_fit_fixed_portion_11122021_multi_reg/univariate_filtertype2_951102962_951112906.pkl\n",
      "util.save_variable, save variable to:  D:/Brain_Network/Output/jitter/coupling_filter/CD_DE_condition19_joint_fit_fixed_portion_11122021_multi_reg/multivariate_filtertype2_951102962_951112906.pkl\n",
      "94it [16:33, 11.21s/it]util.save_variable, save variable to:  D:/Brain_Network/Output/jitter/coupling_filter/CD_DE_condition19_joint_fit_fixed_portion_11122021_multi_reg/univariate_filtertype2_951102962_951112937.pkl\n",
      "util.save_variable, save variable to:  D:/Brain_Network/Output/jitter/coupling_filter/CD_DE_condition19_joint_fit_fixed_portion_11122021_multi_reg/multivariate_filtertype2_951102962_951112937.pkl\n",
      "95it [16:43, 10.79s/it]util.save_variable, save variable to:  D:/Brain_Network/Output/jitter/coupling_filter/CD_DE_condition19_joint_fit_fixed_portion_11122021_multi_reg/univariate_filtertype2_951102962_951112992.pkl\n",
      "util.save_variable, save variable to:  D:/Brain_Network/Output/jitter/coupling_filter/CD_DE_condition19_joint_fit_fixed_portion_11122021_multi_reg/multivariate_filtertype2_951102962_951112992.pkl\n",
      "96it [17:00, 12.54s/it]util.save_variable, save variable to:  D:/Brain_Network/Output/jitter/coupling_filter/CD_DE_condition19_joint_fit_fixed_portion_11122021_multi_reg/univariate_filtertype2_951102962_951113075.pkl\n",
      "util.save_variable, save variable to:  D:/Brain_Network/Output/jitter/coupling_filter/CD_DE_condition19_joint_fit_fixed_portion_11122021_multi_reg/multivariate_filtertype2_951102962_951113075.pkl\n",
      "97it [17:10, 11.74s/it]util.save_variable, save variable to:  D:/Brain_Network/Output/jitter/coupling_filter/CD_DE_condition19_joint_fit_fixed_portion_11122021_multi_reg/univariate_filtertype2_951102962_951113056.pkl\n",
      "util.save_variable, save variable to:  D:/Brain_Network/Output/jitter/coupling_filter/CD_DE_condition19_joint_fit_fixed_portion_11122021_multi_reg/multivariate_filtertype2_951102962_951113056.pkl\n",
      "98it [17:20, 11.18s/it]util.save_variable, save variable to:  D:/Brain_Network/Output/jitter/coupling_filter/CD_DE_condition19_joint_fit_fixed_portion_11122021_multi_reg/univariate_filtertype2_951102962_951113039.pkl\n",
      "util.save_variable, save variable to:  D:/Brain_Network/Output/jitter/coupling_filter/CD_DE_condition19_joint_fit_fixed_portion_11122021_multi_reg/multivariate_filtertype2_951102962_951113039.pkl\n",
      "99it [17:37, 13.02s/it]util.save_variable, save variable to:  D:/Brain_Network/Output/jitter/coupling_filter/CD_DE_condition19_joint_fit_fixed_portion_11122021_multi_reg/univariate_filtertype2_951102962_951113191.pkl\n",
      "util.save_variable, save variable to:  D:/Brain_Network/Output/jitter/coupling_filter/CD_DE_condition19_joint_fit_fixed_portion_11122021_multi_reg/multivariate_filtertype2_951102962_951113191.pkl\n",
      "100it [17:48, 12.38s/it]util.save_variable, save variable to:  D:/Brain_Network/Output/jitter/coupling_filter/CD_DE_condition19_joint_fit_fixed_portion_11122021_multi_reg/univariate_filtertype2_951102962_951113175.pkl\n",
      "util.save_variable, save variable to:  D:/Brain_Network/Output/jitter/coupling_filter/CD_DE_condition19_joint_fit_fixed_portion_11122021_multi_reg/multivariate_filtertype2_951102962_951113175.pkl\n",
      "101it [18:00, 12.46s/it]util.save_variable, save variable to:  D:/Brain_Network/Output/jitter/coupling_filter/CD_DE_condition19_joint_fit_fixed_portion_11122021_multi_reg/univariate_filtertype2_951102962_951113141.pkl\n",
      "util.save_variable, save variable to:  D:/Brain_Network/Output/jitter/coupling_filter/CD_DE_condition19_joint_fit_fixed_portion_11122021_multi_reg/multivariate_filtertype2_951102962_951113141.pkl\n",
      "102it [18:12, 12.28s/it]util.save_variable, save variable to:  D:/Brain_Network/Output/jitter/coupling_filter/CD_DE_condition19_joint_fit_fixed_portion_11122021_multi_reg/univariate_filtertype2_951102962_951113271.pkl\n",
      "util.save_variable, save variable to:  D:/Brain_Network/Output/jitter/coupling_filter/CD_DE_condition19_joint_fit_fixed_portion_11122021_multi_reg/multivariate_filtertype2_951102962_951113271.pkl\n",
      "103it [18:39, 16.59s/it]util.save_variable, save variable to:  D:/Brain_Network/Output/jitter/coupling_filter/CD_DE_condition19_joint_fit_fixed_portion_11122021_multi_reg/univariate_filtertype2_951102962_951113211.pkl\n",
      "util.save_variable, save variable to:  D:/Brain_Network/Output/jitter/coupling_filter/CD_DE_condition19_joint_fit_fixed_portion_11122021_multi_reg/multivariate_filtertype2_951102962_951113211.pkl\n",
      "104it [18:52, 15.41s/it]"
     ]
    },
    {
     "name": "stderr",
     "output_type": "stream",
     "text": [
      "D:/Brain_Network/Code\\jitter.py:4063: RuntimeWarning: invalid value encountered in matmul\n",
      "  lmbd = X @ (beta + beta_offset) + offset\n",
      "D:/Brain_Network/Code\\jitter.py:4065: RuntimeWarning: invalid value encountered in matmul\n",
      "  lmbd_integral = basis_integral.T @ (beta + beta_offset) + offset_integral\n",
      "D:/Brain_Network/Code\\jitter.py:4090: RuntimeWarning: invalid value encountered in subtract\n",
      "  beta_err = np.sum(np.abs(beta_old - beta))\n"
     ]
    },
    {
     "name": "stdout",
     "output_type": "stream",
     "text": [
      "util.save_variable, save variable to:  D:/Brain_Network/Output/jitter/coupling_filter/CD_DE_condition19_joint_fit_fixed_portion_11122021_multi_reg/univariate_filtertype2_951102962_951113240.pkl\n",
      "util.save_variable, save variable to:  D:/Brain_Network/Output/jitter/coupling_filter/CD_DE_condition19_joint_fit_fixed_portion_11122021_multi_reg/multivariate_filtertype2_951102962_951113240.pkl\n",
      "105it [19:00, 13.38s/it]util.save_variable, save variable to:  D:/Brain_Network/Output/jitter/coupling_filter/CD_DE_condition19_joint_fit_fixed_portion_11122021_multi_reg/univariate_filtertype2_951102962_951113464.pkl\n",
      "util.save_variable, save variable to:  D:/Brain_Network/Output/jitter/coupling_filter/CD_DE_condition19_joint_fit_fixed_portion_11122021_multi_reg/multivariate_filtertype2_951102962_951113464.pkl\n",
      "106it [19:16, 14.17s/it]"
     ]
    },
    {
     "name": "stderr",
     "output_type": "stream",
     "text": [
      "D:/Brain_Network/Code\\jitter.py:4063: RuntimeWarning: invalid value encountered in matmul\n",
      "  lmbd = X @ (beta + beta_offset) + offset\n",
      "D:/Brain_Network/Code\\jitter.py:4065: RuntimeWarning: invalid value encountered in matmul\n",
      "  lmbd_integral = basis_integral.T @ (beta + beta_offset) + offset_integral\n",
      "D:/Brain_Network/Code\\jitter.py:4090: RuntimeWarning: invalid value encountered in subtract\n",
      "  beta_err = np.sum(np.abs(beta_old - beta))\n"
     ]
    },
    {
     "name": "stdout",
     "output_type": "stream",
     "text": [
      "util.save_variable, save variable to:  D:/Brain_Network/Output/jitter/coupling_filter/CD_DE_condition19_joint_fit_fixed_portion_11122021_multi_reg/univariate_filtertype2_951102962_951113514.pkl\n",
      "util.save_variable, save variable to:  D:/Brain_Network/Output/jitter/coupling_filter/CD_DE_condition19_joint_fit_fixed_portion_11122021_multi_reg/multivariate_filtertype2_951102962_951113514.pkl\n",
      "107it [19:29, 13.87s/it]util.save_variable, save variable to:  D:/Brain_Network/Output/jitter/coupling_filter/CD_DE_condition19_joint_fit_fixed_portion_11122021_multi_reg/univariate_filtertype2_951102962_951113717.pkl\n",
      "util.save_variable, save variable to:  D:/Brain_Network/Output/jitter/coupling_filter/CD_DE_condition19_joint_fit_fixed_portion_11122021_multi_reg/multivariate_filtertype2_951102962_951113717.pkl\n",
      "108it [19:40, 12.95s/it]"
     ]
    },
    {
     "name": "stderr",
     "output_type": "stream",
     "text": [
      "D:/Brain_Network/Code\\jitter.py:4063: RuntimeWarning: invalid value encountered in matmul\n",
      "  lmbd = X @ (beta + beta_offset) + offset\n",
      "D:/Brain_Network/Code\\jitter.py:4065: RuntimeWarning: invalid value encountered in matmul\n",
      "  lmbd_integral = basis_integral.T @ (beta + beta_offset) + offset_integral\n",
      "D:/Brain_Network/Code\\jitter.py:4090: RuntimeWarning: invalid value encountered in subtract\n",
      "  beta_err = np.sum(np.abs(beta_old - beta))\n"
     ]
    },
    {
     "name": "stdout",
     "output_type": "stream",
     "text": [
      "util.save_variable, save variable to:  D:/Brain_Network/Output/jitter/coupling_filter/CD_DE_condition19_joint_fit_fixed_portion_11122021_multi_reg/univariate_filtertype2_951102820_951112464.pkl\n",
      "util.save_variable, save variable to:  D:/Brain_Network/Output/jitter/coupling_filter/CD_DE_condition19_joint_fit_fixed_portion_11122021_multi_reg/multivariate_filtertype2_951102820_951112464.pkl\n",
      "109it [19:49, 11.66s/it]"
     ]
    },
    {
     "name": "stderr",
     "output_type": "stream",
     "text": [
      "D:/Brain_Network/Code\\jitter.py:4063: RuntimeWarning: invalid value encountered in matmul\n",
      "  lmbd = X @ (beta + beta_offset) + offset\n",
      "D:/Brain_Network/Code\\jitter.py:4065: RuntimeWarning: invalid value encountered in matmul\n",
      "  lmbd_integral = basis_integral.T @ (beta + beta_offset) + offset_integral\n",
      "D:/Brain_Network/Code\\jitter.py:4090: RuntimeWarning: invalid value encountered in subtract\n",
      "  beta_err = np.sum(np.abs(beta_old - beta))\n"
     ]
    },
    {
     "name": "stdout",
     "output_type": "stream",
     "text": [
      "util.save_variable, save variable to:  D:/Brain_Network/Output/jitter/coupling_filter/CD_DE_condition19_joint_fit_fixed_portion_11122021_multi_reg/univariate_filtertype2_951102820_951112448.pkl\n",
      "util.save_variable, save variable to:  D:/Brain_Network/Output/jitter/coupling_filter/CD_DE_condition19_joint_fit_fixed_portion_11122021_multi_reg/multivariate_filtertype2_951102820_951112448.pkl\n",
      "110it [19:58, 10.80s/it]util.save_variable, save variable to:  D:/Brain_Network/Output/jitter/coupling_filter/CD_DE_condition19_joint_fit_fixed_portion_11122021_multi_reg/univariate_filtertype2_951102820_951112431.pkl\n",
      "util.save_variable, save variable to:  D:/Brain_Network/Output/jitter/coupling_filter/CD_DE_condition19_joint_fit_fixed_portion_11122021_multi_reg/multivariate_filtertype2_951102820_951112431.pkl\n",
      "111it [20:06, 10.13s/it]"
     ]
    },
    {
     "name": "stderr",
     "output_type": "stream",
     "text": [
      "D:/Brain_Network/Code\\jitter.py:4063: RuntimeWarning: invalid value encountered in matmul\n",
      "  lmbd = X @ (beta + beta_offset) + offset\n",
      "D:/Brain_Network/Code\\jitter.py:4065: RuntimeWarning: invalid value encountered in matmul\n",
      "  lmbd_integral = basis_integral.T @ (beta + beta_offset) + offset_integral\n",
      "D:/Brain_Network/Code\\jitter.py:4090: RuntimeWarning: invalid value encountered in subtract\n",
      "  beta_err = np.sum(np.abs(beta_old - beta))\n"
     ]
    },
    {
     "name": "stdout",
     "output_type": "stream",
     "text": [
      "util.save_variable, save variable to:  D:/Brain_Network/Output/jitter/coupling_filter/CD_DE_condition19_joint_fit_fixed_portion_11122021_multi_reg/univariate_filtertype2_951102820_951112416.pkl\n",
      "util.save_variable, save variable to:  D:/Brain_Network/Output/jitter/coupling_filter/CD_DE_condition19_joint_fit_fixed_portion_11122021_multi_reg/multivariate_filtertype2_951102820_951112416.pkl\n",
      "112it [20:14,  9.53s/it]util.save_variable, save variable to:  D:/Brain_Network/Output/jitter/coupling_filter/CD_DE_condition19_joint_fit_fixed_portion_11122021_multi_reg/univariate_filtertype2_951102820_951112479.pkl\n",
      "util.save_variable, save variable to:  D:/Brain_Network/Output/jitter/coupling_filter/CD_DE_condition19_joint_fit_fixed_portion_11122021_multi_reg/multivariate_filtertype2_951102820_951112479.pkl\n",
      "113it [20:23,  9.14s/it]util.save_variable, save variable to:  D:/Brain_Network/Output/jitter/coupling_filter/CD_DE_condition19_joint_fit_fixed_portion_11122021_multi_reg/univariate_filtertype2_951102820_951112638.pkl\n",
      "util.save_variable, save variable to:  D:/Brain_Network/Output/jitter/coupling_filter/CD_DE_condition19_joint_fit_fixed_portion_11122021_multi_reg/multivariate_filtertype2_951102820_951112638.pkl\n",
      "114it [20:31,  9.04s/it]util.save_variable, save variable to:  D:/Brain_Network/Output/jitter/coupling_filter/CD_DE_condition19_joint_fit_fixed_portion_11122021_multi_reg/univariate_filtertype2_951102820_951112590.pkl\n",
      "util.save_variable, save variable to:  D:/Brain_Network/Output/jitter/coupling_filter/CD_DE_condition19_joint_fit_fixed_portion_11122021_multi_reg/multivariate_filtertype2_951102820_951112590.pkl\n",
      "115it [20:41,  9.36s/it]util.save_variable, save variable to:  D:/Brain_Network/Output/jitter/coupling_filter/CD_DE_condition19_joint_fit_fixed_portion_11122021_multi_reg/univariate_filtertype2_951102820_951112712.pkl\n",
      "util.save_variable, save variable to:  D:/Brain_Network/Output/jitter/coupling_filter/CD_DE_condition19_joint_fit_fixed_portion_11122021_multi_reg/multivariate_filtertype2_951102820_951112712.pkl\n",
      "116it [20:56, 11.07s/it]util.save_variable, save variable to:  D:/Brain_Network/Output/jitter/coupling_filter/CD_DE_condition19_joint_fit_fixed_portion_11122021_multi_reg/univariate_filtertype2_951102820_951112786.pkl\n",
      "util.save_variable, save variable to:  D:/Brain_Network/Output/jitter/coupling_filter/CD_DE_condition19_joint_fit_fixed_portion_11122021_multi_reg/multivariate_filtertype2_951102820_951112786.pkl\n",
      "117it [21:05, 10.18s/it]util.save_variable, save variable to:  D:/Brain_Network/Output/jitter/coupling_filter/CD_DE_condition19_joint_fit_fixed_portion_11122021_multi_reg/univariate_filtertype2_951102820_951112780.pkl\n",
      "util.save_variable, save variable to:  D:/Brain_Network/Output/jitter/coupling_filter/CD_DE_condition19_joint_fit_fixed_portion_11122021_multi_reg/multivariate_filtertype2_951102820_951112780.pkl\n",
      "118it [21:12,  9.41s/it]util.save_variable, save variable to:  D:/Brain_Network/Output/jitter/coupling_filter/CD_DE_condition19_joint_fit_fixed_portion_11122021_multi_reg/univariate_filtertype2_951102820_951112768.pkl\n",
      "util.save_variable, save variable to:  D:/Brain_Network/Output/jitter/coupling_filter/CD_DE_condition19_joint_fit_fixed_portion_11122021_multi_reg/multivariate_filtertype2_951102820_951112768.pkl\n",
      "119it [21:25, 10.33s/it]util.save_variable, save variable to:  D:/Brain_Network/Output/jitter/coupling_filter/CD_DE_condition19_joint_fit_fixed_portion_11122021_multi_reg/univariate_filtertype2_951102820_951112845.pkl\n",
      "util.save_variable, save variable to:  D:/Brain_Network/Output/jitter/coupling_filter/CD_DE_condition19_joint_fit_fixed_portion_11122021_multi_reg/multivariate_filtertype2_951102820_951112845.pkl\n",
      "120it [21:32,  9.30s/it]util.save_variable, save variable to:  D:/Brain_Network/Output/jitter/coupling_filter/CD_DE_condition19_joint_fit_fixed_portion_11122021_multi_reg/univariate_filtertype2_951102820_951112906.pkl\n",
      "util.save_variable, save variable to:  D:/Brain_Network/Output/jitter/coupling_filter/CD_DE_condition19_joint_fit_fixed_portion_11122021_multi_reg/multivariate_filtertype2_951102820_951112906.pkl\n",
      "121it [21:39,  8.78s/it]util.save_variable, save variable to:  D:/Brain_Network/Output/jitter/coupling_filter/CD_DE_condition19_joint_fit_fixed_portion_11122021_multi_reg/univariate_filtertype2_951102820_951112937.pkl\n",
      "util.save_variable, save variable to:  D:/Brain_Network/Output/jitter/coupling_filter/CD_DE_condition19_joint_fit_fixed_portion_11122021_multi_reg/multivariate_filtertype2_951102820_951112937.pkl\n",
      "122it [21:46,  8.16s/it]util.save_variable, save variable to:  D:/Brain_Network/Output/jitter/coupling_filter/CD_DE_condition19_joint_fit_fixed_portion_11122021_multi_reg/univariate_filtertype2_951102820_951112992.pkl\n",
      "util.save_variable, save variable to:  D:/Brain_Network/Output/jitter/coupling_filter/CD_DE_condition19_joint_fit_fixed_portion_11122021_multi_reg/multivariate_filtertype2_951102820_951112992.pkl\n",
      "123it [21:57,  9.00s/it]util.save_variable, save variable to:  D:/Brain_Network/Output/jitter/coupling_filter/CD_DE_condition19_joint_fit_fixed_portion_11122021_multi_reg/univariate_filtertype2_951102820_951113075.pkl\n",
      "util.save_variable, save variable to:  D:/Brain_Network/Output/jitter/coupling_filter/CD_DE_condition19_joint_fit_fixed_portion_11122021_multi_reg/multivariate_filtertype2_951102820_951113075.pkl\n",
      "124it [22:04,  8.42s/it]util.save_variable, save variable to:  D:/Brain_Network/Output/jitter/coupling_filter/CD_DE_condition19_joint_fit_fixed_portion_11122021_multi_reg/univariate_filtertype2_951102820_951113056.pkl\n",
      "util.save_variable, save variable to:  D:/Brain_Network/Output/jitter/coupling_filter/CD_DE_condition19_joint_fit_fixed_portion_11122021_multi_reg/multivariate_filtertype2_951102820_951113056.pkl\n",
      "125it [22:11,  7.98s/it]util.save_variable, save variable to:  D:/Brain_Network/Output/jitter/coupling_filter/CD_DE_condition19_joint_fit_fixed_portion_11122021_multi_reg/univariate_filtertype2_951102820_951113039.pkl\n",
      "util.save_variable, save variable to:  D:/Brain_Network/Output/jitter/coupling_filter/CD_DE_condition19_joint_fit_fixed_portion_11122021_multi_reg/multivariate_filtertype2_951102820_951113039.pkl\n",
      "126it [22:22,  9.05s/it]"
     ]
    },
    {
     "name": "stderr",
     "output_type": "stream",
     "text": [
      "D:/Brain_Network/Code\\jitter.py:4063: RuntimeWarning: invalid value encountered in matmul\n",
      "  lmbd = X @ (beta + beta_offset) + offset\n",
      "D:/Brain_Network/Code\\jitter.py:4065: RuntimeWarning: invalid value encountered in matmul\n",
      "  lmbd_integral = basis_integral.T @ (beta + beta_offset) + offset_integral\n",
      "D:/Brain_Network/Code\\jitter.py:4090: RuntimeWarning: invalid value encountered in subtract\n",
      "  beta_err = np.sum(np.abs(beta_old - beta))\n"
     ]
    },
    {
     "name": "stdout",
     "output_type": "stream",
     "text": [
      "util.save_variable, save variable to:  D:/Brain_Network/Output/jitter/coupling_filter/CD_DE_condition19_joint_fit_fixed_portion_11122021_multi_reg/univariate_filtertype2_951102820_951113191.pkl\n",
      "util.save_variable, save variable to:  D:/Brain_Network/Output/jitter/coupling_filter/CD_DE_condition19_joint_fit_fixed_portion_11122021_multi_reg/multivariate_filtertype2_951102820_951113191.pkl\n",
      "127it [22:30,  8.50s/it]util.save_variable, save variable to:  D:/Brain_Network/Output/jitter/coupling_filter/CD_DE_condition19_joint_fit_fixed_portion_11122021_multi_reg/univariate_filtertype2_951102820_951113175.pkl\n",
      "util.save_variable, save variable to:  D:/Brain_Network/Output/jitter/coupling_filter/CD_DE_condition19_joint_fit_fixed_portion_11122021_multi_reg/multivariate_filtertype2_951102820_951113175.pkl\n",
      "128it [22:38,  8.52s/it]util.save_variable, save variable to:  D:/Brain_Network/Output/jitter/coupling_filter/CD_DE_condition19_joint_fit_fixed_portion_11122021_multi_reg/univariate_filtertype2_951102820_951113141.pkl\n",
      "util.save_variable, save variable to:  D:/Brain_Network/Output/jitter/coupling_filter/CD_DE_condition19_joint_fit_fixed_portion_11122021_multi_reg/multivariate_filtertype2_951102820_951113141.pkl\n",
      "129it [22:46,  8.38s/it]util.save_variable, save variable to:  D:/Brain_Network/Output/jitter/coupling_filter/CD_DE_condition19_joint_fit_fixed_portion_11122021_multi_reg/univariate_filtertype2_951102820_951113271.pkl\n",
      "util.save_variable, save variable to:  D:/Brain_Network/Output/jitter/coupling_filter/CD_DE_condition19_joint_fit_fixed_portion_11122021_multi_reg/multivariate_filtertype2_951102820_951113271.pkl\n",
      "130it [23:03, 10.97s/it]util.save_variable, save variable to:  D:/Brain_Network/Output/jitter/coupling_filter/CD_DE_condition19_joint_fit_fixed_portion_11122021_multi_reg/univariate_filtertype2_951102820_951113211.pkl\n",
      "util.save_variable, save variable to:  D:/Brain_Network/Output/jitter/coupling_filter/CD_DE_condition19_joint_fit_fixed_portion_11122021_multi_reg/multivariate_filtertype2_951102820_951113211.pkl\n",
      "131it [23:13, 10.46s/it]"
     ]
    },
    {
     "name": "stderr",
     "output_type": "stream",
     "text": [
      "D:/Brain_Network/Code\\jitter.py:4063: RuntimeWarning: invalid value encountered in matmul\n",
      "  lmbd = X @ (beta + beta_offset) + offset\n",
      "D:/Brain_Network/Code\\jitter.py:4065: RuntimeWarning: invalid value encountered in matmul\n",
      "  lmbd_integral = basis_integral.T @ (beta + beta_offset) + offset_integral\n",
      "D:/Brain_Network/Code\\jitter.py:4090: RuntimeWarning: invalid value encountered in subtract\n",
      "  beta_err = np.sum(np.abs(beta_old - beta))\n",
      "D:/Brain_Network/Code\\jitter.py:3298: RuntimeWarning: invalid value encountered in add\n",
      "  nll = -np.sum(np.log(lmbd_samples)) + lmbd_integral\n"
     ]
    },
    {
     "name": "stdout",
     "output_type": "stream",
     "text": [
      "util.save_variable, save variable to:  D:/Brain_Network/Output/jitter/coupling_filter/CD_DE_condition19_joint_fit_fixed_portion_11122021_multi_reg/univariate_filtertype2_951102820_951113240.pkl\n",
      "util.save_variable, save variable to:  D:/Brain_Network/Output/jitter/coupling_filter/CD_DE_condition19_joint_fit_fixed_portion_11122021_multi_reg/multivariate_filtertype2_951102820_951113240.pkl\n",
      "132it [23:19,  9.35s/it]util.save_variable, save variable to:  D:/Brain_Network/Output/jitter/coupling_filter/CD_DE_condition19_joint_fit_fixed_portion_11122021_multi_reg/univariate_filtertype2_951102820_951113464.pkl\n",
      "util.save_variable, save variable to:  D:/Brain_Network/Output/jitter/coupling_filter/CD_DE_condition19_joint_fit_fixed_portion_11122021_multi_reg/multivariate_filtertype2_951102820_951113464.pkl\n",
      "133it [23:32, 10.28s/it]util.save_variable, save variable to:  D:/Brain_Network/Output/jitter/coupling_filter/CD_DE_condition19_joint_fit_fixed_portion_11122021_multi_reg/univariate_filtertype2_951102820_951113514.pkl\n",
      "util.save_variable, save variable to:  D:/Brain_Network/Output/jitter/coupling_filter/CD_DE_condition19_joint_fit_fixed_portion_11122021_multi_reg/multivariate_filtertype2_951102820_951113514.pkl\n",
      "134it [23:42, 10.25s/it]util.save_variable, save variable to:  D:/Brain_Network/Output/jitter/coupling_filter/CD_DE_condition19_joint_fit_fixed_portion_11122021_multi_reg/univariate_filtertype2_951102820_951113717.pkl\n",
      "util.save_variable, save variable to:  D:/Brain_Network/Output/jitter/coupling_filter/CD_DE_condition19_joint_fit_fixed_portion_11122021_multi_reg/multivariate_filtertype2_951102820_951113717.pkl\n",
      "135it [23:51,  9.95s/it]util.save_variable, save variable to:  D:/Brain_Network/Output/jitter/coupling_filter/CD_DE_condition19_joint_fit_fixed_portion_11122021_multi_reg/univariate_filtertype2_951103019_951112464.pkl\n",
      "util.save_variable, save variable to:  D:/Brain_Network/Output/jitter/coupling_filter/CD_DE_condition19_joint_fit_fixed_portion_11122021_multi_reg/multivariate_filtertype2_951103019_951112464.pkl\n",
      "136it [23:59,  9.32s/it]util.save_variable, save variable to:  D:/Brain_Network/Output/jitter/coupling_filter/CD_DE_condition19_joint_fit_fixed_portion_11122021_multi_reg/univariate_filtertype2_951103019_951112448.pkl\n",
      "util.save_variable, save variable to:  D:/Brain_Network/Output/jitter/coupling_filter/CD_DE_condition19_joint_fit_fixed_portion_11122021_multi_reg/multivariate_filtertype2_951103019_951112448.pkl\n",
      "137it [24:07,  8.98s/it]"
     ]
    },
    {
     "name": "stderr",
     "output_type": "stream",
     "text": [
      "D:/Brain_Network/Code\\jitter.py:4063: RuntimeWarning: invalid value encountered in matmul\n",
      "  lmbd = X @ (beta + beta_offset) + offset\n",
      "D:/Brain_Network/Code\\jitter.py:4065: RuntimeWarning: invalid value encountered in matmul\n",
      "  lmbd_integral = basis_integral.T @ (beta + beta_offset) + offset_integral\n",
      "D:/Brain_Network/Code\\jitter.py:4090: RuntimeWarning: invalid value encountered in subtract\n",
      "  beta_err = np.sum(np.abs(beta_old - beta))\n"
     ]
    },
    {
     "name": "stdout",
     "output_type": "stream",
     "text": [
      "util.save_variable, save variable to:  D:/Brain_Network/Output/jitter/coupling_filter/CD_DE_condition19_joint_fit_fixed_portion_11122021_multi_reg/univariate_filtertype2_951103019_951112431.pkl\n",
      "util.save_variable, save variable to:  D:/Brain_Network/Output/jitter/coupling_filter/CD_DE_condition19_joint_fit_fixed_portion_11122021_multi_reg/multivariate_filtertype2_951103019_951112431.pkl\n",
      "138it [24:14,  8.46s/it]util.save_variable, save variable to:  D:/Brain_Network/Output/jitter/coupling_filter/CD_DE_condition19_joint_fit_fixed_portion_11122021_multi_reg/univariate_filtertype2_951103019_951112416.pkl\n",
      "util.save_variable, save variable to:  D:/Brain_Network/Output/jitter/coupling_filter/CD_DE_condition19_joint_fit_fixed_portion_11122021_multi_reg/multivariate_filtertype2_951103019_951112416.pkl\n",
      "139it [24:22,  8.31s/it]util.save_variable, save variable to:  D:/Brain_Network/Output/jitter/coupling_filter/CD_DE_condition19_joint_fit_fixed_portion_11122021_multi_reg/univariate_filtertype2_951103019_951112479.pkl\n",
      "util.save_variable, save variable to:  D:/Brain_Network/Output/jitter/coupling_filter/CD_DE_condition19_joint_fit_fixed_portion_11122021_multi_reg/multivariate_filtertype2_951103019_951112479.pkl\n",
      "140it [24:31,  8.26s/it]util.save_variable, save variable to:  D:/Brain_Network/Output/jitter/coupling_filter/CD_DE_condition19_joint_fit_fixed_portion_11122021_multi_reg/univariate_filtertype2_951103019_951112638.pkl\n",
      "util.save_variable, save variable to:  D:/Brain_Network/Output/jitter/coupling_filter/CD_DE_condition19_joint_fit_fixed_portion_11122021_multi_reg/multivariate_filtertype2_951103019_951112638.pkl\n",
      "141it [24:37,  7.85s/it]"
     ]
    },
    {
     "name": "stderr",
     "output_type": "stream",
     "text": [
      "D:/Brain_Network/Code\\jitter.py:4063: RuntimeWarning: invalid value encountered in matmul\n",
      "  lmbd = X @ (beta + beta_offset) + offset\n",
      "D:/Brain_Network/Code\\jitter.py:4065: RuntimeWarning: invalid value encountered in matmul\n",
      "  lmbd_integral = basis_integral.T @ (beta + beta_offset) + offset_integral\n",
      "D:/Brain_Network/Code\\jitter.py:4090: RuntimeWarning: invalid value encountered in subtract\n",
      "  beta_err = np.sum(np.abs(beta_old - beta))\n"
     ]
    },
    {
     "name": "stdout",
     "output_type": "stream",
     "text": [
      "util.save_variable, save variable to:  D:/Brain_Network/Output/jitter/coupling_filter/CD_DE_condition19_joint_fit_fixed_portion_11122021_multi_reg/univariate_filtertype2_951103019_951112590.pkl\n",
      "util.save_variable, save variable to:  D:/Brain_Network/Output/jitter/coupling_filter/CD_DE_condition19_joint_fit_fixed_portion_11122021_multi_reg/multivariate_filtertype2_951103019_951112590.pkl\n",
      "142it [24:45,  7.81s/it]util.save_variable, save variable to:  D:/Brain_Network/Output/jitter/coupling_filter/CD_DE_condition19_joint_fit_fixed_portion_11122021_multi_reg/univariate_filtertype2_951103019_951112712.pkl\n",
      "util.save_variable, save variable to:  D:/Brain_Network/Output/jitter/coupling_filter/CD_DE_condition19_joint_fit_fixed_portion_11122021_multi_reg/multivariate_filtertype2_951103019_951112712.pkl\n",
      "143it [24:58,  9.22s/it]"
     ]
    },
    {
     "name": "stderr",
     "output_type": "stream",
     "text": [
      "D:/Brain_Network/Code\\jitter.py:4063: RuntimeWarning: invalid value encountered in matmul\n",
      "  lmbd = X @ (beta + beta_offset) + offset\n",
      "D:/Brain_Network/Code\\jitter.py:4065: RuntimeWarning: invalid value encountered in matmul\n",
      "  lmbd_integral = basis_integral.T @ (beta + beta_offset) + offset_integral\n",
      "D:/Brain_Network/Code\\jitter.py:4090: RuntimeWarning: invalid value encountered in subtract\n",
      "  beta_err = np.sum(np.abs(beta_old - beta))\n"
     ]
    },
    {
     "name": "stdout",
     "output_type": "stream",
     "text": [
      "util.save_variable, save variable to:  D:/Brain_Network/Output/jitter/coupling_filter/CD_DE_condition19_joint_fit_fixed_portion_11122021_multi_reg/univariate_filtertype2_951103019_951112786.pkl\n",
      "util.save_variable, save variable to:  D:/Brain_Network/Output/jitter/coupling_filter/CD_DE_condition19_joint_fit_fixed_portion_11122021_multi_reg/multivariate_filtertype2_951103019_951112786.pkl\n",
      "144it [25:05,  8.55s/it]util.save_variable, save variable to:  D:/Brain_Network/Output/jitter/coupling_filter/CD_DE_condition19_joint_fit_fixed_portion_11122021_multi_reg/univariate_filtertype2_951103019_951112780.pkl\n",
      "util.save_variable, save variable to:  D:/Brain_Network/Output/jitter/coupling_filter/CD_DE_condition19_joint_fit_fixed_portion_11122021_multi_reg/multivariate_filtertype2_951103019_951112780.pkl\n",
      "145it [25:12,  8.11s/it]util.save_variable, save variable to:  D:/Brain_Network/Output/jitter/coupling_filter/CD_DE_condition19_joint_fit_fixed_portion_11122021_multi_reg/univariate_filtertype2_951103019_951112768.pkl\n",
      "util.save_variable, save variable to:  D:/Brain_Network/Output/jitter/coupling_filter/CD_DE_condition19_joint_fit_fixed_portion_11122021_multi_reg/multivariate_filtertype2_951103019_951112768.pkl\n",
      "146it [25:21,  8.57s/it]"
     ]
    },
    {
     "name": "stderr",
     "output_type": "stream",
     "text": [
      "D:/Brain_Network/Code\\jitter.py:4063: RuntimeWarning: invalid value encountered in matmul\n",
      "  lmbd = X @ (beta + beta_offset) + offset\n",
      "D:/Brain_Network/Code\\jitter.py:4065: RuntimeWarning: invalid value encountered in matmul\n",
      "  lmbd_integral = basis_integral.T @ (beta + beta_offset) + offset_integral\n",
      "D:/Brain_Network/Code\\jitter.py:4090: RuntimeWarning: invalid value encountered in subtract\n",
      "  beta_err = np.sum(np.abs(beta_old - beta))\n"
     ]
    },
    {
     "name": "stdout",
     "output_type": "stream",
     "text": [
      "util.save_variable, save variable to:  D:/Brain_Network/Output/jitter/coupling_filter/CD_DE_condition19_joint_fit_fixed_portion_11122021_multi_reg/univariate_filtertype2_951103019_951112845.pkl\n",
      "util.save_variable, save variable to:  D:/Brain_Network/Output/jitter/coupling_filter/CD_DE_condition19_joint_fit_fixed_portion_11122021_multi_reg/multivariate_filtertype2_951103019_951112845.pkl\n",
      "147it [25:27,  7.78s/it]util.save_variable, save variable to:  D:/Brain_Network/Output/jitter/coupling_filter/CD_DE_condition19_joint_fit_fixed_portion_11122021_multi_reg/univariate_filtertype2_951103019_951112906.pkl\n",
      "util.save_variable, save variable to:  D:/Brain_Network/Output/jitter/coupling_filter/CD_DE_condition19_joint_fit_fixed_portion_11122021_multi_reg/multivariate_filtertype2_951103019_951112906.pkl\n",
      "148it [25:35,  7.61s/it]util.save_variable, save variable to:  D:/Brain_Network/Output/jitter/coupling_filter/CD_DE_condition19_joint_fit_fixed_portion_11122021_multi_reg/univariate_filtertype2_951103019_951112937.pkl\n",
      "util.save_variable, save variable to:  D:/Brain_Network/Output/jitter/coupling_filter/CD_DE_condition19_joint_fit_fixed_portion_11122021_multi_reg/multivariate_filtertype2_951103019_951112937.pkl\n",
      "149it [25:41,  7.39s/it]"
     ]
    },
    {
     "name": "stderr",
     "output_type": "stream",
     "text": [
      "D:/Brain_Network/Code\\jitter.py:4090: RuntimeWarning: invalid value encountered in subtract\n",
      "  beta_err = np.sum(np.abs(beta_old - beta))\n"
     ]
    },
    {
     "name": "stdout",
     "output_type": "stream",
     "text": [
      "util.save_variable, save variable to:  D:/Brain_Network/Output/jitter/coupling_filter/CD_DE_condition19_joint_fit_fixed_portion_11122021_multi_reg/univariate_filtertype2_951103019_951112992.pkl\n",
      "util.save_variable, save variable to:  D:/Brain_Network/Output/jitter/coupling_filter/CD_DE_condition19_joint_fit_fixed_portion_11122021_multi_reg/multivariate_filtertype2_951103019_951112992.pkl\n",
      "150it [25:50,  7.78s/it]"
     ]
    },
    {
     "name": "stderr",
     "output_type": "stream",
     "text": [
      "D:/Brain_Network/Code\\jitter.py:4063: RuntimeWarning: invalid value encountered in matmul\n",
      "  lmbd = X @ (beta + beta_offset) + offset\n",
      "D:/Brain_Network/Code\\jitter.py:4065: RuntimeWarning: invalid value encountered in matmul\n",
      "  lmbd_integral = basis_integral.T @ (beta + beta_offset) + offset_integral\n",
      "D:/Brain_Network/Code\\jitter.py:4090: RuntimeWarning: invalid value encountered in subtract\n",
      "  beta_err = np.sum(np.abs(beta_old - beta))\n"
     ]
    },
    {
     "name": "stdout",
     "output_type": "stream",
     "text": [
      "util.save_variable, save variable to:  D:/Brain_Network/Output/jitter/coupling_filter/CD_DE_condition19_joint_fit_fixed_portion_11122021_multi_reg/univariate_filtertype2_951103019_951113075.pkl\n",
      "util.save_variable, save variable to:  D:/Brain_Network/Output/jitter/coupling_filter/CD_DE_condition19_joint_fit_fixed_portion_11122021_multi_reg/multivariate_filtertype2_951103019_951113075.pkl\n",
      "151it [25:56,  7.35s/it]"
     ]
    },
    {
     "name": "stderr",
     "output_type": "stream",
     "text": [
      "D:/Brain_Network/Code\\jitter.py:4063: RuntimeWarning: invalid value encountered in matmul\n",
      "  lmbd = X @ (beta + beta_offset) + offset\n",
      "D:/Brain_Network/Code\\jitter.py:4065: RuntimeWarning: invalid value encountered in matmul\n",
      "  lmbd_integral = basis_integral.T @ (beta + beta_offset) + offset_integral\n",
      "D:/Brain_Network/Code\\jitter.py:4090: RuntimeWarning: invalid value encountered in subtract\n",
      "  beta_err = np.sum(np.abs(beta_old - beta))\n"
     ]
    },
    {
     "name": "stdout",
     "output_type": "stream",
     "text": [
      "util.save_variable, save variable to:  D:/Brain_Network/Output/jitter/coupling_filter/CD_DE_condition19_joint_fit_fixed_portion_11122021_multi_reg/univariate_filtertype2_951103019_951113056.pkl\n",
      "util.save_variable, save variable to:  D:/Brain_Network/Output/jitter/coupling_filter/CD_DE_condition19_joint_fit_fixed_portion_11122021_multi_reg/multivariate_filtertype2_951103019_951113056.pkl\n",
      "152it [26:02,  6.92s/it]"
     ]
    },
    {
     "name": "stderr",
     "output_type": "stream",
     "text": [
      "D:/Brain_Network/Code\\jitter.py:8323: UserWarning: Reach max itrs 500. Last err:4.882e-01\n",
      "  warnings.warn(f'Reach max itrs {max_num_itrs}. Last err:{beta_err:.3e}')\n",
      "D:/Brain_Network/Code\\jitter.py:4063: RuntimeWarning: invalid value encountered in matmul\n",
      "  lmbd = X @ (beta + beta_offset) + offset\n",
      "D:/Brain_Network/Code\\jitter.py:4065: RuntimeWarning: invalid value encountered in matmul\n",
      "  lmbd_integral = basis_integral.T @ (beta + beta_offset) + offset_integral\n",
      "D:/Brain_Network/Code\\jitter.py:4090: RuntimeWarning: invalid value encountered in subtract\n",
      "  beta_err = np.sum(np.abs(beta_old - beta))\n"
     ]
    },
    {
     "name": "stdout",
     "output_type": "stream",
     "text": [
      "util.save_variable, save variable to:  D:/Brain_Network/Output/jitter/coupling_filter/CD_DE_condition19_joint_fit_fixed_portion_11122021_multi_reg/univariate_filtertype2_951103019_951113039.pkl\n",
      "util.save_variable, save variable to:  D:/Brain_Network/Output/jitter/coupling_filter/CD_DE_condition19_joint_fit_fixed_portion_11122021_multi_reg/multivariate_filtertype2_951103019_951113039.pkl\n",
      "153it [26:11,  7.41s/it]"
     ]
    },
    {
     "name": "stderr",
     "output_type": "stream",
     "text": [
      "D:/Brain_Network/Code\\jitter.py:8323: UserWarning: Reach max itrs 500. Last err:3.039e-03\n",
      "  warnings.warn(f'Reach max itrs {max_num_itrs}. Last err:{beta_err:.3e}')\n"
     ]
    },
    {
     "name": "stdout",
     "output_type": "stream",
     "text": [
      "util.save_variable, save variable to:  D:/Brain_Network/Output/jitter/coupling_filter/CD_DE_condition19_joint_fit_fixed_portion_11122021_multi_reg/univariate_filtertype2_951103019_951113191.pkl\n",
      "util.save_variable, save variable to:  D:/Brain_Network/Output/jitter/coupling_filter/CD_DE_condition19_joint_fit_fixed_portion_11122021_multi_reg/multivariate_filtertype2_951103019_951113191.pkl\n",
      "154it [26:17,  7.02s/it]"
     ]
    },
    {
     "name": "stderr",
     "output_type": "stream",
     "text": [
      "D:/Brain_Network/Code\\jitter.py:4063: RuntimeWarning: invalid value encountered in matmul\n",
      "  lmbd = X @ (beta + beta_offset) + offset\n",
      "D:/Brain_Network/Code\\jitter.py:4065: RuntimeWarning: invalid value encountered in matmul\n",
      "  lmbd_integral = basis_integral.T @ (beta + beta_offset) + offset_integral\n",
      "D:/Brain_Network/Code\\jitter.py:4090: RuntimeWarning: invalid value encountered in subtract\n",
      "  beta_err = np.sum(np.abs(beta_old - beta))\n"
     ]
    },
    {
     "name": "stdout",
     "output_type": "stream",
     "text": [
      "util.save_variable, save variable to:  D:/Brain_Network/Output/jitter/coupling_filter/CD_DE_condition19_joint_fit_fixed_portion_11122021_multi_reg/univariate_filtertype2_951103019_951113175.pkl\n",
      "util.save_variable, save variable to:  D:/Brain_Network/Output/jitter/coupling_filter/CD_DE_condition19_joint_fit_fixed_portion_11122021_multi_reg/multivariate_filtertype2_951103019_951113175.pkl\n",
      "155it [26:25,  7.16s/it]util.save_variable, save variable to:  D:/Brain_Network/Output/jitter/coupling_filter/CD_DE_condition19_joint_fit_fixed_portion_11122021_multi_reg/univariate_filtertype2_951103019_951113141.pkl\n",
      "util.save_variable, save variable to:  D:/Brain_Network/Output/jitter/coupling_filter/CD_DE_condition19_joint_fit_fixed_portion_11122021_multi_reg/multivariate_filtertype2_951103019_951113141.pkl\n",
      "156it [26:32,  7.16s/it]util.save_variable, save variable to:  D:/Brain_Network/Output/jitter/coupling_filter/CD_DE_condition19_joint_fit_fixed_portion_11122021_multi_reg/univariate_filtertype2_951103019_951113271.pkl\n",
      "util.save_variable, save variable to:  D:/Brain_Network/Output/jitter/coupling_filter/CD_DE_condition19_joint_fit_fixed_portion_11122021_multi_reg/multivariate_filtertype2_951103019_951113271.pkl\n",
      "157it [26:48,  9.90s/it]util.save_variable, save variable to:  D:/Brain_Network/Output/jitter/coupling_filter/CD_DE_condition19_joint_fit_fixed_portion_11122021_multi_reg/univariate_filtertype2_951103019_951113211.pkl\n",
      "util.save_variable, save variable to:  D:/Brain_Network/Output/jitter/coupling_filter/CD_DE_condition19_joint_fit_fixed_portion_11122021_multi_reg/multivariate_filtertype2_951103019_951113211.pkl\n",
      "158it [26:57,  9.55s/it]util.save_variable, save variable to:  D:/Brain_Network/Output/jitter/coupling_filter/CD_DE_condition19_joint_fit_fixed_portion_11122021_multi_reg/univariate_filtertype2_951103019_951113240.pkl\n",
      "util.save_variable, save variable to:  D:/Brain_Network/Output/jitter/coupling_filter/CD_DE_condition19_joint_fit_fixed_portion_11122021_multi_reg/multivariate_filtertype2_951103019_951113240.pkl\n",
      "159it [27:03,  8.50s/it]util.save_variable, save variable to:  D:/Brain_Network/Output/jitter/coupling_filter/CD_DE_condition19_joint_fit_fixed_portion_11122021_multi_reg/univariate_filtertype2_951103019_951113464.pkl\n",
      "util.save_variable, save variable to:  D:/Brain_Network/Output/jitter/coupling_filter/CD_DE_condition19_joint_fit_fixed_portion_11122021_multi_reg/multivariate_filtertype2_951103019_951113464.pkl\n",
      "160it [27:15,  9.56s/it]util.save_variable, save variable to:  D:/Brain_Network/Output/jitter/coupling_filter/CD_DE_condition19_joint_fit_fixed_portion_11122021_multi_reg/univariate_filtertype2_951103019_951113514.pkl\n",
      "util.save_variable, save variable to:  D:/Brain_Network/Output/jitter/coupling_filter/CD_DE_condition19_joint_fit_fixed_portion_11122021_multi_reg/multivariate_filtertype2_951103019_951113514.pkl\n",
      "161it [27:23,  9.25s/it]util.save_variable, save variable to:  D:/Brain_Network/Output/jitter/coupling_filter/CD_DE_condition19_joint_fit_fixed_portion_11122021_multi_reg/univariate_filtertype2_951103019_951113717.pkl\n",
      "util.save_variable, save variable to:  D:/Brain_Network/Output/jitter/coupling_filter/CD_DE_condition19_joint_fit_fixed_portion_11122021_multi_reg/multivariate_filtertype2_951103019_951113717.pkl\n",
      "162it [27:31,  8.70s/it]util.save_variable, save variable to:  D:/Brain_Network/Output/jitter/coupling_filter/CD_DE_condition19_joint_fit_fixed_portion_11122021_multi_reg/univariate_filtertype2_951103093_951112464.pkl\n",
      "util.save_variable, save variable to:  D:/Brain_Network/Output/jitter/coupling_filter/CD_DE_condition19_joint_fit_fixed_portion_11122021_multi_reg/multivariate_filtertype2_951103093_951112464.pkl\n",
      "163it [27:42,  9.39s/it]"
     ]
    },
    {
     "name": "stderr",
     "output_type": "stream",
     "text": [
      "D:/Brain_Network/Code\\jitter.py:4063: RuntimeWarning: invalid value encountered in matmul\n",
      "  lmbd = X @ (beta + beta_offset) + offset\n",
      "D:/Brain_Network/Code\\jitter.py:4065: RuntimeWarning: invalid value encountered in matmul\n",
      "  lmbd_integral = basis_integral.T @ (beta + beta_offset) + offset_integral\n",
      "D:/Brain_Network/Code\\jitter.py:4090: RuntimeWarning: invalid value encountered in subtract\n",
      "  beta_err = np.sum(np.abs(beta_old - beta))\n"
     ]
    },
    {
     "name": "stdout",
     "output_type": "stream",
     "text": [
      "util.save_variable, save variable to:  D:/Brain_Network/Output/jitter/coupling_filter/CD_DE_condition19_joint_fit_fixed_portion_11122021_multi_reg/univariate_filtertype2_951103093_951112448.pkl\n",
      "util.save_variable, save variable to:  D:/Brain_Network/Output/jitter/coupling_filter/CD_DE_condition19_joint_fit_fixed_portion_11122021_multi_reg/multivariate_filtertype2_951103093_951112448.pkl\n",
      "164it [27:54, 10.20s/it]util.save_variable, save variable to:  D:/Brain_Network/Output/jitter/coupling_filter/CD_DE_condition19_joint_fit_fixed_portion_11122021_multi_reg/univariate_filtertype2_951103093_951112431.pkl\n",
      "util.save_variable, save variable to:  D:/Brain_Network/Output/jitter/coupling_filter/CD_DE_condition19_joint_fit_fixed_portion_11122021_multi_reg/multivariate_filtertype2_951103093_951112431.pkl\n",
      "165it [28:04, 10.33s/it]"
     ]
    },
    {
     "name": "stderr",
     "output_type": "stream",
     "text": [
      "D:/Brain_Network/Code\\jitter.py:4063: RuntimeWarning: invalid value encountered in matmul\n",
      "  lmbd = X @ (beta + beta_offset) + offset\n",
      "D:/Brain_Network/Code\\jitter.py:4065: RuntimeWarning: invalid value encountered in matmul\n",
      "  lmbd_integral = basis_integral.T @ (beta + beta_offset) + offset_integral\n",
      "D:/Brain_Network/Code\\jitter.py:4090: RuntimeWarning: invalid value encountered in subtract\n",
      "  beta_err = np.sum(np.abs(beta_old - beta))\n"
     ]
    },
    {
     "name": "stdout",
     "output_type": "stream",
     "text": [
      "util.save_variable, save variable to:  D:/Brain_Network/Output/jitter/coupling_filter/CD_DE_condition19_joint_fit_fixed_portion_11122021_multi_reg/univariate_filtertype2_951103093_951112416.pkl\n",
      "util.save_variable, save variable to:  D:/Brain_Network/Output/jitter/coupling_filter/CD_DE_condition19_joint_fit_fixed_portion_11122021_multi_reg/multivariate_filtertype2_951103093_951112416.pkl\n",
      "166it [28:15, 10.38s/it]"
     ]
    },
    {
     "name": "stderr",
     "output_type": "stream",
     "text": [
      "D:/Brain_Network/Code\\jitter.py:4063: RuntimeWarning: invalid value encountered in matmul\n",
      "  lmbd = X @ (beta + beta_offset) + offset\n",
      "D:/Brain_Network/Code\\jitter.py:4065: RuntimeWarning: invalid value encountered in matmul\n",
      "  lmbd_integral = basis_integral.T @ (beta + beta_offset) + offset_integral\n",
      "D:/Brain_Network/Code\\jitter.py:4090: RuntimeWarning: invalid value encountered in subtract\n",
      "  beta_err = np.sum(np.abs(beta_old - beta))\n"
     ]
    },
    {
     "name": "stdout",
     "output_type": "stream",
     "text": [
      "util.save_variable, save variable to:  D:/Brain_Network/Output/jitter/coupling_filter/CD_DE_condition19_joint_fit_fixed_portion_11122021_multi_reg/univariate_filtertype2_951103093_951112479.pkl\n",
      "util.save_variable, save variable to:  D:/Brain_Network/Output/jitter/coupling_filter/CD_DE_condition19_joint_fit_fixed_portion_11122021_multi_reg/multivariate_filtertype2_951103093_951112479.pkl\n",
      "167it [28:27, 10.82s/it]"
     ]
    },
    {
     "name": "stderr",
     "output_type": "stream",
     "text": [
      "D:/Brain_Network/Code\\jitter.py:4063: RuntimeWarning: invalid value encountered in matmul\n",
      "  lmbd = X @ (beta + beta_offset) + offset\n",
      "D:/Brain_Network/Code\\jitter.py:4065: RuntimeWarning: invalid value encountered in matmul\n",
      "  lmbd_integral = basis_integral.T @ (beta + beta_offset) + offset_integral\n",
      "D:/Brain_Network/Code\\jitter.py:4090: RuntimeWarning: invalid value encountered in subtract\n",
      "  beta_err = np.sum(np.abs(beta_old - beta))\n"
     ]
    },
    {
     "name": "stdout",
     "output_type": "stream",
     "text": [
      "util.save_variable, save variable to:  D:/Brain_Network/Output/jitter/coupling_filter/CD_DE_condition19_joint_fit_fixed_portion_11122021_multi_reg/univariate_filtertype2_951103093_951112638.pkl\n",
      "util.save_variable, save variable to:  D:/Brain_Network/Output/jitter/coupling_filter/CD_DE_condition19_joint_fit_fixed_portion_11122021_multi_reg/multivariate_filtertype2_951103093_951112638.pkl\n",
      "168it [28:41, 11.72s/it]"
     ]
    },
    {
     "name": "stderr",
     "output_type": "stream",
     "text": [
      "D:/Brain_Network/Code\\jitter.py:4063: RuntimeWarning: invalid value encountered in matmul\n",
      "  lmbd = X @ (beta + beta_offset) + offset\n",
      "D:/Brain_Network/Code\\jitter.py:4065: RuntimeWarning: invalid value encountered in matmul\n",
      "  lmbd_integral = basis_integral.T @ (beta + beta_offset) + offset_integral\n",
      "D:/Brain_Network/Code\\jitter.py:4090: RuntimeWarning: invalid value encountered in subtract\n",
      "  beta_err = np.sum(np.abs(beta_old - beta))\n"
     ]
    },
    {
     "name": "stdout",
     "output_type": "stream",
     "text": [
      "util.save_variable, save variable to:  D:/Brain_Network/Output/jitter/coupling_filter/CD_DE_condition19_joint_fit_fixed_portion_11122021_multi_reg/univariate_filtertype2_951103093_951112590.pkl\n",
      "util.save_variable, save variable to:  D:/Brain_Network/Output/jitter/coupling_filter/CD_DE_condition19_joint_fit_fixed_portion_11122021_multi_reg/multivariate_filtertype2_951103093_951112590.pkl\n",
      "169it [28:54, 12.15s/it]"
     ]
    },
    {
     "name": "stderr",
     "output_type": "stream",
     "text": [
      "D:/Brain_Network/Code\\jitter.py:8323: UserWarning: Reach max itrs 500. Last err:4.176e-01\n",
      "  warnings.warn(f'Reach max itrs {max_num_itrs}. Last err:{beta_err:.3e}')\n"
     ]
    },
    {
     "name": "stdout",
     "output_type": "stream",
     "text": [
      "util.save_variable, save variable to:  D:/Brain_Network/Output/jitter/coupling_filter/CD_DE_condition19_joint_fit_fixed_portion_11122021_multi_reg/univariate_filtertype2_951103093_951112712.pkl\n",
      "util.save_variable, save variable to:  D:/Brain_Network/Output/jitter/coupling_filter/CD_DE_condition19_joint_fit_fixed_portion_11122021_multi_reg/multivariate_filtertype2_951103093_951112712.pkl\n",
      "170it [29:16, 15.25s/it]util.save_variable, save variable to:  D:/Brain_Network/Output/jitter/coupling_filter/CD_DE_condition19_joint_fit_fixed_portion_11122021_multi_reg/univariate_filtertype2_951103093_951112786.pkl\n",
      "util.save_variable, save variable to:  D:/Brain_Network/Output/jitter/coupling_filter/CD_DE_condition19_joint_fit_fixed_portion_11122021_multi_reg/multivariate_filtertype2_951103093_951112786.pkl\n",
      "171it [29:27, 13.83s/it]util.save_variable, save variable to:  D:/Brain_Network/Output/jitter/coupling_filter/CD_DE_condition19_joint_fit_fixed_portion_11122021_multi_reg/univariate_filtertype2_951103093_951112780.pkl\n",
      "util.save_variable, save variable to:  D:/Brain_Network/Output/jitter/coupling_filter/CD_DE_condition19_joint_fit_fixed_portion_11122021_multi_reg/multivariate_filtertype2_951103093_951112780.pkl\n",
      "172it [29:35, 12.13s/it]util.save_variable, save variable to:  D:/Brain_Network/Output/jitter/coupling_filter/CD_DE_condition19_joint_fit_fixed_portion_11122021_multi_reg/univariate_filtertype2_951103093_951112768.pkl\n",
      "util.save_variable, save variable to:  D:/Brain_Network/Output/jitter/coupling_filter/CD_DE_condition19_joint_fit_fixed_portion_11122021_multi_reg/multivariate_filtertype2_951103093_951112768.pkl\n",
      "173it [29:56, 14.74s/it]util.save_variable, save variable to:  D:/Brain_Network/Output/jitter/coupling_filter/CD_DE_condition19_joint_fit_fixed_portion_11122021_multi_reg/univariate_filtertype2_951103093_951112845.pkl\n",
      "util.save_variable, save variable to:  D:/Brain_Network/Output/jitter/coupling_filter/CD_DE_condition19_joint_fit_fixed_portion_11122021_multi_reg/multivariate_filtertype2_951103093_951112845.pkl\n",
      "174it [30:05, 13.05s/it]"
     ]
    },
    {
     "name": "stderr",
     "output_type": "stream",
     "text": [
      "D:/Brain_Network/Code\\jitter.py:4063: RuntimeWarning: invalid value encountered in matmul\n",
      "  lmbd = X @ (beta + beta_offset) + offset\n",
      "D:/Brain_Network/Code\\jitter.py:4065: RuntimeWarning: invalid value encountered in matmul\n",
      "  lmbd_integral = basis_integral.T @ (beta + beta_offset) + offset_integral\n",
      "D:/Brain_Network/Code\\jitter.py:4090: RuntimeWarning: invalid value encountered in subtract\n",
      "  beta_err = np.sum(np.abs(beta_old - beta))\n"
     ]
    },
    {
     "name": "stdout",
     "output_type": "stream",
     "text": [
      "util.save_variable, save variable to:  D:/Brain_Network/Output/jitter/coupling_filter/CD_DE_condition19_joint_fit_fixed_portion_11122021_multi_reg/univariate_filtertype2_951103093_951112906.pkl\n",
      "util.save_variable, save variable to:  D:/Brain_Network/Output/jitter/coupling_filter/CD_DE_condition19_joint_fit_fixed_portion_11122021_multi_reg/multivariate_filtertype2_951103093_951112906.pkl\n",
      "175it [30:16, 12.34s/it]util.save_variable, save variable to:  D:/Brain_Network/Output/jitter/coupling_filter/CD_DE_condition19_joint_fit_fixed_portion_11122021_multi_reg/univariate_filtertype2_951103093_951112937.pkl\n",
      "util.save_variable, save variable to:  D:/Brain_Network/Output/jitter/coupling_filter/CD_DE_condition19_joint_fit_fixed_portion_11122021_multi_reg/multivariate_filtertype2_951103093_951112937.pkl\n",
      "176it [30:26, 11.79s/it]util.save_variable, save variable to:  D:/Brain_Network/Output/jitter/coupling_filter/CD_DE_condition19_joint_fit_fixed_portion_11122021_multi_reg/univariate_filtertype2_951103093_951112992.pkl\n",
      "util.save_variable, save variable to:  D:/Brain_Network/Output/jitter/coupling_filter/CD_DE_condition19_joint_fit_fixed_portion_11122021_multi_reg/multivariate_filtertype2_951103093_951112992.pkl\n",
      "177it [30:41, 12.80s/it]"
     ]
    },
    {
     "name": "stderr",
     "output_type": "stream",
     "text": [
      "D:/Brain_Network/Code\\jitter.py:4063: RuntimeWarning: invalid value encountered in matmul\n",
      "  lmbd = X @ (beta + beta_offset) + offset\n",
      "D:/Brain_Network/Code\\jitter.py:4065: RuntimeWarning: invalid value encountered in matmul\n",
      "  lmbd_integral = basis_integral.T @ (beta + beta_offset) + offset_integral\n",
      "D:/Brain_Network/Code\\jitter.py:4090: RuntimeWarning: invalid value encountered in subtract\n",
      "  beta_err = np.sum(np.abs(beta_old - beta))\n"
     ]
    },
    {
     "name": "stdout",
     "output_type": "stream",
     "text": [
      "util.save_variable, save variable to:  D:/Brain_Network/Output/jitter/coupling_filter/CD_DE_condition19_joint_fit_fixed_portion_11122021_multi_reg/univariate_filtertype2_951103093_951113075.pkl\n",
      "util.save_variable, save variable to:  D:/Brain_Network/Output/jitter/coupling_filter/CD_DE_condition19_joint_fit_fixed_portion_11122021_multi_reg/multivariate_filtertype2_951103093_951113075.pkl\n",
      "178it [30:51, 11.97s/it]util.save_variable, save variable to:  D:/Brain_Network/Output/jitter/coupling_filter/CD_DE_condition19_joint_fit_fixed_portion_11122021_multi_reg/univariate_filtertype2_951103093_951113056.pkl\n",
      "util.save_variable, save variable to:  D:/Brain_Network/Output/jitter/coupling_filter/CD_DE_condition19_joint_fit_fixed_portion_11122021_multi_reg/multivariate_filtertype2_951103093_951113056.pkl\n",
      "179it [31:00, 11.04s/it]util.save_variable, save variable to:  D:/Brain_Network/Output/jitter/coupling_filter/CD_DE_condition19_joint_fit_fixed_portion_11122021_multi_reg/univariate_filtertype2_951103093_951113039.pkl\n",
      "util.save_variable, save variable to:  D:/Brain_Network/Output/jitter/coupling_filter/CD_DE_condition19_joint_fit_fixed_portion_11122021_multi_reg/multivariate_filtertype2_951103093_951113039.pkl\n",
      "180it [31:16, 12.51s/it]util.save_variable, save variable to:  D:/Brain_Network/Output/jitter/coupling_filter/CD_DE_condition19_joint_fit_fixed_portion_11122021_multi_reg/univariate_filtertype2_951103093_951113191.pkl\n",
      "util.save_variable, save variable to:  D:/Brain_Network/Output/jitter/coupling_filter/CD_DE_condition19_joint_fit_fixed_portion_11122021_multi_reg/multivariate_filtertype2_951103093_951113191.pkl\n",
      "181it [31:26, 11.60s/it]"
     ]
    },
    {
     "name": "stderr",
     "output_type": "stream",
     "text": [
      "D:/Brain_Network/Code\\jitter.py:4063: RuntimeWarning: invalid value encountered in matmul\n",
      "  lmbd = X @ (beta + beta_offset) + offset\n",
      "D:/Brain_Network/Code\\jitter.py:4065: RuntimeWarning: invalid value encountered in matmul\n",
      "  lmbd_integral = basis_integral.T @ (beta + beta_offset) + offset_integral\n",
      "D:/Brain_Network/Code\\jitter.py:4090: RuntimeWarning: invalid value encountered in subtract\n",
      "  beta_err = np.sum(np.abs(beta_old - beta))\n"
     ]
    },
    {
     "name": "stdout",
     "output_type": "stream",
     "text": [
      "util.save_variable, save variable to:  D:/Brain_Network/Output/jitter/coupling_filter/CD_DE_condition19_joint_fit_fixed_portion_11122021_multi_reg/univariate_filtertype2_951103093_951113175.pkl\n",
      "util.save_variable, save variable to:  D:/Brain_Network/Output/jitter/coupling_filter/CD_DE_condition19_joint_fit_fixed_portion_11122021_multi_reg/multivariate_filtertype2_951103093_951113175.pkl\n",
      "182it [31:37, 11.58s/it]"
     ]
    },
    {
     "name": "stderr",
     "output_type": "stream",
     "text": [
      "D:/Brain_Network/Code\\jitter.py:4063: RuntimeWarning: invalid value encountered in matmul\n",
      "  lmbd = X @ (beta + beta_offset) + offset\n",
      "D:/Brain_Network/Code\\jitter.py:4065: RuntimeWarning: invalid value encountered in matmul\n",
      "  lmbd_integral = basis_integral.T @ (beta + beta_offset) + offset_integral\n",
      "D:/Brain_Network/Code\\jitter.py:4090: RuntimeWarning: invalid value encountered in subtract\n",
      "  beta_err = np.sum(np.abs(beta_old - beta))\n"
     ]
    },
    {
     "name": "stdout",
     "output_type": "stream",
     "text": [
      "util.save_variable, save variable to:  D:/Brain_Network/Output/jitter/coupling_filter/CD_DE_condition19_joint_fit_fixed_portion_11122021_multi_reg/univariate_filtertype2_951103093_951113141.pkl\n",
      "util.save_variable, save variable to:  D:/Brain_Network/Output/jitter/coupling_filter/CD_DE_condition19_joint_fit_fixed_portion_11122021_multi_reg/multivariate_filtertype2_951103093_951113141.pkl\n",
      "183it [31:47, 11.20s/it]util.save_variable, save variable to:  D:/Brain_Network/Output/jitter/coupling_filter/CD_DE_condition19_joint_fit_fixed_portion_11122021_multi_reg/univariate_filtertype2_951103093_951113271.pkl\n",
      "util.save_variable, save variable to:  D:/Brain_Network/Output/jitter/coupling_filter/CD_DE_condition19_joint_fit_fixed_portion_11122021_multi_reg/multivariate_filtertype2_951103093_951113271.pkl\n",
      "184it [32:17, 16.64s/it]util.save_variable, save variable to:  D:/Brain_Network/Output/jitter/coupling_filter/CD_DE_condition19_joint_fit_fixed_portion_11122021_multi_reg/univariate_filtertype2_951103093_951113211.pkl\n",
      "util.save_variable, save variable to:  D:/Brain_Network/Output/jitter/coupling_filter/CD_DE_condition19_joint_fit_fixed_portion_11122021_multi_reg/multivariate_filtertype2_951103093_951113211.pkl\n",
      "185it [32:30, 15.63s/it]util.save_variable, save variable to:  D:/Brain_Network/Output/jitter/coupling_filter/CD_DE_condition19_joint_fit_fixed_portion_11122021_multi_reg/univariate_filtertype2_951103093_951113240.pkl\n",
      "util.save_variable, save variable to:  D:/Brain_Network/Output/jitter/coupling_filter/CD_DE_condition19_joint_fit_fixed_portion_11122021_multi_reg/multivariate_filtertype2_951103093_951113240.pkl\n",
      "186it [32:39, 13.62s/it]util.save_variable, save variable to:  D:/Brain_Network/Output/jitter/coupling_filter/CD_DE_condition19_joint_fit_fixed_portion_11122021_multi_reg/univariate_filtertype2_951103093_951113464.pkl\n",
      "util.save_variable, save variable to:  D:/Brain_Network/Output/jitter/coupling_filter/CD_DE_condition19_joint_fit_fixed_portion_11122021_multi_reg/multivariate_filtertype2_951103093_951113464.pkl\n",
      "187it [32:54, 14.01s/it]"
     ]
    },
    {
     "name": "stderr",
     "output_type": "stream",
     "text": [
      "D:/Brain_Network/Code\\jitter.py:4063: RuntimeWarning: invalid value encountered in matmul\n",
      "  lmbd = X @ (beta + beta_offset) + offset\n",
      "D:/Brain_Network/Code\\jitter.py:4065: RuntimeWarning: invalid value encountered in matmul\n",
      "  lmbd_integral = basis_integral.T @ (beta + beta_offset) + offset_integral\n",
      "D:/Brain_Network/Code\\jitter.py:4090: RuntimeWarning: invalid value encountered in subtract\n",
      "  beta_err = np.sum(np.abs(beta_old - beta))\n"
     ]
    },
    {
     "name": "stdout",
     "output_type": "stream",
     "text": [
      "util.save_variable, save variable to:  D:/Brain_Network/Output/jitter/coupling_filter/CD_DE_condition19_joint_fit_fixed_portion_11122021_multi_reg/univariate_filtertype2_951103093_951113514.pkl\n",
      "util.save_variable, save variable to:  D:/Brain_Network/Output/jitter/coupling_filter/CD_DE_condition19_joint_fit_fixed_portion_11122021_multi_reg/multivariate_filtertype2_951103093_951113514.pkl\n",
      "188it [33:05, 13.02s/it]"
     ]
    },
    {
     "name": "stderr",
     "output_type": "stream",
     "text": [
      "D:/Brain_Network/Code\\jitter.py:8323: UserWarning: Reach max itrs 500. Last err:2.408e-04\n",
      "  warnings.warn(f'Reach max itrs {max_num_itrs}. Last err:{beta_err:.3e}')\n",
      "D:/Brain_Network/Code\\jitter.py:4063: RuntimeWarning: invalid value encountered in matmul\n",
      "  lmbd = X @ (beta + beta_offset) + offset\n",
      "D:/Brain_Network/Code\\jitter.py:4065: RuntimeWarning: invalid value encountered in matmul\n",
      "  lmbd_integral = basis_integral.T @ (beta + beta_offset) + offset_integral\n",
      "D:/Brain_Network/Code\\jitter.py:4090: RuntimeWarning: invalid value encountered in subtract\n",
      "  beta_err = np.sum(np.abs(beta_old - beta))\n"
     ]
    },
    {
     "name": "stdout",
     "output_type": "stream",
     "text": [
      "util.save_variable, save variable to:  D:/Brain_Network/Output/jitter/coupling_filter/CD_DE_condition19_joint_fit_fixed_portion_11122021_multi_reg/univariate_filtertype2_951103093_951113717.pkl\n",
      "util.save_variable, save variable to:  D:/Brain_Network/Output/jitter/coupling_filter/CD_DE_condition19_joint_fit_fixed_portion_11122021_multi_reg/multivariate_filtertype2_951103093_951113717.pkl\n",
      "189it [33:15, 12.18s/it]util.save_variable, save variable to:  D:/Brain_Network/Output/jitter/coupling_filter/CD_DE_condition19_joint_fit_fixed_portion_11122021_multi_reg/univariate_filtertype2_951103163_951112464.pkl\n",
      "util.save_variable, save variable to:  D:/Brain_Network/Output/jitter/coupling_filter/CD_DE_condition19_joint_fit_fixed_portion_11122021_multi_reg/multivariate_filtertype2_951103163_951112464.pkl\n",
      "190it [33:25, 11.68s/it]"
     ]
    },
    {
     "name": "stderr",
     "output_type": "stream",
     "text": [
      "D:/Brain_Network/Code\\jitter.py:4063: RuntimeWarning: invalid value encountered in matmul\n",
      "  lmbd = X @ (beta + beta_offset) + offset\n",
      "D:/Brain_Network/Code\\jitter.py:4065: RuntimeWarning: invalid value encountered in matmul\n",
      "  lmbd_integral = basis_integral.T @ (beta + beta_offset) + offset_integral\n",
      "D:/Brain_Network/Code\\jitter.py:4090: RuntimeWarning: invalid value encountered in subtract\n",
      "  beta_err = np.sum(np.abs(beta_old - beta))\n"
     ]
    },
    {
     "name": "stdout",
     "output_type": "stream",
     "text": [
      "util.save_variable, save variable to:  D:/Brain_Network/Output/jitter/coupling_filter/CD_DE_condition19_joint_fit_fixed_portion_11122021_multi_reg/univariate_filtertype2_951103163_951112448.pkl\n",
      "util.save_variable, save variable to:  D:/Brain_Network/Output/jitter/coupling_filter/CD_DE_condition19_joint_fit_fixed_portion_11122021_multi_reg/multivariate_filtertype2_951103163_951112448.pkl\n",
      "191it [33:37, 11.72s/it]util.save_variable, save variable to:  D:/Brain_Network/Output/jitter/coupling_filter/CD_DE_condition19_joint_fit_fixed_portion_11122021_multi_reg/univariate_filtertype2_951103163_951112431.pkl\n",
      "util.save_variable, save variable to:  D:/Brain_Network/Output/jitter/coupling_filter/CD_DE_condition19_joint_fit_fixed_portion_11122021_multi_reg/multivariate_filtertype2_951103163_951112431.pkl\n",
      "192it [33:48, 11.56s/it]"
     ]
    },
    {
     "name": "stderr",
     "output_type": "stream",
     "text": [
      "D:/Brain_Network/Code\\jitter.py:4063: RuntimeWarning: invalid value encountered in matmul\n",
      "  lmbd = X @ (beta + beta_offset) + offset\n",
      "D:/Brain_Network/Code\\jitter.py:4065: RuntimeWarning: invalid value encountered in matmul\n",
      "  lmbd_integral = basis_integral.T @ (beta + beta_offset) + offset_integral\n",
      "D:/Brain_Network/Code\\jitter.py:4090: RuntimeWarning: invalid value encountered in subtract\n",
      "  beta_err = np.sum(np.abs(beta_old - beta))\n"
     ]
    },
    {
     "name": "stdout",
     "output_type": "stream",
     "text": [
      "util.save_variable, save variable to:  D:/Brain_Network/Output/jitter/coupling_filter/CD_DE_condition19_joint_fit_fixed_portion_11122021_multi_reg/univariate_filtertype2_951103163_951112416.pkl\n",
      "util.save_variable, save variable to:  D:/Brain_Network/Output/jitter/coupling_filter/CD_DE_condition19_joint_fit_fixed_portion_11122021_multi_reg/multivariate_filtertype2_951103163_951112416.pkl\n",
      "193it [33:59, 11.18s/it]util.save_variable, save variable to:  D:/Brain_Network/Output/jitter/coupling_filter/CD_DE_condition19_joint_fit_fixed_portion_11122021_multi_reg/univariate_filtertype2_951103163_951112479.pkl\n",
      "util.save_variable, save variable to:  D:/Brain_Network/Output/jitter/coupling_filter/CD_DE_condition19_joint_fit_fixed_portion_11122021_multi_reg/multivariate_filtertype2_951103163_951112479.pkl\n",
      "194it [34:10, 11.20s/it]util.save_variable, save variable to:  D:/Brain_Network/Output/jitter/coupling_filter/CD_DE_condition19_joint_fit_fixed_portion_11122021_multi_reg/univariate_filtertype2_951103163_951112638.pkl\n",
      "util.save_variable, save variable to:  D:/Brain_Network/Output/jitter/coupling_filter/CD_DE_condition19_joint_fit_fixed_portion_11122021_multi_reg/multivariate_filtertype2_951103163_951112638.pkl\n",
      "195it [34:23, 11.91s/it]util.save_variable, save variable to:  D:/Brain_Network/Output/jitter/coupling_filter/CD_DE_condition19_joint_fit_fixed_portion_11122021_multi_reg/univariate_filtertype2_951103163_951112590.pkl\n",
      "util.save_variable, save variable to:  D:/Brain_Network/Output/jitter/coupling_filter/CD_DE_condition19_joint_fit_fixed_portion_11122021_multi_reg/multivariate_filtertype2_951103163_951112590.pkl\n",
      "196it [34:35, 11.73s/it]util.save_variable, save variable to:  D:/Brain_Network/Output/jitter/coupling_filter/CD_DE_condition19_joint_fit_fixed_portion_11122021_multi_reg/univariate_filtertype2_951103163_951112712.pkl\n",
      "util.save_variable, save variable to:  D:/Brain_Network/Output/jitter/coupling_filter/CD_DE_condition19_joint_fit_fixed_portion_11122021_multi_reg/multivariate_filtertype2_951103163_951112712.pkl\n",
      "197it [34:56, 14.59s/it]"
     ]
    },
    {
     "name": "stderr",
     "output_type": "stream",
     "text": [
      "D:/Brain_Network/Code\\jitter.py:4063: RuntimeWarning: invalid value encountered in matmul\n",
      "  lmbd = X @ (beta + beta_offset) + offset\n",
      "D:/Brain_Network/Code\\jitter.py:4065: RuntimeWarning: invalid value encountered in matmul\n",
      "  lmbd_integral = basis_integral.T @ (beta + beta_offset) + offset_integral\n",
      "D:/Brain_Network/Code\\jitter.py:4090: RuntimeWarning: invalid value encountered in subtract\n",
      "  beta_err = np.sum(np.abs(beta_old - beta))\n"
     ]
    },
    {
     "name": "stdout",
     "output_type": "stream",
     "text": [
      "util.save_variable, save variable to:  D:/Brain_Network/Output/jitter/coupling_filter/CD_DE_condition19_joint_fit_fixed_portion_11122021_multi_reg/univariate_filtertype2_951103163_951112786.pkl\n",
      "util.save_variable, save variable to:  D:/Brain_Network/Output/jitter/coupling_filter/CD_DE_condition19_joint_fit_fixed_portion_11122021_multi_reg/multivariate_filtertype2_951103163_951112786.pkl\n",
      "198it [35:07, 13.43s/it]util.save_variable, save variable to:  D:/Brain_Network/Output/jitter/coupling_filter/CD_DE_condition19_joint_fit_fixed_portion_11122021_multi_reg/univariate_filtertype2_951103163_951112780.pkl\n",
      "util.save_variable, save variable to:  D:/Brain_Network/Output/jitter/coupling_filter/CD_DE_condition19_joint_fit_fixed_portion_11122021_multi_reg/multivariate_filtertype2_951103163_951112780.pkl\n",
      "199it [35:14, 11.53s/it]"
     ]
    },
    {
     "name": "stderr",
     "output_type": "stream",
     "text": [
      "D:/Brain_Network/Code\\jitter.py:8323: UserWarning: Reach max itrs 500. Last err:8.760e+10\n",
      "  warnings.warn(f'Reach max itrs {max_num_itrs}. Last err:{beta_err:.3e}')\n"
     ]
    },
    {
     "name": "stdout",
     "output_type": "stream",
     "text": [
      "util.save_variable, save variable to:  D:/Brain_Network/Output/jitter/coupling_filter/CD_DE_condition19_joint_fit_fixed_portion_11122021_multi_reg/univariate_filtertype2_951103163_951112768.pkl\n",
      "util.save_variable, save variable to:  D:/Brain_Network/Output/jitter/coupling_filter/CD_DE_condition19_joint_fit_fixed_portion_11122021_multi_reg/multivariate_filtertype2_951103163_951112768.pkl\n",
      "200it [35:31, 13.26s/it]"
     ]
    },
    {
     "name": "stderr",
     "output_type": "stream",
     "text": [
      "D:/Brain_Network/Code\\jitter.py:4063: RuntimeWarning: invalid value encountered in matmul\n",
      "  lmbd = X @ (beta + beta_offset) + offset\n",
      "D:/Brain_Network/Code\\jitter.py:4065: RuntimeWarning: invalid value encountered in matmul\n",
      "  lmbd_integral = basis_integral.T @ (beta + beta_offset) + offset_integral\n",
      "D:/Brain_Network/Code\\jitter.py:4090: RuntimeWarning: invalid value encountered in subtract\n",
      "  beta_err = np.sum(np.abs(beta_old - beta))\n"
     ]
    },
    {
     "name": "stdout",
     "output_type": "stream",
     "text": [
      "util.save_variable, save variable to:  D:/Brain_Network/Output/jitter/coupling_filter/CD_DE_condition19_joint_fit_fixed_portion_11122021_multi_reg/univariate_filtertype2_951103163_951112845.pkl\n",
      "util.save_variable, save variable to:  D:/Brain_Network/Output/jitter/coupling_filter/CD_DE_condition19_joint_fit_fixed_portion_11122021_multi_reg/multivariate_filtertype2_951103163_951112845.pkl\n",
      "201it [35:40, 11.95s/it]util.save_variable, save variable to:  D:/Brain_Network/Output/jitter/coupling_filter/CD_DE_condition19_joint_fit_fixed_portion_11122021_multi_reg/univariate_filtertype2_951103163_951112906.pkl\n",
      "util.save_variable, save variable to:  D:/Brain_Network/Output/jitter/coupling_filter/CD_DE_condition19_joint_fit_fixed_portion_11122021_multi_reg/multivariate_filtertype2_951103163_951112906.pkl\n",
      "202it [35:49, 11.15s/it]util.save_variable, save variable to:  D:/Brain_Network/Output/jitter/coupling_filter/CD_DE_condition19_joint_fit_fixed_portion_11122021_multi_reg/univariate_filtertype2_951103163_951112937.pkl\n",
      "util.save_variable, save variable to:  D:/Brain_Network/Output/jitter/coupling_filter/CD_DE_condition19_joint_fit_fixed_portion_11122021_multi_reg/multivariate_filtertype2_951103163_951112937.pkl\n",
      "203it [35:59, 10.67s/it]util.save_variable, save variable to:  D:/Brain_Network/Output/jitter/coupling_filter/CD_DE_condition19_joint_fit_fixed_portion_11122021_multi_reg/univariate_filtertype2_951103163_951112992.pkl\n",
      "util.save_variable, save variable to:  D:/Brain_Network/Output/jitter/coupling_filter/CD_DE_condition19_joint_fit_fixed_portion_11122021_multi_reg/multivariate_filtertype2_951103163_951112992.pkl\n",
      "204it [36:13, 11.70s/it]util.save_variable, save variable to:  D:/Brain_Network/Output/jitter/coupling_filter/CD_DE_condition19_joint_fit_fixed_portion_11122021_multi_reg/univariate_filtertype2_951103163_951113075.pkl\n",
      "util.save_variable, save variable to:  D:/Brain_Network/Output/jitter/coupling_filter/CD_DE_condition19_joint_fit_fixed_portion_11122021_multi_reg/multivariate_filtertype2_951103163_951113075.pkl\n",
      "205it [36:22, 10.98s/it]"
     ]
    },
    {
     "name": "stderr",
     "output_type": "stream",
     "text": [
      "D:/Brain_Network/Code\\jitter.py:4063: RuntimeWarning: invalid value encountered in matmul\n",
      "  lmbd = X @ (beta + beta_offset) + offset\n",
      "D:/Brain_Network/Code\\jitter.py:4065: RuntimeWarning: invalid value encountered in matmul\n",
      "  lmbd_integral = basis_integral.T @ (beta + beta_offset) + offset_integral\n",
      "D:/Brain_Network/Code\\jitter.py:4090: RuntimeWarning: invalid value encountered in subtract\n",
      "  beta_err = np.sum(np.abs(beta_old - beta))\n"
     ]
    },
    {
     "name": "stdout",
     "output_type": "stream",
     "text": [
      "util.save_variable, save variable to:  D:/Brain_Network/Output/jitter/coupling_filter/CD_DE_condition19_joint_fit_fixed_portion_11122021_multi_reg/univariate_filtertype2_951103163_951113056.pkl\n",
      "util.save_variable, save variable to:  D:/Brain_Network/Output/jitter/coupling_filter/CD_DE_condition19_joint_fit_fixed_portion_11122021_multi_reg/multivariate_filtertype2_951103163_951113056.pkl\n",
      "206it [36:31, 10.42s/it]util.save_variable, save variable to:  D:/Brain_Network/Output/jitter/coupling_filter/CD_DE_condition19_joint_fit_fixed_portion_11122021_multi_reg/univariate_filtertype2_951103163_951113039.pkl\n",
      "util.save_variable, save variable to:  D:/Brain_Network/Output/jitter/coupling_filter/CD_DE_condition19_joint_fit_fixed_portion_11122021_multi_reg/multivariate_filtertype2_951103163_951113039.pkl\n",
      "207it [36:48, 12.31s/it]util.save_variable, save variable to:  D:/Brain_Network/Output/jitter/coupling_filter/CD_DE_condition19_joint_fit_fixed_portion_11122021_multi_reg/univariate_filtertype2_951103163_951113191.pkl\n",
      "util.save_variable, save variable to:  D:/Brain_Network/Output/jitter/coupling_filter/CD_DE_condition19_joint_fit_fixed_portion_11122021_multi_reg/multivariate_filtertype2_951103163_951113191.pkl\n",
      "208it [36:59, 11.90s/it]util.save_variable, save variable to:  D:/Brain_Network/Output/jitter/coupling_filter/CD_DE_condition19_joint_fit_fixed_portion_11122021_multi_reg/univariate_filtertype2_951103163_951113175.pkl\n",
      "util.save_variable, save variable to:  D:/Brain_Network/Output/jitter/coupling_filter/CD_DE_condition19_joint_fit_fixed_portion_11122021_multi_reg/multivariate_filtertype2_951103163_951113175.pkl\n",
      "209it [37:12, 12.12s/it]util.save_variable, save variable to:  D:/Brain_Network/Output/jitter/coupling_filter/CD_DE_condition19_joint_fit_fixed_portion_11122021_multi_reg/univariate_filtertype2_951103163_951113141.pkl\n",
      "util.save_variable, save variable to:  D:/Brain_Network/Output/jitter/coupling_filter/CD_DE_condition19_joint_fit_fixed_portion_11122021_multi_reg/multivariate_filtertype2_951103163_951113141.pkl\n",
      "210it [37:23, 12.02s/it]util.save_variable, save variable to:  D:/Brain_Network/Output/jitter/coupling_filter/CD_DE_condition19_joint_fit_fixed_portion_11122021_multi_reg/univariate_filtertype2_951103163_951113271.pkl\n",
      "util.save_variable, save variable to:  D:/Brain_Network/Output/jitter/coupling_filter/CD_DE_condition19_joint_fit_fixed_portion_11122021_multi_reg/multivariate_filtertype2_951103163_951113271.pkl\n",
      "211it [37:56, 18.31s/it]util.save_variable, save variable to:  D:/Brain_Network/Output/jitter/coupling_filter/CD_DE_condition19_joint_fit_fixed_portion_11122021_multi_reg/univariate_filtertype2_951103163_951113211.pkl\n",
      "util.save_variable, save variable to:  D:/Brain_Network/Output/jitter/coupling_filter/CD_DE_condition19_joint_fit_fixed_portion_11122021_multi_reg/multivariate_filtertype2_951103163_951113211.pkl\n",
      "212it [38:10, 16.98s/it]util.save_variable, save variable to:  D:/Brain_Network/Output/jitter/coupling_filter/CD_DE_condition19_joint_fit_fixed_portion_11122021_multi_reg/univariate_filtertype2_951103163_951113240.pkl\n",
      "util.save_variable, save variable to:  D:/Brain_Network/Output/jitter/coupling_filter/CD_DE_condition19_joint_fit_fixed_portion_11122021_multi_reg/multivariate_filtertype2_951103163_951113240.pkl\n",
      "213it [38:20, 14.73s/it]util.save_variable, save variable to:  D:/Brain_Network/Output/jitter/coupling_filter/CD_DE_condition19_joint_fit_fixed_portion_11122021_multi_reg/univariate_filtertype2_951103163_951113464.pkl\n",
      "util.save_variable, save variable to:  D:/Brain_Network/Output/jitter/coupling_filter/CD_DE_condition19_joint_fit_fixed_portion_11122021_multi_reg/multivariate_filtertype2_951103163_951113464.pkl\n",
      "214it [38:36, 15.10s/it]util.save_variable, save variable to:  D:/Brain_Network/Output/jitter/coupling_filter/CD_DE_condition19_joint_fit_fixed_portion_11122021_multi_reg/univariate_filtertype2_951103163_951113514.pkl\n",
      "util.save_variable, save variable to:  D:/Brain_Network/Output/jitter/coupling_filter/CD_DE_condition19_joint_fit_fixed_portion_11122021_multi_reg/multivariate_filtertype2_951103163_951113514.pkl\n",
      "215it [38:47, 13.97s/it]util.save_variable, save variable to:  D:/Brain_Network/Output/jitter/coupling_filter/CD_DE_condition19_joint_fit_fixed_portion_11122021_multi_reg/univariate_filtertype2_951103163_951113717.pkl\n",
      "util.save_variable, save variable to:  D:/Brain_Network/Output/jitter/coupling_filter/CD_DE_condition19_joint_fit_fixed_portion_11122021_multi_reg/multivariate_filtertype2_951103163_951113717.pkl\n",
      "216it [38:57, 12.80s/it]util.save_variable, save variable to:  D:/Brain_Network/Output/jitter/coupling_filter/CD_DE_condition19_joint_fit_fixed_portion_11122021_multi_reg/univariate_filtertype2_951103150_951112464.pkl\n",
      "util.save_variable, save variable to:  D:/Brain_Network/Output/jitter/coupling_filter/CD_DE_condition19_joint_fit_fixed_portion_11122021_multi_reg/multivariate_filtertype2_951103150_951112464.pkl\n",
      "217it [39:07, 11.99s/it]"
     ]
    },
    {
     "name": "stderr",
     "output_type": "stream",
     "text": [
      "D:/Brain_Network/Code\\jitter.py:4063: RuntimeWarning: invalid value encountered in matmul\n",
      "  lmbd = X @ (beta + beta_offset) + offset\n",
      "D:/Brain_Network/Code\\jitter.py:4065: RuntimeWarning: invalid value encountered in matmul\n",
      "  lmbd_integral = basis_integral.T @ (beta + beta_offset) + offset_integral\n",
      "D:/Brain_Network/Code\\jitter.py:4090: RuntimeWarning: invalid value encountered in subtract\n",
      "  beta_err = np.sum(np.abs(beta_old - beta))\n"
     ]
    },
    {
     "name": "stdout",
     "output_type": "stream",
     "text": [
      "util.save_variable, save variable to:  D:/Brain_Network/Output/jitter/coupling_filter/CD_DE_condition19_joint_fit_fixed_portion_11122021_multi_reg/univariate_filtertype2_951103150_951112448.pkl\n",
      "util.save_variable, save variable to:  D:/Brain_Network/Output/jitter/coupling_filter/CD_DE_condition19_joint_fit_fixed_portion_11122021_multi_reg/multivariate_filtertype2_951103150_951112448.pkl\n",
      "218it [39:18, 11.76s/it]"
     ]
    },
    {
     "name": "stderr",
     "output_type": "stream",
     "text": [
      "D:/Brain_Network/Code\\jitter.py:4063: RuntimeWarning: invalid value encountered in matmul\n",
      "  lmbd = X @ (beta + beta_offset) + offset\n",
      "D:/Brain_Network/Code\\jitter.py:4065: RuntimeWarning: invalid value encountered in matmul\n",
      "  lmbd_integral = basis_integral.T @ (beta + beta_offset) + offset_integral\n",
      "D:/Brain_Network/Code\\jitter.py:4090: RuntimeWarning: invalid value encountered in subtract\n",
      "  beta_err = np.sum(np.abs(beta_old - beta))\n"
     ]
    },
    {
     "name": "stdout",
     "output_type": "stream",
     "text": [
      "util.save_variable, save variable to:  D:/Brain_Network/Output/jitter/coupling_filter/CD_DE_condition19_joint_fit_fixed_portion_11122021_multi_reg/univariate_filtertype2_951103150_951112431.pkl\n",
      "util.save_variable, save variable to:  D:/Brain_Network/Output/jitter/coupling_filter/CD_DE_condition19_joint_fit_fixed_portion_11122021_multi_reg/multivariate_filtertype2_951103150_951112431.pkl\n",
      "219it [39:31, 11.88s/it]"
     ]
    },
    {
     "name": "stderr",
     "output_type": "stream",
     "text": [
      "D:/Brain_Network/Code\\jitter.py:4063: RuntimeWarning: invalid value encountered in matmul\n",
      "  lmbd = X @ (beta + beta_offset) + offset\n",
      "D:/Brain_Network/Code\\jitter.py:4065: RuntimeWarning: invalid value encountered in matmul\n",
      "  lmbd_integral = basis_integral.T @ (beta + beta_offset) + offset_integral\n",
      "D:/Brain_Network/Code\\jitter.py:4090: RuntimeWarning: invalid value encountered in subtract\n",
      "  beta_err = np.sum(np.abs(beta_old - beta))\n"
     ]
    },
    {
     "name": "stdout",
     "output_type": "stream",
     "text": [
      "util.save_variable, save variable to:  D:/Brain_Network/Output/jitter/coupling_filter/CD_DE_condition19_joint_fit_fixed_portion_11122021_multi_reg/univariate_filtertype2_951103150_951112416.pkl\n",
      "util.save_variable, save variable to:  D:/Brain_Network/Output/jitter/coupling_filter/CD_DE_condition19_joint_fit_fixed_portion_11122021_multi_reg/multivariate_filtertype2_951103150_951112416.pkl\n",
      "220it [39:41, 11.58s/it]util.save_variable, save variable to:  D:/Brain_Network/Output/jitter/coupling_filter/CD_DE_condition19_joint_fit_fixed_portion_11122021_multi_reg/univariate_filtertype2_951103150_951112479.pkl\n",
      "util.save_variable, save variable to:  D:/Brain_Network/Output/jitter/coupling_filter/CD_DE_condition19_joint_fit_fixed_portion_11122021_multi_reg/multivariate_filtertype2_951103150_951112479.pkl\n",
      "221it [39:56, 12.39s/it]util.save_variable, save variable to:  D:/Brain_Network/Output/jitter/coupling_filter/CD_DE_condition19_joint_fit_fixed_portion_11122021_multi_reg/univariate_filtertype2_951103150_951112638.pkl\n",
      "util.save_variable, save variable to:  D:/Brain_Network/Output/jitter/coupling_filter/CD_DE_condition19_joint_fit_fixed_portion_11122021_multi_reg/multivariate_filtertype2_951103150_951112638.pkl\n",
      "222it [40:14, 14.16s/it]util.save_variable, save variable to:  D:/Brain_Network/Output/jitter/coupling_filter/CD_DE_condition19_joint_fit_fixed_portion_11122021_multi_reg/univariate_filtertype2_951103150_951112590.pkl\n",
      "util.save_variable, save variable to:  D:/Brain_Network/Output/jitter/coupling_filter/CD_DE_condition19_joint_fit_fixed_portion_11122021_multi_reg/multivariate_filtertype2_951103150_951112590.pkl\n",
      "223it [40:25, 13.17s/it]util.save_variable, save variable to:  D:/Brain_Network/Output/jitter/coupling_filter/CD_DE_condition19_joint_fit_fixed_portion_11122021_multi_reg/univariate_filtertype2_951103150_951112712.pkl\n",
      "util.save_variable, save variable to:  D:/Brain_Network/Output/jitter/coupling_filter/CD_DE_condition19_joint_fit_fixed_portion_11122021_multi_reg/multivariate_filtertype2_951103150_951112712.pkl\n",
      "224it [40:48, 16.29s/it]util.save_variable, save variable to:  D:/Brain_Network/Output/jitter/coupling_filter/CD_DE_condition19_joint_fit_fixed_portion_11122021_multi_reg/univariate_filtertype2_951103150_951112786.pkl\n",
      "util.save_variable, save variable to:  D:/Brain_Network/Output/jitter/coupling_filter/CD_DE_condition19_joint_fit_fixed_portion_11122021_multi_reg/multivariate_filtertype2_951103150_951112786.pkl\n",
      "225it [41:00, 14.80s/it]"
     ]
    },
    {
     "name": "stderr",
     "output_type": "stream",
     "text": [
      "D:/Brain_Network/Code\\jitter.py:4063: RuntimeWarning: invalid value encountered in matmul\n",
      "  lmbd = X @ (beta + beta_offset) + offset\n",
      "D:/Brain_Network/Code\\jitter.py:4065: RuntimeWarning: invalid value encountered in matmul\n",
      "  lmbd_integral = basis_integral.T @ (beta + beta_offset) + offset_integral\n",
      "D:/Brain_Network/Code\\jitter.py:4090: RuntimeWarning: invalid value encountered in subtract\n",
      "  beta_err = np.sum(np.abs(beta_old - beta))\n"
     ]
    },
    {
     "name": "stdout",
     "output_type": "stream",
     "text": [
      "util.save_variable, save variable to:  D:/Brain_Network/Output/jitter/coupling_filter/CD_DE_condition19_joint_fit_fixed_portion_11122021_multi_reg/univariate_filtertype2_951103150_951112780.pkl\n",
      "util.save_variable, save variable to:  D:/Brain_Network/Output/jitter/coupling_filter/CD_DE_condition19_joint_fit_fixed_portion_11122021_multi_reg/multivariate_filtertype2_951103150_951112780.pkl\n",
      "226it [41:09, 13.08s/it]util.save_variable, save variable to:  D:/Brain_Network/Output/jitter/coupling_filter/CD_DE_condition19_joint_fit_fixed_portion_11122021_multi_reg/univariate_filtertype2_951103150_951112768.pkl\n",
      "util.save_variable, save variable to:  D:/Brain_Network/Output/jitter/coupling_filter/CD_DE_condition19_joint_fit_fixed_portion_11122021_multi_reg/multivariate_filtertype2_951103150_951112768.pkl\n",
      "227it [41:29, 15.04s/it]"
     ]
    },
    {
     "name": "stderr",
     "output_type": "stream",
     "text": [
      "D:/Brain_Network/Code\\jitter.py:4063: RuntimeWarning: invalid value encountered in matmul\n",
      "  lmbd = X @ (beta + beta_offset) + offset\n",
      "D:/Brain_Network/Code\\jitter.py:4065: RuntimeWarning: invalid value encountered in matmul\n",
      "  lmbd_integral = basis_integral.T @ (beta + beta_offset) + offset_integral\n",
      "D:/Brain_Network/Code\\jitter.py:4090: RuntimeWarning: invalid value encountered in subtract\n",
      "  beta_err = np.sum(np.abs(beta_old - beta))\n"
     ]
    },
    {
     "name": "stdout",
     "output_type": "stream",
     "text": [
      "util.save_variable, save variable to:  D:/Brain_Network/Output/jitter/coupling_filter/CD_DE_condition19_joint_fit_fixed_portion_11122021_multi_reg/univariate_filtertype2_951103150_951112845.pkl\n",
      "util.save_variable, save variable to:  D:/Brain_Network/Output/jitter/coupling_filter/CD_DE_condition19_joint_fit_fixed_portion_11122021_multi_reg/multivariate_filtertype2_951103150_951112845.pkl\n",
      "228it [41:39, 13.63s/it]"
     ]
    },
    {
     "name": "stderr",
     "output_type": "stream",
     "text": [
      "D:/Brain_Network/Code\\jitter.py:4063: RuntimeWarning: invalid value encountered in matmul\n",
      "  lmbd = X @ (beta + beta_offset) + offset\n",
      "D:/Brain_Network/Code\\jitter.py:4065: RuntimeWarning: invalid value encountered in matmul\n",
      "  lmbd_integral = basis_integral.T @ (beta + beta_offset) + offset_integral\n",
      "D:/Brain_Network/Code\\jitter.py:4090: RuntimeWarning: invalid value encountered in subtract\n",
      "  beta_err = np.sum(np.abs(beta_old - beta))\n"
     ]
    },
    {
     "name": "stdout",
     "output_type": "stream",
     "text": [
      "util.save_variable, save variable to:  D:/Brain_Network/Output/jitter/coupling_filter/CD_DE_condition19_joint_fit_fixed_portion_11122021_multi_reg/univariate_filtertype2_951103150_951112906.pkl\n",
      "util.save_variable, save variable to:  D:/Brain_Network/Output/jitter/coupling_filter/CD_DE_condition19_joint_fit_fixed_portion_11122021_multi_reg/multivariate_filtertype2_951103150_951112906.pkl\n",
      "229it [41:51, 13.31s/it]util.save_variable, save variable to:  D:/Brain_Network/Output/jitter/coupling_filter/CD_DE_condition19_joint_fit_fixed_portion_11122021_multi_reg/univariate_filtertype2_951103150_951112937.pkl\n",
      "util.save_variable, save variable to:  D:/Brain_Network/Output/jitter/coupling_filter/CD_DE_condition19_joint_fit_fixed_portion_11122021_multi_reg/multivariate_filtertype2_951103150_951112937.pkl\n",
      "230it [42:02, 12.55s/it]util.save_variable, save variable to:  D:/Brain_Network/Output/jitter/coupling_filter/CD_DE_condition19_joint_fit_fixed_portion_11122021_multi_reg/univariate_filtertype2_951103150_951112992.pkl\n",
      "util.save_variable, save variable to:  D:/Brain_Network/Output/jitter/coupling_filter/CD_DE_condition19_joint_fit_fixed_portion_11122021_multi_reg/multivariate_filtertype2_951103150_951112992.pkl\n",
      "231it [42:18, 13.53s/it]util.save_variable, save variable to:  D:/Brain_Network/Output/jitter/coupling_filter/CD_DE_condition19_joint_fit_fixed_portion_11122021_multi_reg/univariate_filtertype2_951103150_951113075.pkl\n",
      "util.save_variable, save variable to:  D:/Brain_Network/Output/jitter/coupling_filter/CD_DE_condition19_joint_fit_fixed_portion_11122021_multi_reg/multivariate_filtertype2_951103150_951113075.pkl\n",
      "232it [42:29, 12.75s/it]util.save_variable, save variable to:  D:/Brain_Network/Output/jitter/coupling_filter/CD_DE_condition19_joint_fit_fixed_portion_11122021_multi_reg/univariate_filtertype2_951103150_951113056.pkl\n",
      "util.save_variable, save variable to:  D:/Brain_Network/Output/jitter/coupling_filter/CD_DE_condition19_joint_fit_fixed_portion_11122021_multi_reg/multivariate_filtertype2_951103150_951113056.pkl\n",
      "233it [42:41, 12.43s/it]util.save_variable, save variable to:  D:/Brain_Network/Output/jitter/coupling_filter/CD_DE_condition19_joint_fit_fixed_portion_11122021_multi_reg/univariate_filtertype2_951103150_951113039.pkl\n",
      "util.save_variable, save variable to:  D:/Brain_Network/Output/jitter/coupling_filter/CD_DE_condition19_joint_fit_fixed_portion_11122021_multi_reg/multivariate_filtertype2_951103150_951113039.pkl\n",
      "234it [43:00, 14.64s/it]util.save_variable, save variable to:  D:/Brain_Network/Output/jitter/coupling_filter/CD_DE_condition19_joint_fit_fixed_portion_11122021_multi_reg/univariate_filtertype2_951103150_951113191.pkl\n",
      "util.save_variable, save variable to:  D:/Brain_Network/Output/jitter/coupling_filter/CD_DE_condition19_joint_fit_fixed_portion_11122021_multi_reg/multivariate_filtertype2_951103150_951113191.pkl\n",
      "235it [43:12, 13.84s/it]util.save_variable, save variable to:  D:/Brain_Network/Output/jitter/coupling_filter/CD_DE_condition19_joint_fit_fixed_portion_11122021_multi_reg/univariate_filtertype2_951103150_951113175.pkl\n",
      "util.save_variable, save variable to:  D:/Brain_Network/Output/jitter/coupling_filter/CD_DE_condition19_joint_fit_fixed_portion_11122021_multi_reg/multivariate_filtertype2_951103150_951113175.pkl\n",
      "236it [43:25, 13.32s/it]"
     ]
    },
    {
     "name": "stderr",
     "output_type": "stream",
     "text": [
      "D:/Brain_Network/Code\\jitter.py:4063: RuntimeWarning: invalid value encountered in matmul\n",
      "  lmbd = X @ (beta + beta_offset) + offset\n",
      "D:/Brain_Network/Code\\jitter.py:4065: RuntimeWarning: invalid value encountered in matmul\n",
      "  lmbd_integral = basis_integral.T @ (beta + beta_offset) + offset_integral\n",
      "D:/Brain_Network/Code\\jitter.py:4090: RuntimeWarning: invalid value encountered in subtract\n",
      "  beta_err = np.sum(np.abs(beta_old - beta))\n"
     ]
    },
    {
     "name": "stdout",
     "output_type": "stream",
     "text": [
      "util.save_variable, save variable to:  D:/Brain_Network/Output/jitter/coupling_filter/CD_DE_condition19_joint_fit_fixed_portion_11122021_multi_reg/univariate_filtertype2_951103150_951113141.pkl\n",
      "util.save_variable, save variable to:  D:/Brain_Network/Output/jitter/coupling_filter/CD_DE_condition19_joint_fit_fixed_portion_11122021_multi_reg/multivariate_filtertype2_951103150_951113141.pkl\n",
      "237it [43:36, 12.70s/it]util.save_variable, save variable to:  D:/Brain_Network/Output/jitter/coupling_filter/CD_DE_condition19_joint_fit_fixed_portion_11122021_multi_reg/univariate_filtertype2_951103150_951113271.pkl\n",
      "util.save_variable, save variable to:  D:/Brain_Network/Output/jitter/coupling_filter/CD_DE_condition19_joint_fit_fixed_portion_11122021_multi_reg/multivariate_filtertype2_951103150_951113271.pkl\n",
      "238it [44:07, 18.35s/it]"
     ]
    },
    {
     "name": "stderr",
     "output_type": "stream",
     "text": [
      "D:/Brain_Network/Code\\jitter.py:4063: RuntimeWarning: invalid value encountered in matmul\n",
      "  lmbd = X @ (beta + beta_offset) + offset\n",
      "D:/Brain_Network/Code\\jitter.py:4065: RuntimeWarning: invalid value encountered in matmul\n",
      "  lmbd_integral = basis_integral.T @ (beta + beta_offset) + offset_integral\n",
      "D:/Brain_Network/Code\\jitter.py:4090: RuntimeWarning: invalid value encountered in subtract\n",
      "  beta_err = np.sum(np.abs(beta_old - beta))\n"
     ]
    },
    {
     "name": "stdout",
     "output_type": "stream",
     "text": [
      "util.save_variable, save variable to:  D:/Brain_Network/Output/jitter/coupling_filter/CD_DE_condition19_joint_fit_fixed_portion_11122021_multi_reg/univariate_filtertype2_951103150_951113211.pkl\n",
      "util.save_variable, save variable to:  D:/Brain_Network/Output/jitter/coupling_filter/CD_DE_condition19_joint_fit_fixed_portion_11122021_multi_reg/multivariate_filtertype2_951103150_951113211.pkl\n",
      "239it [44:21, 16.96s/it]util.save_variable, save variable to:  D:/Brain_Network/Output/jitter/coupling_filter/CD_DE_condition19_joint_fit_fixed_portion_11122021_multi_reg/univariate_filtertype2_951103150_951113240.pkl\n",
      "util.save_variable, save variable to:  D:/Brain_Network/Output/jitter/coupling_filter/CD_DE_condition19_joint_fit_fixed_portion_11122021_multi_reg/multivariate_filtertype2_951103150_951113240.pkl\n",
      "240it [44:31, 14.99s/it]util.save_variable, save variable to:  D:/Brain_Network/Output/jitter/coupling_filter/CD_DE_condition19_joint_fit_fixed_portion_11122021_multi_reg/univariate_filtertype2_951103150_951113464.pkl\n",
      "util.save_variable, save variable to:  D:/Brain_Network/Output/jitter/coupling_filter/CD_DE_condition19_joint_fit_fixed_portion_11122021_multi_reg/multivariate_filtertype2_951103150_951113464.pkl\n",
      "241it [44:50, 15.94s/it]util.save_variable, save variable to:  D:/Brain_Network/Output/jitter/coupling_filter/CD_DE_condition19_joint_fit_fixed_portion_11122021_multi_reg/univariate_filtertype2_951103150_951113514.pkl\n",
      "util.save_variable, save variable to:  D:/Brain_Network/Output/jitter/coupling_filter/CD_DE_condition19_joint_fit_fixed_portion_11122021_multi_reg/multivariate_filtertype2_951103150_951113514.pkl\n",
      "242it [45:02, 14.86s/it]util.save_variable, save variable to:  D:/Brain_Network/Output/jitter/coupling_filter/CD_DE_condition19_joint_fit_fixed_portion_11122021_multi_reg/univariate_filtertype2_951103150_951113717.pkl\n",
      "util.save_variable, save variable to:  D:/Brain_Network/Output/jitter/coupling_filter/CD_DE_condition19_joint_fit_fixed_portion_11122021_multi_reg/multivariate_filtertype2_951103150_951113717.pkl\n",
      "243it [45:16, 14.78s/it]util.save_variable, save variable to:  D:/Brain_Network/Output/jitter/coupling_filter/CD_DE_condition19_joint_fit_fixed_portion_11122021_multi_reg/univariate_filtertype2_951103361_951112464.pkl\n",
      "util.save_variable, save variable to:  D:/Brain_Network/Output/jitter/coupling_filter/CD_DE_condition19_joint_fit_fixed_portion_11122021_multi_reg/multivariate_filtertype2_951103361_951112464.pkl\n",
      "244it [45:29, 14.23s/it]util.save_variable, save variable to:  D:/Brain_Network/Output/jitter/coupling_filter/CD_DE_condition19_joint_fit_fixed_portion_11122021_multi_reg/univariate_filtertype2_951103361_951112448.pkl\n",
      "util.save_variable, save variable to:  D:/Brain_Network/Output/jitter/coupling_filter/CD_DE_condition19_joint_fit_fixed_portion_11122021_multi_reg/multivariate_filtertype2_951103361_951112448.pkl\n",
      "245it [45:43, 14.01s/it]util.save_variable, save variable to:  D:/Brain_Network/Output/jitter/coupling_filter/CD_DE_condition19_joint_fit_fixed_portion_11122021_multi_reg/univariate_filtertype2_951103361_951112431.pkl\n",
      "util.save_variable, save variable to:  D:/Brain_Network/Output/jitter/coupling_filter/CD_DE_condition19_joint_fit_fixed_portion_11122021_multi_reg/multivariate_filtertype2_951103361_951112431.pkl\n",
      "246it [45:57, 13.93s/it]util.save_variable, save variable to:  D:/Brain_Network/Output/jitter/coupling_filter/CD_DE_condition19_joint_fit_fixed_portion_11122021_multi_reg/univariate_filtertype2_951103361_951112416.pkl\n",
      "util.save_variable, save variable to:  D:/Brain_Network/Output/jitter/coupling_filter/CD_DE_condition19_joint_fit_fixed_portion_11122021_multi_reg/multivariate_filtertype2_951103361_951112416.pkl\n",
      "247it [46:10, 13.86s/it]util.save_variable, save variable to:  D:/Brain_Network/Output/jitter/coupling_filter/CD_DE_condition19_joint_fit_fixed_portion_11122021_multi_reg/univariate_filtertype2_951103361_951112479.pkl\n",
      "util.save_variable, save variable to:  D:/Brain_Network/Output/jitter/coupling_filter/CD_DE_condition19_joint_fit_fixed_portion_11122021_multi_reg/multivariate_filtertype2_951103361_951112479.pkl\n",
      "248it [46:23, 13.57s/it]util.save_variable, save variable to:  D:/Brain_Network/Output/jitter/coupling_filter/CD_DE_condition19_joint_fit_fixed_portion_11122021_multi_reg/univariate_filtertype2_951103361_951112638.pkl\n",
      "util.save_variable, save variable to:  D:/Brain_Network/Output/jitter/coupling_filter/CD_DE_condition19_joint_fit_fixed_portion_11122021_multi_reg/multivariate_filtertype2_951103361_951112638.pkl\n",
      "249it [46:39, 14.37s/it]util.save_variable, save variable to:  D:/Brain_Network/Output/jitter/coupling_filter/CD_DE_condition19_joint_fit_fixed_portion_11122021_multi_reg/univariate_filtertype2_951103361_951112590.pkl\n",
      "util.save_variable, save variable to:  D:/Brain_Network/Output/jitter/coupling_filter/CD_DE_condition19_joint_fit_fixed_portion_11122021_multi_reg/multivariate_filtertype2_951103361_951112590.pkl\n",
      "250it [46:56, 15.12s/it]"
     ]
    },
    {
     "name": "stderr",
     "output_type": "stream",
     "text": [
      "D:/Brain_Network/Code\\jitter.py:8323: UserWarning: Reach max itrs 500. Last err:1.527e-01\n",
      "  warnings.warn(f'Reach max itrs {max_num_itrs}. Last err:{beta_err:.3e}')\n"
     ]
    },
    {
     "name": "stdout",
     "output_type": "stream",
     "text": [
      "util.save_variable, save variable to:  D:/Brain_Network/Output/jitter/coupling_filter/CD_DE_condition19_joint_fit_fixed_portion_11122021_multi_reg/univariate_filtertype2_951103361_951112712.pkl\n",
      "util.save_variable, save variable to:  D:/Brain_Network/Output/jitter/coupling_filter/CD_DE_condition19_joint_fit_fixed_portion_11122021_multi_reg/multivariate_filtertype2_951103361_951112712.pkl\n",
      "251it [47:17, 16.77s/it]util.save_variable, save variable to:  D:/Brain_Network/Output/jitter/coupling_filter/CD_DE_condition19_joint_fit_fixed_portion_11122021_multi_reg/univariate_filtertype2_951103361_951112786.pkl\n",
      "util.save_variable, save variable to:  D:/Brain_Network/Output/jitter/coupling_filter/CD_DE_condition19_joint_fit_fixed_portion_11122021_multi_reg/multivariate_filtertype2_951103361_951112786.pkl\n",
      "252it [47:27, 14.81s/it]"
     ]
    },
    {
     "name": "stderr",
     "output_type": "stream",
     "text": [
      "D:/Brain_Network/Code\\jitter.py:4063: RuntimeWarning: invalid value encountered in matmul\n",
      "  lmbd = X @ (beta + beta_offset) + offset\n",
      "D:/Brain_Network/Code\\jitter.py:4065: RuntimeWarning: invalid value encountered in matmul\n",
      "  lmbd_integral = basis_integral.T @ (beta + beta_offset) + offset_integral\n",
      "D:/Brain_Network/Code\\jitter.py:4090: RuntimeWarning: invalid value encountered in subtract\n",
      "  beta_err = np.sum(np.abs(beta_old - beta))\n"
     ]
    },
    {
     "name": "stdout",
     "output_type": "stream",
     "text": [
      "util.save_variable, save variable to:  D:/Brain_Network/Output/jitter/coupling_filter/CD_DE_condition19_joint_fit_fixed_portion_11122021_multi_reg/univariate_filtertype2_951103361_951112780.pkl\n",
      "util.save_variable, save variable to:  D:/Brain_Network/Output/jitter/coupling_filter/CD_DE_condition19_joint_fit_fixed_portion_11122021_multi_reg/multivariate_filtertype2_951103361_951112780.pkl\n",
      "253it [47:34, 12.36s/it]"
     ]
    },
    {
     "name": "stderr",
     "output_type": "stream",
     "text": [
      "D:/Brain_Network/Code\\jitter.py:8302: RuntimeWarning: overflow encountered in square\n",
      "  hessian = X[non_zero_ind].T @ (X[non_zero_ind] / np.square(lmbd[non_zero_ind]))\n"
     ]
    },
    {
     "name": "stdout",
     "output_type": "stream",
     "text": [
      "util.save_variable, save variable to:  D:/Brain_Network/Output/jitter/coupling_filter/CD_DE_condition19_joint_fit_fixed_portion_11122021_multi_reg/univariate_filtertype2_951103361_951112768.pkl\n",
      "util.save_variable, save variable to:  D:/Brain_Network/Output/jitter/coupling_filter/CD_DE_condition19_joint_fit_fixed_portion_11122021_multi_reg/multivariate_filtertype2_951103361_951112768.pkl\n",
      "254it [47:51, 13.75s/it]util.save_variable, save variable to:  D:/Brain_Network/Output/jitter/coupling_filter/CD_DE_condition19_joint_fit_fixed_portion_11122021_multi_reg/univariate_filtertype2_951103361_951112845.pkl\n",
      "util.save_variable, save variable to:  D:/Brain_Network/Output/jitter/coupling_filter/CD_DE_condition19_joint_fit_fixed_portion_11122021_multi_reg/multivariate_filtertype2_951103361_951112845.pkl\n",
      "255it [48:00, 12.23s/it]"
     ]
    },
    {
     "name": "stderr",
     "output_type": "stream",
     "text": [
      "D:/Brain_Network/Code\\jitter.py:4063: RuntimeWarning: invalid value encountered in matmul\n",
      "  lmbd = X @ (beta + beta_offset) + offset\n",
      "D:/Brain_Network/Code\\jitter.py:4065: RuntimeWarning: invalid value encountered in matmul\n",
      "  lmbd_integral = basis_integral.T @ (beta + beta_offset) + offset_integral\n",
      "D:/Brain_Network/Code\\jitter.py:4090: RuntimeWarning: invalid value encountered in subtract\n",
      "  beta_err = np.sum(np.abs(beta_old - beta))\n"
     ]
    },
    {
     "name": "stdout",
     "output_type": "stream",
     "text": [
      "util.save_variable, save variable to:  D:/Brain_Network/Output/jitter/coupling_filter/CD_DE_condition19_joint_fit_fixed_portion_11122021_multi_reg/univariate_filtertype2_951103361_951112906.pkl\n",
      "util.save_variable, save variable to:  D:/Brain_Network/Output/jitter/coupling_filter/CD_DE_condition19_joint_fit_fixed_portion_11122021_multi_reg/multivariate_filtertype2_951103361_951112906.pkl\n",
      "256it [48:09, 11.49s/it]util.save_variable, save variable to:  D:/Brain_Network/Output/jitter/coupling_filter/CD_DE_condition19_joint_fit_fixed_portion_11122021_multi_reg/univariate_filtertype2_951103361_951112937.pkl\n",
      "util.save_variable, save variable to:  D:/Brain_Network/Output/jitter/coupling_filter/CD_DE_condition19_joint_fit_fixed_portion_11122021_multi_reg/multivariate_filtertype2_951103361_951112937.pkl\n",
      "257it [48:20, 11.20s/it]util.save_variable, save variable to:  D:/Brain_Network/Output/jitter/coupling_filter/CD_DE_condition19_joint_fit_fixed_portion_11122021_multi_reg/univariate_filtertype2_951103361_951112992.pkl\n",
      "util.save_variable, save variable to:  D:/Brain_Network/Output/jitter/coupling_filter/CD_DE_condition19_joint_fit_fixed_portion_11122021_multi_reg/multivariate_filtertype2_951103361_951112992.pkl\n",
      "258it [48:38, 13.29s/it]util.save_variable, save variable to:  D:/Brain_Network/Output/jitter/coupling_filter/CD_DE_condition19_joint_fit_fixed_portion_11122021_multi_reg/univariate_filtertype2_951103361_951113075.pkl\n",
      "util.save_variable, save variable to:  D:/Brain_Network/Output/jitter/coupling_filter/CD_DE_condition19_joint_fit_fixed_portion_11122021_multi_reg/multivariate_filtertype2_951103361_951113075.pkl\n",
      "259it [48:48, 12.38s/it]util.save_variable, save variable to:  D:/Brain_Network/Output/jitter/coupling_filter/CD_DE_condition19_joint_fit_fixed_portion_11122021_multi_reg/univariate_filtertype2_951103361_951113056.pkl\n",
      "util.save_variable, save variable to:  D:/Brain_Network/Output/jitter/coupling_filter/CD_DE_condition19_joint_fit_fixed_portion_11122021_multi_reg/multivariate_filtertype2_951103361_951113056.pkl\n",
      "260it [48:59, 11.81s/it]util.save_variable, save variable to:  D:/Brain_Network/Output/jitter/coupling_filter/CD_DE_condition19_joint_fit_fixed_portion_11122021_multi_reg/univariate_filtertype2_951103361_951113039.pkl\n",
      "util.save_variable, save variable to:  D:/Brain_Network/Output/jitter/coupling_filter/CD_DE_condition19_joint_fit_fixed_portion_11122021_multi_reg/multivariate_filtertype2_951103361_951113039.pkl\n",
      "261it [49:17, 13.81s/it]util.save_variable, save variable to:  D:/Brain_Network/Output/jitter/coupling_filter/CD_DE_condition19_joint_fit_fixed_portion_11122021_multi_reg/univariate_filtertype2_951103361_951113191.pkl\n",
      "util.save_variable, save variable to:  D:/Brain_Network/Output/jitter/coupling_filter/CD_DE_condition19_joint_fit_fixed_portion_11122021_multi_reg/multivariate_filtertype2_951103361_951113191.pkl\n",
      "262it [49:27, 12.59s/it]util.save_variable, save variable to:  D:/Brain_Network/Output/jitter/coupling_filter/CD_DE_condition19_joint_fit_fixed_portion_11122021_multi_reg/univariate_filtertype2_951103361_951113175.pkl\n",
      "util.save_variable, save variable to:  D:/Brain_Network/Output/jitter/coupling_filter/CD_DE_condition19_joint_fit_fixed_portion_11122021_multi_reg/multivariate_filtertype2_951103361_951113175.pkl\n",
      "263it [49:40, 12.59s/it]util.save_variable, save variable to:  D:/Brain_Network/Output/jitter/coupling_filter/CD_DE_condition19_joint_fit_fixed_portion_11122021_multi_reg/univariate_filtertype2_951103361_951113141.pkl\n",
      "util.save_variable, save variable to:  D:/Brain_Network/Output/jitter/coupling_filter/CD_DE_condition19_joint_fit_fixed_portion_11122021_multi_reg/multivariate_filtertype2_951103361_951113141.pkl\n",
      "264it [49:51, 12.29s/it]util.save_variable, save variable to:  D:/Brain_Network/Output/jitter/coupling_filter/CD_DE_condition19_joint_fit_fixed_portion_11122021_multi_reg/univariate_filtertype2_951103361_951113271.pkl\n",
      "util.save_variable, save variable to:  D:/Brain_Network/Output/jitter/coupling_filter/CD_DE_condition19_joint_fit_fixed_portion_11122021_multi_reg/multivariate_filtertype2_951103361_951113271.pkl\n",
      "265it [50:18, 16.82s/it]util.save_variable, save variable to:  D:/Brain_Network/Output/jitter/coupling_filter/CD_DE_condition19_joint_fit_fixed_portion_11122021_multi_reg/univariate_filtertype2_951103361_951113211.pkl\n",
      "util.save_variable, save variable to:  D:/Brain_Network/Output/jitter/coupling_filter/CD_DE_condition19_joint_fit_fixed_portion_11122021_multi_reg/multivariate_filtertype2_951103361_951113211.pkl\n",
      "266it [50:32, 15.78s/it]"
     ]
    },
    {
     "name": "stderr",
     "output_type": "stream",
     "text": [
      "D:/Brain_Network/Code\\jitter.py:4063: RuntimeWarning: invalid value encountered in matmul\n",
      "  lmbd = X @ (beta + beta_offset) + offset\n",
      "D:/Brain_Network/Code\\jitter.py:4065: RuntimeWarning: invalid value encountered in matmul\n",
      "  lmbd_integral = basis_integral.T @ (beta + beta_offset) + offset_integral\n",
      "D:/Brain_Network/Code\\jitter.py:4090: RuntimeWarning: invalid value encountered in subtract\n",
      "  beta_err = np.sum(np.abs(beta_old - beta))\n"
     ]
    },
    {
     "name": "stdout",
     "output_type": "stream",
     "text": [
      "util.save_variable, save variable to:  D:/Brain_Network/Output/jitter/coupling_filter/CD_DE_condition19_joint_fit_fixed_portion_11122021_multi_reg/univariate_filtertype2_951103361_951113240.pkl\n",
      "util.save_variable, save variable to:  D:/Brain_Network/Output/jitter/coupling_filter/CD_DE_condition19_joint_fit_fixed_portion_11122021_multi_reg/multivariate_filtertype2_951103361_951113240.pkl\n",
      "267it [50:42, 13.99s/it]util.save_variable, save variable to:  D:/Brain_Network/Output/jitter/coupling_filter/CD_DE_condition19_joint_fit_fixed_portion_11122021_multi_reg/univariate_filtertype2_951103361_951113464.pkl\n",
      "util.save_variable, save variable to:  D:/Brain_Network/Output/jitter/coupling_filter/CD_DE_condition19_joint_fit_fixed_portion_11122021_multi_reg/multivariate_filtertype2_951103361_951113464.pkl\n",
      "268it [50:58, 14.72s/it]util.save_variable, save variable to:  D:/Brain_Network/Output/jitter/coupling_filter/CD_DE_condition19_joint_fit_fixed_portion_11122021_multi_reg/univariate_filtertype2_951103361_951113514.pkl\n",
      "util.save_variable, save variable to:  D:/Brain_Network/Output/jitter/coupling_filter/CD_DE_condition19_joint_fit_fixed_portion_11122021_multi_reg/multivariate_filtertype2_951103361_951113514.pkl\n",
      "269it [51:10, 13.74s/it]util.save_variable, save variable to:  D:/Brain_Network/Output/jitter/coupling_filter/CD_DE_condition19_joint_fit_fixed_portion_11122021_multi_reg/univariate_filtertype2_951103361_951113717.pkl\n",
      "util.save_variable, save variable to:  D:/Brain_Network/Output/jitter/coupling_filter/CD_DE_condition19_joint_fit_fixed_portion_11122021_multi_reg/multivariate_filtertype2_951103361_951113717.pkl\n",
      "270it [51:20, 12.66s/it]util.save_variable, save variable to:  D:/Brain_Network/Output/jitter/coupling_filter/CD_DE_condition19_joint_fit_fixed_portion_11122021_multi_reg/univariate_filtertype2_951103290_951112464.pkl\n",
      "util.save_variable, save variable to:  D:/Brain_Network/Output/jitter/coupling_filter/CD_DE_condition19_joint_fit_fixed_portion_11122021_multi_reg/multivariate_filtertype2_951103290_951112464.pkl\n",
      "271it [51:29, 11.77s/it]util.save_variable, save variable to:  D:/Brain_Network/Output/jitter/coupling_filter/CD_DE_condition19_joint_fit_fixed_portion_11122021_multi_reg/univariate_filtertype2_951103290_951112448.pkl\n",
      "util.save_variable, save variable to:  D:/Brain_Network/Output/jitter/coupling_filter/CD_DE_condition19_joint_fit_fixed_portion_11122021_multi_reg/multivariate_filtertype2_951103290_951112448.pkl\n",
      "272it [51:38, 10.92s/it]util.save_variable, save variable to:  D:/Brain_Network/Output/jitter/coupling_filter/CD_DE_condition19_joint_fit_fixed_portion_11122021_multi_reg/univariate_filtertype2_951103290_951112431.pkl\n",
      "util.save_variable, save variable to:  D:/Brain_Network/Output/jitter/coupling_filter/CD_DE_condition19_joint_fit_fixed_portion_11122021_multi_reg/multivariate_filtertype2_951103290_951112431.pkl\n",
      "273it [51:48, 10.61s/it]util.save_variable, save variable to:  D:/Brain_Network/Output/jitter/coupling_filter/CD_DE_condition19_joint_fit_fixed_portion_11122021_multi_reg/univariate_filtertype2_951103290_951112416.pkl\n",
      "util.save_variable, save variable to:  D:/Brain_Network/Output/jitter/coupling_filter/CD_DE_condition19_joint_fit_fixed_portion_11122021_multi_reg/multivariate_filtertype2_951103290_951112416.pkl\n",
      "274it [52:00, 10.84s/it]util.save_variable, save variable to:  D:/Brain_Network/Output/jitter/coupling_filter/CD_DE_condition19_joint_fit_fixed_portion_11122021_multi_reg/univariate_filtertype2_951103290_951112479.pkl\n",
      "util.save_variable, save variable to:  D:/Brain_Network/Output/jitter/coupling_filter/CD_DE_condition19_joint_fit_fixed_portion_11122021_multi_reg/multivariate_filtertype2_951103290_951112479.pkl\n",
      "275it [52:09, 10.48s/it]"
     ]
    },
    {
     "name": "stderr",
     "output_type": "stream",
     "text": [
      "D:/Brain_Network/Code\\jitter.py:4063: RuntimeWarning: invalid value encountered in matmul\n",
      "  lmbd = X @ (beta + beta_offset) + offset\n",
      "D:/Brain_Network/Code\\jitter.py:4065: RuntimeWarning: invalid value encountered in matmul\n",
      "  lmbd_integral = basis_integral.T @ (beta + beta_offset) + offset_integral\n",
      "D:/Brain_Network/Code\\jitter.py:4090: RuntimeWarning: invalid value encountered in subtract\n",
      "  beta_err = np.sum(np.abs(beta_old - beta))\n"
     ]
    },
    {
     "name": "stdout",
     "output_type": "stream",
     "text": [
      "util.save_variable, save variable to:  D:/Brain_Network/Output/jitter/coupling_filter/CD_DE_condition19_joint_fit_fixed_portion_11122021_multi_reg/univariate_filtertype2_951103290_951112638.pkl\n",
      "util.save_variable, save variable to:  D:/Brain_Network/Output/jitter/coupling_filter/CD_DE_condition19_joint_fit_fixed_portion_11122021_multi_reg/multivariate_filtertype2_951103290_951112638.pkl\n",
      "276it [52:19, 10.39s/it]util.save_variable, save variable to:  D:/Brain_Network/Output/jitter/coupling_filter/CD_DE_condition19_joint_fit_fixed_portion_11122021_multi_reg/univariate_filtertype2_951103290_951112590.pkl\n",
      "util.save_variable, save variable to:  D:/Brain_Network/Output/jitter/coupling_filter/CD_DE_condition19_joint_fit_fixed_portion_11122021_multi_reg/multivariate_filtertype2_951103290_951112590.pkl\n",
      "277it [52:29, 10.27s/it]util.save_variable, save variable to:  D:/Brain_Network/Output/jitter/coupling_filter/CD_DE_condition19_joint_fit_fixed_portion_11122021_multi_reg/univariate_filtertype2_951103290_951112712.pkl\n",
      "util.save_variable, save variable to:  D:/Brain_Network/Output/jitter/coupling_filter/CD_DE_condition19_joint_fit_fixed_portion_11122021_multi_reg/multivariate_filtertype2_951103290_951112712.pkl\n",
      "278it [52:46, 12.26s/it]util.save_variable, save variable to:  D:/Brain_Network/Output/jitter/coupling_filter/CD_DE_condition19_joint_fit_fixed_portion_11122021_multi_reg/univariate_filtertype2_951103290_951112786.pkl\n",
      "util.save_variable, save variable to:  D:/Brain_Network/Output/jitter/coupling_filter/CD_DE_condition19_joint_fit_fixed_portion_11122021_multi_reg/multivariate_filtertype2_951103290_951112786.pkl\n",
      "279it [52:55, 11.12s/it]"
     ]
    },
    {
     "name": "stderr",
     "output_type": "stream",
     "text": [
      "D:/Brain_Network/Code\\jitter.py:4063: RuntimeWarning: invalid value encountered in matmul\n",
      "  lmbd = X @ (beta + beta_offset) + offset\n",
      "D:/Brain_Network/Code\\jitter.py:4065: RuntimeWarning: invalid value encountered in matmul\n",
      "  lmbd_integral = basis_integral.T @ (beta + beta_offset) + offset_integral\n",
      "D:/Brain_Network/Code\\jitter.py:4090: RuntimeWarning: invalid value encountered in subtract\n",
      "  beta_err = np.sum(np.abs(beta_old - beta))\n"
     ]
    },
    {
     "name": "stdout",
     "output_type": "stream",
     "text": [
      "util.save_variable, save variable to:  D:/Brain_Network/Output/jitter/coupling_filter/CD_DE_condition19_joint_fit_fixed_portion_11122021_multi_reg/univariate_filtertype2_951103290_951112780.pkl\n",
      "util.save_variable, save variable to:  D:/Brain_Network/Output/jitter/coupling_filter/CD_DE_condition19_joint_fit_fixed_portion_11122021_multi_reg/multivariate_filtertype2_951103290_951112780.pkl\n",
      "280it [53:02,  9.86s/it]"
     ]
    },
    {
     "name": "stderr",
     "output_type": "stream",
     "text": [
      "D:/Brain_Network/Code\\jitter.py:8323: UserWarning: Reach max itrs 500. Last err:2.003e-01\n",
      "  warnings.warn(f'Reach max itrs {max_num_itrs}. Last err:{beta_err:.3e}')\n"
     ]
    },
    {
     "name": "stdout",
     "output_type": "stream",
     "text": [
      "util.save_variable, save variable to:  D:/Brain_Network/Output/jitter/coupling_filter/CD_DE_condition19_joint_fit_fixed_portion_11122021_multi_reg/univariate_filtertype2_951103290_951112768.pkl\n",
      "util.save_variable, save variable to:  D:/Brain_Network/Output/jitter/coupling_filter/CD_DE_condition19_joint_fit_fixed_portion_11122021_multi_reg/multivariate_filtertype2_951103290_951112768.pkl\n",
      "281it [53:15, 11.04s/it]"
     ]
    },
    {
     "name": "stderr",
     "output_type": "stream",
     "text": [
      "D:/Brain_Network/Code\\jitter.py:4063: RuntimeWarning: invalid value encountered in matmul\n",
      "  lmbd = X @ (beta + beta_offset) + offset\n",
      "D:/Brain_Network/Code\\jitter.py:4065: RuntimeWarning: invalid value encountered in matmul\n",
      "  lmbd_integral = basis_integral.T @ (beta + beta_offset) + offset_integral\n",
      "D:/Brain_Network/Code\\jitter.py:4090: RuntimeWarning: invalid value encountered in subtract\n",
      "  beta_err = np.sum(np.abs(beta_old - beta))\n"
     ]
    },
    {
     "name": "stdout",
     "output_type": "stream",
     "text": [
      "util.save_variable, save variable to:  D:/Brain_Network/Output/jitter/coupling_filter/CD_DE_condition19_joint_fit_fixed_portion_11122021_multi_reg/univariate_filtertype2_951103290_951112845.pkl\n",
      "util.save_variable, save variable to:  D:/Brain_Network/Output/jitter/coupling_filter/CD_DE_condition19_joint_fit_fixed_portion_11122021_multi_reg/multivariate_filtertype2_951103290_951112845.pkl\n",
      "282it [53:23,  9.87s/it]util.save_variable, save variable to:  D:/Brain_Network/Output/jitter/coupling_filter/CD_DE_condition19_joint_fit_fixed_portion_11122021_multi_reg/univariate_filtertype2_951103290_951112906.pkl\n",
      "util.save_variable, save variable to:  D:/Brain_Network/Output/jitter/coupling_filter/CD_DE_condition19_joint_fit_fixed_portion_11122021_multi_reg/multivariate_filtertype2_951103290_951112906.pkl\n",
      "283it [53:31,  9.58s/it]util.save_variable, save variable to:  D:/Brain_Network/Output/jitter/coupling_filter/CD_DE_condition19_joint_fit_fixed_portion_11122021_multi_reg/univariate_filtertype2_951103290_951112937.pkl\n",
      "util.save_variable, save variable to:  D:/Brain_Network/Output/jitter/coupling_filter/CD_DE_condition19_joint_fit_fixed_portion_11122021_multi_reg/multivariate_filtertype2_951103290_951112937.pkl\n",
      "284it [53:41,  9.49s/it]util.save_variable, save variable to:  D:/Brain_Network/Output/jitter/coupling_filter/CD_DE_condition19_joint_fit_fixed_portion_11122021_multi_reg/univariate_filtertype2_951103290_951112992.pkl\n",
      "util.save_variable, save variable to:  D:/Brain_Network/Output/jitter/coupling_filter/CD_DE_condition19_joint_fit_fixed_portion_11122021_multi_reg/multivariate_filtertype2_951103290_951112992.pkl\n",
      "285it [53:53, 10.40s/it]"
     ]
    },
    {
     "name": "stderr",
     "output_type": "stream",
     "text": [
      "D:/Brain_Network/Code\\jitter.py:4063: RuntimeWarning: invalid value encountered in matmul\n",
      "  lmbd = X @ (beta + beta_offset) + offset\n",
      "D:/Brain_Network/Code\\jitter.py:4065: RuntimeWarning: invalid value encountered in matmul\n",
      "  lmbd_integral = basis_integral.T @ (beta + beta_offset) + offset_integral\n",
      "D:/Brain_Network/Code\\jitter.py:4090: RuntimeWarning: invalid value encountered in subtract\n",
      "  beta_err = np.sum(np.abs(beta_old - beta))\n"
     ]
    },
    {
     "name": "stdout",
     "output_type": "stream",
     "text": [
      "util.save_variable, save variable to:  D:/Brain_Network/Output/jitter/coupling_filter/CD_DE_condition19_joint_fit_fixed_portion_11122021_multi_reg/univariate_filtertype2_951103290_951113075.pkl\n",
      "util.save_variable, save variable to:  D:/Brain_Network/Output/jitter/coupling_filter/CD_DE_condition19_joint_fit_fixed_portion_11122021_multi_reg/multivariate_filtertype2_951103290_951113075.pkl\n",
      "286it [54:02,  9.78s/it]"
     ]
    },
    {
     "name": "stderr",
     "output_type": "stream",
     "text": [
      "D:/Brain_Network/Code\\jitter.py:4063: RuntimeWarning: invalid value encountered in matmul\n",
      "  lmbd = X @ (beta + beta_offset) + offset\n",
      "D:/Brain_Network/Code\\jitter.py:4065: RuntimeWarning: invalid value encountered in matmul\n",
      "  lmbd_integral = basis_integral.T @ (beta + beta_offset) + offset_integral\n",
      "D:/Brain_Network/Code\\jitter.py:4090: RuntimeWarning: invalid value encountered in subtract\n",
      "  beta_err = np.sum(np.abs(beta_old - beta))\n"
     ]
    },
    {
     "name": "stdout",
     "output_type": "stream",
     "text": [
      "util.save_variable, save variable to:  D:/Brain_Network/Output/jitter/coupling_filter/CD_DE_condition19_joint_fit_fixed_portion_11122021_multi_reg/univariate_filtertype2_951103290_951113056.pkl\n",
      "util.save_variable, save variable to:  D:/Brain_Network/Output/jitter/coupling_filter/CD_DE_condition19_joint_fit_fixed_portion_11122021_multi_reg/multivariate_filtertype2_951103290_951113056.pkl\n",
      "287it [54:09,  8.95s/it]util.save_variable, save variable to:  D:/Brain_Network/Output/jitter/coupling_filter/CD_DE_condition19_joint_fit_fixed_portion_11122021_multi_reg/univariate_filtertype2_951103290_951113039.pkl\n",
      "util.save_variable, save variable to:  D:/Brain_Network/Output/jitter/coupling_filter/CD_DE_condition19_joint_fit_fixed_portion_11122021_multi_reg/multivariate_filtertype2_951103290_951113039.pkl\n",
      "288it [54:22, 10.26s/it]util.save_variable, save variable to:  D:/Brain_Network/Output/jitter/coupling_filter/CD_DE_condition19_joint_fit_fixed_portion_11122021_multi_reg/univariate_filtertype2_951103290_951113191.pkl\n",
      "util.save_variable, save variable to:  D:/Brain_Network/Output/jitter/coupling_filter/CD_DE_condition19_joint_fit_fixed_portion_11122021_multi_reg/multivariate_filtertype2_951103290_951113191.pkl\n",
      "289it [54:30,  9.64s/it]util.save_variable, save variable to:  D:/Brain_Network/Output/jitter/coupling_filter/CD_DE_condition19_joint_fit_fixed_portion_11122021_multi_reg/univariate_filtertype2_951103290_951113175.pkl\n",
      "util.save_variable, save variable to:  D:/Brain_Network/Output/jitter/coupling_filter/CD_DE_condition19_joint_fit_fixed_portion_11122021_multi_reg/multivariate_filtertype2_951103290_951113175.pkl\n",
      "290it [54:39,  9.40s/it]"
     ]
    },
    {
     "name": "stderr",
     "output_type": "stream",
     "text": [
      "D:/Brain_Network/Code\\jitter.py:4063: RuntimeWarning: invalid value encountered in matmul\n",
      "  lmbd = X @ (beta + beta_offset) + offset\n",
      "D:/Brain_Network/Code\\jitter.py:4065: RuntimeWarning: invalid value encountered in matmul\n",
      "  lmbd_integral = basis_integral.T @ (beta + beta_offset) + offset_integral\n",
      "D:/Brain_Network/Code\\jitter.py:4090: RuntimeWarning: invalid value encountered in subtract\n",
      "  beta_err = np.sum(np.abs(beta_old - beta))\n"
     ]
    },
    {
     "name": "stdout",
     "output_type": "stream",
     "text": [
      "util.save_variable, save variable to:  D:/Brain_Network/Output/jitter/coupling_filter/CD_DE_condition19_joint_fit_fixed_portion_11122021_multi_reg/univariate_filtertype2_951103290_951113141.pkl\n",
      "util.save_variable, save variable to:  D:/Brain_Network/Output/jitter/coupling_filter/CD_DE_condition19_joint_fit_fixed_portion_11122021_multi_reg/multivariate_filtertype2_951103290_951113141.pkl\n",
      "291it [54:49,  9.60s/it]util.save_variable, save variable to:  D:/Brain_Network/Output/jitter/coupling_filter/CD_DE_condition19_joint_fit_fixed_portion_11122021_multi_reg/univariate_filtertype2_951103290_951113271.pkl\n",
      "util.save_variable, save variable to:  D:/Brain_Network/Output/jitter/coupling_filter/CD_DE_condition19_joint_fit_fixed_portion_11122021_multi_reg/multivariate_filtertype2_951103290_951113271.pkl\n",
      "292it [55:10, 13.09s/it]"
     ]
    },
    {
     "name": "stderr",
     "output_type": "stream",
     "text": [
      "D:/Brain_Network/Code\\jitter.py:4075: RuntimeWarning: overflow encountered in matmul\n",
      "  delta = np.linalg.inv(hessian) @ gradient\n",
      "D:/Brain_Network/Code\\jitter.py:4063: RuntimeWarning: invalid value encountered in matmul\n",
      "  lmbd = X @ (beta + beta_offset) + offset\n",
      "D:/Brain_Network/Code\\jitter.py:4065: RuntimeWarning: invalid value encountered in matmul\n",
      "  lmbd_integral = basis_integral.T @ (beta + beta_offset) + offset_integral\n",
      "D:/Brain_Network/Code\\jitter.py:4090: RuntimeWarning: invalid value encountered in subtract\n",
      "  beta_err = np.sum(np.abs(beta_old - beta))\n"
     ]
    },
    {
     "name": "stdout",
     "output_type": "stream",
     "text": [
      "util.save_variable, save variable to:  D:/Brain_Network/Output/jitter/coupling_filter/CD_DE_condition19_joint_fit_fixed_portion_11122021_multi_reg/univariate_filtertype2_951103290_951113211.pkl\n",
      "util.save_variable, save variable to:  D:/Brain_Network/Output/jitter/coupling_filter/CD_DE_condition19_joint_fit_fixed_portion_11122021_multi_reg/multivariate_filtertype2_951103290_951113211.pkl\n",
      "293it [55:19, 11.74s/it]"
     ]
    },
    {
     "name": "stderr",
     "output_type": "stream",
     "text": [
      "D:/Brain_Network/Code\\jitter.py:4063: RuntimeWarning: invalid value encountered in matmul\n",
      "  lmbd = X @ (beta + beta_offset) + offset\n",
      "D:/Brain_Network/Code\\jitter.py:4065: RuntimeWarning: invalid value encountered in matmul\n",
      "  lmbd_integral = basis_integral.T @ (beta + beta_offset) + offset_integral\n",
      "D:/Brain_Network/Code\\jitter.py:4090: RuntimeWarning: invalid value encountered in subtract\n",
      "  beta_err = np.sum(np.abs(beta_old - beta))\n"
     ]
    },
    {
     "name": "stdout",
     "output_type": "stream",
     "text": [
      "util.save_variable, save variable to:  D:/Brain_Network/Output/jitter/coupling_filter/CD_DE_condition19_joint_fit_fixed_portion_11122021_multi_reg/univariate_filtertype2_951103290_951113240.pkl\n",
      "util.save_variable, save variable to:  D:/Brain_Network/Output/jitter/coupling_filter/CD_DE_condition19_joint_fit_fixed_portion_11122021_multi_reg/multivariate_filtertype2_951103290_951113240.pkl\n",
      "294it [55:27, 10.61s/it]util.save_variable, save variable to:  D:/Brain_Network/Output/jitter/coupling_filter/CD_DE_condition19_joint_fit_fixed_portion_11122021_multi_reg/univariate_filtertype2_951103290_951113464.pkl\n",
      "util.save_variable, save variable to:  D:/Brain_Network/Output/jitter/coupling_filter/CD_DE_condition19_joint_fit_fixed_portion_11122021_multi_reg/multivariate_filtertype2_951103290_951113464.pkl\n",
      "295it [55:40, 11.31s/it]util.save_variable, save variable to:  D:/Brain_Network/Output/jitter/coupling_filter/CD_DE_condition19_joint_fit_fixed_portion_11122021_multi_reg/univariate_filtertype2_951103290_951113514.pkl\n",
      "util.save_variable, save variable to:  D:/Brain_Network/Output/jitter/coupling_filter/CD_DE_condition19_joint_fit_fixed_portion_11122021_multi_reg/multivariate_filtertype2_951103290_951113514.pkl\n",
      "296it [55:49, 10.79s/it]util.save_variable, save variable to:  D:/Brain_Network/Output/jitter/coupling_filter/CD_DE_condition19_joint_fit_fixed_portion_11122021_multi_reg/univariate_filtertype2_951103290_951113717.pkl\n",
      "util.save_variable, save variable to:  D:/Brain_Network/Output/jitter/coupling_filter/CD_DE_condition19_joint_fit_fixed_portion_11122021_multi_reg/multivariate_filtertype2_951103290_951113717.pkl\n",
      "297it [56:00, 10.77s/it]util.save_variable, save variable to:  D:/Brain_Network/Output/jitter/coupling_filter/CD_DE_condition19_joint_fit_fixed_portion_11122021_multi_reg/univariate_filtertype2_951103262_951112464.pkl\n",
      "util.save_variable, save variable to:  D:/Brain_Network/Output/jitter/coupling_filter/CD_DE_condition19_joint_fit_fixed_portion_11122021_multi_reg/multivariate_filtertype2_951103262_951112464.pkl\n",
      "298it [56:11, 10.95s/it]util.save_variable, save variable to:  D:/Brain_Network/Output/jitter/coupling_filter/CD_DE_condition19_joint_fit_fixed_portion_11122021_multi_reg/univariate_filtertype2_951103262_951112448.pkl\n",
      "util.save_variable, save variable to:  D:/Brain_Network/Output/jitter/coupling_filter/CD_DE_condition19_joint_fit_fixed_portion_11122021_multi_reg/multivariate_filtertype2_951103262_951112448.pkl\n",
      "299it [56:24, 11.46s/it]util.save_variable, save variable to:  D:/Brain_Network/Output/jitter/coupling_filter/CD_DE_condition19_joint_fit_fixed_portion_11122021_multi_reg/univariate_filtertype2_951103262_951112431.pkl\n",
      "util.save_variable, save variable to:  D:/Brain_Network/Output/jitter/coupling_filter/CD_DE_condition19_joint_fit_fixed_portion_11122021_multi_reg/multivariate_filtertype2_951103262_951112431.pkl\n",
      "300it [56:37, 11.89s/it]"
     ]
    },
    {
     "name": "stderr",
     "output_type": "stream",
     "text": [
      "D:/Brain_Network/Code\\jitter.py:4063: RuntimeWarning: invalid value encountered in matmul\n",
      "  lmbd = X @ (beta + beta_offset) + offset\n",
      "D:/Brain_Network/Code\\jitter.py:4065: RuntimeWarning: invalid value encountered in matmul\n",
      "  lmbd_integral = basis_integral.T @ (beta + beta_offset) + offset_integral\n",
      "D:/Brain_Network/Code\\jitter.py:4090: RuntimeWarning: invalid value encountered in subtract\n",
      "  beta_err = np.sum(np.abs(beta_old - beta))\n"
     ]
    },
    {
     "name": "stdout",
     "output_type": "stream",
     "text": [
      "util.save_variable, save variable to:  D:/Brain_Network/Output/jitter/coupling_filter/CD_DE_condition19_joint_fit_fixed_portion_11122021_multi_reg/univariate_filtertype2_951103262_951112416.pkl\n",
      "util.save_variable, save variable to:  D:/Brain_Network/Output/jitter/coupling_filter/CD_DE_condition19_joint_fit_fixed_portion_11122021_multi_reg/multivariate_filtertype2_951103262_951112416.pkl\n",
      "301it [56:49, 11.78s/it]util.save_variable, save variable to:  D:/Brain_Network/Output/jitter/coupling_filter/CD_DE_condition19_joint_fit_fixed_portion_11122021_multi_reg/univariate_filtertype2_951103262_951112479.pkl\n",
      "util.save_variable, save variable to:  D:/Brain_Network/Output/jitter/coupling_filter/CD_DE_condition19_joint_fit_fixed_portion_11122021_multi_reg/multivariate_filtertype2_951103262_951112479.pkl\n",
      "302it [57:01, 12.04s/it]util.save_variable, save variable to:  D:/Brain_Network/Output/jitter/coupling_filter/CD_DE_condition19_joint_fit_fixed_portion_11122021_multi_reg/univariate_filtertype2_951103262_951112638.pkl\n",
      "util.save_variable, save variable to:  D:/Brain_Network/Output/jitter/coupling_filter/CD_DE_condition19_joint_fit_fixed_portion_11122021_multi_reg/multivariate_filtertype2_951103262_951112638.pkl\n",
      "303it [57:16, 12.77s/it]util.save_variable, save variable to:  D:/Brain_Network/Output/jitter/coupling_filter/CD_DE_condition19_joint_fit_fixed_portion_11122021_multi_reg/univariate_filtertype2_951103262_951112590.pkl\n",
      "util.save_variable, save variable to:  D:/Brain_Network/Output/jitter/coupling_filter/CD_DE_condition19_joint_fit_fixed_portion_11122021_multi_reg/multivariate_filtertype2_951103262_951112590.pkl\n",
      "304it [57:30, 13.25s/it]"
     ]
    },
    {
     "name": "stderr",
     "output_type": "stream",
     "text": [
      "D:/Brain_Network/Code\\jitter.py:8323: UserWarning: Reach max itrs 500. Last err:2.245e-01\n",
      "  warnings.warn(f'Reach max itrs {max_num_itrs}. Last err:{beta_err:.3e}')\n"
     ]
    },
    {
     "name": "stdout",
     "output_type": "stream",
     "text": [
      "util.save_variable, save variable to:  D:/Brain_Network/Output/jitter/coupling_filter/CD_DE_condition19_joint_fit_fixed_portion_11122021_multi_reg/univariate_filtertype2_951103262_951112712.pkl\n",
      "util.save_variable, save variable to:  D:/Brain_Network/Output/jitter/coupling_filter/CD_DE_condition19_joint_fit_fixed_portion_11122021_multi_reg/multivariate_filtertype2_951103262_951112712.pkl\n",
      "305it [57:50, 15.28s/it]util.save_variable, save variable to:  D:/Brain_Network/Output/jitter/coupling_filter/CD_DE_condition19_joint_fit_fixed_portion_11122021_multi_reg/univariate_filtertype2_951103262_951112786.pkl\n",
      "util.save_variable, save variable to:  D:/Brain_Network/Output/jitter/coupling_filter/CD_DE_condition19_joint_fit_fixed_portion_11122021_multi_reg/multivariate_filtertype2_951103262_951112786.pkl\n",
      "306it [58:01, 13.88s/it]"
     ]
    },
    {
     "name": "stderr",
     "output_type": "stream",
     "text": [
      "D:/Brain_Network/Code\\jitter.py:4063: RuntimeWarning: invalid value encountered in matmul\n",
      "  lmbd = X @ (beta + beta_offset) + offset\n",
      "D:/Brain_Network/Code\\jitter.py:4065: RuntimeWarning: invalid value encountered in matmul\n",
      "  lmbd_integral = basis_integral.T @ (beta + beta_offset) + offset_integral\n",
      "D:/Brain_Network/Code\\jitter.py:4090: RuntimeWarning: invalid value encountered in subtract\n",
      "  beta_err = np.sum(np.abs(beta_old - beta))\n"
     ]
    },
    {
     "name": "stdout",
     "output_type": "stream",
     "text": [
      "util.save_variable, save variable to:  D:/Brain_Network/Output/jitter/coupling_filter/CD_DE_condition19_joint_fit_fixed_portion_11122021_multi_reg/univariate_filtertype2_951103262_951112780.pkl\n",
      "util.save_variable, save variable to:  D:/Brain_Network/Output/jitter/coupling_filter/CD_DE_condition19_joint_fit_fixed_portion_11122021_multi_reg/multivariate_filtertype2_951103262_951112780.pkl\n",
      "307it [58:08, 11.96s/it]util.save_variable, save variable to:  D:/Brain_Network/Output/jitter/coupling_filter/CD_DE_condition19_joint_fit_fixed_portion_11122021_multi_reg/univariate_filtertype2_951103262_951112768.pkl\n",
      "util.save_variable, save variable to:  D:/Brain_Network/Output/jitter/coupling_filter/CD_DE_condition19_joint_fit_fixed_portion_11122021_multi_reg/multivariate_filtertype2_951103262_951112768.pkl\n",
      "308it [58:25, 13.36s/it]util.save_variable, save variable to:  D:/Brain_Network/Output/jitter/coupling_filter/CD_DE_condition19_joint_fit_fixed_portion_11122021_multi_reg/univariate_filtertype2_951103262_951112845.pkl\n",
      "util.save_variable, save variable to:  D:/Brain_Network/Output/jitter/coupling_filter/CD_DE_condition19_joint_fit_fixed_portion_11122021_multi_reg/multivariate_filtertype2_951103262_951112845.pkl\n",
      "309it [58:34, 12.16s/it]"
     ]
    },
    {
     "name": "stderr",
     "output_type": "stream",
     "text": [
      "D:/Brain_Network/Code\\jitter.py:4063: RuntimeWarning: invalid value encountered in matmul\n",
      "  lmbd = X @ (beta + beta_offset) + offset\n",
      "D:/Brain_Network/Code\\jitter.py:4065: RuntimeWarning: invalid value encountered in matmul\n",
      "  lmbd_integral = basis_integral.T @ (beta + beta_offset) + offset_integral\n",
      "D:/Brain_Network/Code\\jitter.py:4090: RuntimeWarning: invalid value encountered in subtract\n",
      "  beta_err = np.sum(np.abs(beta_old - beta))\n"
     ]
    },
    {
     "name": "stdout",
     "output_type": "stream",
     "text": [
      "util.save_variable, save variable to:  D:/Brain_Network/Output/jitter/coupling_filter/CD_DE_condition19_joint_fit_fixed_portion_11122021_multi_reg/univariate_filtertype2_951103262_951112906.pkl\n",
      "util.save_variable, save variable to:  D:/Brain_Network/Output/jitter/coupling_filter/CD_DE_condition19_joint_fit_fixed_portion_11122021_multi_reg/multivariate_filtertype2_951103262_951112906.pkl\n",
      "310it [58:45, 11.77s/it]util.save_variable, save variable to:  D:/Brain_Network/Output/jitter/coupling_filter/CD_DE_condition19_joint_fit_fixed_portion_11122021_multi_reg/univariate_filtertype2_951103262_951112937.pkl\n",
      "util.save_variable, save variable to:  D:/Brain_Network/Output/jitter/coupling_filter/CD_DE_condition19_joint_fit_fixed_portion_11122021_multi_reg/multivariate_filtertype2_951103262_951112937.pkl\n",
      "311it [58:56, 11.48s/it]util.save_variable, save variable to:  D:/Brain_Network/Output/jitter/coupling_filter/CD_DE_condition19_joint_fit_fixed_portion_11122021_multi_reg/univariate_filtertype2_951103262_951112992.pkl\n",
      "util.save_variable, save variable to:  D:/Brain_Network/Output/jitter/coupling_filter/CD_DE_condition19_joint_fit_fixed_portion_11122021_multi_reg/multivariate_filtertype2_951103262_951112992.pkl\n",
      "312it [59:12, 12.94s/it]"
     ]
    },
    {
     "name": "stderr",
     "output_type": "stream",
     "text": [
      "D:/Brain_Network/Code\\jitter.py:4063: RuntimeWarning: invalid value encountered in matmul\n",
      "  lmbd = X @ (beta + beta_offset) + offset\n",
      "D:/Brain_Network/Code\\jitter.py:4065: RuntimeWarning: invalid value encountered in matmul\n",
      "  lmbd_integral = basis_integral.T @ (beta + beta_offset) + offset_integral\n",
      "D:/Brain_Network/Code\\jitter.py:4090: RuntimeWarning: invalid value encountered in subtract\n",
      "  beta_err = np.sum(np.abs(beta_old - beta))\n"
     ]
    },
    {
     "name": "stdout",
     "output_type": "stream",
     "text": [
      "util.save_variable, save variable to:  D:/Brain_Network/Output/jitter/coupling_filter/CD_DE_condition19_joint_fit_fixed_portion_11122021_multi_reg/univariate_filtertype2_951103262_951113075.pkl\n",
      "util.save_variable, save variable to:  D:/Brain_Network/Output/jitter/coupling_filter/CD_DE_condition19_joint_fit_fixed_portion_11122021_multi_reg/multivariate_filtertype2_951103262_951113075.pkl\n",
      "313it [59:23, 12.30s/it]util.save_variable, save variable to:  D:/Brain_Network/Output/jitter/coupling_filter/CD_DE_condition19_joint_fit_fixed_portion_11122021_multi_reg/univariate_filtertype2_951103262_951113056.pkl\n",
      "util.save_variable, save variable to:  D:/Brain_Network/Output/jitter/coupling_filter/CD_DE_condition19_joint_fit_fixed_portion_11122021_multi_reg/multivariate_filtertype2_951103262_951113056.pkl\n",
      "314it [59:32, 11.39s/it]"
     ]
    },
    {
     "name": "stderr",
     "output_type": "stream",
     "text": [
      "D:/Brain_Network/Code\\jitter.py:8323: UserWarning: Reach max itrs 500. Last err:2.370e-06\n",
      "  warnings.warn(f'Reach max itrs {max_num_itrs}. Last err:{beta_err:.3e}')\n",
      "D:/Brain_Network/Code\\jitter.py:4063: RuntimeWarning: invalid value encountered in matmul\n",
      "  lmbd = X @ (beta + beta_offset) + offset\n",
      "D:/Brain_Network/Code\\jitter.py:4065: RuntimeWarning: invalid value encountered in matmul\n",
      "  lmbd_integral = basis_integral.T @ (beta + beta_offset) + offset_integral\n",
      "D:/Brain_Network/Code\\jitter.py:4090: RuntimeWarning: invalid value encountered in subtract\n",
      "  beta_err = np.sum(np.abs(beta_old - beta))\n"
     ]
    },
    {
     "name": "stdout",
     "output_type": "stream",
     "text": [
      "util.save_variable, save variable to:  D:/Brain_Network/Output/jitter/coupling_filter/CD_DE_condition19_joint_fit_fixed_portion_11122021_multi_reg/univariate_filtertype2_951103262_951113039.pkl\n",
      "util.save_variable, save variable to:  D:/Brain_Network/Output/jitter/coupling_filter/CD_DE_condition19_joint_fit_fixed_portion_11122021_multi_reg/multivariate_filtertype2_951103262_951113039.pkl\n",
      "315it [59:50, 13.18s/it]util.save_variable, save variable to:  D:/Brain_Network/Output/jitter/coupling_filter/CD_DE_condition19_joint_fit_fixed_portion_11122021_multi_reg/univariate_filtertype2_951103262_951113191.pkl\n",
      "util.save_variable, save variable to:  D:/Brain_Network/Output/jitter/coupling_filter/CD_DE_condition19_joint_fit_fixed_portion_11122021_multi_reg/multivariate_filtertype2_951103262_951113191.pkl\n",
      "316it [1:00:00, 12.42s/it]util.save_variable, save variable to:  D:/Brain_Network/Output/jitter/coupling_filter/CD_DE_condition19_joint_fit_fixed_portion_11122021_multi_reg/univariate_filtertype2_951103262_951113175.pkl\n",
      "util.save_variable, save variable to:  D:/Brain_Network/Output/jitter/coupling_filter/CD_DE_condition19_joint_fit_fixed_portion_11122021_multi_reg/multivariate_filtertype2_951103262_951113175.pkl\n",
      "317it [1:00:14, 12.76s/it]"
     ]
    },
    {
     "name": "stderr",
     "output_type": "stream",
     "text": [
      "D:/Brain_Network/Code\\jitter.py:4063: RuntimeWarning: invalid value encountered in matmul\n",
      "  lmbd = X @ (beta + beta_offset) + offset\n",
      "D:/Brain_Network/Code\\jitter.py:4065: RuntimeWarning: invalid value encountered in matmul\n",
      "  lmbd_integral = basis_integral.T @ (beta + beta_offset) + offset_integral\n",
      "D:/Brain_Network/Code\\jitter.py:4090: RuntimeWarning: invalid value encountered in subtract\n",
      "  beta_err = np.sum(np.abs(beta_old - beta))\n"
     ]
    },
    {
     "name": "stdout",
     "output_type": "stream",
     "text": [
      "util.save_variable, save variable to:  D:/Brain_Network/Output/jitter/coupling_filter/CD_DE_condition19_joint_fit_fixed_portion_11122021_multi_reg/univariate_filtertype2_951103262_951113141.pkl\n",
      "util.save_variable, save variable to:  D:/Brain_Network/Output/jitter/coupling_filter/CD_DE_condition19_joint_fit_fixed_portion_11122021_multi_reg/multivariate_filtertype2_951103262_951113141.pkl\n",
      "318it [1:00:26, 12.51s/it]util.save_variable, save variable to:  D:/Brain_Network/Output/jitter/coupling_filter/CD_DE_condition19_joint_fit_fixed_portion_11122021_multi_reg/univariate_filtertype2_951103262_951113271.pkl\n",
      "util.save_variable, save variable to:  D:/Brain_Network/Output/jitter/coupling_filter/CD_DE_condition19_joint_fit_fixed_portion_11122021_multi_reg/multivariate_filtertype2_951103262_951113271.pkl\n",
      "319it [1:00:54, 17.27s/it]util.save_variable, save variable to:  D:/Brain_Network/Output/jitter/coupling_filter/CD_DE_condition19_joint_fit_fixed_portion_11122021_multi_reg/univariate_filtertype2_951103262_951113211.pkl\n",
      "util.save_variable, save variable to:  D:/Brain_Network/Output/jitter/coupling_filter/CD_DE_condition19_joint_fit_fixed_portion_11122021_multi_reg/multivariate_filtertype2_951103262_951113211.pkl\n",
      "320it [1:01:08, 16.19s/it]util.save_variable, save variable to:  D:/Brain_Network/Output/jitter/coupling_filter/CD_DE_condition19_joint_fit_fixed_portion_11122021_multi_reg/univariate_filtertype2_951103262_951113240.pkl\n",
      "util.save_variable, save variable to:  D:/Brain_Network/Output/jitter/coupling_filter/CD_DE_condition19_joint_fit_fixed_portion_11122021_multi_reg/multivariate_filtertype2_951103262_951113240.pkl\n",
      "321it [1:01:18, 14.28s/it]util.save_variable, save variable to:  D:/Brain_Network/Output/jitter/coupling_filter/CD_DE_condition19_joint_fit_fixed_portion_11122021_multi_reg/univariate_filtertype2_951103262_951113464.pkl\n",
      "util.save_variable, save variable to:  D:/Brain_Network/Output/jitter/coupling_filter/CD_DE_condition19_joint_fit_fixed_portion_11122021_multi_reg/multivariate_filtertype2_951103262_951113464.pkl\n",
      "322it [1:01:34, 15.07s/it]util.save_variable, save variable to:  D:/Brain_Network/Output/jitter/coupling_filter/CD_DE_condition19_joint_fit_fixed_portion_11122021_multi_reg/univariate_filtertype2_951103262_951113514.pkl\n",
      "util.save_variable, save variable to:  D:/Brain_Network/Output/jitter/coupling_filter/CD_DE_condition19_joint_fit_fixed_portion_11122021_multi_reg/multivariate_filtertype2_951103262_951113514.pkl\n",
      "323it [1:01:46, 13.99s/it]util.save_variable, save variable to:  D:/Brain_Network/Output/jitter/coupling_filter/CD_DE_condition19_joint_fit_fixed_portion_11122021_multi_reg/univariate_filtertype2_951103262_951113717.pkl\n",
      "util.save_variable, save variable to:  D:/Brain_Network/Output/jitter/coupling_filter/CD_DE_condition19_joint_fit_fixed_portion_11122021_multi_reg/multivariate_filtertype2_951103262_951113717.pkl\n",
      "324it [1:01:56, 12.89s/it]util.save_variable, save variable to:  D:/Brain_Network/Output/jitter/coupling_filter/CD_DE_condition19_joint_fit_fixed_portion_11122021_multi_reg/univariate_filtertype2_951103238_951112464.pkl\n",
      "util.save_variable, save variable to:  D:/Brain_Network/Output/jitter/coupling_filter/CD_DE_condition19_joint_fit_fixed_portion_11122021_multi_reg/multivariate_filtertype2_951103238_951112464.pkl\n",
      "325it [1:02:07, 12.39s/it]util.save_variable, save variable to:  D:/Brain_Network/Output/jitter/coupling_filter/CD_DE_condition19_joint_fit_fixed_portion_11122021_multi_reg/univariate_filtertype2_951103238_951112448.pkl\n",
      "util.save_variable, save variable to:  D:/Brain_Network/Output/jitter/coupling_filter/CD_DE_condition19_joint_fit_fixed_portion_11122021_multi_reg/multivariate_filtertype2_951103238_951112448.pkl\n",
      "326it [1:02:20, 12.29s/it]util.save_variable, save variable to:  D:/Brain_Network/Output/jitter/coupling_filter/CD_DE_condition19_joint_fit_fixed_portion_11122021_multi_reg/univariate_filtertype2_951103238_951112431.pkl\n",
      "util.save_variable, save variable to:  D:/Brain_Network/Output/jitter/coupling_filter/CD_DE_condition19_joint_fit_fixed_portion_11122021_multi_reg/multivariate_filtertype2_951103238_951112431.pkl\n",
      "327it [1:02:32, 12.47s/it]util.save_variable, save variable to:  D:/Brain_Network/Output/jitter/coupling_filter/CD_DE_condition19_joint_fit_fixed_portion_11122021_multi_reg/univariate_filtertype2_951103238_951112416.pkl\n",
      "util.save_variable, save variable to:  D:/Brain_Network/Output/jitter/coupling_filter/CD_DE_condition19_joint_fit_fixed_portion_11122021_multi_reg/multivariate_filtertype2_951103238_951112416.pkl\n",
      "328it [1:02:43, 11.89s/it]util.save_variable, save variable to:  D:/Brain_Network/Output/jitter/coupling_filter/CD_DE_condition19_joint_fit_fixed_portion_11122021_multi_reg/univariate_filtertype2_951103238_951112479.pkl\n",
      "util.save_variable, save variable to:  D:/Brain_Network/Output/jitter/coupling_filter/CD_DE_condition19_joint_fit_fixed_portion_11122021_multi_reg/multivariate_filtertype2_951103238_951112479.pkl\n",
      "329it [1:02:54, 11.54s/it]util.save_variable, save variable to:  D:/Brain_Network/Output/jitter/coupling_filter/CD_DE_condition19_joint_fit_fixed_portion_11122021_multi_reg/univariate_filtertype2_951103238_951112638.pkl\n",
      "util.save_variable, save variable to:  D:/Brain_Network/Output/jitter/coupling_filter/CD_DE_condition19_joint_fit_fixed_portion_11122021_multi_reg/multivariate_filtertype2_951103238_951112638.pkl\n",
      "330it [1:03:08, 12.36s/it]util.save_variable, save variable to:  D:/Brain_Network/Output/jitter/coupling_filter/CD_DE_condition19_joint_fit_fixed_portion_11122021_multi_reg/univariate_filtertype2_951103238_951112590.pkl\n",
      "util.save_variable, save variable to:  D:/Brain_Network/Output/jitter/coupling_filter/CD_DE_condition19_joint_fit_fixed_portion_11122021_multi_reg/multivariate_filtertype2_951103238_951112590.pkl\n",
      "331it [1:03:22, 12.76s/it]util.save_variable, save variable to:  D:/Brain_Network/Output/jitter/coupling_filter/CD_DE_condition19_joint_fit_fixed_portion_11122021_multi_reg/univariate_filtertype2_951103238_951112712.pkl\n",
      "util.save_variable, save variable to:  D:/Brain_Network/Output/jitter/coupling_filter/CD_DE_condition19_joint_fit_fixed_portion_11122021_multi_reg/multivariate_filtertype2_951103238_951112712.pkl\n",
      "332it [1:03:43, 15.39s/it]"
     ]
    },
    {
     "name": "stderr",
     "output_type": "stream",
     "text": [
      "D:/Brain_Network/Code\\jitter.py:4063: RuntimeWarning: invalid value encountered in matmul\n",
      "  lmbd = X @ (beta + beta_offset) + offset\n",
      "D:/Brain_Network/Code\\jitter.py:4065: RuntimeWarning: invalid value encountered in matmul\n",
      "  lmbd_integral = basis_integral.T @ (beta + beta_offset) + offset_integral\n",
      "D:/Brain_Network/Code\\jitter.py:4090: RuntimeWarning: invalid value encountered in subtract\n",
      "  beta_err = np.sum(np.abs(beta_old - beta))\n"
     ]
    },
    {
     "name": "stdout",
     "output_type": "stream",
     "text": [
      "util.save_variable, save variable to:  D:/Brain_Network/Output/jitter/coupling_filter/CD_DE_condition19_joint_fit_fixed_portion_11122021_multi_reg/univariate_filtertype2_951103238_951112786.pkl\n",
      "util.save_variable, save variable to:  D:/Brain_Network/Output/jitter/coupling_filter/CD_DE_condition19_joint_fit_fixed_portion_11122021_multi_reg/multivariate_filtertype2_951103238_951112786.pkl\n",
      "333it [1:03:53, 13.85s/it]util.save_variable, save variable to:  D:/Brain_Network/Output/jitter/coupling_filter/CD_DE_condition19_joint_fit_fixed_portion_11122021_multi_reg/univariate_filtertype2_951103238_951112780.pkl\n",
      "util.save_variable, save variable to:  D:/Brain_Network/Output/jitter/coupling_filter/CD_DE_condition19_joint_fit_fixed_portion_11122021_multi_reg/multivariate_filtertype2_951103238_951112780.pkl\n",
      "334it [1:04:01, 12.06s/it]util.save_variable, save variable to:  D:/Brain_Network/Output/jitter/coupling_filter/CD_DE_condition19_joint_fit_fixed_portion_11122021_multi_reg/univariate_filtertype2_951103238_951112768.pkl\n",
      "util.save_variable, save variable to:  D:/Brain_Network/Output/jitter/coupling_filter/CD_DE_condition19_joint_fit_fixed_portion_11122021_multi_reg/multivariate_filtertype2_951103238_951112768.pkl\n",
      "335it [1:04:19, 13.78s/it]"
     ]
    },
    {
     "name": "stderr",
     "output_type": "stream",
     "text": [
      "D:/Brain_Network/Code\\jitter.py:4063: RuntimeWarning: invalid value encountered in matmul\n",
      "  lmbd = X @ (beta + beta_offset) + offset\n",
      "D:/Brain_Network/Code\\jitter.py:4065: RuntimeWarning: invalid value encountered in matmul\n",
      "  lmbd_integral = basis_integral.T @ (beta + beta_offset) + offset_integral\n",
      "D:/Brain_Network/Code\\jitter.py:4090: RuntimeWarning: invalid value encountered in subtract\n",
      "  beta_err = np.sum(np.abs(beta_old - beta))\n"
     ]
    },
    {
     "name": "stdout",
     "output_type": "stream",
     "text": [
      "util.save_variable, save variable to:  D:/Brain_Network/Output/jitter/coupling_filter/CD_DE_condition19_joint_fit_fixed_portion_11122021_multi_reg/univariate_filtertype2_951103238_951112845.pkl\n",
      "util.save_variable, save variable to:  D:/Brain_Network/Output/jitter/coupling_filter/CD_DE_condition19_joint_fit_fixed_portion_11122021_multi_reg/multivariate_filtertype2_951103238_951112845.pkl\n",
      "336it [1:04:27, 12.11s/it]"
     ]
    },
    {
     "name": "stderr",
     "output_type": "stream",
     "text": [
      "D:/Brain_Network/Code\\jitter.py:4063: RuntimeWarning: invalid value encountered in matmul\n",
      "  lmbd = X @ (beta + beta_offset) + offset\n",
      "D:/Brain_Network/Code\\jitter.py:4065: RuntimeWarning: invalid value encountered in matmul\n",
      "  lmbd_integral = basis_integral.T @ (beta + beta_offset) + offset_integral\n",
      "D:/Brain_Network/Code\\jitter.py:4090: RuntimeWarning: invalid value encountered in subtract\n",
      "  beta_err = np.sum(np.abs(beta_old - beta))\n"
     ]
    },
    {
     "name": "stdout",
     "output_type": "stream",
     "text": [
      "util.save_variable, save variable to:  D:/Brain_Network/Output/jitter/coupling_filter/CD_DE_condition19_joint_fit_fixed_portion_11122021_multi_reg/univariate_filtertype2_951103238_951112906.pkl\n",
      "util.save_variable, save variable to:  D:/Brain_Network/Output/jitter/coupling_filter/CD_DE_condition19_joint_fit_fixed_portion_11122021_multi_reg/multivariate_filtertype2_951103238_951112906.pkl\n",
      "337it [1:04:37, 11.48s/it]util.save_variable, save variable to:  D:/Brain_Network/Output/jitter/coupling_filter/CD_DE_condition19_joint_fit_fixed_portion_11122021_multi_reg/univariate_filtertype2_951103238_951112937.pkl\n",
      "util.save_variable, save variable to:  D:/Brain_Network/Output/jitter/coupling_filter/CD_DE_condition19_joint_fit_fixed_portion_11122021_multi_reg/multivariate_filtertype2_951103238_951112937.pkl\n",
      "338it [1:04:49, 11.48s/it]util.save_variable, save variable to:  D:/Brain_Network/Output/jitter/coupling_filter/CD_DE_condition19_joint_fit_fixed_portion_11122021_multi_reg/univariate_filtertype2_951103238_951112992.pkl\n",
      "util.save_variable, save variable to:  D:/Brain_Network/Output/jitter/coupling_filter/CD_DE_condition19_joint_fit_fixed_portion_11122021_multi_reg/multivariate_filtertype2_951103238_951112992.pkl\n",
      "339it [1:05:06, 13.10s/it]util.save_variable, save variable to:  D:/Brain_Network/Output/jitter/coupling_filter/CD_DE_condition19_joint_fit_fixed_portion_11122021_multi_reg/univariate_filtertype2_951103238_951113075.pkl\n",
      "util.save_variable, save variable to:  D:/Brain_Network/Output/jitter/coupling_filter/CD_DE_condition19_joint_fit_fixed_portion_11122021_multi_reg/multivariate_filtertype2_951103238_951113075.pkl\n",
      "340it [1:05:16, 12.20s/it]"
     ]
    },
    {
     "name": "stderr",
     "output_type": "stream",
     "text": [
      "D:/Brain_Network/Code\\jitter.py:4063: RuntimeWarning: invalid value encountered in matmul\n",
      "  lmbd = X @ (beta + beta_offset) + offset\n",
      "D:/Brain_Network/Code\\jitter.py:4065: RuntimeWarning: invalid value encountered in matmul\n",
      "  lmbd_integral = basis_integral.T @ (beta + beta_offset) + offset_integral\n",
      "D:/Brain_Network/Code\\jitter.py:4090: RuntimeWarning: invalid value encountered in subtract\n",
      "  beta_err = np.sum(np.abs(beta_old - beta))\n"
     ]
    },
    {
     "name": "stdout",
     "output_type": "stream",
     "text": [
      "util.save_variable, save variable to:  D:/Brain_Network/Output/jitter/coupling_filter/CD_DE_condition19_joint_fit_fixed_portion_11122021_multi_reg/univariate_filtertype2_951103238_951113056.pkl\n",
      "util.save_variable, save variable to:  D:/Brain_Network/Output/jitter/coupling_filter/CD_DE_condition19_joint_fit_fixed_portion_11122021_multi_reg/multivariate_filtertype2_951103238_951113056.pkl\n",
      "341it [1:05:24, 11.00s/it]util.save_variable, save variable to:  D:/Brain_Network/Output/jitter/coupling_filter/CD_DE_condition19_joint_fit_fixed_portion_11122021_multi_reg/univariate_filtertype2_951103238_951113039.pkl\n",
      "util.save_variable, save variable to:  D:/Brain_Network/Output/jitter/coupling_filter/CD_DE_condition19_joint_fit_fixed_portion_11122021_multi_reg/multivariate_filtertype2_951103238_951113039.pkl\n",
      "342it [1:05:41, 12.71s/it]"
     ]
    },
    {
     "name": "stderr",
     "output_type": "stream",
     "text": [
      "D:/Brain_Network/Code\\jitter.py:4063: RuntimeWarning: invalid value encountered in matmul\n",
      "  lmbd = X @ (beta + beta_offset) + offset\n",
      "D:/Brain_Network/Code\\jitter.py:4065: RuntimeWarning: invalid value encountered in matmul\n",
      "  lmbd_integral = basis_integral.T @ (beta + beta_offset) + offset_integral\n",
      "D:/Brain_Network/Code\\jitter.py:4090: RuntimeWarning: invalid value encountered in subtract\n",
      "  beta_err = np.sum(np.abs(beta_old - beta))\n"
     ]
    },
    {
     "name": "stdout",
     "output_type": "stream",
     "text": [
      "util.save_variable, save variable to:  D:/Brain_Network/Output/jitter/coupling_filter/CD_DE_condition19_joint_fit_fixed_portion_11122021_multi_reg/univariate_filtertype2_951103238_951113191.pkl\n",
      "util.save_variable, save variable to:  D:/Brain_Network/Output/jitter/coupling_filter/CD_DE_condition19_joint_fit_fixed_portion_11122021_multi_reg/multivariate_filtertype2_951103238_951113191.pkl\n",
      "343it [1:05:51, 11.90s/it]util.save_variable, save variable to:  D:/Brain_Network/Output/jitter/coupling_filter/CD_DE_condition19_joint_fit_fixed_portion_11122021_multi_reg/univariate_filtertype2_951103238_951113175.pkl\n",
      "util.save_variable, save variable to:  D:/Brain_Network/Output/jitter/coupling_filter/CD_DE_condition19_joint_fit_fixed_portion_11122021_multi_reg/multivariate_filtertype2_951103238_951113175.pkl\n",
      "344it [1:06:02, 11.86s/it]util.save_variable, save variable to:  D:/Brain_Network/Output/jitter/coupling_filter/CD_DE_condition19_joint_fit_fixed_portion_11122021_multi_reg/univariate_filtertype2_951103238_951113141.pkl\n",
      "util.save_variable, save variable to:  D:/Brain_Network/Output/jitter/coupling_filter/CD_DE_condition19_joint_fit_fixed_portion_11122021_multi_reg/multivariate_filtertype2_951103238_951113141.pkl\n",
      "345it [1:06:14, 11.91s/it]util.save_variable, save variable to:  D:/Brain_Network/Output/jitter/coupling_filter/CD_DE_condition19_joint_fit_fixed_portion_11122021_multi_reg/univariate_filtertype2_951103238_951113271.pkl\n",
      "util.save_variable, save variable to:  D:/Brain_Network/Output/jitter/coupling_filter/CD_DE_condition19_joint_fit_fixed_portion_11122021_multi_reg/multivariate_filtertype2_951103238_951113271.pkl\n",
      "346it [1:06:39, 15.80s/it]util.save_variable, save variable to:  D:/Brain_Network/Output/jitter/coupling_filter/CD_DE_condition19_joint_fit_fixed_portion_11122021_multi_reg/univariate_filtertype2_951103238_951113211.pkl\n",
      "util.save_variable, save variable to:  D:/Brain_Network/Output/jitter/coupling_filter/CD_DE_condition19_joint_fit_fixed_portion_11122021_multi_reg/multivariate_filtertype2_951103238_951113211.pkl\n",
      "347it [1:06:52, 14.78s/it]util.save_variable, save variable to:  D:/Brain_Network/Output/jitter/coupling_filter/CD_DE_condition19_joint_fit_fixed_portion_11122021_multi_reg/univariate_filtertype2_951103238_951113240.pkl\n",
      "util.save_variable, save variable to:  D:/Brain_Network/Output/jitter/coupling_filter/CD_DE_condition19_joint_fit_fixed_portion_11122021_multi_reg/multivariate_filtertype2_951103238_951113240.pkl\n",
      "348it [1:07:01, 13.06s/it]util.save_variable, save variable to:  D:/Brain_Network/Output/jitter/coupling_filter/CD_DE_condition19_joint_fit_fixed_portion_11122021_multi_reg/univariate_filtertype2_951103238_951113464.pkl\n",
      "util.save_variable, save variable to:  D:/Brain_Network/Output/jitter/coupling_filter/CD_DE_condition19_joint_fit_fixed_portion_11122021_multi_reg/multivariate_filtertype2_951103238_951113464.pkl\n",
      "349it [1:07:17, 13.86s/it]"
     ]
    },
    {
     "name": "stderr",
     "output_type": "stream",
     "text": [
      "D:/Brain_Network/Code\\jitter.py:4063: RuntimeWarning: invalid value encountered in matmul\n",
      "  lmbd = X @ (beta + beta_offset) + offset\n",
      "D:/Brain_Network/Code\\jitter.py:4065: RuntimeWarning: invalid value encountered in matmul\n",
      "  lmbd_integral = basis_integral.T @ (beta + beta_offset) + offset_integral\n",
      "D:/Brain_Network/Code\\jitter.py:4090: RuntimeWarning: invalid value encountered in subtract\n",
      "  beta_err = np.sum(np.abs(beta_old - beta))\n"
     ]
    },
    {
     "name": "stdout",
     "output_type": "stream",
     "text": [
      "util.save_variable, save variable to:  D:/Brain_Network/Output/jitter/coupling_filter/CD_DE_condition19_joint_fit_fixed_portion_11122021_multi_reg/univariate_filtertype2_951103238_951113514.pkl\n",
      "util.save_variable, save variable to:  D:/Brain_Network/Output/jitter/coupling_filter/CD_DE_condition19_joint_fit_fixed_portion_11122021_multi_reg/multivariate_filtertype2_951103238_951113514.pkl\n",
      "350it [1:07:29, 13.49s/it]util.save_variable, save variable to:  D:/Brain_Network/Output/jitter/coupling_filter/CD_DE_condition19_joint_fit_fixed_portion_11122021_multi_reg/univariate_filtertype2_951103238_951113717.pkl\n",
      "util.save_variable, save variable to:  D:/Brain_Network/Output/jitter/coupling_filter/CD_DE_condition19_joint_fit_fixed_portion_11122021_multi_reg/multivariate_filtertype2_951103238_951113717.pkl\n",
      "351it [1:07:40, 12.56s/it]"
     ]
    },
    {
     "name": "stderr",
     "output_type": "stream",
     "text": [
      "D:/Brain_Network/Code\\jitter.py:4063: RuntimeWarning: invalid value encountered in matmul\n",
      "  lmbd = X @ (beta + beta_offset) + offset\n",
      "D:/Brain_Network/Code\\jitter.py:4065: RuntimeWarning: invalid value encountered in matmul\n",
      "  lmbd_integral = basis_integral.T @ (beta + beta_offset) + offset_integral\n",
      "D:/Brain_Network/Code\\jitter.py:4090: RuntimeWarning: invalid value encountered in subtract\n",
      "  beta_err = np.sum(np.abs(beta_old - beta))\n"
     ]
    },
    {
     "name": "stdout",
     "output_type": "stream",
     "text": [
      "util.save_variable, save variable to:  D:/Brain_Network/Output/jitter/coupling_filter/CD_DE_condition19_joint_fit_fixed_portion_11122021_multi_reg/univariate_filtertype2_951103332_951112464.pkl\n",
      "util.save_variable, save variable to:  D:/Brain_Network/Output/jitter/coupling_filter/CD_DE_condition19_joint_fit_fixed_portion_11122021_multi_reg/multivariate_filtertype2_951103332_951112464.pkl\n",
      "352it [1:07:51, 12.33s/it]"
     ]
    },
    {
     "name": "stderr",
     "output_type": "stream",
     "text": [
      "D:/Brain_Network/Code\\jitter.py:4063: RuntimeWarning: invalid value encountered in matmul\n",
      "  lmbd = X @ (beta + beta_offset) + offset\n",
      "D:/Brain_Network/Code\\jitter.py:4065: RuntimeWarning: invalid value encountered in matmul\n",
      "  lmbd_integral = basis_integral.T @ (beta + beta_offset) + offset_integral\n",
      "D:/Brain_Network/Code\\jitter.py:4090: RuntimeWarning: invalid value encountered in subtract\n",
      "  beta_err = np.sum(np.abs(beta_old - beta))\n"
     ]
    },
    {
     "name": "stdout",
     "output_type": "stream",
     "text": [
      "util.save_variable, save variable to:  D:/Brain_Network/Output/jitter/coupling_filter/CD_DE_condition19_joint_fit_fixed_portion_11122021_multi_reg/univariate_filtertype2_951103332_951112448.pkl\n",
      "util.save_variable, save variable to:  D:/Brain_Network/Output/jitter/coupling_filter/CD_DE_condition19_joint_fit_fixed_portion_11122021_multi_reg/multivariate_filtertype2_951103332_951112448.pkl\n",
      "353it [1:08:03, 12.17s/it]"
     ]
    },
    {
     "name": "stderr",
     "output_type": "stream",
     "text": [
      "D:/Brain_Network/Code\\jitter.py:4063: RuntimeWarning: invalid value encountered in matmul\n",
      "  lmbd = X @ (beta + beta_offset) + offset\n",
      "D:/Brain_Network/Code\\jitter.py:4065: RuntimeWarning: invalid value encountered in matmul\n",
      "  lmbd_integral = basis_integral.T @ (beta + beta_offset) + offset_integral\n",
      "D:/Brain_Network/Code\\jitter.py:4090: RuntimeWarning: invalid value encountered in subtract\n",
      "  beta_err = np.sum(np.abs(beta_old - beta))\n"
     ]
    },
    {
     "name": "stdout",
     "output_type": "stream",
     "text": [
      "util.save_variable, save variable to:  D:/Brain_Network/Output/jitter/coupling_filter/CD_DE_condition19_joint_fit_fixed_portion_11122021_multi_reg/univariate_filtertype2_951103332_951112431.pkl\n",
      "util.save_variable, save variable to:  D:/Brain_Network/Output/jitter/coupling_filter/CD_DE_condition19_joint_fit_fixed_portion_11122021_multi_reg/multivariate_filtertype2_951103332_951112431.pkl\n",
      "354it [1:08:13, 11.56s/it]"
     ]
    },
    {
     "name": "stderr",
     "output_type": "stream",
     "text": [
      "D:/Brain_Network/Code\\jitter.py:4063: RuntimeWarning: invalid value encountered in matmul\n",
      "  lmbd = X @ (beta + beta_offset) + offset\n",
      "D:/Brain_Network/Code\\jitter.py:4065: RuntimeWarning: invalid value encountered in matmul\n",
      "  lmbd_integral = basis_integral.T @ (beta + beta_offset) + offset_integral\n",
      "D:/Brain_Network/Code\\jitter.py:4090: RuntimeWarning: invalid value encountered in subtract\n",
      "  beta_err = np.sum(np.abs(beta_old - beta))\n"
     ]
    },
    {
     "name": "stdout",
     "output_type": "stream",
     "text": [
      "util.save_variable, save variable to:  D:/Brain_Network/Output/jitter/coupling_filter/CD_DE_condition19_joint_fit_fixed_portion_11122021_multi_reg/univariate_filtertype2_951103332_951112416.pkl\n",
      "util.save_variable, save variable to:  D:/Brain_Network/Output/jitter/coupling_filter/CD_DE_condition19_joint_fit_fixed_portion_11122021_multi_reg/multivariate_filtertype2_951103332_951112416.pkl\n",
      "355it [1:08:24, 11.33s/it]util.save_variable, save variable to:  D:/Brain_Network/Output/jitter/coupling_filter/CD_DE_condition19_joint_fit_fixed_portion_11122021_multi_reg/univariate_filtertype2_951103332_951112479.pkl\n",
      "util.save_variable, save variable to:  D:/Brain_Network/Output/jitter/coupling_filter/CD_DE_condition19_joint_fit_fixed_portion_11122021_multi_reg/multivariate_filtertype2_951103332_951112479.pkl\n",
      "356it [1:08:34, 10.96s/it]"
     ]
    },
    {
     "name": "stderr",
     "output_type": "stream",
     "text": [
      "D:/Brain_Network/Code\\jitter.py:4063: RuntimeWarning: invalid value encountered in matmul\n",
      "  lmbd = X @ (beta + beta_offset) + offset\n",
      "D:/Brain_Network/Code\\jitter.py:4065: RuntimeWarning: invalid value encountered in matmul\n",
      "  lmbd_integral = basis_integral.T @ (beta + beta_offset) + offset_integral\n",
      "D:/Brain_Network/Code\\jitter.py:4090: RuntimeWarning: invalid value encountered in subtract\n",
      "  beta_err = np.sum(np.abs(beta_old - beta))\n"
     ]
    },
    {
     "name": "stdout",
     "output_type": "stream",
     "text": [
      "util.save_variable, save variable to:  D:/Brain_Network/Output/jitter/coupling_filter/CD_DE_condition19_joint_fit_fixed_portion_11122021_multi_reg/univariate_filtertype2_951103332_951112638.pkl\n",
      "util.save_variable, save variable to:  D:/Brain_Network/Output/jitter/coupling_filter/CD_DE_condition19_joint_fit_fixed_portion_11122021_multi_reg/multivariate_filtertype2_951103332_951112638.pkl\n",
      "357it [1:08:46, 11.18s/it]"
     ]
    },
    {
     "name": "stderr",
     "output_type": "stream",
     "text": [
      "D:/Brain_Network/Code\\jitter.py:4063: RuntimeWarning: invalid value encountered in matmul\n",
      "  lmbd = X @ (beta + beta_offset) + offset\n",
      "D:/Brain_Network/Code\\jitter.py:4065: RuntimeWarning: invalid value encountered in matmul\n",
      "  lmbd_integral = basis_integral.T @ (beta + beta_offset) + offset_integral\n",
      "D:/Brain_Network/Code\\jitter.py:4090: RuntimeWarning: invalid value encountered in subtract\n",
      "  beta_err = np.sum(np.abs(beta_old - beta))\n"
     ]
    },
    {
     "name": "stdout",
     "output_type": "stream",
     "text": [
      "util.save_variable, save variable to:  D:/Brain_Network/Output/jitter/coupling_filter/CD_DE_condition19_joint_fit_fixed_portion_11122021_multi_reg/univariate_filtertype2_951103332_951112590.pkl\n",
      "util.save_variable, save variable to:  D:/Brain_Network/Output/jitter/coupling_filter/CD_DE_condition19_joint_fit_fixed_portion_11122021_multi_reg/multivariate_filtertype2_951103332_951112590.pkl\n",
      "358it [1:08:59, 11.87s/it]util.save_variable, save variable to:  D:/Brain_Network/Output/jitter/coupling_filter/CD_DE_condition19_joint_fit_fixed_portion_11122021_multi_reg/univariate_filtertype2_951103332_951112712.pkl\n",
      "util.save_variable, save variable to:  D:/Brain_Network/Output/jitter/coupling_filter/CD_DE_condition19_joint_fit_fixed_portion_11122021_multi_reg/multivariate_filtertype2_951103332_951112712.pkl\n",
      "359it [1:09:17, 13.63s/it]"
     ]
    },
    {
     "name": "stderr",
     "output_type": "stream",
     "text": [
      "D:/Brain_Network/Code\\jitter.py:4063: RuntimeWarning: invalid value encountered in matmul\n",
      "  lmbd = X @ (beta + beta_offset) + offset\n",
      "D:/Brain_Network/Code\\jitter.py:4065: RuntimeWarning: invalid value encountered in matmul\n",
      "  lmbd_integral = basis_integral.T @ (beta + beta_offset) + offset_integral\n",
      "D:/Brain_Network/Code\\jitter.py:4090: RuntimeWarning: invalid value encountered in subtract\n",
      "  beta_err = np.sum(np.abs(beta_old - beta))\n"
     ]
    },
    {
     "name": "stdout",
     "output_type": "stream",
     "text": [
      "util.save_variable, save variable to:  D:/Brain_Network/Output/jitter/coupling_filter/CD_DE_condition19_joint_fit_fixed_portion_11122021_multi_reg/univariate_filtertype2_951103332_951112786.pkl\n",
      "util.save_variable, save variable to:  D:/Brain_Network/Output/jitter/coupling_filter/CD_DE_condition19_joint_fit_fixed_portion_11122021_multi_reg/multivariate_filtertype2_951103332_951112786.pkl\n",
      "360it [1:09:26, 12.26s/it]"
     ]
    },
    {
     "name": "stderr",
     "output_type": "stream",
     "text": [
      "D:/Brain_Network/Code\\jitter.py:4063: RuntimeWarning: invalid value encountered in matmul\n",
      "  lmbd = X @ (beta + beta_offset) + offset\n",
      "D:/Brain_Network/Code\\jitter.py:4065: RuntimeWarning: invalid value encountered in matmul\n",
      "  lmbd_integral = basis_integral.T @ (beta + beta_offset) + offset_integral\n",
      "D:/Brain_Network/Code\\jitter.py:4090: RuntimeWarning: invalid value encountered in subtract\n",
      "  beta_err = np.sum(np.abs(beta_old - beta))\n"
     ]
    },
    {
     "name": "stdout",
     "output_type": "stream",
     "text": [
      "util.save_variable, save variable to:  D:/Brain_Network/Output/jitter/coupling_filter/CD_DE_condition19_joint_fit_fixed_portion_11122021_multi_reg/univariate_filtertype2_951103332_951112780.pkl\n",
      "util.save_variable, save variable to:  D:/Brain_Network/Output/jitter/coupling_filter/CD_DE_condition19_joint_fit_fixed_portion_11122021_multi_reg/multivariate_filtertype2_951103332_951112780.pkl\n",
      "361it [1:09:32, 10.36s/it]"
     ]
    },
    {
     "name": "stderr",
     "output_type": "stream",
     "text": [
      "D:/Brain_Network/Code\\jitter.py:8323: UserWarning: Reach max itrs 500. Last err:6.325e+14\n",
      "  warnings.warn(f'Reach max itrs {max_num_itrs}. Last err:{beta_err:.3e}')\n"
     ]
    },
    {
     "name": "stdout",
     "output_type": "stream",
     "text": [
      "util.save_variable, save variable to:  D:/Brain_Network/Output/jitter/coupling_filter/CD_DE_condition19_joint_fit_fixed_portion_11122021_multi_reg/univariate_filtertype2_951103332_951112768.pkl\n",
      "util.save_variable, save variable to:  D:/Brain_Network/Output/jitter/coupling_filter/CD_DE_condition19_joint_fit_fixed_portion_11122021_multi_reg/multivariate_filtertype2_951103332_951112768.pkl\n",
      "362it [1:09:46, 11.47s/it]"
     ]
    },
    {
     "name": "stderr",
     "output_type": "stream",
     "text": [
      "D:/Brain_Network/Code\\jitter.py:4063: RuntimeWarning: invalid value encountered in matmul\n",
      "  lmbd = X @ (beta + beta_offset) + offset\n",
      "D:/Brain_Network/Code\\jitter.py:4065: RuntimeWarning: invalid value encountered in matmul\n",
      "  lmbd_integral = basis_integral.T @ (beta + beta_offset) + offset_integral\n",
      "D:/Brain_Network/Code\\jitter.py:4090: RuntimeWarning: invalid value encountered in subtract\n",
      "  beta_err = np.sum(np.abs(beta_old - beta))\n"
     ]
    },
    {
     "name": "stdout",
     "output_type": "stream",
     "text": [
      "util.save_variable, save variable to:  D:/Brain_Network/Output/jitter/coupling_filter/CD_DE_condition19_joint_fit_fixed_portion_11122021_multi_reg/univariate_filtertype2_951103332_951112845.pkl\n",
      "util.save_variable, save variable to:  D:/Brain_Network/Output/jitter/coupling_filter/CD_DE_condition19_joint_fit_fixed_portion_11122021_multi_reg/multivariate_filtertype2_951103332_951112845.pkl\n",
      "363it [1:09:54, 10.51s/it]"
     ]
    },
    {
     "name": "stderr",
     "output_type": "stream",
     "text": [
      "D:/Brain_Network/Code\\jitter.py:8323: UserWarning: Reach max itrs 500. Last err:1.831e-04\n",
      "  warnings.warn(f'Reach max itrs {max_num_itrs}. Last err:{beta_err:.3e}')\n",
      "D:/Brain_Network/Code\\jitter.py:4063: RuntimeWarning: invalid value encountered in matmul\n",
      "  lmbd = X @ (beta + beta_offset) + offset\n",
      "D:/Brain_Network/Code\\jitter.py:4065: RuntimeWarning: invalid value encountered in matmul\n",
      "  lmbd_integral = basis_integral.T @ (beta + beta_offset) + offset_integral\n",
      "D:/Brain_Network/Code\\jitter.py:4090: RuntimeWarning: invalid value encountered in subtract\n",
      "  beta_err = np.sum(np.abs(beta_old - beta))\n"
     ]
    },
    {
     "name": "stdout",
     "output_type": "stream",
     "text": [
      "util.save_variable, save variable to:  D:/Brain_Network/Output/jitter/coupling_filter/CD_DE_condition19_joint_fit_fixed_portion_11122021_multi_reg/univariate_filtertype2_951103332_951112906.pkl\n",
      "util.save_variable, save variable to:  D:/Brain_Network/Output/jitter/coupling_filter/CD_DE_condition19_joint_fit_fixed_portion_11122021_multi_reg/multivariate_filtertype2_951103332_951112906.pkl\n",
      "364it [1:10:03, 10.06s/it]"
     ]
    },
    {
     "name": "stderr",
     "output_type": "stream",
     "text": [
      "D:/Brain_Network/Code\\jitter.py:4063: RuntimeWarning: invalid value encountered in matmul\n",
      "  lmbd = X @ (beta + beta_offset) + offset\n",
      "D:/Brain_Network/Code\\jitter.py:4065: RuntimeWarning: invalid value encountered in matmul\n",
      "  lmbd_integral = basis_integral.T @ (beta + beta_offset) + offset_integral\n",
      "D:/Brain_Network/Code\\jitter.py:4090: RuntimeWarning: invalid value encountered in subtract\n",
      "  beta_err = np.sum(np.abs(beta_old - beta))\n"
     ]
    },
    {
     "name": "stdout",
     "output_type": "stream",
     "text": [
      "util.save_variable, save variable to:  D:/Brain_Network/Output/jitter/coupling_filter/CD_DE_condition19_joint_fit_fixed_portion_11122021_multi_reg/univariate_filtertype2_951103332_951112937.pkl\n",
      "util.save_variable, save variable to:  D:/Brain_Network/Output/jitter/coupling_filter/CD_DE_condition19_joint_fit_fixed_portion_11122021_multi_reg/multivariate_filtertype2_951103332_951112937.pkl\n",
      "365it [1:10:13,  9.90s/it]util.save_variable, save variable to:  D:/Brain_Network/Output/jitter/coupling_filter/CD_DE_condition19_joint_fit_fixed_portion_11122021_multi_reg/univariate_filtertype2_951103332_951112992.pkl\n",
      "util.save_variable, save variable to:  D:/Brain_Network/Output/jitter/coupling_filter/CD_DE_condition19_joint_fit_fixed_portion_11122021_multi_reg/multivariate_filtertype2_951103332_951112992.pkl\n",
      "366it [1:10:28, 11.42s/it]"
     ]
    },
    {
     "name": "stderr",
     "output_type": "stream",
     "text": [
      "D:/Brain_Network/Code\\jitter.py:3298: RuntimeWarning: invalid value encountered in add\n",
      "  nll = -np.sum(np.log(lmbd_samples)) + lmbd_integral\n",
      "D:/Brain_Network/Code\\jitter.py:4090: RuntimeWarning: invalid value encountered in subtract\n",
      "  beta_err = np.sum(np.abs(beta_old - beta))\n"
     ]
    },
    {
     "name": "stdout",
     "output_type": "stream",
     "text": [
      "util.save_variable, save variable to:  D:/Brain_Network/Output/jitter/coupling_filter/CD_DE_condition19_joint_fit_fixed_portion_11122021_multi_reg/univariate_filtertype2_951103332_951113075.pkl\n",
      "util.save_variable, save variable to:  D:/Brain_Network/Output/jitter/coupling_filter/CD_DE_condition19_joint_fit_fixed_portion_11122021_multi_reg/multivariate_filtertype2_951103332_951113075.pkl\n",
      "367it [1:10:37, 10.85s/it]"
     ]
    },
    {
     "name": "stderr",
     "output_type": "stream",
     "text": [
      "D:/Brain_Network/Code\\jitter.py:4063: RuntimeWarning: invalid value encountered in matmul\n",
      "  lmbd = X @ (beta + beta_offset) + offset\n",
      "D:/Brain_Network/Code\\jitter.py:4065: RuntimeWarning: invalid value encountered in matmul\n",
      "  lmbd_integral = basis_integral.T @ (beta + beta_offset) + offset_integral\n",
      "D:/Brain_Network/Code\\jitter.py:4090: RuntimeWarning: invalid value encountered in subtract\n",
      "  beta_err = np.sum(np.abs(beta_old - beta))\n"
     ]
    },
    {
     "name": "stdout",
     "output_type": "stream",
     "text": [
      "util.save_variable, save variable to:  D:/Brain_Network/Output/jitter/coupling_filter/CD_DE_condition19_joint_fit_fixed_portion_11122021_multi_reg/univariate_filtertype2_951103332_951113056.pkl\n",
      "util.save_variable, save variable to:  D:/Brain_Network/Output/jitter/coupling_filter/CD_DE_condition19_joint_fit_fixed_portion_11122021_multi_reg/multivariate_filtertype2_951103332_951113056.pkl\n",
      "368it [1:10:46, 10.11s/it]"
     ]
    },
    {
     "name": "stderr",
     "output_type": "stream",
     "text": [
      "D:/Brain_Network/Code\\jitter.py:4063: RuntimeWarning: invalid value encountered in matmul\n",
      "  lmbd = X @ (beta + beta_offset) + offset\n",
      "D:/Brain_Network/Code\\jitter.py:4065: RuntimeWarning: invalid value encountered in matmul\n",
      "  lmbd_integral = basis_integral.T @ (beta + beta_offset) + offset_integral\n",
      "D:/Brain_Network/Code\\jitter.py:4090: RuntimeWarning: invalid value encountered in subtract\n",
      "  beta_err = np.sum(np.abs(beta_old - beta))\n"
     ]
    },
    {
     "name": "stdout",
     "output_type": "stream",
     "text": [
      "util.save_variable, save variable to:  D:/Brain_Network/Output/jitter/coupling_filter/CD_DE_condition19_joint_fit_fixed_portion_11122021_multi_reg/univariate_filtertype2_951103332_951113039.pkl\n",
      "util.save_variable, save variable to:  D:/Brain_Network/Output/jitter/coupling_filter/CD_DE_condition19_joint_fit_fixed_portion_11122021_multi_reg/multivariate_filtertype2_951103332_951113039.pkl\n",
      "369it [1:11:01, 11.51s/it]"
     ]
    },
    {
     "name": "stderr",
     "output_type": "stream",
     "text": [
      "D:/Brain_Network/Code\\jitter.py:4063: RuntimeWarning: invalid value encountered in matmul\n",
      "  lmbd = X @ (beta + beta_offset) + offset\n",
      "D:/Brain_Network/Code\\jitter.py:4065: RuntimeWarning: invalid value encountered in matmul\n",
      "  lmbd_integral = basis_integral.T @ (beta + beta_offset) + offset_integral\n",
      "D:/Brain_Network/Code\\jitter.py:4090: RuntimeWarning: invalid value encountered in subtract\n",
      "  beta_err = np.sum(np.abs(beta_old - beta))\n"
     ]
    },
    {
     "name": "stdout",
     "output_type": "stream",
     "text": [
      "util.save_variable, save variable to:  D:/Brain_Network/Output/jitter/coupling_filter/CD_DE_condition19_joint_fit_fixed_portion_11122021_multi_reg/univariate_filtertype2_951103332_951113191.pkl\n",
      "util.save_variable, save variable to:  D:/Brain_Network/Output/jitter/coupling_filter/CD_DE_condition19_joint_fit_fixed_portion_11122021_multi_reg/multivariate_filtertype2_951103332_951113191.pkl\n",
      "370it [1:11:10, 10.86s/it]util.save_variable, save variable to:  D:/Brain_Network/Output/jitter/coupling_filter/CD_DE_condition19_joint_fit_fixed_portion_11122021_multi_reg/univariate_filtertype2_951103332_951113175.pkl\n",
      "util.save_variable, save variable to:  D:/Brain_Network/Output/jitter/coupling_filter/CD_DE_condition19_joint_fit_fixed_portion_11122021_multi_reg/multivariate_filtertype2_951103332_951113175.pkl\n",
      "371it [1:11:20, 10.74s/it]util.save_variable, save variable to:  D:/Brain_Network/Output/jitter/coupling_filter/CD_DE_condition19_joint_fit_fixed_portion_11122021_multi_reg/univariate_filtertype2_951103332_951113141.pkl\n",
      "util.save_variable, save variable to:  D:/Brain_Network/Output/jitter/coupling_filter/CD_DE_condition19_joint_fit_fixed_portion_11122021_multi_reg/multivariate_filtertype2_951103332_951113141.pkl\n",
      "372it [1:11:31, 10.67s/it]util.save_variable, save variable to:  D:/Brain_Network/Output/jitter/coupling_filter/CD_DE_condition19_joint_fit_fixed_portion_11122021_multi_reg/univariate_filtertype2_951103332_951113271.pkl\n",
      "util.save_variable, save variable to:  D:/Brain_Network/Output/jitter/coupling_filter/CD_DE_condition19_joint_fit_fixed_portion_11122021_multi_reg/multivariate_filtertype2_951103332_951113271.pkl\n",
      "373it [1:11:55, 14.83s/it]util.save_variable, save variable to:  D:/Brain_Network/Output/jitter/coupling_filter/CD_DE_condition19_joint_fit_fixed_portion_11122021_multi_reg/univariate_filtertype2_951103332_951113211.pkl\n",
      "util.save_variable, save variable to:  D:/Brain_Network/Output/jitter/coupling_filter/CD_DE_condition19_joint_fit_fixed_portion_11122021_multi_reg/multivariate_filtertype2_951103332_951113211.pkl\n",
      "374it [1:12:08, 14.24s/it]"
     ]
    },
    {
     "name": "stderr",
     "output_type": "stream",
     "text": [
      "D:/Brain_Network/Code\\jitter.py:4063: RuntimeWarning: invalid value encountered in matmul\n",
      "  lmbd = X @ (beta + beta_offset) + offset\n",
      "D:/Brain_Network/Code\\jitter.py:4065: RuntimeWarning: invalid value encountered in matmul\n",
      "  lmbd_integral = basis_integral.T @ (beta + beta_offset) + offset_integral\n",
      "D:/Brain_Network/Code\\jitter.py:4090: RuntimeWarning: invalid value encountered in subtract\n",
      "  beta_err = np.sum(np.abs(beta_old - beta))\n"
     ]
    },
    {
     "name": "stdout",
     "output_type": "stream",
     "text": [
      "util.save_variable, save variable to:  D:/Brain_Network/Output/jitter/coupling_filter/CD_DE_condition19_joint_fit_fixed_portion_11122021_multi_reg/univariate_filtertype2_951103332_951113240.pkl\n",
      "util.save_variable, save variable to:  D:/Brain_Network/Output/jitter/coupling_filter/CD_DE_condition19_joint_fit_fixed_portion_11122021_multi_reg/multivariate_filtertype2_951103332_951113240.pkl\n",
      "375it [1:12:17, 12.71s/it]util.save_variable, save variable to:  D:/Brain_Network/Output/jitter/coupling_filter/CD_DE_condition19_joint_fit_fixed_portion_11122021_multi_reg/univariate_filtertype2_951103332_951113464.pkl\n",
      "util.save_variable, save variable to:  D:/Brain_Network/Output/jitter/coupling_filter/CD_DE_condition19_joint_fit_fixed_portion_11122021_multi_reg/multivariate_filtertype2_951103332_951113464.pkl\n",
      "376it [1:12:32, 13.36s/it]"
     ]
    },
    {
     "name": "stderr",
     "output_type": "stream",
     "text": [
      "D:/Brain_Network/Code\\jitter.py:4075: RuntimeWarning: overflow encountered in matmul\n",
      "  delta = np.linalg.inv(hessian) @ gradient\n",
      "D:/Brain_Network/Code\\jitter.py:4090: RuntimeWarning: invalid value encountered in subtract\n",
      "  beta_err = np.sum(np.abs(beta_old - beta))\n",
      "D:/Brain_Network/Code\\jitter.py:4063: RuntimeWarning: invalid value encountered in matmul\n",
      "  lmbd = X @ (beta + beta_offset) + offset\n",
      "D:/Brain_Network/Code\\jitter.py:4065: RuntimeWarning: invalid value encountered in matmul\n",
      "  lmbd_integral = basis_integral.T @ (beta + beta_offset) + offset_integral\n"
     ]
    },
    {
     "name": "stdout",
     "output_type": "stream",
     "text": [
      "util.save_variable, save variable to:  D:/Brain_Network/Output/jitter/coupling_filter/CD_DE_condition19_joint_fit_fixed_portion_11122021_multi_reg/univariate_filtertype2_951103332_951113514.pkl\n",
      "util.save_variable, save variable to:  D:/Brain_Network/Output/jitter/coupling_filter/CD_DE_condition19_joint_fit_fixed_portion_11122021_multi_reg/multivariate_filtertype2_951103332_951113514.pkl\n",
      "377it [1:12:42, 12.14s/it]"
     ]
    },
    {
     "name": "stderr",
     "output_type": "stream",
     "text": [
      "D:/Brain_Network/Code\\jitter.py:4063: RuntimeWarning: invalid value encountered in matmul\n",
      "  lmbd = X @ (beta + beta_offset) + offset\n",
      "D:/Brain_Network/Code\\jitter.py:4065: RuntimeWarning: invalid value encountered in matmul\n",
      "  lmbd_integral = basis_integral.T @ (beta + beta_offset) + offset_integral\n",
      "D:/Brain_Network/Code\\jitter.py:4090: RuntimeWarning: invalid value encountered in subtract\n",
      "  beta_err = np.sum(np.abs(beta_old - beta))\n"
     ]
    },
    {
     "name": "stdout",
     "output_type": "stream",
     "text": [
      "util.save_variable, save variable to:  D:/Brain_Network/Output/jitter/coupling_filter/CD_DE_condition19_joint_fit_fixed_portion_11122021_multi_reg/univariate_filtertype2_951103332_951113717.pkl\n",
      "util.save_variable, save variable to:  D:/Brain_Network/Output/jitter/coupling_filter/CD_DE_condition19_joint_fit_fixed_portion_11122021_multi_reg/multivariate_filtertype2_951103332_951113717.pkl\n",
      "378it [1:12:50, 11.06s/it]util.save_variable, save variable to:  D:/Brain_Network/Output/jitter/coupling_filter/CD_DE_condition19_joint_fit_fixed_portion_11122021_multi_reg/univariate_filtertype2_951103380_951112464.pkl\n",
      "util.save_variable, save variable to:  D:/Brain_Network/Output/jitter/coupling_filter/CD_DE_condition19_joint_fit_fixed_portion_11122021_multi_reg/multivariate_filtertype2_951103380_951112464.pkl\n",
      "379it [1:13:00, 10.82s/it]util.save_variable, save variable to:  D:/Brain_Network/Output/jitter/coupling_filter/CD_DE_condition19_joint_fit_fixed_portion_11122021_multi_reg/univariate_filtertype2_951103380_951112448.pkl\n",
      "util.save_variable, save variable to:  D:/Brain_Network/Output/jitter/coupling_filter/CD_DE_condition19_joint_fit_fixed_portion_11122021_multi_reg/multivariate_filtertype2_951103380_951112448.pkl\n",
      "380it [1:13:11, 10.86s/it]"
     ]
    },
    {
     "name": "stderr",
     "output_type": "stream",
     "text": [
      "D:/Brain_Network/Code\\jitter.py:4063: RuntimeWarning: invalid value encountered in matmul\n",
      "  lmbd = X @ (beta + beta_offset) + offset\n",
      "D:/Brain_Network/Code\\jitter.py:4065: RuntimeWarning: invalid value encountered in matmul\n",
      "  lmbd_integral = basis_integral.T @ (beta + beta_offset) + offset_integral\n",
      "D:/Brain_Network/Code\\jitter.py:4090: RuntimeWarning: invalid value encountered in subtract\n",
      "  beta_err = np.sum(np.abs(beta_old - beta))\n"
     ]
    },
    {
     "name": "stdout",
     "output_type": "stream",
     "text": [
      "util.save_variable, save variable to:  D:/Brain_Network/Output/jitter/coupling_filter/CD_DE_condition19_joint_fit_fixed_portion_11122021_multi_reg/univariate_filtertype2_951103380_951112431.pkl\n",
      "util.save_variable, save variable to:  D:/Brain_Network/Output/jitter/coupling_filter/CD_DE_condition19_joint_fit_fixed_portion_11122021_multi_reg/multivariate_filtertype2_951103380_951112431.pkl\n",
      "381it [1:13:23, 11.00s/it]util.save_variable, save variable to:  D:/Brain_Network/Output/jitter/coupling_filter/CD_DE_condition19_joint_fit_fixed_portion_11122021_multi_reg/univariate_filtertype2_951103380_951112416.pkl\n",
      "util.save_variable, save variable to:  D:/Brain_Network/Output/jitter/coupling_filter/CD_DE_condition19_joint_fit_fixed_portion_11122021_multi_reg/multivariate_filtertype2_951103380_951112416.pkl\n",
      "382it [1:13:33, 10.64s/it]util.save_variable, save variable to:  D:/Brain_Network/Output/jitter/coupling_filter/CD_DE_condition19_joint_fit_fixed_portion_11122021_multi_reg/univariate_filtertype2_951103380_951112479.pkl\n",
      "util.save_variable, save variable to:  D:/Brain_Network/Output/jitter/coupling_filter/CD_DE_condition19_joint_fit_fixed_portion_11122021_multi_reg/multivariate_filtertype2_951103380_951112479.pkl\n",
      "383it [1:13:44, 10.85s/it]util.save_variable, save variable to:  D:/Brain_Network/Output/jitter/coupling_filter/CD_DE_condition19_joint_fit_fixed_portion_11122021_multi_reg/univariate_filtertype2_951103380_951112638.pkl\n",
      "util.save_variable, save variable to:  D:/Brain_Network/Output/jitter/coupling_filter/CD_DE_condition19_joint_fit_fixed_portion_11122021_multi_reg/multivariate_filtertype2_951103380_951112638.pkl\n",
      "384it [1:13:56, 11.27s/it]"
     ]
    },
    {
     "name": "stderr",
     "output_type": "stream",
     "text": [
      "D:/Brain_Network/Code\\jitter.py:4063: RuntimeWarning: invalid value encountered in matmul\n",
      "  lmbd = X @ (beta + beta_offset) + offset\n",
      "D:/Brain_Network/Code\\jitter.py:4065: RuntimeWarning: invalid value encountered in matmul\n",
      "  lmbd_integral = basis_integral.T @ (beta + beta_offset) + offset_integral\n",
      "D:/Brain_Network/Code\\jitter.py:4090: RuntimeWarning: invalid value encountered in subtract\n",
      "  beta_err = np.sum(np.abs(beta_old - beta))\n"
     ]
    },
    {
     "name": "stdout",
     "output_type": "stream",
     "text": [
      "util.save_variable, save variable to:  D:/Brain_Network/Output/jitter/coupling_filter/CD_DE_condition19_joint_fit_fixed_portion_11122021_multi_reg/univariate_filtertype2_951103380_951112590.pkl\n",
      "util.save_variable, save variable to:  D:/Brain_Network/Output/jitter/coupling_filter/CD_DE_condition19_joint_fit_fixed_portion_11122021_multi_reg/multivariate_filtertype2_951103380_951112590.pkl\n",
      "385it [1:14:07, 11.08s/it]util.save_variable, save variable to:  D:/Brain_Network/Output/jitter/coupling_filter/CD_DE_condition19_joint_fit_fixed_portion_11122021_multi_reg/univariate_filtertype2_951103380_951112712.pkl\n",
      "util.save_variable, save variable to:  D:/Brain_Network/Output/jitter/coupling_filter/CD_DE_condition19_joint_fit_fixed_portion_11122021_multi_reg/multivariate_filtertype2_951103380_951112712.pkl\n",
      "386it [1:14:27, 13.96s/it]util.save_variable, save variable to:  D:/Brain_Network/Output/jitter/coupling_filter/CD_DE_condition19_joint_fit_fixed_portion_11122021_multi_reg/univariate_filtertype2_951103380_951112786.pkl\n",
      "util.save_variable, save variable to:  D:/Brain_Network/Output/jitter/coupling_filter/CD_DE_condition19_joint_fit_fixed_portion_11122021_multi_reg/multivariate_filtertype2_951103380_951112786.pkl\n",
      "387it [1:14:37, 12.63s/it]"
     ]
    },
    {
     "name": "stderr",
     "output_type": "stream",
     "text": [
      "D:/Brain_Network/Code\\jitter.py:4063: RuntimeWarning: invalid value encountered in matmul\n",
      "  lmbd = X @ (beta + beta_offset) + offset\n",
      "D:/Brain_Network/Code\\jitter.py:4065: RuntimeWarning: invalid value encountered in matmul\n",
      "  lmbd_integral = basis_integral.T @ (beta + beta_offset) + offset_integral\n",
      "D:/Brain_Network/Code\\jitter.py:4090: RuntimeWarning: invalid value encountered in subtract\n",
      "  beta_err = np.sum(np.abs(beta_old - beta))\n"
     ]
    },
    {
     "name": "stdout",
     "output_type": "stream",
     "text": [
      "util.save_variable, save variable to:  D:/Brain_Network/Output/jitter/coupling_filter/CD_DE_condition19_joint_fit_fixed_portion_11122021_multi_reg/univariate_filtertype2_951103380_951112780.pkl\n",
      "util.save_variable, save variable to:  D:/Brain_Network/Output/jitter/coupling_filter/CD_DE_condition19_joint_fit_fixed_portion_11122021_multi_reg/multivariate_filtertype2_951103380_951112780.pkl\n",
      "388it [1:14:45, 11.27s/it]util.save_variable, save variable to:  D:/Brain_Network/Output/jitter/coupling_filter/CD_DE_condition19_joint_fit_fixed_portion_11122021_multi_reg/univariate_filtertype2_951103380_951112768.pkl\n",
      "util.save_variable, save variable to:  D:/Brain_Network/Output/jitter/coupling_filter/CD_DE_condition19_joint_fit_fixed_portion_11122021_multi_reg/multivariate_filtertype2_951103380_951112768.pkl\n",
      "389it [1:15:04, 13.55s/it]"
     ]
    },
    {
     "name": "stderr",
     "output_type": "stream",
     "text": [
      "D:/Brain_Network/Code\\jitter.py:4063: RuntimeWarning: invalid value encountered in matmul\n",
      "  lmbd = X @ (beta + beta_offset) + offset\n",
      "D:/Brain_Network/Code\\jitter.py:4065: RuntimeWarning: invalid value encountered in matmul\n",
      "  lmbd_integral = basis_integral.T @ (beta + beta_offset) + offset_integral\n",
      "D:/Brain_Network/Code\\jitter.py:4090: RuntimeWarning: invalid value encountered in subtract\n",
      "  beta_err = np.sum(np.abs(beta_old - beta))\n"
     ]
    },
    {
     "name": "stdout",
     "output_type": "stream",
     "text": [
      "util.save_variable, save variable to:  D:/Brain_Network/Output/jitter/coupling_filter/CD_DE_condition19_joint_fit_fixed_portion_11122021_multi_reg/univariate_filtertype2_951103380_951112845.pkl\n",
      "util.save_variable, save variable to:  D:/Brain_Network/Output/jitter/coupling_filter/CD_DE_condition19_joint_fit_fixed_portion_11122021_multi_reg/multivariate_filtertype2_951103380_951112845.pkl\n",
      "390it [1:15:12, 11.94s/it]util.save_variable, save variable to:  D:/Brain_Network/Output/jitter/coupling_filter/CD_DE_condition19_joint_fit_fixed_portion_11122021_multi_reg/univariate_filtertype2_951103380_951112906.pkl\n",
      "util.save_variable, save variable to:  D:/Brain_Network/Output/jitter/coupling_filter/CD_DE_condition19_joint_fit_fixed_portion_11122021_multi_reg/multivariate_filtertype2_951103380_951112906.pkl\n",
      "391it [1:15:22, 11.36s/it]"
     ]
    },
    {
     "name": "stderr",
     "output_type": "stream",
     "text": [
      "D:/Brain_Network/Code\\jitter.py:4063: RuntimeWarning: invalid value encountered in matmul\n",
      "  lmbd = X @ (beta + beta_offset) + offset\n",
      "D:/Brain_Network/Code\\jitter.py:4065: RuntimeWarning: invalid value encountered in matmul\n",
      "  lmbd_integral = basis_integral.T @ (beta + beta_offset) + offset_integral\n",
      "D:/Brain_Network/Code\\jitter.py:4090: RuntimeWarning: invalid value encountered in subtract\n",
      "  beta_err = np.sum(np.abs(beta_old - beta))\n"
     ]
    },
    {
     "name": "stdout",
     "output_type": "stream",
     "text": [
      "util.save_variable, save variable to:  D:/Brain_Network/Output/jitter/coupling_filter/CD_DE_condition19_joint_fit_fixed_portion_11122021_multi_reg/univariate_filtertype2_951103380_951112937.pkl\n",
      "util.save_variable, save variable to:  D:/Brain_Network/Output/jitter/coupling_filter/CD_DE_condition19_joint_fit_fixed_portion_11122021_multi_reg/multivariate_filtertype2_951103380_951112937.pkl\n",
      "392it [1:15:32, 10.86s/it]util.save_variable, save variable to:  D:/Brain_Network/Output/jitter/coupling_filter/CD_DE_condition19_joint_fit_fixed_portion_11122021_multi_reg/univariate_filtertype2_951103380_951112992.pkl\n",
      "util.save_variable, save variable to:  D:/Brain_Network/Output/jitter/coupling_filter/CD_DE_condition19_joint_fit_fixed_portion_11122021_multi_reg/multivariate_filtertype2_951103380_951112992.pkl\n",
      "393it [1:15:48, 12.35s/it]util.save_variable, save variable to:  D:/Brain_Network/Output/jitter/coupling_filter/CD_DE_condition19_joint_fit_fixed_portion_11122021_multi_reg/univariate_filtertype2_951103380_951113075.pkl\n",
      "util.save_variable, save variable to:  D:/Brain_Network/Output/jitter/coupling_filter/CD_DE_condition19_joint_fit_fixed_portion_11122021_multi_reg/multivariate_filtertype2_951103380_951113075.pkl\n",
      "394it [1:15:57, 11.48s/it]"
     ]
    },
    {
     "name": "stderr",
     "output_type": "stream",
     "text": [
      "D:/Brain_Network/Code\\jitter.py:4063: RuntimeWarning: invalid value encountered in matmul\n",
      "  lmbd = X @ (beta + beta_offset) + offset\n",
      "D:/Brain_Network/Code\\jitter.py:4065: RuntimeWarning: invalid value encountered in matmul\n",
      "  lmbd_integral = basis_integral.T @ (beta + beta_offset) + offset_integral\n",
      "D:/Brain_Network/Code\\jitter.py:4090: RuntimeWarning: invalid value encountered in subtract\n",
      "  beta_err = np.sum(np.abs(beta_old - beta))\n"
     ]
    },
    {
     "name": "stdout",
     "output_type": "stream",
     "text": [
      "util.save_variable, save variable to:  D:/Brain_Network/Output/jitter/coupling_filter/CD_DE_condition19_joint_fit_fixed_portion_11122021_multi_reg/univariate_filtertype2_951103380_951113056.pkl\n",
      "util.save_variable, save variable to:  D:/Brain_Network/Output/jitter/coupling_filter/CD_DE_condition19_joint_fit_fixed_portion_11122021_multi_reg/multivariate_filtertype2_951103380_951113056.pkl\n",
      "395it [1:16:07, 10.94s/it]util.save_variable, save variable to:  D:/Brain_Network/Output/jitter/coupling_filter/CD_DE_condition19_joint_fit_fixed_portion_11122021_multi_reg/univariate_filtertype2_951103380_951113039.pkl\n",
      "util.save_variable, save variable to:  D:/Brain_Network/Output/jitter/coupling_filter/CD_DE_condition19_joint_fit_fixed_portion_11122021_multi_reg/multivariate_filtertype2_951103380_951113039.pkl\n",
      "396it [1:16:25, 13.26s/it]util.save_variable, save variable to:  D:/Brain_Network/Output/jitter/coupling_filter/CD_DE_condition19_joint_fit_fixed_portion_11122021_multi_reg/univariate_filtertype2_951103380_951113191.pkl\n",
      "util.save_variable, save variable to:  D:/Brain_Network/Output/jitter/coupling_filter/CD_DE_condition19_joint_fit_fixed_portion_11122021_multi_reg/multivariate_filtertype2_951103380_951113191.pkl\n",
      "397it [1:16:35, 12.14s/it]util.save_variable, save variable to:  D:/Brain_Network/Output/jitter/coupling_filter/CD_DE_condition19_joint_fit_fixed_portion_11122021_multi_reg/univariate_filtertype2_951103380_951113175.pkl\n",
      "util.save_variable, save variable to:  D:/Brain_Network/Output/jitter/coupling_filter/CD_DE_condition19_joint_fit_fixed_portion_11122021_multi_reg/multivariate_filtertype2_951103380_951113175.pkl\n",
      "398it [1:16:46, 11.95s/it]util.save_variable, save variable to:  D:/Brain_Network/Output/jitter/coupling_filter/CD_DE_condition19_joint_fit_fixed_portion_11122021_multi_reg/univariate_filtertype2_951103380_951113141.pkl\n",
      "util.save_variable, save variable to:  D:/Brain_Network/Output/jitter/coupling_filter/CD_DE_condition19_joint_fit_fixed_portion_11122021_multi_reg/multivariate_filtertype2_951103380_951113141.pkl\n",
      "399it [1:16:58, 11.88s/it]util.save_variable, save variable to:  D:/Brain_Network/Output/jitter/coupling_filter/CD_DE_condition19_joint_fit_fixed_portion_11122021_multi_reg/univariate_filtertype2_951103380_951113271.pkl\n",
      "util.save_variable, save variable to:  D:/Brain_Network/Output/jitter/coupling_filter/CD_DE_condition19_joint_fit_fixed_portion_11122021_multi_reg/multivariate_filtertype2_951103380_951113271.pkl\n",
      "400it [1:17:21, 15.23s/it]util.save_variable, save variable to:  D:/Brain_Network/Output/jitter/coupling_filter/CD_DE_condition19_joint_fit_fixed_portion_11122021_multi_reg/univariate_filtertype2_951103380_951113211.pkl\n",
      "util.save_variable, save variable to:  D:/Brain_Network/Output/jitter/coupling_filter/CD_DE_condition19_joint_fit_fixed_portion_11122021_multi_reg/multivariate_filtertype2_951103380_951113211.pkl\n",
      "401it [1:17:33, 14.18s/it]util.save_variable, save variable to:  D:/Brain_Network/Output/jitter/coupling_filter/CD_DE_condition19_joint_fit_fixed_portion_11122021_multi_reg/univariate_filtertype2_951103380_951113240.pkl\n",
      "util.save_variable, save variable to:  D:/Brain_Network/Output/jitter/coupling_filter/CD_DE_condition19_joint_fit_fixed_portion_11122021_multi_reg/multivariate_filtertype2_951103380_951113240.pkl\n",
      "402it [1:17:42, 12.58s/it]util.save_variable, save variable to:  D:/Brain_Network/Output/jitter/coupling_filter/CD_DE_condition19_joint_fit_fixed_portion_11122021_multi_reg/univariate_filtertype2_951103380_951113464.pkl\n",
      "util.save_variable, save variable to:  D:/Brain_Network/Output/jitter/coupling_filter/CD_DE_condition19_joint_fit_fixed_portion_11122021_multi_reg/multivariate_filtertype2_951103380_951113464.pkl\n",
      "403it [1:17:56, 13.16s/it]"
     ]
    },
    {
     "name": "stderr",
     "output_type": "stream",
     "text": [
      "D:/Brain_Network/Code\\jitter.py:4063: RuntimeWarning: invalid value encountered in matmul\n",
      "  lmbd = X @ (beta + beta_offset) + offset\n",
      "D:/Brain_Network/Code\\jitter.py:4065: RuntimeWarning: invalid value encountered in matmul\n",
      "  lmbd_integral = basis_integral.T @ (beta + beta_offset) + offset_integral\n",
      "D:/Brain_Network/Code\\jitter.py:4090: RuntimeWarning: invalid value encountered in subtract\n",
      "  beta_err = np.sum(np.abs(beta_old - beta))\n"
     ]
    },
    {
     "name": "stdout",
     "output_type": "stream",
     "text": [
      "util.save_variable, save variable to:  D:/Brain_Network/Output/jitter/coupling_filter/CD_DE_condition19_joint_fit_fixed_portion_11122021_multi_reg/univariate_filtertype2_951103380_951113514.pkl\n",
      "util.save_variable, save variable to:  D:/Brain_Network/Output/jitter/coupling_filter/CD_DE_condition19_joint_fit_fixed_portion_11122021_multi_reg/multivariate_filtertype2_951103380_951113514.pkl\n",
      "404it [1:18:06, 12.01s/it]util.save_variable, save variable to:  D:/Brain_Network/Output/jitter/coupling_filter/CD_DE_condition19_joint_fit_fixed_portion_11122021_multi_reg/univariate_filtertype2_951103380_951113717.pkl\n",
      "util.save_variable, save variable to:  D:/Brain_Network/Output/jitter/coupling_filter/CD_DE_condition19_joint_fit_fixed_portion_11122021_multi_reg/multivariate_filtertype2_951103380_951113717.pkl\n",
      "405it [1:18:15, 11.32s/it]"
     ]
    },
    {
     "name": "stderr",
     "output_type": "stream",
     "text": [
      "D:/Brain_Network/Code\\jitter.py:4063: RuntimeWarning: invalid value encountered in matmul\n",
      "  lmbd = X @ (beta + beta_offset) + offset\n",
      "D:/Brain_Network/Code\\jitter.py:4065: RuntimeWarning: invalid value encountered in matmul\n",
      "  lmbd_integral = basis_integral.T @ (beta + beta_offset) + offset_integral\n",
      "D:/Brain_Network/Code\\jitter.py:4090: RuntimeWarning: invalid value encountered in subtract\n",
      "  beta_err = np.sum(np.abs(beta_old - beta))\n"
     ]
    },
    {
     "name": "stdout",
     "output_type": "stream",
     "text": [
      "util.save_variable, save variable to:  D:/Brain_Network/Output/jitter/coupling_filter/CD_DE_condition19_joint_fit_fixed_portion_11122021_multi_reg/univariate_filtertype2_951103498_951112464.pkl\n",
      "util.save_variable, save variable to:  D:/Brain_Network/Output/jitter/coupling_filter/CD_DE_condition19_joint_fit_fixed_portion_11122021_multi_reg/multivariate_filtertype2_951103498_951112464.pkl\n",
      "406it [1:18:26, 11.09s/it]util.save_variable, save variable to:  D:/Brain_Network/Output/jitter/coupling_filter/CD_DE_condition19_joint_fit_fixed_portion_11122021_multi_reg/univariate_filtertype2_951103498_951112448.pkl\n",
      "util.save_variable, save variable to:  D:/Brain_Network/Output/jitter/coupling_filter/CD_DE_condition19_joint_fit_fixed_portion_11122021_multi_reg/multivariate_filtertype2_951103498_951112448.pkl\n",
      "407it [1:18:38, 11.33s/it]"
     ]
    },
    {
     "name": "stderr",
     "output_type": "stream",
     "text": [
      "D:/Brain_Network/Code\\jitter.py:4075: RuntimeWarning: overflow encountered in matmul\n",
      "  delta = np.linalg.inv(hessian) @ gradient\n",
      "D:/Brain_Network/Code\\jitter.py:4063: RuntimeWarning: invalid value encountered in matmul\n",
      "  lmbd = X @ (beta + beta_offset) + offset\n",
      "D:/Brain_Network/Code\\jitter.py:4065: RuntimeWarning: invalid value encountered in matmul\n",
      "  lmbd_integral = basis_integral.T @ (beta + beta_offset) + offset_integral\n",
      "D:/Brain_Network/Code\\jitter.py:4090: RuntimeWarning: invalid value encountered in subtract\n",
      "  beta_err = np.sum(np.abs(beta_old - beta))\n"
     ]
    },
    {
     "name": "stdout",
     "output_type": "stream",
     "text": [
      "util.save_variable, save variable to:  D:/Brain_Network/Output/jitter/coupling_filter/CD_DE_condition19_joint_fit_fixed_portion_11122021_multi_reg/univariate_filtertype2_951103498_951112431.pkl\n",
      "util.save_variable, save variable to:  D:/Brain_Network/Output/jitter/coupling_filter/CD_DE_condition19_joint_fit_fixed_portion_11122021_multi_reg/multivariate_filtertype2_951103498_951112431.pkl\n",
      "408it [1:18:48, 11.05s/it]util.save_variable, save variable to:  D:/Brain_Network/Output/jitter/coupling_filter/CD_DE_condition19_joint_fit_fixed_portion_11122021_multi_reg/univariate_filtertype2_951103498_951112416.pkl\n",
      "util.save_variable, save variable to:  D:/Brain_Network/Output/jitter/coupling_filter/CD_DE_condition19_joint_fit_fixed_portion_11122021_multi_reg/multivariate_filtertype2_951103498_951112416.pkl\n",
      "409it [1:18:58, 10.71s/it]util.save_variable, save variable to:  D:/Brain_Network/Output/jitter/coupling_filter/CD_DE_condition19_joint_fit_fixed_portion_11122021_multi_reg/univariate_filtertype2_951103498_951112479.pkl\n",
      "util.save_variable, save variable to:  D:/Brain_Network/Output/jitter/coupling_filter/CD_DE_condition19_joint_fit_fixed_portion_11122021_multi_reg/multivariate_filtertype2_951103498_951112479.pkl\n",
      "410it [1:19:09, 10.86s/it]util.save_variable, save variable to:  D:/Brain_Network/Output/jitter/coupling_filter/CD_DE_condition19_joint_fit_fixed_portion_11122021_multi_reg/univariate_filtertype2_951103498_951112638.pkl\n",
      "util.save_variable, save variable to:  D:/Brain_Network/Output/jitter/coupling_filter/CD_DE_condition19_joint_fit_fixed_portion_11122021_multi_reg/multivariate_filtertype2_951103498_951112638.pkl\n",
      "411it [1:19:23, 11.77s/it]util.save_variable, save variable to:  D:/Brain_Network/Output/jitter/coupling_filter/CD_DE_condition19_joint_fit_fixed_portion_11122021_multi_reg/univariate_filtertype2_951103498_951112590.pkl\n",
      "util.save_variable, save variable to:  D:/Brain_Network/Output/jitter/coupling_filter/CD_DE_condition19_joint_fit_fixed_portion_11122021_multi_reg/multivariate_filtertype2_951103498_951112590.pkl\n",
      "412it [1:19:35, 11.70s/it]util.save_variable, save variable to:  D:/Brain_Network/Output/jitter/coupling_filter/CD_DE_condition19_joint_fit_fixed_portion_11122021_multi_reg/univariate_filtertype2_951103498_951112712.pkl\n",
      "util.save_variable, save variable to:  D:/Brain_Network/Output/jitter/coupling_filter/CD_DE_condition19_joint_fit_fixed_portion_11122021_multi_reg/multivariate_filtertype2_951103498_951112712.pkl\n",
      "413it [1:19:57, 14.84s/it]util.save_variable, save variable to:  D:/Brain_Network/Output/jitter/coupling_filter/CD_DE_condition19_joint_fit_fixed_portion_11122021_multi_reg/univariate_filtertype2_951103498_951112786.pkl\n",
      "util.save_variable, save variable to:  D:/Brain_Network/Output/jitter/coupling_filter/CD_DE_condition19_joint_fit_fixed_portion_11122021_multi_reg/multivariate_filtertype2_951103498_951112786.pkl\n",
      "414it [1:20:07, 13.44s/it]util.save_variable, save variable to:  D:/Brain_Network/Output/jitter/coupling_filter/CD_DE_condition19_joint_fit_fixed_portion_11122021_multi_reg/univariate_filtertype2_951103498_951112780.pkl\n",
      "util.save_variable, save variable to:  D:/Brain_Network/Output/jitter/coupling_filter/CD_DE_condition19_joint_fit_fixed_portion_11122021_multi_reg/multivariate_filtertype2_951103498_951112780.pkl\n",
      "415it [1:20:14, 11.51s/it]util.save_variable, save variable to:  D:/Brain_Network/Output/jitter/coupling_filter/CD_DE_condition19_joint_fit_fixed_portion_11122021_multi_reg/univariate_filtertype2_951103498_951112768.pkl\n",
      "util.save_variable, save variable to:  D:/Brain_Network/Output/jitter/coupling_filter/CD_DE_condition19_joint_fit_fixed_portion_11122021_multi_reg/multivariate_filtertype2_951103498_951112768.pkl\n",
      "416it [1:20:33, 13.83s/it]util.save_variable, save variable to:  D:/Brain_Network/Output/jitter/coupling_filter/CD_DE_condition19_joint_fit_fixed_portion_11122021_multi_reg/univariate_filtertype2_951103498_951112845.pkl\n",
      "util.save_variable, save variable to:  D:/Brain_Network/Output/jitter/coupling_filter/CD_DE_condition19_joint_fit_fixed_portion_11122021_multi_reg/multivariate_filtertype2_951103498_951112845.pkl\n",
      "417it [1:20:42, 12.24s/it]util.save_variable, save variable to:  D:/Brain_Network/Output/jitter/coupling_filter/CD_DE_condition19_joint_fit_fixed_portion_11122021_multi_reg/univariate_filtertype2_951103498_951112906.pkl\n",
      "util.save_variable, save variable to:  D:/Brain_Network/Output/jitter/coupling_filter/CD_DE_condition19_joint_fit_fixed_portion_11122021_multi_reg/multivariate_filtertype2_951103498_951112906.pkl\n",
      "418it [1:20:51, 11.45s/it]"
     ]
    },
    {
     "name": "stderr",
     "output_type": "stream",
     "text": [
      "D:/Brain_Network/Code\\jitter.py:4063: RuntimeWarning: invalid value encountered in matmul\n",
      "  lmbd = X @ (beta + beta_offset) + offset\n",
      "D:/Brain_Network/Code\\jitter.py:4065: RuntimeWarning: invalid value encountered in matmul\n",
      "  lmbd_integral = basis_integral.T @ (beta + beta_offset) + offset_integral\n",
      "D:/Brain_Network/Code\\jitter.py:4090: RuntimeWarning: invalid value encountered in subtract\n",
      "  beta_err = np.sum(np.abs(beta_old - beta))\n"
     ]
    },
    {
     "name": "stdout",
     "output_type": "stream",
     "text": [
      "util.save_variable, save variable to:  D:/Brain_Network/Output/jitter/coupling_filter/CD_DE_condition19_joint_fit_fixed_portion_11122021_multi_reg/univariate_filtertype2_951103498_951112937.pkl\n",
      "util.save_variable, save variable to:  D:/Brain_Network/Output/jitter/coupling_filter/CD_DE_condition19_joint_fit_fixed_portion_11122021_multi_reg/multivariate_filtertype2_951103498_951112937.pkl\n",
      "419it [1:21:01, 11.02s/it]util.save_variable, save variable to:  D:/Brain_Network/Output/jitter/coupling_filter/CD_DE_condition19_joint_fit_fixed_portion_11122021_multi_reg/univariate_filtertype2_951103498_951112992.pkl\n",
      "util.save_variable, save variable to:  D:/Brain_Network/Output/jitter/coupling_filter/CD_DE_condition19_joint_fit_fixed_portion_11122021_multi_reg/multivariate_filtertype2_951103498_951112992.pkl\n",
      "420it [1:21:18, 12.64s/it]util.save_variable, save variable to:  D:/Brain_Network/Output/jitter/coupling_filter/CD_DE_condition19_joint_fit_fixed_portion_11122021_multi_reg/univariate_filtertype2_951103498_951113075.pkl\n",
      "util.save_variable, save variable to:  D:/Brain_Network/Output/jitter/coupling_filter/CD_DE_condition19_joint_fit_fixed_portion_11122021_multi_reg/multivariate_filtertype2_951103498_951113075.pkl\n",
      "421it [1:21:28, 11.98s/it]util.save_variable, save variable to:  D:/Brain_Network/Output/jitter/coupling_filter/CD_DE_condition19_joint_fit_fixed_portion_11122021_multi_reg/univariate_filtertype2_951103498_951113056.pkl\n",
      "util.save_variable, save variable to:  D:/Brain_Network/Output/jitter/coupling_filter/CD_DE_condition19_joint_fit_fixed_portion_11122021_multi_reg/multivariate_filtertype2_951103498_951113056.pkl\n",
      "422it [1:21:37, 11.09s/it]"
     ]
    },
    {
     "name": "stderr",
     "output_type": "stream",
     "text": [
      "D:/Brain_Network/Code\\jitter.py:4063: RuntimeWarning: invalid value encountered in matmul\n",
      "  lmbd = X @ (beta + beta_offset) + offset\n",
      "D:/Brain_Network/Code\\jitter.py:4065: RuntimeWarning: invalid value encountered in matmul\n",
      "  lmbd_integral = basis_integral.T @ (beta + beta_offset) + offset_integral\n",
      "D:/Brain_Network/Code\\jitter.py:4090: RuntimeWarning: invalid value encountered in subtract\n",
      "  beta_err = np.sum(np.abs(beta_old - beta))\n"
     ]
    },
    {
     "name": "stdout",
     "output_type": "stream",
     "text": [
      "util.save_variable, save variable to:  D:/Brain_Network/Output/jitter/coupling_filter/CD_DE_condition19_joint_fit_fixed_portion_11122021_multi_reg/univariate_filtertype2_951103498_951113039.pkl\n",
      "util.save_variable, save variable to:  D:/Brain_Network/Output/jitter/coupling_filter/CD_DE_condition19_joint_fit_fixed_portion_11122021_multi_reg/multivariate_filtertype2_951103498_951113039.pkl\n",
      "423it [1:21:55, 13.06s/it]util.save_variable, save variable to:  D:/Brain_Network/Output/jitter/coupling_filter/CD_DE_condition19_joint_fit_fixed_portion_11122021_multi_reg/univariate_filtertype2_951103498_951113191.pkl\n",
      "util.save_variable, save variable to:  D:/Brain_Network/Output/jitter/coupling_filter/CD_DE_condition19_joint_fit_fixed_portion_11122021_multi_reg/multivariate_filtertype2_951103498_951113191.pkl\n",
      "424it [1:22:05, 12.12s/it]util.save_variable, save variable to:  D:/Brain_Network/Output/jitter/coupling_filter/CD_DE_condition19_joint_fit_fixed_portion_11122021_multi_reg/univariate_filtertype2_951103498_951113175.pkl\n",
      "util.save_variable, save variable to:  D:/Brain_Network/Output/jitter/coupling_filter/CD_DE_condition19_joint_fit_fixed_portion_11122021_multi_reg/multivariate_filtertype2_951103498_951113175.pkl\n",
      "425it [1:22:17, 12.11s/it]util.save_variable, save variable to:  D:/Brain_Network/Output/jitter/coupling_filter/CD_DE_condition19_joint_fit_fixed_portion_11122021_multi_reg/univariate_filtertype2_951103498_951113141.pkl\n",
      "util.save_variable, save variable to:  D:/Brain_Network/Output/jitter/coupling_filter/CD_DE_condition19_joint_fit_fixed_portion_11122021_multi_reg/multivariate_filtertype2_951103498_951113141.pkl\n",
      "426it [1:22:29, 11.96s/it]util.save_variable, save variable to:  D:/Brain_Network/Output/jitter/coupling_filter/CD_DE_condition19_joint_fit_fixed_portion_11122021_multi_reg/univariate_filtertype2_951103498_951113271.pkl\n",
      "util.save_variable, save variable to:  D:/Brain_Network/Output/jitter/coupling_filter/CD_DE_condition19_joint_fit_fixed_portion_11122021_multi_reg/multivariate_filtertype2_951103498_951113271.pkl\n",
      "427it [1:23:00, 17.91s/it]util.save_variable, save variable to:  D:/Brain_Network/Output/jitter/coupling_filter/CD_DE_condition19_joint_fit_fixed_portion_11122021_multi_reg/univariate_filtertype2_951103498_951113211.pkl\n",
      "util.save_variable, save variable to:  D:/Brain_Network/Output/jitter/coupling_filter/CD_DE_condition19_joint_fit_fixed_portion_11122021_multi_reg/multivariate_filtertype2_951103498_951113211.pkl\n",
      "428it [1:23:13, 16.25s/it]util.save_variable, save variable to:  D:/Brain_Network/Output/jitter/coupling_filter/CD_DE_condition19_joint_fit_fixed_portion_11122021_multi_reg/univariate_filtertype2_951103498_951113240.pkl\n",
      "util.save_variable, save variable to:  D:/Brain_Network/Output/jitter/coupling_filter/CD_DE_condition19_joint_fit_fixed_portion_11122021_multi_reg/multivariate_filtertype2_951103498_951113240.pkl\n",
      "429it [1:23:22, 14.12s/it]util.save_variable, save variable to:  D:/Brain_Network/Output/jitter/coupling_filter/CD_DE_condition19_joint_fit_fixed_portion_11122021_multi_reg/univariate_filtertype2_951103498_951113464.pkl\n",
      "util.save_variable, save variable to:  D:/Brain_Network/Output/jitter/coupling_filter/CD_DE_condition19_joint_fit_fixed_portion_11122021_multi_reg/multivariate_filtertype2_951103498_951113464.pkl\n",
      "430it [1:23:40, 15.30s/it]util.save_variable, save variable to:  D:/Brain_Network/Output/jitter/coupling_filter/CD_DE_condition19_joint_fit_fixed_portion_11122021_multi_reg/univariate_filtertype2_951103498_951113514.pkl\n",
      "util.save_variable, save variable to:  D:/Brain_Network/Output/jitter/coupling_filter/CD_DE_condition19_joint_fit_fixed_portion_11122021_multi_reg/multivariate_filtertype2_951103498_951113514.pkl\n",
      "431it [1:23:51, 14.09s/it]util.save_variable, save variable to:  D:/Brain_Network/Output/jitter/coupling_filter/CD_DE_condition19_joint_fit_fixed_portion_11122021_multi_reg/univariate_filtertype2_951103498_951113717.pkl\n",
      "util.save_variable, save variable to:  D:/Brain_Network/Output/jitter/coupling_filter/CD_DE_condition19_joint_fit_fixed_portion_11122021_multi_reg/multivariate_filtertype2_951103498_951113717.pkl\n",
      "432it [1:24:02, 13.00s/it]util.save_variable, save variable to:  D:/Brain_Network/Output/jitter/coupling_filter/CD_DE_condition19_joint_fit_fixed_portion_11122021_multi_reg/univariate_filtertype2_951103488_951112464.pkl\n",
      "util.save_variable, save variable to:  D:/Brain_Network/Output/jitter/coupling_filter/CD_DE_condition19_joint_fit_fixed_portion_11122021_multi_reg/multivariate_filtertype2_951103488_951112464.pkl\n",
      "433it [1:24:11, 11.79s/it]util.save_variable, save variable to:  D:/Brain_Network/Output/jitter/coupling_filter/CD_DE_condition19_joint_fit_fixed_portion_11122021_multi_reg/univariate_filtertype2_951103488_951112448.pkl\n",
      "util.save_variable, save variable to:  D:/Brain_Network/Output/jitter/coupling_filter/CD_DE_condition19_joint_fit_fixed_portion_11122021_multi_reg/multivariate_filtertype2_951103488_951112448.pkl\n",
      "434it [1:24:21, 11.32s/it]"
     ]
    },
    {
     "name": "stderr",
     "output_type": "stream",
     "text": [
      "D:/Brain_Network/Code\\jitter.py:4063: RuntimeWarning: invalid value encountered in matmul\n",
      "  lmbd = X @ (beta + beta_offset) + offset\n",
      "D:/Brain_Network/Code\\jitter.py:4065: RuntimeWarning: invalid value encountered in matmul\n",
      "  lmbd_integral = basis_integral.T @ (beta + beta_offset) + offset_integral\n",
      "D:/Brain_Network/Code\\jitter.py:4090: RuntimeWarning: invalid value encountered in subtract\n",
      "  beta_err = np.sum(np.abs(beta_old - beta))\n"
     ]
    },
    {
     "name": "stdout",
     "output_type": "stream",
     "text": [
      "util.save_variable, save variable to:  D:/Brain_Network/Output/jitter/coupling_filter/CD_DE_condition19_joint_fit_fixed_portion_11122021_multi_reg/univariate_filtertype2_951103488_951112431.pkl\n",
      "util.save_variable, save variable to:  D:/Brain_Network/Output/jitter/coupling_filter/CD_DE_condition19_joint_fit_fixed_portion_11122021_multi_reg/multivariate_filtertype2_951103488_951112431.pkl\n",
      "435it [1:24:31, 10.85s/it]"
     ]
    },
    {
     "name": "stderr",
     "output_type": "stream",
     "text": [
      "D:/Brain_Network/Code\\jitter.py:4063: RuntimeWarning: invalid value encountered in matmul\n",
      "  lmbd = X @ (beta + beta_offset) + offset\n",
      "D:/Brain_Network/Code\\jitter.py:4065: RuntimeWarning: invalid value encountered in matmul\n",
      "  lmbd_integral = basis_integral.T @ (beta + beta_offset) + offset_integral\n",
      "D:/Brain_Network/Code\\jitter.py:4090: RuntimeWarning: invalid value encountered in subtract\n",
      "  beta_err = np.sum(np.abs(beta_old - beta))\n"
     ]
    },
    {
     "name": "stdout",
     "output_type": "stream",
     "text": [
      "util.save_variable, save variable to:  D:/Brain_Network/Output/jitter/coupling_filter/CD_DE_condition19_joint_fit_fixed_portion_11122021_multi_reg/univariate_filtertype2_951103488_951112416.pkl\n",
      "util.save_variable, save variable to:  D:/Brain_Network/Output/jitter/coupling_filter/CD_DE_condition19_joint_fit_fixed_portion_11122021_multi_reg/multivariate_filtertype2_951103488_951112416.pkl\n",
      "436it [1:24:41, 10.76s/it]util.save_variable, save variable to:  D:/Brain_Network/Output/jitter/coupling_filter/CD_DE_condition19_joint_fit_fixed_portion_11122021_multi_reg/univariate_filtertype2_951103488_951112479.pkl\n",
      "util.save_variable, save variable to:  D:/Brain_Network/Output/jitter/coupling_filter/CD_DE_condition19_joint_fit_fixed_portion_11122021_multi_reg/multivariate_filtertype2_951103488_951112479.pkl\n",
      "437it [1:24:52, 10.83s/it]util.save_variable, save variable to:  D:/Brain_Network/Output/jitter/coupling_filter/CD_DE_condition19_joint_fit_fixed_portion_11122021_multi_reg/univariate_filtertype2_951103488_951112638.pkl\n",
      "util.save_variable, save variable to:  D:/Brain_Network/Output/jitter/coupling_filter/CD_DE_condition19_joint_fit_fixed_portion_11122021_multi_reg/multivariate_filtertype2_951103488_951112638.pkl\n",
      "438it [1:25:05, 11.55s/it]"
     ]
    },
    {
     "name": "stderr",
     "output_type": "stream",
     "text": [
      "D:/Brain_Network/Code\\jitter.py:4063: RuntimeWarning: invalid value encountered in matmul\n",
      "  lmbd = X @ (beta + beta_offset) + offset\n",
      "D:/Brain_Network/Code\\jitter.py:4065: RuntimeWarning: invalid value encountered in matmul\n",
      "  lmbd_integral = basis_integral.T @ (beta + beta_offset) + offset_integral\n",
      "D:/Brain_Network/Code\\jitter.py:4090: RuntimeWarning: invalid value encountered in subtract\n",
      "  beta_err = np.sum(np.abs(beta_old - beta))\n"
     ]
    },
    {
     "name": "stdout",
     "output_type": "stream",
     "text": [
      "util.save_variable, save variable to:  D:/Brain_Network/Output/jitter/coupling_filter/CD_DE_condition19_joint_fit_fixed_portion_11122021_multi_reg/univariate_filtertype2_951103488_951112590.pkl\n",
      "util.save_variable, save variable to:  D:/Brain_Network/Output/jitter/coupling_filter/CD_DE_condition19_joint_fit_fixed_portion_11122021_multi_reg/multivariate_filtertype2_951103488_951112590.pkl\n",
      "439it [1:25:16, 11.19s/it]util.save_variable, save variable to:  D:/Brain_Network/Output/jitter/coupling_filter/CD_DE_condition19_joint_fit_fixed_portion_11122021_multi_reg/univariate_filtertype2_951103488_951112712.pkl\n",
      "util.save_variable, save variable to:  D:/Brain_Network/Output/jitter/coupling_filter/CD_DE_condition19_joint_fit_fixed_portion_11122021_multi_reg/multivariate_filtertype2_951103488_951112712.pkl\n",
      "440it [1:25:32, 12.79s/it]"
     ]
    },
    {
     "name": "stderr",
     "output_type": "stream",
     "text": [
      "D:/Brain_Network/Code\\jitter.py:4063: RuntimeWarning: invalid value encountered in matmul\n",
      "  lmbd = X @ (beta + beta_offset) + offset\n",
      "D:/Brain_Network/Code\\jitter.py:4065: RuntimeWarning: invalid value encountered in matmul\n",
      "  lmbd_integral = basis_integral.T @ (beta + beta_offset) + offset_integral\n",
      "D:/Brain_Network/Code\\jitter.py:4090: RuntimeWarning: invalid value encountered in subtract\n",
      "  beta_err = np.sum(np.abs(beta_old - beta))\n"
     ]
    },
    {
     "name": "stdout",
     "output_type": "stream",
     "text": [
      "util.save_variable, save variable to:  D:/Brain_Network/Output/jitter/coupling_filter/CD_DE_condition19_joint_fit_fixed_portion_11122021_multi_reg/univariate_filtertype2_951103488_951112786.pkl\n",
      "util.save_variable, save variable to:  D:/Brain_Network/Output/jitter/coupling_filter/CD_DE_condition19_joint_fit_fixed_portion_11122021_multi_reg/multivariate_filtertype2_951103488_951112786.pkl\n",
      "441it [1:25:41, 11.45s/it]"
     ]
    },
    {
     "name": "stderr",
     "output_type": "stream",
     "text": [
      "D:/Brain_Network/Code\\jitter.py:4063: RuntimeWarning: invalid value encountered in matmul\n",
      "  lmbd = X @ (beta + beta_offset) + offset\n",
      "D:/Brain_Network/Code\\jitter.py:4065: RuntimeWarning: invalid value encountered in matmul\n",
      "  lmbd_integral = basis_integral.T @ (beta + beta_offset) + offset_integral\n",
      "D:/Brain_Network/Code\\jitter.py:4090: RuntimeWarning: invalid value encountered in subtract\n",
      "  beta_err = np.sum(np.abs(beta_old - beta))\n"
     ]
    },
    {
     "name": "stdout",
     "output_type": "stream",
     "text": [
      "util.save_variable, save variable to:  D:/Brain_Network/Output/jitter/coupling_filter/CD_DE_condition19_joint_fit_fixed_portion_11122021_multi_reg/univariate_filtertype2_951103488_951112780.pkl\n",
      "util.save_variable, save variable to:  D:/Brain_Network/Output/jitter/coupling_filter/CD_DE_condition19_joint_fit_fixed_portion_11122021_multi_reg/multivariate_filtertype2_951103488_951112780.pkl\n",
      "442it [1:25:47,  9.80s/it]util.save_variable, save variable to:  D:/Brain_Network/Output/jitter/coupling_filter/CD_DE_condition19_joint_fit_fixed_portion_11122021_multi_reg/univariate_filtertype2_951103488_951112768.pkl\n",
      "util.save_variable, save variable to:  D:/Brain_Network/Output/jitter/coupling_filter/CD_DE_condition19_joint_fit_fixed_portion_11122021_multi_reg/multivariate_filtertype2_951103488_951112768.pkl\n",
      "443it [1:26:02, 11.40s/it]"
     ]
    },
    {
     "name": "stderr",
     "output_type": "stream",
     "text": [
      "D:/Brain_Network/Code\\jitter.py:4063: RuntimeWarning: invalid value encountered in matmul\n",
      "  lmbd = X @ (beta + beta_offset) + offset\n",
      "D:/Brain_Network/Code\\jitter.py:4065: RuntimeWarning: invalid value encountered in matmul\n",
      "  lmbd_integral = basis_integral.T @ (beta + beta_offset) + offset_integral\n",
      "D:/Brain_Network/Code\\jitter.py:4090: RuntimeWarning: invalid value encountered in subtract\n",
      "  beta_err = np.sum(np.abs(beta_old - beta))\n"
     ]
    },
    {
     "name": "stdout",
     "output_type": "stream",
     "text": [
      "util.save_variable, save variable to:  D:/Brain_Network/Output/jitter/coupling_filter/CD_DE_condition19_joint_fit_fixed_portion_11122021_multi_reg/univariate_filtertype2_951103488_951112845.pkl\n",
      "util.save_variable, save variable to:  D:/Brain_Network/Output/jitter/coupling_filter/CD_DE_condition19_joint_fit_fixed_portion_11122021_multi_reg/multivariate_filtertype2_951103488_951112845.pkl\n",
      "444it [1:26:09, 10.27s/it]util.save_variable, save variable to:  D:/Brain_Network/Output/jitter/coupling_filter/CD_DE_condition19_joint_fit_fixed_portion_11122021_multi_reg/univariate_filtertype2_951103488_951112906.pkl\n",
      "util.save_variable, save variable to:  D:/Brain_Network/Output/jitter/coupling_filter/CD_DE_condition19_joint_fit_fixed_portion_11122021_multi_reg/multivariate_filtertype2_951103488_951112906.pkl\n",
      "445it [1:26:19, 10.01s/it]util.save_variable, save variable to:  D:/Brain_Network/Output/jitter/coupling_filter/CD_DE_condition19_joint_fit_fixed_portion_11122021_multi_reg/univariate_filtertype2_951103488_951112937.pkl\n",
      "util.save_variable, save variable to:  D:/Brain_Network/Output/jitter/coupling_filter/CD_DE_condition19_joint_fit_fixed_portion_11122021_multi_reg/multivariate_filtertype2_951103488_951112937.pkl\n",
      "446it [1:26:27,  9.42s/it]util.save_variable, save variable to:  D:/Brain_Network/Output/jitter/coupling_filter/CD_DE_condition19_joint_fit_fixed_portion_11122021_multi_reg/univariate_filtertype2_951103488_951112992.pkl\n",
      "util.save_variable, save variable to:  D:/Brain_Network/Output/jitter/coupling_filter/CD_DE_condition19_joint_fit_fixed_portion_11122021_multi_reg/multivariate_filtertype2_951103488_951112992.pkl\n",
      "447it [1:26:42, 11.02s/it]"
     ]
    },
    {
     "name": "stderr",
     "output_type": "stream",
     "text": [
      "D:/Brain_Network/Code\\jitter.py:4063: RuntimeWarning: invalid value encountered in matmul\n",
      "  lmbd = X @ (beta + beta_offset) + offset\n",
      "D:/Brain_Network/Code\\jitter.py:4065: RuntimeWarning: invalid value encountered in matmul\n",
      "  lmbd_integral = basis_integral.T @ (beta + beta_offset) + offset_integral\n",
      "D:/Brain_Network/Code\\jitter.py:4090: RuntimeWarning: invalid value encountered in subtract\n",
      "  beta_err = np.sum(np.abs(beta_old - beta))\n"
     ]
    },
    {
     "name": "stdout",
     "output_type": "stream",
     "text": [
      "util.save_variable, save variable to:  D:/Brain_Network/Output/jitter/coupling_filter/CD_DE_condition19_joint_fit_fixed_portion_11122021_multi_reg/univariate_filtertype2_951103488_951113075.pkl\n",
      "util.save_variable, save variable to:  D:/Brain_Network/Output/jitter/coupling_filter/CD_DE_condition19_joint_fit_fixed_portion_11122021_multi_reg/multivariate_filtertype2_951103488_951113075.pkl\n",
      "448it [1:26:51, 10.45s/it]"
     ]
    },
    {
     "name": "stderr",
     "output_type": "stream",
     "text": [
      "D:/Brain_Network/Code\\jitter.py:4063: RuntimeWarning: invalid value encountered in matmul\n",
      "  lmbd = X @ (beta + beta_offset) + offset\n",
      "D:/Brain_Network/Code\\jitter.py:4065: RuntimeWarning: invalid value encountered in matmul\n",
      "  lmbd_integral = basis_integral.T @ (beta + beta_offset) + offset_integral\n",
      "D:/Brain_Network/Code\\jitter.py:4090: RuntimeWarning: invalid value encountered in subtract\n",
      "  beta_err = np.sum(np.abs(beta_old - beta))\n"
     ]
    },
    {
     "name": "stdout",
     "output_type": "stream",
     "text": [
      "util.save_variable, save variable to:  D:/Brain_Network/Output/jitter/coupling_filter/CD_DE_condition19_joint_fit_fixed_portion_11122021_multi_reg/univariate_filtertype2_951103488_951113056.pkl\n",
      "util.save_variable, save variable to:  D:/Brain_Network/Output/jitter/coupling_filter/CD_DE_condition19_joint_fit_fixed_portion_11122021_multi_reg/multivariate_filtertype2_951103488_951113056.pkl\n",
      "449it [1:27:00, 10.14s/it]"
     ]
    },
    {
     "name": "stderr",
     "output_type": "stream",
     "text": [
      "D:/Brain_Network/Code\\jitter.py:4063: RuntimeWarning: invalid value encountered in matmul\n",
      "  lmbd = X @ (beta + beta_offset) + offset\n",
      "D:/Brain_Network/Code\\jitter.py:4065: RuntimeWarning: invalid value encountered in matmul\n",
      "  lmbd_integral = basis_integral.T @ (beta + beta_offset) + offset_integral\n",
      "D:/Brain_Network/Code\\jitter.py:4090: RuntimeWarning: invalid value encountered in subtract\n",
      "  beta_err = np.sum(np.abs(beta_old - beta))\n"
     ]
    },
    {
     "name": "stdout",
     "output_type": "stream",
     "text": [
      "util.save_variable, save variable to:  D:/Brain_Network/Output/jitter/coupling_filter/CD_DE_condition19_joint_fit_fixed_portion_11122021_multi_reg/univariate_filtertype2_951103488_951113039.pkl\n",
      "util.save_variable, save variable to:  D:/Brain_Network/Output/jitter/coupling_filter/CD_DE_condition19_joint_fit_fixed_portion_11122021_multi_reg/multivariate_filtertype2_951103488_951113039.pkl\n",
      "450it [1:27:18, 12.37s/it]"
     ]
    },
    {
     "name": "stderr",
     "output_type": "stream",
     "text": [
      "D:/Brain_Network/Code\\jitter.py:4063: RuntimeWarning: invalid value encountered in matmul\n",
      "  lmbd = X @ (beta + beta_offset) + offset\n",
      "D:/Brain_Network/Code\\jitter.py:4065: RuntimeWarning: invalid value encountered in matmul\n",
      "  lmbd_integral = basis_integral.T @ (beta + beta_offset) + offset_integral\n",
      "D:/Brain_Network/Code\\jitter.py:4090: RuntimeWarning: invalid value encountered in subtract\n",
      "  beta_err = np.sum(np.abs(beta_old - beta))\n"
     ]
    },
    {
     "name": "stdout",
     "output_type": "stream",
     "text": [
      "util.save_variable, save variable to:  D:/Brain_Network/Output/jitter/coupling_filter/CD_DE_condition19_joint_fit_fixed_portion_11122021_multi_reg/univariate_filtertype2_951103488_951113191.pkl\n",
      "util.save_variable, save variable to:  D:/Brain_Network/Output/jitter/coupling_filter/CD_DE_condition19_joint_fit_fixed_portion_11122021_multi_reg/multivariate_filtertype2_951103488_951113191.pkl\n",
      "451it [1:27:27, 11.38s/it]util.save_variable, save variable to:  D:/Brain_Network/Output/jitter/coupling_filter/CD_DE_condition19_joint_fit_fixed_portion_11122021_multi_reg/univariate_filtertype2_951103488_951113175.pkl\n",
      "util.save_variable, save variable to:  D:/Brain_Network/Output/jitter/coupling_filter/CD_DE_condition19_joint_fit_fixed_portion_11122021_multi_reg/multivariate_filtertype2_951103488_951113175.pkl\n",
      "452it [1:27:38, 11.38s/it]util.save_variable, save variable to:  D:/Brain_Network/Output/jitter/coupling_filter/CD_DE_condition19_joint_fit_fixed_portion_11122021_multi_reg/univariate_filtertype2_951103488_951113141.pkl\n",
      "util.save_variable, save variable to:  D:/Brain_Network/Output/jitter/coupling_filter/CD_DE_condition19_joint_fit_fixed_portion_11122021_multi_reg/multivariate_filtertype2_951103488_951113141.pkl\n",
      "453it [1:27:48, 10.97s/it]util.save_variable, save variable to:  D:/Brain_Network/Output/jitter/coupling_filter/CD_DE_condition19_joint_fit_fixed_portion_11122021_multi_reg/univariate_filtertype2_951103488_951113271.pkl\n",
      "util.save_variable, save variable to:  D:/Brain_Network/Output/jitter/coupling_filter/CD_DE_condition19_joint_fit_fixed_portion_11122021_multi_reg/multivariate_filtertype2_951103488_951113271.pkl\n",
      "454it [1:28:16, 16.08s/it]util.save_variable, save variable to:  D:/Brain_Network/Output/jitter/coupling_filter/CD_DE_condition19_joint_fit_fixed_portion_11122021_multi_reg/univariate_filtertype2_951103488_951113211.pkl\n",
      "util.save_variable, save variable to:  D:/Brain_Network/Output/jitter/coupling_filter/CD_DE_condition19_joint_fit_fixed_portion_11122021_multi_reg/multivariate_filtertype2_951103488_951113211.pkl\n",
      "455it [1:28:28, 14.68s/it]"
     ]
    },
    {
     "name": "stderr",
     "output_type": "stream",
     "text": [
      "D:/Brain_Network/Code\\jitter.py:4063: RuntimeWarning: invalid value encountered in matmul\n",
      "  lmbd = X @ (beta + beta_offset) + offset\n",
      "D:/Brain_Network/Code\\jitter.py:4065: RuntimeWarning: invalid value encountered in matmul\n",
      "  lmbd_integral = basis_integral.T @ (beta + beta_offset) + offset_integral\n",
      "D:/Brain_Network/Code\\jitter.py:4090: RuntimeWarning: invalid value encountered in subtract\n",
      "  beta_err = np.sum(np.abs(beta_old - beta))\n"
     ]
    },
    {
     "name": "stdout",
     "output_type": "stream",
     "text": [
      "util.save_variable, save variable to:  D:/Brain_Network/Output/jitter/coupling_filter/CD_DE_condition19_joint_fit_fixed_portion_11122021_multi_reg/univariate_filtertype2_951103488_951113240.pkl\n",
      "util.save_variable, save variable to:  D:/Brain_Network/Output/jitter/coupling_filter/CD_DE_condition19_joint_fit_fixed_portion_11122021_multi_reg/multivariate_filtertype2_951103488_951113240.pkl\n",
      "456it [1:28:36, 12.83s/it]util.save_variable, save variable to:  D:/Brain_Network/Output/jitter/coupling_filter/CD_DE_condition19_joint_fit_fixed_portion_11122021_multi_reg/univariate_filtertype2_951103488_951113464.pkl\n",
      "util.save_variable, save variable to:  D:/Brain_Network/Output/jitter/coupling_filter/CD_DE_condition19_joint_fit_fixed_portion_11122021_multi_reg/multivariate_filtertype2_951103488_951113464.pkl\n",
      "457it [1:28:49, 12.95s/it]"
     ]
    },
    {
     "name": "stderr",
     "output_type": "stream",
     "text": [
      "D:/Brain_Network/Code\\jitter.py:4063: RuntimeWarning: invalid value encountered in matmul\n",
      "  lmbd = X @ (beta + beta_offset) + offset\n",
      "D:/Brain_Network/Code\\jitter.py:4065: RuntimeWarning: invalid value encountered in matmul\n",
      "  lmbd_integral = basis_integral.T @ (beta + beta_offset) + offset_integral\n",
      "D:/Brain_Network/Code\\jitter.py:4090: RuntimeWarning: invalid value encountered in subtract\n",
      "  beta_err = np.sum(np.abs(beta_old - beta))\n"
     ]
    },
    {
     "name": "stdout",
     "output_type": "stream",
     "text": [
      "util.save_variable, save variable to:  D:/Brain_Network/Output/jitter/coupling_filter/CD_DE_condition19_joint_fit_fixed_portion_11122021_multi_reg/univariate_filtertype2_951103488_951113514.pkl\n",
      "util.save_variable, save variable to:  D:/Brain_Network/Output/jitter/coupling_filter/CD_DE_condition19_joint_fit_fixed_portion_11122021_multi_reg/multivariate_filtertype2_951103488_951113514.pkl\n",
      "458it [1:28:59, 11.91s/it]util.save_variable, save variable to:  D:/Brain_Network/Output/jitter/coupling_filter/CD_DE_condition19_joint_fit_fixed_portion_11122021_multi_reg/univariate_filtertype2_951103488_951113717.pkl\n",
      "util.save_variable, save variable to:  D:/Brain_Network/Output/jitter/coupling_filter/CD_DE_condition19_joint_fit_fixed_portion_11122021_multi_reg/multivariate_filtertype2_951103488_951113717.pkl\n",
      "459it [1:29:08, 11.19s/it]util.save_variable, save variable to:  D:/Brain_Network/Output/jitter/coupling_filter/CD_DE_condition19_joint_fit_fixed_portion_11122021_multi_reg/univariate_filtertype2_951103530_951112464.pkl\n",
      "util.save_variable, save variable to:  D:/Brain_Network/Output/jitter/coupling_filter/CD_DE_condition19_joint_fit_fixed_portion_11122021_multi_reg/multivariate_filtertype2_951103530_951112464.pkl\n",
      "460it [1:29:19, 10.98s/it]util.save_variable, save variable to:  D:/Brain_Network/Output/jitter/coupling_filter/CD_DE_condition19_joint_fit_fixed_portion_11122021_multi_reg/univariate_filtertype2_951103530_951112448.pkl\n",
      "util.save_variable, save variable to:  D:/Brain_Network/Output/jitter/coupling_filter/CD_DE_condition19_joint_fit_fixed_portion_11122021_multi_reg/multivariate_filtertype2_951103530_951112448.pkl\n",
      "461it [1:29:31, 11.35s/it]"
     ]
    },
    {
     "name": "stderr",
     "output_type": "stream",
     "text": [
      "D:/Brain_Network/Code\\jitter.py:4063: RuntimeWarning: invalid value encountered in matmul\n",
      "  lmbd = X @ (beta + beta_offset) + offset\n",
      "D:/Brain_Network/Code\\jitter.py:4065: RuntimeWarning: invalid value encountered in matmul\n",
      "  lmbd_integral = basis_integral.T @ (beta + beta_offset) + offset_integral\n",
      "D:/Brain_Network/Code\\jitter.py:4090: RuntimeWarning: invalid value encountered in subtract\n",
      "  beta_err = np.sum(np.abs(beta_old - beta))\n"
     ]
    },
    {
     "name": "stdout",
     "output_type": "stream",
     "text": [
      "util.save_variable, save variable to:  D:/Brain_Network/Output/jitter/coupling_filter/CD_DE_condition19_joint_fit_fixed_portion_11122021_multi_reg/univariate_filtertype2_951103530_951112431.pkl\n",
      "util.save_variable, save variable to:  D:/Brain_Network/Output/jitter/coupling_filter/CD_DE_condition19_joint_fit_fixed_portion_11122021_multi_reg/multivariate_filtertype2_951103530_951112431.pkl\n",
      "462it [1:29:43, 11.42s/it]"
     ]
    },
    {
     "name": "stderr",
     "output_type": "stream",
     "text": [
      "D:/Brain_Network/Code\\jitter.py:4063: RuntimeWarning: invalid value encountered in matmul\n",
      "  lmbd = X @ (beta + beta_offset) + offset\n",
      "D:/Brain_Network/Code\\jitter.py:4065: RuntimeWarning: invalid value encountered in matmul\n",
      "  lmbd_integral = basis_integral.T @ (beta + beta_offset) + offset_integral\n",
      "D:/Brain_Network/Code\\jitter.py:4090: RuntimeWarning: invalid value encountered in subtract\n",
      "  beta_err = np.sum(np.abs(beta_old - beta))\n"
     ]
    },
    {
     "name": "stdout",
     "output_type": "stream",
     "text": [
      "util.save_variable, save variable to:  D:/Brain_Network/Output/jitter/coupling_filter/CD_DE_condition19_joint_fit_fixed_portion_11122021_multi_reg/univariate_filtertype2_951103530_951112416.pkl\n",
      "util.save_variable, save variable to:  D:/Brain_Network/Output/jitter/coupling_filter/CD_DE_condition19_joint_fit_fixed_portion_11122021_multi_reg/multivariate_filtertype2_951103530_951112416.pkl\n",
      "463it [1:29:53, 11.05s/it]"
     ]
    },
    {
     "name": "stderr",
     "output_type": "stream",
     "text": [
      "D:/Brain_Network/Code\\jitter.py:4063: RuntimeWarning: invalid value encountered in matmul\n",
      "  lmbd = X @ (beta + beta_offset) + offset\n",
      "D:/Brain_Network/Code\\jitter.py:4065: RuntimeWarning: invalid value encountered in matmul\n",
      "  lmbd_integral = basis_integral.T @ (beta + beta_offset) + offset_integral\n",
      "D:/Brain_Network/Code\\jitter.py:4090: RuntimeWarning: invalid value encountered in subtract\n",
      "  beta_err = np.sum(np.abs(beta_old - beta))\n"
     ]
    },
    {
     "name": "stdout",
     "output_type": "stream",
     "text": [
      "util.save_variable, save variable to:  D:/Brain_Network/Output/jitter/coupling_filter/CD_DE_condition19_joint_fit_fixed_portion_11122021_multi_reg/univariate_filtertype2_951103530_951112479.pkl\n",
      "util.save_variable, save variable to:  D:/Brain_Network/Output/jitter/coupling_filter/CD_DE_condition19_joint_fit_fixed_portion_11122021_multi_reg/multivariate_filtertype2_951103530_951112479.pkl\n",
      "464it [1:30:05, 11.37s/it]util.save_variable, save variable to:  D:/Brain_Network/Output/jitter/coupling_filter/CD_DE_condition19_joint_fit_fixed_portion_11122021_multi_reg/univariate_filtertype2_951103530_951112638.pkl\n",
      "util.save_variable, save variable to:  D:/Brain_Network/Output/jitter/coupling_filter/CD_DE_condition19_joint_fit_fixed_portion_11122021_multi_reg/multivariate_filtertype2_951103530_951112638.pkl\n",
      "465it [1:30:20, 12.53s/it]util.save_variable, save variable to:  D:/Brain_Network/Output/jitter/coupling_filter/CD_DE_condition19_joint_fit_fixed_portion_11122021_multi_reg/univariate_filtertype2_951103530_951112590.pkl\n",
      "util.save_variable, save variable to:  D:/Brain_Network/Output/jitter/coupling_filter/CD_DE_condition19_joint_fit_fixed_portion_11122021_multi_reg/multivariate_filtertype2_951103530_951112590.pkl\n",
      "466it [1:30:31, 11.89s/it]util.save_variable, save variable to:  D:/Brain_Network/Output/jitter/coupling_filter/CD_DE_condition19_joint_fit_fixed_portion_11122021_multi_reg/univariate_filtertype2_951103530_951112712.pkl\n",
      "util.save_variable, save variable to:  D:/Brain_Network/Output/jitter/coupling_filter/CD_DE_condition19_joint_fit_fixed_portion_11122021_multi_reg/multivariate_filtertype2_951103530_951112712.pkl\n",
      "467it [1:30:54, 15.21s/it]util.save_variable, save variable to:  D:/Brain_Network/Output/jitter/coupling_filter/CD_DE_condition19_joint_fit_fixed_portion_11122021_multi_reg/univariate_filtertype2_951103530_951112786.pkl\n",
      "util.save_variable, save variable to:  D:/Brain_Network/Output/jitter/coupling_filter/CD_DE_condition19_joint_fit_fixed_portion_11122021_multi_reg/multivariate_filtertype2_951103530_951112786.pkl\n",
      "468it [1:31:04, 13.74s/it]util.save_variable, save variable to:  D:/Brain_Network/Output/jitter/coupling_filter/CD_DE_condition19_joint_fit_fixed_portion_11122021_multi_reg/univariate_filtertype2_951103530_951112780.pkl\n",
      "util.save_variable, save variable to:  D:/Brain_Network/Output/jitter/coupling_filter/CD_DE_condition19_joint_fit_fixed_portion_11122021_multi_reg/multivariate_filtertype2_951103530_951112780.pkl\n",
      "469it [1:31:12, 12.01s/it]"
     ]
    },
    {
     "name": "stderr",
     "output_type": "stream",
     "text": [
      "D:/Brain_Network/Code\\jitter.py:8323: UserWarning: Reach max itrs 500. Last err:1.100e-03\n",
      "  warnings.warn(f'Reach max itrs {max_num_itrs}. Last err:{beta_err:.3e}')\n"
     ]
    },
    {
     "name": "stdout",
     "output_type": "stream",
     "text": [
      "util.save_variable, save variable to:  D:/Brain_Network/Output/jitter/coupling_filter/CD_DE_condition19_joint_fit_fixed_portion_11122021_multi_reg/univariate_filtertype2_951103530_951112768.pkl\n",
      "util.save_variable, save variable to:  D:/Brain_Network/Output/jitter/coupling_filter/CD_DE_condition19_joint_fit_fixed_portion_11122021_multi_reg/multivariate_filtertype2_951103530_951112768.pkl\n",
      "470it [1:31:31, 14.23s/it]util.save_variable, save variable to:  D:/Brain_Network/Output/jitter/coupling_filter/CD_DE_condition19_joint_fit_fixed_portion_11122021_multi_reg/univariate_filtertype2_951103530_951112845.pkl\n",
      "util.save_variable, save variable to:  D:/Brain_Network/Output/jitter/coupling_filter/CD_DE_condition19_joint_fit_fixed_portion_11122021_multi_reg/multivariate_filtertype2_951103530_951112845.pkl\n",
      "471it [1:31:40, 12.62s/it]util.save_variable, save variable to:  D:/Brain_Network/Output/jitter/coupling_filter/CD_DE_condition19_joint_fit_fixed_portion_11122021_multi_reg/univariate_filtertype2_951103530_951112906.pkl\n",
      "util.save_variable, save variable to:  D:/Brain_Network/Output/jitter/coupling_filter/CD_DE_condition19_joint_fit_fixed_portion_11122021_multi_reg/multivariate_filtertype2_951103530_951112906.pkl\n",
      "472it [1:31:50, 11.72s/it]"
     ]
    },
    {
     "name": "stderr",
     "output_type": "stream",
     "text": [
      "D:/Brain_Network/Code\\jitter.py:4063: RuntimeWarning: invalid value encountered in matmul\n",
      "  lmbd = X @ (beta + beta_offset) + offset\n",
      "D:/Brain_Network/Code\\jitter.py:4065: RuntimeWarning: invalid value encountered in matmul\n",
      "  lmbd_integral = basis_integral.T @ (beta + beta_offset) + offset_integral\n",
      "D:/Brain_Network/Code\\jitter.py:4090: RuntimeWarning: invalid value encountered in subtract\n",
      "  beta_err = np.sum(np.abs(beta_old - beta))\n"
     ]
    },
    {
     "name": "stdout",
     "output_type": "stream",
     "text": [
      "util.save_variable, save variable to:  D:/Brain_Network/Output/jitter/coupling_filter/CD_DE_condition19_joint_fit_fixed_portion_11122021_multi_reg/univariate_filtertype2_951103530_951112937.pkl\n",
      "util.save_variable, save variable to:  D:/Brain_Network/Output/jitter/coupling_filter/CD_DE_condition19_joint_fit_fixed_portion_11122021_multi_reg/multivariate_filtertype2_951103530_951112937.pkl\n",
      "473it [1:31:59, 11.09s/it]util.save_variable, save variable to:  D:/Brain_Network/Output/jitter/coupling_filter/CD_DE_condition19_joint_fit_fixed_portion_11122021_multi_reg/univariate_filtertype2_951103530_951112992.pkl\n",
      "util.save_variable, save variable to:  D:/Brain_Network/Output/jitter/coupling_filter/CD_DE_condition19_joint_fit_fixed_portion_11122021_multi_reg/multivariate_filtertype2_951103530_951112992.pkl\n",
      "474it [1:32:15, 12.52s/it]"
     ]
    },
    {
     "name": "stderr",
     "output_type": "stream",
     "text": [
      "D:/Brain_Network/Code\\jitter.py:4063: RuntimeWarning: invalid value encountered in matmul\n",
      "  lmbd = X @ (beta + beta_offset) + offset\n",
      "D:/Brain_Network/Code\\jitter.py:4065: RuntimeWarning: invalid value encountered in matmul\n",
      "  lmbd_integral = basis_integral.T @ (beta + beta_offset) + offset_integral\n",
      "D:/Brain_Network/Code\\jitter.py:4090: RuntimeWarning: invalid value encountered in subtract\n",
      "  beta_err = np.sum(np.abs(beta_old - beta))\n"
     ]
    },
    {
     "name": "stdout",
     "output_type": "stream",
     "text": [
      "util.save_variable, save variable to:  D:/Brain_Network/Output/jitter/coupling_filter/CD_DE_condition19_joint_fit_fixed_portion_11122021_multi_reg/univariate_filtertype2_951103530_951113075.pkl\n",
      "util.save_variable, save variable to:  D:/Brain_Network/Output/jitter/coupling_filter/CD_DE_condition19_joint_fit_fixed_portion_11122021_multi_reg/multivariate_filtertype2_951103530_951113075.pkl\n",
      "475it [1:32:25, 11.84s/it]util.save_variable, save variable to:  D:/Brain_Network/Output/jitter/coupling_filter/CD_DE_condition19_joint_fit_fixed_portion_11122021_multi_reg/univariate_filtertype2_951103530_951113056.pkl\n",
      "util.save_variable, save variable to:  D:/Brain_Network/Output/jitter/coupling_filter/CD_DE_condition19_joint_fit_fixed_portion_11122021_multi_reg/multivariate_filtertype2_951103530_951113056.pkl\n",
      "476it [1:32:35, 11.08s/it]util.save_variable, save variable to:  D:/Brain_Network/Output/jitter/coupling_filter/CD_DE_condition19_joint_fit_fixed_portion_11122021_multi_reg/univariate_filtertype2_951103530_951113039.pkl\n",
      "util.save_variable, save variable to:  D:/Brain_Network/Output/jitter/coupling_filter/CD_DE_condition19_joint_fit_fixed_portion_11122021_multi_reg/multivariate_filtertype2_951103530_951113039.pkl\n",
      "477it [1:32:52, 13.07s/it]util.save_variable, save variable to:  D:/Brain_Network/Output/jitter/coupling_filter/CD_DE_condition19_joint_fit_fixed_portion_11122021_multi_reg/univariate_filtertype2_951103530_951113191.pkl\n",
      "util.save_variable, save variable to:  D:/Brain_Network/Output/jitter/coupling_filter/CD_DE_condition19_joint_fit_fixed_portion_11122021_multi_reg/multivariate_filtertype2_951103530_951113191.pkl\n",
      "478it [1:33:02, 12.12s/it]util.save_variable, save variable to:  D:/Brain_Network/Output/jitter/coupling_filter/CD_DE_condition19_joint_fit_fixed_portion_11122021_multi_reg/univariate_filtertype2_951103530_951113175.pkl\n",
      "util.save_variable, save variable to:  D:/Brain_Network/Output/jitter/coupling_filter/CD_DE_condition19_joint_fit_fixed_portion_11122021_multi_reg/multivariate_filtertype2_951103530_951113175.pkl\n",
      "479it [1:33:14, 11.95s/it]util.save_variable, save variable to:  D:/Brain_Network/Output/jitter/coupling_filter/CD_DE_condition19_joint_fit_fixed_portion_11122021_multi_reg/univariate_filtertype2_951103530_951113141.pkl\n",
      "util.save_variable, save variable to:  D:/Brain_Network/Output/jitter/coupling_filter/CD_DE_condition19_joint_fit_fixed_portion_11122021_multi_reg/multivariate_filtertype2_951103530_951113141.pkl\n",
      "480it [1:33:26, 12.04s/it]util.save_variable, save variable to:  D:/Brain_Network/Output/jitter/coupling_filter/CD_DE_condition19_joint_fit_fixed_portion_11122021_multi_reg/univariate_filtertype2_951103530_951113271.pkl\n",
      "util.save_variable, save variable to:  D:/Brain_Network/Output/jitter/coupling_filter/CD_DE_condition19_joint_fit_fixed_portion_11122021_multi_reg/multivariate_filtertype2_951103530_951113271.pkl\n",
      "481it [1:33:55, 17.12s/it]"
     ]
    },
    {
     "name": "stderr",
     "output_type": "stream",
     "text": [
      "D:/Brain_Network/Code\\jitter.py:4063: RuntimeWarning: invalid value encountered in matmul\n",
      "  lmbd = X @ (beta + beta_offset) + offset\n",
      "D:/Brain_Network/Code\\jitter.py:4065: RuntimeWarning: invalid value encountered in matmul\n",
      "  lmbd_integral = basis_integral.T @ (beta + beta_offset) + offset_integral\n",
      "D:/Brain_Network/Code\\jitter.py:4090: RuntimeWarning: invalid value encountered in subtract\n",
      "  beta_err = np.sum(np.abs(beta_old - beta))\n"
     ]
    },
    {
     "name": "stdout",
     "output_type": "stream",
     "text": [
      "util.save_variable, save variable to:  D:/Brain_Network/Output/jitter/coupling_filter/CD_DE_condition19_joint_fit_fixed_portion_11122021_multi_reg/univariate_filtertype2_951103530_951113211.pkl\n",
      "util.save_variable, save variable to:  D:/Brain_Network/Output/jitter/coupling_filter/CD_DE_condition19_joint_fit_fixed_portion_11122021_multi_reg/multivariate_filtertype2_951103530_951113211.pkl\n",
      "482it [1:34:08, 15.74s/it]"
     ]
    },
    {
     "name": "stderr",
     "output_type": "stream",
     "text": [
      "D:/Brain_Network/Code\\jitter.py:4063: RuntimeWarning: invalid value encountered in matmul\n",
      "  lmbd = X @ (beta + beta_offset) + offset\n",
      "D:/Brain_Network/Code\\jitter.py:4065: RuntimeWarning: invalid value encountered in matmul\n",
      "  lmbd_integral = basis_integral.T @ (beta + beta_offset) + offset_integral\n",
      "D:/Brain_Network/Code\\jitter.py:4090: RuntimeWarning: invalid value encountered in subtract\n",
      "  beta_err = np.sum(np.abs(beta_old - beta))\n",
      "D:/Brain_Network/Code\\jitter.py:4075: RuntimeWarning: overflow encountered in matmul\n",
      "  delta = np.linalg.inv(hessian) @ gradient\n",
      "D:/Brain_Network/Code\\jitter.py:3298: RuntimeWarning: invalid value encountered in add\n",
      "  nll = -np.sum(np.log(lmbd_samples)) + lmbd_integral\n"
     ]
    },
    {
     "name": "stdout",
     "output_type": "stream",
     "text": [
      "util.save_variable, save variable to:  D:/Brain_Network/Output/jitter/coupling_filter/CD_DE_condition19_joint_fit_fixed_portion_11122021_multi_reg/univariate_filtertype2_951103530_951113240.pkl\n",
      "util.save_variable, save variable to:  D:/Brain_Network/Output/jitter/coupling_filter/CD_DE_condition19_joint_fit_fixed_portion_11122021_multi_reg/multivariate_filtertype2_951103530_951113240.pkl\n",
      "483it [1:34:16, 13.63s/it]util.save_variable, save variable to:  D:/Brain_Network/Output/jitter/coupling_filter/CD_DE_condition19_joint_fit_fixed_portion_11122021_multi_reg/univariate_filtertype2_951103530_951113464.pkl\n",
      "util.save_variable, save variable to:  D:/Brain_Network/Output/jitter/coupling_filter/CD_DE_condition19_joint_fit_fixed_portion_11122021_multi_reg/multivariate_filtertype2_951103530_951113464.pkl\n",
      "484it [1:34:31, 13.84s/it]util.save_variable, save variable to:  D:/Brain_Network/Output/jitter/coupling_filter/CD_DE_condition19_joint_fit_fixed_portion_11122021_multi_reg/univariate_filtertype2_951103530_951113514.pkl\n",
      "util.save_variable, save variable to:  D:/Brain_Network/Output/jitter/coupling_filter/CD_DE_condition19_joint_fit_fixed_portion_11122021_multi_reg/multivariate_filtertype2_951103530_951113514.pkl\n",
      "485it [1:34:41, 12.89s/it]util.save_variable, save variable to:  D:/Brain_Network/Output/jitter/coupling_filter/CD_DE_condition19_joint_fit_fixed_portion_11122021_multi_reg/univariate_filtertype2_951103530_951113717.pkl\n",
      "util.save_variable, save variable to:  D:/Brain_Network/Output/jitter/coupling_filter/CD_DE_condition19_joint_fit_fixed_portion_11122021_multi_reg/multivariate_filtertype2_951103530_951113717.pkl\n",
      "486it [1:34:51, 12.03s/it]util.save_variable, save variable to:  D:/Brain_Network/Output/jitter/coupling_filter/CD_DE_condition19_joint_fit_fixed_portion_11122021_multi_reg/univariate_filtertype2_951103632_951112464.pkl\n",
      "util.save_variable, save variable to:  D:/Brain_Network/Output/jitter/coupling_filter/CD_DE_condition19_joint_fit_fixed_portion_11122021_multi_reg/multivariate_filtertype2_951103632_951112464.pkl\n",
      "487it [1:34:59, 10.78s/it]util.save_variable, save variable to:  D:/Brain_Network/Output/jitter/coupling_filter/CD_DE_condition19_joint_fit_fixed_portion_11122021_multi_reg/univariate_filtertype2_951103632_951112448.pkl\n",
      "util.save_variable, save variable to:  D:/Brain_Network/Output/jitter/coupling_filter/CD_DE_condition19_joint_fit_fixed_portion_11122021_multi_reg/multivariate_filtertype2_951103632_951112448.pkl\n",
      "488it [1:35:08, 10.27s/it]"
     ]
    },
    {
     "name": "stderr",
     "output_type": "stream",
     "text": [
      "D:/Brain_Network/Code\\jitter.py:4075: RuntimeWarning: overflow encountered in matmul\n",
      "  delta = np.linalg.inv(hessian) @ gradient\n",
      "D:/Brain_Network/Code\\jitter.py:4090: RuntimeWarning: invalid value encountered in subtract\n",
      "  beta_err = np.sum(np.abs(beta_old - beta))\n",
      "D:/Brain_Network/Code\\jitter.py:4063: RuntimeWarning: invalid value encountered in matmul\n",
      "  lmbd = X @ (beta + beta_offset) + offset\n",
      "D:/Brain_Network/Code\\jitter.py:4065: RuntimeWarning: invalid value encountered in matmul\n",
      "  lmbd_integral = basis_integral.T @ (beta + beta_offset) + offset_integral\n"
     ]
    },
    {
     "name": "stdout",
     "output_type": "stream",
     "text": [
      "util.save_variable, save variable to:  D:/Brain_Network/Output/jitter/coupling_filter/CD_DE_condition19_joint_fit_fixed_portion_11122021_multi_reg/univariate_filtertype2_951103632_951112431.pkl\n",
      "util.save_variable, save variable to:  D:/Brain_Network/Output/jitter/coupling_filter/CD_DE_condition19_joint_fit_fixed_portion_11122021_multi_reg/multivariate_filtertype2_951103632_951112431.pkl\n",
      "489it [1:35:17,  9.83s/it]"
     ]
    },
    {
     "name": "stderr",
     "output_type": "stream",
     "text": [
      "D:/Brain_Network/Code\\jitter.py:4063: RuntimeWarning: invalid value encountered in matmul\n",
      "  lmbd = X @ (beta + beta_offset) + offset\n",
      "D:/Brain_Network/Code\\jitter.py:4065: RuntimeWarning: invalid value encountered in matmul\n",
      "  lmbd_integral = basis_integral.T @ (beta + beta_offset) + offset_integral\n",
      "D:/Brain_Network/Code\\jitter.py:4090: RuntimeWarning: invalid value encountered in subtract\n",
      "  beta_err = np.sum(np.abs(beta_old - beta))\n"
     ]
    },
    {
     "name": "stdout",
     "output_type": "stream",
     "text": [
      "util.save_variable, save variable to:  D:/Brain_Network/Output/jitter/coupling_filter/CD_DE_condition19_joint_fit_fixed_portion_11122021_multi_reg/univariate_filtertype2_951103632_951112416.pkl\n",
      "util.save_variable, save variable to:  D:/Brain_Network/Output/jitter/coupling_filter/CD_DE_condition19_joint_fit_fixed_portion_11122021_multi_reg/multivariate_filtertype2_951103632_951112416.pkl\n",
      "490it [1:35:25,  9.36s/it]util.save_variable, save variable to:  D:/Brain_Network/Output/jitter/coupling_filter/CD_DE_condition19_joint_fit_fixed_portion_11122021_multi_reg/univariate_filtertype2_951103632_951112479.pkl\n",
      "util.save_variable, save variable to:  D:/Brain_Network/Output/jitter/coupling_filter/CD_DE_condition19_joint_fit_fixed_portion_11122021_multi_reg/multivariate_filtertype2_951103632_951112479.pkl\n",
      "491it [1:35:35,  9.32s/it]"
     ]
    },
    {
     "name": "stderr",
     "output_type": "stream",
     "text": [
      "D:/Brain_Network/Code\\jitter.py:4063: RuntimeWarning: invalid value encountered in matmul\n",
      "  lmbd = X @ (beta + beta_offset) + offset\n",
      "D:/Brain_Network/Code\\jitter.py:4065: RuntimeWarning: invalid value encountered in matmul\n",
      "  lmbd_integral = basis_integral.T @ (beta + beta_offset) + offset_integral\n",
      "D:/Brain_Network/Code\\jitter.py:4090: RuntimeWarning: invalid value encountered in subtract\n",
      "  beta_err = np.sum(np.abs(beta_old - beta))\n"
     ]
    },
    {
     "name": "stdout",
     "output_type": "stream",
     "text": [
      "util.save_variable, save variable to:  D:/Brain_Network/Output/jitter/coupling_filter/CD_DE_condition19_joint_fit_fixed_portion_11122021_multi_reg/univariate_filtertype2_951103632_951112638.pkl\n",
      "util.save_variable, save variable to:  D:/Brain_Network/Output/jitter/coupling_filter/CD_DE_condition19_joint_fit_fixed_portion_11122021_multi_reg/multivariate_filtertype2_951103632_951112638.pkl\n",
      "492it [1:35:45,  9.49s/it]"
     ]
    },
    {
     "name": "stderr",
     "output_type": "stream",
     "text": [
      "D:/Brain_Network/Code\\jitter.py:4063: RuntimeWarning: invalid value encountered in matmul\n",
      "  lmbd = X @ (beta + beta_offset) + offset\n",
      "D:/Brain_Network/Code\\jitter.py:4065: RuntimeWarning: invalid value encountered in matmul\n",
      "  lmbd_integral = basis_integral.T @ (beta + beta_offset) + offset_integral\n",
      "D:/Brain_Network/Code\\jitter.py:4090: RuntimeWarning: invalid value encountered in subtract\n",
      "  beta_err = np.sum(np.abs(beta_old - beta))\n",
      "D:/Brain_Network/Code\\jitter.py:8323: UserWarning: Reach max itrs 100. Last err:1.176e+01\n",
      "  warnings.warn(f'Reach max itrs {max_num_itrs}. Last err:{beta_err:.3e}')\n"
     ]
    },
    {
     "name": "stdout",
     "output_type": "stream",
     "text": [
      "util.save_variable, save variable to:  D:/Brain_Network/Output/jitter/coupling_filter/CD_DE_condition19_joint_fit_fixed_portion_11122021_multi_reg/univariate_filtertype2_951103632_951112590.pkl\n",
      "util.save_variable, save variable to:  D:/Brain_Network/Output/jitter/coupling_filter/CD_DE_condition19_joint_fit_fixed_portion_11122021_multi_reg/multivariate_filtertype2_951103632_951112590.pkl\n",
      "493it [1:35:55,  9.84s/it]"
     ]
    },
    {
     "name": "stderr",
     "output_type": "stream",
     "text": [
      "D:/Brain_Network/Code\\jitter.py:8323: UserWarning: Reach max itrs 500. Last err:3.985e-01\n",
      "  warnings.warn(f'Reach max itrs {max_num_itrs}. Last err:{beta_err:.3e}')\n"
     ]
    },
    {
     "name": "stdout",
     "output_type": "stream",
     "text": [
      "util.save_variable, save variable to:  D:/Brain_Network/Output/jitter/coupling_filter/CD_DE_condition19_joint_fit_fixed_portion_11122021_multi_reg/univariate_filtertype2_951103632_951112712.pkl\n",
      "util.save_variable, save variable to:  D:/Brain_Network/Output/jitter/coupling_filter/CD_DE_condition19_joint_fit_fixed_portion_11122021_multi_reg/multivariate_filtertype2_951103632_951112712.pkl\n",
      "494it [1:36:10, 11.20s/it]"
     ]
    },
    {
     "name": "stderr",
     "output_type": "stream",
     "text": [
      "D:/Brain_Network/Code\\jitter.py:4063: RuntimeWarning: invalid value encountered in matmul\n",
      "  lmbd = X @ (beta + beta_offset) + offset\n",
      "D:/Brain_Network/Code\\jitter.py:4065: RuntimeWarning: invalid value encountered in matmul\n",
      "  lmbd_integral = basis_integral.T @ (beta + beta_offset) + offset_integral\n",
      "D:/Brain_Network/Code\\jitter.py:4090: RuntimeWarning: invalid value encountered in subtract\n",
      "  beta_err = np.sum(np.abs(beta_old - beta))\n"
     ]
    },
    {
     "name": "stdout",
     "output_type": "stream",
     "text": [
      "util.save_variable, save variable to:  D:/Brain_Network/Output/jitter/coupling_filter/CD_DE_condition19_joint_fit_fixed_portion_11122021_multi_reg/univariate_filtertype2_951103632_951112786.pkl\n",
      "util.save_variable, save variable to:  D:/Brain_Network/Output/jitter/coupling_filter/CD_DE_condition19_joint_fit_fixed_portion_11122021_multi_reg/multivariate_filtertype2_951103632_951112786.pkl\n",
      "495it [1:36:19, 10.64s/it]"
     ]
    },
    {
     "name": "stderr",
     "output_type": "stream",
     "text": [
      "D:/Brain_Network/Code\\jitter.py:4063: RuntimeWarning: invalid value encountered in matmul\n",
      "  lmbd = X @ (beta + beta_offset) + offset\n",
      "D:/Brain_Network/Code\\jitter.py:4065: RuntimeWarning: invalid value encountered in matmul\n",
      "  lmbd_integral = basis_integral.T @ (beta + beta_offset) + offset_integral\n",
      "D:/Brain_Network/Code\\jitter.py:4090: RuntimeWarning: invalid value encountered in subtract\n",
      "  beta_err = np.sum(np.abs(beta_old - beta))\n"
     ]
    },
    {
     "name": "stdout",
     "output_type": "stream",
     "text": [
      "util.save_variable, save variable to:  D:/Brain_Network/Output/jitter/coupling_filter/CD_DE_condition19_joint_fit_fixed_portion_11122021_multi_reg/univariate_filtertype2_951103632_951112780.pkl\n",
      "util.save_variable, save variable to:  D:/Brain_Network/Output/jitter/coupling_filter/CD_DE_condition19_joint_fit_fixed_portion_11122021_multi_reg/multivariate_filtertype2_951103632_951112780.pkl\n",
      "496it [1:36:24,  8.98s/it]"
     ]
    },
    {
     "name": "stderr",
     "output_type": "stream",
     "text": [
      "D:/Brain_Network/Code\\jitter.py:8323: UserWarning: Reach max itrs 500. Last err:3.160e+13\n",
      "  warnings.warn(f'Reach max itrs {max_num_itrs}. Last err:{beta_err:.3e}')\n",
      "D:/Brain_Network/Code\\jitter.py:4063: RuntimeWarning: invalid value encountered in matmul\n",
      "  lmbd = X @ (beta + beta_offset) + offset\n",
      "D:/Brain_Network/Code\\jitter.py:4065: RuntimeWarning: invalid value encountered in matmul\n",
      "  lmbd_integral = basis_integral.T @ (beta + beta_offset) + offset_integral\n",
      "D:/Brain_Network/Code\\jitter.py:4090: RuntimeWarning: invalid value encountered in subtract\n",
      "  beta_err = np.sum(np.abs(beta_old - beta))\n"
     ]
    },
    {
     "name": "stdout",
     "output_type": "stream",
     "text": [
      "util.save_variable, save variable to:  D:/Brain_Network/Output/jitter/coupling_filter/CD_DE_condition19_joint_fit_fixed_portion_11122021_multi_reg/univariate_filtertype2_951103632_951112768.pkl\n",
      "util.save_variable, save variable to:  D:/Brain_Network/Output/jitter/coupling_filter/CD_DE_condition19_joint_fit_fixed_portion_11122021_multi_reg/multivariate_filtertype2_951103632_951112768.pkl\n",
      "497it [1:36:36,  9.92s/it]"
     ]
    },
    {
     "name": "stderr",
     "output_type": "stream",
     "text": [
      "D:/Brain_Network/Code\\jitter.py:4090: RuntimeWarning: invalid value encountered in subtract\n",
      "  beta_err = np.sum(np.abs(beta_old - beta))\n",
      "D:/Brain_Network/Code\\jitter.py:4063: RuntimeWarning: invalid value encountered in matmul\n",
      "  lmbd = X @ (beta + beta_offset) + offset\n",
      "D:/Brain_Network/Code\\jitter.py:4065: RuntimeWarning: invalid value encountered in matmul\n",
      "  lmbd_integral = basis_integral.T @ (beta + beta_offset) + offset_integral\n"
     ]
    },
    {
     "name": "stdout",
     "output_type": "stream",
     "text": [
      "util.save_variable, save variable to:  D:/Brain_Network/Output/jitter/coupling_filter/CD_DE_condition19_joint_fit_fixed_portion_11122021_multi_reg/univariate_filtertype2_951103632_951112845.pkl\n",
      "util.save_variable, save variable to:  D:/Brain_Network/Output/jitter/coupling_filter/CD_DE_condition19_joint_fit_fixed_portion_11122021_multi_reg/multivariate_filtertype2_951103632_951112845.pkl\n",
      "498it [1:36:43,  8.94s/it]util.save_variable, save variable to:  D:/Brain_Network/Output/jitter/coupling_filter/CD_DE_condition19_joint_fit_fixed_portion_11122021_multi_reg/univariate_filtertype2_951103632_951112906.pkl\n",
      "util.save_variable, save variable to:  D:/Brain_Network/Output/jitter/coupling_filter/CD_DE_condition19_joint_fit_fixed_portion_11122021_multi_reg/multivariate_filtertype2_951103632_951112906.pkl\n",
      "499it [1:36:50,  8.53s/it]util.save_variable, save variable to:  D:/Brain_Network/Output/jitter/coupling_filter/CD_DE_condition19_joint_fit_fixed_portion_11122021_multi_reg/univariate_filtertype2_951103632_951112937.pkl\n",
      "util.save_variable, save variable to:  D:/Brain_Network/Output/jitter/coupling_filter/CD_DE_condition19_joint_fit_fixed_portion_11122021_multi_reg/multivariate_filtertype2_951103632_951112937.pkl\n",
      "500it [1:36:58,  8.35s/it]util.save_variable, save variable to:  D:/Brain_Network/Output/jitter/coupling_filter/CD_DE_condition19_joint_fit_fixed_portion_11122021_multi_reg/univariate_filtertype2_951103632_951112992.pkl\n",
      "util.save_variable, save variable to:  D:/Brain_Network/Output/jitter/coupling_filter/CD_DE_condition19_joint_fit_fixed_portion_11122021_multi_reg/multivariate_filtertype2_951103632_951112992.pkl\n",
      "501it [1:37:10,  9.50s/it]"
     ]
    },
    {
     "name": "stderr",
     "output_type": "stream",
     "text": [
      "D:/Brain_Network/Code\\jitter.py:4063: RuntimeWarning: invalid value encountered in matmul\n",
      "  lmbd = X @ (beta + beta_offset) + offset\n",
      "D:/Brain_Network/Code\\jitter.py:4065: RuntimeWarning: invalid value encountered in matmul\n",
      "  lmbd_integral = basis_integral.T @ (beta + beta_offset) + offset_integral\n",
      "D:/Brain_Network/Code\\jitter.py:4090: RuntimeWarning: invalid value encountered in subtract\n",
      "  beta_err = np.sum(np.abs(beta_old - beta))\n"
     ]
    },
    {
     "name": "stdout",
     "output_type": "stream",
     "text": [
      "util.save_variable, save variable to:  D:/Brain_Network/Output/jitter/coupling_filter/CD_DE_condition19_joint_fit_fixed_portion_11122021_multi_reg/univariate_filtertype2_951103632_951113075.pkl\n",
      "util.save_variable, save variable to:  D:/Brain_Network/Output/jitter/coupling_filter/CD_DE_condition19_joint_fit_fixed_portion_11122021_multi_reg/multivariate_filtertype2_951103632_951113075.pkl\n",
      "502it [1:37:19,  9.13s/it]"
     ]
    },
    {
     "name": "stderr",
     "output_type": "stream",
     "text": [
      "D:/Brain_Network/Code\\jitter.py:4063: RuntimeWarning: invalid value encountered in matmul\n",
      "  lmbd = X @ (beta + beta_offset) + offset\n",
      "D:/Brain_Network/Code\\jitter.py:4065: RuntimeWarning: invalid value encountered in matmul\n",
      "  lmbd_integral = basis_integral.T @ (beta + beta_offset) + offset_integral\n",
      "D:/Brain_Network/Code\\jitter.py:4090: RuntimeWarning: invalid value encountered in subtract\n",
      "  beta_err = np.sum(np.abs(beta_old - beta))\n"
     ]
    },
    {
     "name": "stdout",
     "output_type": "stream",
     "text": [
      "util.save_variable, save variable to:  D:/Brain_Network/Output/jitter/coupling_filter/CD_DE_condition19_joint_fit_fixed_portion_11122021_multi_reg/univariate_filtertype2_951103632_951113056.pkl\n",
      "util.save_variable, save variable to:  D:/Brain_Network/Output/jitter/coupling_filter/CD_DE_condition19_joint_fit_fixed_portion_11122021_multi_reg/multivariate_filtertype2_951103632_951113056.pkl\n",
      "503it [1:37:26,  8.65s/it]util.save_variable, save variable to:  D:/Brain_Network/Output/jitter/coupling_filter/CD_DE_condition19_joint_fit_fixed_portion_11122021_multi_reg/univariate_filtertype2_951103632_951113039.pkl\n",
      "util.save_variable, save variable to:  D:/Brain_Network/Output/jitter/coupling_filter/CD_DE_condition19_joint_fit_fixed_portion_11122021_multi_reg/multivariate_filtertype2_951103632_951113039.pkl\n",
      "504it [1:37:40, 10.14s/it]util.save_variable, save variable to:  D:/Brain_Network/Output/jitter/coupling_filter/CD_DE_condition19_joint_fit_fixed_portion_11122021_multi_reg/univariate_filtertype2_951103632_951113191.pkl\n",
      "util.save_variable, save variable to:  D:/Brain_Network/Output/jitter/coupling_filter/CD_DE_condition19_joint_fit_fixed_portion_11122021_multi_reg/multivariate_filtertype2_951103632_951113191.pkl\n",
      "505it [1:37:47,  9.38s/it]"
     ]
    },
    {
     "name": "stderr",
     "output_type": "stream",
     "text": [
      "D:/Brain_Network/Code\\jitter.py:4063: RuntimeWarning: invalid value encountered in matmul\n",
      "  lmbd = X @ (beta + beta_offset) + offset\n",
      "D:/Brain_Network/Code\\jitter.py:4065: RuntimeWarning: invalid value encountered in matmul\n",
      "  lmbd_integral = basis_integral.T @ (beta + beta_offset) + offset_integral\n",
      "D:/Brain_Network/Code\\jitter.py:4090: RuntimeWarning: invalid value encountered in subtract\n",
      "  beta_err = np.sum(np.abs(beta_old - beta))\n"
     ]
    },
    {
     "name": "stdout",
     "output_type": "stream",
     "text": [
      "util.save_variable, save variable to:  D:/Brain_Network/Output/jitter/coupling_filter/CD_DE_condition19_joint_fit_fixed_portion_11122021_multi_reg/univariate_filtertype2_951103632_951113175.pkl\n",
      "util.save_variable, save variable to:  D:/Brain_Network/Output/jitter/coupling_filter/CD_DE_condition19_joint_fit_fixed_portion_11122021_multi_reg/multivariate_filtertype2_951103632_951113175.pkl\n",
      "506it [1:37:56,  9.28s/it]util.save_variable, save variable to:  D:/Brain_Network/Output/jitter/coupling_filter/CD_DE_condition19_joint_fit_fixed_portion_11122021_multi_reg/univariate_filtertype2_951103632_951113141.pkl\n",
      "util.save_variable, save variable to:  D:/Brain_Network/Output/jitter/coupling_filter/CD_DE_condition19_joint_fit_fixed_portion_11122021_multi_reg/multivariate_filtertype2_951103632_951113141.pkl\n",
      "507it [1:38:06,  9.26s/it]util.save_variable, save variable to:  D:/Brain_Network/Output/jitter/coupling_filter/CD_DE_condition19_joint_fit_fixed_portion_11122021_multi_reg/univariate_filtertype2_951103632_951113271.pkl\n",
      "util.save_variable, save variable to:  D:/Brain_Network/Output/jitter/coupling_filter/CD_DE_condition19_joint_fit_fixed_portion_11122021_multi_reg/multivariate_filtertype2_951103632_951113271.pkl\n",
      "508it [1:38:23, 11.71s/it]"
     ]
    },
    {
     "name": "stderr",
     "output_type": "stream",
     "text": [
      "D:/Brain_Network/Code\\jitter.py:4063: RuntimeWarning: invalid value encountered in matmul\n",
      "  lmbd = X @ (beta + beta_offset) + offset\n",
      "D:/Brain_Network/Code\\jitter.py:4065: RuntimeWarning: invalid value encountered in matmul\n",
      "  lmbd_integral = basis_integral.T @ (beta + beta_offset) + offset_integral\n",
      "D:/Brain_Network/Code\\jitter.py:4090: RuntimeWarning: invalid value encountered in subtract\n",
      "  beta_err = np.sum(np.abs(beta_old - beta))\n"
     ]
    },
    {
     "name": "stdout",
     "output_type": "stream",
     "text": [
      "util.save_variable, save variable to:  D:/Brain_Network/Output/jitter/coupling_filter/CD_DE_condition19_joint_fit_fixed_portion_11122021_multi_reg/univariate_filtertype2_951103632_951113211.pkl\n",
      "util.save_variable, save variable to:  D:/Brain_Network/Output/jitter/coupling_filter/CD_DE_condition19_joint_fit_fixed_portion_11122021_multi_reg/multivariate_filtertype2_951103632_951113211.pkl\n",
      "509it [1:38:34, 11.31s/it]util.save_variable, save variable to:  D:/Brain_Network/Output/jitter/coupling_filter/CD_DE_condition19_joint_fit_fixed_portion_11122021_multi_reg/univariate_filtertype2_951103632_951113240.pkl\n",
      "util.save_variable, save variable to:  D:/Brain_Network/Output/jitter/coupling_filter/CD_DE_condition19_joint_fit_fixed_portion_11122021_multi_reg/multivariate_filtertype2_951103632_951113240.pkl\n",
      "510it [1:38:41, 10.30s/it]util.save_variable, save variable to:  D:/Brain_Network/Output/jitter/coupling_filter/CD_DE_condition19_joint_fit_fixed_portion_11122021_multi_reg/univariate_filtertype2_951103632_951113464.pkl\n",
      "util.save_variable, save variable to:  D:/Brain_Network/Output/jitter/coupling_filter/CD_DE_condition19_joint_fit_fixed_portion_11122021_multi_reg/multivariate_filtertype2_951103632_951113464.pkl\n",
      "511it [1:38:54, 10.83s/it]"
     ]
    },
    {
     "name": "stderr",
     "output_type": "stream",
     "text": [
      "D:/Brain_Network/Code\\jitter.py:4090: RuntimeWarning: invalid value encountered in subtract\n",
      "  beta_err = np.sum(np.abs(beta_old - beta))\n",
      "D:/Brain_Network/Code\\jitter.py:4063: RuntimeWarning: invalid value encountered in matmul\n",
      "  lmbd = X @ (beta + beta_offset) + offset\n",
      "D:/Brain_Network/Code\\jitter.py:4065: RuntimeWarning: invalid value encountered in matmul\n",
      "  lmbd_integral = basis_integral.T @ (beta + beta_offset) + offset_integral\n"
     ]
    },
    {
     "name": "stdout",
     "output_type": "stream",
     "text": [
      "util.save_variable, save variable to:  D:/Brain_Network/Output/jitter/coupling_filter/CD_DE_condition19_joint_fit_fixed_portion_11122021_multi_reg/univariate_filtertype2_951103632_951113514.pkl\n",
      "util.save_variable, save variable to:  D:/Brain_Network/Output/jitter/coupling_filter/CD_DE_condition19_joint_fit_fixed_portion_11122021_multi_reg/multivariate_filtertype2_951103632_951113514.pkl\n",
      "512it [1:39:03, 10.36s/it]util.save_variable, save variable to:  D:/Brain_Network/Output/jitter/coupling_filter/CD_DE_condition19_joint_fit_fixed_portion_11122021_multi_reg/univariate_filtertype2_951103632_951113717.pkl\n",
      "util.save_variable, save variable to:  D:/Brain_Network/Output/jitter/coupling_filter/CD_DE_condition19_joint_fit_fixed_portion_11122021_multi_reg/multivariate_filtertype2_951103632_951113717.pkl\n",
      "513it [1:39:11,  9.74s/it]util.save_variable, save variable to:  D:/Brain_Network/Output/jitter/coupling_filter/CD_DE_condition19_joint_fit_fixed_portion_11122021_multi_reg/univariate_filtertype2_951103624_951112464.pkl\n",
      "util.save_variable, save variable to:  D:/Brain_Network/Output/jitter/coupling_filter/CD_DE_condition19_joint_fit_fixed_portion_11122021_multi_reg/multivariate_filtertype2_951103624_951112464.pkl\n",
      "514it [1:39:21,  9.69s/it]util.save_variable, save variable to:  D:/Brain_Network/Output/jitter/coupling_filter/CD_DE_condition19_joint_fit_fixed_portion_11122021_multi_reg/univariate_filtertype2_951103624_951112448.pkl\n",
      "util.save_variable, save variable to:  D:/Brain_Network/Output/jitter/coupling_filter/CD_DE_condition19_joint_fit_fixed_portion_11122021_multi_reg/multivariate_filtertype2_951103624_951112448.pkl\n",
      "515it [1:39:31,  9.78s/it]util.save_variable, save variable to:  D:/Brain_Network/Output/jitter/coupling_filter/CD_DE_condition19_joint_fit_fixed_portion_11122021_multi_reg/univariate_filtertype2_951103624_951112431.pkl\n",
      "util.save_variable, save variable to:  D:/Brain_Network/Output/jitter/coupling_filter/CD_DE_condition19_joint_fit_fixed_portion_11122021_multi_reg/multivariate_filtertype2_951103624_951112431.pkl\n",
      "516it [1:39:43, 10.49s/it]"
     ]
    },
    {
     "name": "stderr",
     "output_type": "stream",
     "text": [
      "D:/Brain_Network/Code\\jitter.py:4063: RuntimeWarning: invalid value encountered in matmul\n",
      "  lmbd = X @ (beta + beta_offset) + offset\n",
      "D:/Brain_Network/Code\\jitter.py:4065: RuntimeWarning: invalid value encountered in matmul\n",
      "  lmbd_integral = basis_integral.T @ (beta + beta_offset) + offset_integral\n",
      "D:/Brain_Network/Code\\jitter.py:4090: RuntimeWarning: invalid value encountered in subtract\n",
      "  beta_err = np.sum(np.abs(beta_old - beta))\n"
     ]
    },
    {
     "name": "stdout",
     "output_type": "stream",
     "text": [
      "util.save_variable, save variable to:  D:/Brain_Network/Output/jitter/coupling_filter/CD_DE_condition19_joint_fit_fixed_portion_11122021_multi_reg/univariate_filtertype2_951103624_951112416.pkl\n",
      "util.save_variable, save variable to:  D:/Brain_Network/Output/jitter/coupling_filter/CD_DE_condition19_joint_fit_fixed_portion_11122021_multi_reg/multivariate_filtertype2_951103624_951112416.pkl\n",
      "517it [1:39:53, 10.32s/it]util.save_variable, save variable to:  D:/Brain_Network/Output/jitter/coupling_filter/CD_DE_condition19_joint_fit_fixed_portion_11122021_multi_reg/univariate_filtertype2_951103624_951112479.pkl\n",
      "util.save_variable, save variable to:  D:/Brain_Network/Output/jitter/coupling_filter/CD_DE_condition19_joint_fit_fixed_portion_11122021_multi_reg/multivariate_filtertype2_951103624_951112479.pkl\n",
      "518it [1:40:03, 10.39s/it]util.save_variable, save variable to:  D:/Brain_Network/Output/jitter/coupling_filter/CD_DE_condition19_joint_fit_fixed_portion_11122021_multi_reg/univariate_filtertype2_951103624_951112638.pkl\n",
      "util.save_variable, save variable to:  D:/Brain_Network/Output/jitter/coupling_filter/CD_DE_condition19_joint_fit_fixed_portion_11122021_multi_reg/multivariate_filtertype2_951103624_951112638.pkl\n",
      "519it [1:40:16, 11.22s/it]"
     ]
    },
    {
     "name": "stderr",
     "output_type": "stream",
     "text": [
      "D:/Brain_Network/Code\\jitter.py:4063: RuntimeWarning: invalid value encountered in matmul\n",
      "  lmbd = X @ (beta + beta_offset) + offset\n",
      "D:/Brain_Network/Code\\jitter.py:4065: RuntimeWarning: invalid value encountered in matmul\n",
      "  lmbd_integral = basis_integral.T @ (beta + beta_offset) + offset_integral\n",
      "D:/Brain_Network/Code\\jitter.py:4090: RuntimeWarning: invalid value encountered in subtract\n",
      "  beta_err = np.sum(np.abs(beta_old - beta))\n"
     ]
    },
    {
     "name": "stdout",
     "output_type": "stream",
     "text": [
      "util.save_variable, save variable to:  D:/Brain_Network/Output/jitter/coupling_filter/CD_DE_condition19_joint_fit_fixed_portion_11122021_multi_reg/univariate_filtertype2_951103624_951112590.pkl\n",
      "util.save_variable, save variable to:  D:/Brain_Network/Output/jitter/coupling_filter/CD_DE_condition19_joint_fit_fixed_portion_11122021_multi_reg/multivariate_filtertype2_951103624_951112590.pkl\n",
      "520it [1:40:26, 10.79s/it]util.save_variable, save variable to:  D:/Brain_Network/Output/jitter/coupling_filter/CD_DE_condition19_joint_fit_fixed_portion_11122021_multi_reg/univariate_filtertype2_951103624_951112712.pkl\n",
      "util.save_variable, save variable to:  D:/Brain_Network/Output/jitter/coupling_filter/CD_DE_condition19_joint_fit_fixed_portion_11122021_multi_reg/multivariate_filtertype2_951103624_951112712.pkl\n",
      "521it [1:40:45, 13.09s/it]util.save_variable, save variable to:  D:/Brain_Network/Output/jitter/coupling_filter/CD_DE_condition19_joint_fit_fixed_portion_11122021_multi_reg/univariate_filtertype2_951103624_951112786.pkl\n",
      "util.save_variable, save variable to:  D:/Brain_Network/Output/jitter/coupling_filter/CD_DE_condition19_joint_fit_fixed_portion_11122021_multi_reg/multivariate_filtertype2_951103624_951112786.pkl\n",
      "522it [1:40:55, 12.13s/it]"
     ]
    },
    {
     "name": "stderr",
     "output_type": "stream",
     "text": [
      "D:/Brain_Network/Code\\jitter.py:4063: RuntimeWarning: invalid value encountered in matmul\n",
      "  lmbd = X @ (beta + beta_offset) + offset\n",
      "D:/Brain_Network/Code\\jitter.py:4065: RuntimeWarning: invalid value encountered in matmul\n",
      "  lmbd_integral = basis_integral.T @ (beta + beta_offset) + offset_integral\n",
      "D:/Brain_Network/Code\\jitter.py:4090: RuntimeWarning: invalid value encountered in subtract\n",
      "  beta_err = np.sum(np.abs(beta_old - beta))\n"
     ]
    },
    {
     "name": "stdout",
     "output_type": "stream",
     "text": [
      "util.save_variable, save variable to:  D:/Brain_Network/Output/jitter/coupling_filter/CD_DE_condition19_joint_fit_fixed_portion_11122021_multi_reg/univariate_filtertype2_951103624_951112780.pkl\n",
      "util.save_variable, save variable to:  D:/Brain_Network/Output/jitter/coupling_filter/CD_DE_condition19_joint_fit_fixed_portion_11122021_multi_reg/multivariate_filtertype2_951103624_951112780.pkl\n",
      "523it [1:41:02, 10.66s/it]util.save_variable, save variable to:  D:/Brain_Network/Output/jitter/coupling_filter/CD_DE_condition19_joint_fit_fixed_portion_11122021_multi_reg/univariate_filtertype2_951103624_951112768.pkl\n",
      "util.save_variable, save variable to:  D:/Brain_Network/Output/jitter/coupling_filter/CD_DE_condition19_joint_fit_fixed_portion_11122021_multi_reg/multivariate_filtertype2_951103624_951112768.pkl\n",
      "524it [1:41:20, 12.81s/it]util.save_variable, save variable to:  D:/Brain_Network/Output/jitter/coupling_filter/CD_DE_condition19_joint_fit_fixed_portion_11122021_multi_reg/univariate_filtertype2_951103624_951112845.pkl\n",
      "util.save_variable, save variable to:  D:/Brain_Network/Output/jitter/coupling_filter/CD_DE_condition19_joint_fit_fixed_portion_11122021_multi_reg/multivariate_filtertype2_951103624_951112845.pkl\n",
      "525it [1:41:27, 11.32s/it]util.save_variable, save variable to:  D:/Brain_Network/Output/jitter/coupling_filter/CD_DE_condition19_joint_fit_fixed_portion_11122021_multi_reg/univariate_filtertype2_951103624_951112906.pkl\n",
      "util.save_variable, save variable to:  D:/Brain_Network/Output/jitter/coupling_filter/CD_DE_condition19_joint_fit_fixed_portion_11122021_multi_reg/multivariate_filtertype2_951103624_951112906.pkl\n",
      "526it [1:41:37, 10.74s/it]util.save_variable, save variable to:  D:/Brain_Network/Output/jitter/coupling_filter/CD_DE_condition19_joint_fit_fixed_portion_11122021_multi_reg/univariate_filtertype2_951103624_951112937.pkl\n",
      "util.save_variable, save variable to:  D:/Brain_Network/Output/jitter/coupling_filter/CD_DE_condition19_joint_fit_fixed_portion_11122021_multi_reg/multivariate_filtertype2_951103624_951112937.pkl\n",
      "527it [1:41:46, 10.23s/it]util.save_variable, save variable to:  D:/Brain_Network/Output/jitter/coupling_filter/CD_DE_condition19_joint_fit_fixed_portion_11122021_multi_reg/univariate_filtertype2_951103624_951112992.pkl\n",
      "util.save_variable, save variable to:  D:/Brain_Network/Output/jitter/coupling_filter/CD_DE_condition19_joint_fit_fixed_portion_11122021_multi_reg/multivariate_filtertype2_951103624_951112992.pkl\n",
      "528it [1:42:00, 11.28s/it]util.save_variable, save variable to:  D:/Brain_Network/Output/jitter/coupling_filter/CD_DE_condition19_joint_fit_fixed_portion_11122021_multi_reg/univariate_filtertype2_951103624_951113075.pkl\n",
      "util.save_variable, save variable to:  D:/Brain_Network/Output/jitter/coupling_filter/CD_DE_condition19_joint_fit_fixed_portion_11122021_multi_reg/multivariate_filtertype2_951103624_951113075.pkl\n",
      "529it [1:42:08, 10.53s/it]util.save_variable, save variable to:  D:/Brain_Network/Output/jitter/coupling_filter/CD_DE_condition19_joint_fit_fixed_portion_11122021_multi_reg/univariate_filtertype2_951103624_951113056.pkl\n",
      "util.save_variable, save variable to:  D:/Brain_Network/Output/jitter/coupling_filter/CD_DE_condition19_joint_fit_fixed_portion_11122021_multi_reg/multivariate_filtertype2_951103624_951113056.pkl\n",
      "530it [1:42:18, 10.32s/it]util.save_variable, save variable to:  D:/Brain_Network/Output/jitter/coupling_filter/CD_DE_condition19_joint_fit_fixed_portion_11122021_multi_reg/univariate_filtertype2_951103624_951113039.pkl\n",
      "util.save_variable, save variable to:  D:/Brain_Network/Output/jitter/coupling_filter/CD_DE_condition19_joint_fit_fixed_portion_11122021_multi_reg/multivariate_filtertype2_951103624_951113039.pkl\n",
      "531it [1:42:35, 12.12s/it]util.save_variable, save variable to:  D:/Brain_Network/Output/jitter/coupling_filter/CD_DE_condition19_joint_fit_fixed_portion_11122021_multi_reg/univariate_filtertype2_951103624_951113191.pkl\n",
      "util.save_variable, save variable to:  D:/Brain_Network/Output/jitter/coupling_filter/CD_DE_condition19_joint_fit_fixed_portion_11122021_multi_reg/multivariate_filtertype2_951103624_951113191.pkl\n",
      "532it [1:42:45, 11.52s/it]util.save_variable, save variable to:  D:/Brain_Network/Output/jitter/coupling_filter/CD_DE_condition19_joint_fit_fixed_portion_11122021_multi_reg/univariate_filtertype2_951103624_951113175.pkl\n",
      "util.save_variable, save variable to:  D:/Brain_Network/Output/jitter/coupling_filter/CD_DE_condition19_joint_fit_fixed_portion_11122021_multi_reg/multivariate_filtertype2_951103624_951113175.pkl\n",
      "533it [1:42:56, 11.47s/it]util.save_variable, save variable to:  D:/Brain_Network/Output/jitter/coupling_filter/CD_DE_condition19_joint_fit_fixed_portion_11122021_multi_reg/univariate_filtertype2_951103624_951113141.pkl\n",
      "util.save_variable, save variable to:  D:/Brain_Network/Output/jitter/coupling_filter/CD_DE_condition19_joint_fit_fixed_portion_11122021_multi_reg/multivariate_filtertype2_951103624_951113141.pkl\n",
      "534it [1:43:06, 11.06s/it]util.save_variable, save variable to:  D:/Brain_Network/Output/jitter/coupling_filter/CD_DE_condition19_joint_fit_fixed_portion_11122021_multi_reg/univariate_filtertype2_951103624_951113271.pkl\n",
      "util.save_variable, save variable to:  D:/Brain_Network/Output/jitter/coupling_filter/CD_DE_condition19_joint_fit_fixed_portion_11122021_multi_reg/multivariate_filtertype2_951103624_951113271.pkl\n",
      "535it [1:43:35, 16.30s/it]util.save_variable, save variable to:  D:/Brain_Network/Output/jitter/coupling_filter/CD_DE_condition19_joint_fit_fixed_portion_11122021_multi_reg/univariate_filtertype2_951103624_951113211.pkl\n",
      "util.save_variable, save variable to:  D:/Brain_Network/Output/jitter/coupling_filter/CD_DE_condition19_joint_fit_fixed_portion_11122021_multi_reg/multivariate_filtertype2_951103624_951113211.pkl\n",
      "536it [1:43:46, 14.77s/it]util.save_variable, save variable to:  D:/Brain_Network/Output/jitter/coupling_filter/CD_DE_condition19_joint_fit_fixed_portion_11122021_multi_reg/univariate_filtertype2_951103624_951113240.pkl\n",
      "util.save_variable, save variable to:  D:/Brain_Network/Output/jitter/coupling_filter/CD_DE_condition19_joint_fit_fixed_portion_11122021_multi_reg/multivariate_filtertype2_951103624_951113240.pkl\n",
      "537it [1:43:54, 12.89s/it]util.save_variable, save variable to:  D:/Brain_Network/Output/jitter/coupling_filter/CD_DE_condition19_joint_fit_fixed_portion_11122021_multi_reg/univariate_filtertype2_951103624_951113464.pkl\n",
      "util.save_variable, save variable to:  D:/Brain_Network/Output/jitter/coupling_filter/CD_DE_condition19_joint_fit_fixed_portion_11122021_multi_reg/multivariate_filtertype2_951103624_951113464.pkl\n",
      "538it [1:44:08, 13.20s/it]util.save_variable, save variable to:  D:/Brain_Network/Output/jitter/coupling_filter/CD_DE_condition19_joint_fit_fixed_portion_11122021_multi_reg/univariate_filtertype2_951103624_951113514.pkl\n",
      "util.save_variable, save variable to:  D:/Brain_Network/Output/jitter/coupling_filter/CD_DE_condition19_joint_fit_fixed_portion_11122021_multi_reg/multivariate_filtertype2_951103624_951113514.pkl\n",
      "539it [1:44:19, 12.32s/it]"
     ]
    },
    {
     "name": "stderr",
     "output_type": "stream",
     "text": [
      "D:/Brain_Network/Code\\jitter.py:4063: RuntimeWarning: invalid value encountered in matmul\n",
      "  lmbd = X @ (beta + beta_offset) + offset\n",
      "D:/Brain_Network/Code\\jitter.py:4065: RuntimeWarning: invalid value encountered in matmul\n",
      "  lmbd_integral = basis_integral.T @ (beta + beta_offset) + offset_integral\n",
      "D:/Brain_Network/Code\\jitter.py:4090: RuntimeWarning: invalid value encountered in subtract\n",
      "  beta_err = np.sum(np.abs(beta_old - beta))\n"
     ]
    },
    {
     "name": "stdout",
     "output_type": "stream",
     "text": [
      "util.save_variable, save variable to:  D:/Brain_Network/Output/jitter/coupling_filter/CD_DE_condition19_joint_fit_fixed_portion_11122021_multi_reg/univariate_filtertype2_951103624_951113717.pkl\n",
      "util.save_variable, save variable to:  D:/Brain_Network/Output/jitter/coupling_filter/CD_DE_condition19_joint_fit_fixed_portion_11122021_multi_reg/multivariate_filtertype2_951103624_951113717.pkl\n",
      "540it [1:44:28, 11.58s/it]util.save_variable, save variable to:  D:/Brain_Network/Output/jitter/coupling_filter/CD_DE_condition19_joint_fit_fixed_portion_11122021_multi_reg/univariate_filtertype2_951103508_951112464.pkl\n",
      "util.save_variable, save variable to:  D:/Brain_Network/Output/jitter/coupling_filter/CD_DE_condition19_joint_fit_fixed_portion_11122021_multi_reg/multivariate_filtertype2_951103508_951112464.pkl\n",
      "541it [1:44:38, 10.91s/it]util.save_variable, save variable to:  D:/Brain_Network/Output/jitter/coupling_filter/CD_DE_condition19_joint_fit_fixed_portion_11122021_multi_reg/univariate_filtertype2_951103508_951112448.pkl\n",
      "util.save_variable, save variable to:  D:/Brain_Network/Output/jitter/coupling_filter/CD_DE_condition19_joint_fit_fixed_portion_11122021_multi_reg/multivariate_filtertype2_951103508_951112448.pkl\n",
      "542it [1:44:49, 11.06s/it]util.save_variable, save variable to:  D:/Brain_Network/Output/jitter/coupling_filter/CD_DE_condition19_joint_fit_fixed_portion_11122021_multi_reg/univariate_filtertype2_951103508_951112431.pkl\n",
      "util.save_variable, save variable to:  D:/Brain_Network/Output/jitter/coupling_filter/CD_DE_condition19_joint_fit_fixed_portion_11122021_multi_reg/multivariate_filtertype2_951103508_951112431.pkl\n",
      "543it [1:44:59, 10.73s/it]util.save_variable, save variable to:  D:/Brain_Network/Output/jitter/coupling_filter/CD_DE_condition19_joint_fit_fixed_portion_11122021_multi_reg/univariate_filtertype2_951103508_951112416.pkl\n",
      "util.save_variable, save variable to:  D:/Brain_Network/Output/jitter/coupling_filter/CD_DE_condition19_joint_fit_fixed_portion_11122021_multi_reg/multivariate_filtertype2_951103508_951112416.pkl\n",
      "544it [1:45:08, 10.20s/it]util.save_variable, save variable to:  D:/Brain_Network/Output/jitter/coupling_filter/CD_DE_condition19_joint_fit_fixed_portion_11122021_multi_reg/univariate_filtertype2_951103508_951112479.pkl\n",
      "util.save_variable, save variable to:  D:/Brain_Network/Output/jitter/coupling_filter/CD_DE_condition19_joint_fit_fixed_portion_11122021_multi_reg/multivariate_filtertype2_951103508_951112479.pkl\n",
      "545it [1:45:19, 10.38s/it]util.save_variable, save variable to:  D:/Brain_Network/Output/jitter/coupling_filter/CD_DE_condition19_joint_fit_fixed_portion_11122021_multi_reg/univariate_filtertype2_951103508_951112638.pkl\n",
      "util.save_variable, save variable to:  D:/Brain_Network/Output/jitter/coupling_filter/CD_DE_condition19_joint_fit_fixed_portion_11122021_multi_reg/multivariate_filtertype2_951103508_951112638.pkl\n",
      "546it [1:45:31, 10.84s/it]util.save_variable, save variable to:  D:/Brain_Network/Output/jitter/coupling_filter/CD_DE_condition19_joint_fit_fixed_portion_11122021_multi_reg/univariate_filtertype2_951103508_951112590.pkl\n",
      "util.save_variable, save variable to:  D:/Brain_Network/Output/jitter/coupling_filter/CD_DE_condition19_joint_fit_fixed_portion_11122021_multi_reg/multivariate_filtertype2_951103508_951112590.pkl\n",
      "547it [1:45:42, 11.08s/it]util.save_variable, save variable to:  D:/Brain_Network/Output/jitter/coupling_filter/CD_DE_condition19_joint_fit_fixed_portion_11122021_multi_reg/univariate_filtertype2_951103508_951112712.pkl\n",
      "util.save_variable, save variable to:  D:/Brain_Network/Output/jitter/coupling_filter/CD_DE_condition19_joint_fit_fixed_portion_11122021_multi_reg/multivariate_filtertype2_951103508_951112712.pkl\n",
      "548it [1:46:03, 13.89s/it]util.save_variable, save variable to:  D:/Brain_Network/Output/jitter/coupling_filter/CD_DE_condition19_joint_fit_fixed_portion_11122021_multi_reg/univariate_filtertype2_951103508_951112786.pkl\n",
      "util.save_variable, save variable to:  D:/Brain_Network/Output/jitter/coupling_filter/CD_DE_condition19_joint_fit_fixed_portion_11122021_multi_reg/multivariate_filtertype2_951103508_951112786.pkl\n",
      "549it [1:46:13, 12.81s/it]"
     ]
    },
    {
     "name": "stderr",
     "output_type": "stream",
     "text": [
      "D:/Brain_Network/Code\\jitter.py:4063: RuntimeWarning: invalid value encountered in matmul\n",
      "  lmbd = X @ (beta + beta_offset) + offset\n",
      "D:/Brain_Network/Code\\jitter.py:4065: RuntimeWarning: invalid value encountered in matmul\n",
      "  lmbd_integral = basis_integral.T @ (beta + beta_offset) + offset_integral\n",
      "D:/Brain_Network/Code\\jitter.py:4090: RuntimeWarning: invalid value encountered in subtract\n",
      "  beta_err = np.sum(np.abs(beta_old - beta))\n"
     ]
    },
    {
     "name": "stdout",
     "output_type": "stream",
     "text": [
      "util.save_variable, save variable to:  D:/Brain_Network/Output/jitter/coupling_filter/CD_DE_condition19_joint_fit_fixed_portion_11122021_multi_reg/univariate_filtertype2_951103508_951112780.pkl\n",
      "util.save_variable, save variable to:  D:/Brain_Network/Output/jitter/coupling_filter/CD_DE_condition19_joint_fit_fixed_portion_11122021_multi_reg/multivariate_filtertype2_951103508_951112780.pkl\n",
      "550it [1:46:20, 11.13s/it]util.save_variable, save variable to:  D:/Brain_Network/Output/jitter/coupling_filter/CD_DE_condition19_joint_fit_fixed_portion_11122021_multi_reg/univariate_filtertype2_951103508_951112768.pkl\n",
      "util.save_variable, save variable to:  D:/Brain_Network/Output/jitter/coupling_filter/CD_DE_condition19_joint_fit_fixed_portion_11122021_multi_reg/multivariate_filtertype2_951103508_951112768.pkl\n",
      "551it [1:46:36, 12.53s/it]"
     ]
    },
    {
     "name": "stderr",
     "output_type": "stream",
     "text": [
      "D:/Brain_Network/Code\\jitter.py:4063: RuntimeWarning: invalid value encountered in matmul\n",
      "  lmbd = X @ (beta + beta_offset) + offset\n",
      "D:/Brain_Network/Code\\jitter.py:4065: RuntimeWarning: invalid value encountered in matmul\n",
      "  lmbd_integral = basis_integral.T @ (beta + beta_offset) + offset_integral\n",
      "D:/Brain_Network/Code\\jitter.py:4090: RuntimeWarning: invalid value encountered in subtract\n",
      "  beta_err = np.sum(np.abs(beta_old - beta))\n"
     ]
    },
    {
     "name": "stdout",
     "output_type": "stream",
     "text": [
      "util.save_variable, save variable to:  D:/Brain_Network/Output/jitter/coupling_filter/CD_DE_condition19_joint_fit_fixed_portion_11122021_multi_reg/univariate_filtertype2_951103508_951112845.pkl\n",
      "util.save_variable, save variable to:  D:/Brain_Network/Output/jitter/coupling_filter/CD_DE_condition19_joint_fit_fixed_portion_11122021_multi_reg/multivariate_filtertype2_951103508_951112845.pkl\n",
      "552it [1:46:44, 11.23s/it]"
     ]
    },
    {
     "name": "stderr",
     "output_type": "stream",
     "text": [
      "D:/Brain_Network/Code\\jitter.py:4063: RuntimeWarning: invalid value encountered in matmul\n",
      "  lmbd = X @ (beta + beta_offset) + offset\n",
      "D:/Brain_Network/Code\\jitter.py:4065: RuntimeWarning: invalid value encountered in matmul\n",
      "  lmbd_integral = basis_integral.T @ (beta + beta_offset) + offset_integral\n",
      "D:/Brain_Network/Code\\jitter.py:4090: RuntimeWarning: invalid value encountered in subtract\n",
      "  beta_err = np.sum(np.abs(beta_old - beta))\n"
     ]
    },
    {
     "name": "stdout",
     "output_type": "stream",
     "text": [
      "util.save_variable, save variable to:  D:/Brain_Network/Output/jitter/coupling_filter/CD_DE_condition19_joint_fit_fixed_portion_11122021_multi_reg/univariate_filtertype2_951103508_951112906.pkl\n",
      "util.save_variable, save variable to:  D:/Brain_Network/Output/jitter/coupling_filter/CD_DE_condition19_joint_fit_fixed_portion_11122021_multi_reg/multivariate_filtertype2_951103508_951112906.pkl\n",
      "553it [1:46:53, 10.40s/it]util.save_variable, save variable to:  D:/Brain_Network/Output/jitter/coupling_filter/CD_DE_condition19_joint_fit_fixed_portion_11122021_multi_reg/univariate_filtertype2_951103508_951112937.pkl\n",
      "util.save_variable, save variable to:  D:/Brain_Network/Output/jitter/coupling_filter/CD_DE_condition19_joint_fit_fixed_portion_11122021_multi_reg/multivariate_filtertype2_951103508_951112937.pkl\n",
      "554it [1:47:02, 10.07s/it]util.save_variable, save variable to:  D:/Brain_Network/Output/jitter/coupling_filter/CD_DE_condition19_joint_fit_fixed_portion_11122021_multi_reg/univariate_filtertype2_951103508_951112992.pkl\n",
      "util.save_variable, save variable to:  D:/Brain_Network/Output/jitter/coupling_filter/CD_DE_condition19_joint_fit_fixed_portion_11122021_multi_reg/multivariate_filtertype2_951103508_951112992.pkl\n",
      "555it [1:47:16, 11.30s/it]util.save_variable, save variable to:  D:/Brain_Network/Output/jitter/coupling_filter/CD_DE_condition19_joint_fit_fixed_portion_11122021_multi_reg/univariate_filtertype2_951103508_951113075.pkl\n",
      "util.save_variable, save variable to:  D:/Brain_Network/Output/jitter/coupling_filter/CD_DE_condition19_joint_fit_fixed_portion_11122021_multi_reg/multivariate_filtertype2_951103508_951113075.pkl\n",
      "556it [1:47:26, 10.78s/it]"
     ]
    },
    {
     "name": "stderr",
     "output_type": "stream",
     "text": [
      "D:/Brain_Network/Code\\jitter.py:4063: RuntimeWarning: invalid value encountered in matmul\n",
      "  lmbd = X @ (beta + beta_offset) + offset\n",
      "D:/Brain_Network/Code\\jitter.py:4065: RuntimeWarning: invalid value encountered in matmul\n",
      "  lmbd_integral = basis_integral.T @ (beta + beta_offset) + offset_integral\n",
      "D:/Brain_Network/Code\\jitter.py:4090: RuntimeWarning: invalid value encountered in subtract\n",
      "  beta_err = np.sum(np.abs(beta_old - beta))\n"
     ]
    },
    {
     "name": "stdout",
     "output_type": "stream",
     "text": [
      "util.save_variable, save variable to:  D:/Brain_Network/Output/jitter/coupling_filter/CD_DE_condition19_joint_fit_fixed_portion_11122021_multi_reg/univariate_filtertype2_951103508_951113056.pkl\n",
      "util.save_variable, save variable to:  D:/Brain_Network/Output/jitter/coupling_filter/CD_DE_condition19_joint_fit_fixed_portion_11122021_multi_reg/multivariate_filtertype2_951103508_951113056.pkl\n",
      "557it [1:47:35, 10.32s/it]util.save_variable, save variable to:  D:/Brain_Network/Output/jitter/coupling_filter/CD_DE_condition19_joint_fit_fixed_portion_11122021_multi_reg/univariate_filtertype2_951103508_951113039.pkl\n",
      "util.save_variable, save variable to:  D:/Brain_Network/Output/jitter/coupling_filter/CD_DE_condition19_joint_fit_fixed_portion_11122021_multi_reg/multivariate_filtertype2_951103508_951113039.pkl\n",
      "558it [1:47:55, 13.15s/it]util.save_variable, save variable to:  D:/Brain_Network/Output/jitter/coupling_filter/CD_DE_condition19_joint_fit_fixed_portion_11122021_multi_reg/univariate_filtertype2_951103508_951113191.pkl\n",
      "util.save_variable, save variable to:  D:/Brain_Network/Output/jitter/coupling_filter/CD_DE_condition19_joint_fit_fixed_portion_11122021_multi_reg/multivariate_filtertype2_951103508_951113191.pkl\n",
      "559it [1:48:07, 12.81s/it]util.save_variable, save variable to:  D:/Brain_Network/Output/jitter/coupling_filter/CD_DE_condition19_joint_fit_fixed_portion_11122021_multi_reg/univariate_filtertype2_951103508_951113175.pkl\n",
      "util.save_variable, save variable to:  D:/Brain_Network/Output/jitter/coupling_filter/CD_DE_condition19_joint_fit_fixed_portion_11122021_multi_reg/multivariate_filtertype2_951103508_951113175.pkl\n",
      "560it [1:48:19, 12.69s/it]util.save_variable, save variable to:  D:/Brain_Network/Output/jitter/coupling_filter/CD_DE_condition19_joint_fit_fixed_portion_11122021_multi_reg/univariate_filtertype2_951103508_951113141.pkl\n",
      "util.save_variable, save variable to:  D:/Brain_Network/Output/jitter/coupling_filter/CD_DE_condition19_joint_fit_fixed_portion_11122021_multi_reg/multivariate_filtertype2_951103508_951113141.pkl\n",
      "561it [1:48:30, 12.06s/it]util.save_variable, save variable to:  D:/Brain_Network/Output/jitter/coupling_filter/CD_DE_condition19_joint_fit_fixed_portion_11122021_multi_reg/univariate_filtertype2_951103508_951113271.pkl\n",
      "util.save_variable, save variable to:  D:/Brain_Network/Output/jitter/coupling_filter/CD_DE_condition19_joint_fit_fixed_portion_11122021_multi_reg/multivariate_filtertype2_951103508_951113271.pkl\n",
      "562it [1:49:00, 17.56s/it]"
     ]
    },
    {
     "name": "stderr",
     "output_type": "stream",
     "text": [
      "D:/Brain_Network/Code\\jitter.py:4063: RuntimeWarning: invalid value encountered in matmul\n",
      "  lmbd = X @ (beta + beta_offset) + offset\n",
      "D:/Brain_Network/Code\\jitter.py:4065: RuntimeWarning: invalid value encountered in matmul\n",
      "  lmbd_integral = basis_integral.T @ (beta + beta_offset) + offset_integral\n",
      "D:/Brain_Network/Code\\jitter.py:4090: RuntimeWarning: invalid value encountered in subtract\n",
      "  beta_err = np.sum(np.abs(beta_old - beta))\n"
     ]
    },
    {
     "name": "stdout",
     "output_type": "stream",
     "text": [
      "util.save_variable, save variable to:  D:/Brain_Network/Output/jitter/coupling_filter/CD_DE_condition19_joint_fit_fixed_portion_11122021_multi_reg/univariate_filtertype2_951103508_951113211.pkl\n",
      "util.save_variable, save variable to:  D:/Brain_Network/Output/jitter/coupling_filter/CD_DE_condition19_joint_fit_fixed_portion_11122021_multi_reg/multivariate_filtertype2_951103508_951113211.pkl\n",
      "563it [1:49:13, 16.05s/it]util.save_variable, save variable to:  D:/Brain_Network/Output/jitter/coupling_filter/CD_DE_condition19_joint_fit_fixed_portion_11122021_multi_reg/univariate_filtertype2_951103508_951113240.pkl\n",
      "util.save_variable, save variable to:  D:/Brain_Network/Output/jitter/coupling_filter/CD_DE_condition19_joint_fit_fixed_portion_11122021_multi_reg/multivariate_filtertype2_951103508_951113240.pkl\n",
      "564it [1:49:22, 13.88s/it]util.save_variable, save variable to:  D:/Brain_Network/Output/jitter/coupling_filter/CD_DE_condition19_joint_fit_fixed_portion_11122021_multi_reg/univariate_filtertype2_951103508_951113464.pkl\n",
      "util.save_variable, save variable to:  D:/Brain_Network/Output/jitter/coupling_filter/CD_DE_condition19_joint_fit_fixed_portion_11122021_multi_reg/multivariate_filtertype2_951103508_951113464.pkl\n",
      "565it [1:49:38, 14.59s/it]util.save_variable, save variable to:  D:/Brain_Network/Output/jitter/coupling_filter/CD_DE_condition19_joint_fit_fixed_portion_11122021_multi_reg/univariate_filtertype2_951103508_951113514.pkl\n",
      "util.save_variable, save variable to:  D:/Brain_Network/Output/jitter/coupling_filter/CD_DE_condition19_joint_fit_fixed_portion_11122021_multi_reg/multivariate_filtertype2_951103508_951113514.pkl\n",
      "566it [1:49:50, 13.75s/it]util.save_variable, save variable to:  D:/Brain_Network/Output/jitter/coupling_filter/CD_DE_condition19_joint_fit_fixed_portion_11122021_multi_reg/univariate_filtertype2_951103508_951113717.pkl\n",
      "util.save_variable, save variable to:  D:/Brain_Network/Output/jitter/coupling_filter/CD_DE_condition19_joint_fit_fixed_portion_11122021_multi_reg/multivariate_filtertype2_951103508_951113717.pkl\n",
      "567it [1:50:00, 12.73s/it]util.save_variable, save variable to:  D:/Brain_Network/Output/jitter/coupling_filter/CD_DE_condition19_joint_fit_fixed_portion_11122021_multi_reg/univariate_filtertype2_951103652_951112464.pkl\n",
      "util.save_variable, save variable to:  D:/Brain_Network/Output/jitter/coupling_filter/CD_DE_condition19_joint_fit_fixed_portion_11122021_multi_reg/multivariate_filtertype2_951103652_951112464.pkl\n",
      "568it [1:50:11, 12.26s/it]util.save_variable, save variable to:  D:/Brain_Network/Output/jitter/coupling_filter/CD_DE_condition19_joint_fit_fixed_portion_11122021_multi_reg/univariate_filtertype2_951103652_951112448.pkl\n",
      "util.save_variable, save variable to:  D:/Brain_Network/Output/jitter/coupling_filter/CD_DE_condition19_joint_fit_fixed_portion_11122021_multi_reg/multivariate_filtertype2_951103652_951112448.pkl\n",
      "569it [1:50:23, 12.06s/it]"
     ]
    },
    {
     "name": "stderr",
     "output_type": "stream",
     "text": [
      "D:/Brain_Network/Code\\jitter.py:4063: RuntimeWarning: invalid value encountered in matmul\n",
      "  lmbd = X @ (beta + beta_offset) + offset\n",
      "D:/Brain_Network/Code\\jitter.py:4065: RuntimeWarning: invalid value encountered in matmul\n",
      "  lmbd_integral = basis_integral.T @ (beta + beta_offset) + offset_integral\n",
      "D:/Brain_Network/Code\\jitter.py:4090: RuntimeWarning: invalid value encountered in subtract\n",
      "  beta_err = np.sum(np.abs(beta_old - beta))\n"
     ]
    },
    {
     "name": "stdout",
     "output_type": "stream",
     "text": [
      "util.save_variable, save variable to:  D:/Brain_Network/Output/jitter/coupling_filter/CD_DE_condition19_joint_fit_fixed_portion_11122021_multi_reg/univariate_filtertype2_951103652_951112431.pkl\n",
      "util.save_variable, save variable to:  D:/Brain_Network/Output/jitter/coupling_filter/CD_DE_condition19_joint_fit_fixed_portion_11122021_multi_reg/multivariate_filtertype2_951103652_951112431.pkl\n",
      "570it [1:50:35, 12.02s/it]util.save_variable, save variable to:  D:/Brain_Network/Output/jitter/coupling_filter/CD_DE_condition19_joint_fit_fixed_portion_11122021_multi_reg/univariate_filtertype2_951103652_951112416.pkl\n",
      "util.save_variable, save variable to:  D:/Brain_Network/Output/jitter/coupling_filter/CD_DE_condition19_joint_fit_fixed_portion_11122021_multi_reg/multivariate_filtertype2_951103652_951112416.pkl\n",
      "571it [1:50:45, 11.44s/it]"
     ]
    },
    {
     "name": "stderr",
     "output_type": "stream",
     "text": [
      "D:/Brain_Network/Code\\jitter.py:4063: RuntimeWarning: invalid value encountered in matmul\n",
      "  lmbd = X @ (beta + beta_offset) + offset\n",
      "D:/Brain_Network/Code\\jitter.py:4065: RuntimeWarning: invalid value encountered in matmul\n",
      "  lmbd_integral = basis_integral.T @ (beta + beta_offset) + offset_integral\n",
      "D:/Brain_Network/Code\\jitter.py:4090: RuntimeWarning: invalid value encountered in subtract\n",
      "  beta_err = np.sum(np.abs(beta_old - beta))\n"
     ]
    },
    {
     "name": "stdout",
     "output_type": "stream",
     "text": [
      "util.save_variable, save variable to:  D:/Brain_Network/Output/jitter/coupling_filter/CD_DE_condition19_joint_fit_fixed_portion_11122021_multi_reg/univariate_filtertype2_951103652_951112479.pkl\n",
      "util.save_variable, save variable to:  D:/Brain_Network/Output/jitter/coupling_filter/CD_DE_condition19_joint_fit_fixed_portion_11122021_multi_reg/multivariate_filtertype2_951103652_951112479.pkl\n",
      "572it [1:50:56, 11.30s/it]"
     ]
    },
    {
     "name": "stderr",
     "output_type": "stream",
     "text": [
      "D:/Brain_Network/Code\\jitter.py:4063: RuntimeWarning: invalid value encountered in matmul\n",
      "  lmbd = X @ (beta + beta_offset) + offset\n",
      "D:/Brain_Network/Code\\jitter.py:4065: RuntimeWarning: invalid value encountered in matmul\n",
      "  lmbd_integral = basis_integral.T @ (beta + beta_offset) + offset_integral\n",
      "D:/Brain_Network/Code\\jitter.py:4090: RuntimeWarning: invalid value encountered in subtract\n",
      "  beta_err = np.sum(np.abs(beta_old - beta))\n"
     ]
    },
    {
     "name": "stdout",
     "output_type": "stream",
     "text": [
      "util.save_variable, save variable to:  D:/Brain_Network/Output/jitter/coupling_filter/CD_DE_condition19_joint_fit_fixed_portion_11122021_multi_reg/univariate_filtertype2_951103652_951112638.pkl\n",
      "util.save_variable, save variable to:  D:/Brain_Network/Output/jitter/coupling_filter/CD_DE_condition19_joint_fit_fixed_portion_11122021_multi_reg/multivariate_filtertype2_951103652_951112638.pkl\n",
      "573it [1:51:10, 12.12s/it]"
     ]
    },
    {
     "name": "stderr",
     "output_type": "stream",
     "text": [
      "D:/Brain_Network/Code\\jitter.py:4063: RuntimeWarning: invalid value encountered in matmul\n",
      "  lmbd = X @ (beta + beta_offset) + offset\n",
      "D:/Brain_Network/Code\\jitter.py:4065: RuntimeWarning: invalid value encountered in matmul\n",
      "  lmbd_integral = basis_integral.T @ (beta + beta_offset) + offset_integral\n",
      "D:/Brain_Network/Code\\jitter.py:4090: RuntimeWarning: invalid value encountered in subtract\n",
      "  beta_err = np.sum(np.abs(beta_old - beta))\n"
     ]
    },
    {
     "name": "stdout",
     "output_type": "stream",
     "text": [
      "util.save_variable, save variable to:  D:/Brain_Network/Output/jitter/coupling_filter/CD_DE_condition19_joint_fit_fixed_portion_11122021_multi_reg/univariate_filtertype2_951103652_951112590.pkl\n",
      "util.save_variable, save variable to:  D:/Brain_Network/Output/jitter/coupling_filter/CD_DE_condition19_joint_fit_fixed_portion_11122021_multi_reg/multivariate_filtertype2_951103652_951112590.pkl\n",
      "574it [1:51:21, 11.85s/it]util.save_variable, save variable to:  D:/Brain_Network/Output/jitter/coupling_filter/CD_DE_condition19_joint_fit_fixed_portion_11122021_multi_reg/univariate_filtertype2_951103652_951112712.pkl\n",
      "util.save_variable, save variable to:  D:/Brain_Network/Output/jitter/coupling_filter/CD_DE_condition19_joint_fit_fixed_portion_11122021_multi_reg/multivariate_filtertype2_951103652_951112712.pkl\n",
      "575it [1:51:43, 14.94s/it]util.save_variable, save variable to:  D:/Brain_Network/Output/jitter/coupling_filter/CD_DE_condition19_joint_fit_fixed_portion_11122021_multi_reg/univariate_filtertype2_951103652_951112786.pkl\n",
      "util.save_variable, save variable to:  D:/Brain_Network/Output/jitter/coupling_filter/CD_DE_condition19_joint_fit_fixed_portion_11122021_multi_reg/multivariate_filtertype2_951103652_951112786.pkl\n",
      "576it [1:51:53, 13.36s/it]"
     ]
    },
    {
     "name": "stderr",
     "output_type": "stream",
     "text": [
      "D:/Brain_Network/Code\\jitter.py:4063: RuntimeWarning: invalid value encountered in matmul\n",
      "  lmbd = X @ (beta + beta_offset) + offset\n",
      "D:/Brain_Network/Code\\jitter.py:4065: RuntimeWarning: invalid value encountered in matmul\n",
      "  lmbd_integral = basis_integral.T @ (beta + beta_offset) + offset_integral\n",
      "D:/Brain_Network/Code\\jitter.py:4090: RuntimeWarning: invalid value encountered in subtract\n",
      "  beta_err = np.sum(np.abs(beta_old - beta))\n"
     ]
    },
    {
     "name": "stdout",
     "output_type": "stream",
     "text": [
      "util.save_variable, save variable to:  D:/Brain_Network/Output/jitter/coupling_filter/CD_DE_condition19_joint_fit_fixed_portion_11122021_multi_reg/univariate_filtertype2_951103652_951112780.pkl\n",
      "util.save_variable, save variable to:  D:/Brain_Network/Output/jitter/coupling_filter/CD_DE_condition19_joint_fit_fixed_portion_11122021_multi_reg/multivariate_filtertype2_951103652_951112780.pkl\n",
      "577it [1:52:00, 11.52s/it]util.save_variable, save variable to:  D:/Brain_Network/Output/jitter/coupling_filter/CD_DE_condition19_joint_fit_fixed_portion_11122021_multi_reg/univariate_filtertype2_951103652_951112768.pkl\n",
      "util.save_variable, save variable to:  D:/Brain_Network/Output/jitter/coupling_filter/CD_DE_condition19_joint_fit_fixed_portion_11122021_multi_reg/multivariate_filtertype2_951103652_951112768.pkl\n",
      "578it [1:52:17, 13.11s/it]"
     ]
    },
    {
     "name": "stderr",
     "output_type": "stream",
     "text": [
      "D:/Brain_Network/Code\\jitter.py:4063: RuntimeWarning: invalid value encountered in matmul\n",
      "  lmbd = X @ (beta + beta_offset) + offset\n",
      "D:/Brain_Network/Code\\jitter.py:4065: RuntimeWarning: invalid value encountered in matmul\n",
      "  lmbd_integral = basis_integral.T @ (beta + beta_offset) + offset_integral\n",
      "D:/Brain_Network/Code\\jitter.py:4090: RuntimeWarning: invalid value encountered in subtract\n",
      "  beta_err = np.sum(np.abs(beta_old - beta))\n"
     ]
    },
    {
     "name": "stdout",
     "output_type": "stream",
     "text": [
      "util.save_variable, save variable to:  D:/Brain_Network/Output/jitter/coupling_filter/CD_DE_condition19_joint_fit_fixed_portion_11122021_multi_reg/univariate_filtertype2_951103652_951112845.pkl\n",
      "util.save_variable, save variable to:  D:/Brain_Network/Output/jitter/coupling_filter/CD_DE_condition19_joint_fit_fixed_portion_11122021_multi_reg/multivariate_filtertype2_951103652_951112845.pkl\n",
      "579it [1:52:25, 11.75s/it]util.save_variable, save variable to:  D:/Brain_Network/Output/jitter/coupling_filter/CD_DE_condition19_joint_fit_fixed_portion_11122021_multi_reg/univariate_filtertype2_951103652_951112906.pkl\n",
      "util.save_variable, save variable to:  D:/Brain_Network/Output/jitter/coupling_filter/CD_DE_condition19_joint_fit_fixed_portion_11122021_multi_reg/multivariate_filtertype2_951103652_951112906.pkl\n",
      "580it [1:52:35, 11.08s/it]util.save_variable, save variable to:  D:/Brain_Network/Output/jitter/coupling_filter/CD_DE_condition19_joint_fit_fixed_portion_11122021_multi_reg/univariate_filtertype2_951103652_951112937.pkl\n",
      "util.save_variable, save variable to:  D:/Brain_Network/Output/jitter/coupling_filter/CD_DE_condition19_joint_fit_fixed_portion_11122021_multi_reg/multivariate_filtertype2_951103652_951112937.pkl\n",
      "581it [1:52:45, 10.63s/it]util.save_variable, save variable to:  D:/Brain_Network/Output/jitter/coupling_filter/CD_DE_condition19_joint_fit_fixed_portion_11122021_multi_reg/univariate_filtertype2_951103652_951112992.pkl\n",
      "util.save_variable, save variable to:  D:/Brain_Network/Output/jitter/coupling_filter/CD_DE_condition19_joint_fit_fixed_portion_11122021_multi_reg/multivariate_filtertype2_951103652_951112992.pkl\n",
      "582it [1:53:00, 12.05s/it]util.save_variable, save variable to:  D:/Brain_Network/Output/jitter/coupling_filter/CD_DE_condition19_joint_fit_fixed_portion_11122021_multi_reg/univariate_filtertype2_951103652_951113075.pkl\n",
      "util.save_variable, save variable to:  D:/Brain_Network/Output/jitter/coupling_filter/CD_DE_condition19_joint_fit_fixed_portion_11122021_multi_reg/multivariate_filtertype2_951103652_951113075.pkl\n",
      "583it [1:53:11, 11.71s/it]util.save_variable, save variable to:  D:/Brain_Network/Output/jitter/coupling_filter/CD_DE_condition19_joint_fit_fixed_portion_11122021_multi_reg/univariate_filtertype2_951103652_951113056.pkl\n",
      "util.save_variable, save variable to:  D:/Brain_Network/Output/jitter/coupling_filter/CD_DE_condition19_joint_fit_fixed_portion_11122021_multi_reg/multivariate_filtertype2_951103652_951113056.pkl\n",
      "584it [1:53:21, 11.13s/it]"
     ]
    },
    {
     "name": "stderr",
     "output_type": "stream",
     "text": [
      "D:/Brain_Network/Code\\jitter.py:4063: RuntimeWarning: invalid value encountered in matmul\n",
      "  lmbd = X @ (beta + beta_offset) + offset\n",
      "D:/Brain_Network/Code\\jitter.py:4065: RuntimeWarning: invalid value encountered in matmul\n",
      "  lmbd_integral = basis_integral.T @ (beta + beta_offset) + offset_integral\n",
      "D:/Brain_Network/Code\\jitter.py:4090: RuntimeWarning: invalid value encountered in subtract\n",
      "  beta_err = np.sum(np.abs(beta_old - beta))\n"
     ]
    },
    {
     "name": "stdout",
     "output_type": "stream",
     "text": [
      "util.save_variable, save variable to:  D:/Brain_Network/Output/jitter/coupling_filter/CD_DE_condition19_joint_fit_fixed_portion_11122021_multi_reg/univariate_filtertype2_951103652_951113039.pkl\n",
      "util.save_variable, save variable to:  D:/Brain_Network/Output/jitter/coupling_filter/CD_DE_condition19_joint_fit_fixed_portion_11122021_multi_reg/multivariate_filtertype2_951103652_951113039.pkl\n",
      "585it [1:53:38, 12.93s/it]util.save_variable, save variable to:  D:/Brain_Network/Output/jitter/coupling_filter/CD_DE_condition19_joint_fit_fixed_portion_11122021_multi_reg/univariate_filtertype2_951103652_951113191.pkl\n",
      "util.save_variable, save variable to:  D:/Brain_Network/Output/jitter/coupling_filter/CD_DE_condition19_joint_fit_fixed_portion_11122021_multi_reg/multivariate_filtertype2_951103652_951113191.pkl\n",
      "586it [1:53:49, 12.33s/it]util.save_variable, save variable to:  D:/Brain_Network/Output/jitter/coupling_filter/CD_DE_condition19_joint_fit_fixed_portion_11122021_multi_reg/univariate_filtertype2_951103652_951113175.pkl\n",
      "util.save_variable, save variable to:  D:/Brain_Network/Output/jitter/coupling_filter/CD_DE_condition19_joint_fit_fixed_portion_11122021_multi_reg/multivariate_filtertype2_951103652_951113175.pkl\n",
      "587it [1:54:00, 12.13s/it]util.save_variable, save variable to:  D:/Brain_Network/Output/jitter/coupling_filter/CD_DE_condition19_joint_fit_fixed_portion_11122021_multi_reg/univariate_filtertype2_951103652_951113141.pkl\n",
      "util.save_variable, save variable to:  D:/Brain_Network/Output/jitter/coupling_filter/CD_DE_condition19_joint_fit_fixed_portion_11122021_multi_reg/multivariate_filtertype2_951103652_951113141.pkl\n",
      "588it [1:54:11, 11.66s/it]util.save_variable, save variable to:  D:/Brain_Network/Output/jitter/coupling_filter/CD_DE_condition19_joint_fit_fixed_portion_11122021_multi_reg/univariate_filtertype2_951103652_951113271.pkl\n",
      "util.save_variable, save variable to:  D:/Brain_Network/Output/jitter/coupling_filter/CD_DE_condition19_joint_fit_fixed_portion_11122021_multi_reg/multivariate_filtertype2_951103652_951113271.pkl\n",
      "589it [1:54:40, 16.78s/it]"
     ]
    },
    {
     "name": "stderr",
     "output_type": "stream",
     "text": [
      "D:/Brain_Network/Code\\jitter.py:4063: RuntimeWarning: invalid value encountered in matmul\n",
      "  lmbd = X @ (beta + beta_offset) + offset\n",
      "D:/Brain_Network/Code\\jitter.py:4065: RuntimeWarning: invalid value encountered in matmul\n",
      "  lmbd_integral = basis_integral.T @ (beta + beta_offset) + offset_integral\n",
      "D:/Brain_Network/Code\\jitter.py:4090: RuntimeWarning: invalid value encountered in subtract\n",
      "  beta_err = np.sum(np.abs(beta_old - beta))\n"
     ]
    },
    {
     "name": "stdout",
     "output_type": "stream",
     "text": [
      "util.save_variable, save variable to:  D:/Brain_Network/Output/jitter/coupling_filter/CD_DE_condition19_joint_fit_fixed_portion_11122021_multi_reg/univariate_filtertype2_951103652_951113211.pkl\n",
      "util.save_variable, save variable to:  D:/Brain_Network/Output/jitter/coupling_filter/CD_DE_condition19_joint_fit_fixed_portion_11122021_multi_reg/multivariate_filtertype2_951103652_951113211.pkl\n",
      "590it [1:54:52, 15.42s/it]util.save_variable, save variable to:  D:/Brain_Network/Output/jitter/coupling_filter/CD_DE_condition19_joint_fit_fixed_portion_11122021_multi_reg/univariate_filtertype2_951103652_951113240.pkl\n",
      "util.save_variable, save variable to:  D:/Brain_Network/Output/jitter/coupling_filter/CD_DE_condition19_joint_fit_fixed_portion_11122021_multi_reg/multivariate_filtertype2_951103652_951113240.pkl\n",
      "591it [1:55:01, 13.52s/it]util.save_variable, save variable to:  D:/Brain_Network/Output/jitter/coupling_filter/CD_DE_condition19_joint_fit_fixed_portion_11122021_multi_reg/univariate_filtertype2_951103652_951113464.pkl\n",
      "util.save_variable, save variable to:  D:/Brain_Network/Output/jitter/coupling_filter/CD_DE_condition19_joint_fit_fixed_portion_11122021_multi_reg/multivariate_filtertype2_951103652_951113464.pkl\n",
      "592it [1:55:16, 13.97s/it]util.save_variable, save variable to:  D:/Brain_Network/Output/jitter/coupling_filter/CD_DE_condition19_joint_fit_fixed_portion_11122021_multi_reg/univariate_filtertype2_951103652_951113514.pkl\n",
      "util.save_variable, save variable to:  D:/Brain_Network/Output/jitter/coupling_filter/CD_DE_condition19_joint_fit_fixed_portion_11122021_multi_reg/multivariate_filtertype2_951103652_951113514.pkl\n",
      "593it [1:55:27, 12.98s/it]util.save_variable, save variable to:  D:/Brain_Network/Output/jitter/coupling_filter/CD_DE_condition19_joint_fit_fixed_portion_11122021_multi_reg/univariate_filtertype2_951103652_951113717.pkl\n",
      "util.save_variable, save variable to:  D:/Brain_Network/Output/jitter/coupling_filter/CD_DE_condition19_joint_fit_fixed_portion_11122021_multi_reg/multivariate_filtertype2_951103652_951113717.pkl\n",
      "594it [1:55:36, 11.94s/it]util.save_variable, save variable to:  D:/Brain_Network/Output/jitter/coupling_filter/CD_DE_condition19_joint_fit_fixed_portion_11122021_multi_reg/univariate_filtertype2_951103958_951112464.pkl\n",
      "util.save_variable, save variable to:  D:/Brain_Network/Output/jitter/coupling_filter/CD_DE_condition19_joint_fit_fixed_portion_11122021_multi_reg/multivariate_filtertype2_951103958_951112464.pkl\n",
      "595it [1:55:46, 11.37s/it]"
     ]
    },
    {
     "name": "stderr",
     "output_type": "stream",
     "text": [
      "D:/Brain_Network/Code\\jitter.py:4063: RuntimeWarning: invalid value encountered in matmul\n",
      "  lmbd = X @ (beta + beta_offset) + offset\n",
      "D:/Brain_Network/Code\\jitter.py:4065: RuntimeWarning: invalid value encountered in matmul\n",
      "  lmbd_integral = basis_integral.T @ (beta + beta_offset) + offset_integral\n",
      "D:/Brain_Network/Code\\jitter.py:4090: RuntimeWarning: invalid value encountered in subtract\n",
      "  beta_err = np.sum(np.abs(beta_old - beta))\n"
     ]
    },
    {
     "name": "stdout",
     "output_type": "stream",
     "text": [
      "util.save_variable, save variable to:  D:/Brain_Network/Output/jitter/coupling_filter/CD_DE_condition19_joint_fit_fixed_portion_11122021_multi_reg/univariate_filtertype2_951103958_951112448.pkl\n",
      "util.save_variable, save variable to:  D:/Brain_Network/Output/jitter/coupling_filter/CD_DE_condition19_joint_fit_fixed_portion_11122021_multi_reg/multivariate_filtertype2_951103958_951112448.pkl\n",
      "596it [1:55:58, 11.53s/it]"
     ]
    },
    {
     "name": "stderr",
     "output_type": "stream",
     "text": [
      "D:/Brain_Network/Code\\jitter.py:4063: RuntimeWarning: invalid value encountered in matmul\n",
      "  lmbd = X @ (beta + beta_offset) + offset\n",
      "D:/Brain_Network/Code\\jitter.py:4065: RuntimeWarning: invalid value encountered in matmul\n",
      "  lmbd_integral = basis_integral.T @ (beta + beta_offset) + offset_integral\n",
      "D:/Brain_Network/Code\\jitter.py:4090: RuntimeWarning: invalid value encountered in subtract\n",
      "  beta_err = np.sum(np.abs(beta_old - beta))\n"
     ]
    },
    {
     "name": "stdout",
     "output_type": "stream",
     "text": [
      "util.save_variable, save variable to:  D:/Brain_Network/Output/jitter/coupling_filter/CD_DE_condition19_joint_fit_fixed_portion_11122021_multi_reg/univariate_filtertype2_951103958_951112431.pkl\n",
      "util.save_variable, save variable to:  D:/Brain_Network/Output/jitter/coupling_filter/CD_DE_condition19_joint_fit_fixed_portion_11122021_multi_reg/multivariate_filtertype2_951103958_951112431.pkl\n",
      "597it [1:56:10, 11.50s/it]"
     ]
    },
    {
     "name": "stderr",
     "output_type": "stream",
     "text": [
      "D:/Brain_Network/Code\\jitter.py:3298: RuntimeWarning: invalid value encountered in add\n",
      "  nll = -np.sum(np.log(lmbd_samples)) + lmbd_integral\n",
      "D:/Brain_Network/Code\\jitter.py:4090: RuntimeWarning: invalid value encountered in subtract\n",
      "  beta_err = np.sum(np.abs(beta_old - beta))\n",
      "D:/Brain_Network/Code\\jitter.py:4063: RuntimeWarning: invalid value encountered in matmul\n",
      "  lmbd = X @ (beta + beta_offset) + offset\n",
      "D:/Brain_Network/Code\\jitter.py:4065: RuntimeWarning: invalid value encountered in matmul\n",
      "  lmbd_integral = basis_integral.T @ (beta + beta_offset) + offset_integral\n"
     ]
    },
    {
     "name": "stdout",
     "output_type": "stream",
     "text": [
      "util.save_variable, save variable to:  D:/Brain_Network/Output/jitter/coupling_filter/CD_DE_condition19_joint_fit_fixed_portion_11122021_multi_reg/univariate_filtertype2_951103958_951112416.pkl\n",
      "util.save_variable, save variable to:  D:/Brain_Network/Output/jitter/coupling_filter/CD_DE_condition19_joint_fit_fixed_portion_11122021_multi_reg/multivariate_filtertype2_951103958_951112416.pkl\n",
      "598it [1:56:20, 11.15s/it]util.save_variable, save variable to:  D:/Brain_Network/Output/jitter/coupling_filter/CD_DE_condition19_joint_fit_fixed_portion_11122021_multi_reg/univariate_filtertype2_951103958_951112479.pkl\n",
      "util.save_variable, save variable to:  D:/Brain_Network/Output/jitter/coupling_filter/CD_DE_condition19_joint_fit_fixed_portion_11122021_multi_reg/multivariate_filtertype2_951103958_951112479.pkl\n",
      "599it [1:56:30, 10.90s/it]util.save_variable, save variable to:  D:/Brain_Network/Output/jitter/coupling_filter/CD_DE_condition19_joint_fit_fixed_portion_11122021_multi_reg/univariate_filtertype2_951103958_951112638.pkl\n",
      "util.save_variable, save variable to:  D:/Brain_Network/Output/jitter/coupling_filter/CD_DE_condition19_joint_fit_fixed_portion_11122021_multi_reg/multivariate_filtertype2_951103958_951112638.pkl\n",
      "600it [1:56:41, 10.86s/it]"
     ]
    },
    {
     "name": "stderr",
     "output_type": "stream",
     "text": [
      "D:/Brain_Network/Code\\jitter.py:4063: RuntimeWarning: invalid value encountered in matmul\n",
      "  lmbd = X @ (beta + beta_offset) + offset\n",
      "D:/Brain_Network/Code\\jitter.py:4065: RuntimeWarning: invalid value encountered in matmul\n",
      "  lmbd_integral = basis_integral.T @ (beta + beta_offset) + offset_integral\n",
      "D:/Brain_Network/Code\\jitter.py:4090: RuntimeWarning: invalid value encountered in subtract\n",
      "  beta_err = np.sum(np.abs(beta_old - beta))\n"
     ]
    },
    {
     "name": "stdout",
     "output_type": "stream",
     "text": [
      "util.save_variable, save variable to:  D:/Brain_Network/Output/jitter/coupling_filter/CD_DE_condition19_joint_fit_fixed_portion_11122021_multi_reg/univariate_filtertype2_951103958_951112590.pkl\n",
      "util.save_variable, save variable to:  D:/Brain_Network/Output/jitter/coupling_filter/CD_DE_condition19_joint_fit_fixed_portion_11122021_multi_reg/multivariate_filtertype2_951103958_951112590.pkl\n",
      "601it [1:56:55, 11.85s/it]util.save_variable, save variable to:  D:/Brain_Network/Output/jitter/coupling_filter/CD_DE_condition19_joint_fit_fixed_portion_11122021_multi_reg/univariate_filtertype2_951103958_951112712.pkl\n",
      "util.save_variable, save variable to:  D:/Brain_Network/Output/jitter/coupling_filter/CD_DE_condition19_joint_fit_fixed_portion_11122021_multi_reg/multivariate_filtertype2_951103958_951112712.pkl\n",
      "602it [1:57:13, 13.71s/it]util.save_variable, save variable to:  D:/Brain_Network/Output/jitter/coupling_filter/CD_DE_condition19_joint_fit_fixed_portion_11122021_multi_reg/univariate_filtertype2_951103958_951112786.pkl\n",
      "util.save_variable, save variable to:  D:/Brain_Network/Output/jitter/coupling_filter/CD_DE_condition19_joint_fit_fixed_portion_11122021_multi_reg/multivariate_filtertype2_951103958_951112786.pkl\n",
      "603it [1:57:23, 12.58s/it]"
     ]
    },
    {
     "name": "stderr",
     "output_type": "stream",
     "text": [
      "D:/Brain_Network/Code\\jitter.py:4063: RuntimeWarning: invalid value encountered in matmul\n",
      "  lmbd = X @ (beta + beta_offset) + offset\n",
      "D:/Brain_Network/Code\\jitter.py:4065: RuntimeWarning: invalid value encountered in matmul\n",
      "  lmbd_integral = basis_integral.T @ (beta + beta_offset) + offset_integral\n",
      "D:/Brain_Network/Code\\jitter.py:4090: RuntimeWarning: invalid value encountered in subtract\n",
      "  beta_err = np.sum(np.abs(beta_old - beta))\n"
     ]
    },
    {
     "name": "stdout",
     "output_type": "stream",
     "text": [
      "util.save_variable, save variable to:  D:/Brain_Network/Output/jitter/coupling_filter/CD_DE_condition19_joint_fit_fixed_portion_11122021_multi_reg/univariate_filtertype2_951103958_951112780.pkl\n",
      "util.save_variable, save variable to:  D:/Brain_Network/Output/jitter/coupling_filter/CD_DE_condition19_joint_fit_fixed_portion_11122021_multi_reg/multivariate_filtertype2_951103958_951112780.pkl\n",
      "604it [1:57:30, 10.79s/it]util.save_variable, save variable to:  D:/Brain_Network/Output/jitter/coupling_filter/CD_DE_condition19_joint_fit_fixed_portion_11122021_multi_reg/univariate_filtertype2_951103958_951112768.pkl\n",
      "util.save_variable, save variable to:  D:/Brain_Network/Output/jitter/coupling_filter/CD_DE_condition19_joint_fit_fixed_portion_11122021_multi_reg/multivariate_filtertype2_951103958_951112768.pkl\n",
      "605it [1:57:43, 11.66s/it]"
     ]
    },
    {
     "name": "stderr",
     "output_type": "stream",
     "text": [
      "D:/Brain_Network/Code\\jitter.py:4063: RuntimeWarning: invalid value encountered in matmul\n",
      "  lmbd = X @ (beta + beta_offset) + offset\n",
      "D:/Brain_Network/Code\\jitter.py:4065: RuntimeWarning: invalid value encountered in matmul\n",
      "  lmbd_integral = basis_integral.T @ (beta + beta_offset) + offset_integral\n",
      "D:/Brain_Network/Code\\jitter.py:4090: RuntimeWarning: invalid value encountered in subtract\n",
      "  beta_err = np.sum(np.abs(beta_old - beta))\n"
     ]
    },
    {
     "name": "stdout",
     "output_type": "stream",
     "text": [
      "util.save_variable, save variable to:  D:/Brain_Network/Output/jitter/coupling_filter/CD_DE_condition19_joint_fit_fixed_portion_11122021_multi_reg/univariate_filtertype2_951103958_951112845.pkl\n",
      "util.save_variable, save variable to:  D:/Brain_Network/Output/jitter/coupling_filter/CD_DE_condition19_joint_fit_fixed_portion_11122021_multi_reg/multivariate_filtertype2_951103958_951112845.pkl\n",
      "606it [1:57:52, 10.87s/it]util.save_variable, save variable to:  D:/Brain_Network/Output/jitter/coupling_filter/CD_DE_condition19_joint_fit_fixed_portion_11122021_multi_reg/univariate_filtertype2_951103958_951112906.pkl\n",
      "util.save_variable, save variable to:  D:/Brain_Network/Output/jitter/coupling_filter/CD_DE_condition19_joint_fit_fixed_portion_11122021_multi_reg/multivariate_filtertype2_951103958_951112906.pkl\n",
      "607it [1:58:02, 10.60s/it]util.save_variable, save variable to:  D:/Brain_Network/Output/jitter/coupling_filter/CD_DE_condition19_joint_fit_fixed_portion_11122021_multi_reg/univariate_filtertype2_951103958_951112937.pkl\n",
      "util.save_variable, save variable to:  D:/Brain_Network/Output/jitter/coupling_filter/CD_DE_condition19_joint_fit_fixed_portion_11122021_multi_reg/multivariate_filtertype2_951103958_951112937.pkl\n",
      "608it [1:58:12, 10.24s/it]util.save_variable, save variable to:  D:/Brain_Network/Output/jitter/coupling_filter/CD_DE_condition19_joint_fit_fixed_portion_11122021_multi_reg/univariate_filtertype2_951103958_951112992.pkl\n",
      "util.save_variable, save variable to:  D:/Brain_Network/Output/jitter/coupling_filter/CD_DE_condition19_joint_fit_fixed_portion_11122021_multi_reg/multivariate_filtertype2_951103958_951112992.pkl\n",
      "609it [1:58:25, 11.23s/it]util.save_variable, save variable to:  D:/Brain_Network/Output/jitter/coupling_filter/CD_DE_condition19_joint_fit_fixed_portion_11122021_multi_reg/univariate_filtertype2_951103958_951113075.pkl\n",
      "util.save_variable, save variable to:  D:/Brain_Network/Output/jitter/coupling_filter/CD_DE_condition19_joint_fit_fixed_portion_11122021_multi_reg/multivariate_filtertype2_951103958_951113075.pkl\n",
      "610it [1:58:35, 10.74s/it]util.save_variable, save variable to:  D:/Brain_Network/Output/jitter/coupling_filter/CD_DE_condition19_joint_fit_fixed_portion_11122021_multi_reg/univariate_filtertype2_951103958_951113056.pkl\n",
      "util.save_variable, save variable to:  D:/Brain_Network/Output/jitter/coupling_filter/CD_DE_condition19_joint_fit_fixed_portion_11122021_multi_reg/multivariate_filtertype2_951103958_951113056.pkl\n",
      "611it [1:58:43, 10.03s/it]util.save_variable, save variable to:  D:/Brain_Network/Output/jitter/coupling_filter/CD_DE_condition19_joint_fit_fixed_portion_11122021_multi_reg/univariate_filtertype2_951103958_951113039.pkl\n",
      "util.save_variable, save variable to:  D:/Brain_Network/Output/jitter/coupling_filter/CD_DE_condition19_joint_fit_fixed_portion_11122021_multi_reg/multivariate_filtertype2_951103958_951113039.pkl\n",
      "612it [1:58:59, 11.71s/it]"
     ]
    },
    {
     "name": "stderr",
     "output_type": "stream",
     "text": [
      "D:/Brain_Network/Code\\jitter.py:8323: UserWarning: Reach max itrs 500. Last err:1.794e-04\n",
      "  warnings.warn(f'Reach max itrs {max_num_itrs}. Last err:{beta_err:.3e}')\n",
      "D:/Brain_Network/Code\\jitter.py:4075: RuntimeWarning: overflow encountered in matmul\n",
      "  delta = np.linalg.inv(hessian) @ gradient\n",
      "D:/Brain_Network/Code\\jitter.py:4063: RuntimeWarning: invalid value encountered in matmul\n",
      "  lmbd = X @ (beta + beta_offset) + offset\n",
      "D:/Brain_Network/Code\\jitter.py:4065: RuntimeWarning: invalid value encountered in matmul\n",
      "  lmbd_integral = basis_integral.T @ (beta + beta_offset) + offset_integral\n",
      "D:/Brain_Network/Code\\jitter.py:4090: RuntimeWarning: invalid value encountered in subtract\n",
      "  beta_err = np.sum(np.abs(beta_old - beta))\n"
     ]
    },
    {
     "name": "stdout",
     "output_type": "stream",
     "text": [
      "util.save_variable, save variable to:  D:/Brain_Network/Output/jitter/coupling_filter/CD_DE_condition19_joint_fit_fixed_portion_11122021_multi_reg/univariate_filtertype2_951103958_951113191.pkl\n",
      "util.save_variable, save variable to:  D:/Brain_Network/Output/jitter/coupling_filter/CD_DE_condition19_joint_fit_fixed_portion_11122021_multi_reg/multivariate_filtertype2_951103958_951113191.pkl\n",
      "613it [1:59:09, 11.09s/it]util.save_variable, save variable to:  D:/Brain_Network/Output/jitter/coupling_filter/CD_DE_condition19_joint_fit_fixed_portion_11122021_multi_reg/univariate_filtertype2_951103958_951113175.pkl\n",
      "util.save_variable, save variable to:  D:/Brain_Network/Output/jitter/coupling_filter/CD_DE_condition19_joint_fit_fixed_portion_11122021_multi_reg/multivariate_filtertype2_951103958_951113175.pkl\n",
      "614it [1:59:19, 10.91s/it]"
     ]
    },
    {
     "name": "stderr",
     "output_type": "stream",
     "text": [
      "D:/Brain_Network/Code\\jitter.py:4063: RuntimeWarning: invalid value encountered in matmul\n",
      "  lmbd = X @ (beta + beta_offset) + offset\n",
      "D:/Brain_Network/Code\\jitter.py:4065: RuntimeWarning: invalid value encountered in matmul\n",
      "  lmbd_integral = basis_integral.T @ (beta + beta_offset) + offset_integral\n",
      "D:/Brain_Network/Code\\jitter.py:4090: RuntimeWarning: invalid value encountered in subtract\n",
      "  beta_err = np.sum(np.abs(beta_old - beta))\n"
     ]
    },
    {
     "name": "stdout",
     "output_type": "stream",
     "text": [
      "util.save_variable, save variable to:  D:/Brain_Network/Output/jitter/coupling_filter/CD_DE_condition19_joint_fit_fixed_portion_11122021_multi_reg/univariate_filtertype2_951103958_951113141.pkl\n",
      "util.save_variable, save variable to:  D:/Brain_Network/Output/jitter/coupling_filter/CD_DE_condition19_joint_fit_fixed_portion_11122021_multi_reg/multivariate_filtertype2_951103958_951113141.pkl\n",
      "615it [1:59:30, 10.87s/it]util.save_variable, save variable to:  D:/Brain_Network/Output/jitter/coupling_filter/CD_DE_condition19_joint_fit_fixed_portion_11122021_multi_reg/univariate_filtertype2_951103958_951113271.pkl\n",
      "util.save_variable, save variable to:  D:/Brain_Network/Output/jitter/coupling_filter/CD_DE_condition19_joint_fit_fixed_portion_11122021_multi_reg/multivariate_filtertype2_951103958_951113271.pkl\n",
      "616it [1:59:54, 14.73s/it]util.save_variable, save variable to:  D:/Brain_Network/Output/jitter/coupling_filter/CD_DE_condition19_joint_fit_fixed_portion_11122021_multi_reg/univariate_filtertype2_951103958_951113211.pkl\n",
      "util.save_variable, save variable to:  D:/Brain_Network/Output/jitter/coupling_filter/CD_DE_condition19_joint_fit_fixed_portion_11122021_multi_reg/multivariate_filtertype2_951103958_951113211.pkl\n",
      "617it [2:00:05, 13.76s/it]"
     ]
    },
    {
     "name": "stderr",
     "output_type": "stream",
     "text": [
      "D:/Brain_Network/Code\\jitter.py:4063: RuntimeWarning: invalid value encountered in matmul\n",
      "  lmbd = X @ (beta + beta_offset) + offset\n",
      "D:/Brain_Network/Code\\jitter.py:4065: RuntimeWarning: invalid value encountered in matmul\n",
      "  lmbd_integral = basis_integral.T @ (beta + beta_offset) + offset_integral\n",
      "D:/Brain_Network/Code\\jitter.py:4090: RuntimeWarning: invalid value encountered in subtract\n",
      "  beta_err = np.sum(np.abs(beta_old - beta))\n"
     ]
    },
    {
     "name": "stdout",
     "output_type": "stream",
     "text": [
      "util.save_variable, save variable to:  D:/Brain_Network/Output/jitter/coupling_filter/CD_DE_condition19_joint_fit_fixed_portion_11122021_multi_reg/univariate_filtertype2_951103958_951113240.pkl\n",
      "util.save_variable, save variable to:  D:/Brain_Network/Output/jitter/coupling_filter/CD_DE_condition19_joint_fit_fixed_portion_11122021_multi_reg/multivariate_filtertype2_951103958_951113240.pkl\n",
      "618it [2:00:14, 12.40s/it]util.save_variable, save variable to:  D:/Brain_Network/Output/jitter/coupling_filter/CD_DE_condition19_joint_fit_fixed_portion_11122021_multi_reg/univariate_filtertype2_951103958_951113464.pkl\n",
      "util.save_variable, save variable to:  D:/Brain_Network/Output/jitter/coupling_filter/CD_DE_condition19_joint_fit_fixed_portion_11122021_multi_reg/multivariate_filtertype2_951103958_951113464.pkl\n",
      "619it [2:00:29, 12.97s/it]"
     ]
    },
    {
     "name": "stderr",
     "output_type": "stream",
     "text": [
      "D:/Brain_Network/Code\\jitter.py:4075: RuntimeWarning: invalid value encountered in matmul\n",
      "  delta = np.linalg.inv(hessian) @ gradient\n"
     ]
    },
    {
     "name": "stdout",
     "output_type": "stream",
     "text": [
      "util.save_variable, save variable to:  D:/Brain_Network/Output/jitter/coupling_filter/CD_DE_condition19_joint_fit_fixed_portion_11122021_multi_reg/univariate_filtertype2_951103958_951113514.pkl\n",
      "util.save_variable, save variable to:  D:/Brain_Network/Output/jitter/coupling_filter/CD_DE_condition19_joint_fit_fixed_portion_11122021_multi_reg/multivariate_filtertype2_951103958_951113514.pkl\n",
      "620it [2:00:38, 11.74s/it]"
     ]
    },
    {
     "name": "stderr",
     "output_type": "stream",
     "text": [
      "D:/Brain_Network/Code\\jitter.py:4063: RuntimeWarning: invalid value encountered in matmul\n",
      "  lmbd = X @ (beta + beta_offset) + offset\n",
      "D:/Brain_Network/Code\\jitter.py:4065: RuntimeWarning: invalid value encountered in matmul\n",
      "  lmbd_integral = basis_integral.T @ (beta + beta_offset) + offset_integral\n",
      "D:/Brain_Network/Code\\jitter.py:4090: RuntimeWarning: invalid value encountered in subtract\n",
      "  beta_err = np.sum(np.abs(beta_old - beta))\n"
     ]
    },
    {
     "name": "stdout",
     "output_type": "stream",
     "text": [
      "util.save_variable, save variable to:  D:/Brain_Network/Output/jitter/coupling_filter/CD_DE_condition19_joint_fit_fixed_portion_11122021_multi_reg/univariate_filtertype2_951103958_951113717.pkl\n",
      "util.save_variable, save variable to:  D:/Brain_Network/Output/jitter/coupling_filter/CD_DE_condition19_joint_fit_fixed_portion_11122021_multi_reg/multivariate_filtertype2_951103958_951113717.pkl\n",
      "621it [2:00:46, 10.81s/it]util.save_variable, save variable to:  D:/Brain_Network/Output/jitter/coupling_filter/CD_DE_condition19_joint_fit_fixed_portion_11122021_multi_reg/univariate_filtertype2_951103704_951112464.pkl\n",
      "util.save_variable, save variable to:  D:/Brain_Network/Output/jitter/coupling_filter/CD_DE_condition19_joint_fit_fixed_portion_11122021_multi_reg/multivariate_filtertype2_951103704_951112464.pkl\n",
      "622it [2:00:56, 10.61s/it]util.save_variable, save variable to:  D:/Brain_Network/Output/jitter/coupling_filter/CD_DE_condition19_joint_fit_fixed_portion_11122021_multi_reg/univariate_filtertype2_951103704_951112448.pkl\n",
      "util.save_variable, save variable to:  D:/Brain_Network/Output/jitter/coupling_filter/CD_DE_condition19_joint_fit_fixed_portion_11122021_multi_reg/multivariate_filtertype2_951103704_951112448.pkl\n",
      "623it [2:01:09, 11.16s/it]util.save_variable, save variable to:  D:/Brain_Network/Output/jitter/coupling_filter/CD_DE_condition19_joint_fit_fixed_portion_11122021_multi_reg/univariate_filtertype2_951103704_951112431.pkl\n",
      "util.save_variable, save variable to:  D:/Brain_Network/Output/jitter/coupling_filter/CD_DE_condition19_joint_fit_fixed_portion_11122021_multi_reg/multivariate_filtertype2_951103704_951112431.pkl\n",
      "624it [2:01:20, 11.25s/it]util.save_variable, save variable to:  D:/Brain_Network/Output/jitter/coupling_filter/CD_DE_condition19_joint_fit_fixed_portion_11122021_multi_reg/univariate_filtertype2_951103704_951112416.pkl\n",
      "util.save_variable, save variable to:  D:/Brain_Network/Output/jitter/coupling_filter/CD_DE_condition19_joint_fit_fixed_portion_11122021_multi_reg/multivariate_filtertype2_951103704_951112416.pkl\n",
      "625it [2:01:31, 11.24s/it]util.save_variable, save variable to:  D:/Brain_Network/Output/jitter/coupling_filter/CD_DE_condition19_joint_fit_fixed_portion_11122021_multi_reg/univariate_filtertype2_951103704_951112479.pkl\n",
      "util.save_variable, save variable to:  D:/Brain_Network/Output/jitter/coupling_filter/CD_DE_condition19_joint_fit_fixed_portion_11122021_multi_reg/multivariate_filtertype2_951103704_951112479.pkl\n",
      "626it [2:01:43, 11.26s/it]util.save_variable, save variable to:  D:/Brain_Network/Output/jitter/coupling_filter/CD_DE_condition19_joint_fit_fixed_portion_11122021_multi_reg/univariate_filtertype2_951103704_951112638.pkl\n",
      "util.save_variable, save variable to:  D:/Brain_Network/Output/jitter/coupling_filter/CD_DE_condition19_joint_fit_fixed_portion_11122021_multi_reg/multivariate_filtertype2_951103704_951112638.pkl\n",
      "627it [2:01:57, 12.02s/it]util.save_variable, save variable to:  D:/Brain_Network/Output/jitter/coupling_filter/CD_DE_condition19_joint_fit_fixed_portion_11122021_multi_reg/univariate_filtertype2_951103704_951112590.pkl\n",
      "util.save_variable, save variable to:  D:/Brain_Network/Output/jitter/coupling_filter/CD_DE_condition19_joint_fit_fixed_portion_11122021_multi_reg/multivariate_filtertype2_951103704_951112590.pkl\n",
      "628it [2:02:11, 12.64s/it]util.save_variable, save variable to:  D:/Brain_Network/Output/jitter/coupling_filter/CD_DE_condition19_joint_fit_fixed_portion_11122021_multi_reg/univariate_filtertype2_951103704_951112712.pkl\n",
      "util.save_variable, save variable to:  D:/Brain_Network/Output/jitter/coupling_filter/CD_DE_condition19_joint_fit_fixed_portion_11122021_multi_reg/multivariate_filtertype2_951103704_951112712.pkl\n",
      "629it [2:02:34, 15.84s/it]util.save_variable, save variable to:  D:/Brain_Network/Output/jitter/coupling_filter/CD_DE_condition19_joint_fit_fixed_portion_11122021_multi_reg/univariate_filtertype2_951103704_951112786.pkl\n",
      "util.save_variable, save variable to:  D:/Brain_Network/Output/jitter/coupling_filter/CD_DE_condition19_joint_fit_fixed_portion_11122021_multi_reg/multivariate_filtertype2_951103704_951112786.pkl\n",
      "630it [2:02:45, 14.26s/it]"
     ]
    },
    {
     "name": "stderr",
     "output_type": "stream",
     "text": [
      "D:/Brain_Network/Code\\jitter.py:4063: RuntimeWarning: invalid value encountered in matmul\n",
      "  lmbd = X @ (beta + beta_offset) + offset\n",
      "D:/Brain_Network/Code\\jitter.py:4065: RuntimeWarning: invalid value encountered in matmul\n",
      "  lmbd_integral = basis_integral.T @ (beta + beta_offset) + offset_integral\n",
      "D:/Brain_Network/Code\\jitter.py:4090: RuntimeWarning: invalid value encountered in subtract\n",
      "  beta_err = np.sum(np.abs(beta_old - beta))\n"
     ]
    },
    {
     "name": "stdout",
     "output_type": "stream",
     "text": [
      "util.save_variable, save variable to:  D:/Brain_Network/Output/jitter/coupling_filter/CD_DE_condition19_joint_fit_fixed_portion_11122021_multi_reg/univariate_filtertype2_951103704_951112780.pkl\n",
      "util.save_variable, save variable to:  D:/Brain_Network/Output/jitter/coupling_filter/CD_DE_condition19_joint_fit_fixed_portion_11122021_multi_reg/multivariate_filtertype2_951103704_951112780.pkl\n",
      "631it [2:02:52, 12.12s/it]"
     ]
    },
    {
     "name": "stderr",
     "output_type": "stream",
     "text": [
      "D:/Brain_Network/Code\\jitter.py:8323: UserWarning: Reach max itrs 500. Last err:9.490e+09\n",
      "  warnings.warn(f'Reach max itrs {max_num_itrs}. Last err:{beta_err:.3e}')\n"
     ]
    },
    {
     "name": "stdout",
     "output_type": "stream",
     "text": [
      "util.save_variable, save variable to:  D:/Brain_Network/Output/jitter/coupling_filter/CD_DE_condition19_joint_fit_fixed_portion_11122021_multi_reg/univariate_filtertype2_951103704_951112768.pkl\n",
      "util.save_variable, save variable to:  D:/Brain_Network/Output/jitter/coupling_filter/CD_DE_condition19_joint_fit_fixed_portion_11122021_multi_reg/multivariate_filtertype2_951103704_951112768.pkl\n",
      "632it [2:03:11, 14.29s/it]util.save_variable, save variable to:  D:/Brain_Network/Output/jitter/coupling_filter/CD_DE_condition19_joint_fit_fixed_portion_11122021_multi_reg/univariate_filtertype2_951103704_951112845.pkl\n",
      "util.save_variable, save variable to:  D:/Brain_Network/Output/jitter/coupling_filter/CD_DE_condition19_joint_fit_fixed_portion_11122021_multi_reg/multivariate_filtertype2_951103704_951112845.pkl\n",
      "633it [2:03:20, 12.67s/it]util.save_variable, save variable to:  D:/Brain_Network/Output/jitter/coupling_filter/CD_DE_condition19_joint_fit_fixed_portion_11122021_multi_reg/univariate_filtertype2_951103704_951112906.pkl\n",
      "util.save_variable, save variable to:  D:/Brain_Network/Output/jitter/coupling_filter/CD_DE_condition19_joint_fit_fixed_portion_11122021_multi_reg/multivariate_filtertype2_951103704_951112906.pkl\n",
      "634it [2:03:30, 11.78s/it]"
     ]
    },
    {
     "name": "stderr",
     "output_type": "stream",
     "text": [
      "D:/Brain_Network/Code\\jitter.py:4075: RuntimeWarning: overflow encountered in matmul\n",
      "  delta = np.linalg.inv(hessian) @ gradient\n",
      "D:/Brain_Network/Code\\jitter.py:4090: RuntimeWarning: invalid value encountered in subtract\n",
      "  beta_err = np.sum(np.abs(beta_old - beta))\n"
     ]
    },
    {
     "name": "stdout",
     "output_type": "stream",
     "text": [
      "util.save_variable, save variable to:  D:/Brain_Network/Output/jitter/coupling_filter/CD_DE_condition19_joint_fit_fixed_portion_11122021_multi_reg/univariate_filtertype2_951103704_951112937.pkl\n",
      "util.save_variable, save variable to:  D:/Brain_Network/Output/jitter/coupling_filter/CD_DE_condition19_joint_fit_fixed_portion_11122021_multi_reg/multivariate_filtertype2_951103704_951112937.pkl\n",
      "635it [2:03:40, 11.45s/it]util.save_variable, save variable to:  D:/Brain_Network/Output/jitter/coupling_filter/CD_DE_condition19_joint_fit_fixed_portion_11122021_multi_reg/univariate_filtertype2_951103704_951112992.pkl\n",
      "util.save_variable, save variable to:  D:/Brain_Network/Output/jitter/coupling_filter/CD_DE_condition19_joint_fit_fixed_portion_11122021_multi_reg/multivariate_filtertype2_951103704_951112992.pkl\n",
      "636it [2:03:57, 13.03s/it]util.save_variable, save variable to:  D:/Brain_Network/Output/jitter/coupling_filter/CD_DE_condition19_joint_fit_fixed_portion_11122021_multi_reg/univariate_filtertype2_951103704_951113075.pkl\n",
      "util.save_variable, save variable to:  D:/Brain_Network/Output/jitter/coupling_filter/CD_DE_condition19_joint_fit_fixed_portion_11122021_multi_reg/multivariate_filtertype2_951103704_951113075.pkl\n",
      "637it [2:04:07, 12.21s/it]util.save_variable, save variable to:  D:/Brain_Network/Output/jitter/coupling_filter/CD_DE_condition19_joint_fit_fixed_portion_11122021_multi_reg/univariate_filtertype2_951103704_951113056.pkl\n",
      "util.save_variable, save variable to:  D:/Brain_Network/Output/jitter/coupling_filter/CD_DE_condition19_joint_fit_fixed_portion_11122021_multi_reg/multivariate_filtertype2_951103704_951113056.pkl\n",
      "638it [2:04:17, 11.51s/it]util.save_variable, save variable to:  D:/Brain_Network/Output/jitter/coupling_filter/CD_DE_condition19_joint_fit_fixed_portion_11122021_multi_reg/univariate_filtertype2_951103704_951113039.pkl\n",
      "util.save_variable, save variable to:  D:/Brain_Network/Output/jitter/coupling_filter/CD_DE_condition19_joint_fit_fixed_portion_11122021_multi_reg/multivariate_filtertype2_951103704_951113039.pkl\n",
      "639it [2:04:38, 14.23s/it]util.save_variable, save variable to:  D:/Brain_Network/Output/jitter/coupling_filter/CD_DE_condition19_joint_fit_fixed_portion_11122021_multi_reg/univariate_filtertype2_951103704_951113191.pkl\n",
      "util.save_variable, save variable to:  D:/Brain_Network/Output/jitter/coupling_filter/CD_DE_condition19_joint_fit_fixed_portion_11122021_multi_reg/multivariate_filtertype2_951103704_951113191.pkl\n",
      "640it [2:04:48, 13.17s/it]util.save_variable, save variable to:  D:/Brain_Network/Output/jitter/coupling_filter/CD_DE_condition19_joint_fit_fixed_portion_11122021_multi_reg/univariate_filtertype2_951103704_951113175.pkl\n",
      "util.save_variable, save variable to:  D:/Brain_Network/Output/jitter/coupling_filter/CD_DE_condition19_joint_fit_fixed_portion_11122021_multi_reg/multivariate_filtertype2_951103704_951113175.pkl\n",
      "641it [2:05:00, 12.69s/it]util.save_variable, save variable to:  D:/Brain_Network/Output/jitter/coupling_filter/CD_DE_condition19_joint_fit_fixed_portion_11122021_multi_reg/univariate_filtertype2_951103704_951113141.pkl\n",
      "util.save_variable, save variable to:  D:/Brain_Network/Output/jitter/coupling_filter/CD_DE_condition19_joint_fit_fixed_portion_11122021_multi_reg/multivariate_filtertype2_951103704_951113141.pkl\n",
      "642it [2:05:11, 12.17s/it]util.save_variable, save variable to:  D:/Brain_Network/Output/jitter/coupling_filter/CD_DE_condition19_joint_fit_fixed_portion_11122021_multi_reg/univariate_filtertype2_951103704_951113271.pkl\n",
      "util.save_variable, save variable to:  D:/Brain_Network/Output/jitter/coupling_filter/CD_DE_condition19_joint_fit_fixed_portion_11122021_multi_reg/multivariate_filtertype2_951103704_951113271.pkl\n",
      "643it [2:05:39, 17.01s/it]util.save_variable, save variable to:  D:/Brain_Network/Output/jitter/coupling_filter/CD_DE_condition19_joint_fit_fixed_portion_11122021_multi_reg/univariate_filtertype2_951103704_951113211.pkl\n",
      "util.save_variable, save variable to:  D:/Brain_Network/Output/jitter/coupling_filter/CD_DE_condition19_joint_fit_fixed_portion_11122021_multi_reg/multivariate_filtertype2_951103704_951113211.pkl\n",
      "644it [2:05:53, 16.14s/it]util.save_variable, save variable to:  D:/Brain_Network/Output/jitter/coupling_filter/CD_DE_condition19_joint_fit_fixed_portion_11122021_multi_reg/univariate_filtertype2_951103704_951113240.pkl\n",
      "util.save_variable, save variable to:  D:/Brain_Network/Output/jitter/coupling_filter/CD_DE_condition19_joint_fit_fixed_portion_11122021_multi_reg/multivariate_filtertype2_951103704_951113240.pkl\n",
      "645it [2:06:03, 14.12s/it]util.save_variable, save variable to:  D:/Brain_Network/Output/jitter/coupling_filter/CD_DE_condition19_joint_fit_fixed_portion_11122021_multi_reg/univariate_filtertype2_951103704_951113464.pkl\n",
      "util.save_variable, save variable to:  D:/Brain_Network/Output/jitter/coupling_filter/CD_DE_condition19_joint_fit_fixed_portion_11122021_multi_reg/multivariate_filtertype2_951103704_951113464.pkl\n",
      "646it [2:06:21, 15.47s/it]"
     ]
    },
    {
     "name": "stderr",
     "output_type": "stream",
     "text": [
      "D:/Brain_Network/Code\\jitter.py:4063: RuntimeWarning: invalid value encountered in matmul\n",
      "  lmbd = X @ (beta + beta_offset) + offset\n",
      "D:/Brain_Network/Code\\jitter.py:4065: RuntimeWarning: invalid value encountered in matmul\n",
      "  lmbd_integral = basis_integral.T @ (beta + beta_offset) + offset_integral\n",
      "D:/Brain_Network/Code\\jitter.py:4090: RuntimeWarning: invalid value encountered in subtract\n",
      "  beta_err = np.sum(np.abs(beta_old - beta))\n"
     ]
    },
    {
     "name": "stdout",
     "output_type": "stream",
     "text": [
      "util.save_variable, save variable to:  D:/Brain_Network/Output/jitter/coupling_filter/CD_DE_condition19_joint_fit_fixed_portion_11122021_multi_reg/univariate_filtertype2_951103704_951113514.pkl\n",
      "util.save_variable, save variable to:  D:/Brain_Network/Output/jitter/coupling_filter/CD_DE_condition19_joint_fit_fixed_portion_11122021_multi_reg/multivariate_filtertype2_951103704_951113514.pkl\n",
      "647it [2:06:34, 14.60s/it]"
     ]
    },
    {
     "name": "stderr",
     "output_type": "stream",
     "text": [
      "D:/Brain_Network/Code\\jitter.py:4063: RuntimeWarning: invalid value encountered in matmul\n",
      "  lmbd = X @ (beta + beta_offset) + offset\n",
      "D:/Brain_Network/Code\\jitter.py:4065: RuntimeWarning: invalid value encountered in matmul\n",
      "  lmbd_integral = basis_integral.T @ (beta + beta_offset) + offset_integral\n",
      "D:/Brain_Network/Code\\jitter.py:4090: RuntimeWarning: invalid value encountered in subtract\n",
      "  beta_err = np.sum(np.abs(beta_old - beta))\n"
     ]
    },
    {
     "name": "stdout",
     "output_type": "stream",
     "text": [
      "util.save_variable, save variable to:  D:/Brain_Network/Output/jitter/coupling_filter/CD_DE_condition19_joint_fit_fixed_portion_11122021_multi_reg/univariate_filtertype2_951103704_951113717.pkl\n",
      "util.save_variable, save variable to:  D:/Brain_Network/Output/jitter/coupling_filter/CD_DE_condition19_joint_fit_fixed_portion_11122021_multi_reg/multivariate_filtertype2_951103704_951113717.pkl\n",
      "648it [2:06:45, 13.49s/it]"
     ]
    },
    {
     "name": "stderr",
     "output_type": "stream",
     "text": [
      "D:/Brain_Network/Code\\jitter.py:4063: RuntimeWarning: invalid value encountered in matmul\n",
      "  lmbd = X @ (beta + beta_offset) + offset\n",
      "D:/Brain_Network/Code\\jitter.py:4065: RuntimeWarning: invalid value encountered in matmul\n",
      "  lmbd_integral = basis_integral.T @ (beta + beta_offset) + offset_integral\n",
      "D:/Brain_Network/Code\\jitter.py:4090: RuntimeWarning: invalid value encountered in subtract\n",
      "  beta_err = np.sum(np.abs(beta_old - beta))\n"
     ]
    },
    {
     "name": "stdout",
     "output_type": "stream",
     "text": [
      "util.save_variable, save variable to:  D:/Brain_Network/Output/jitter/coupling_filter/CD_DE_condition19_joint_fit_fixed_portion_11122021_multi_reg/univariate_filtertype2_951103877_951112464.pkl\n",
      "util.save_variable, save variable to:  D:/Brain_Network/Output/jitter/coupling_filter/CD_DE_condition19_joint_fit_fixed_portion_11122021_multi_reg/multivariate_filtertype2_951103877_951112464.pkl\n",
      "649it [2:06:55, 12.51s/it]"
     ]
    },
    {
     "name": "stderr",
     "output_type": "stream",
     "text": [
      "D:/Brain_Network/Code\\jitter.py:4063: RuntimeWarning: invalid value encountered in matmul\n",
      "  lmbd = X @ (beta + beta_offset) + offset\n",
      "D:/Brain_Network/Code\\jitter.py:4065: RuntimeWarning: invalid value encountered in matmul\n",
      "  lmbd_integral = basis_integral.T @ (beta + beta_offset) + offset_integral\n",
      "D:/Brain_Network/Code\\jitter.py:4090: RuntimeWarning: invalid value encountered in subtract\n",
      "  beta_err = np.sum(np.abs(beta_old - beta))\n"
     ]
    },
    {
     "name": "stdout",
     "output_type": "stream",
     "text": [
      "util.save_variable, save variable to:  D:/Brain_Network/Output/jitter/coupling_filter/CD_DE_condition19_joint_fit_fixed_portion_11122021_multi_reg/univariate_filtertype2_951103877_951112448.pkl\n",
      "util.save_variable, save variable to:  D:/Brain_Network/Output/jitter/coupling_filter/CD_DE_condition19_joint_fit_fixed_portion_11122021_multi_reg/multivariate_filtertype2_951103877_951112448.pkl\n",
      "650it [2:07:07, 12.22s/it]util.save_variable, save variable to:  D:/Brain_Network/Output/jitter/coupling_filter/CD_DE_condition19_joint_fit_fixed_portion_11122021_multi_reg/univariate_filtertype2_951103877_951112431.pkl\n",
      "util.save_variable, save variable to:  D:/Brain_Network/Output/jitter/coupling_filter/CD_DE_condition19_joint_fit_fixed_portion_11122021_multi_reg/multivariate_filtertype2_951103877_951112431.pkl\n",
      "651it [2:07:18, 12.02s/it]"
     ]
    },
    {
     "name": "stderr",
     "output_type": "stream",
     "text": [
      "D:/Brain_Network/Code\\jitter.py:4063: RuntimeWarning: invalid value encountered in matmul\n",
      "  lmbd = X @ (beta + beta_offset) + offset\n",
      "D:/Brain_Network/Code\\jitter.py:4065: RuntimeWarning: invalid value encountered in matmul\n",
      "  lmbd_integral = basis_integral.T @ (beta + beta_offset) + offset_integral\n",
      "D:/Brain_Network/Code\\jitter.py:4090: RuntimeWarning: invalid value encountered in subtract\n",
      "  beta_err = np.sum(np.abs(beta_old - beta))\n"
     ]
    },
    {
     "name": "stdout",
     "output_type": "stream",
     "text": [
      "util.save_variable, save variable to:  D:/Brain_Network/Output/jitter/coupling_filter/CD_DE_condition19_joint_fit_fixed_portion_11122021_multi_reg/univariate_filtertype2_951103877_951112416.pkl\n",
      "util.save_variable, save variable to:  D:/Brain_Network/Output/jitter/coupling_filter/CD_DE_condition19_joint_fit_fixed_portion_11122021_multi_reg/multivariate_filtertype2_951103877_951112416.pkl\n",
      "652it [2:07:28, 11.49s/it]"
     ]
    },
    {
     "name": "stderr",
     "output_type": "stream",
     "text": [
      "D:/Brain_Network/Code\\jitter.py:4063: RuntimeWarning: invalid value encountered in matmul\n",
      "  lmbd = X @ (beta + beta_offset) + offset\n",
      "D:/Brain_Network/Code\\jitter.py:4065: RuntimeWarning: invalid value encountered in matmul\n",
      "  lmbd_integral = basis_integral.T @ (beta + beta_offset) + offset_integral\n",
      "D:/Brain_Network/Code\\jitter.py:4090: RuntimeWarning: invalid value encountered in subtract\n",
      "  beta_err = np.sum(np.abs(beta_old - beta))\n"
     ]
    },
    {
     "name": "stdout",
     "output_type": "stream",
     "text": [
      "util.save_variable, save variable to:  D:/Brain_Network/Output/jitter/coupling_filter/CD_DE_condition19_joint_fit_fixed_portion_11122021_multi_reg/univariate_filtertype2_951103877_951112479.pkl\n",
      "util.save_variable, save variable to:  D:/Brain_Network/Output/jitter/coupling_filter/CD_DE_condition19_joint_fit_fixed_portion_11122021_multi_reg/multivariate_filtertype2_951103877_951112479.pkl\n",
      "653it [2:07:39, 11.21s/it]util.save_variable, save variable to:  D:/Brain_Network/Output/jitter/coupling_filter/CD_DE_condition19_joint_fit_fixed_portion_11122021_multi_reg/univariate_filtertype2_951103877_951112638.pkl\n",
      "util.save_variable, save variable to:  D:/Brain_Network/Output/jitter/coupling_filter/CD_DE_condition19_joint_fit_fixed_portion_11122021_multi_reg/multivariate_filtertype2_951103877_951112638.pkl\n",
      "654it [2:07:51, 11.48s/it]util.save_variable, save variable to:  D:/Brain_Network/Output/jitter/coupling_filter/CD_DE_condition19_joint_fit_fixed_portion_11122021_multi_reg/univariate_filtertype2_951103877_951112590.pkl\n",
      "util.save_variable, save variable to:  D:/Brain_Network/Output/jitter/coupling_filter/CD_DE_condition19_joint_fit_fixed_portion_11122021_multi_reg/multivariate_filtertype2_951103877_951112590.pkl\n",
      "655it [2:08:03, 11.54s/it]util.save_variable, save variable to:  D:/Brain_Network/Output/jitter/coupling_filter/CD_DE_condition19_joint_fit_fixed_portion_11122021_multi_reg/univariate_filtertype2_951103877_951112712.pkl\n",
      "util.save_variable, save variable to:  D:/Brain_Network/Output/jitter/coupling_filter/CD_DE_condition19_joint_fit_fixed_portion_11122021_multi_reg/multivariate_filtertype2_951103877_951112712.pkl\n",
      "656it [2:08:21, 13.40s/it]util.save_variable, save variable to:  D:/Brain_Network/Output/jitter/coupling_filter/CD_DE_condition19_joint_fit_fixed_portion_11122021_multi_reg/univariate_filtertype2_951103877_951112786.pkl\n",
      "util.save_variable, save variable to:  D:/Brain_Network/Output/jitter/coupling_filter/CD_DE_condition19_joint_fit_fixed_portion_11122021_multi_reg/multivariate_filtertype2_951103877_951112786.pkl\n",
      "657it [2:08:30, 12.22s/it]"
     ]
    },
    {
     "name": "stderr",
     "output_type": "stream",
     "text": [
      "D:/Brain_Network/Code\\jitter.py:4063: RuntimeWarning: invalid value encountered in matmul\n",
      "  lmbd = X @ (beta + beta_offset) + offset\n",
      "D:/Brain_Network/Code\\jitter.py:4065: RuntimeWarning: invalid value encountered in matmul\n",
      "  lmbd_integral = basis_integral.T @ (beta + beta_offset) + offset_integral\n",
      "D:/Brain_Network/Code\\jitter.py:4090: RuntimeWarning: invalid value encountered in subtract\n",
      "  beta_err = np.sum(np.abs(beta_old - beta))\n"
     ]
    },
    {
     "name": "stdout",
     "output_type": "stream",
     "text": [
      "util.save_variable, save variable to:  D:/Brain_Network/Output/jitter/coupling_filter/CD_DE_condition19_joint_fit_fixed_portion_11122021_multi_reg/univariate_filtertype2_951103877_951112780.pkl\n",
      "util.save_variable, save variable to:  D:/Brain_Network/Output/jitter/coupling_filter/CD_DE_condition19_joint_fit_fixed_portion_11122021_multi_reg/multivariate_filtertype2_951103877_951112780.pkl\n",
      "658it [2:08:37, 10.64s/it]util.save_variable, save variable to:  D:/Brain_Network/Output/jitter/coupling_filter/CD_DE_condition19_joint_fit_fixed_portion_11122021_multi_reg/univariate_filtertype2_951103877_951112768.pkl\n",
      "util.save_variable, save variable to:  D:/Brain_Network/Output/jitter/coupling_filter/CD_DE_condition19_joint_fit_fixed_portion_11122021_multi_reg/multivariate_filtertype2_951103877_951112768.pkl\n",
      "659it [2:08:53, 12.34s/it]util.save_variable, save variable to:  D:/Brain_Network/Output/jitter/coupling_filter/CD_DE_condition19_joint_fit_fixed_portion_11122021_multi_reg/univariate_filtertype2_951103877_951112845.pkl\n",
      "util.save_variable, save variable to:  D:/Brain_Network/Output/jitter/coupling_filter/CD_DE_condition19_joint_fit_fixed_portion_11122021_multi_reg/multivariate_filtertype2_951103877_951112845.pkl\n",
      "660it [2:09:02, 11.22s/it]"
     ]
    },
    {
     "name": "stderr",
     "output_type": "stream",
     "text": [
      "D:/Brain_Network/Code\\jitter.py:4063: RuntimeWarning: invalid value encountered in matmul\n",
      "  lmbd = X @ (beta + beta_offset) + offset\n",
      "D:/Brain_Network/Code\\jitter.py:4065: RuntimeWarning: invalid value encountered in matmul\n",
      "  lmbd_integral = basis_integral.T @ (beta + beta_offset) + offset_integral\n",
      "D:/Brain_Network/Code\\jitter.py:4090: RuntimeWarning: invalid value encountered in subtract\n",
      "  beta_err = np.sum(np.abs(beta_old - beta))\n"
     ]
    },
    {
     "name": "stdout",
     "output_type": "stream",
     "text": [
      "util.save_variable, save variable to:  D:/Brain_Network/Output/jitter/coupling_filter/CD_DE_condition19_joint_fit_fixed_portion_11122021_multi_reg/univariate_filtertype2_951103877_951112906.pkl\n",
      "util.save_variable, save variable to:  D:/Brain_Network/Output/jitter/coupling_filter/CD_DE_condition19_joint_fit_fixed_portion_11122021_multi_reg/multivariate_filtertype2_951103877_951112906.pkl\n",
      "661it [2:09:11, 10.60s/it]"
     ]
    },
    {
     "name": "stderr",
     "output_type": "stream",
     "text": [
      "D:/Brain_Network/Code\\jitter.py:8323: UserWarning: Reach max itrs 500. Last err:3.877e-02\n",
      "  warnings.warn(f'Reach max itrs {max_num_itrs}. Last err:{beta_err:.3e}')\n"
     ]
    },
    {
     "name": "stdout",
     "output_type": "stream",
     "text": [
      "util.save_variable, save variable to:  D:/Brain_Network/Output/jitter/coupling_filter/CD_DE_condition19_joint_fit_fixed_portion_11122021_multi_reg/univariate_filtertype2_951103877_951112937.pkl\n",
      "util.save_variable, save variable to:  D:/Brain_Network/Output/jitter/coupling_filter/CD_DE_condition19_joint_fit_fixed_portion_11122021_multi_reg/multivariate_filtertype2_951103877_951112937.pkl\n",
      "662it [2:09:22, 10.69s/it]util.save_variable, save variable to:  D:/Brain_Network/Output/jitter/coupling_filter/CD_DE_condition19_joint_fit_fixed_portion_11122021_multi_reg/univariate_filtertype2_951103877_951112992.pkl\n",
      "util.save_variable, save variable to:  D:/Brain_Network/Output/jitter/coupling_filter/CD_DE_condition19_joint_fit_fixed_portion_11122021_multi_reg/multivariate_filtertype2_951103877_951112992.pkl\n",
      "663it [2:09:35, 11.51s/it]util.save_variable, save variable to:  D:/Brain_Network/Output/jitter/coupling_filter/CD_DE_condition19_joint_fit_fixed_portion_11122021_multi_reg/univariate_filtertype2_951103877_951113075.pkl\n",
      "util.save_variable, save variable to:  D:/Brain_Network/Output/jitter/coupling_filter/CD_DE_condition19_joint_fit_fixed_portion_11122021_multi_reg/multivariate_filtertype2_951103877_951113075.pkl\n",
      "664it [2:09:44, 10.77s/it]util.save_variable, save variable to:  D:/Brain_Network/Output/jitter/coupling_filter/CD_DE_condition19_joint_fit_fixed_portion_11122021_multi_reg/univariate_filtertype2_951103877_951113056.pkl\n",
      "util.save_variable, save variable to:  D:/Brain_Network/Output/jitter/coupling_filter/CD_DE_condition19_joint_fit_fixed_portion_11122021_multi_reg/multivariate_filtertype2_951103877_951113056.pkl\n",
      "665it [2:09:53, 10.15s/it]util.save_variable, save variable to:  D:/Brain_Network/Output/jitter/coupling_filter/CD_DE_condition19_joint_fit_fixed_portion_11122021_multi_reg/univariate_filtertype2_951103877_951113039.pkl\n",
      "util.save_variable, save variable to:  D:/Brain_Network/Output/jitter/coupling_filter/CD_DE_condition19_joint_fit_fixed_portion_11122021_multi_reg/multivariate_filtertype2_951103877_951113039.pkl\n",
      "666it [2:10:07, 11.36s/it]util.save_variable, save variable to:  D:/Brain_Network/Output/jitter/coupling_filter/CD_DE_condition19_joint_fit_fixed_portion_11122021_multi_reg/univariate_filtertype2_951103877_951113191.pkl\n",
      "util.save_variable, save variable to:  D:/Brain_Network/Output/jitter/coupling_filter/CD_DE_condition19_joint_fit_fixed_portion_11122021_multi_reg/multivariate_filtertype2_951103877_951113191.pkl\n",
      "667it [2:10:16, 10.66s/it]util.save_variable, save variable to:  D:/Brain_Network/Output/jitter/coupling_filter/CD_DE_condition19_joint_fit_fixed_portion_11122021_multi_reg/univariate_filtertype2_951103877_951113175.pkl\n",
      "util.save_variable, save variable to:  D:/Brain_Network/Output/jitter/coupling_filter/CD_DE_condition19_joint_fit_fixed_portion_11122021_multi_reg/multivariate_filtertype2_951103877_951113175.pkl\n",
      "668it [2:10:26, 10.51s/it]"
     ]
    },
    {
     "name": "stderr",
     "output_type": "stream",
     "text": [
      "D:/Brain_Network/Code\\jitter.py:4063: RuntimeWarning: invalid value encountered in matmul\n",
      "  lmbd = X @ (beta + beta_offset) + offset\n",
      "D:/Brain_Network/Code\\jitter.py:4065: RuntimeWarning: invalid value encountered in matmul\n",
      "  lmbd_integral = basis_integral.T @ (beta + beta_offset) + offset_integral\n",
      "D:/Brain_Network/Code\\jitter.py:4090: RuntimeWarning: invalid value encountered in subtract\n",
      "  beta_err = np.sum(np.abs(beta_old - beta))\n"
     ]
    },
    {
     "name": "stdout",
     "output_type": "stream",
     "text": [
      "util.save_variable, save variable to:  D:/Brain_Network/Output/jitter/coupling_filter/CD_DE_condition19_joint_fit_fixed_portion_11122021_multi_reg/univariate_filtertype2_951103877_951113141.pkl\n",
      "util.save_variable, save variable to:  D:/Brain_Network/Output/jitter/coupling_filter/CD_DE_condition19_joint_fit_fixed_portion_11122021_multi_reg/multivariate_filtertype2_951103877_951113141.pkl\n",
      "669it [2:10:36, 10.18s/it]util.save_variable, save variable to:  D:/Brain_Network/Output/jitter/coupling_filter/CD_DE_condition19_joint_fit_fixed_portion_11122021_multi_reg/univariate_filtertype2_951103877_951113271.pkl\n",
      "util.save_variable, save variable to:  D:/Brain_Network/Output/jitter/coupling_filter/CD_DE_condition19_joint_fit_fixed_portion_11122021_multi_reg/multivariate_filtertype2_951103877_951113271.pkl\n",
      "670it [2:11:01, 14.53s/it]util.save_variable, save variable to:  D:/Brain_Network/Output/jitter/coupling_filter/CD_DE_condition19_joint_fit_fixed_portion_11122021_multi_reg/univariate_filtertype2_951103877_951113211.pkl\n",
      "util.save_variable, save variable to:  D:/Brain_Network/Output/jitter/coupling_filter/CD_DE_condition19_joint_fit_fixed_portion_11122021_multi_reg/multivariate_filtertype2_951103877_951113211.pkl\n",
      "671it [2:11:12, 13.68s/it]"
     ]
    },
    {
     "name": "stderr",
     "output_type": "stream",
     "text": [
      "D:/Brain_Network/Code\\jitter.py:4063: RuntimeWarning: invalid value encountered in matmul\n",
      "  lmbd = X @ (beta + beta_offset) + offset\n",
      "D:/Brain_Network/Code\\jitter.py:4065: RuntimeWarning: invalid value encountered in matmul\n",
      "  lmbd_integral = basis_integral.T @ (beta + beta_offset) + offset_integral\n",
      "D:/Brain_Network/Code\\jitter.py:4090: RuntimeWarning: invalid value encountered in subtract\n",
      "  beta_err = np.sum(np.abs(beta_old - beta))\n"
     ]
    },
    {
     "name": "stdout",
     "output_type": "stream",
     "text": [
      "util.save_variable, save variable to:  D:/Brain_Network/Output/jitter/coupling_filter/CD_DE_condition19_joint_fit_fixed_portion_11122021_multi_reg/univariate_filtertype2_951103877_951113240.pkl\n",
      "util.save_variable, save variable to:  D:/Brain_Network/Output/jitter/coupling_filter/CD_DE_condition19_joint_fit_fixed_portion_11122021_multi_reg/multivariate_filtertype2_951103877_951113240.pkl\n",
      "672it [2:11:21, 12.24s/it]"
     ]
    },
    {
     "name": "stderr",
     "output_type": "stream",
     "text": [
      "D:/Brain_Network/Code\\jitter.py:4063: RuntimeWarning: invalid value encountered in matmul\n",
      "  lmbd = X @ (beta + beta_offset) + offset\n",
      "D:/Brain_Network/Code\\jitter.py:4065: RuntimeWarning: invalid value encountered in matmul\n",
      "  lmbd_integral = basis_integral.T @ (beta + beta_offset) + offset_integral\n",
      "D:/Brain_Network/Code\\jitter.py:4090: RuntimeWarning: invalid value encountered in subtract\n",
      "  beta_err = np.sum(np.abs(beta_old - beta))\n"
     ]
    },
    {
     "name": "stdout",
     "output_type": "stream",
     "text": [
      "util.save_variable, save variable to:  D:/Brain_Network/Output/jitter/coupling_filter/CD_DE_condition19_joint_fit_fixed_portion_11122021_multi_reg/univariate_filtertype2_951103877_951113464.pkl\n",
      "util.save_variable, save variable to:  D:/Brain_Network/Output/jitter/coupling_filter/CD_DE_condition19_joint_fit_fixed_portion_11122021_multi_reg/multivariate_filtertype2_951103877_951113464.pkl\n",
      "673it [2:11:35, 12.67s/it]util.save_variable, save variable to:  D:/Brain_Network/Output/jitter/coupling_filter/CD_DE_condition19_joint_fit_fixed_portion_11122021_multi_reg/univariate_filtertype2_951103877_951113514.pkl\n",
      "util.save_variable, save variable to:  D:/Brain_Network/Output/jitter/coupling_filter/CD_DE_condition19_joint_fit_fixed_portion_11122021_multi_reg/multivariate_filtertype2_951103877_951113514.pkl\n",
      "674it [2:11:44, 11.71s/it]"
     ]
    },
    {
     "name": "stderr",
     "output_type": "stream",
     "text": [
      "D:/Brain_Network/Code\\jitter.py:4063: RuntimeWarning: invalid value encountered in matmul\n",
      "  lmbd = X @ (beta + beta_offset) + offset\n",
      "D:/Brain_Network/Code\\jitter.py:4065: RuntimeWarning: invalid value encountered in matmul\n",
      "  lmbd_integral = basis_integral.T @ (beta + beta_offset) + offset_integral\n",
      "D:/Brain_Network/Code\\jitter.py:4090: RuntimeWarning: invalid value encountered in subtract\n",
      "  beta_err = np.sum(np.abs(beta_old - beta))\n"
     ]
    },
    {
     "name": "stdout",
     "output_type": "stream",
     "text": [
      "util.save_variable, save variable to:  D:/Brain_Network/Output/jitter/coupling_filter/CD_DE_condition19_joint_fit_fixed_portion_11122021_multi_reg/univariate_filtertype2_951103877_951113717.pkl\n",
      "util.save_variable, save variable to:  D:/Brain_Network/Output/jitter/coupling_filter/CD_DE_condition19_joint_fit_fixed_portion_11122021_multi_reg/multivariate_filtertype2_951103877_951113717.pkl\n",
      "675it [2:11:54, 10.98s/it]util.save_variable, save variable to:  D:/Brain_Network/Output/jitter/coupling_filter/CD_DE_condition19_joint_fit_fixed_portion_11122021_multi_reg/univariate_filtertype2_951104031_951112464.pkl\n",
      "util.save_variable, save variable to:  D:/Brain_Network/Output/jitter/coupling_filter/CD_DE_condition19_joint_fit_fixed_portion_11122021_multi_reg/multivariate_filtertype2_951104031_951112464.pkl\n",
      "676it [2:12:04, 10.92s/it]util.save_variable, save variable to:  D:/Brain_Network/Output/jitter/coupling_filter/CD_DE_condition19_joint_fit_fixed_portion_11122021_multi_reg/univariate_filtertype2_951104031_951112448.pkl\n",
      "util.save_variable, save variable to:  D:/Brain_Network/Output/jitter/coupling_filter/CD_DE_condition19_joint_fit_fixed_portion_11122021_multi_reg/multivariate_filtertype2_951104031_951112448.pkl\n",
      "677it [2:12:15, 10.86s/it]util.save_variable, save variable to:  D:/Brain_Network/Output/jitter/coupling_filter/CD_DE_condition19_joint_fit_fixed_portion_11122021_multi_reg/univariate_filtertype2_951104031_951112431.pkl\n",
      "util.save_variable, save variable to:  D:/Brain_Network/Output/jitter/coupling_filter/CD_DE_condition19_joint_fit_fixed_portion_11122021_multi_reg/multivariate_filtertype2_951104031_951112431.pkl\n",
      "678it [2:12:27, 11.31s/it]"
     ]
    },
    {
     "name": "stderr",
     "output_type": "stream",
     "text": [
      "D:/Brain_Network/Code\\jitter.py:4063: RuntimeWarning: invalid value encountered in matmul\n",
      "  lmbd = X @ (beta + beta_offset) + offset\n",
      "D:/Brain_Network/Code\\jitter.py:4065: RuntimeWarning: invalid value encountered in matmul\n",
      "  lmbd_integral = basis_integral.T @ (beta + beta_offset) + offset_integral\n",
      "D:/Brain_Network/Code\\jitter.py:4090: RuntimeWarning: invalid value encountered in subtract\n",
      "  beta_err = np.sum(np.abs(beta_old - beta))\n"
     ]
    },
    {
     "name": "stdout",
     "output_type": "stream",
     "text": [
      "util.save_variable, save variable to:  D:/Brain_Network/Output/jitter/coupling_filter/CD_DE_condition19_joint_fit_fixed_portion_11122021_multi_reg/univariate_filtertype2_951104031_951112416.pkl\n",
      "util.save_variable, save variable to:  D:/Brain_Network/Output/jitter/coupling_filter/CD_DE_condition19_joint_fit_fixed_portion_11122021_multi_reg/multivariate_filtertype2_951104031_951112416.pkl\n",
      "679it [2:12:37, 10.94s/it]util.save_variable, save variable to:  D:/Brain_Network/Output/jitter/coupling_filter/CD_DE_condition19_joint_fit_fixed_portion_11122021_multi_reg/univariate_filtertype2_951104031_951112479.pkl\n",
      "util.save_variable, save variable to:  D:/Brain_Network/Output/jitter/coupling_filter/CD_DE_condition19_joint_fit_fixed_portion_11122021_multi_reg/multivariate_filtertype2_951104031_951112479.pkl\n",
      "680it [2:12:49, 11.09s/it]"
     ]
    },
    {
     "name": "stderr",
     "output_type": "stream",
     "text": [
      "D:/Brain_Network/Code\\jitter.py:4063: RuntimeWarning: invalid value encountered in matmul\n",
      "  lmbd = X @ (beta + beta_offset) + offset\n",
      "D:/Brain_Network/Code\\jitter.py:4065: RuntimeWarning: invalid value encountered in matmul\n",
      "  lmbd_integral = basis_integral.T @ (beta + beta_offset) + offset_integral\n",
      "D:/Brain_Network/Code\\jitter.py:4090: RuntimeWarning: invalid value encountered in subtract\n",
      "  beta_err = np.sum(np.abs(beta_old - beta))\n"
     ]
    },
    {
     "name": "stdout",
     "output_type": "stream",
     "text": [
      "util.save_variable, save variable to:  D:/Brain_Network/Output/jitter/coupling_filter/CD_DE_condition19_joint_fit_fixed_portion_11122021_multi_reg/univariate_filtertype2_951104031_951112638.pkl\n",
      "util.save_variable, save variable to:  D:/Brain_Network/Output/jitter/coupling_filter/CD_DE_condition19_joint_fit_fixed_portion_11122021_multi_reg/multivariate_filtertype2_951104031_951112638.pkl\n",
      "681it [2:13:01, 11.39s/it]util.save_variable, save variable to:  D:/Brain_Network/Output/jitter/coupling_filter/CD_DE_condition19_joint_fit_fixed_portion_11122021_multi_reg/univariate_filtertype2_951104031_951112590.pkl\n",
      "util.save_variable, save variable to:  D:/Brain_Network/Output/jitter/coupling_filter/CD_DE_condition19_joint_fit_fixed_portion_11122021_multi_reg/multivariate_filtertype2_951104031_951112590.pkl\n",
      "682it [2:13:13, 11.45s/it]util.save_variable, save variable to:  D:/Brain_Network/Output/jitter/coupling_filter/CD_DE_condition19_joint_fit_fixed_portion_11122021_multi_reg/univariate_filtertype2_951104031_951112712.pkl\n",
      "util.save_variable, save variable to:  D:/Brain_Network/Output/jitter/coupling_filter/CD_DE_condition19_joint_fit_fixed_portion_11122021_multi_reg/multivariate_filtertype2_951104031_951112712.pkl\n",
      "683it [2:13:34, 14.33s/it]"
     ]
    },
    {
     "name": "stderr",
     "output_type": "stream",
     "text": [
      "D:/Brain_Network/Code\\jitter.py:4063: RuntimeWarning: invalid value encountered in matmul\n",
      "  lmbd = X @ (beta + beta_offset) + offset\n",
      "D:/Brain_Network/Code\\jitter.py:4065: RuntimeWarning: invalid value encountered in matmul\n",
      "  lmbd_integral = basis_integral.T @ (beta + beta_offset) + offset_integral\n",
      "D:/Brain_Network/Code\\jitter.py:4090: RuntimeWarning: invalid value encountered in subtract\n",
      "  beta_err = np.sum(np.abs(beta_old - beta))\n"
     ]
    },
    {
     "name": "stdout",
     "output_type": "stream",
     "text": [
      "util.save_variable, save variable to:  D:/Brain_Network/Output/jitter/coupling_filter/CD_DE_condition19_joint_fit_fixed_portion_11122021_multi_reg/univariate_filtertype2_951104031_951112786.pkl\n",
      "util.save_variable, save variable to:  D:/Brain_Network/Output/jitter/coupling_filter/CD_DE_condition19_joint_fit_fixed_portion_11122021_multi_reg/multivariate_filtertype2_951104031_951112786.pkl\n",
      "684it [2:13:44, 13.14s/it]"
     ]
    },
    {
     "name": "stderr",
     "output_type": "stream",
     "text": [
      "D:/Brain_Network/Code\\jitter.py:4063: RuntimeWarning: invalid value encountered in matmul\n",
      "  lmbd = X @ (beta + beta_offset) + offset\n",
      "D:/Brain_Network/Code\\jitter.py:4065: RuntimeWarning: invalid value encountered in matmul\n",
      "  lmbd_integral = basis_integral.T @ (beta + beta_offset) + offset_integral\n",
      "D:/Brain_Network/Code\\jitter.py:4090: RuntimeWarning: invalid value encountered in subtract\n",
      "  beta_err = np.sum(np.abs(beta_old - beta))\n"
     ]
    },
    {
     "name": "stdout",
     "output_type": "stream",
     "text": [
      "util.save_variable, save variable to:  D:/Brain_Network/Output/jitter/coupling_filter/CD_DE_condition19_joint_fit_fixed_portion_11122021_multi_reg/univariate_filtertype2_951104031_951112780.pkl\n",
      "util.save_variable, save variable to:  D:/Brain_Network/Output/jitter/coupling_filter/CD_DE_condition19_joint_fit_fixed_portion_11122021_multi_reg/multivariate_filtertype2_951104031_951112780.pkl\n",
      "685it [2:13:51, 11.15s/it]"
     ]
    },
    {
     "name": "stderr",
     "output_type": "stream",
     "text": [
      "D:/Brain_Network/Code\\jitter.py:8323: UserWarning: Reach max itrs 500. Last err:4.341e-03\n",
      "  warnings.warn(f'Reach max itrs {max_num_itrs}. Last err:{beta_err:.3e}')\n"
     ]
    },
    {
     "name": "stdout",
     "output_type": "stream",
     "text": [
      "util.save_variable, save variable to:  D:/Brain_Network/Output/jitter/coupling_filter/CD_DE_condition19_joint_fit_fixed_portion_11122021_multi_reg/univariate_filtertype2_951104031_951112768.pkl\n",
      "util.save_variable, save variable to:  D:/Brain_Network/Output/jitter/coupling_filter/CD_DE_condition19_joint_fit_fixed_portion_11122021_multi_reg/multivariate_filtertype2_951104031_951112768.pkl\n",
      "686it [2:14:06, 12.57s/it]"
     ]
    },
    {
     "name": "stderr",
     "output_type": "stream",
     "text": [
      "D:/Brain_Network/Code\\jitter.py:4063: RuntimeWarning: invalid value encountered in matmul\n",
      "  lmbd = X @ (beta + beta_offset) + offset\n",
      "D:/Brain_Network/Code\\jitter.py:4065: RuntimeWarning: invalid value encountered in matmul\n",
      "  lmbd_integral = basis_integral.T @ (beta + beta_offset) + offset_integral\n",
      "D:/Brain_Network/Code\\jitter.py:4090: RuntimeWarning: invalid value encountered in subtract\n",
      "  beta_err = np.sum(np.abs(beta_old - beta))\n"
     ]
    },
    {
     "name": "stdout",
     "output_type": "stream",
     "text": [
      "util.save_variable, save variable to:  D:/Brain_Network/Output/jitter/coupling_filter/CD_DE_condition19_joint_fit_fixed_portion_11122021_multi_reg/univariate_filtertype2_951104031_951112845.pkl\n",
      "util.save_variable, save variable to:  D:/Brain_Network/Output/jitter/coupling_filter/CD_DE_condition19_joint_fit_fixed_portion_11122021_multi_reg/multivariate_filtertype2_951104031_951112845.pkl\n",
      "687it [2:14:15, 11.45s/it]"
     ]
    },
    {
     "name": "stderr",
     "output_type": "stream",
     "text": [
      "D:/Brain_Network/Code\\jitter.py:4090: RuntimeWarning: invalid value encountered in subtract\n",
      "  beta_err = np.sum(np.abs(beta_old - beta))\n"
     ]
    },
    {
     "name": "stdout",
     "output_type": "stream",
     "text": [
      "util.save_variable, save variable to:  D:/Brain_Network/Output/jitter/coupling_filter/CD_DE_condition19_joint_fit_fixed_portion_11122021_multi_reg/univariate_filtertype2_951104031_951112906.pkl\n",
      "util.save_variable, save variable to:  D:/Brain_Network/Output/jitter/coupling_filter/CD_DE_condition19_joint_fit_fixed_portion_11122021_multi_reg/multivariate_filtertype2_951104031_951112906.pkl\n",
      "688it [2:14:25, 10.88s/it]util.save_variable, save variable to:  D:/Brain_Network/Output/jitter/coupling_filter/CD_DE_condition19_joint_fit_fixed_portion_11122021_multi_reg/univariate_filtertype2_951104031_951112937.pkl\n",
      "util.save_variable, save variable to:  D:/Brain_Network/Output/jitter/coupling_filter/CD_DE_condition19_joint_fit_fixed_portion_11122021_multi_reg/multivariate_filtertype2_951104031_951112937.pkl\n",
      "689it [2:14:35, 10.63s/it]util.save_variable, save variable to:  D:/Brain_Network/Output/jitter/coupling_filter/CD_DE_condition19_joint_fit_fixed_portion_11122021_multi_reg/univariate_filtertype2_951104031_951112992.pkl\n",
      "util.save_variable, save variable to:  D:/Brain_Network/Output/jitter/coupling_filter/CD_DE_condition19_joint_fit_fixed_portion_11122021_multi_reg/multivariate_filtertype2_951104031_951112992.pkl\n",
      "690it [2:14:49, 11.81s/it]util.save_variable, save variable to:  D:/Brain_Network/Output/jitter/coupling_filter/CD_DE_condition19_joint_fit_fixed_portion_11122021_multi_reg/univariate_filtertype2_951104031_951113075.pkl\n",
      "util.save_variable, save variable to:  D:/Brain_Network/Output/jitter/coupling_filter/CD_DE_condition19_joint_fit_fixed_portion_11122021_multi_reg/multivariate_filtertype2_951104031_951113075.pkl\n",
      "691it [2:14:58, 10.99s/it]"
     ]
    },
    {
     "name": "stderr",
     "output_type": "stream",
     "text": [
      "D:/Brain_Network/Code\\jitter.py:4063: RuntimeWarning: invalid value encountered in matmul\n",
      "  lmbd = X @ (beta + beta_offset) + offset\n",
      "D:/Brain_Network/Code\\jitter.py:4065: RuntimeWarning: invalid value encountered in matmul\n",
      "  lmbd_integral = basis_integral.T @ (beta + beta_offset) + offset_integral\n",
      "D:/Brain_Network/Code\\jitter.py:4090: RuntimeWarning: invalid value encountered in subtract\n",
      "  beta_err = np.sum(np.abs(beta_old - beta))\n"
     ]
    },
    {
     "name": "stdout",
     "output_type": "stream",
     "text": [
      "util.save_variable, save variable to:  D:/Brain_Network/Output/jitter/coupling_filter/CD_DE_condition19_joint_fit_fixed_portion_11122021_multi_reg/univariate_filtertype2_951104031_951113056.pkl\n",
      "util.save_variable, save variable to:  D:/Brain_Network/Output/jitter/coupling_filter/CD_DE_condition19_joint_fit_fixed_portion_11122021_multi_reg/multivariate_filtertype2_951104031_951113056.pkl\n",
      "692it [2:15:07, 10.17s/it]"
     ]
    },
    {
     "name": "stderr",
     "output_type": "stream",
     "text": [
      "D:/Brain_Network/Code\\jitter.py:4063: RuntimeWarning: invalid value encountered in matmul\n",
      "  lmbd = X @ (beta + beta_offset) + offset\n",
      "D:/Brain_Network/Code\\jitter.py:4065: RuntimeWarning: invalid value encountered in matmul\n",
      "  lmbd_integral = basis_integral.T @ (beta + beta_offset) + offset_integral\n",
      "D:/Brain_Network/Code\\jitter.py:4090: RuntimeWarning: invalid value encountered in subtract\n",
      "  beta_err = np.sum(np.abs(beta_old - beta))\n"
     ]
    },
    {
     "name": "stdout",
     "output_type": "stream",
     "text": [
      "util.save_variable, save variable to:  D:/Brain_Network/Output/jitter/coupling_filter/CD_DE_condition19_joint_fit_fixed_portion_11122021_multi_reg/univariate_filtertype2_951104031_951113039.pkl\n",
      "util.save_variable, save variable to:  D:/Brain_Network/Output/jitter/coupling_filter/CD_DE_condition19_joint_fit_fixed_portion_11122021_multi_reg/multivariate_filtertype2_951104031_951113039.pkl\n",
      "693it [2:15:22, 11.75s/it]util.save_variable, save variable to:  D:/Brain_Network/Output/jitter/coupling_filter/CD_DE_condition19_joint_fit_fixed_portion_11122021_multi_reg/univariate_filtertype2_951104031_951113191.pkl\n",
      "util.save_variable, save variable to:  D:/Brain_Network/Output/jitter/coupling_filter/CD_DE_condition19_joint_fit_fixed_portion_11122021_multi_reg/multivariate_filtertype2_951104031_951113191.pkl\n",
      "694it [2:15:32, 11.14s/it]util.save_variable, save variable to:  D:/Brain_Network/Output/jitter/coupling_filter/CD_DE_condition19_joint_fit_fixed_portion_11122021_multi_reg/univariate_filtertype2_951104031_951113175.pkl\n",
      "util.save_variable, save variable to:  D:/Brain_Network/Output/jitter/coupling_filter/CD_DE_condition19_joint_fit_fixed_portion_11122021_multi_reg/multivariate_filtertype2_951104031_951113175.pkl\n",
      "695it [2:15:41, 10.65s/it]"
     ]
    },
    {
     "name": "stderr",
     "output_type": "stream",
     "text": [
      "D:/Brain_Network/Code\\jitter.py:4063: RuntimeWarning: invalid value encountered in matmul\n",
      "  lmbd = X @ (beta + beta_offset) + offset\n",
      "D:/Brain_Network/Code\\jitter.py:4065: RuntimeWarning: invalid value encountered in matmul\n",
      "  lmbd_integral = basis_integral.T @ (beta + beta_offset) + offset_integral\n",
      "D:/Brain_Network/Code\\jitter.py:4090: RuntimeWarning: invalid value encountered in subtract\n",
      "  beta_err = np.sum(np.abs(beta_old - beta))\n"
     ]
    },
    {
     "name": "stdout",
     "output_type": "stream",
     "text": [
      "util.save_variable, save variable to:  D:/Brain_Network/Output/jitter/coupling_filter/CD_DE_condition19_joint_fit_fixed_portion_11122021_multi_reg/univariate_filtertype2_951104031_951113141.pkl\n",
      "util.save_variable, save variable to:  D:/Brain_Network/Output/jitter/coupling_filter/CD_DE_condition19_joint_fit_fixed_portion_11122021_multi_reg/multivariate_filtertype2_951104031_951113141.pkl\n",
      "696it [2:15:51, 10.44s/it]util.save_variable, save variable to:  D:/Brain_Network/Output/jitter/coupling_filter/CD_DE_condition19_joint_fit_fixed_portion_11122021_multi_reg/univariate_filtertype2_951104031_951113271.pkl\n",
      "util.save_variable, save variable to:  D:/Brain_Network/Output/jitter/coupling_filter/CD_DE_condition19_joint_fit_fixed_portion_11122021_multi_reg/multivariate_filtertype2_951104031_951113271.pkl\n",
      "697it [2:16:15, 14.55s/it]util.save_variable, save variable to:  D:/Brain_Network/Output/jitter/coupling_filter/CD_DE_condition19_joint_fit_fixed_portion_11122021_multi_reg/univariate_filtertype2_951104031_951113211.pkl\n",
      "util.save_variable, save variable to:  D:/Brain_Network/Output/jitter/coupling_filter/CD_DE_condition19_joint_fit_fixed_portion_11122021_multi_reg/multivariate_filtertype2_951104031_951113211.pkl\n",
      "698it [2:16:26, 13.33s/it]util.save_variable, save variable to:  D:/Brain_Network/Output/jitter/coupling_filter/CD_DE_condition19_joint_fit_fixed_portion_11122021_multi_reg/univariate_filtertype2_951104031_951113240.pkl\n",
      "util.save_variable, save variable to:  D:/Brain_Network/Output/jitter/coupling_filter/CD_DE_condition19_joint_fit_fixed_portion_11122021_multi_reg/multivariate_filtertype2_951104031_951113240.pkl\n",
      "699it [2:16:35, 11.93s/it]util.save_variable, save variable to:  D:/Brain_Network/Output/jitter/coupling_filter/CD_DE_condition19_joint_fit_fixed_portion_11122021_multi_reg/univariate_filtertype2_951104031_951113464.pkl\n",
      "util.save_variable, save variable to:  D:/Brain_Network/Output/jitter/coupling_filter/CD_DE_condition19_joint_fit_fixed_portion_11122021_multi_reg/multivariate_filtertype2_951104031_951113464.pkl\n",
      "700it [2:16:49, 12.65s/it]util.save_variable, save variable to:  D:/Brain_Network/Output/jitter/coupling_filter/CD_DE_condition19_joint_fit_fixed_portion_11122021_multi_reg/univariate_filtertype2_951104031_951113514.pkl\n",
      "util.save_variable, save variable to:  D:/Brain_Network/Output/jitter/coupling_filter/CD_DE_condition19_joint_fit_fixed_portion_11122021_multi_reg/multivariate_filtertype2_951104031_951113514.pkl\n",
      "701it [2:16:59, 11.82s/it]"
     ]
    },
    {
     "name": "stderr",
     "output_type": "stream",
     "text": [
      "D:/Brain_Network/Code\\jitter.py:4063: RuntimeWarning: invalid value encountered in matmul\n",
      "  lmbd = X @ (beta + beta_offset) + offset\n",
      "D:/Brain_Network/Code\\jitter.py:4065: RuntimeWarning: invalid value encountered in matmul\n",
      "  lmbd_integral = basis_integral.T @ (beta + beta_offset) + offset_integral\n",
      "D:/Brain_Network/Code\\jitter.py:4090: RuntimeWarning: invalid value encountered in subtract\n",
      "  beta_err = np.sum(np.abs(beta_old - beta))\n"
     ]
    },
    {
     "name": "stdout",
     "output_type": "stream",
     "text": [
      "util.save_variable, save variable to:  D:/Brain_Network/Output/jitter/coupling_filter/CD_DE_condition19_joint_fit_fixed_portion_11122021_multi_reg/univariate_filtertype2_951104031_951113717.pkl\n",
      "util.save_variable, save variable to:  D:/Brain_Network/Output/jitter/coupling_filter/CD_DE_condition19_joint_fit_fixed_portion_11122021_multi_reg/multivariate_filtertype2_951104031_951113717.pkl\n",
      "702it [2:17:08, 10.95s/it]util.save_variable, save variable to:  D:/Brain_Network/Output/jitter/coupling_filter/CD_DE_condition19_joint_fit_fixed_portion_11122021_multi_reg/univariate_filtertype2_951103918_951112464.pkl\n",
      "util.save_variable, save variable to:  D:/Brain_Network/Output/jitter/coupling_filter/CD_DE_condition19_joint_fit_fixed_portion_11122021_multi_reg/multivariate_filtertype2_951103918_951112464.pkl\n",
      "703it [2:17:17, 10.41s/it]util.save_variable, save variable to:  D:/Brain_Network/Output/jitter/coupling_filter/CD_DE_condition19_joint_fit_fixed_portion_11122021_multi_reg/univariate_filtertype2_951103918_951112448.pkl\n",
      "util.save_variable, save variable to:  D:/Brain_Network/Output/jitter/coupling_filter/CD_DE_condition19_joint_fit_fixed_portion_11122021_multi_reg/multivariate_filtertype2_951103918_951112448.pkl\n",
      "704it [2:17:26, 10.04s/it]util.save_variable, save variable to:  D:/Brain_Network/Output/jitter/coupling_filter/CD_DE_condition19_joint_fit_fixed_portion_11122021_multi_reg/univariate_filtertype2_951103918_951112431.pkl\n",
      "util.save_variable, save variable to:  D:/Brain_Network/Output/jitter/coupling_filter/CD_DE_condition19_joint_fit_fixed_portion_11122021_multi_reg/multivariate_filtertype2_951103918_951112431.pkl\n",
      "705it [2:17:35,  9.78s/it]"
     ]
    },
    {
     "name": "stderr",
     "output_type": "stream",
     "text": [
      "D:/Brain_Network/Code\\jitter.py:4063: RuntimeWarning: invalid value encountered in matmul\n",
      "  lmbd = X @ (beta + beta_offset) + offset\n",
      "D:/Brain_Network/Code\\jitter.py:4065: RuntimeWarning: invalid value encountered in matmul\n",
      "  lmbd_integral = basis_integral.T @ (beta + beta_offset) + offset_integral\n",
      "D:/Brain_Network/Code\\jitter.py:4090: RuntimeWarning: invalid value encountered in subtract\n",
      "  beta_err = np.sum(np.abs(beta_old - beta))\n"
     ]
    },
    {
     "name": "stdout",
     "output_type": "stream",
     "text": [
      "util.save_variable, save variable to:  D:/Brain_Network/Output/jitter/coupling_filter/CD_DE_condition19_joint_fit_fixed_portion_11122021_multi_reg/univariate_filtertype2_951103918_951112416.pkl\n",
      "util.save_variable, save variable to:  D:/Brain_Network/Output/jitter/coupling_filter/CD_DE_condition19_joint_fit_fixed_portion_11122021_multi_reg/multivariate_filtertype2_951103918_951112416.pkl\n",
      "706it [2:17:43,  9.28s/it]"
     ]
    },
    {
     "name": "stderr",
     "output_type": "stream",
     "text": [
      "D:/Brain_Network/Code\\jitter.py:4063: RuntimeWarning: invalid value encountered in matmul\n",
      "  lmbd = X @ (beta + beta_offset) + offset\n",
      "D:/Brain_Network/Code\\jitter.py:4065: RuntimeWarning: invalid value encountered in matmul\n",
      "  lmbd_integral = basis_integral.T @ (beta + beta_offset) + offset_integral\n",
      "D:/Brain_Network/Code\\jitter.py:4090: RuntimeWarning: invalid value encountered in subtract\n",
      "  beta_err = np.sum(np.abs(beta_old - beta))\n"
     ]
    },
    {
     "name": "stdout",
     "output_type": "stream",
     "text": [
      "util.save_variable, save variable to:  D:/Brain_Network/Output/jitter/coupling_filter/CD_DE_condition19_joint_fit_fixed_portion_11122021_multi_reg/univariate_filtertype2_951103918_951112479.pkl\n",
      "util.save_variable, save variable to:  D:/Brain_Network/Output/jitter/coupling_filter/CD_DE_condition19_joint_fit_fixed_portion_11122021_multi_reg/multivariate_filtertype2_951103918_951112479.pkl\n",
      "707it [2:17:53,  9.33s/it]util.save_variable, save variable to:  D:/Brain_Network/Output/jitter/coupling_filter/CD_DE_condition19_joint_fit_fixed_portion_11122021_multi_reg/univariate_filtertype2_951103918_951112638.pkl\n",
      "util.save_variable, save variable to:  D:/Brain_Network/Output/jitter/coupling_filter/CD_DE_condition19_joint_fit_fixed_portion_11122021_multi_reg/multivariate_filtertype2_951103918_951112638.pkl\n",
      "708it [2:18:03,  9.53s/it]util.save_variable, save variable to:  D:/Brain_Network/Output/jitter/coupling_filter/CD_DE_condition19_joint_fit_fixed_portion_11122021_multi_reg/univariate_filtertype2_951103918_951112590.pkl\n",
      "util.save_variable, save variable to:  D:/Brain_Network/Output/jitter/coupling_filter/CD_DE_condition19_joint_fit_fixed_portion_11122021_multi_reg/multivariate_filtertype2_951103918_951112590.pkl\n",
      "709it [2:18:13,  9.78s/it]util.save_variable, save variable to:  D:/Brain_Network/Output/jitter/coupling_filter/CD_DE_condition19_joint_fit_fixed_portion_11122021_multi_reg/univariate_filtertype2_951103918_951112712.pkl\n",
      "util.save_variable, save variable to:  D:/Brain_Network/Output/jitter/coupling_filter/CD_DE_condition19_joint_fit_fixed_portion_11122021_multi_reg/multivariate_filtertype2_951103918_951112712.pkl\n",
      "710it [2:18:30, 11.77s/it]util.save_variable, save variable to:  D:/Brain_Network/Output/jitter/coupling_filter/CD_DE_condition19_joint_fit_fixed_portion_11122021_multi_reg/univariate_filtertype2_951103918_951112786.pkl\n",
      "util.save_variable, save variable to:  D:/Brain_Network/Output/jitter/coupling_filter/CD_DE_condition19_joint_fit_fixed_portion_11122021_multi_reg/multivariate_filtertype2_951103918_951112786.pkl\n",
      "711it [2:18:38, 10.67s/it]"
     ]
    },
    {
     "name": "stderr",
     "output_type": "stream",
     "text": [
      "D:/Brain_Network/Code\\jitter.py:4063: RuntimeWarning: invalid value encountered in matmul\n",
      "  lmbd = X @ (beta + beta_offset) + offset\n",
      "D:/Brain_Network/Code\\jitter.py:4065: RuntimeWarning: invalid value encountered in matmul\n",
      "  lmbd_integral = basis_integral.T @ (beta + beta_offset) + offset_integral\n",
      "D:/Brain_Network/Code\\jitter.py:4090: RuntimeWarning: invalid value encountered in subtract\n",
      "  beta_err = np.sum(np.abs(beta_old - beta))\n"
     ]
    },
    {
     "name": "stdout",
     "output_type": "stream",
     "text": [
      "util.save_variable, save variable to:  D:/Brain_Network/Output/jitter/coupling_filter/CD_DE_condition19_joint_fit_fixed_portion_11122021_multi_reg/univariate_filtertype2_951103918_951112780.pkl\n",
      "util.save_variable, save variable to:  D:/Brain_Network/Output/jitter/coupling_filter/CD_DE_condition19_joint_fit_fixed_portion_11122021_multi_reg/multivariate_filtertype2_951103918_951112780.pkl\n",
      "712it [2:18:44,  9.28s/it]util.save_variable, save variable to:  D:/Brain_Network/Output/jitter/coupling_filter/CD_DE_condition19_joint_fit_fixed_portion_11122021_multi_reg/univariate_filtertype2_951103918_951112768.pkl\n",
      "util.save_variable, save variable to:  D:/Brain_Network/Output/jitter/coupling_filter/CD_DE_condition19_joint_fit_fixed_portion_11122021_multi_reg/multivariate_filtertype2_951103918_951112768.pkl\n",
      "713it [2:18:56, 10.14s/it]util.save_variable, save variable to:  D:/Brain_Network/Output/jitter/coupling_filter/CD_DE_condition19_joint_fit_fixed_portion_11122021_multi_reg/univariate_filtertype2_951103918_951112845.pkl\n",
      "util.save_variable, save variable to:  D:/Brain_Network/Output/jitter/coupling_filter/CD_DE_condition19_joint_fit_fixed_portion_11122021_multi_reg/multivariate_filtertype2_951103918_951112845.pkl\n",
      "714it [2:19:03,  9.16s/it]util.save_variable, save variable to:  D:/Brain_Network/Output/jitter/coupling_filter/CD_DE_condition19_joint_fit_fixed_portion_11122021_multi_reg/univariate_filtertype2_951103918_951112906.pkl\n",
      "util.save_variable, save variable to:  D:/Brain_Network/Output/jitter/coupling_filter/CD_DE_condition19_joint_fit_fixed_portion_11122021_multi_reg/multivariate_filtertype2_951103918_951112906.pkl\n",
      "715it [2:19:10,  8.58s/it]util.save_variable, save variable to:  D:/Brain_Network/Output/jitter/coupling_filter/CD_DE_condition19_joint_fit_fixed_portion_11122021_multi_reg/univariate_filtertype2_951103918_951112937.pkl\n",
      "util.save_variable, save variable to:  D:/Brain_Network/Output/jitter/coupling_filter/CD_DE_condition19_joint_fit_fixed_portion_11122021_multi_reg/multivariate_filtertype2_951103918_951112937.pkl\n",
      "716it [2:19:19,  8.69s/it]util.save_variable, save variable to:  D:/Brain_Network/Output/jitter/coupling_filter/CD_DE_condition19_joint_fit_fixed_portion_11122021_multi_reg/univariate_filtertype2_951103918_951112992.pkl\n",
      "util.save_variable, save variable to:  D:/Brain_Network/Output/jitter/coupling_filter/CD_DE_condition19_joint_fit_fixed_portion_11122021_multi_reg/multivariate_filtertype2_951103918_951112992.pkl\n",
      "717it [2:19:32,  9.97s/it]util.save_variable, save variable to:  D:/Brain_Network/Output/jitter/coupling_filter/CD_DE_condition19_joint_fit_fixed_portion_11122021_multi_reg/univariate_filtertype2_951103918_951113075.pkl\n",
      "util.save_variable, save variable to:  D:/Brain_Network/Output/jitter/coupling_filter/CD_DE_condition19_joint_fit_fixed_portion_11122021_multi_reg/multivariate_filtertype2_951103918_951113075.pkl\n",
      "718it [2:19:40,  9.42s/it]util.save_variable, save variable to:  D:/Brain_Network/Output/jitter/coupling_filter/CD_DE_condition19_joint_fit_fixed_portion_11122021_multi_reg/univariate_filtertype2_951103918_951113056.pkl\n",
      "util.save_variable, save variable to:  D:/Brain_Network/Output/jitter/coupling_filter/CD_DE_condition19_joint_fit_fixed_portion_11122021_multi_reg/multivariate_filtertype2_951103918_951113056.pkl\n",
      "719it [2:19:48,  8.95s/it]"
     ]
    },
    {
     "name": "stderr",
     "output_type": "stream",
     "text": [
      "D:/Brain_Network/Code\\jitter.py:4063: RuntimeWarning: invalid value encountered in matmul\n",
      "  lmbd = X @ (beta + beta_offset) + offset\n",
      "D:/Brain_Network/Code\\jitter.py:4065: RuntimeWarning: invalid value encountered in matmul\n",
      "  lmbd_integral = basis_integral.T @ (beta + beta_offset) + offset_integral\n",
      "D:/Brain_Network/Code\\jitter.py:4090: RuntimeWarning: invalid value encountered in subtract\n",
      "  beta_err = np.sum(np.abs(beta_old - beta))\n"
     ]
    },
    {
     "name": "stdout",
     "output_type": "stream",
     "text": [
      "util.save_variable, save variable to:  D:/Brain_Network/Output/jitter/coupling_filter/CD_DE_condition19_joint_fit_fixed_portion_11122021_multi_reg/univariate_filtertype2_951103918_951113039.pkl\n",
      "util.save_variable, save variable to:  D:/Brain_Network/Output/jitter/coupling_filter/CD_DE_condition19_joint_fit_fixed_portion_11122021_multi_reg/multivariate_filtertype2_951103918_951113039.pkl\n",
      "720it [2:20:03, 10.77s/it]"
     ]
    },
    {
     "name": "stderr",
     "output_type": "stream",
     "text": [
      "D:/Brain_Network/Code\\jitter.py:8323: UserWarning: Reach max itrs 500. Last err:1.242e-06\n",
      "  warnings.warn(f'Reach max itrs {max_num_itrs}. Last err:{beta_err:.3e}')\n"
     ]
    },
    {
     "name": "stdout",
     "output_type": "stream",
     "text": [
      "util.save_variable, save variable to:  D:/Brain_Network/Output/jitter/coupling_filter/CD_DE_condition19_joint_fit_fixed_portion_11122021_multi_reg/univariate_filtertype2_951103918_951113191.pkl\n",
      "util.save_variable, save variable to:  D:/Brain_Network/Output/jitter/coupling_filter/CD_DE_condition19_joint_fit_fixed_portion_11122021_multi_reg/multivariate_filtertype2_951103918_951113191.pkl\n",
      "721it [2:20:11,  9.98s/it]util.save_variable, save variable to:  D:/Brain_Network/Output/jitter/coupling_filter/CD_DE_condition19_joint_fit_fixed_portion_11122021_multi_reg/univariate_filtertype2_951103918_951113175.pkl\n",
      "util.save_variable, save variable to:  D:/Brain_Network/Output/jitter/coupling_filter/CD_DE_condition19_joint_fit_fixed_portion_11122021_multi_reg/multivariate_filtertype2_951103918_951113175.pkl\n",
      "722it [2:20:20,  9.79s/it]util.save_variable, save variable to:  D:/Brain_Network/Output/jitter/coupling_filter/CD_DE_condition19_joint_fit_fixed_portion_11122021_multi_reg/univariate_filtertype2_951103918_951113141.pkl\n",
      "util.save_variable, save variable to:  D:/Brain_Network/Output/jitter/coupling_filter/CD_DE_condition19_joint_fit_fixed_portion_11122021_multi_reg/multivariate_filtertype2_951103918_951113141.pkl\n",
      "723it [2:20:30,  9.75s/it]util.save_variable, save variable to:  D:/Brain_Network/Output/jitter/coupling_filter/CD_DE_condition19_joint_fit_fixed_portion_11122021_multi_reg/univariate_filtertype2_951103918_951113271.pkl\n",
      "util.save_variable, save variable to:  D:/Brain_Network/Output/jitter/coupling_filter/CD_DE_condition19_joint_fit_fixed_portion_11122021_multi_reg/multivariate_filtertype2_951103918_951113271.pkl\n",
      "724it [2:20:55, 14.20s/it]"
     ]
    },
    {
     "name": "stderr",
     "output_type": "stream",
     "text": [
      "D:/Brain_Network/Code\\jitter.py:4063: RuntimeWarning: invalid value encountered in matmul\n",
      "  lmbd = X @ (beta + beta_offset) + offset\n",
      "D:/Brain_Network/Code\\jitter.py:4065: RuntimeWarning: invalid value encountered in matmul\n",
      "  lmbd_integral = basis_integral.T @ (beta + beta_offset) + offset_integral\n",
      "D:/Brain_Network/Code\\jitter.py:4090: RuntimeWarning: invalid value encountered in subtract\n",
      "  beta_err = np.sum(np.abs(beta_old - beta))\n"
     ]
    },
    {
     "name": "stdout",
     "output_type": "stream",
     "text": [
      "util.save_variable, save variable to:  D:/Brain_Network/Output/jitter/coupling_filter/CD_DE_condition19_joint_fit_fixed_portion_11122021_multi_reg/univariate_filtertype2_951103918_951113211.pkl\n",
      "util.save_variable, save variable to:  D:/Brain_Network/Output/jitter/coupling_filter/CD_DE_condition19_joint_fit_fixed_portion_11122021_multi_reg/multivariate_filtertype2_951103918_951113211.pkl\n",
      "725it [2:21:03, 12.48s/it]"
     ]
    },
    {
     "name": "stderr",
     "output_type": "stream",
     "text": [
      "D:/Brain_Network/Code\\jitter.py:4063: RuntimeWarning: invalid value encountered in matmul\n",
      "  lmbd = X @ (beta + beta_offset) + offset\n",
      "D:/Brain_Network/Code\\jitter.py:4065: RuntimeWarning: invalid value encountered in matmul\n",
      "  lmbd_integral = basis_integral.T @ (beta + beta_offset) + offset_integral\n",
      "D:/Brain_Network/Code\\jitter.py:4090: RuntimeWarning: invalid value encountered in subtract\n",
      "  beta_err = np.sum(np.abs(beta_old - beta))\n"
     ]
    },
    {
     "name": "stdout",
     "output_type": "stream",
     "text": [
      "util.save_variable, save variable to:  D:/Brain_Network/Output/jitter/coupling_filter/CD_DE_condition19_joint_fit_fixed_portion_11122021_multi_reg/univariate_filtertype2_951103918_951113240.pkl\n",
      "util.save_variable, save variable to:  D:/Brain_Network/Output/jitter/coupling_filter/CD_DE_condition19_joint_fit_fixed_portion_11122021_multi_reg/multivariate_filtertype2_951103918_951113240.pkl\n",
      "726it [2:21:11, 11.21s/it]util.save_variable, save variable to:  D:/Brain_Network/Output/jitter/coupling_filter/CD_DE_condition19_joint_fit_fixed_portion_11122021_multi_reg/univariate_filtertype2_951103918_951113464.pkl\n",
      "util.save_variable, save variable to:  D:/Brain_Network/Output/jitter/coupling_filter/CD_DE_condition19_joint_fit_fixed_portion_11122021_multi_reg/multivariate_filtertype2_951103918_951113464.pkl\n",
      "727it [2:21:24, 11.68s/it]"
     ]
    },
    {
     "name": "stderr",
     "output_type": "stream",
     "text": [
      "D:/Brain_Network/Code\\jitter.py:4063: RuntimeWarning: invalid value encountered in matmul\n",
      "  lmbd = X @ (beta + beta_offset) + offset\n",
      "D:/Brain_Network/Code\\jitter.py:4065: RuntimeWarning: invalid value encountered in matmul\n",
      "  lmbd_integral = basis_integral.T @ (beta + beta_offset) + offset_integral\n",
      "D:/Brain_Network/Code\\jitter.py:4090: RuntimeWarning: invalid value encountered in subtract\n",
      "  beta_err = np.sum(np.abs(beta_old - beta))\n"
     ]
    },
    {
     "name": "stdout",
     "output_type": "stream",
     "text": [
      "util.save_variable, save variable to:  D:/Brain_Network/Output/jitter/coupling_filter/CD_DE_condition19_joint_fit_fixed_portion_11122021_multi_reg/univariate_filtertype2_951103918_951113514.pkl\n",
      "util.save_variable, save variable to:  D:/Brain_Network/Output/jitter/coupling_filter/CD_DE_condition19_joint_fit_fixed_portion_11122021_multi_reg/multivariate_filtertype2_951103918_951113514.pkl\n",
      "728it [2:21:33, 10.74s/it]util.save_variable, save variable to:  D:/Brain_Network/Output/jitter/coupling_filter/CD_DE_condition19_joint_fit_fixed_portion_11122021_multi_reg/univariate_filtertype2_951103918_951113717.pkl\n",
      "util.save_variable, save variable to:  D:/Brain_Network/Output/jitter/coupling_filter/CD_DE_condition19_joint_fit_fixed_portion_11122021_multi_reg/multivariate_filtertype2_951103918_951113717.pkl\n",
      "729it [2:21:41,  9.98s/it]util.save_variable, save variable to:  D:/Brain_Network/Output/jitter/coupling_filter/CD_DE_condition19_joint_fit_fixed_portion_11122021_multi_reg/univariate_filtertype2_951104192_951112464.pkl\n",
      "util.save_variable, save variable to:  D:/Brain_Network/Output/jitter/coupling_filter/CD_DE_condition19_joint_fit_fixed_portion_11122021_multi_reg/multivariate_filtertype2_951104192_951112464.pkl\n",
      "730it [2:21:52, 10.32s/it]util.save_variable, save variable to:  D:/Brain_Network/Output/jitter/coupling_filter/CD_DE_condition19_joint_fit_fixed_portion_11122021_multi_reg/univariate_filtertype2_951104192_951112448.pkl\n",
      "util.save_variable, save variable to:  D:/Brain_Network/Output/jitter/coupling_filter/CD_DE_condition19_joint_fit_fixed_portion_11122021_multi_reg/multivariate_filtertype2_951104192_951112448.pkl\n",
      "731it [2:22:05, 11.12s/it]util.save_variable, save variable to:  D:/Brain_Network/Output/jitter/coupling_filter/CD_DE_condition19_joint_fit_fixed_portion_11122021_multi_reg/univariate_filtertype2_951104192_951112431.pkl\n",
      "util.save_variable, save variable to:  D:/Brain_Network/Output/jitter/coupling_filter/CD_DE_condition19_joint_fit_fixed_portion_11122021_multi_reg/multivariate_filtertype2_951104192_951112431.pkl\n",
      "732it [2:22:17, 11.34s/it]"
     ]
    },
    {
     "name": "stderr",
     "output_type": "stream",
     "text": [
      "D:/Brain_Network/Code\\jitter.py:4063: RuntimeWarning: invalid value encountered in matmul\n",
      "  lmbd = X @ (beta + beta_offset) + offset\n",
      "D:/Brain_Network/Code\\jitter.py:4065: RuntimeWarning: invalid value encountered in matmul\n",
      "  lmbd_integral = basis_integral.T @ (beta + beta_offset) + offset_integral\n",
      "D:/Brain_Network/Code\\jitter.py:4090: RuntimeWarning: invalid value encountered in subtract\n",
      "  beta_err = np.sum(np.abs(beta_old - beta))\n"
     ]
    },
    {
     "name": "stdout",
     "output_type": "stream",
     "text": [
      "util.save_variable, save variable to:  D:/Brain_Network/Output/jitter/coupling_filter/CD_DE_condition19_joint_fit_fixed_portion_11122021_multi_reg/univariate_filtertype2_951104192_951112416.pkl\n",
      "util.save_variable, save variable to:  D:/Brain_Network/Output/jitter/coupling_filter/CD_DE_condition19_joint_fit_fixed_portion_11122021_multi_reg/multivariate_filtertype2_951104192_951112416.pkl\n",
      "733it [2:22:27, 11.12s/it]"
     ]
    },
    {
     "name": "stderr",
     "output_type": "stream",
     "text": [
      "D:/Brain_Network/Code\\jitter.py:4063: RuntimeWarning: invalid value encountered in matmul\n",
      "  lmbd = X @ (beta + beta_offset) + offset\n",
      "D:/Brain_Network/Code\\jitter.py:4065: RuntimeWarning: invalid value encountered in matmul\n",
      "  lmbd_integral = basis_integral.T @ (beta + beta_offset) + offset_integral\n",
      "D:/Brain_Network/Code\\jitter.py:4090: RuntimeWarning: invalid value encountered in subtract\n",
      "  beta_err = np.sum(np.abs(beta_old - beta))\n"
     ]
    },
    {
     "name": "stdout",
     "output_type": "stream",
     "text": [
      "util.save_variable, save variable to:  D:/Brain_Network/Output/jitter/coupling_filter/CD_DE_condition19_joint_fit_fixed_portion_11122021_multi_reg/univariate_filtertype2_951104192_951112479.pkl\n",
      "util.save_variable, save variable to:  D:/Brain_Network/Output/jitter/coupling_filter/CD_DE_condition19_joint_fit_fixed_portion_11122021_multi_reg/multivariate_filtertype2_951104192_951112479.pkl\n",
      "734it [2:22:38, 10.97s/it]"
     ]
    },
    {
     "name": "stderr",
     "output_type": "stream",
     "text": [
      "D:/Brain_Network/Code\\jitter.py:4063: RuntimeWarning: invalid value encountered in matmul\n",
      "  lmbd = X @ (beta + beta_offset) + offset\n",
      "D:/Brain_Network/Code\\jitter.py:4065: RuntimeWarning: invalid value encountered in matmul\n",
      "  lmbd_integral = basis_integral.T @ (beta + beta_offset) + offset_integral\n",
      "D:/Brain_Network/Code\\jitter.py:4090: RuntimeWarning: invalid value encountered in subtract\n",
      "  beta_err = np.sum(np.abs(beta_old - beta))\n"
     ]
    },
    {
     "name": "stdout",
     "output_type": "stream",
     "text": [
      "util.save_variable, save variable to:  D:/Brain_Network/Output/jitter/coupling_filter/CD_DE_condition19_joint_fit_fixed_portion_11122021_multi_reg/univariate_filtertype2_951104192_951112638.pkl\n",
      "util.save_variable, save variable to:  D:/Brain_Network/Output/jitter/coupling_filter/CD_DE_condition19_joint_fit_fixed_portion_11122021_multi_reg/multivariate_filtertype2_951104192_951112638.pkl\n",
      "735it [2:22:51, 11.47s/it]util.save_variable, save variable to:  D:/Brain_Network/Output/jitter/coupling_filter/CD_DE_condition19_joint_fit_fixed_portion_11122021_multi_reg/univariate_filtertype2_951104192_951112590.pkl\n",
      "util.save_variable, save variable to:  D:/Brain_Network/Output/jitter/coupling_filter/CD_DE_condition19_joint_fit_fixed_portion_11122021_multi_reg/multivariate_filtertype2_951104192_951112590.pkl\n",
      "736it [2:23:05, 12.26s/it]util.save_variable, save variable to:  D:/Brain_Network/Output/jitter/coupling_filter/CD_DE_condition19_joint_fit_fixed_portion_11122021_multi_reg/univariate_filtertype2_951104192_951112712.pkl\n",
      "util.save_variable, save variable to:  D:/Brain_Network/Output/jitter/coupling_filter/CD_DE_condition19_joint_fit_fixed_portion_11122021_multi_reg/multivariate_filtertype2_951104192_951112712.pkl\n",
      "737it [2:23:26, 14.94s/it]"
     ]
    },
    {
     "name": "stderr",
     "output_type": "stream",
     "text": [
      "D:/Brain_Network/Code\\jitter.py:4063: RuntimeWarning: invalid value encountered in matmul\n",
      "  lmbd = X @ (beta + beta_offset) + offset\n",
      "D:/Brain_Network/Code\\jitter.py:4065: RuntimeWarning: invalid value encountered in matmul\n",
      "  lmbd_integral = basis_integral.T @ (beta + beta_offset) + offset_integral\n",
      "D:/Brain_Network/Code\\jitter.py:4090: RuntimeWarning: invalid value encountered in subtract\n",
      "  beta_err = np.sum(np.abs(beta_old - beta))\n"
     ]
    },
    {
     "name": "stdout",
     "output_type": "stream",
     "text": [
      "util.save_variable, save variable to:  D:/Brain_Network/Output/jitter/coupling_filter/CD_DE_condition19_joint_fit_fixed_portion_11122021_multi_reg/univariate_filtertype2_951104192_951112786.pkl\n",
      "util.save_variable, save variable to:  D:/Brain_Network/Output/jitter/coupling_filter/CD_DE_condition19_joint_fit_fixed_portion_11122021_multi_reg/multivariate_filtertype2_951104192_951112786.pkl\n",
      "738it [2:23:36, 13.52s/it]"
     ]
    },
    {
     "name": "stderr",
     "output_type": "stream",
     "text": [
      "D:/Brain_Network/Code\\jitter.py:4063: RuntimeWarning: invalid value encountered in matmul\n",
      "  lmbd = X @ (beta + beta_offset) + offset\n",
      "D:/Brain_Network/Code\\jitter.py:4065: RuntimeWarning: invalid value encountered in matmul\n",
      "  lmbd_integral = basis_integral.T @ (beta + beta_offset) + offset_integral\n",
      "D:/Brain_Network/Code\\jitter.py:4090: RuntimeWarning: invalid value encountered in subtract\n",
      "  beta_err = np.sum(np.abs(beta_old - beta))\n"
     ]
    },
    {
     "name": "stdout",
     "output_type": "stream",
     "text": [
      "util.save_variable, save variable to:  D:/Brain_Network/Output/jitter/coupling_filter/CD_DE_condition19_joint_fit_fixed_portion_11122021_multi_reg/univariate_filtertype2_951104192_951112780.pkl\n",
      "util.save_variable, save variable to:  D:/Brain_Network/Output/jitter/coupling_filter/CD_DE_condition19_joint_fit_fixed_portion_11122021_multi_reg/multivariate_filtertype2_951104192_951112780.pkl\n",
      "739it [2:23:43, 11.46s/it]"
     ]
    },
    {
     "name": "stderr",
     "output_type": "stream",
     "text": [
      "D:/Brain_Network/Code\\jitter.py:8302: RuntimeWarning: overflow encountered in square\n",
      "  hessian = X[non_zero_ind].T @ (X[non_zero_ind] / np.square(lmbd[non_zero_ind]))\n"
     ]
    },
    {
     "name": "stdout",
     "output_type": "stream",
     "text": [
      "util.save_variable, save variable to:  D:/Brain_Network/Output/jitter/coupling_filter/CD_DE_condition19_joint_fit_fixed_portion_11122021_multi_reg/univariate_filtertype2_951104192_951112768.pkl\n",
      "util.save_variable, save variable to:  D:/Brain_Network/Output/jitter/coupling_filter/CD_DE_condition19_joint_fit_fixed_portion_11122021_multi_reg/multivariate_filtertype2_951104192_951112768.pkl\n",
      "740it [2:24:00, 13.21s/it]"
     ]
    },
    {
     "name": "stderr",
     "output_type": "stream",
     "text": [
      "D:/Brain_Network/Code\\jitter.py:4063: RuntimeWarning: invalid value encountered in matmul\n",
      "  lmbd = X @ (beta + beta_offset) + offset\n",
      "D:/Brain_Network/Code\\jitter.py:4065: RuntimeWarning: invalid value encountered in matmul\n",
      "  lmbd_integral = basis_integral.T @ (beta + beta_offset) + offset_integral\n",
      "D:/Brain_Network/Code\\jitter.py:4090: RuntimeWarning: invalid value encountered in subtract\n",
      "  beta_err = np.sum(np.abs(beta_old - beta))\n"
     ]
    },
    {
     "name": "stdout",
     "output_type": "stream",
     "text": [
      "util.save_variable, save variable to:  D:/Brain_Network/Output/jitter/coupling_filter/CD_DE_condition19_joint_fit_fixed_portion_11122021_multi_reg/univariate_filtertype2_951104192_951112845.pkl\n",
      "util.save_variable, save variable to:  D:/Brain_Network/Output/jitter/coupling_filter/CD_DE_condition19_joint_fit_fixed_portion_11122021_multi_reg/multivariate_filtertype2_951104192_951112845.pkl\n",
      "741it [2:24:09, 11.81s/it]"
     ]
    },
    {
     "name": "stderr",
     "output_type": "stream",
     "text": [
      "D:/Brain_Network/Code\\jitter.py:4063: RuntimeWarning: invalid value encountered in matmul\n",
      "  lmbd = X @ (beta + beta_offset) + offset\n",
      "D:/Brain_Network/Code\\jitter.py:4065: RuntimeWarning: invalid value encountered in matmul\n",
      "  lmbd_integral = basis_integral.T @ (beta + beta_offset) + offset_integral\n",
      "D:/Brain_Network/Code\\jitter.py:4090: RuntimeWarning: invalid value encountered in subtract\n",
      "  beta_err = np.sum(np.abs(beta_old - beta))\n"
     ]
    },
    {
     "name": "stdout",
     "output_type": "stream",
     "text": [
      "util.save_variable, save variable to:  D:/Brain_Network/Output/jitter/coupling_filter/CD_DE_condition19_joint_fit_fixed_portion_11122021_multi_reg/univariate_filtertype2_951104192_951112906.pkl\n",
      "util.save_variable, save variable to:  D:/Brain_Network/Output/jitter/coupling_filter/CD_DE_condition19_joint_fit_fixed_portion_11122021_multi_reg/multivariate_filtertype2_951104192_951112906.pkl\n",
      "742it [2:24:19, 11.33s/it]"
     ]
    },
    {
     "name": "stderr",
     "output_type": "stream",
     "text": [
      "D:/Brain_Network/Code\\jitter.py:4063: RuntimeWarning: invalid value encountered in matmul\n",
      "  lmbd = X @ (beta + beta_offset) + offset\n",
      "D:/Brain_Network/Code\\jitter.py:4065: RuntimeWarning: invalid value encountered in matmul\n",
      "  lmbd_integral = basis_integral.T @ (beta + beta_offset) + offset_integral\n",
      "D:/Brain_Network/Code\\jitter.py:4090: RuntimeWarning: invalid value encountered in subtract\n",
      "  beta_err = np.sum(np.abs(beta_old - beta))\n"
     ]
    },
    {
     "name": "stdout",
     "output_type": "stream",
     "text": [
      "util.save_variable, save variable to:  D:/Brain_Network/Output/jitter/coupling_filter/CD_DE_condition19_joint_fit_fixed_portion_11122021_multi_reg/univariate_filtertype2_951104192_951112937.pkl\n",
      "util.save_variable, save variable to:  D:/Brain_Network/Output/jitter/coupling_filter/CD_DE_condition19_joint_fit_fixed_portion_11122021_multi_reg/multivariate_filtertype2_951104192_951112937.pkl\n",
      "743it [2:24:30, 11.19s/it]util.save_variable, save variable to:  D:/Brain_Network/Output/jitter/coupling_filter/CD_DE_condition19_joint_fit_fixed_portion_11122021_multi_reg/univariate_filtertype2_951104192_951112992.pkl\n",
      "util.save_variable, save variable to:  D:/Brain_Network/Output/jitter/coupling_filter/CD_DE_condition19_joint_fit_fixed_portion_11122021_multi_reg/multivariate_filtertype2_951104192_951112992.pkl\n",
      "744it [2:24:47, 13.14s/it]util.save_variable, save variable to:  D:/Brain_Network/Output/jitter/coupling_filter/CD_DE_condition19_joint_fit_fixed_portion_11122021_multi_reg/univariate_filtertype2_951104192_951113075.pkl\n",
      "util.save_variable, save variable to:  D:/Brain_Network/Output/jitter/coupling_filter/CD_DE_condition19_joint_fit_fixed_portion_11122021_multi_reg/multivariate_filtertype2_951104192_951113075.pkl\n",
      "745it [2:24:58, 12.30s/it]util.save_variable, save variable to:  D:/Brain_Network/Output/jitter/coupling_filter/CD_DE_condition19_joint_fit_fixed_portion_11122021_multi_reg/univariate_filtertype2_951104192_951113056.pkl\n",
      "util.save_variable, save variable to:  D:/Brain_Network/Output/jitter/coupling_filter/CD_DE_condition19_joint_fit_fixed_portion_11122021_multi_reg/multivariate_filtertype2_951104192_951113056.pkl\n",
      "746it [2:25:07, 11.46s/it]"
     ]
    },
    {
     "name": "stderr",
     "output_type": "stream",
     "text": [
      "D:/Brain_Network/Code\\jitter.py:4063: RuntimeWarning: invalid value encountered in matmul\n",
      "  lmbd = X @ (beta + beta_offset) + offset\n",
      "D:/Brain_Network/Code\\jitter.py:4065: RuntimeWarning: invalid value encountered in matmul\n",
      "  lmbd_integral = basis_integral.T @ (beta + beta_offset) + offset_integral\n",
      "D:/Brain_Network/Code\\jitter.py:4090: RuntimeWarning: invalid value encountered in subtract\n",
      "  beta_err = np.sum(np.abs(beta_old - beta))\n"
     ]
    },
    {
     "name": "stdout",
     "output_type": "stream",
     "text": [
      "util.save_variable, save variable to:  D:/Brain_Network/Output/jitter/coupling_filter/CD_DE_condition19_joint_fit_fixed_portion_11122021_multi_reg/univariate_filtertype2_951104192_951113039.pkl\n",
      "util.save_variable, save variable to:  D:/Brain_Network/Output/jitter/coupling_filter/CD_DE_condition19_joint_fit_fixed_portion_11122021_multi_reg/multivariate_filtertype2_951104192_951113039.pkl\n",
      "747it [2:25:28, 14.15s/it]util.save_variable, save variable to:  D:/Brain_Network/Output/jitter/coupling_filter/CD_DE_condition19_joint_fit_fixed_portion_11122021_multi_reg/univariate_filtertype2_951104192_951113191.pkl\n",
      "util.save_variable, save variable to:  D:/Brain_Network/Output/jitter/coupling_filter/CD_DE_condition19_joint_fit_fixed_portion_11122021_multi_reg/multivariate_filtertype2_951104192_951113191.pkl\n",
      "748it [2:25:37, 12.61s/it]util.save_variable, save variable to:  D:/Brain_Network/Output/jitter/coupling_filter/CD_DE_condition19_joint_fit_fixed_portion_11122021_multi_reg/univariate_filtertype2_951104192_951113175.pkl\n",
      "util.save_variable, save variable to:  D:/Brain_Network/Output/jitter/coupling_filter/CD_DE_condition19_joint_fit_fixed_portion_11122021_multi_reg/multivariate_filtertype2_951104192_951113175.pkl\n",
      "749it [2:25:49, 12.43s/it]util.save_variable, save variable to:  D:/Brain_Network/Output/jitter/coupling_filter/CD_DE_condition19_joint_fit_fixed_portion_11122021_multi_reg/univariate_filtertype2_951104192_951113141.pkl\n",
      "util.save_variable, save variable to:  D:/Brain_Network/Output/jitter/coupling_filter/CD_DE_condition19_joint_fit_fixed_portion_11122021_multi_reg/multivariate_filtertype2_951104192_951113141.pkl\n",
      "750it [2:26:01, 12.36s/it]util.save_variable, save variable to:  D:/Brain_Network/Output/jitter/coupling_filter/CD_DE_condition19_joint_fit_fixed_portion_11122021_multi_reg/univariate_filtertype2_951104192_951113271.pkl\n",
      "util.save_variable, save variable to:  D:/Brain_Network/Output/jitter/coupling_filter/CD_DE_condition19_joint_fit_fixed_portion_11122021_multi_reg/multivariate_filtertype2_951104192_951113271.pkl\n",
      "751it [2:26:29, 17.09s/it]util.save_variable, save variable to:  D:/Brain_Network/Output/jitter/coupling_filter/CD_DE_condition19_joint_fit_fixed_portion_11122021_multi_reg/univariate_filtertype2_951104192_951113211.pkl\n",
      "util.save_variable, save variable to:  D:/Brain_Network/Output/jitter/coupling_filter/CD_DE_condition19_joint_fit_fixed_portion_11122021_multi_reg/multivariate_filtertype2_951104192_951113211.pkl\n",
      "752it [2:26:44, 16.29s/it]"
     ]
    },
    {
     "name": "stderr",
     "output_type": "stream",
     "text": [
      "D:/Brain_Network/Code\\jitter.py:4063: RuntimeWarning: invalid value encountered in matmul\n",
      "  lmbd = X @ (beta + beta_offset) + offset\n",
      "D:/Brain_Network/Code\\jitter.py:4065: RuntimeWarning: invalid value encountered in matmul\n",
      "  lmbd_integral = basis_integral.T @ (beta + beta_offset) + offset_integral\n",
      "D:/Brain_Network/Code\\jitter.py:4090: RuntimeWarning: invalid value encountered in subtract\n",
      "  beta_err = np.sum(np.abs(beta_old - beta))\n"
     ]
    },
    {
     "name": "stdout",
     "output_type": "stream",
     "text": [
      "util.save_variable, save variable to:  D:/Brain_Network/Output/jitter/coupling_filter/CD_DE_condition19_joint_fit_fixed_portion_11122021_multi_reg/univariate_filtertype2_951104192_951113240.pkl\n",
      "util.save_variable, save variable to:  D:/Brain_Network/Output/jitter/coupling_filter/CD_DE_condition19_joint_fit_fixed_portion_11122021_multi_reg/multivariate_filtertype2_951104192_951113240.pkl\n",
      "753it [2:26:52, 14.02s/it]util.save_variable, save variable to:  D:/Brain_Network/Output/jitter/coupling_filter/CD_DE_condition19_joint_fit_fixed_portion_11122021_multi_reg/univariate_filtertype2_951104192_951113464.pkl\n",
      "util.save_variable, save variable to:  D:/Brain_Network/Output/jitter/coupling_filter/CD_DE_condition19_joint_fit_fixed_portion_11122021_multi_reg/multivariate_filtertype2_951104192_951113464.pkl\n",
      "754it [2:27:08, 14.63s/it]"
     ]
    },
    {
     "name": "stderr",
     "output_type": "stream",
     "text": [
      "D:/Brain_Network/Code\\jitter.py:4063: RuntimeWarning: invalid value encountered in matmul\n",
      "  lmbd = X @ (beta + beta_offset) + offset\n",
      "D:/Brain_Network/Code\\jitter.py:4065: RuntimeWarning: invalid value encountered in matmul\n",
      "  lmbd_integral = basis_integral.T @ (beta + beta_offset) + offset_integral\n",
      "D:/Brain_Network/Code\\jitter.py:4090: RuntimeWarning: invalid value encountered in subtract\n",
      "  beta_err = np.sum(np.abs(beta_old - beta))\n"
     ]
    },
    {
     "name": "stdout",
     "output_type": "stream",
     "text": [
      "util.save_variable, save variable to:  D:/Brain_Network/Output/jitter/coupling_filter/CD_DE_condition19_joint_fit_fixed_portion_11122021_multi_reg/univariate_filtertype2_951104192_951113514.pkl\n",
      "util.save_variable, save variable to:  D:/Brain_Network/Output/jitter/coupling_filter/CD_DE_condition19_joint_fit_fixed_portion_11122021_multi_reg/multivariate_filtertype2_951104192_951113514.pkl\n",
      "755it [2:27:20, 13.77s/it]util.save_variable, save variable to:  D:/Brain_Network/Output/jitter/coupling_filter/CD_DE_condition19_joint_fit_fixed_portion_11122021_multi_reg/univariate_filtertype2_951104192_951113717.pkl\n",
      "util.save_variable, save variable to:  D:/Brain_Network/Output/jitter/coupling_filter/CD_DE_condition19_joint_fit_fixed_portion_11122021_multi_reg/multivariate_filtertype2_951104192_951113717.pkl\n",
      "756it [2:27:30, 11.71s/it]\n"
     ]
    }
   ],
   "source": [
    "output_dir = project_dir + f'Output/jitter/coupling_filter/CD_DE_condition19_joint_fit_fixed_portion_11122021_multi_reg/'\n",
    "filter_type = 2\n",
    "\n",
    "import itertools\n",
    "for n1, n2 in tqdm(itertools.product(v1_neurons, al_neurons), ncols=100, file=sys.stdout):\n",
    "    neuron_pairs = [(n1, n2)]\n",
    "    filter_membership_one = model.init_filter_membership(neuron_pairs, trial_ids=selected_trial_ids)\n",
    "    for trial_id in selected_trial_ids:\n",
    "        filter_membership_one = model.update_filter_membership(spike_times, trial_window, group_portion,\n",
    "                group_model_pars, filter_membership_one, [trial_id], verbose=False)\n",
    "    df = filter_membership_one.T\n",
    "    sub_trial_ids = df.index.values[(df==filter_type).values.reshape(-1)]\n",
    "    lm_neurons = active_units[active_units['probe_description']=='probeD'].index.values\n",
    "    spike_times_z = model.stack_spike_times_multivariate(spike_times, lm_neurons, sub_trial_ids)\n",
    "    spike_times_x, spike_times_y = model.stack_spike_times_multivariate(spike_times, neuron_pairs[0], sub_trial_ids)\n",
    "\n",
    "    #-------------- univariate -------------\n",
    "    model_par_const = {'append_nuisance': ['const'], 'const_offset': 0, 'learning_rate': 0.9, 'max_num_itrs': 100, 'epsilon': 1e-6}\n",
    "    model_par_square = {'filter_type': 'square', 'filter_length': 0.03,\n",
    "                 'append_nuisance': ['gaussian_kernel'], 'kernel_width': 0.06,\n",
    "                 'const_offset': 0, 'learning_rate': 0.9, 'max_num_itrs': 100, 'epsilon': 1e-6}\n",
    "    model_par_bspline = {'filter_type': 'bspline', 'num_knots': 4, 'knot_space_par': 0.08, 'filter_length': 0.06, 'num_tail_drop': 1,\n",
    "                 'append_nuisance': ['gaussian_kernel'], 'kernel_width': 0.06,\n",
    "                 'const_offset': 0, 'learning_rate': 0.9, 'max_num_itrs': 100, 'epsilon': 1e-5}\n",
    "    model_par_multi = jittertool.multivariate_continuous_time_coupling_filter_regression(\n",
    "        [[], spike_times_x], spike_times_y, trial_window, [model_par_const,model_par_square,])\n",
    "    file_path = output_dir + f'univariate_filtertype{filter_type}_{neuron_pairs[0][0]}_{neuron_pairs[0][1]}.pkl'\n",
    "    util.save_variable(file_path, model_par_multi)\n",
    "\n",
    "    #-------------- multivariate -------------\n",
    "    model_par_const = {'append_nuisance': ['const'], 'const_offset': 0, 'learning_rate': 0.2, 'max_num_itrs': 500, 'epsilon': 1e-6}\n",
    "    model_par_square0 = {'filter_type': 'square', 'filter_length': 0.02,\n",
    "                 'append_nuisance': ['gaussian_kernel'], 'kernel_width': 0.06,\n",
    "                 'const_offset': 0, 'learning_rate': 0.5, 'max_num_itrs': 500, 'epsilon': 1e-5}\n",
    "    model_par_square = {'filter_type': 'square', 'filter_length': 0.03,\n",
    "                 'append_nuisance': ['gaussian_kernel'], 'kernel_width': 0.06,\n",
    "                 'const_offset': 0, 'learning_rate': 0.5, 'max_num_itrs': 500, 'epsilon': 1e-5}\n",
    "    model_par_bspline0 = {'filter_type': 'bspline', 'num_knots': 4, 'knot_space_par': 0.1, 'filter_length': 0.04, 'num_tail_drop': 1,\n",
    "                 'append_nuisance': ['gaussian_kernel'], 'kernel_width': 0.05,\n",
    "                 'const_offset': 0, 'learning_rate': 0.5, 'max_num_itrs': 500, 'epsilon': 1e-5}\n",
    "    model_par_bspline = {'filter_type': 'bspline', 'num_knots': 6, 'knot_space_par': 0.1, 'filter_length': 0.04, 'num_tail_drop': 1,\n",
    "                 'append_nuisance': ['gaussian_kernel'], 'kernel_width': 0.05,\n",
    "                 'const_offset': 0, 'learning_rate': 0.5, 'max_num_itrs': 500, 'epsilon': 1e-5}\n",
    "    spikes_list = [[], \n",
    "         spike_times_z[0], spike_times_z[1], spike_times_z[2], spike_times_z[3], \n",
    "         spike_times_z[4], spike_times_z[5], spike_times_z[6], spike_times_z[7], \n",
    "         spike_times_z[8], spike_times_z[9], spike_times_z[10], spike_times_z[11], \n",
    "         spike_times_z[12], spike_times_z[13], spike_times_z[14], spike_times_z[15], \n",
    "         spike_times_z[16], spike_times_z[17], spike_times_z[18], spike_times_z[19], \n",
    "         spike_times_z[20], spike_times_z[21], spike_times_z[22], spike_times_z[23], \n",
    "         spike_times_x]\n",
    "    model_par_list = [model_par_const,\n",
    "         model_par_square0.copy(),model_par_square0.copy(),model_par_square0.copy(),model_par_square0.copy(), \n",
    "         model_par_square0.copy(),model_par_square0.copy(),model_par_square0.copy(),model_par_square0.copy(), \n",
    "         model_par_square0.copy(),model_par_square0.copy(),model_par_square0.copy(),model_par_square0.copy(), \n",
    "         model_par_square0.copy(),model_par_square0.copy(),model_par_square0.copy(),model_par_square0.copy(), \n",
    "         model_par_square0.copy(),model_par_square0.copy(),model_par_square0.copy(),model_par_square0.copy(), \n",
    "         model_par_square0.copy(),model_par_square0.copy(),model_par_square0.copy(),model_par_square0.copy(), \n",
    "         model_par_square]\n",
    "    model_par_multi = jittertool.multivariate_continuous_time_coupling_filter_regression(\n",
    "        spikes_list, spike_times_y, trial_window, model_par_list)\n",
    "    file_path = output_dir + f'multivariate_filtertype{filter_type}_{neuron_pairs[0][0]}_{neuron_pairs[0][1]}.pkl'\n",
    "    util.save_variable(file_path, model_par_multi)\n"
   ]
  },
  {
   "cell_type": "code",
   "execution_count": null,
   "metadata": {},
   "outputs": [],
   "source": []
  },
  {
   "cell_type": "code",
   "execution_count": null,
   "metadata": {},
   "outputs": [],
   "source": []
  },
  {
   "cell_type": "code",
   "execution_count": null,
   "metadata": {},
   "outputs": [],
   "source": [
    "multivariate_951102476_951112590\n",
    "multivariate_951102476_951113240\n",
    "multivariate_951102646_951112431\n",
    "multivariate_951102646_951112786\n",
    "multivariate_951102820_951112786\n",
    "multivariate_951102820_951113039\n",
    "multivariate_951103019_951112448\n",
    "\n",
    "\n"
   ]
  },
  {
   "cell_type": "code",
   "execution_count": null,
   "metadata": {},
   "outputs": [],
   "source": []
  },
  {
   "cell_type": "code",
   "execution_count": null,
   "metadata": {},
   "outputs": [],
   "source": []
  },
  {
   "cell_type": "code",
   "execution_count": null,
   "metadata": {},
   "outputs": [],
   "source": []
  },
  {
   "cell_type": "markdown",
   "metadata": {},
   "source": [
    "## Select neurons + trials of interest."
   ]
  },
  {
   "cell_type": "markdown",
   "metadata": {},
   "source": [
    "##### selections are based on correlated filters."
   ]
  },
  {
   "cell_type": "code",
   "execution_count": 474,
   "metadata": {},
   "outputs": [
    {
     "name": "stdout",
     "output_type": "stream",
     "text": [
      "100%|█████████████████████████████████████████████████████████████| 672/672 [01:46<00:00,  6.31it/s]\n"
     ]
    }
   ],
   "source": [
    "contingency_mat, chi2t_df, pval_df = model.calculate_filter_memberships_corr(filter_membership_CD, filter_membership_DE)"
   ]
  },
  {
   "cell_type": "code",
   "execution_count": 476,
   "metadata": {
    "scrolled": false
   },
   "outputs": [
    {
     "name": "stdout",
     "output_type": "stream",
     "text": [
      "951108540 433\n",
      "951108557 44\n",
      "951108867 644\n",
      "951109006 592\n",
      "951109118 599\n",
      "951109307 398\n",
      "951109338 557\n",
      "951109329 281\n",
      "951109435 474\n",
      "951109594 755\n",
      "951109702 672\n",
      "951102476 951112780 156\n",
      "951102646 951112638 177\n",
      "951102646 951112780 451\n",
      "951102646 951112937 113\n",
      "951102646 951113056 63\n",
      "951102646 951113039 265\n",
      "951102820 951112780 249\n",
      "951103019 951112780 424\n",
      "Total:7989\thub:5449\tbro-rec:1898\tsum:7347\tintersect:7240\n",
      "len(diag_pairs), len(bro_rec_pairs) 11 8\n",
      "Total sample size 435456\n",
      "p-val\t\tcnt\tportion\n",
      "p-val<1e-06:\t5441\t1.25e-02\n",
      "p-val<1e-07:\t4484\t1.03e-02\n",
      "p-val<1e-08:\t3794\t8.71e-03\n",
      "p-val<1e-10:\t2690\t6.18e-03\n",
      "FDR BY\n",
      "alpha<0.05:\t7989\n",
      "alpha<0.01:\t6733\n",
      "FWER Bonferroni\n",
      "alpha<0.05:\t4549\n",
      "alpha<0.01:\t4037\n",
      "Row-col level-0 match!\n"
     ]
    },
    {
     "data": {
      "image/png": "[encoded data removed]",
      "text/plain": [
       "<Figure size 504x504 with 10 Axes>"
      ]
     },
     "metadata": {
      "needs_background": "light"
     },
     "output_type": "display_data"
    }
   ],
   "source": [
    "diag_neurons, bro_rec_neurons, diag_pairs, bro_rec_pairs = model.significant_pair_block_pattern_analysis(\n",
    "    pval_df, contingency_mat, multitest_method='fdr_by')\n",
    "model.plot_filter_memberships_corr_beautiful(\n",
    "    contingency_mat, chi2t_df, pval_df, level_order='10', multitest_method='fdr_by', file_path=None)"
   ]
  },
  {
   "cell_type": "code",
   "execution_count": 451,
   "metadata": {},
   "outputs": [
    {
     "data": {
      "text/plain": [
       "array([951108540, 951108557, 951108685, 951108721, 951108867, 951110003, 951108877, 951108911, 951109006,\n",
       "       951109184, 951109137, 951109213, 951109118, 951109191, 951109262, 951109299, 951109282, 951109307,\n",
       "       951109338, 951109329, 951109319, 951109435, 951109594, 951109702], dtype=int64)"
      ]
     },
     "execution_count": 451,
     "metadata": {},
     "output_type": "execute_result"
    }
   ],
   "source": [
    "active_units[active_units['probe_description'] == 'probeD'].index.values"
   ]
  },
  {
   "cell_type": "markdown",
   "metadata": {},
   "source": [
    "##### Select single pair."
   ]
  },
  {
   "cell_type": "code",
   "execution_count": 343,
   "metadata": {},
   "outputs": [
    {
     "name": "stdout",
     "output_type": "stream",
     "text": [
      "(951103652, 951109329) (951109329, 951113271)\n",
      "[[18.  6.  3.  6.  7.]\n",
      " [ 2. 36.  4. 14. 20.]\n",
      " [ 2. 23. 14. 20. 18.]\n",
      " [ 3. 13.  3. 15. 15.]\n",
      " [ 2. 24.  2.  7.  8.]]\n",
      "num trials: 36\n",
      "layers 2, nodes 1, trials 36\n",
      "meanFR 8.042\tmeanISI 10.37\n",
      "layers 2, nodes 1, trials 36\n",
      "meanFR 6.875\tmeanISI 10.552\n",
      "layers 2, nodes 1, trials 36\n",
      "meanFR 33.472\tmeanISI 42.23\n"
     ]
    }
   ],
   "source": [
    "(neuron_1, neuron_2), (neuron_3, neuron_4), trial_ids = model.select_neurons_trials_from_significant_pairs(diag_pairs, filter_membership_joint)\n",
    "spike_times_1 = spike_times.loc[neuron_1, trial_ids].tolist()\n",
    "spike_times_2 = spike_times.loc[neuron_2, trial_ids].tolist()\n",
    "spike_times_3 = spike_times.loc[neuron_3, trial_ids].tolist()\n",
    "spike_times_4 = spike_times.loc[neuron_4, trial_ids].tolist()\n",
    "\n",
    "generator = hierarchical_model_generator.HierarchicalModelGenerator()\n",
    "generator.spike_times_statistics(spike_times_1, 2, verbose=0)\n",
    "generator.spike_times_statistics(spike_times_2, 2, verbose=0)\n",
    "generator.spike_times_statistics(spike_times_4, 2, verbose=0)"
   ]
  },
  {
   "cell_type": "markdown",
   "metadata": {},
   "source": [
    "##### Select a significant block.\n",
    "e.g. manyV1 --> one LM --> many AL."
   ]
  },
  {
   "cell_type": "code",
   "execution_count": 344,
   "metadata": {},
   "outputs": [
    {
     "name": "stdout",
     "output_type": "stream",
     "text": [
      "layers 2, nodes 1, trials 1940\n",
      "meanFR 9.083\tmeanISI 12.456\n",
      "layers 2, nodes 1, trials 1940\n",
      "meanFR 7.279\tmeanISI 11.12\n",
      "layers 2, nodes 1, trials 1940\n",
      "meanFR 7.279\tmeanISI 11.12\n",
      "layers 2, nodes 1, trials 1940\n",
      "meanFR 16.347\tmeanISI 21.972\n"
     ]
    }
   ],
   "source": [
    "spike_times_1, spike_times_2, spike_times_3, spike_times_4 = model.select_membership_block_from_significant_pairs(\n",
    "    spike_times, diag_pairs, filter_membership_joint)\n",
    "\n",
    "generator.spike_times_statistics(spike_times_1, 2, verbose=0)\n",
    "generator.spike_times_statistics(spike_times_2, 2, verbose=0)\n",
    "generator.spike_times_statistics(spike_times_3, 2, verbose=0)\n",
    "generator.spike_times_statistics(spike_times_4, 2, verbose=0)"
   ]
  },
  {
   "cell_type": "markdown",
   "metadata": {},
   "source": [
    "### Fit sub-membership."
   ]
  },
  {
   "cell_type": "code",
   "execution_count": 496,
   "metadata": {},
   "outputs": [
    {
     "name": "stdout",
     "output_type": "stream",
     "text": [
      "num selected pairs: 28\n",
      "num selected pairs: 27\n"
     ]
    }
   ],
   "source": [
    "sub_filter_membership_CD = model.select_sub_filter_membership_by_neurons(filter_membership_CD, target_neurons=[951109435 ])\n",
    "sub_filter_membership_DE = model.select_sub_filter_membership_by_neurons(filter_membership_DE, source_neurons=[951109435 ])"
   ]
  },
  {
   "cell_type": "code",
   "execution_count": 497,
   "metadata": {
    "scrolled": true
   },
   "outputs": [
    {
     "name": "stdout",
     "output_type": "stream",
     "text": [
      "filter_membership.shape (28, 285)\n",
      "membership cnt [(0.0, 1672.0), (1.0, 2067.0), (2.0, 2049.0), (3.0, 1087.0), (4.0, 1105.0)]\n",
      "filter_membership.shape (27, 285)\n",
      "membership cnt [(0.0, 1298.0), (1.0, 2066.0), (2.0, 1896.0), (3.0, 1201.0), (4.0, 1234.0)]\n",
      "100%|██████████████████████████████████████████████████████████████| 28/28 [00:00<00:00, 152.57it/s]\n",
      "Total sample size 756\n",
      "p-val\t\tcnt\tportion\n",
      "p-val<1e-06:\t334\t4.42e-01\n",
      "p-val<1e-07:\t249\t3.29e-01\n",
      "p-val<1e-08:\t184\t2.43e-01\n",
      "p-val<1e-10:\t100\t1.32e-01\n",
      "FDR BY\n",
      "alpha<0.05:\t628\n",
      "alpha<0.01:\t574\n",
      "FWER Bonferroni\n",
      "alpha<0.05:\t473\n",
      "alpha<0.01:\t411\n",
      "Row-col level-0 match!\n"
     ]
    },
    {
     "data": {
      "image/png": "[encoded data removed]",
      "text/plain": [
       "<Figure size 504x504 with 10 Axes>"
      ]
     },
     "metadata": {
      "needs_background": "light"
     },
     "output_type": "display_data"
    }
   ],
   "source": [
    "model.filter_membership_statistics(sub_filter_membership_CD)\n",
    "model.filter_membership_statistics(sub_filter_membership_DE)\n",
    "contingency_mat, chi2t_df, pval_df = model.calculate_filter_memberships_corr(sub_filter_membership_CD, sub_filter_membership_DE)\n",
    "model.plot_filter_memberships_corr_beautiful(\n",
    "    contingency_mat, chi2t_df, pval_df, level_order='10', multitest_method='fdr_by', file_path=None)"
   ]
  },
  {
   "cell_type": "code",
   "execution_count": null,
   "metadata": {},
   "outputs": [],
   "source": [
    "# model.update_filter_membership(spike_times, trial_window, group_model_pars, sub_filter_membership_CD, [trial_id], parallel=True)"
   ]
  },
  {
   "cell_type": "code",
   "execution_count": 491,
   "metadata": {
    "scrolled": true
   },
   "outputs": [
    {
     "name": "stderr",
     "output_type": "stream",
     "text": [
      "[Parallel(n_jobs=8)]: Using backend LokyBackend with 8 concurrent workers.\n",
      "[Parallel(n_jobs=8)]: Done  16 tasks      | elapsed:    8.8s\n",
      "[Parallel(n_jobs=8)]: Done 112 tasks      | elapsed:   41.1s\n",
      "[Parallel(n_jobs=8)]: Done 285 out of 285 | elapsed:  1.6min finished\n",
      "[Parallel(n_jobs=8)]: Using backend LokyBackend with 8 concurrent workers.\n",
      "[Parallel(n_jobs=8)]: Done  16 tasks      | elapsed:    5.7s\n",
      "[Parallel(n_jobs=8)]: Done 112 tasks      | elapsed:   36.6s\n",
      "[Parallel(n_jobs=8)]: Done 285 out of 285 | elapsed:  1.5min finished\n"
     ]
    }
   ],
   "source": [
    "jobs_CD, jobs_DE = [], []\n",
    "for trial_id in selected_trial_ids:\n",
    "    job1 = delayed(model.update_filter_membership)(spike_times, trial_window, group_model_pars, \n",
    "                                                   sub_filter_membership_CD, [trial_id], parallel=True)\n",
    "    job2 = delayed(model.update_filter_membership)(spike_times, trial_window, group_model_pars, \n",
    "                                                   sub_filter_membership_DE, [trial_id], parallel=True)\n",
    "    jobs_CD.append(job1)\n",
    "    jobs_DE.append(job2)\n",
    "with Parallel(n_jobs=8, verbose=3) as parallel_pool:\n",
    "    jobs_CD_out = parallel_pool(jobs_CD)\n",
    "    jobs_DE_out = parallel_pool(jobs_DE)\n",
    "z_CD = pd.concat(jobs_CD_out, axis=1)\n",
    "z_DE = pd.concat(jobs_DE_out, axis=1)"
   ]
  },
  {
   "cell_type": "code",
   "execution_count": 494,
   "metadata": {
    "scrolled": true
   },
   "outputs": [
    {
     "name": "stdout",
     "output_type": "stream",
     "text": [
      "filter_membership.shape (28, 285)\n",
      "membership cnt [(0.0, 1409.0), (1.0, 1659.0), (2.0, 2832.0), (3.0, 1104.0), (4.0, 976.0)]\n",
      "filter_membership.shape (27, 285)\n",
      "membership cnt [(0.0, 825.0), (1.0, 1718.0), (2.0, 2450.0), (3.0, 1394.0), (4.0, 1308.0)]\n",
      "100%|██████████████████████████████████████████████████████████████| 28/28 [00:00<00:00, 148.53it/s]\n",
      "Total sample size 756\n",
      "p-val\t\tcnt\tportion\n",
      "p-val<1e-06:\t3\t3.97e-03\n",
      "p-val<1e-07:\t1\t1.32e-03\n",
      "p-val<1e-08:\t0\t0.00e+00\n",
      "p-val<1e-10:\t0\t0.00e+00\n",
      "FDR BY\n",
      "alpha<0.05:\t5\n",
      "alpha<0.01:\t5\n",
      "FWER Bonferroni\n",
      "alpha<0.05:\t6\n",
      "alpha<0.01:\t5\n",
      "Row-col level-0 match!\n"
     ]
    },
    {
     "data": {
      "image/png": "[encoded data removed]",
      "text/plain": [
       "<Figure size 504x504 with 10 Axes>"
      ]
     },
     "metadata": {
      "needs_background": "light"
     },
     "output_type": "display_data"
    }
   ],
   "source": [
    "model.filter_membership_statistics(z_CD)\n",
    "model.filter_membership_statistics(z_DE)\n",
    "contingency_mat, chi2t_df, pval_df = model.calculate_filter_memberships_corr(z_CD, z_DE)\n",
    "model.plot_filter_memberships_corr_beautiful(\n",
    "    contingency_mat, chi2t_df, pval_df, level_order='10', multitest_method='fdr_by', file_path=None)"
   ]
  },
  {
   "cell_type": "code",
   "execution_count": null,
   "metadata": {},
   "outputs": [],
   "source": []
  },
  {
   "cell_type": "markdown",
   "metadata": {},
   "source": [
    "# Multivariate regression."
   ]
  },
  {
   "cell_type": "code",
   "execution_count": null,
   "metadata": {},
   "outputs": [],
   "source": [
    "neuron_drivers = [951108867, 951109594 ]  # 951109006 951109338  951108685 951109594 \n",
    "\n",
    "nuisance_model_par = {'filter_type': 'bspline', 'num_knots': 4, 'knot_space_par': 0.05, 'filter_length': 0.05, 'num_tail_drop': 1,\n",
    "             'append_nuisance': ['triangle_kernel'], 'kernel_width': 0.12,\n",
    "             'const_offset': 0, 'learning_rate': 0.9, 'max_num_itrs': 50, 'epsilon': 1e-5}\n",
    "\n",
    "for trial_id in selected_trial_ids:\n",
    "    model.update_filter_membership_multivariate(spike_times, trial_window, group_model_pars, \n",
    "        neuron_drivers, nuisance_model_par, sub_filter_membership_CD, [trial_id], parallel=False)"
   ]
  },
  {
   "cell_type": "code",
   "execution_count": 488,
   "metadata": {
    "scrolled": true
   },
   "outputs": [
    {
     "name": "stderr",
     "output_type": "stream",
     "text": [
      "[Parallel(n_jobs=8)]: Using backend LokyBackend with 8 concurrent workers.\n",
      "[Parallel(n_jobs=8)]: Done  16 tasks      | elapsed:   10.0s\n",
      "[Parallel(n_jobs=8)]: Done 112 tasks      | elapsed:   44.0s\n",
      "[Parallel(n_jobs=8)]: Done 285 out of 285 | elapsed:  1.8min finished\n",
      "[Parallel(n_jobs=8)]: Using backend LokyBackend with 8 concurrent workers.\n",
      "[Parallel(n_jobs=8)]: Done  16 tasks      | elapsed:    6.6s\n",
      "[Parallel(n_jobs=8)]: Done 112 tasks      | elapsed:   42.7s\n",
      "[Parallel(n_jobs=8)]: Done 285 out of 285 | elapsed:  1.8min finished\n"
     ]
    }
   ],
   "source": [
    "neuron_drivers = [951108867, 951109594 ]\n",
    "\n",
    "nuisance_model_par = {'filter_type': 'bspline', 'num_knots': 5, 'knot_space_par': 0.05, 'filter_length': 0.05, 'num_tail_drop': 1,\n",
    "             'append_nuisance': ['triangle_kernel'], 'kernel_width': 0.12,\n",
    "             'const_offset': 0, 'learning_rate': 0.9, 'max_num_itrs': 50, 'epsilon': 1e-5}\n",
    "\n",
    "jobs_CD, jobs_DE = [], []\n",
    "for trial_id in selected_trial_ids:\n",
    "    job1 = delayed(model.update_filter_membership_multivariate)(spike_times, trial_window, group_model_pars, \n",
    "        neuron_drivers, nuisance_model_par, sub_filter_membership_CD, [trial_id], parallel=True)\n",
    "    job2 = delayed(model.update_filter_membership_multivariate)(spike_times, trial_window, group_model_pars,\n",
    "        neuron_drivers, nuisance_model_par, sub_filter_membership_DE, [trial_id], parallel=True)\n",
    "    jobs_CD.append(job1)\n",
    "    jobs_DE.append(job2)\n",
    "with Parallel(n_jobs=8, verbose=3) as parallel_pool:\n",
    "    jobs_CD_out = parallel_pool(jobs_CD)\n",
    "    jobs_DE_out = parallel_pool(jobs_DE)\n",
    "z_CD = pd.concat(jobs_CD_out, axis=1)\n",
    "z_DE = pd.concat(jobs_DE_out, axis=1)"
   ]
  },
  {
   "cell_type": "code",
   "execution_count": 489,
   "metadata": {
    "scrolled": true
   },
   "outputs": [
    {
     "name": "stdout",
     "output_type": "stream",
     "text": [
      "filter_membership.shape (28, 285)\n",
      "membership cnt [(0.0, 1212.0), (1.0, 1494.0), (2.0, 3169.0), (3.0, 1101.0), (4.0, 1004.0)]\n",
      "filter_membership.shape (27, 285)\n",
      "membership cnt [(0.0, 833.0), (1.0, 1733.0), (2.0, 2570.0), (3.0, 1320.0), (4.0, 1239.0)]\n",
      "filter_membership.shape (28, 285)\n",
      "membership cnt [(0.0, 1484.0), (1.0, 1715.0), (2.0, 2726.0), (3.0, 1087.0), (4.0, 968.0)]\n",
      "filter_membership.shape (27, 285)\n",
      "membership cnt [(0.0, 921.0), (1.0, 1965.0), (2.0, 2234.0), (3.0, 1368.0), (4.0, 1207.0)]\n",
      "100%|██████████████████████████████████████████████████████████████| 28/28 [00:00<00:00, 149.31it/s]\n",
      "Total sample size 756\n",
      "p-val\t\tcnt\tportion\n",
      "p-val<1e-06:\t1\t1.32e-03\n",
      "p-val<1e-07:\t1\t1.32e-03\n",
      "p-val<1e-08:\t1\t1.32e-03\n",
      "p-val<1e-10:\t0\t0.00e+00\n",
      "FDR BY\n",
      "alpha<0.05:\t7\n",
      "alpha<0.01:\t5\n",
      "FWER Bonferroni\n",
      "alpha<0.05:\t7\n",
      "alpha<0.01:\t5\n",
      "Row-col level-0 match!\n"
     ]
    },
    {
     "data": {
      "image/png": "[encoded data removed]",
      "text/plain": [
       "<Figure size 504x504 with 10 Axes>"
      ]
     },
     "metadata": {
      "needs_background": "light"
     },
     "output_type": "display_data"
    }
   ],
   "source": [
    "model.filter_membership_statistics(z_CD)\n",
    "model.filter_membership_statistics(z_DE)\n",
    "# model.filter_membership_statistics(sub_filter_membership_CD)\n",
    "# model.filter_membership_statistics(sub_filter_membership_DE)\n",
    "\n",
    "contingency_mat, chi2t_df, pval_df = model.calculate_filter_memberships_corr(z_CD, z_DE)\n",
    "model.plot_filter_memberships_corr_beautiful(\n",
    "    contingency_mat, chi2t_df, pval_df, level_order='10', multitest_method='fdr_by', file_path=None)"
   ]
  },
  {
   "cell_type": "markdown",
   "metadata": {},
   "source": [
    "### Fit the filters."
   ]
  },
  {
   "cell_type": "code",
   "execution_count": 335,
   "metadata": {},
   "outputs": [
    {
     "name": "stdout",
     "output_type": "stream",
     "text": [
      "filter integral [0.12650535]\n"
     ]
    },
    {
     "data": {
      "image/png": "[encoded data removed]",
      "text/plain": [
       "<Figure size 360x216 with 1 Axes>"
      ]
     },
     "metadata": {
      "needs_background": "light"
     },
     "output_type": "display_data"
    },
    {
     "name": "stdout",
     "output_type": "stream",
     "text": [
      "filter integral [0.12208567]\n"
     ]
    },
    {
     "data": {
      "image/png": "[encoded data removed]",
      "text/plain": [
       "<Figure size 360x216 with 1 Axes>"
      ]
     },
     "metadata": {
      "needs_background": "light"
     },
     "output_type": "display_data"
    },
    {
     "name": "stdout",
     "output_type": "stream",
     "text": [
      "filter integral [0.07445294]\n"
     ]
    },
    {
     "data": {
      "image/png": "[encoded data removed]",
      "text/plain": [
       "<Figure size 360x216 with 1 Axes>"
      ]
     },
     "metadata": {
      "needs_background": "light"
     },
     "output_type": "display_data"
    }
   ],
   "source": [
    "model_par = {'filter_type': 'bspline', 'num_knots': 6, 'knot_space_par': 0.05, 'num_tail_drop': 1, 'filter_length': 0.06,\n",
    "             'append_nuisance': ['const', 'triangle_kernel'],  'const_offset': 0, 'kernel_width':0.12,\n",
    "             'learning_rate': 0.9, 'max_num_itrs': 100, 'epsilon': 1e-5}\n",
    "model_par_hat = jittertool.bivariate_continuous_time_coupling_filter_regression(spike_times_1, spike_times_2, trial_window, model_par)\n",
    "jittertool.plot_continuous_time_bivariate_regression_model_par(model_par_hat, ylim=[-7, 12])\n",
    "\n",
    "model_par_hat = jittertool.bivariate_continuous_time_coupling_filter_regression(spike_times_3, spike_times_4, trial_window, model_par)\n",
    "jittertool.plot_continuous_time_bivariate_regression_model_par(model_par_hat, ylim=[-7, 12])\n",
    "\n",
    "model_par_hat = jittertool.bivariate_continuous_time_coupling_filter_regression(spike_times_1, spike_times_4, trial_window, model_par)\n",
    "jittertool.plot_continuous_time_bivariate_regression_model_par(model_par_hat, ylim=[-7, 12])"
   ]
  },
  {
   "cell_type": "code",
   "execution_count": null,
   "metadata": {},
   "outputs": [],
   "source": []
  }
 ],
 "metadata": {
  "kernelspec": {
   "display_name": "Python 3",
   "language": "python",
   "name": "python3"
  },
  "language_info": {
   "codemirror_mode": {
    "name": "ipython",
    "version": 3
   },
   "file_extension": ".py",
   "mimetype": "text/x-python",
   "name": "python",
   "nbconvert_exporter": "python",
   "pygments_lexer": "ipython3",
   "version": "3.7.10"
  },
  "nbdime-conflicts": {
   "local_diff": [
    {
     "key": "kernelspec",
     "op": "add",
     "value": {
      "display_name": "allensdk",
      "language": "python",
      "name": "allensdk"
     }
    },
    {
     "key": "language_info",
     "op": "add",
     "value": {
      "codemirror_mode": {
       "name": "ipython",
       "version": 3
      },
      "file_extension": ".py",
      "mimetype": "text/x-python",
      "name": "python",
      "nbconvert_exporter": "python",
      "pygments_lexer": "ipython3",
      "version": "3.6.8"
     }
    }
   ],
   "remote_diff": [
    {
     "key": "kernelspec",
     "op": "add",
     "value": {
      "display_name": "py37",
      "language": "python",
      "name": "py37"
     }
    },
    {
     "key": "language_info",
     "op": "add",
     "value": {
      "codemirror_mode": {
       "name": "ipython",
       "version": 3
      },
      "file_extension": ".py",
      "mimetype": "text/x-python",
      "name": "python",
      "nbconvert_exporter": "python",
      "pygments_lexer": "ipython3",
      "version": "3.7.3"
     }
    }
   ]
  }
 },
 "nbformat": 4,
 "nbformat_minor": 2
}
