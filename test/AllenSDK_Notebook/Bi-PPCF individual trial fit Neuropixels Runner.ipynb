{
 "cells": [
  {
   "cell_type": "code",
   "execution_count": 1,
   "metadata": {
    "scrolled": true
   },
   "outputs": [
    {
     "data": {
      "text/html": [
       "<style>.container { width:80% !important; }</style>"
      ],
      "text/plain": [
       "<IPython.core.display.HTML object>"
      ]
     },
     "metadata": {},
     "output_type": "display_data"
    }
   ],
   "source": [
    "%load_ext autoreload\n",
    "%autoreload 2\n",
    "\n",
    "from IPython.core.display import display, HTML\n",
    "display(HTML(\"<style>.container { width:80% !important; }</style>\"))\n",
    "import numpy as np; np.set_printoptions(linewidth=110);\n",
    "import pandas as pd\n",
    "# tell pandas to show all columns when we display a DataFrame\n",
    "pd.set_option(\"display.max_columns\", None)\n",
    "\n",
    "# first we need a bit of import boilerplate\n",
    "import os\n",
    "import sys\n",
    "from sys import platform\n",
    "if platform == 'win32':\n",
    "    sys.path.append('D:/Brain_Network/Code/')\n",
    "    manifest_path = 'D:/Brain_Network/Data/Allen_Institute_Dataset/manifest.json'\n",
    "    project_dir = 'D:/Brain_Network/'\n",
    "    num_paral_jobs = 8\n",
    "elif platform =='darwin':\n",
    "    sys.path.append('/Users/chenyu/Workspace/Brain_Network/Code/')\n",
    "    manifest_path = '/Users/chenyu/Workspace/Brain_Network/Data/Allen_Institute_Dataset/manifest.json'\n",
    "    project_dir = '/Users/chenyu/Workspace/Brain_Network/'\n",
    "elif platform == 'linux':\n",
    "    sys.path.append('/home/yuchen/workspace/Brain_Network/Code/')\n",
    "    manifest_path = '/home/yuchen/workspace/Brain_Network/Data/Allen_Institute_Dataset/manifest.json'\n",
    "    project_dir = '/home/yuchen/workspace/Brain_Network/'\n",
    "    num_paral_jobs = 12\n",
    "else:\n",
    "    print('Add new computer system settings.')\n",
    "\n",
    "import matplotlib.pyplot as plt\n",
    "import networkx as nx\n",
    "import seaborn\n",
    "import scipy\n",
    "import scipy.io as sio\n",
    "from scipy.ndimage.filters import gaussian_filter\n",
    "import seaborn\n",
    "from tqdm import tqdm\n",
    "from tqdm.notebook import trange\n",
    "import time\n",
    "import joblib\n",
    "from joblib import Parallel, delayed\n",
    "\n",
    "from allensdk.brain_observatory.ecephys.ecephys_project_cache import EcephysProjectCache\n",
    "from allensdk.brain_observatory.ecephys.ecephys_session import EcephysSession\n",
    "\n",
    "import data_visualizer\n",
    "import data_model\n",
    "import fine_time_coupling_model\n",
    "import smoothing_spline\n",
    "import util\n",
    "import hierarchical_sampling_model\n",
    "import hierarchical_model_generator\n",
    "import jitter\n"
   ]
  },
  {
   "cell_type": "code",
   "execution_count": 2,
   "metadata": {},
   "outputs": [
    {
     "name": "stdout",
     "output_type": "stream",
     "text": [
      "allensdk 2.2.0\n",
      "pandas 1.1.1\n",
      "h5py 2.8.0\n",
      "pynwb 1.4.0\n",
      "hdmf 2.2.0\n",
      "matplotlib 3.4.1\n"
     ]
    }
   ],
   "source": [
    "import allensdk\n",
    "import pandas\n",
    "import h5py\n",
    "import pynwb\n",
    "import hdmf\n",
    "import matplotlib\n",
    "print('allensdk', allensdk.__version__)\n",
    "print('pandas', pandas.__version__)\n",
    "print('h5py', h5py.__version__)\n",
    "print('pynwb', pynwb.__version__)\n",
    "print('hdmf', hdmf.__version__)\n",
    "print('matplotlib', matplotlib.__version__)"
   ]
  },
  {
   "cell_type": "markdown",
   "metadata": {},
   "source": [
    "# Neuropixels data."
   ]
  },
  {
   "cell_type": "code",
   "execution_count": 3,
   "metadata": {
    "scrolled": true
   },
   "outputs": [
    {
     "name": "stdout",
     "output_type": "stream",
     "text": [
      "Download time: 720000\n"
     ]
    }
   ],
   "source": [
    "cache = EcephysProjectCache.from_warehouse(manifest=manifest_path)"
   ]
  },
  {
   "cell_type": "code",
   "execution_count": 4,
   "metadata": {},
   "outputs": [],
   "source": [
    "session_id = 798911424  #  791319847 798911424  799864342\n",
    "session = cache.get_session_data(session_id)"
   ]
  },
  {
   "cell_type": "code",
   "execution_count": 5,
   "metadata": {},
   "outputs": [
    {
     "data": {
      "text/plain": [
       "probeC    94\n",
       "probeE    89\n",
       "probeD    78\n",
       "Name: probe_description, dtype: int64"
      ]
     },
     "metadata": {},
     "output_type": "display_data"
    },
    {
     "data": {
      "text/plain": [
       "261"
      ]
     },
     "metadata": {},
     "output_type": "display_data"
    }
   ],
   "source": [
    "probes = ['probeC', 'probeD', 'probeE'] # ['probeC', 'probeE']\n",
    "selected_units = session.units[\n",
    "    session.units['ecephys_structure_acronym'].isin(util.VISUAL_AREA) &\n",
    "    session.units['probe_description'].isin(probes)]\n",
    "display(selected_units['probe_description'].value_counts())\n",
    "display(selected_units['probe_description'].count())"
   ]
  },
  {
   "cell_type": "markdown",
   "metadata": {},
   "source": [
    "#### Fine Time Coupling Model"
   ]
  },
  {
   "cell_type": "code",
   "execution_count": 6,
   "metadata": {},
   "outputs": [],
   "source": [
    "model = fine_time_coupling_model.FineTimeCouplingModel(session)"
   ]
  },
  {
   "cell_type": "markdown",
   "metadata": {},
   "source": [
    "#### Trials Selection"
   ]
  },
  {
   "cell_type": "code",
   "execution_count": 10,
   "metadata": {},
   "outputs": [],
   "source": [
    "# condition_ids = [251, 255, 261, 270, 278]  # x5  7913\n",
    "# condition_ids = [251, 255, 261, 270, 278, 284] # x6  7913\n",
    "# condition_ids = [278, 270, 255, 253, 262, 251, 258, 246, 263, 275, 247, 273]  # x12  7913\n",
    "\n",
    "# condition_ids = [275, 268, 270, 284, 274, 249, 263, 261,\n",
    "#                  278, 267, 280, 256, 260, 257, 281]  # x15 7989\n",
    "# condition_ids = [275, 246, 268, 270, 284, 274, 249, 263, 265, 261,\n",
    "#                  286, 258, 278, 267, 280, 256, 260, 257, 281]  # x19  7989\n",
    "# condition_ids = [268, 270, 284, 274, 249, 261, 278, 280, 256, 260, 257, 281]  # x12 7989"
   ]
  },
  {
   "cell_type": "code",
   "execution_count": 7,
   "metadata": {
    "scrolled": true
   },
   "outputs": [
    {
     "name": "stdout",
     "output_type": "stream",
     "text": [
      "0  246 temp freq [15.0] orient [0.0] contrast [0.8] [ 3798  3852  3947  3966  3979 31016 31026 31160 31186 49206 49245 49346 49372 49409 49412]\n",
      "1  249 temp freq [8.0] orient [90.0] contrast [0.8] [ 3801  3810  3828  3911  3964 31002 31054 31055 31178 49257 49317 49341 49365 49395 49430]\n",
      "2  256 temp freq [15.0] orient [270.0] contrast [0.8] [ 3811  3845  3942  3958 31003 31056 31112 31126 31137 31169 31191 49260 49305 49344 49381]\n",
      "3  257 temp freq [8.0] orient [315.0] contrast [0.8] [ 3813  3822  3870  3876  3932  3936  3987 31022 31027 31075 31171 49215 49217 49368 49370]\n",
      "4  258 temp freq [4.0] orient [225.0] contrast [0.8] [ 3814  3895  3922  3967  3986  3997 31043 31151 31152 31175 31196 49251 49282 49340 49414]\n",
      "5  260 temp freq [4.0] orient [315.0] contrast [0.8] [ 3816  3888  3930  3943  3948 31028 31033 31190 49263 49266 49320 49364 49410 49411 49428]\n",
      "6  261 temp freq [8.0] orient [135.0] contrast [0.8] [ 3817  3826  3875  3928 31020 31053 31129 31161 31162 49230 49254 49268 49275 49313 49407]\n",
      "7  263 temp freq [15.0] orient [90.0] contrast [0.8] [ 3819  3906  3917  3959 31015 31024 31098 31170 49209 49223 49262 49378 49416 49424 49426]\n",
      "8  265 temp freq [4.0] orient [135.0] contrast [0.8] [ 3824  3848  3880  3920  3953  3955  3960  3968  3973  3992 31039 31093 49232 49339 49383]\n",
      "9  267 temp freq [15.0] orient [225.0] contrast [0.8] [ 3829  3831  3859  3881  3886 31048 31076 31078 31147 49220 49253 49264 49353 49354 49391]\n",
      "10  268 temp freq [4.0] orient [45.0] contrast [0.8] [ 3833  3882  3884  3899  3951  3988 31040 31086 31089 31116 31149 31197 49255 49277 49327]\n",
      "11  270 temp freq [8.0] orient [45.0] contrast [0.8] [ 3835  3898  3914  3934 31062 31104 31114 49250 49274 49281 49286 49304 49322 49415 49422]\n",
      "12  274 temp freq [4.0] orient [90.0] contrast [0.8] [ 3844  3862  3897  3996 31096 31148 31156 31167 31184 31185 49349 49361 49367 49400 49420]\n",
      "13  275 temp freq [8.0] orient [0.0] contrast [0.8] [ 3855  3860  3938 31004 31072 31081 31105 31135 31200 49231 49299 49316 49389 49399 49427]\n",
      "14  278 temp freq [8.0] orient [225.0] contrast [0.8] [ 3866  3878  3925  3937  3984 31142 31159 31174 31194 49290 49307 49374 49390 49401 49418]\n",
      "15  280 temp freq [8.0] orient [270.0] contrast [0.8] [ 3872  3900  3905  3946  3956  3980 31021 31046 31064 31080 31173 31182 31188 49211 49225]\n",
      "16  281 temp freq [15.0] orient [315.0] contrast [0.8] [ 3889  3921  3944  3981  3989 31014 31035 31066 31071 31166 31172 49323 49380 49394 49431]\n",
      "17  284 temp freq [15.0] orient [45.0] contrast [0.8] [ 3912  3924  3995 31034 31047 31051 31058 31079 31085 31125 31133 31179 49247 49301 49335]\n",
      "18  286 temp freq [8.0] orient [180.0] contrast [0.8] [ 3933  3949  3962 31154 31165 31177 31187 31199 49226 49228 49240 49280 49328 49332 49405]\n",
      "total num trials: 285\n"
     ]
    }
   ],
   "source": [
    "condition_ids = [275, 246, 268, 270, 284, 274, 249, 263, 265, 261, 286, 258, 278, 267, 280, 256, 260, 257, 281]\n",
    "stimulus_table = session.get_stimulus_table(['drifting_gratings'])\n",
    "trials_df = stimulus_table[stimulus_table['stimulus_condition_id'].isin(condition_ids)]\n",
    "all_trials_indices = trials_df.index.values\n",
    "trials_groups = trials_df.groupby('stimulus_condition_id')\n",
    "all_condition_ids = list(trials_groups.groups.keys())\n",
    "model.print_conditions(trials_groups)"
   ]
  },
  {
   "cell_type": "markdown",
   "metadata": {},
   "source": [
    "## Spike Trains"
   ]
  },
  {
   "cell_type": "code",
   "execution_count": 8,
   "metadata": {},
   "outputs": [],
   "source": [
    "trial_window = [0.4, 2.0]\n",
    "\n",
    "# dt=0.002\n",
    "# spike_train_time_line = np.arange(trial_time_window[0], trial_time_window[1], dt)\n",
    "# spike_trains = model.get_trial_metric_per_unit_per_trial(\n",
    "#     stimulus_presentation_ids=all_trials_indices,\n",
    "#     unit_ids=selected_units.index.values,\n",
    "#     trial_time_window=trial_time_window,\n",
    "#     metric_type='spike_trains', dt=dt)\n",
    "# spike_counts = model.get_trial_metric_per_unit_per_trial(\n",
    "#         stimulus_presentation_ids=all_trials_indices,\n",
    "#         unit_ids=selected_units.index.values,\n",
    "#         trial_time_window=trial_time_window,\n",
    "#         metric_type='count', empty_fill=0)\n",
    "spike_times = model.get_trial_metric_per_unit_per_trial(\n",
    "        stimulus_presentation_ids=all_trials_indices,\n",
    "        unit_ids=selected_units.index.values,\n",
    "        trial_time_window=trial_window,\n",
    "        metric_type='spike_times')\n"
   ]
  },
  {
   "cell_type": "code",
   "execution_count": 9,
   "metadata": {},
   "outputs": [
    {
     "data": {
      "text/plain": [
       "(261, 285)"
      ]
     },
     "metadata": {},
     "output_type": "display_data"
    }
   ],
   "source": [
    "# display(spike_trains.shape)\n",
    "# display(spike_trains.iloc[0,0].shape)\n",
    "display(spike_times.shape)\n",
    "# display(spike_times.head())"
   ]
  },
  {
   "cell_type": "markdown",
   "metadata": {},
   "source": [
    "# Trial-wise cluster, joint-trial filter fit."
   ]
  },
  {
   "cell_type": "code",
   "execution_count": 10,
   "metadata": {},
   "outputs": [
    {
     "name": "stdout",
     "output_type": "stream",
     "text": [
      "conditions: [(0, 246), (1, 249), (2, 256), (3, 257), (4, 258), (5, 260), (6, 261), (7, 263), (8, 265), (9, 267), (10, 268), (11, 270), (12, 274), (13, 275), (14, 278), (15, 280), (16, 281), (17, 284), (18, 286)]\n"
     ]
    }
   ],
   "source": [
    "model = fine_time_coupling_model.FineTimeCouplingModel(session)\n",
    "model.initial_step(None, spike_times, selected_units, trials_groups, trial_window,\n",
    "                   probes=['probeC', 'probeD', 'probeE'], num_areas=3, verbose=False)"
   ]
  },
  {
   "cell_type": "code",
   "execution_count": 11,
   "metadata": {},
   "outputs": [
    {
     "name": "stdout",
     "output_type": "stream",
     "text": [
      "[ 3798  3801  3810  3811  3813  3814  3816  3817  3819  3822  3824  3826  3828  3829  3831  3833  3835  3844\n",
      "  3845  3848  3852  3855  3859  3860  3862  3866  3870  3872  3875  3876  3878  3880  3881  3882  3884  3886\n",
      "  3888  3889  3895  3897  3898  3899  3900  3905  3906  3911  3912  3914  3917  3920  3921  3922  3924  3925\n",
      "  3928  3930  3932  3933  3934  3936  3937  3938  3942  3943  3944  3946  3947  3948  3949  3951  3953  3955\n",
      "  3956  3958  3959  3960  3962  3964  3966  3967  3968  3973  3979  3980  3981  3984  3986  3987  3988  3989\n",
      "  3992  3995  3996  3997 31002 31003 31004 31014 31015 31016 31020 31021 31022 31024 31026 31027 31028 31033\n",
      " 31034 31035 31039 31040 31043 31046 31047 31048 31051 31053 31054 31055 31056 31058 31062 31064 31066 31071\n",
      " 31072 31075 31076 31078 31079 31080 31081 31085 31086 31089 31093 31096 31098 31104 31105 31112 31114 31116\n",
      " 31125 31126 31129 31133 31135 31137 31142 31147 31148 31149 31151 31152 31154 31156 31159 31160 31161 31162\n",
      " 31165 31166 31167 31169 31170 31171 31172 31173 31174 31175 31177 31178 31179 31182 31184 31185 31186 31187\n",
      " 31188 31190 31191 31194 31196 31197 31199 31200 49206 49209 49211 49215 49217 49220 49223 49225 49226 49228\n",
      " 49230 49231 49232 49240 49245 49247 49250 49251 49253 49254 49255 49257 49260 49262 49263 49264 49266 49268\n",
      " 49274 49275 49277 49280 49281 49282 49286 49290 49299 49301 49304 49305 49307 49313 49316 49317 49320 49322\n",
      " 49323 49327 49328 49332 49335 49339 49340 49341 49344 49346 49349 49353 49354 49361 49364 49365 49367 49368\n",
      " 49370 49372 49374 49378 49380 49381 49383 49389 49390 49391 49394 49395 49399 49400 49401 49405 49407 49409\n",
      " 49410 49411 49412 49414 49415 49416 49418 49420 49422 49424 49426 49427 49428 49430 49431]\n"
     ]
    }
   ],
   "source": [
    "select_condition_ids = [275, 246, 268, 270, 284, 274, 249, 263, 265, 261, 286, 258, 278, 267, 280, 256, 260, 257, 281]\n",
    "stimulus_table = session.get_stimulus_table(['drifting_gratings'])\n",
    "trials_df = stimulus_table[stimulus_table['stimulus_condition_id'].isin(select_condition_ids)]\n",
    "selected_trial_ids = trials_df.index.values\n",
    "print(selected_trial_ids)"
   ]
  },
  {
   "cell_type": "code",
   "execution_count": 12,
   "metadata": {},
   "outputs": [
    {
     "data": {
      "image/png": "[encoded data removed]",
      "text/plain": [
       "<Figure size 1080x144 with 3 Axes>"
      ]
     },
     "metadata": {
      "needs_background": "light"
     },
     "output_type": "display_data"
    },
    {
     "name": "stdout",
     "output_type": "stream",
     "text": [
      "num_pairs: 672\n",
      "num_pairs: 648\n"
     ]
    },
    {
     "data": {
      "image/png": "[encoded data removed]",
      "text/plain": [
       "<Figure size 1260x144 with 5 Axes>"
      ]
     },
     "metadata": {
      "needs_background": "light"
     },
     "output_type": "display_data"
    }
   ],
   "source": [
    "active_firing_rate_quantile_threshold = 0.7\n",
    "active_units = model.get_active_units(active_firing_rate_quantile_threshold, group_type='probe', verbose=True)\n",
    "\n",
    "probe_pairs = [('probeC', 'probeD')]\n",
    "neuron_pairs = model.construct_unit_pairs(active_units, pair_type='between_probe', probe_pairs=probe_pairs, verbose=True)\n",
    "filter_membership_CD = model.init_filter_membership(neuron_pairs, trial_ids=selected_trial_ids)\n",
    "\n",
    "probe_pairs = [('probeD', 'probeE')]\n",
    "neuron_pairs = model.construct_unit_pairs(active_units, pair_type='between_probe', probe_pairs=probe_pairs, verbose=True)\n",
    "filter_membership_DE = model.init_filter_membership(neuron_pairs, trial_ids=selected_trial_ids)\n",
    "\n",
    "# file_path = project_dir + 'Output/jitter/coupling_filter/CD_DE_condition19_joint_fit2/filter_membership_CD_itr149_20210523-070711.pkl'\n",
    "# filter_membership_CD = util.load_variable(file_path)\n",
    "# file_path = project_dir + 'Output/jitter/coupling_filter/CD_DE_condition19_joint_fit2/filter_membership_DE_itr149_20210523-070711.pkl'\n",
    "# filter_membership_DE = util.load_variable(file_path)\n",
    "# filter_membership_joint = filter_membership_CD.append(filter_membership_DE)\n",
    "# model.filter_membership_statistics(filter_membership_CD, verbose=True)\n",
    "# model.filter_membership_statistics(filter_membership_DE, verbose=True)\n",
    "# model.filter_membership_statistics(filter_membership_joint, verbose=True)\n",
    "group_portion = np.array([0.2, 0.2, 0.2, 0.2, 0.2])\n",
    "\n",
    "file_path = project_dir + 'Output/jitter/coupling_filter/CD_DE_condition19_joint_fit_fixed_portion_11122021/group_model_pars_joint_itr29_20211113_102001.pkl'\n",
    "group_model_pars = util.load_variable(file_path)\n",
    "# group_model_pars[2]['beta'][2] = -2  # TMP manual modification.\n",
    "model.plot_multiple_filters(group_model_pars, ylim=[-7, 22], num_rows_cols=[1,5])"
   ]
  },
  {
   "cell_type": "markdown",
   "metadata": {},
   "source": [
    "### Parallel programming."
   ]
  },
  {
   "cell_type": "code",
   "execution_count": 33,
   "metadata": {
    "scrolled": true
   },
   "outputs": [
    {
     "name": "stderr",
     "output_type": "stream",
     "text": [
      "[Parallel(n_jobs=8)]: Using backend LokyBackend with 8 concurrent workers.\n",
      "[Parallel(n_jobs=8)]: Done  34 tasks      | elapsed:  2.0min\n",
      "[Parallel(n_jobs=8)]: Done 184 tasks      | elapsed:  9.8min\n",
      "[Parallel(n_jobs=8)]: Done 285 out of 285 | elapsed: 15.3min finished\n",
      "[Parallel(n_jobs=8)]: Using backend LokyBackend with 8 concurrent workers.\n",
      "[Parallel(n_jobs=8)]: Done  34 tasks      | elapsed:  2.1min\n",
      "[Parallel(n_jobs=8)]: Done 184 tasks      | elapsed: 10.6min\n",
      "[Parallel(n_jobs=8)]: Done 285 out of 285 | elapsed: 16.5min finished\n"
     ]
    },
    {
     "name": "stdout",
     "output_type": "stream",
     "text": [
      "filter_membership.shape (672, 285)\n",
      "membership cnt [(0.0, 38221), (1.0, 40107), (2.0, 44100), (3.0, 37826), (4.0, 31266)]\n",
      "filter_membership.shape (648, 285)\n",
      "membership cnt [(0.0, 28338), (1.0, 38490), (2.0, 45678), (3.0, 38330), (4.0, 33844)]\n",
      "util.save_variable, save variable to:  D:/Brain_Network/Output/jitter/coupling_filter/CD_DE_condition19_joint_fit_11122021/filter_membership_CD_itr0_20211112-125631.pkl\n",
      "util.save_variable, save variable to:  D:/Brain_Network/Output/jitter/coupling_filter/CD_DE_condition19_joint_fit_11122021/filter_membership_DE_itr0_20211112-125631.pkl\n",
      "Group portion: [0.20933189 0.19818417 0.20305645 0.19712047 0.19230702]\n",
      "util.save_variable, save variable to:  D:/Brain_Network/Output/jitter/coupling_filter/CD_DE_condition19_joint_fit_11122021/group_portion_itr0_20211112-125631.pkl\n",
      "filter_membership.shape (1320, 285)\n",
      "#all trials:78597\t#batch trials:78597\n",
      "X.shape (1436031, 3), basis_integral.shape (3, 1),beta.shape(3, 1)\n",
      " 30%|██████████████████▉                                            | 18/60 [00:03<00:07,  5.47it/s]\n",
      "num itr 18 [[-2092229.54010676]] 8.025101189995665e-06\n",
      "beta [11.41913619 -0.12770876  3.98995554]\n",
      "gradient [ 0.03568494  4.52035964 -0.08008061]\n",
      "Finish 1.\n",
      "#all trials:89778\t#batch trials:89778\n",
      "X.shape (1484860, 3), basis_integral.shape (3, 1),beta.shape(3, 1)\n",
      " 35%|██████████████████████                                         | 21/60 [00:03<00:07,  5.35it/s]\n",
      "num itr 21 [[-2020332.50606086]] 8.132153578255252e-06\n",
      "beta [10.33661413  0.32906006 -3.61317802]\n",
      "gradient [-0.00716125  4.44804013  0.456536  ]\n",
      "Finish 2.\n",
      "#all trials:76156\t#batch trials:76156\n",
      "X.shape (1570248, 11), basis_integral.shape (11, 1),beta.shape(11, 1)\n",
      "100%|███████████████████████████████████████████████████████████████| 60/60 [00:16<00:00,  3.67it/s]\n",
      "num itr 59 [[-2477561.03120687]] 0.014824838842865382\n",
      "beta [ 12.83418203   0.05193643   1.21767969 -13.68063228  30.30114131 -18.54575388  13.08623258  -5.70514228\n",
      "  -3.05280015   2.84373574  -3.86222318]\n",
      "gradient [-2.23541261 99.9506112   0.31824286 -0.89221949 -3.4454316  -0.11611168 -0.76183674  1.36649451  2.6491317\n",
      "  0.8047819   0.6655718 ]\n",
      "Finish 3.\n"
     ]
    },
    {
     "name": "stderr",
     "output_type": "stream",
     "text": [
      "D:/Brain_Network/Code\\jitter.py:4090: UserWarning: Reach max itrs 60. Last err:1.482e-02\n",
      "  print('gradient', gradient.reshape(-1))\n"
     ]
    },
    {
     "name": "stdout",
     "output_type": "stream",
     "text": [
      "#all trials:65110\t#batch trials:65110\n",
      "X.shape (1490255, 11), basis_integral.shape (11, 1),beta.shape(11, 1)\n",
      "100%|███████████████████████████████████████████████████████████████| 60/60 [00:15<00:00,  3.80it/s]\n",
      "num itr 59 [[-2510758.90802232]] 0.02213508015433481\n",
      "beta [ 13.99089629   0.03841904  14.17711597  23.42511601 -22.46602916  21.40717463  -9.5842079    1.60312057\n",
      "  -1.64284292   0.02701858  -4.31736917]\n",
      "gradient [ -3.5592547  -51.47239448  -2.44581655  -2.69623007  -1.47793514  -3.05979079  -2.42272401  -1.69550297\n",
      "  -1.5814418   -0.62389799   0.08065292]\n",
      "Finish 4.\n"
     ]
    },
    {
     "name": "stderr",
     "output_type": "stream",
     "text": [
      "D:/Brain_Network/Code\\jitter.py:4090: UserWarning: Reach max itrs 60. Last err:2.214e-02\n",
      "  print('gradient', gradient.reshape(-1))\n"
     ]
    },
    {
     "data": {
      "image/png": "[encoded data removed]",
      "text/plain": [
       "<Figure size 1260x144 with 5 Axes>"
      ]
     },
     "metadata": {
      "needs_background": "light"
     },
     "output_type": "display_data"
    },
    {
     "name": "stdout",
     "output_type": "stream",
     "text": [
      "util.save_variable, save variable to:  D:/Brain_Network/Output/jitter/coupling_filter/CD_DE_condition19_joint_fit_11122021/group_model_pars_joint_itr0_20211112-131651.pkl\n"
     ]
    },
    {
     "name": "stderr",
     "output_type": "stream",
     "text": [
      "[Parallel(n_jobs=8)]: Using backend LokyBackend with 8 concurrent workers.\n",
      "[Parallel(n_jobs=8)]: Done  34 tasks      | elapsed:  2.0min\n",
      "[Parallel(n_jobs=8)]: Done 184 tasks      | elapsed:  9.7min\n",
      "[Parallel(n_jobs=8)]: Done 285 out of 285 | elapsed: 15.3min finished\n",
      "[Parallel(n_jobs=8)]: Using backend LokyBackend with 8 concurrent workers.\n",
      "[Parallel(n_jobs=8)]: Done  34 tasks      | elapsed:  2.3min\n",
      "[Parallel(n_jobs=8)]: Done 184 tasks      | elapsed: 11.1min\n",
      "[Parallel(n_jobs=8)]: Done 285 out of 285 | elapsed: 17.1min finished\n"
     ]
    },
    {
     "name": "stdout",
     "output_type": "stream",
     "text": [
      "filter_membership.shape (672, 285)\n",
      "membership cnt [(0.0, 48802), (1.0, 39407), (2.0, 48504), (3.0, 28977), (4.0, 25830)]\n",
      "filter_membership.shape (648, 285)\n",
      "membership cnt [(0.0, 40010), (1.0, 36419), (2.0, 49544), (3.0, 30455), (4.0, 28252)]\n",
      "util.save_variable, save variable to:  D:/Brain_Network/Output/jitter/coupling_filter/CD_DE_condition19_joint_fit_11122021/filter_membership_CD_itr1_20211112-134913.pkl\n",
      "util.save_variable, save variable to:  D:/Brain_Network/Output/jitter/coupling_filter/CD_DE_condition19_joint_fit_11122021/filter_membership_DE_itr1_20211112-134913.pkl\n",
      "Group portion: [0.21902894 0.19697667 0.20666022 0.18983275 0.18750142]\n",
      "util.save_variable, save variable to:  D:/Brain_Network/Output/jitter/coupling_filter/CD_DE_condition19_joint_fit_11122021/group_portion_itr1_20211112-134913.pkl\n",
      "filter_membership.shape (1320, 285)\n",
      "#all trials:75826\t#batch trials:75826\n",
      "X.shape (1333738, 3), basis_integral.shape (3, 1),beta.shape(3, 1)\n",
      " 28%|█████████████████▊                                             | 17/60 [00:02<00:07,  5.90it/s]\n",
      "num itr 17 [[-1893754.82649673]] 9.864326348502095e-06\n",
      "beta [10.99318271 -0.13959271  3.89248642]\n",
      "gradient [-0.01369286  3.27242528 -0.09304172]\n",
      "Finish 1.\n",
      "#all trials:98048\t#batch trials:98048\n"
     ]
    },
    {
     "ename": "KeyboardInterrupt",
     "evalue": "",
     "output_type": "error",
     "traceback": [
      "\u001b[1;31m---------------------------------------------------------------------------\u001b[0m",
      "\u001b[1;31mKeyboardInterrupt\u001b[0m                         Traceback (most recent call last)",
      "\u001b[1;32m<ipython-input-33-8816d07e9b66>\u001b[0m in \u001b[0;36m<module>\u001b[1;34m\u001b[0m\n\u001b[0;32m     28\u001b[0m     \u001b[0mutil\u001b[0m\u001b[1;33m.\u001b[0m\u001b[0msave_variable\u001b[0m\u001b[1;33m(\u001b[0m\u001b[0mfile_path\u001b[0m\u001b[1;33m,\u001b[0m \u001b[0mgroup_portion\u001b[0m\u001b[1;33m)\u001b[0m\u001b[1;33m\u001b[0m\u001b[1;33m\u001b[0m\u001b[0m\n\u001b[0;32m     29\u001b[0m \u001b[1;33m\u001b[0m\u001b[0m\n\u001b[1;32m---> 30\u001b[1;33m     \u001b[0mgroup_model_pars\u001b[0m \u001b[1;33m=\u001b[0m \u001b[0mmodel\u001b[0m\u001b[1;33m.\u001b[0m\u001b[0mupdate_cluster_filter_joint_trail\u001b[0m\u001b[1;33m(\u001b[0m\u001b[0mfilter_membership_joint\u001b[0m\u001b[1;33m,\u001b[0m \u001b[0mverbose\u001b[0m\u001b[1;33m=\u001b[0m\u001b[1;32mTrue\u001b[0m\u001b[1;33m)\u001b[0m\u001b[1;33m\u001b[0m\u001b[1;33m\u001b[0m\u001b[0m\n\u001b[0m\u001b[0;32m     31\u001b[0m     \u001b[0mmodel\u001b[0m\u001b[1;33m.\u001b[0m\u001b[0mplot_multiple_filters\u001b[0m\u001b[1;33m(\u001b[0m\u001b[0mgroup_model_pars\u001b[0m\u001b[1;33m,\u001b[0m \u001b[0mylim\u001b[0m\u001b[1;33m=\u001b[0m\u001b[1;33m[\u001b[0m\u001b[1;33m-\u001b[0m\u001b[1;36m7\u001b[0m\u001b[1;33m,\u001b[0m \u001b[1;36m20\u001b[0m\u001b[1;33m]\u001b[0m\u001b[1;33m,\u001b[0m \u001b[0mnum_rows_cols\u001b[0m\u001b[1;33m=\u001b[0m\u001b[1;33m[\u001b[0m\u001b[1;36m1\u001b[0m\u001b[1;33m,\u001b[0m\u001b[1;36m5\u001b[0m\u001b[1;33m]\u001b[0m\u001b[1;33m)\u001b[0m\u001b[1;33m\u001b[0m\u001b[1;33m\u001b[0m\u001b[0m\n\u001b[0;32m     32\u001b[0m     \u001b[0mfile_path\u001b[0m \u001b[1;33m=\u001b[0m \u001b[0moutput_dir\u001b[0m \u001b[1;33m+\u001b[0m \u001b[1;34mf'group_model_pars_joint_itr{itr}_{time.strftime(\"%Y%m%d-%H%M%S\")}.pkl'\u001b[0m\u001b[1;33m\u001b[0m\u001b[1;33m\u001b[0m\u001b[0m\n",
      "\u001b[1;32mD:/Brain_Network/Code\\fine_time_coupling_model.py\u001b[0m in \u001b[0;36mupdate_cluster_filter_joint_trail\u001b[1;34m(self, filter_membership, batch_training, verbose)\u001b[0m\n\u001b[0;32m   2142\u001b[0m         'model_id': model_id}\n\u001b[0;32m   2143\u001b[0m     spike_times_x, spike_times_y = self.stack_spike_times_by_pairs(\n\u001b[1;32m-> 2144\u001b[1;33m         spike_times, filter_membership, group_id=model_id, verbose=verbose)\n\u001b[0m\u001b[0;32m   2145\u001b[0m     model_pars[model_id] = fit_func(\n\u001b[0;32m   2146\u001b[0m         spike_times_x, spike_times_y, trial_window, model_par, verbose=verbose)\n",
      "\u001b[1;32mD:/Brain_Network/Code\\fine_time_coupling_model.py\u001b[0m in \u001b[0;36mstack_spike_times_by_pairs\u001b[1;34m(cls, spike_times, filter_membership, group_id, batch_size, verbose)\u001b[0m\n\u001b[0;32m   1432\u001b[0m     \u001b[0mspike_times_x\u001b[0m\u001b[1;33m,\u001b[0m \u001b[0mspike_times_y\u001b[0m \u001b[1;33m=\u001b[0m \u001b[1;33m[\u001b[0m\u001b[1;33m]\u001b[0m\u001b[1;33m,\u001b[0m \u001b[1;33m[\u001b[0m\u001b[1;33m]\u001b[0m\u001b[1;33m\u001b[0m\u001b[1;33m\u001b[0m\u001b[0m\n\u001b[0;32m   1433\u001b[0m     \u001b[1;32mfor\u001b[0m \u001b[1;33m(\u001b[0m\u001b[0mneuron_x\u001b[0m\u001b[1;33m,\u001b[0m \u001b[0mneuron_y\u001b[0m\u001b[1;33m)\u001b[0m\u001b[1;33m,\u001b[0m \u001b[0mtrial_id\u001b[0m \u001b[1;32min\u001b[0m \u001b[0mpair_trial_batch\u001b[0m\u001b[1;33m:\u001b[0m\u001b[1;33m\u001b[0m\u001b[1;33m\u001b[0m\u001b[0m\n\u001b[1;32m-> 1434\u001b[1;33m       \u001b[0mspike_times_x\u001b[0m \u001b[1;33m=\u001b[0m \u001b[0mspike_times_x\u001b[0m \u001b[1;33m+\u001b[0m \u001b[0mspike_times\u001b[0m\u001b[1;33m.\u001b[0m\u001b[0mloc\u001b[0m\u001b[1;33m[\u001b[0m\u001b[0mneuron_x\u001b[0m\u001b[1;33m,\u001b[0m\u001b[1;33m[\u001b[0m\u001b[0mtrial_id\u001b[0m\u001b[1;33m]\u001b[0m\u001b[1;33m]\u001b[0m\u001b[1;33m.\u001b[0m\u001b[0mtolist\u001b[0m\u001b[1;33m(\u001b[0m\u001b[1;33m)\u001b[0m\u001b[1;33m\u001b[0m\u001b[1;33m\u001b[0m\u001b[0m\n\u001b[0m\u001b[0;32m   1435\u001b[0m       \u001b[0mspike_times_y\u001b[0m \u001b[1;33m=\u001b[0m \u001b[0mspike_times_y\u001b[0m \u001b[1;33m+\u001b[0m \u001b[0mspike_times\u001b[0m\u001b[1;33m.\u001b[0m\u001b[0mloc\u001b[0m\u001b[1;33m[\u001b[0m\u001b[0mneuron_y\u001b[0m\u001b[1;33m,\u001b[0m\u001b[1;33m[\u001b[0m\u001b[0mtrial_id\u001b[0m\u001b[1;33m]\u001b[0m\u001b[1;33m]\u001b[0m\u001b[1;33m.\u001b[0m\u001b[0mtolist\u001b[0m\u001b[1;33m(\u001b[0m\u001b[1;33m)\u001b[0m\u001b[1;33m\u001b[0m\u001b[1;33m\u001b[0m\u001b[0m\n\u001b[0;32m   1436\u001b[0m \u001b[1;33m\u001b[0m\u001b[0m\n",
      "\u001b[1;32mC:\\ProgramData\\Anaconda3\\lib\\site-packages\\pandas\\core\\indexing.py\u001b[0m in \u001b[0;36m__getitem__\u001b[1;34m(self, key)\u001b[0m\n\u001b[0;32m    871\u001b[0m                     \u001b[1;31m# AttributeError for IntervalTree get_value\u001b[0m\u001b[1;33m\u001b[0m\u001b[1;33m\u001b[0m\u001b[1;33m\u001b[0m\u001b[0m\n\u001b[0;32m    872\u001b[0m                     \u001b[1;32mpass\u001b[0m\u001b[1;33m\u001b[0m\u001b[1;33m\u001b[0m\u001b[0m\n\u001b[1;32m--> 873\u001b[1;33m             \u001b[1;32mreturn\u001b[0m \u001b[0mself\u001b[0m\u001b[1;33m.\u001b[0m\u001b[0m_getitem_tuple\u001b[0m\u001b[1;33m(\u001b[0m\u001b[0mkey\u001b[0m\u001b[1;33m)\u001b[0m\u001b[1;33m\u001b[0m\u001b[1;33m\u001b[0m\u001b[0m\n\u001b[0m\u001b[0;32m    874\u001b[0m         \u001b[1;32melse\u001b[0m\u001b[1;33m:\u001b[0m\u001b[1;33m\u001b[0m\u001b[1;33m\u001b[0m\u001b[0m\n\u001b[0;32m    875\u001b[0m             \u001b[1;31m# we by definition only have the 0th axis\u001b[0m\u001b[1;33m\u001b[0m\u001b[1;33m\u001b[0m\u001b[1;33m\u001b[0m\u001b[0m\n",
      "\u001b[1;32mC:\\ProgramData\\Anaconda3\\lib\\site-packages\\pandas\\core\\indexing.py\u001b[0m in \u001b[0;36m_getitem_tuple\u001b[1;34m(self, tup)\u001b[0m\n\u001b[0;32m   1042\u001b[0m     \u001b[1;32mdef\u001b[0m \u001b[0m_getitem_tuple\u001b[0m\u001b[1;33m(\u001b[0m\u001b[0mself\u001b[0m\u001b[1;33m,\u001b[0m \u001b[0mtup\u001b[0m\u001b[1;33m:\u001b[0m \u001b[0mTuple\u001b[0m\u001b[1;33m)\u001b[0m\u001b[1;33m:\u001b[0m\u001b[1;33m\u001b[0m\u001b[1;33m\u001b[0m\u001b[0m\n\u001b[0;32m   1043\u001b[0m         \u001b[1;32mtry\u001b[0m\u001b[1;33m:\u001b[0m\u001b[1;33m\u001b[0m\u001b[1;33m\u001b[0m\u001b[0m\n\u001b[1;32m-> 1044\u001b[1;33m             \u001b[1;32mreturn\u001b[0m \u001b[0mself\u001b[0m\u001b[1;33m.\u001b[0m\u001b[0m_getitem_lowerdim\u001b[0m\u001b[1;33m(\u001b[0m\u001b[0mtup\u001b[0m\u001b[1;33m)\u001b[0m\u001b[1;33m\u001b[0m\u001b[1;33m\u001b[0m\u001b[0m\n\u001b[0m\u001b[0;32m   1045\u001b[0m         \u001b[1;32mexcept\u001b[0m \u001b[0mIndexingError\u001b[0m\u001b[1;33m:\u001b[0m\u001b[1;33m\u001b[0m\u001b[1;33m\u001b[0m\u001b[0m\n\u001b[0;32m   1046\u001b[0m             \u001b[1;32mpass\u001b[0m\u001b[1;33m\u001b[0m\u001b[1;33m\u001b[0m\u001b[0m\n",
      "\u001b[1;32mC:\\ProgramData\\Anaconda3\\lib\\site-packages\\pandas\\core\\indexing.py\u001b[0m in \u001b[0;36m_getitem_lowerdim\u001b[1;34m(self, tup)\u001b[0m\n\u001b[0;32m    808\u001b[0m                     \u001b[1;32mreturn\u001b[0m \u001b[0msection\u001b[0m\u001b[1;33m\u001b[0m\u001b[1;33m\u001b[0m\u001b[0m\n\u001b[0;32m    809\u001b[0m                 \u001b[1;31m# This is an elided recursive call to iloc/loc\u001b[0m\u001b[1;33m\u001b[0m\u001b[1;33m\u001b[0m\u001b[1;33m\u001b[0m\u001b[0m\n\u001b[1;32m--> 810\u001b[1;33m                 \u001b[1;32mreturn\u001b[0m \u001b[0mgetattr\u001b[0m\u001b[1;33m(\u001b[0m\u001b[0msection\u001b[0m\u001b[1;33m,\u001b[0m \u001b[0mself\u001b[0m\u001b[1;33m.\u001b[0m\u001b[0mname\u001b[0m\u001b[1;33m)\u001b[0m\u001b[1;33m[\u001b[0m\u001b[0mnew_key\u001b[0m\u001b[1;33m]\u001b[0m\u001b[1;33m\u001b[0m\u001b[1;33m\u001b[0m\u001b[0m\n\u001b[0m\u001b[0;32m    811\u001b[0m \u001b[1;33m\u001b[0m\u001b[0m\n\u001b[0;32m    812\u001b[0m         \u001b[1;32mraise\u001b[0m \u001b[0mIndexingError\u001b[0m\u001b[1;33m(\u001b[0m\u001b[1;34m\"not applicable\"\u001b[0m\u001b[1;33m)\u001b[0m\u001b[1;33m\u001b[0m\u001b[1;33m\u001b[0m\u001b[0m\n",
      "\u001b[1;32mC:\\ProgramData\\Anaconda3\\lib\\site-packages\\pandas\\core\\indexing.py\u001b[0m in \u001b[0;36m__getitem__\u001b[1;34m(self, key)\u001b[0m\n\u001b[0;32m    877\u001b[0m \u001b[1;33m\u001b[0m\u001b[0m\n\u001b[0;32m    878\u001b[0m             \u001b[0mmaybe_callable\u001b[0m \u001b[1;33m=\u001b[0m \u001b[0mcom\u001b[0m\u001b[1;33m.\u001b[0m\u001b[0mapply_if_callable\u001b[0m\u001b[1;33m(\u001b[0m\u001b[0mkey\u001b[0m\u001b[1;33m,\u001b[0m \u001b[0mself\u001b[0m\u001b[1;33m.\u001b[0m\u001b[0mobj\u001b[0m\u001b[1;33m)\u001b[0m\u001b[1;33m\u001b[0m\u001b[1;33m\u001b[0m\u001b[0m\n\u001b[1;32m--> 879\u001b[1;33m             \u001b[1;32mreturn\u001b[0m \u001b[0mself\u001b[0m\u001b[1;33m.\u001b[0m\u001b[0m_getitem_axis\u001b[0m\u001b[1;33m(\u001b[0m\u001b[0mmaybe_callable\u001b[0m\u001b[1;33m,\u001b[0m \u001b[0maxis\u001b[0m\u001b[1;33m=\u001b[0m\u001b[0maxis\u001b[0m\u001b[1;33m)\u001b[0m\u001b[1;33m\u001b[0m\u001b[1;33m\u001b[0m\u001b[0m\n\u001b[0m\u001b[0;32m    880\u001b[0m \u001b[1;33m\u001b[0m\u001b[0m\n\u001b[0;32m    881\u001b[0m     \u001b[1;32mdef\u001b[0m \u001b[0m_is_scalar_access\u001b[0m\u001b[1;33m(\u001b[0m\u001b[0mself\u001b[0m\u001b[1;33m,\u001b[0m \u001b[0mkey\u001b[0m\u001b[1;33m:\u001b[0m \u001b[0mTuple\u001b[0m\u001b[1;33m)\u001b[0m\u001b[1;33m:\u001b[0m\u001b[1;33m\u001b[0m\u001b[1;33m\u001b[0m\u001b[0m\n",
      "\u001b[1;32mC:\\ProgramData\\Anaconda3\\lib\\site-packages\\pandas\\core\\indexing.py\u001b[0m in \u001b[0;36m_getitem_axis\u001b[1;34m(self, key, axis)\u001b[0m\n\u001b[0;32m   1097\u001b[0m                     \u001b[1;32mraise\u001b[0m \u001b[0mValueError\u001b[0m\u001b[1;33m(\u001b[0m\u001b[1;34m\"Cannot index with multidimensional key\"\u001b[0m\u001b[1;33m)\u001b[0m\u001b[1;33m\u001b[0m\u001b[1;33m\u001b[0m\u001b[0m\n\u001b[0;32m   1098\u001b[0m \u001b[1;33m\u001b[0m\u001b[0m\n\u001b[1;32m-> 1099\u001b[1;33m                 \u001b[1;32mreturn\u001b[0m \u001b[0mself\u001b[0m\u001b[1;33m.\u001b[0m\u001b[0m_getitem_iterable\u001b[0m\u001b[1;33m(\u001b[0m\u001b[0mkey\u001b[0m\u001b[1;33m,\u001b[0m \u001b[0maxis\u001b[0m\u001b[1;33m=\u001b[0m\u001b[0maxis\u001b[0m\u001b[1;33m)\u001b[0m\u001b[1;33m\u001b[0m\u001b[1;33m\u001b[0m\u001b[0m\n\u001b[0m\u001b[0;32m   1100\u001b[0m \u001b[1;33m\u001b[0m\u001b[0m\n\u001b[0;32m   1101\u001b[0m             \u001b[1;31m# nested tuple slicing\u001b[0m\u001b[1;33m\u001b[0m\u001b[1;33m\u001b[0m\u001b[1;33m\u001b[0m\u001b[0m\n",
      "\u001b[1;32mC:\\ProgramData\\Anaconda3\\lib\\site-packages\\pandas\\core\\indexing.py\u001b[0m in \u001b[0;36m_getitem_iterable\u001b[1;34m(self, key, axis)\u001b[0m\n\u001b[0;32m   1035\u001b[0m \u001b[1;33m\u001b[0m\u001b[0m\n\u001b[0;32m   1036\u001b[0m         \u001b[1;31m# A collection of keys\u001b[0m\u001b[1;33m\u001b[0m\u001b[1;33m\u001b[0m\u001b[1;33m\u001b[0m\u001b[0m\n\u001b[1;32m-> 1037\u001b[1;33m         \u001b[0mkeyarr\u001b[0m\u001b[1;33m,\u001b[0m \u001b[0mindexer\u001b[0m \u001b[1;33m=\u001b[0m \u001b[0mself\u001b[0m\u001b[1;33m.\u001b[0m\u001b[0m_get_listlike_indexer\u001b[0m\u001b[1;33m(\u001b[0m\u001b[0mkey\u001b[0m\u001b[1;33m,\u001b[0m \u001b[0maxis\u001b[0m\u001b[1;33m,\u001b[0m \u001b[0mraise_missing\u001b[0m\u001b[1;33m=\u001b[0m\u001b[1;32mFalse\u001b[0m\u001b[1;33m)\u001b[0m\u001b[1;33m\u001b[0m\u001b[1;33m\u001b[0m\u001b[0m\n\u001b[0m\u001b[0;32m   1038\u001b[0m         return self.obj._reindex_with_indexers(\n\u001b[0;32m   1039\u001b[0m             \u001b[1;33m{\u001b[0m\u001b[0maxis\u001b[0m\u001b[1;33m:\u001b[0m \u001b[1;33m[\u001b[0m\u001b[0mkeyarr\u001b[0m\u001b[1;33m,\u001b[0m \u001b[0mindexer\u001b[0m\u001b[1;33m]\u001b[0m\u001b[1;33m}\u001b[0m\u001b[1;33m,\u001b[0m \u001b[0mcopy\u001b[0m\u001b[1;33m=\u001b[0m\u001b[1;32mTrue\u001b[0m\u001b[1;33m,\u001b[0m \u001b[0mallow_dups\u001b[0m\u001b[1;33m=\u001b[0m\u001b[1;32mTrue\u001b[0m\u001b[1;33m\u001b[0m\u001b[1;33m\u001b[0m\u001b[0m\n",
      "\u001b[1;32mC:\\ProgramData\\Anaconda3\\lib\\site-packages\\pandas\\core\\indexing.py\u001b[0m in \u001b[0;36m_get_listlike_indexer\u001b[1;34m(self, key, axis, raise_missing)\u001b[0m\n\u001b[0;32m   1248\u001b[0m         \u001b[1;32mif\u001b[0m \u001b[0max\u001b[0m\u001b[1;33m.\u001b[0m\u001b[0mis_unique\u001b[0m \u001b[1;32mand\u001b[0m \u001b[1;32mnot\u001b[0m \u001b[0mgetattr\u001b[0m\u001b[1;33m(\u001b[0m\u001b[0max\u001b[0m\u001b[1;33m,\u001b[0m \u001b[1;34m\"is_overlapping\"\u001b[0m\u001b[1;33m,\u001b[0m \u001b[1;32mFalse\u001b[0m\u001b[1;33m)\u001b[0m\u001b[1;33m:\u001b[0m\u001b[1;33m\u001b[0m\u001b[1;33m\u001b[0m\u001b[0m\n\u001b[0;32m   1249\u001b[0m             \u001b[0mindexer\u001b[0m \u001b[1;33m=\u001b[0m \u001b[0max\u001b[0m\u001b[1;33m.\u001b[0m\u001b[0mget_indexer_for\u001b[0m\u001b[1;33m(\u001b[0m\u001b[0mkeyarr\u001b[0m\u001b[1;33m)\u001b[0m\u001b[1;33m\u001b[0m\u001b[1;33m\u001b[0m\u001b[0m\n\u001b[1;32m-> 1250\u001b[1;33m             \u001b[0mkeyarr\u001b[0m \u001b[1;33m=\u001b[0m \u001b[0max\u001b[0m\u001b[1;33m.\u001b[0m\u001b[0mreindex\u001b[0m\u001b[1;33m(\u001b[0m\u001b[0mkeyarr\u001b[0m\u001b[1;33m)\u001b[0m\u001b[1;33m[\u001b[0m\u001b[1;36m0\u001b[0m\u001b[1;33m]\u001b[0m\u001b[1;33m\u001b[0m\u001b[1;33m\u001b[0m\u001b[0m\n\u001b[0m\u001b[0;32m   1251\u001b[0m         \u001b[1;32melse\u001b[0m\u001b[1;33m:\u001b[0m\u001b[1;33m\u001b[0m\u001b[1;33m\u001b[0m\u001b[0m\n\u001b[0;32m   1252\u001b[0m             \u001b[0mkeyarr\u001b[0m\u001b[1;33m,\u001b[0m \u001b[0mindexer\u001b[0m\u001b[1;33m,\u001b[0m \u001b[0mnew_indexer\u001b[0m \u001b[1;33m=\u001b[0m \u001b[0max\u001b[0m\u001b[1;33m.\u001b[0m\u001b[0m_reindex_non_unique\u001b[0m\u001b[1;33m(\u001b[0m\u001b[0mkeyarr\u001b[0m\u001b[1;33m)\u001b[0m\u001b[1;33m\u001b[0m\u001b[1;33m\u001b[0m\u001b[0m\n",
      "\u001b[1;32mC:\\ProgramData\\Anaconda3\\lib\\site-packages\\pandas\\core\\indexes\\base.py\u001b[0m in \u001b[0;36mreindex\u001b[1;34m(self, target, method, level, limit, tolerance)\u001b[0m\n\u001b[0;32m   3327\u001b[0m                 \u001b[1;32mif\u001b[0m \u001b[0mself\u001b[0m\u001b[1;33m.\u001b[0m\u001b[0mis_unique\u001b[0m \u001b[1;32mand\u001b[0m \u001b[1;32mnot\u001b[0m \u001b[0mgetattr\u001b[0m\u001b[1;33m(\u001b[0m\u001b[0mself\u001b[0m\u001b[1;33m,\u001b[0m \u001b[1;34m\"is_overlapping\"\u001b[0m\u001b[1;33m,\u001b[0m \u001b[1;32mFalse\u001b[0m\u001b[1;33m)\u001b[0m\u001b[1;33m:\u001b[0m\u001b[1;33m\u001b[0m\u001b[1;33m\u001b[0m\u001b[0m\n\u001b[0;32m   3328\u001b[0m                     indexer = self.get_indexer(\n\u001b[1;32m-> 3329\u001b[1;33m                         \u001b[0mtarget\u001b[0m\u001b[1;33m,\u001b[0m \u001b[0mmethod\u001b[0m\u001b[1;33m=\u001b[0m\u001b[0mmethod\u001b[0m\u001b[1;33m,\u001b[0m \u001b[0mlimit\u001b[0m\u001b[1;33m=\u001b[0m\u001b[0mlimit\u001b[0m\u001b[1;33m,\u001b[0m \u001b[0mtolerance\u001b[0m\u001b[1;33m=\u001b[0m\u001b[0mtolerance\u001b[0m\u001b[1;33m\u001b[0m\u001b[1;33m\u001b[0m\u001b[0m\n\u001b[0m\u001b[0;32m   3330\u001b[0m                     )\n\u001b[0;32m   3331\u001b[0m                 \u001b[1;32melse\u001b[0m\u001b[1;33m:\u001b[0m\u001b[1;33m\u001b[0m\u001b[1;33m\u001b[0m\u001b[0m\n",
      "\u001b[1;32mC:\\ProgramData\\Anaconda3\\lib\\site-packages\\pandas\\core\\indexes\\base.py\u001b[0m in \u001b[0;36mget_indexer\u001b[1;34m(self, target, method, limit, tolerance)\u001b[0m\n\u001b[0;32m   2998\u001b[0m                 )\n\u001b[0;32m   2999\u001b[0m \u001b[1;33m\u001b[0m\u001b[0m\n\u001b[1;32m-> 3000\u001b[1;33m             \u001b[0mindexer\u001b[0m \u001b[1;33m=\u001b[0m \u001b[0mself\u001b[0m\u001b[1;33m.\u001b[0m\u001b[0m_engine\u001b[0m\u001b[1;33m.\u001b[0m\u001b[0mget_indexer\u001b[0m\u001b[1;33m(\u001b[0m\u001b[0mtarget\u001b[0m\u001b[1;33m.\u001b[0m\u001b[0m_get_engine_target\u001b[0m\u001b[1;33m(\u001b[0m\u001b[1;33m)\u001b[0m\u001b[1;33m)\u001b[0m\u001b[1;33m\u001b[0m\u001b[1;33m\u001b[0m\u001b[0m\n\u001b[0m\u001b[0;32m   3001\u001b[0m \u001b[1;33m\u001b[0m\u001b[0m\n\u001b[0;32m   3002\u001b[0m         \u001b[1;32mreturn\u001b[0m \u001b[0mensure_platform_int\u001b[0m\u001b[1;33m(\u001b[0m\u001b[0mindexer\u001b[0m\u001b[1;33m)\u001b[0m\u001b[1;33m\u001b[0m\u001b[1;33m\u001b[0m\u001b[0m\n",
      "\u001b[1;32mpandas\\_libs\\index.pyx\u001b[0m in \u001b[0;36mpandas._libs.index.IndexEngine.get_indexer\u001b[1;34m()\u001b[0m\n",
      "\u001b[1;32mpandas\\_libs\\hashtable_class_helper.pxi\u001b[0m in \u001b[0;36mpandas._libs.hashtable.Int64HashTable.lookup\u001b[1;34m()\u001b[0m\n",
      "\u001b[1;32mC:\\ProgramData\\Anaconda3\\lib\\site-packages\\numpy\\core\\_asarray.py\u001b[0m in \u001b[0;36masarray\u001b[1;34m(a, dtype, order)\u001b[0m\n\u001b[0;32m     12\u001b[0m ]\n\u001b[0;32m     13\u001b[0m \u001b[1;33m\u001b[0m\u001b[0m\n\u001b[1;32m---> 14\u001b[1;33m \u001b[1;33m@\u001b[0m\u001b[0mset_module\u001b[0m\u001b[1;33m(\u001b[0m\u001b[1;34m'numpy'\u001b[0m\u001b[1;33m)\u001b[0m\u001b[1;33m\u001b[0m\u001b[1;33m\u001b[0m\u001b[0m\n\u001b[0m\u001b[0;32m     15\u001b[0m \u001b[1;32mdef\u001b[0m \u001b[0masarray\u001b[0m\u001b[1;33m(\u001b[0m\u001b[0ma\u001b[0m\u001b[1;33m,\u001b[0m \u001b[0mdtype\u001b[0m\u001b[1;33m=\u001b[0m\u001b[1;32mNone\u001b[0m\u001b[1;33m,\u001b[0m \u001b[0morder\u001b[0m\u001b[1;33m=\u001b[0m\u001b[1;32mNone\u001b[0m\u001b[1;33m)\u001b[0m\u001b[1;33m:\u001b[0m\u001b[1;33m\u001b[0m\u001b[1;33m\u001b[0m\u001b[0m\n\u001b[0;32m     16\u001b[0m     \"\"\"Convert the input to an array.\n",
      "\u001b[1;31mKeyboardInterrupt\u001b[0m: "
     ]
    }
   ],
   "source": [
    "output_dir = project_dir + f'Output/jitter/coupling_filter/CD_DE_condition19_joint_fit_fixed_portion_randomempty_12182021_1151/'\n",
    "\n",
    "for itr in range(0, 1):\n",
    "    jobs_CD, jobs_DE = [], []\n",
    "    for trial_id in selected_trial_ids:\n",
    "        job1 = delayed(model.update_filter_membership)(spike_times, trial_window, group_portion, group_model_pars, \n",
    "                                                       filter_membership_CD, [trial_id], parallel=True)\n",
    "        job2 = delayed(model.update_filter_membership)(spike_times, trial_window, group_portion, group_model_pars, \n",
    "                                                       filter_membership_DE, [trial_id], parallel=True)\n",
    "        jobs_CD.append(job1)\n",
    "        jobs_DE.append(job2)\n",
    "    with Parallel(n_jobs=num_paral_jobs, verbose=1) as parallel_pool:\n",
    "        jobs_CD_out = parallel_pool(jobs_CD)\n",
    "        jobs_DE_out = parallel_pool(jobs_DE)\n",
    "    filter_membership_CD = pd.concat(jobs_CD_out, axis=1)\n",
    "    filter_membership_DE = pd.concat(jobs_DE_out, axis=1)\n",
    "    model.filter_membership_statistics(filter_membership_CD)\n",
    "    model.filter_membership_statistics(filter_membership_DE)\n",
    "    file_path = output_dir + f'filter_membership_CD_itr{itr}_{time.strftime(\"%Y%m%d_%H%M%S\")}.pkl'\n",
    "    util.save_variable(file_path, filter_membership_CD)\n",
    "    file_path = output_dir + f'filter_membership_DE_itr{itr}_{time.strftime(\"%Y%m%d_%H%M%S\")}.pkl'\n",
    "    util.save_variable(file_path, filter_membership_DE)\n",
    "\n",
    "#     filter_membership_joint = filter_membership_CD.append(filter_membership_DE)\n",
    "\n",
    "#     group_portion = model.update_membership_portion(5, filter_membership_joint)\n",
    "#     file_path = output_dir + f'group_portion_itr{itr}_{time.strftime(\"%Y%m%d_%H%M%S\")}.pkl'\n",
    "#     util.save_variable(file_path, group_portion)\n",
    "\n",
    "#     group_model_pars = model.update_cluster_filter_joint_trail(filter_membership_joint, verbose=True)\n",
    "#     model.plot_multiple_filters(group_model_pars, ylim=[-7, 20], num_rows_cols=[1,5])\n",
    "#     file_path = output_dir + f'group_model_pars_joint_itr{itr}_{time.strftime(\"%Y%m%d_%H%M%S\")}.pkl'\n",
    "#     util.save_variable(file_path, group_model_pars)"
   ]
  },
  {
   "cell_type": "code",
   "execution_count": null,
   "metadata": {},
   "outputs": [],
   "source": []
  },
  {
   "cell_type": "code",
   "execution_count": null,
   "metadata": {},
   "outputs": [],
   "source": []
  },
  {
   "cell_type": "code",
   "execution_count": null,
   "metadata": {},
   "outputs": [],
   "source": []
  },
  {
   "cell_type": "code",
   "execution_count": null,
   "metadata": {},
   "outputs": [],
   "source": []
  },
  {
   "cell_type": "code",
   "execution_count": null,
   "metadata": {},
   "outputs": [],
   "source": []
  }
 ],
 "metadata": {
  "kernelspec": {
   "display_name": "Python 3",
   "language": "python",
   "name": "python3"
  },
  "language_info": {
   "codemirror_mode": {
    "name": "ipython",
    "version": 3
   },
   "file_extension": ".py",
   "mimetype": "text/x-python",
   "name": "python",
   "nbconvert_exporter": "python",
   "pygments_lexer": "ipython3",
   "version": "3.7.10"
  },
  "nbdime-conflicts": {
   "local_diff": [
    {
     "key": "kernelspec",
     "op": "add",
     "value": {
      "display_name": "allensdk",
      "language": "python",
      "name": "allensdk"
     }
    },
    {
     "key": "language_info",
     "op": "add",
     "value": {
      "codemirror_mode": {
       "name": "ipython",
       "version": 3
      },
      "file_extension": ".py",
      "mimetype": "text/x-python",
      "name": "python",
      "nbconvert_exporter": "python",
      "pygments_lexer": "ipython3",
      "version": "3.6.8"
     }
    }
   ],
   "remote_diff": [
    {
     "key": "kernelspec",
     "op": "add",
     "value": {
      "display_name": "py37",
      "language": "python",
      "name": "py37"
     }
    },
    {
     "key": "language_info",
     "op": "add",
     "value": {
      "codemirror_mode": {
       "name": "ipython",
       "version": 3
      },
      "file_extension": ".py",
      "mimetype": "text/x-python",
      "name": "python",
      "nbconvert_exporter": "python",
      "pygments_lexer": "ipython3",
      "version": "3.7.3"
     }
    }
   ]
  }
 },
 "nbformat": 4,
 "nbformat_minor": 2
}
