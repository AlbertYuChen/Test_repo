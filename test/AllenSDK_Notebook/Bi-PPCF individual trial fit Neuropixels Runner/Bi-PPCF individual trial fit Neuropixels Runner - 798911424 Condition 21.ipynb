{
 "cells": [
  {
   "cell_type": "code",
   "execution_count": 1,
   "metadata": {
    "scrolled": true
   },
   "outputs": [
    {
     "data": {
      "text/html": [
       "<style>.container { width:70% !important; }</style>"
      ],
      "text/plain": [
       "<IPython.core.display.HTML object>"
      ]
     },
     "metadata": {},
     "output_type": "display_data"
    }
   ],
   "source": [
    "%load_ext autoreload\n",
    "%autoreload 2\n",
    "\n",
    "from IPython.core.display import display, HTML\n",
    "display(HTML(\"<style>.container { width:70% !important; }</style>\"))\n",
    "import numpy as np; np.set_printoptions(linewidth=110);\n",
    "import pandas as pd\n",
    "# tell pandas to show all columns when we display a DataFrame\n",
    "pd.set_option(\"display.max_columns\", None)\n",
    "\n",
    "# first we need a bit of import boilerplate\n",
    "import os\n",
    "import sys\n",
    "from sys import platform\n",
    "if platform == 'win32':\n",
    "    sys.path.append('D:/Brain_Network/Code/')\n",
    "    manifest_path = 'D:/Brain_Network/Data/Allen_Institute_Dataset/manifest.json'\n",
    "    project_dir = 'D:/Brain_Network/'\n",
    "    num_paral_jobs = 8\n",
    "elif platform =='darwin':\n",
    "    sys.path.append('/Users/chenyu/Workspace/Brain_Network/Code/')\n",
    "    manifest_path = '/Users/chenyu/Workspace/Brain_Network/Data/Allen_Institute_Dataset/manifest.json'\n",
    "    project_dir = '/Users/chenyu/Workspace/Brain_Network/'\n",
    "elif platform == 'linux':\n",
    "    sys.path.append('/home/yuchen/workspace/Brain_Network/Code/')\n",
    "    manifest_path = '/home/yuchen/workspace/Brain_Network/Data/Allen_Institute_Dataset/manifest.json'\n",
    "    project_dir = '/home/yuchen/workspace/Brain_Network/'\n",
    "    num_paral_jobs = 12\n",
    "else:\n",
    "    print('Add new computer system settings.')\n",
    "\n",
    "import matplotlib.pyplot as plt\n",
    "import networkx as nx\n",
    "import seaborn\n",
    "import scipy\n",
    "import scipy.io as sio\n",
    "from scipy.ndimage.filters import gaussian_filter\n",
    "import seaborn\n",
    "from tqdm import tqdm\n",
    "from tqdm.notebook import trange\n",
    "import time\n",
    "import joblib\n",
    "from joblib import Parallel, delayed\n",
    "\n",
    "from allensdk.brain_observatory.ecephys.ecephys_project_cache import EcephysProjectCache\n",
    "from allensdk.brain_observatory.ecephys.ecephys_session import EcephysSession\n",
    "\n",
    "import data_visualizer\n",
    "import data_model\n",
    "import fine_time_coupling_model\n",
    "import smoothing_spline\n",
    "import util\n",
    "import hierarchical_sampling_model\n",
    "import hierarchical_model_generator\n",
    "import jitter\n"
   ]
  },
  {
   "cell_type": "code",
   "execution_count": 2,
   "metadata": {},
   "outputs": [
    {
     "name": "stdout",
     "output_type": "stream",
     "text": [
      "allensdk 2.3.1\n",
      "pandas 1.2.4\n",
      "h5py 2.10.0\n",
      "pynwb 1.4.0\n",
      "hdmf 2.2.0\n",
      "matplotlib 3.4.2\n"
     ]
    }
   ],
   "source": [
    "import allensdk\n",
    "import pandas\n",
    "import h5py\n",
    "import pynwb\n",
    "import hdmf\n",
    "import matplotlib\n",
    "print('allensdk', allensdk.__version__)\n",
    "print('pandas', pandas.__version__)\n",
    "print('h5py', h5py.__version__)\n",
    "print('pynwb', pynwb.__version__)\n",
    "print('hdmf', hdmf.__version__)\n",
    "print('matplotlib', matplotlib.__version__)"
   ]
  },
  {
   "cell_type": "markdown",
   "metadata": {},
   "source": [
    "# Neuropixels data."
   ]
  },
  {
   "cell_type": "code",
   "execution_count": 3,
   "metadata": {
    "scrolled": true
   },
   "outputs": [
    {
     "name": "stdout",
     "output_type": "stream",
     "text": [
      "Donload time: 288000\n"
     ]
    }
   ],
   "source": [
    "cache = EcephysProjectCache.from_warehouse(manifest=manifest_path)"
   ]
  },
  {
   "cell_type": "code",
   "execution_count": 4,
   "metadata": {},
   "outputs": [],
   "source": [
    "session_id = 798911424  #  791319847 798911424  799864342\n",
    "session = cache.get_session_data(session_id)"
   ]
  },
  {
   "cell_type": "code",
   "execution_count": 5,
   "metadata": {},
   "outputs": [
    {
     "data": {
      "text/plain": [
       "probeC    94\n",
       "probeE    89\n",
       "probeD    78\n",
       "Name: probe_description, dtype: int64"
      ]
     },
     "metadata": {},
     "output_type": "display_data"
    },
    {
     "data": {
      "text/plain": [
       "261"
      ]
     },
     "metadata": {},
     "output_type": "display_data"
    }
   ],
   "source": [
    "probes = ['probeC', 'probeD', 'probeE'] # ['probeC', 'probeE']\n",
    "selected_units = session.units[\n",
    "    session.units['ecephys_structure_acronym'].isin(util.VISUAL_AREA) &\n",
    "    session.units['probe_description'].isin(probes)]\n",
    "display(selected_units['probe_description'].value_counts())\n",
    "display(selected_units['probe_description'].count())"
   ]
  },
  {
   "cell_type": "markdown",
   "metadata": {},
   "source": [
    "#### Fine Time Coupling Model"
   ]
  },
  {
   "cell_type": "code",
   "execution_count": 6,
   "metadata": {},
   "outputs": [],
   "source": [
    "model = fine_time_coupling_model.FineTimeCouplingModel(session)"
   ]
  },
  {
   "cell_type": "markdown",
   "metadata": {},
   "source": [
    "#### Trials Selection"
   ]
  },
  {
   "cell_type": "code",
   "execution_count": 10,
   "metadata": {
    "scrolled": false
   },
   "outputs": [
    {
     "name": "stdout",
     "output_type": "stream",
     "text": [
      "0  247 temp freq [2.0] orient [180.0] contrast [0.8] [ 3799  3827  3847  3874  3883  3887  3908  3939 31059 31111 31115 49278 49348 49387 49396]\n",
      "1  248 temp freq [1.0] orient [45.0] contrast [0.8] [ 3800  3807  3820  3853  3907  3975  3993 31013 31036 31091 31106 31120 31127 49216 49397]\n",
      "2  250 temp freq [2.0] orient [270.0] contrast [0.8] [ 3802  3903  3991 31006 31109 31136 49229 49267 49273 49300 49308 49363 49369 49379 49382]\n",
      "3  251 temp freq [1.0] orient [90.0] contrast [0.8] [ 3803  3806  3885  3890  3983 31017 31052 31131 31132 49224 49334 49345 49351 49373 49384]\n",
      "4  252 temp freq [1.0] orient [0.0] contrast [0.8] [ 3804  3869  3873  3916 31037 31050 31061 31157 31193 49271 49279 49309 49404 49417 49429]\n",
      "5  253 temp freq [1.0] orient [315.0] contrast [0.8] [ 3805  3812  3843  3850  3857  3952  3994 31008 31029 31163 31181 49269 49289 49338 49419]\n",
      "6  254 temp freq [15.0] orient [180.0] contrast [0.8] [ 3808  3837  3856  3858  3879 31011 31019 31049 31118 31155 49208 49244 49291 49347 49358]\n",
      "7  255 temp freq [2.0] orient [135.0] contrast [0.8] [ 3809  3830  3863  3865  3965 31018 31060 31084 31121 31130 49222 49292 49318 49331 49337]\n",
      "8  259 temp freq [4.0] orient [270.0] contrast [0.8] [ 3815  3832  3851  3893  3910  3969 31009 31140 31189 49221 49243 49252 49303 49314 49385]\n",
      "9  262 temp freq [2.0] orient [315.0] contrast [0.8] [ 3818  3823  3842  3985  3990 31025 31044 31068 31069 31158 31168 49204 49329 49398 49423]\n",
      "10  264 temp freq [2.0] orient [90.0] contrast [0.8] [ 3821  3927  3954 31005 31023 31032 31083 31102 49205 49276 49312 49321 49356 49393 49425]\n",
      "11  266 temp freq [2.0] orient [45.0] contrast [0.8] [ 3825  3839  3877  3926  3929  3957 31063 31103 31183 31192 49285 49330 49336 49350 49371]\n",
      "12  269 temp freq [4.0] orient [180.0] contrast [0.8] [ 3834  3945 31045 31082 31134 31139 31141 49218 49235 49236 49237 49246 49259 49306 49326]\n",
      "13  271 temp freq [4.0] orient [0.0] contrast [0.8] [ 3836  3867  3935  3941  3972  3978 31067 31094 31128 49238 49249 49258 49288 49342 49343]\n",
      "14  272 temp freq [1.0] orient [135.0] contrast [0.8] [ 3838  3840  3846  3849  3940  3977 31001 31110 49210 49227 49293 49296 49324 49359 49376]\n",
      "15  276 temp freq [15.0] orient [135.0] contrast [0.8] [ 3861  3901  3913  3950 31041 31042 31065 31073 31097 31099 31117 31180 49234 49283 49421]\n",
      "16  277 temp freq [1.0] orient [270.0] contrast [0.8] [ 3864  3891 31038 31074 31095 31100 31124 31143 31145 31153 49233 49298 49302 49319 49333]\n",
      "17  279 temp freq [2.0] orient [225.0] contrast [0.8] [ 3868  3871  3902  3982 31057 31087 31101 31107 31113 31138 49213 49375 49377 49388 49402]\n",
      "18  282 temp freq [1.0] orient [225.0] contrast [0.8] [ 3896  3963  3970  3974 31010 31090 31176 31195 49212 49284 49311 49352 49355 49360 49362]\n",
      "19  283 temp freq [1.0] orient [180.0] contrast [0.8] [ 3909  3915  3919  3931 31012 31070 31122 31146 31164 31198 49219 49242 49261 49392 49432]\n",
      "20  285 temp freq [2.0] orient [0.0] contrast [0.8] [ 3918  3961  3971 31088 31119 31150 49207 49214 49248 49265 49310 49325 49386 49406 49413]\n",
      "total num trials: 315\n"
     ]
    }
   ],
   "source": [
    "# condition_ids = [275, 246, 268, 270, 284, 274, 249, 263, 265, 261, 286, 258, 278, 267, 280, 256, 260, 257, 281]\n",
    "condition_ids = [247, 248, 250, 251, 252, 253, 254, 255, 259, 262, 264, 266, 269, 271, 272, 276, 277, 279, 282, 283, 285]\n",
    "stimulus_table = session.get_stimulus_table(['drifting_gratings'])\n",
    "trials_df = stimulus_table[stimulus_table['stimulus_condition_id'].isin(condition_ids)]\n",
    "all_trials_indices = trials_df.index.values\n",
    "trials_groups = trials_df.groupby('stimulus_condition_id')\n",
    "all_condition_ids = list(trials_groups.groups.keys())\n",
    "model.print_conditions(trials_groups)"
   ]
  },
  {
   "cell_type": "markdown",
   "metadata": {},
   "source": [
    "## Spike Trains"
   ]
  },
  {
   "cell_type": "code",
   "execution_count": 8,
   "metadata": {},
   "outputs": [],
   "source": [
    "trial_window = [0.4, 2.0]\n",
    "spike_times = model.get_trial_metric_per_unit_per_trial(\n",
    "        stimulus_presentation_ids=all_trials_indices,\n",
    "        unit_ids=selected_units.index.values,\n",
    "        trial_time_window=trial_window,\n",
    "        metric_type='spike_times')\n"
   ]
  },
  {
   "cell_type": "code",
   "execution_count": 11,
   "metadata": {},
   "outputs": [
    {
     "data": {
      "text/plain": [
       "(261, 315)"
      ]
     },
     "metadata": {},
     "output_type": "display_data"
    }
   ],
   "source": [
    "# display(spike_trains.shape)\n",
    "# display(spike_trains.iloc[0,0].shape)\n",
    "display(spike_times.shape)\n",
    "# display(spike_times.head())"
   ]
  },
  {
   "cell_type": "markdown",
   "metadata": {},
   "source": [
    "# Trial-wise cluster, joint-trial filter fit."
   ]
  },
  {
   "cell_type": "code",
   "execution_count": 24,
   "metadata": {},
   "outputs": [
    {
     "name": "stdout",
     "output_type": "stream",
     "text": [
      "conditions: [(0, 247), (1, 248), (2, 250), (3, 251), (4, 252), (5, 253), (6, 254), (7, 255), (8, 259), (9, 262), (10, 264), (11, 266), (12, 269), (13, 271), (14, 272), (15, 276), (16, 277), (17, 279), (18, 282), (19, 283), (20, 285)]\n"
     ]
    }
   ],
   "source": [
    "model = fine_time_coupling_model.FineTimeCouplingModel(session)\n",
    "model.initial_step(None, spike_times, selected_units, trials_groups, trial_window,\n",
    "                   probes=['probeC', 'probeD', 'probeE'], num_areas=3, verbose=False)"
   ]
  },
  {
   "cell_type": "code",
   "execution_count": 25,
   "metadata": {},
   "outputs": [
    {
     "name": "stdout",
     "output_type": "stream",
     "text": [
      "[ 3799  3800  3802  3803  3804  3805  3806  3807  3808  3809  3812  3815  3818  3820  3821  3823  3825  3827\n",
      "  3830  3832  3834  3836  3837  3838  3839  3840  3842  3843  3846  3847  3849  3850  3851  3853  3856  3857\n",
      "  3858  3861  3863  3864  3865  3867  3868  3869  3871  3873  3874  3877  3879  3883  3885  3887  3890  3891\n",
      "  3893  3896  3901  3902  3903  3907  3908  3909  3910  3913  3915  3916  3918  3919  3926  3927  3929  3931\n",
      "  3935  3939  3940  3941  3945  3950  3952  3954  3957  3961  3963  3965  3969  3970  3971  3972  3974  3975\n",
      "  3977  3978  3982  3983  3985  3990  3991  3993  3994 31001 31005 31006 31008 31009 31010 31011 31012 31013\n",
      " 31017 31018 31019 31023 31025 31029 31032 31036 31037 31038 31041 31042 31044 31045 31049 31050 31052 31057\n",
      " 31059 31060 31061 31063 31065 31067 31068 31069 31070 31073 31074 31082 31083 31084 31087 31088 31090 31091\n",
      " 31094 31095 31097 31099 31100 31101 31102 31103 31106 31107 31109 31110 31111 31113 31115 31117 31118 31119\n",
      " 31120 31121 31122 31124 31127 31128 31130 31131 31132 31134 31136 31138 31139 31140 31141 31143 31145 31146\n",
      " 31150 31153 31155 31157 31158 31163 31164 31168 31176 31180 31181 31183 31189 31192 31193 31195 31198 49204\n",
      " 49205 49207 49208 49210 49212 49213 49214 49216 49218 49219 49221 49222 49224 49227 49229 49233 49234 49235\n",
      " 49236 49237 49238 49242 49243 49244 49246 49248 49249 49252 49258 49259 49261 49265 49267 49269 49271 49273\n",
      " 49276 49278 49279 49283 49284 49285 49288 49289 49291 49292 49293 49296 49298 49300 49302 49303 49306 49308\n",
      " 49309 49310 49311 49312 49314 49318 49319 49321 49324 49325 49326 49329 49330 49331 49333 49334 49336 49337\n",
      " 49338 49342 49343 49345 49347 49348 49350 49351 49352 49355 49356 49358 49359 49360 49362 49363 49369 49371\n",
      " 49373 49375 49376 49377 49379 49382 49384 49385 49386 49387 49388 49392 49393 49396 49397 49398 49402 49404\n",
      " 49406 49413 49417 49419 49421 49423 49425 49429 49432]\n"
     ]
    }
   ],
   "source": [
    "# select_condition_ids = [275, 246, 268, 270, 284, 274, 249, 263, 265, 261, 286, 258, 278, 267, 280, 256, 260, 257, 281]\n",
    "select_condition_ids = [247, 248, 250, 251, 252, 253, 254, 255, 259, 262, 264, 266, 269, 271, 272, 276, 277, 279, 282, 283, 285]\n",
    "stimulus_table = session.get_stimulus_table(['drifting_gratings'])\n",
    "trials_df = stimulus_table[stimulus_table['stimulus_condition_id'].isin(select_condition_ids)]\n",
    "selected_trial_ids = trials_df.index.values\n",
    "print(selected_trial_ids)"
   ]
  },
  {
   "cell_type": "code",
   "execution_count": 27,
   "metadata": {},
   "outputs": [
    {
     "name": "stderr",
     "output_type": "stream",
     "text": [
      "/home/yuchen/anaconda3/lib/python3.8/site-packages/seaborn/distributions.py:2557: FutureWarning: `distplot` is a deprecated function and will be removed in a future version. Please adapt your code to use either `displot` (a figure-level function with similar flexibility) or `histplot` (an axes-level function for histograms).\n",
      "  warnings.warn(msg, FutureWarning)\n",
      "/home/yuchen/anaconda3/lib/python3.8/site-packages/seaborn/distributions.py:2557: FutureWarning: `distplot` is a deprecated function and will be removed in a future version. Please adapt your code to use either `displot` (a figure-level function with similar flexibility) or `histplot` (an axes-level function for histograms).\n",
      "  warnings.warn(msg, FutureWarning)\n",
      "/home/yuchen/anaconda3/lib/python3.8/site-packages/seaborn/distributions.py:2557: FutureWarning: `distplot` is a deprecated function and will be removed in a future version. Please adapt your code to use either `displot` (a figure-level function with similar flexibility) or `histplot` (an axes-level function for histograms).\n",
      "  warnings.warn(msg, FutureWarning)\n"
     ]
    },
    {
     "data": {
      "image/png": "[encoded data removed]",
      "text/plain": [
       "<Figure size 1080x144 with 3 Axes>"
      ]
     },
     "metadata": {
      "needs_background": "light"
     },
     "output_type": "display_data"
    },
    {
     "name": "stdout",
     "output_type": "stream",
     "text": [
      "num_pairs: 672\n",
      "num_pairs: 648\n",
      "filter_membership.shape (672, 315)\n",
      "membership cnt [(0, 211680)]\n",
      "filter_membership.shape (648, 315)\n",
      "membership cnt [(0, 204120)]\n",
      "filter_membership.shape (1320, 315)\n",
      "membership cnt [(0, 415800)]\n"
     ]
    },
    {
     "data": {
      "image/png": "[encoded data removed]",
      "text/plain": [
       "<Figure size 1260x144 with 5 Axes>"
      ]
     },
     "metadata": {
      "needs_background": "light"
     },
     "output_type": "display_data"
    }
   ],
   "source": [
    "active_firing_rate_quantile_threshold = 0.7\n",
    "active_units = model.get_active_units(active_firing_rate_quantile_threshold, group_type='probe', verbose=True)\n",
    "\n",
    "probe_pairs = [('probeC', 'probeD')]\n",
    "neuron_pairs = model.construct_unit_pairs(active_units, pair_type='between_probe', probe_pairs=probe_pairs, verbose=True)\n",
    "filter_membership_CD = model.init_filter_membership(neuron_pairs, trial_ids=selected_trial_ids)\n",
    "\n",
    "probe_pairs = [('probeD', 'probeE')]\n",
    "neuron_pairs = model.construct_unit_pairs(active_units, pair_type='between_probe', probe_pairs=probe_pairs, verbose=True)\n",
    "filter_membership_DE = model.init_filter_membership(neuron_pairs, trial_ids=selected_trial_ids)\n",
    "\n",
    "# file_path = project_dir + 'Output/jitter/coupling_filter/CD_DE_condition19_joint_fit2/filter_membership_CD_itr149_20210523-070711.pkl'\n",
    "# filter_membership_CD = util.load_variable(file_path)\n",
    "# file_path = project_dir + 'Output/jitter/coupling_filter/CD_DE_condition19_joint_fit2/filter_membership_DE_itr149_20210523-070711.pkl'\n",
    "# filter_membership_DE = util.load_variable(file_path)\n",
    "filter_membership_joint = filter_membership_CD.append(filter_membership_DE)\n",
    "model.filter_membership_statistics(filter_membership_CD, verbose=True)\n",
    "model.filter_membership_statistics(filter_membership_DE, verbose=True)\n",
    "model.filter_membership_statistics(filter_membership_joint, verbose=True)\n",
    "group_portion = np.array([0.2, 0.2, 0.2, 0.2, 0.2])\n",
    "\n",
    "file_path = project_dir + 'Output/jitter/coupling_filter/CD_DE_condition19_joint_fit2/group_model_pars_joint_itr149_20210523-071613.pkl'\n",
    "group_model_pars = util.load_variable(file_path)\n",
    "group_model_pars[2]['beta'][2] = -3  # TMP manual modification.\n",
    "model.plot_multiple_filters(group_model_pars, ylim=[-7, 20], num_rows_cols=[1,5])"
   ]
  },
  {
   "cell_type": "markdown",
   "metadata": {},
   "source": [
    "#### Estimate optimal kernel width (plug-in estimator)"
   ]
  },
  {
   "cell_type": "code",
   "execution_count": 22,
   "metadata": {},
   "outputs": [
    {
     "name": "stdout",
     "output_type": "stream",
     "text": [
      "#all trials:415800\t#batch trials:1000\n",
      "optimal kernel width  55.0\n"
     ]
    },
    {
     "data": {
      "image/png": "[encoded data removed]",
      "text/plain": [
       "<Figure size 432x144 with 1 Axes>"
      ]
     },
     "metadata": {
      "needs_background": "light"
     },
     "output_type": "display_data"
    }
   ],
   "source": [
    "model.estimate_nuisance_kernel_width_together(filter_membership_joint, batch_size=1000)"
   ]
  },
  {
   "cell_type": "markdown",
   "metadata": {},
   "source": [
    "### Parallel programming."
   ]
  },
  {
   "cell_type": "code",
   "execution_count": 28,
   "metadata": {
    "scrolled": true
   },
   "outputs": [
    {
     "name": "stderr",
     "output_type": "stream",
     "text": [
      "[Parallel(n_jobs=12)]: Using backend LokyBackend with 12 concurrent workers.\n",
      "[Parallel(n_jobs=12)]: Done  26 tasks      | elapsed:   40.6s\n",
      "[Parallel(n_jobs=12)]: Done 176 tasks      | elapsed:  3.3min\n",
      "[Parallel(n_jobs=12)]: Done 315 out of 315 | elapsed:  5.9min finished\n",
      "[Parallel(n_jobs=12)]: Using backend LokyBackend with 12 concurrent workers.\n",
      "[Parallel(n_jobs=12)]: Done  26 tasks      | elapsed:   40.4s\n",
      "[Parallel(n_jobs=12)]: Done 176 tasks      | elapsed:  3.3min\n",
      "[Parallel(n_jobs=12)]: Done 315 out of 315 | elapsed:  5.8min finished\n"
     ]
    },
    {
     "name": "stdout",
     "output_type": "stream",
     "text": [
      "filter_membership.shape (672, 315)\n",
      "membership cnt [(0, 40807), (1, 42707), (2, 50913), (3, 41425), (4, 35828)]\n",
      "filter_membership.shape (648, 315)\n",
      "membership cnt [(0, 35685), (1, 41441), (2, 51211), (3, 40023), (4, 35760)]\n",
      "util.save_variable, save variable to:  /home/yuchen/workspace/Brain_Network/Output/jitter/coupling_filter/CD_DE_condition21_joint_fit_fixed_portion_kernel80ms_11272021_1356/filter_membership_CD_itr0_20211127_190950.pkl\n",
      "util.save_variable, save variable to:  /home/yuchen/workspace/Brain_Network/Output/jitter/coupling_filter/CD_DE_condition21_joint_fit_fixed_portion_kernel80ms_11272021_1356/filter_membership_DE_itr0_20211127_190950.pkl\n",
      "util.save_variable, save variable to:  /home/yuchen/workspace/Brain_Network/Output/jitter/coupling_filter/CD_DE_condition21_joint_fit_fixed_portion_kernel80ms_11272021_1356/group_portion_itr0_20211127_190950.pkl\n",
      "filter_membership.shape (1320, 315)\n",
      "#all trials:84148\t#batch trials:84148\n",
      "X.shape (1586406, 3), basis_integral.shape (3, 1),beta.shape(3, 1)\n",
      " 30%|██████████████████▉                                            | 18/60 [00:02<00:06,  6.78it/s]\n",
      "num itr 18 [[-2363282.90659901]] 6.212061031490856e-06\n",
      "beta [11.78274254 -0.13765898  3.86560177]\n",
      "gradient [ -0.18387926 -11.29167585   0.02916331]\n",
      "Finish 1.\n",
      "#all trials:102124\t#batch trials:102124\n",
      "X.shape (1716512, 3), basis_integral.shape (3, 1),beta.shape(3, 1)\n",
      " 27%|████████████████▊                                              | 16/60 [00:02<00:07,  5.98it/s]\n",
      "num itr 16 [[-2352869.32448839]] 9.700934773232417e-06\n",
      "beta [10.50489712  0.246836   -2.40030607]\n",
      "gradient [ -0.82646317 -38.35358809  -7.04589447]\n",
      "Finish 2.\n",
      "#all trials:81448\t#batch trials:81448\n",
      "X.shape (1673979, 11), basis_integral.shape (11, 1),beta.shape(11, 1)\n",
      "100%|███████████████████████████████████████████████████████████████| 60/60 [00:14<00:00,  4.28it/s]\n",
      "num itr 59 [[-2638454.43021443]] 0.016910449566406468\n",
      "beta [ 1.26837405e+01  2.71862034e-02  1.41858243e+00 -1.37703887e+01  3.13458240e+01 -1.81982200e+01\n",
      "  1.29826299e+01 -5.78871334e+00 -2.30392215e+00  2.04466988e+00 -2.91544772e+00]\n",
      "gradient [ -2.95696893 145.28526674   0.52079834  -1.00614611  -4.34509659  -0.47082828  -0.86269749   1.40053061\n",
      "   2.7853372    1.12655895   0.72434172]\n",
      "Finish 3.\n"
     ]
    },
    {
     "name": "stderr",
     "output_type": "stream",
     "text": [
      "/home/yuchen/workspace/Brain_Network/Code/jitter.py:4090: UserWarning: Reach max itrs 60. Last err:1.691e-02\n",
      "  warnings.warn(f'Reach max itrs {max_num_itrs}. Last err:{beta_err:.3e}')\n"
     ]
    },
    {
     "name": "stdout",
     "output_type": "stream",
     "text": [
      "#all trials:71588\t#batch trials:71588\n",
      "X.shape (1624267, 11), basis_integral.shape (11, 1),beta.shape(11, 1)\n",
      "100%|███████████████████████████████████████████████████████████████| 60/60 [00:13<00:00,  4.41it/s]\n",
      "num itr 59 [[-2726500.41665542]] 0.021910177970051195\n",
      "beta [ 1.38487897e+01  2.04025881e-02  1.40290156e+01  2.42610609e+01 -2.23163145e+01  2.18414317e+01\n",
      " -9.95573991e+00  6.28289797e-01 -1.18180981e+00 -7.71773887e-01 -3.35969317e+00]\n",
      "gradient [-2.52460761 71.85421698 -3.00790907 -2.96982484 -0.7067482  -3.02541298  0.28891945  2.01858334  1.18167586\n",
      "  1.3767392   1.02489145]\n",
      "Finish 4.\n"
     ]
    },
    {
     "name": "stderr",
     "output_type": "stream",
     "text": [
      "/home/yuchen/workspace/Brain_Network/Code/jitter.py:4090: UserWarning: Reach max itrs 60. Last err:2.191e-02\n",
      "  warnings.warn(f'Reach max itrs {max_num_itrs}. Last err:{beta_err:.3e}')\n"
     ]
    },
    {
     "data": {
      "image/png": "[encoded data removed]",
      "text/plain": [
       "<Figure size 1260x144 with 5 Axes>"
      ]
     },
     "metadata": {
      "needs_background": "light"
     },
     "output_type": "display_data"
    },
    {
     "name": "stdout",
     "output_type": "stream",
     "text": [
      "util.save_variable, save variable to:  /home/yuchen/workspace/Brain_Network/Output/jitter/coupling_filter/CD_DE_condition21_joint_fit_fixed_portion_kernel80ms_11272021_1356/group_model_pars_joint_itr0_20211127_192846.pkl\n"
     ]
    },
    {
     "name": "stderr",
     "output_type": "stream",
     "text": [
      "[Parallel(n_jobs=12)]: Using backend LokyBackend with 12 concurrent workers.\n",
      "[Parallel(n_jobs=12)]: Done  26 tasks      | elapsed:   39.6s\n",
      "[Parallel(n_jobs=12)]: Done 176 tasks      | elapsed:  3.3min\n",
      "[Parallel(n_jobs=12)]: Done 315 out of 315 | elapsed:  5.8min finished\n",
      "[Parallel(n_jobs=12)]: Using backend LokyBackend with 12 concurrent workers.\n",
      "[Parallel(n_jobs=12)]: Done  26 tasks      | elapsed:   40.5s\n",
      "[Parallel(n_jobs=12)]: Done 176 tasks      | elapsed:  3.3min\n",
      "[Parallel(n_jobs=12)]: Done 315 out of 315 | elapsed:  5.8min finished\n"
     ]
    },
    {
     "name": "stdout",
     "output_type": "stream",
     "text": [
      "filter_membership.shape (672, 315)\n",
      "membership cnt [(0, 44957), (1, 44504), (2, 51966), (3, 35586), (4, 34667)]\n",
      "filter_membership.shape (648, 315)\n",
      "membership cnt [(0, 38743), (1, 42099), (2, 53018), (3, 35419), (4, 34841)]\n",
      "util.save_variable, save variable to:  /home/yuchen/workspace/Brain_Network/Output/jitter/coupling_filter/CD_DE_condition21_joint_fit_fixed_portion_kernel80ms_11272021_1356/filter_membership_CD_itr1_20211127_194021.pkl\n",
      "util.save_variable, save variable to:  /home/yuchen/workspace/Brain_Network/Output/jitter/coupling_filter/CD_DE_condition21_joint_fit_fixed_portion_kernel80ms_11272021_1356/filter_membership_DE_itr1_20211127_194021.pkl\n",
      "util.save_variable, save variable to:  /home/yuchen/workspace/Brain_Network/Output/jitter/coupling_filter/CD_DE_condition21_joint_fit_fixed_portion_kernel80ms_11272021_1356/group_portion_itr1_20211127_194021.pkl\n",
      "filter_membership.shape (1320, 315)\n",
      "#all trials:86603\t#batch trials:86603\n",
      "X.shape (1546860, 3), basis_integral.shape (3, 1),beta.shape(3, 1)\n",
      " 30%|██████████████████▉                                            | 18/60 [00:02<00:06,  6.69it/s]\n",
      "num itr 18 [[-2220343.45947822]] 5.047338573010984e-06\n",
      "beta [11.16332394 -0.1335593   3.46754952]\n",
      "gradient [-0.03426317 -0.3208112  -0.04641524]\n",
      "Finish 1.\n",
      "#all trials:104984\t#batch trials:104984\n",
      "X.shape (1826801, 3), basis_integral.shape (3, 1),beta.shape(3, 1)\n",
      " 28%|█████████████████▊                                             | 17/60 [00:03<00:07,  5.63it/s]\n",
      "num itr 17 [[-2569628.6825964]] 6.042014615681435e-06\n",
      "beta [10.874964    0.26946471 -2.9126846 ]\n",
      "gradient [-0.31565043  3.9268474  -0.50777497]\n",
      "Finish 2.\n",
      "#all trials:71005\t#batch trials:71005\n",
      "X.shape (1589652, 11), basis_integral.shape (11, 1),beta.shape(11, 1)\n",
      "100%|███████████████████████████████████████████████████████████████| 60/60 [00:13<00:00,  4.56it/s]\n",
      "num itr 59 [[-2644539.45437939]] 0.019676142571650016\n",
      "beta [ 1.36680457e+01  2.01334978e-02  1.33788960e+00 -1.47055493e+01  3.55421189e+01 -1.94019578e+01\n",
      "  1.45271782e+01 -6.72070450e+00 -1.63058702e+00  1.52809705e+00 -2.59373757e+00]\n",
      "gradient [-3.77301749 63.55735472  0.56481966 -1.18213574 -4.62954757 -2.53169962 -2.41067512 -0.31986422 -0.08926209\n",
      " -0.39780296 -0.35084257]\n",
      "Finish 3.\n"
     ]
    },
    {
     "name": "stderr",
     "output_type": "stream",
     "text": [
      "/home/yuchen/workspace/Brain_Network/Code/jitter.py:4090: UserWarning: Reach max itrs 60. Last err:1.968e-02\n",
      "  warnings.warn(f'Reach max itrs {max_num_itrs}. Last err:{beta_err:.3e}')\n"
     ]
    },
    {
     "name": "stdout",
     "output_type": "stream",
     "text": [
      "#all trials:69508\t#batch trials:69508\n",
      "X.shape (1592056, 11), basis_integral.shape (11, 1),beta.shape(11, 1)\n",
      "100%|███████████████████████████████████████████████████████████████| 60/60 [00:13<00:00,  4.50it/s]\n",
      "num itr 59 [[-2689483.05127604]] 0.023374865967972235\n",
      "beta [ 1.38532922e+01  1.86577793e-02  1.45401318e+01  2.57553448e+01 -2.22251492e+01  2.23498052e+01\n",
      " -9.84681973e+00  4.33457708e-01 -7.81230175e-01 -5.04658750e-01 -3.28101568e+00]\n",
      "gradient [-2.7402707  22.82172663 -3.06728613 -3.33982744 -1.32711807 -3.3436481  -0.39762391  1.31092907 -0.32029093\n",
      " -0.07444547  0.42522193]\n",
      "Finish 4.\n"
     ]
    },
    {
     "name": "stderr",
     "output_type": "stream",
     "text": [
      "/home/yuchen/workspace/Brain_Network/Code/jitter.py:4090: UserWarning: Reach max itrs 60. Last err:2.337e-02\n",
      "  warnings.warn(f'Reach max itrs {max_num_itrs}. Last err:{beta_err:.3e}')\n"
     ]
    },
    {
     "data": {
      "image/png": "[encoded data removed]",
      "text/plain": [
       "<Figure size 1260x144 with 5 Axes>"
      ]
     },
     "metadata": {
      "needs_background": "light"
     },
     "output_type": "display_data"
    },
    {
     "name": "stdout",
     "output_type": "stream",
     "text": [
      "util.save_variable, save variable to:  /home/yuchen/workspace/Brain_Network/Output/jitter/coupling_filter/CD_DE_condition21_joint_fit_fixed_portion_kernel80ms_11272021_1356/group_model_pars_joint_itr1_20211127_195912.pkl\n"
     ]
    },
    {
     "name": "stderr",
     "output_type": "stream",
     "text": [
      "[Parallel(n_jobs=12)]: Using backend LokyBackend with 12 concurrent workers.\n",
      "[Parallel(n_jobs=12)]: Done  26 tasks      | elapsed:   39.5s\n",
      "[Parallel(n_jobs=12)]: Done 176 tasks      | elapsed:  3.3min\n",
      "[Parallel(n_jobs=12)]: Done 315 out of 315 | elapsed:  5.8min finished\n",
      "[Parallel(n_jobs=12)]: Using backend LokyBackend with 12 concurrent workers.\n",
      "[Parallel(n_jobs=12)]: Done  26 tasks      | elapsed:   39.6s\n",
      "[Parallel(n_jobs=12)]: Done 176 tasks      | elapsed:  3.3min\n",
      "[Parallel(n_jobs=12)]: Done 315 out of 315 | elapsed:  5.8min finished\n"
     ]
    },
    {
     "name": "stdout",
     "output_type": "stream",
     "text": [
      "filter_membership.shape (672, 315)\n",
      "membership cnt [(0, 46242), (1, 42550), (2, 54623), (3, 34483), (4, 33782)]\n",
      "filter_membership.shape (648, 315)\n",
      "membership cnt [(0, 40045), (1, 40609), (2, 54818), (3, 34414), (4, 34234)]\n",
      "util.save_variable, save variable to:  /home/yuchen/workspace/Brain_Network/Output/jitter/coupling_filter/CD_DE_condition21_joint_fit_fixed_portion_kernel80ms_11272021_1356/filter_membership_CD_itr2_20211127_201047.pkl\n",
      "util.save_variable, save variable to:  /home/yuchen/workspace/Brain_Network/Output/jitter/coupling_filter/CD_DE_condition21_joint_fit_fixed_portion_kernel80ms_11272021_1356/filter_membership_DE_itr2_20211127_201047.pkl\n",
      "util.save_variable, save variable to:  /home/yuchen/workspace/Brain_Network/Output/jitter/coupling_filter/CD_DE_condition21_joint_fit_fixed_portion_kernel80ms_11272021_1356/group_portion_itr2_20211127_201047.pkl\n",
      "filter_membership.shape (1320, 315)\n",
      "#all trials:83159\t#batch trials:83159\n",
      "X.shape (1501612, 3), basis_integral.shape (3, 1),beta.shape(3, 1)\n",
      " 28%|█████████████████▊                                             | 17/60 [00:02<00:06,  7.09it/s]\n",
      "num itr 17 [[-2171037.61764594]] 9.469592178429354e-06\n",
      "beta [11.28558342 -0.13318297  3.5075957 ]\n",
      "gradient [-0.08847412 -2.1906244  -0.06630026]\n",
      "Finish 1.\n",
      "#all trials:109441\t#batch trials:109441\n",
      "X.shape (1889692, 3), basis_integral.shape (3, 1),beta.shape(3, 1)\n",
      " 30%|██████████████████▉                                            | 18/60 [00:03<00:07,  5.71it/s]\n",
      "num itr 18 [[-2641735.26949856]] 6.547936737488769e-06\n",
      "beta [10.79117693  0.25963266 -2.86021685]\n",
      "gradient [-0.15424341  1.65743053 -0.08969881]\n",
      "Finish 2.\n",
      "#all trials:68897\t#batch trials:68897\n",
      "X.shape (1549343, 11), basis_integral.shape (11, 1),beta.shape(11, 1)\n",
      "100%|███████████████████████████████████████████████████████████████| 60/60 [00:13<00:00,  4.58it/s]\n",
      "num itr 59 [[-2586217.37679299]] 0.019092427444936142\n",
      "beta [ 1.36268308e+01  8.70523937e-03  9.65633075e-01 -1.39744057e+01  3.72656002e+01 -1.93858443e+01\n",
      "  1.45990267e+01 -6.64585328e+00 -1.25744838e+00  1.27913958e+00 -2.80463747e+00]\n",
      "gradient [ -2.1813257  110.28911098   0.51871052  -1.52707382  -4.78853647  -0.96806792  -0.86988215   0.99955926\n",
      "   2.0865666    1.04834192   1.00920647]\n",
      "Finish 3.\n"
     ]
    },
    {
     "name": "stderr",
     "output_type": "stream",
     "text": [
      "/home/yuchen/workspace/Brain_Network/Code/jitter.py:4090: UserWarning: Reach max itrs 60. Last err:1.909e-02\n",
      "  warnings.warn(f'Reach max itrs {max_num_itrs}. Last err:{beta_err:.3e}')\n"
     ]
    },
    {
     "name": "stdout",
     "output_type": "stream",
     "text": [
      "#all trials:68016\t#batch trials:68016\n",
      "X.shape (1565209, 11), basis_integral.shape (11, 1),beta.shape(11, 1)\n",
      "100%|███████████████████████████████████████████████████████████████| 60/60 [00:12<00:00,  4.64it/s]\n",
      "num itr 59 [[-2653011.18187946]] 0.024821497977901022\n",
      "beta [ 1.38390548e+01  1.03668250e-02  1.49326949e+01  2.71642921e+01 -2.25590439e+01  2.30879584e+01\n",
      " -1.00183099e+01  4.80432822e-01 -7.21053178e-01 -2.89002744e-01 -3.31162324e+00]\n",
      "gradient [-1.89288851 75.44454961 -3.09772899 -3.3271087  -1.03266286 -3.1367526   0.35959795  2.09367902  0.95048806\n",
      "  0.96640022  1.00678098]\n",
      "Finish 4.\n"
     ]
    },
    {
     "name": "stderr",
     "output_type": "stream",
     "text": [
      "/home/yuchen/workspace/Brain_Network/Code/jitter.py:4090: UserWarning: Reach max itrs 60. Last err:2.482e-02\n",
      "  warnings.warn(f'Reach max itrs {max_num_itrs}. Last err:{beta_err:.3e}')\n"
     ]
    },
    {
     "data": {
      "image/png": "[encoded data removed]",
      "text/plain": [
       "<Figure size 1260x144 with 5 Axes>"
      ]
     },
     "metadata": {
      "needs_background": "light"
     },
     "output_type": "display_data"
    },
    {
     "name": "stdout",
     "output_type": "stream",
     "text": [
      "util.save_variable, save variable to:  /home/yuchen/workspace/Brain_Network/Output/jitter/coupling_filter/CD_DE_condition21_joint_fit_fixed_portion_kernel80ms_11272021_1356/group_model_pars_joint_itr2_20211127_202923.pkl\n"
     ]
    },
    {
     "name": "stderr",
     "output_type": "stream",
     "text": [
      "[Parallel(n_jobs=12)]: Using backend LokyBackend with 12 concurrent workers.\n",
      "[Parallel(n_jobs=12)]: Done  26 tasks      | elapsed:   39.2s\n",
      "[Parallel(n_jobs=12)]: Done 176 tasks      | elapsed:  3.2min\n",
      "[Parallel(n_jobs=12)]: Done 315 out of 315 | elapsed:  5.8min finished\n",
      "[Parallel(n_jobs=12)]: Using backend LokyBackend with 12 concurrent workers.\n",
      "[Parallel(n_jobs=12)]: Done  26 tasks      | elapsed:   39.9s\n",
      "[Parallel(n_jobs=12)]: Done 176 tasks      | elapsed:  3.3min\n",
      "[Parallel(n_jobs=12)]: Done 315 out of 315 | elapsed:  5.8min finished\n"
     ]
    },
    {
     "name": "stdout",
     "output_type": "stream",
     "text": [
      "filter_membership.shape (672, 315)\n",
      "membership cnt [(0, 46753), (1, 42711), (2, 55105), (3, 33765), (4, 33346)]\n",
      "filter_membership.shape (648, 315)\n",
      "membership cnt [(0, 40483), (1, 40864), (2, 55451), (3, 33619), (4, 33703)]\n",
      "util.save_variable, save variable to:  /home/yuchen/workspace/Brain_Network/Output/jitter/coupling_filter/CD_DE_condition21_joint_fit_fixed_portion_kernel80ms_11272021_1356/filter_membership_CD_itr3_20211127_204055.pkl\n",
      "util.save_variable, save variable to:  /home/yuchen/workspace/Brain_Network/Output/jitter/coupling_filter/CD_DE_condition21_joint_fit_fixed_portion_kernel80ms_11272021_1356/filter_membership_DE_itr3_20211127_204055.pkl\n",
      "util.save_variable, save variable to:  /home/yuchen/workspace/Brain_Network/Output/jitter/coupling_filter/CD_DE_condition21_joint_fit_fixed_portion_kernel80ms_11272021_1356/group_portion_itr3_20211127_204055.pkl\n",
      "filter_membership.shape (1320, 315)\n",
      "#all trials:83575\t#batch trials:83575\n",
      "X.shape (1494068, 3), basis_integral.shape (3, 1),beta.shape(3, 1)\n",
      " 28%|█████████████████▊                                             | 17/60 [00:02<00:06,  6.77it/s]\n",
      "num itr 17 [[-2144875.3309995]] 9.742078933616671e-06\n",
      "beta [11.17293984 -0.13727157  3.52394721]\n",
      "gradient [-0.06785693 -0.63084126 -0.08462991]\n",
      "Finish 1.\n",
      "#all trials:110556\t#batch trials:110556\n",
      "X.shape (1922945, 3), basis_integral.shape (3, 1),beta.shape(3, 1)\n",
      " 40%|█████████████████████████▏                                     | 24/60 [00:04<00:06,  5.69it/s]\n",
      "num itr 24 [[-2701992.02380507]] 6.377809676161306e-06\n",
      "beta [10.8702772   0.26256943 -2.91096961]\n",
      "gradient [  -8.54405478 -259.43772478  -55.29680348]\n",
      "Finish 2.\n",
      "#all trials:67384\t#batch trials:67384\n",
      "X.shape (1521947, 11), basis_integral.shape (11, 1),beta.shape(11, 1)\n",
      "100%|███████████████████████████████████████████████████████████████| 60/60 [00:12<00:00,  4.73it/s]\n",
      "num itr 59 [[-2548552.51075799]] 0.022650702576957723\n",
      "beta [ 1.36054636e+01  6.78856832e-04  9.27699153e-01 -1.42487346e+01  3.86204232e+01 -1.91007732e+01\n",
      "  1.46796538e+01 -6.61242647e+00 -7.49207847e-01  7.86074245e-01 -2.81903795e+00]\n",
      "gradient [ -1.9628706  118.81382251   0.59756861  -1.37818152  -4.91716892  -1.23453566  -0.91461035   1.04750651\n",
      "   2.14260545   1.22546822   1.09855111]\n",
      "Finish 3.\n"
     ]
    },
    {
     "name": "stderr",
     "output_type": "stream",
     "text": [
      "/home/yuchen/workspace/Brain_Network/Code/jitter.py:4090: UserWarning: Reach max itrs 60. Last err:2.265e-02\n",
      "  warnings.warn(f'Reach max itrs {max_num_itrs}. Last err:{beta_err:.3e}')\n"
     ]
    },
    {
     "name": "stdout",
     "output_type": "stream",
     "text": [
      "#all trials:67049\t#batch trials:67049\n",
      "X.shape (1544859, 11), basis_integral.shape (11, 1),beta.shape(11, 1)\n",
      "100%|███████████████████████████████████████████████████████████████| 60/60 [00:12<00:00,  4.71it/s]\n",
      "num itr 59 [[-2621141.4514794]] 0.02546985824975908\n",
      "beta [ 1.38250854e+01  7.04201307e-03  1.51275520e+01  2.77338891e+01 -2.27316848e+01  2.34185956e+01\n",
      " -1.01210551e+01  5.46537770e-01 -7.37336281e-01 -1.43096239e-01 -3.34150909e+00]\n",
      "gradient [-1.82465581 75.92394579 -3.0860706  -3.3371349  -1.05187115 -3.1300675   0.37216258  2.09269564  0.9765852\n",
      "  0.9708824   1.00634404]\n",
      "Finish 4.\n"
     ]
    },
    {
     "name": "stderr",
     "output_type": "stream",
     "text": [
      "/home/yuchen/workspace/Brain_Network/Code/jitter.py:4090: UserWarning: Reach max itrs 60. Last err:2.547e-02\n",
      "  warnings.warn(f'Reach max itrs {max_num_itrs}. Last err:{beta_err:.3e}')\n"
     ]
    },
    {
     "data": {
      "image/png": "[encoded data removed]",
      "text/plain": [
       "<Figure size 1260x144 with 5 Axes>"
      ]
     },
     "metadata": {
      "needs_background": "light"
     },
     "output_type": "display_data"
    },
    {
     "name": "stdout",
     "output_type": "stream",
     "text": [
      "util.save_variable, save variable to:  /home/yuchen/workspace/Brain_Network/Output/jitter/coupling_filter/CD_DE_condition21_joint_fit_fixed_portion_kernel80ms_11272021_1356/group_model_pars_joint_itr3_20211127_205929.pkl\n"
     ]
    },
    {
     "name": "stderr",
     "output_type": "stream",
     "text": [
      "[Parallel(n_jobs=12)]: Using backend LokyBackend with 12 concurrent workers.\n",
      "[Parallel(n_jobs=12)]: Done  26 tasks      | elapsed:   39.5s\n",
      "[Parallel(n_jobs=12)]: Done 176 tasks      | elapsed:  3.3min\n",
      "[Parallel(n_jobs=12)]: Done 315 out of 315 | elapsed:  5.8min finished\n",
      "[Parallel(n_jobs=12)]: Using backend LokyBackend with 12 concurrent workers.\n",
      "[Parallel(n_jobs=12)]: Done  26 tasks      | elapsed:   40.4s\n",
      "[Parallel(n_jobs=12)]: Done 176 tasks      | elapsed:  3.3min\n",
      "[Parallel(n_jobs=12)]: Done 315 out of 315 | elapsed:  5.8min finished\n"
     ]
    },
    {
     "name": "stdout",
     "output_type": "stream",
     "text": [
      "filter_membership.shape (672, 315)\n",
      "membership cnt [(0, 47211), (1, 42592), (2, 55797), (3, 33057), (4, 33023)]\n",
      "filter_membership.shape (648, 315)\n",
      "membership cnt [(0, 40797), (1, 40668), (2, 56151), (3, 33015), (4, 33489)]\n",
      "util.save_variable, save variable to:  /home/yuchen/workspace/Brain_Network/Output/jitter/coupling_filter/CD_DE_condition21_joint_fit_fixed_portion_kernel80ms_11272021_1356/filter_membership_CD_itr4_20211127_211102.pkl\n",
      "util.save_variable, save variable to:  /home/yuchen/workspace/Brain_Network/Output/jitter/coupling_filter/CD_DE_condition21_joint_fit_fixed_portion_kernel80ms_11272021_1356/filter_membership_DE_itr4_20211127_211102.pkl\n",
      "util.save_variable, save variable to:  /home/yuchen/workspace/Brain_Network/Output/jitter/coupling_filter/CD_DE_condition21_joint_fit_fixed_portion_kernel80ms_11272021_1356/group_portion_itr4_20211127_211102.pkl\n",
      "filter_membership.shape (1320, 315)\n",
      "#all trials:83260\t#batch trials:83260\n",
      "X.shape (1487579, 3), basis_integral.shape (3, 1),beta.shape(3, 1)\n",
      " 30%|██████████████████▉                                            | 18/60 [00:02<00:05,  7.18it/s]\n",
      "num itr 18 [[-2134648.87937847]] 5.51747070992592e-06\n",
      "beta [11.16650222 -0.14178836  3.56435292]\n",
      "gradient [-0.07387235 -4.60682736 -0.08663496]\n",
      "Finish 1.\n",
      "#all trials:111948\t#batch trials:111948\n",
      "X.shape (1945627, 3), basis_integral.shape (3, 1),beta.shape(3, 1)\n",
      " 28%|█████████████████▊                                             | 17/60 [00:03<00:07,  5.50it/s]\n",
      "num itr 17 [[-2732635.02618618]] 9.642938427090186e-06\n",
      "beta [10.86166973  0.26555099 -2.93733859]\n",
      "gradient [ -2.54307714 -81.32115797 -16.43257914]\n",
      "Finish 2.\n",
      "#all trials:66072\t#batch trials:66072\n",
      "X.shape (1498305, 11), basis_integral.shape (11, 1),beta.shape(11, 1)\n",
      "100%|███████████████████████████████████████████████████████████████| 60/60 [00:12<00:00,  4.87it/s]\n",
      "num itr 59 [[-2515971.53627692]] 0.020270127697283147\n",
      "beta [ 1.36748209e+01  2.65078945e-03  1.06682718e+00 -1.45178423e+01  3.97914042e+01 -1.93699560e+01\n",
      "  1.47402832e+01 -6.89063148e+00 -7.78167690e-01  4.48640733e-01 -2.82556801e+00]\n",
      "gradient [ -1.79397664 111.85284701   0.49623538  -1.51925673  -5.00621446  -1.18213068  -0.73826952   1.35934576\n",
      "   2.46244156   1.26856172   1.00972105]\n",
      "Finish 3.\n"
     ]
    },
    {
     "name": "stderr",
     "output_type": "stream",
     "text": [
      "/home/yuchen/workspace/Brain_Network/Code/jitter.py:4090: UserWarning: Reach max itrs 60. Last err:2.027e-02\n",
      "  warnings.warn(f'Reach max itrs {max_num_itrs}. Last err:{beta_err:.3e}')\n"
     ]
    },
    {
     "name": "stdout",
     "output_type": "stream",
     "text": [
      "#all trials:66512\t#batch trials:66512\n",
      "X.shape (1533792, 11), basis_integral.shape (11, 1),beta.shape(11, 1)\n",
      "100%|███████████████████████████████████████████████████████████████| 60/60 [00:12<00:00,  4.74it/s]\n",
      "num itr 59 [[-2603943.94587859]] 0.025690999110982504\n",
      "beta [ 1.38250765e+01  5.27411572e-03  1.51569659e+01  2.80400088e+01 -2.28866774e+01  2.35178786e+01\n",
      " -1.01400858e+01  5.74224028e-01 -7.83743406e-01  7.55459387e-03 -3.37490823e+00]\n",
      "gradient [-1.8172622  77.06091537 -3.07433134 -3.33470491 -1.03977929 -3.09836849  0.37494093  2.08990362  0.9821113\n",
      "  0.95268077  0.99499896]\n",
      "Finish 4.\n"
     ]
    },
    {
     "name": "stderr",
     "output_type": "stream",
     "text": [
      "/home/yuchen/workspace/Brain_Network/Code/jitter.py:4090: UserWarning: Reach max itrs 60. Last err:2.569e-02\n",
      "  warnings.warn(f'Reach max itrs {max_num_itrs}. Last err:{beta_err:.3e}')\n"
     ]
    },
    {
     "data": {
      "image/png": "[encoded data removed]",
      "text/plain": [
       "<Figure size 1260x144 with 5 Axes>"
      ]
     },
     "metadata": {
      "needs_background": "light"
     },
     "output_type": "display_data"
    },
    {
     "name": "stdout",
     "output_type": "stream",
     "text": [
      "util.save_variable, save variable to:  /home/yuchen/workspace/Brain_Network/Output/jitter/coupling_filter/CD_DE_condition21_joint_fit_fixed_portion_kernel80ms_11272021_1356/group_model_pars_joint_itr4_20211127_212928.pkl\n"
     ]
    },
    {
     "name": "stderr",
     "output_type": "stream",
     "text": [
      "[Parallel(n_jobs=12)]: Using backend LokyBackend with 12 concurrent workers.\n",
      "[Parallel(n_jobs=12)]: Done  26 tasks      | elapsed:   39.1s\n",
      "[Parallel(n_jobs=12)]: Done 176 tasks      | elapsed:  3.3min\n",
      "[Parallel(n_jobs=12)]: Done 315 out of 315 | elapsed:  5.8min finished\n",
      "[Parallel(n_jobs=12)]: Using backend LokyBackend with 12 concurrent workers.\n",
      "[Parallel(n_jobs=12)]: Done  26 tasks      | elapsed:   40.2s\n",
      "[Parallel(n_jobs=12)]: Done 176 tasks      | elapsed:  3.3min\n",
      "[Parallel(n_jobs=12)]: Done 315 out of 315 | elapsed:  5.8min finished\n"
     ]
    },
    {
     "name": "stdout",
     "output_type": "stream",
     "text": [
      "filter_membership.shape (672, 315)\n",
      "membership cnt [(0, 47485), (1, 42855), (2, 55765), (3, 32785), (4, 32790)]\n",
      "filter_membership.shape (648, 315)\n",
      "membership cnt [(0, 41169), (1, 40794), (2, 56105), (3, 32769), (4, 33283)]\n",
      "util.save_variable, save variable to:  /home/yuchen/workspace/Brain_Network/Output/jitter/coupling_filter/CD_DE_condition21_joint_fit_fixed_portion_kernel80ms_11272021_1356/filter_membership_CD_itr5_20211127_214103.pkl\n",
      "util.save_variable, save variable to:  /home/yuchen/workspace/Brain_Network/Output/jitter/coupling_filter/CD_DE_condition21_joint_fit_fixed_portion_kernel80ms_11272021_1356/filter_membership_DE_itr5_20211127_214103.pkl\n",
      "util.save_variable, save variable to:  /home/yuchen/workspace/Brain_Network/Output/jitter/coupling_filter/CD_DE_condition21_joint_fit_fixed_portion_kernel80ms_11272021_1356/group_portion_itr5_20211127_214103.pkl\n",
      "filter_membership.shape (1320, 315)\n",
      "#all trials:83649\t#batch trials:83649\n",
      "X.shape (1493558, 3), basis_integral.shape (3, 1),beta.shape(3, 1)\n",
      " 28%|█████████████████▊                                             | 17/60 [00:02<00:06,  7.11it/s]\n",
      "num itr 17 [[-2142281.69745229]] 8.540372654186612e-06\n",
      "beta [11.15920784 -0.14189751  3.57270532]\n",
      "gradient [-0.06158926  0.09373685 -0.07143919]\n",
      "Finish 1.\n",
      "#all trials:111870\t#batch trials:111870\n",
      "X.shape (1947839, 3), basis_integral.shape (3, 1),beta.shape(3, 1)\n",
      " 33%|█████████████████████                                          | 20/60 [00:03<00:07,  5.58it/s]\n",
      "num itr 20 [[-2738502.50996101]] 6.431962377873024e-06\n",
      "beta [10.88169263  0.26317523 -2.90073568]\n",
      "gradient [  -2.69018497 -140.60753757  -22.7982422 ]\n",
      "Finish 2.\n",
      "#all trials:65554\t#batch trials:65554\n",
      "X.shape (1486498, 11), basis_integral.shape (11, 1),beta.shape(11, 1)\n",
      "100%|███████████████████████████████████████████████████████████████| 60/60 [00:12<00:00,  4.89it/s]\n",
      "num itr 59 [[-2496407.56788189]] 0.02244570043215228\n",
      "beta [ 1.36795226e+01  2.70688241e-03  1.32465883e+00 -1.44294241e+01  3.98859911e+01 -1.90818066e+01\n",
      "  1.44104365e+01 -6.86945650e+00 -7.77241624e-01  2.73767095e-01 -2.85368857e+00]\n",
      "gradient [ -1.97748882 103.20566294   0.3484187   -1.59968925  -5.06091644  -1.32629516  -0.6989659    1.23913976\n",
      "   2.25521432   1.20341217   1.06531402]\n",
      "Finish 3.\n"
     ]
    },
    {
     "name": "stderr",
     "output_type": "stream",
     "text": [
      "/home/yuchen/workspace/Brain_Network/Code/jitter.py:4090: UserWarning: Reach max itrs 60. Last err:2.245e-02\n",
      "  warnings.warn(f'Reach max itrs {max_num_itrs}. Last err:{beta_err:.3e}')\n"
     ]
    },
    {
     "name": "stdout",
     "output_type": "stream",
     "text": [
      "#all trials:66073\t#batch trials:66073\n",
      "X.shape (1524658, 11), basis_integral.shape (11, 1),beta.shape(11, 1)\n",
      "100%|███████████████████████████████████████████████████████████████| 60/60 [00:13<00:00,  4.56it/s]\n",
      "num itr 59 [[-2589673.80104832]] 0.025960640032322804\n",
      "beta [ 1.38347396e+01  6.80950308e-03  1.51259378e+01  2.83374828e+01 -2.31845854e+01  2.36883672e+01\n",
      " -1.02330016e+01  6.20571191e-01 -8.71445191e-01  1.31284524e-01 -3.42718267e+00]\n",
      "gradient [-1.74024617 75.23021537 -3.06238952 -3.32449958 -1.01076268 -3.07710894  0.38603497  2.09446808  1.00683444\n",
      "  0.9554495   0.99408597]\n",
      "Finish 4.\n"
     ]
    },
    {
     "name": "stderr",
     "output_type": "stream",
     "text": [
      "/home/yuchen/workspace/Brain_Network/Code/jitter.py:4090: UserWarning: Reach max itrs 60. Last err:2.596e-02\n",
      "  warnings.warn(f'Reach max itrs {max_num_itrs}. Last err:{beta_err:.3e}')\n"
     ]
    },
    {
     "data": {
      "image/png": "[encoded data removed]",
      "text/plain": [
       "<Figure size 1260x144 with 5 Axes>"
      ]
     },
     "metadata": {
      "needs_background": "light"
     },
     "output_type": "display_data"
    },
    {
     "name": "stdout",
     "output_type": "stream",
     "text": [
      "util.save_variable, save variable to:  /home/yuchen/workspace/Brain_Network/Output/jitter/coupling_filter/CD_DE_condition21_joint_fit_fixed_portion_kernel80ms_11272021_1356/group_model_pars_joint_itr5_20211127_215927.pkl\n"
     ]
    },
    {
     "name": "stderr",
     "output_type": "stream",
     "text": [
      "[Parallel(n_jobs=12)]: Using backend LokyBackend with 12 concurrent workers.\n",
      "[Parallel(n_jobs=12)]: Done  26 tasks      | elapsed:   39.5s\n",
      "[Parallel(n_jobs=12)]: Done 176 tasks      | elapsed:  3.3min\n",
      "[Parallel(n_jobs=12)]: Done 315 out of 315 | elapsed:  5.8min finished\n",
      "[Parallel(n_jobs=12)]: Using backend LokyBackend with 12 concurrent workers.\n",
      "[Parallel(n_jobs=12)]: Done  26 tasks      | elapsed:   40.0s\n",
      "[Parallel(n_jobs=12)]: Done 176 tasks      | elapsed:  3.3min\n",
      "[Parallel(n_jobs=12)]: Done 315 out of 315 | elapsed:  5.8min finished\n"
     ]
    },
    {
     "name": "stdout",
     "output_type": "stream",
     "text": [
      "filter_membership.shape (672, 315)\n",
      "membership cnt [(0, 47485), (1, 43023), (2, 55771), (3, 32709), (4, 32692)]\n",
      "filter_membership.shape (648, 315)\n",
      "membership cnt [(0, 41196), (1, 40861), (2, 56224), (3, 32664), (4, 33175)]\n",
      "util.save_variable, save variable to:  /home/yuchen/workspace/Brain_Network/Output/jitter/coupling_filter/CD_DE_condition21_joint_fit_fixed_portion_kernel80ms_11272021_1356/filter_membership_CD_itr6_20211127_221101.pkl\n",
      "util.save_variable, save variable to:  /home/yuchen/workspace/Brain_Network/Output/jitter/coupling_filter/CD_DE_condition21_joint_fit_fixed_portion_kernel80ms_11272021_1356/filter_membership_DE_itr6_20211127_221101.pkl\n",
      "util.save_variable, save variable to:  /home/yuchen/workspace/Brain_Network/Output/jitter/coupling_filter/CD_DE_condition21_joint_fit_fixed_portion_kernel80ms_11272021_1356/group_portion_itr6_20211127_221101.pkl\n",
      "filter_membership.shape (1320, 315)\n",
      "#all trials:83884\t#batch trials:83884\n",
      "X.shape (1497735, 3), basis_integral.shape (3, 1),beta.shape(3, 1)\n",
      " 28%|█████████████████▊                                             | 17/60 [00:02<00:06,  7.14it/s]\n",
      "num itr 17 [[-2148156.59754363]] 5.131230569305201e-06\n",
      "beta [11.15907468 -0.1420137   3.56200886]\n",
      "gradient [  -3.75464794 -234.81002543    2.12727125]\n",
      "Finish 1.\n",
      "#all trials:111995\t#batch trials:111995\n",
      "X.shape (1950492, 3), basis_integral.shape (3, 1),beta.shape(3, 1)\n",
      " 28%|█████████████████▊                                             | 17/60 [00:03<00:07,  5.55it/s]\n",
      "num itr 17 [[-2742971.09464613]] 8.078314513937368e-06\n",
      "beta [10.88440455  0.2612464  -2.86609189]\n",
      "gradient [-0.01269563  8.81614089  1.29974326]\n",
      "Finish 2.\n",
      "#all trials:65373\t#batch trials:65373\n",
      "X.shape (1484209, 11), basis_integral.shape (11, 1),beta.shape(11, 1)\n",
      "100%|███████████████████████████████████████████████████████████████| 60/60 [00:12<00:00,  4.72it/s]\n",
      "num itr 59 [[-2494447.70715289]] 0.020924087604234268\n",
      "beta [ 1.37046046e+01  2.12154845e-03  1.38660266e+00 -1.44380480e+01  4.00955515e+01 -1.89387289e+01\n",
      "  1.42063959e+01 -6.92161696e+00 -7.36597109e-01 -8.56737869e-03 -2.74946026e+00]\n",
      "gradient [ -1.75571153 116.0603407    0.4744998   -1.54583043  -5.08458459  -1.22623291  -0.55128208   1.49583178\n",
      "   2.58264071   1.42169245   1.08328174]\n",
      "Finish 3.\n"
     ]
    },
    {
     "name": "stderr",
     "output_type": "stream",
     "text": [
      "/home/yuchen/workspace/Brain_Network/Code/jitter.py:4090: UserWarning: Reach max itrs 60. Last err:2.092e-02\n",
      "  warnings.warn(f'Reach max itrs {max_num_itrs}. Last err:{beta_err:.3e}')\n"
     ]
    },
    {
     "name": "stdout",
     "output_type": "stream",
     "text": [
      "#all trials:65867\t#batch trials:65867\n",
      "X.shape (1520397, 11), basis_integral.shape (11, 1),beta.shape(11, 1)\n",
      "100%|███████████████████████████████████████████████████████████████| 60/60 [00:12<00:00,  4.75it/s]\n",
      "num itr 59 [[-2582796.17457947]] 0.025782494589261684\n",
      "beta [ 1.38382417e+01  5.22586349e-03  1.50224669e+01  2.84178600e+01 -2.32871230e+01  2.36213190e+01\n",
      " -1.01878673e+01  6.28324137e-01 -8.91183766e-01  2.49358879e-01 -3.45048414e+00]\n",
      "gradient [-1.78562617 77.14227244 -3.04490537 -3.30643418 -0.97785155 -3.02919052  0.38211947  2.0836584   0.98570003\n",
      "  0.92367665  0.98067248]\n",
      "Finish 4.\n"
     ]
    },
    {
     "name": "stderr",
     "output_type": "stream",
     "text": [
      "/home/yuchen/workspace/Brain_Network/Code/jitter.py:4090: UserWarning: Reach max itrs 60. Last err:2.578e-02\n",
      "  warnings.warn(f'Reach max itrs {max_num_itrs}. Last err:{beta_err:.3e}')\n"
     ]
    },
    {
     "data": {
      "image/png": "[encoded data removed]",
      "text/plain": [
       "<Figure size 1260x144 with 5 Axes>"
      ]
     },
     "metadata": {
      "needs_background": "light"
     },
     "output_type": "display_data"
    },
    {
     "name": "stdout",
     "output_type": "stream",
     "text": [
      "util.save_variable, save variable to:  /home/yuchen/workspace/Brain_Network/Output/jitter/coupling_filter/CD_DE_condition21_joint_fit_fixed_portion_kernel80ms_11272021_1356/group_model_pars_joint_itr6_20211127_222938.pkl\n"
     ]
    },
    {
     "name": "stderr",
     "output_type": "stream",
     "text": [
      "[Parallel(n_jobs=12)]: Using backend LokyBackend with 12 concurrent workers.\n",
      "[Parallel(n_jobs=12)]: Done  26 tasks      | elapsed:   39.8s\n",
      "[Parallel(n_jobs=12)]: Done 176 tasks      | elapsed:  3.3min\n",
      "[Parallel(n_jobs=12)]: Done 315 out of 315 | elapsed:  5.8min finished\n",
      "[Parallel(n_jobs=12)]: Using backend LokyBackend with 12 concurrent workers.\n",
      "[Parallel(n_jobs=12)]: Done  26 tasks      | elapsed:   40.7s\n",
      "[Parallel(n_jobs=12)]: Done 176 tasks      | elapsed:  3.3min\n",
      "[Parallel(n_jobs=12)]: Done 315 out of 315 | elapsed:  5.8min finished\n"
     ]
    },
    {
     "name": "stdout",
     "output_type": "stream",
     "text": [
      "filter_membership.shape (672, 315)\n",
      "membership cnt [(0, 47449), (1, 43020), (2, 55770), (3, 32635), (4, 32806)]\n",
      "filter_membership.shape (648, 315)\n",
      "membership cnt [(0, 41233), (1, 41080), (2, 55964), (3, 32601), (4, 33242)]\n",
      "util.save_variable, save variable to:  /home/yuchen/workspace/Brain_Network/Output/jitter/coupling_filter/CD_DE_condition21_joint_fit_fixed_portion_kernel80ms_11272021_1356/filter_membership_CD_itr7_20211127_224114.pkl\n",
      "util.save_variable, save variable to:  /home/yuchen/workspace/Brain_Network/Output/jitter/coupling_filter/CD_DE_condition21_joint_fit_fixed_portion_kernel80ms_11272021_1356/filter_membership_DE_itr7_20211127_224114.pkl\n",
      "util.save_variable, save variable to:  /home/yuchen/workspace/Brain_Network/Output/jitter/coupling_filter/CD_DE_condition21_joint_fit_fixed_portion_kernel80ms_11272021_1356/group_portion_itr7_20211127_224114.pkl\n",
      "filter_membership.shape (1320, 315)\n",
      "#all trials:84100\t#batch trials:84100\n",
      "X.shape (1501273, 3), basis_integral.shape (3, 1),beta.shape(3, 1)\n",
      " 28%|█████████████████▊                                             | 17/60 [00:02<00:06,  7.12it/s]\n",
      "num itr 17 [[-2152926.71942596]] 9.637869888390327e-06\n",
      "beta [11.15669978 -0.1420432   3.56828325]\n",
      "gradient [-0.16249652 -6.79577778 -0.02996759]\n",
      "Finish 1.\n",
      "#all trials:111734\t#batch trials:111734\n",
      "X.shape (1949623, 3), basis_integral.shape (3, 1),beta.shape(3, 1)\n",
      " 35%|██████████████████████                                         | 21/60 [00:03<00:07,  5.35it/s]\n",
      "num itr 21 [[-2745876.05174057]] 8.093297441891245e-06\n",
      "beta [10.90476013  0.26960034 -3.02304981]\n",
      "gradient [ -1.60461385 -33.67266966  -8.75722098]\n",
      "Finish 2.\n",
      "#all trials:65236\t#batch trials:65236\n",
      "X.shape (1482417, 11), basis_integral.shape (11, 1),beta.shape(11, 1)\n",
      "100%|███████████████████████████████████████████████████████████████| 60/60 [00:12<00:00,  4.74it/s]\n",
      "num itr 59 [[-2492949.12838141]] 0.020842285705896562\n",
      "beta [ 1.36949715e+01  1.42776536e-03  1.24227047e+00 -1.39410639e+01  3.99956215e+01 -1.85491218e+01\n",
      "  1.37945410e+01 -6.67166940e+00 -5.32758088e-01 -2.64538599e-01 -2.74156607e+00]\n",
      "gradient [ -1.87966419 107.96862819   0.45596354  -1.67430089  -5.20447171  -1.36023476  -0.55779616   1.15537463\n",
      "   2.21922571   1.41756929   1.17494096]\n",
      "Finish 3.\n"
     ]
    },
    {
     "name": "stderr",
     "output_type": "stream",
     "text": [
      "/home/yuchen/workspace/Brain_Network/Code/jitter.py:4090: UserWarning: Reach max itrs 60. Last err:2.084e-02\n",
      "  warnings.warn(f'Reach max itrs {max_num_itrs}. Last err:{beta_err:.3e}')\n"
     ]
    },
    {
     "name": "stdout",
     "output_type": "stream",
     "text": [
      "#all trials:66048\t#batch trials:66048\n",
      "X.shape (1521093, 11), basis_integral.shape (11, 1),beta.shape(11, 1)\n",
      "100%|███████████████████████████████████████████████████████████████| 60/60 [00:12<00:00,  4.70it/s]\n",
      "num itr 59 [[-2580524.73199742]] 0.025640986060752248\n",
      "beta [ 1.38073664e+01  5.01578092e-03  1.49145751e+01  2.84739309e+01 -2.33935917e+01  2.35762174e+01\n",
      " -1.01482947e+01  6.26724827e-01 -9.09676881e-01  3.35049539e-01 -3.47815372e+00]\n",
      "gradient [-1.80126093 78.26651238 -3.0509383  -3.3129225  -0.95375169 -3.01680613  0.38105283  2.09179507  0.98660154\n",
      "  0.91542401  0.98215495]\n",
      "Finish 4.\n"
     ]
    },
    {
     "name": "stderr",
     "output_type": "stream",
     "text": [
      "/home/yuchen/workspace/Brain_Network/Code/jitter.py:4090: UserWarning: Reach max itrs 60. Last err:2.564e-02\n",
      "  warnings.warn(f'Reach max itrs {max_num_itrs}. Last err:{beta_err:.3e}')\n"
     ]
    },
    {
     "data": {
      "image/png": "[encoded data removed]",
      "text/plain": [
       "<Figure size 1260x144 with 5 Axes>"
      ]
     },
     "metadata": {
      "needs_background": "light"
     },
     "output_type": "display_data"
    },
    {
     "name": "stdout",
     "output_type": "stream",
     "text": [
      "util.save_variable, save variable to:  /home/yuchen/workspace/Brain_Network/Output/jitter/coupling_filter/CD_DE_condition21_joint_fit_fixed_portion_kernel80ms_11272021_1356/group_model_pars_joint_itr7_20211127_225932.pkl\n"
     ]
    },
    {
     "name": "stderr",
     "output_type": "stream",
     "text": [
      "[Parallel(n_jobs=12)]: Using backend LokyBackend with 12 concurrent workers.\n",
      "[Parallel(n_jobs=12)]: Done  26 tasks      | elapsed:   39.6s\n",
      "[Parallel(n_jobs=12)]: Done 176 tasks      | elapsed:  3.3min\n",
      "[Parallel(n_jobs=12)]: Done 315 out of 315 | elapsed:  5.8min finished\n",
      "[Parallel(n_jobs=12)]: Using backend LokyBackend with 12 concurrent workers.\n",
      "[Parallel(n_jobs=12)]: Done  26 tasks      | elapsed:   39.7s\n",
      "[Parallel(n_jobs=12)]: Done 176 tasks      | elapsed:  3.2min\n",
      "[Parallel(n_jobs=12)]: Done 315 out of 315 | elapsed:  5.7min finished\n"
     ]
    },
    {
     "name": "stdout",
     "output_type": "stream",
     "text": [
      "filter_membership.shape (672, 315)\n",
      "membership cnt [(0, 47805), (1, 42989), (2, 55869), (3, 32407), (4, 32610)]\n",
      "filter_membership.shape (648, 315)\n",
      "membership cnt [(0, 41576), (1, 40932), (2, 56157), (3, 32321), (4, 33134)]\n",
      "util.save_variable, save variable to:  /home/yuchen/workspace/Brain_Network/Output/jitter/coupling_filter/CD_DE_condition21_joint_fit_fixed_portion_kernel80ms_11272021_1356/filter_membership_CD_itr8_20211127_231104.pkl\n",
      "util.save_variable, save variable to:  /home/yuchen/workspace/Brain_Network/Output/jitter/coupling_filter/CD_DE_condition21_joint_fit_fixed_portion_kernel80ms_11272021_1356/filter_membership_DE_itr8_20211127_231104.pkl\n",
      "util.save_variable, save variable to:  /home/yuchen/workspace/Brain_Network/Output/jitter/coupling_filter/CD_DE_condition21_joint_fit_fixed_portion_kernel80ms_11272021_1356/group_portion_itr8_20211127_231104.pkl\n",
      "filter_membership.shape (1320, 315)\n",
      "#all trials:83921\t#batch trials:83921\n",
      "X.shape (1499442, 3), basis_integral.shape (3, 1),beta.shape(3, 1)\n",
      " 37%|███████████████████████                                        | 22/60 [00:03<00:05,  7.22it/s]\n",
      "num itr 22 [[-2151528.30465]] 8.273392109459099e-06\n",
      "beta [11.16688599 -0.14176486  3.57185056]\n",
      "gradient [ -0.24928425 -21.31365139  -0.07623891]\n",
      "Finish 1.\n",
      "#all trials:112026\t#batch trials:112026\n",
      "X.shape (1951306, 3), basis_integral.shape (3, 1),beta.shape(3, 1)\n",
      " 27%|████████████████▊                                              | 16/60 [00:02<00:07,  5.53it/s]\n",
      "num itr 16 [[-2741484.65187476]] 5.74009956463839e-06\n",
      "beta [10.88623028  0.23678473 -2.42788324]\n",
      "gradient [-0.27102198 -6.66306596 -1.31579146]\n",
      "Finish 2.\n",
      "#all trials:64728\t#batch trials:64728\n",
      "X.shape (1473877, 11), basis_integral.shape (11, 1),beta.shape(11, 1)\n",
      "100%|███████████████████████████████████████████████████████████████| 60/60 [00:12<00:00,  4.91it/s]\n",
      "num itr 59 [[-2481999.24249412]] 0.021487393559262352\n",
      "beta [ 1.37241899e+01  2.63354910e-03  1.26510294e+00 -1.40267537e+01  4.04815123e+01 -1.86141809e+01\n",
      "  1.36938258e+01 -6.69494930e+00 -4.92579547e-01 -4.64382872e-01 -2.71317511e+00]\n",
      "gradient [ -1.70797498 109.70426841   0.47257719  -1.65063244  -5.23902305  -1.3262745   -0.46509058   1.31932951\n",
      "   2.38414333   1.49488066   1.18274969]\n",
      "Finish 3.\n"
     ]
    },
    {
     "name": "stderr",
     "output_type": "stream",
     "text": [
      "/home/yuchen/workspace/Brain_Network/Code/jitter.py:4090: UserWarning: Reach max itrs 60. Last err:2.149e-02\n",
      "  warnings.warn(f'Reach max itrs {max_num_itrs}. Last err:{beta_err:.3e}')\n"
     ]
    },
    {
     "name": "stdout",
     "output_type": "stream",
     "text": [
      "#all trials:65744\t#batch trials:65744\n",
      "X.shape (1513673, 11), basis_integral.shape (11, 1),beta.shape(11, 1)\n",
      "100%|███████████████████████████████████████████████████████████████| 60/60 [00:12<00:00,  4.82it/s]\n",
      "num itr 59 [[-2567532.67772396]] 0.025567543565012566\n",
      "beta [ 1.38055667e+01  5.39879217e-03  1.48995077e+01  2.85320396e+01 -2.35838245e+01  2.35990508e+01\n",
      " -1.01290311e+01  6.44011071e-01 -9.55813554e-01  4.27546024e-01 -3.51296998e+00]\n",
      "gradient [-1.77614392 78.55668814 -3.03973104 -3.28726293 -0.90970112 -2.98717826  0.37545486  2.08750451  0.99802098\n",
      "  0.91420468  0.98150659]\n",
      "Finish 4.\n"
     ]
    },
    {
     "name": "stderr",
     "output_type": "stream",
     "text": [
      "/home/yuchen/workspace/Brain_Network/Code/jitter.py:4090: UserWarning: Reach max itrs 60. Last err:2.557e-02\n",
      "  warnings.warn(f'Reach max itrs {max_num_itrs}. Last err:{beta_err:.3e}')\n"
     ]
    },
    {
     "data": {
      "image/png": "[encoded data removed]",
      "text/plain": [
       "<Figure size 1260x144 with 5 Axes>"
      ]
     },
     "metadata": {
      "needs_background": "light"
     },
     "output_type": "display_data"
    },
    {
     "name": "stdout",
     "output_type": "stream",
     "text": [
      "util.save_variable, save variable to:  /home/yuchen/workspace/Brain_Network/Output/jitter/coupling_filter/CD_DE_condition21_joint_fit_fixed_portion_kernel80ms_11272021_1356/group_model_pars_joint_itr8_20211127_232923.pkl\n"
     ]
    },
    {
     "name": "stderr",
     "output_type": "stream",
     "text": [
      "[Parallel(n_jobs=12)]: Using backend LokyBackend with 12 concurrent workers.\n",
      "[Parallel(n_jobs=12)]: Done  26 tasks      | elapsed:   39.9s\n",
      "[Parallel(n_jobs=12)]: Done 176 tasks      | elapsed:  3.3min\n",
      "[Parallel(n_jobs=12)]: Done 315 out of 315 | elapsed:  5.8min finished\n",
      "[Parallel(n_jobs=12)]: Using backend LokyBackend with 12 concurrent workers.\n",
      "[Parallel(n_jobs=12)]: Done  26 tasks      | elapsed:   39.9s\n",
      "[Parallel(n_jobs=12)]: Done 176 tasks      | elapsed:  3.3min\n",
      "[Parallel(n_jobs=12)]: Done 315 out of 315 | elapsed:  5.8min finished\n"
     ]
    },
    {
     "name": "stdout",
     "output_type": "stream",
     "text": [
      "filter_membership.shape (672, 315)\n",
      "membership cnt [(0, 46700), (1, 43505), (2, 55467), (3, 32827), (4, 33181)]\n",
      "filter_membership.shape (648, 315)\n",
      "membership cnt [(0, 40276), (1, 41388), (2, 56101), (3, 32824), (4, 33531)]\n",
      "util.save_variable, save variable to:  /home/yuchen/workspace/Brain_Network/Output/jitter/coupling_filter/CD_DE_condition21_joint_fit_fixed_portion_kernel80ms_11272021_1356/filter_membership_CD_itr9_20211127_234057.pkl\n",
      "util.save_variable, save variable to:  /home/yuchen/workspace/Brain_Network/Output/jitter/coupling_filter/CD_DE_condition21_joint_fit_fixed_portion_kernel80ms_11272021_1356/filter_membership_DE_itr9_20211127_234057.pkl\n",
      "util.save_variable, save variable to:  /home/yuchen/workspace/Brain_Network/Output/jitter/coupling_filter/CD_DE_condition21_joint_fit_fixed_portion_kernel80ms_11272021_1356/group_portion_itr9_20211127_234057.pkl\n",
      "filter_membership.shape (1320, 315)\n",
      "#all trials:84893\t#batch trials:84893\n",
      "X.shape (1505149, 3), basis_integral.shape (3, 1),beta.shape(3, 1)\n",
      " 28%|█████████████████▊                                             | 17/60 [00:02<00:06,  7.11it/s]\n",
      "num itr 17 [[-2148452.41714295]] 9.313820124229322e-06\n",
      "beta [11.0809158  -0.1493556   3.62269008]\n",
      "gradient [-0.06075496  0.15478345 -0.08580602]\n",
      "Finish 1.\n",
      "#all trials:111568\t#batch trials:111568\n",
      "X.shape (1961381, 3), basis_integral.shape (3, 1),beta.shape(3, 1)\n",
      " 28%|█████████████████▊                                             | 17/60 [00:03<00:08,  5.32it/s]\n",
      "num itr 17 [[-2777267.48238465]] 5.373271978581506e-06\n",
      "beta [10.98720409  0.26655111 -2.84218562]\n",
      "gradient [  -4.14741902 -158.80480846  -30.65714435]\n",
      "Finish 2.\n",
      "#all trials:65651\t#batch trials:65651\n",
      "X.shape (1492921, 11), basis_integral.shape (11, 1),beta.shape(11, 1)\n",
      "100%|███████████████████████████████████████████████████████████████| 60/60 [00:12<00:00,  4.86it/s]\n",
      "num itr 59 [[-2511807.02067974]] 0.024559987953212042\n",
      "beta [ 1.36996519e+01  2.85720375e-03  1.52970053e+00 -1.37625936e+01  4.00467522e+01 -1.81597964e+01\n",
      "  1.31896564e+01 -6.70923778e+00 -3.12928080e-01 -7.42686899e-01 -2.13923527e+00]\n",
      "gradient [-2.10953774 86.1628362   0.28106322 -1.81353092 -5.37612748 -1.55879348 -0.4081611   1.283472    2.02329485\n",
      "  1.06679058  0.66685911]\n",
      "Finish 3.\n"
     ]
    },
    {
     "name": "stderr",
     "output_type": "stream",
     "text": [
      "/home/yuchen/workspace/Brain_Network/Code/jitter.py:4090: UserWarning: Reach max itrs 60. Last err:2.456e-02\n",
      "  warnings.warn(f'Reach max itrs {max_num_itrs}. Last err:{beta_err:.3e}')\n"
     ]
    },
    {
     "name": "stdout",
     "output_type": "stream",
     "text": [
      "#all trials:66712\t#batch trials:66712\n",
      "X.shape (1533244, 11), basis_integral.shape (11, 1),beta.shape(11, 1)\n",
      "100%|███████████████████████████████████████████████████████████████| 60/60 [00:13<00:00,  4.61it/s]\n",
      "num itr 59 [[-2597787.7745064]] 0.02530545391578331\n",
      "beta [ 1.37991495e+01  7.52790757e-03  1.48088371e+01  2.84482041e+01 -2.37046211e+01  2.34867056e+01\n",
      " -1.00753376e+01  6.12497110e-01 -1.01092661e+00  4.99476442e-01 -3.58085570e+00]\n",
      "gradient [-1.82508443 76.21575905 -3.06605215 -3.30874871 -0.89345154 -2.99845189  0.34759644  2.08735121  0.97137094\n",
      "  0.88044833  0.9727076 ]\n",
      "Finish 4.\n"
     ]
    },
    {
     "name": "stderr",
     "output_type": "stream",
     "text": [
      "/home/yuchen/workspace/Brain_Network/Code/jitter.py:4090: UserWarning: Reach max itrs 60. Last err:2.531e-02\n",
      "  warnings.warn(f'Reach max itrs {max_num_itrs}. Last err:{beta_err:.3e}')\n"
     ]
    },
    {
     "data": {
      "image/png": "[encoded data removed]",
      "text/plain": [
       "<Figure size 1260x144 with 5 Axes>"
      ]
     },
     "metadata": {
      "needs_background": "light"
     },
     "output_type": "display_data"
    },
    {
     "name": "stdout",
     "output_type": "stream",
     "text": [
      "util.save_variable, save variable to:  /home/yuchen/workspace/Brain_Network/Output/jitter/coupling_filter/CD_DE_condition21_joint_fit_fixed_portion_kernel80ms_11272021_1356/group_model_pars_joint_itr9_20211127_235925.pkl\n"
     ]
    },
    {
     "name": "stderr",
     "output_type": "stream",
     "text": [
      "[Parallel(n_jobs=12)]: Using backend LokyBackend with 12 concurrent workers.\n",
      "[Parallel(n_jobs=12)]: Done  26 tasks      | elapsed:   39.4s\n",
      "[Parallel(n_jobs=12)]: Done 176 tasks      | elapsed:  3.3min\n",
      "[Parallel(n_jobs=12)]: Done 315 out of 315 | elapsed:  5.8min finished\n",
      "[Parallel(n_jobs=12)]: Using backend LokyBackend with 12 concurrent workers.\n",
      "[Parallel(n_jobs=12)]: Done  26 tasks      | elapsed:   40.7s\n",
      "[Parallel(n_jobs=12)]: Done 176 tasks      | elapsed:  3.3min\n",
      "[Parallel(n_jobs=12)]: Done 315 out of 315 | elapsed:  5.8min finished\n"
     ]
    },
    {
     "name": "stdout",
     "output_type": "stream",
     "text": [
      "filter_membership.shape (672, 315)\n",
      "membership cnt [(0, 47519), (1, 43177), (2, 55908), (3, 32240), (4, 32836)]\n",
      "filter_membership.shape (648, 315)\n",
      "membership cnt [(0, 41241), (1, 41236), (2, 56150), (3, 32250), (4, 33243)]\n",
      "util.save_variable, save variable to:  /home/yuchen/workspace/Brain_Network/Output/jitter/coupling_filter/CD_DE_condition21_joint_fit_fixed_portion_kernel80ms_11272021_1356/filter_membership_CD_itr10_20211128_001059.pkl\n",
      "util.save_variable, save variable to:  /home/yuchen/workspace/Brain_Network/Output/jitter/coupling_filter/CD_DE_condition21_joint_fit_fixed_portion_kernel80ms_11272021_1356/filter_membership_DE_itr10_20211128_001059.pkl\n",
      "util.save_variable, save variable to:  /home/yuchen/workspace/Brain_Network/Output/jitter/coupling_filter/CD_DE_condition21_joint_fit_fixed_portion_kernel80ms_11272021_1356/group_portion_itr10_20211128_001059.pkl\n",
      "filter_membership.shape (1320, 315)\n",
      "#all trials:84413\t#batch trials:84413\n",
      "X.shape (1504850, 3), basis_integral.shape (3, 1),beta.shape(3, 1)\n",
      " 30%|██████████████████▉                                            | 18/60 [00:02<00:06,  6.36it/s]\n",
      "num itr 18 [[-2156287.21558072]] 8.20754988847816e-06\n",
      "beta [11.14176528 -0.14808659  3.66196558]\n",
      "gradient [-0.02303921 -0.15176424 -0.08258989]\n",
      "Finish 1.\n",
      "#all trials:112058\t#batch trials:112058\n",
      "X.shape (1954810, 3), basis_integral.shape (3, 1),beta.shape(3, 1)\n",
      " 27%|████████████████▊                                              | 16/60 [00:02<00:08,  5.46it/s]\n",
      "num itr 16 [[-2752500.91726541]] 5.480672341184878e-06\n",
      "beta [10.9022399   0.26770323 -3.01559745]\n",
      "gradient [-0.38282194 -4.6487462  -1.21149689]\n",
      "Finish 2.\n",
      "#all trials:64490\t#batch trials:64490\n",
      "X.shape (1473760, 11), basis_integral.shape (11, 1),beta.shape(11, 1)\n",
      "100%|███████████████████████████████████████████████████████████████| 60/60 [00:12<00:00,  4.94it/s]\n",
      "num itr 59 [[-2487345.45269024]] 0.024152837057168627\n",
      "beta [ 1.37598249e+01  1.27884255e-03  1.46500080e+00 -1.41839856e+01  4.08506479e+01 -1.84032938e+01\n",
      "  1.33266329e+01 -6.87779912e+00 -1.86013855e-01 -8.79332896e-01 -2.10039062e+00]\n",
      "gradient [ -1.73428876 108.77939555   0.48432433  -1.6173342   -5.31159496  -1.43613571  -0.37418646   1.43339863\n",
      "   2.25576184   1.3309924    1.00689857]\n",
      "Finish 3.\n"
     ]
    },
    {
     "name": "stderr",
     "output_type": "stream",
     "text": [
      "/home/yuchen/workspace/Brain_Network/Code/jitter.py:4090: UserWarning: Reach max itrs 60. Last err:2.415e-02\n",
      "  warnings.warn(f'Reach max itrs {max_num_itrs}. Last err:{beta_err:.3e}')\n"
     ]
    },
    {
     "name": "stdout",
     "output_type": "stream",
     "text": [
      "#all trials:66079\t#batch trials:66079\n",
      "X.shape (1518062, 11), basis_integral.shape (11, 1),beta.shape(11, 1)\n",
      "100%|███████████████████████████████████████████████████████████████| 60/60 [00:12<00:00,  4.77it/s]\n",
      "num itr 59 [[-2571450.20320008]] 0.025054908715413868\n",
      "beta [ 1.37916361e+01  6.62475006e-03  1.47889981e+01  2.84718187e+01 -2.38122582e+01  2.34280368e+01\n",
      " -1.00058285e+01  6.11321901e-01 -1.01526988e+00  5.63393296e-01 -3.58964488e+00]\n",
      "gradient [-1.8314449  78.01994257 -3.04388634 -3.27328625 -0.84863589 -2.9474148   0.33661286  2.07013877  0.97369099\n",
      "  0.87751065  0.96875499]\n",
      "Finish 4.\n"
     ]
    },
    {
     "name": "stderr",
     "output_type": "stream",
     "text": [
      "/home/yuchen/workspace/Brain_Network/Code/jitter.py:4090: UserWarning: Reach max itrs 60. Last err:2.505e-02\n",
      "  warnings.warn(f'Reach max itrs {max_num_itrs}. Last err:{beta_err:.3e}')\n"
     ]
    },
    {
     "data": {
      "image/png": "[encoded data removed]",
      "text/plain": [
       "<Figure size 1260x144 with 5 Axes>"
      ]
     },
     "metadata": {
      "needs_background": "light"
     },
     "output_type": "display_data"
    },
    {
     "name": "stdout",
     "output_type": "stream",
     "text": [
      "util.save_variable, save variable to:  /home/yuchen/workspace/Brain_Network/Output/jitter/coupling_filter/CD_DE_condition21_joint_fit_fixed_portion_kernel80ms_11272021_1356/group_model_pars_joint_itr10_20211128_002957.pkl\n"
     ]
    },
    {
     "name": "stderr",
     "output_type": "stream",
     "text": [
      "[Parallel(n_jobs=12)]: Using backend LokyBackend with 12 concurrent workers.\n",
      "[Parallel(n_jobs=12)]: Done  26 tasks      | elapsed:   39.9s\n",
      "[Parallel(n_jobs=12)]: Done 176 tasks      | elapsed:  3.3min\n",
      "[Parallel(n_jobs=12)]: Done 315 out of 315 | elapsed:  5.8min finished\n",
      "[Parallel(n_jobs=12)]: Using backend LokyBackend with 12 concurrent workers.\n",
      "[Parallel(n_jobs=12)]: Done  26 tasks      | elapsed:   40.5s\n",
      "[Parallel(n_jobs=12)]: Done 176 tasks      | elapsed:  3.3min\n",
      "[Parallel(n_jobs=12)]: Done 315 out of 315 | elapsed:  5.8min finished\n"
     ]
    },
    {
     "name": "stdout",
     "output_type": "stream",
     "text": [
      "filter_membership.shape (672, 315)\n",
      "membership cnt [(0, 48081), (1, 43151), (2, 55806), (3, 32011), (4, 32631)]\n",
      "filter_membership.shape (648, 315)\n",
      "membership cnt [(0, 41716), (1, 41125), (2, 56198), (3, 32050), (4, 33031)]\n",
      "util.save_variable, save variable to:  /home/yuchen/workspace/Brain_Network/Output/jitter/coupling_filter/CD_DE_condition21_joint_fit_fixed_portion_kernel80ms_11272021_1356/filter_membership_CD_itr11_20211128_004132.pkl\n",
      "util.save_variable, save variable to:  /home/yuchen/workspace/Brain_Network/Output/jitter/coupling_filter/CD_DE_condition21_joint_fit_fixed_portion_kernel80ms_11272021_1356/filter_membership_DE_itr11_20211128_004132.pkl\n",
      "util.save_variable, save variable to:  /home/yuchen/workspace/Brain_Network/Output/jitter/coupling_filter/CD_DE_condition21_joint_fit_fixed_portion_kernel80ms_11272021_1356/group_portion_itr11_20211128_004132.pkl\n",
      "filter_membership.shape (1320, 315)\n",
      "#all trials:84276\t#batch trials:84276\n",
      "X.shape (1504494, 3), basis_integral.shape (3, 1),beta.shape(3, 1)\n",
      " 30%|██████████████████▉                                            | 18/60 [00:02<00:06,  6.40it/s]\n",
      "num itr 18 [[-2157558.18314532]] 5.436512118400794e-06\n",
      "beta [11.15726715 -0.14171169  3.56279813]\n",
      "gradient [-0.08152661 -5.26518068 -0.0924768 ]\n",
      "Finish 1.\n",
      "#all trials:112004\t#batch trials:112004\n",
      "X.shape (1951569, 3), basis_integral.shape (3, 1),beta.shape(3, 1)\n",
      " 32%|███████████████████▉                                           | 19/60 [00:03<00:08,  5.11it/s]\n",
      "num itr 19 [[-2745243.45081599]] 8.2958430659974e-06\n",
      "beta [10.88939609  0.26458026 -2.9476115 ]\n",
      "gradient [-0.22467277 -9.43110393 -1.31763596]\n",
      "Finish 2.\n",
      "#all trials:64061\t#batch trials:64061\n",
      "X.shape (1462831, 11), basis_integral.shape (11, 1),beta.shape(11, 1)\n",
      "100%|███████████████████████████████████████████████████████████████| 60/60 [00:12<00:00,  4.95it/s]\n",
      "num itr 59 [[-2467893.80683356]] 0.022110449804462577\n",
      "beta [ 1.37680484e+01  2.64306576e-03  1.35746921e+00 -1.41423238e+01  4.09722147e+01 -1.83792827e+01\n",
      "  1.31455524e+01 -6.87929371e+00 -1.81105746e-01 -1.08661732e+00 -2.11051774e+00]\n",
      "gradient [ -1.67021477 110.238258     0.4656147   -1.66716909  -5.31846949  -1.36463119  -0.24927518   1.46627538\n",
      "   2.41689973   1.53057162   1.12378021]\n",
      "Finish 3.\n"
     ]
    },
    {
     "name": "stderr",
     "output_type": "stream",
     "text": [
      "/home/yuchen/workspace/Brain_Network/Code/jitter.py:4090: UserWarning: Reach max itrs 60. Last err:2.211e-02\n",
      "  warnings.warn(f'Reach max itrs {max_num_itrs}. Last err:{beta_err:.3e}')\n"
     ]
    },
    {
     "name": "stdout",
     "output_type": "stream",
     "text": [
      "#all trials:65662\t#batch trials:65662\n",
      "X.shape (1511486, 11), basis_integral.shape (11, 1),beta.shape(11, 1)\n",
      "100%|███████████████████████████████████████████████████████████████| 60/60 [00:12<00:00,  4.84it/s]\n",
      "num itr 59 [[-2563329.79737619]] 0.02509892770655646\n",
      "beta [ 1.38208775e+01  7.28369226e-03  1.48473867e+01  2.85690230e+01 -2.40004912e+01  2.34898980e+01\n",
      " -9.98441058e+00  6.24669045e-01 -1.07600715e+00  6.41568184e-01 -3.64924226e+00]\n",
      "gradient [-1.77226425 78.34969267 -3.03305578 -3.24562647 -0.80815018 -2.91738106  0.34150181  2.07594713  1.01567568\n",
      "  0.90580872  0.98244472]\n",
      "Finish 4.\n"
     ]
    },
    {
     "name": "stderr",
     "output_type": "stream",
     "text": [
      "/home/yuchen/workspace/Brain_Network/Code/jitter.py:4090: UserWarning: Reach max itrs 60. Last err:2.510e-02\n",
      "  warnings.warn(f'Reach max itrs {max_num_itrs}. Last err:{beta_err:.3e}')\n"
     ]
    },
    {
     "data": {
      "image/png": "[encoded data removed]",
      "text/plain": [
       "<Figure size 1260x144 with 5 Axes>"
      ]
     },
     "metadata": {
      "needs_background": "light"
     },
     "output_type": "display_data"
    },
    {
     "name": "stdout",
     "output_type": "stream",
     "text": [
      "util.save_variable, save variable to:  /home/yuchen/workspace/Brain_Network/Output/jitter/coupling_filter/CD_DE_condition21_joint_fit_fixed_portion_kernel80ms_11272021_1356/group_model_pars_joint_itr11_20211128_005958.pkl\n"
     ]
    },
    {
     "name": "stderr",
     "output_type": "stream",
     "text": [
      "[Parallel(n_jobs=12)]: Using backend LokyBackend with 12 concurrent workers.\n",
      "[Parallel(n_jobs=12)]: Done  26 tasks      | elapsed:   40.1s\n",
      "[Parallel(n_jobs=12)]: Done 176 tasks      | elapsed:  3.3min\n",
      "[Parallel(n_jobs=12)]: Done 315 out of 315 | elapsed:  5.8min finished\n",
      "[Parallel(n_jobs=12)]: Using backend LokyBackend with 12 concurrent workers.\n",
      "[Parallel(n_jobs=12)]: Done  26 tasks      | elapsed:   40.1s\n",
      "[Parallel(n_jobs=12)]: Done 176 tasks      | elapsed:  3.3min\n",
      "[Parallel(n_jobs=12)]: Done 315 out of 315 | elapsed:  5.8min finished\n"
     ]
    },
    {
     "name": "stdout",
     "output_type": "stream",
     "text": [
      "filter_membership.shape (672, 315)\n",
      "membership cnt [(0, 47703), (1, 43174), (2, 55850), (3, 32183), (4, 32770)]\n",
      "filter_membership.shape (648, 315)\n",
      "membership cnt [(0, 41470), (1, 41155), (2, 56163), (3, 32165), (4, 33167)]\n",
      "util.save_variable, save variable to:  /home/yuchen/workspace/Brain_Network/Output/jitter/coupling_filter/CD_DE_condition21_joint_fit_fixed_portion_kernel80ms_11272021_1356/filter_membership_CD_itr12_20211128_011134.pkl\n",
      "util.save_variable, save variable to:  /home/yuchen/workspace/Brain_Network/Output/jitter/coupling_filter/CD_DE_condition21_joint_fit_fixed_portion_kernel80ms_11272021_1356/filter_membership_DE_itr12_20211128_011134.pkl\n",
      "util.save_variable, save variable to:  /home/yuchen/workspace/Brain_Network/Output/jitter/coupling_filter/CD_DE_condition21_joint_fit_fixed_portion_kernel80ms_11272021_1356/group_portion_itr12_20211128_011134.pkl\n",
      "filter_membership.shape (1320, 315)\n",
      "#all trials:84329\t#batch trials:84329\n",
      "X.shape (1507815, 3), basis_integral.shape (3, 1),beta.shape(3, 1)\n",
      " 30%|██████████████████▉                                            | 18/60 [00:02<00:06,  6.24it/s]\n",
      "num itr 18 [[-2164722.49253156]] 9.787555397905434e-06\n",
      "beta [11.17495728 -0.14078256  3.577249  ]\n",
      "gradient [ -0.37673946 -24.56501477   0.07369209]\n",
      "Finish 1.\n",
      "#all trials:112013\t#batch trials:112013\n",
      "X.shape (1951603, 3), basis_integral.shape (3, 1),beta.shape(3, 1)\n",
      " 27%|████████████████▊                                              | 16/60 [00:03<00:08,  5.08it/s]\n",
      "num itr 16 [[-2743957.57123754]] 9.655281227982648e-06\n",
      "beta [10.88902734  0.25416835 -2.67443826]\n",
      "gradient [  -7.13581426 -401.88374883  -66.64219878]\n",
      "Finish 2.\n",
      "#all trials:64348\t#batch trials:64348\n",
      "X.shape (1469099, 11), basis_integral.shape (11, 1),beta.shape(11, 1)\n",
      "100%|███████████████████████████████████████████████████████████████| 60/60 [00:12<00:00,  4.93it/s]\n",
      "num itr 59 [[-2478101.18462809]] 0.022224064532008234\n",
      "beta [ 1.37742879e+01  2.18681433e-03  1.34248311e+00 -1.41276445e+01  4.09305031e+01 -1.82611392e+01\n",
      "  1.29635546e+01 -6.86832896e+00 -1.19945215e-01 -1.26521411e+00 -2.05389322e+00]\n",
      "gradient [ -1.67761151 113.88100884   0.4743869   -1.66323884  -5.34267344  -1.3533805   -0.18481493   1.53258186\n",
      "   2.47932823   1.58736489   1.14636312]\n",
      "Finish 3.\n"
     ]
    },
    {
     "name": "stderr",
     "output_type": "stream",
     "text": [
      "/home/yuchen/workspace/Brain_Network/Code/jitter.py:4090: UserWarning: Reach max itrs 60. Last err:2.222e-02\n",
      "  warnings.warn(f'Reach max itrs {max_num_itrs}. Last err:{beta_err:.3e}')\n"
     ]
    },
    {
     "name": "stdout",
     "output_type": "stream",
     "text": [
      "#all trials:65937\t#batch trials:65937\n",
      "X.shape (1515243, 11), basis_integral.shape (11, 1),beta.shape(11, 1)\n",
      "100%|███████████████████████████████████████████████████████████████| 60/60 [00:12<00:00,  4.75it/s]\n",
      "num itr 59 [[-2567124.90290303]] 0.0250761880029083\n",
      "beta [ 1.37931224e+01  6.28402696e-03  1.49353168e+01  2.84900912e+01 -2.40090200e+01  2.34527657e+01\n",
      " -9.89531561e+00  6.53357967e-01 -1.13958427e+00  7.36822875e-01 -3.67655030e+00]\n",
      "gradient [-1.79809613 79.09538254 -3.05063084 -3.24975694 -0.79606371 -2.92874016  0.30970934  2.07085885  1.01750552\n",
      "  0.89228409  0.97952463]\n",
      "Finish 4.\n"
     ]
    },
    {
     "name": "stderr",
     "output_type": "stream",
     "text": [
      "/home/yuchen/workspace/Brain_Network/Code/jitter.py:4090: UserWarning: Reach max itrs 60. Last err:2.508e-02\n",
      "  warnings.warn(f'Reach max itrs {max_num_itrs}. Last err:{beta_err:.3e}')\n"
     ]
    },
    {
     "data": {
      "image/png": "[encoded data removed]",
      "text/plain": [
       "<Figure size 1260x144 with 5 Axes>"
      ]
     },
     "metadata": {
      "needs_background": "light"
     },
     "output_type": "display_data"
    },
    {
     "name": "stdout",
     "output_type": "stream",
     "text": [
      "util.save_variable, save variable to:  /home/yuchen/workspace/Brain_Network/Output/jitter/coupling_filter/CD_DE_condition21_joint_fit_fixed_portion_kernel80ms_11272021_1356/group_model_pars_joint_itr12_20211128_012951.pkl\n"
     ]
    },
    {
     "name": "stderr",
     "output_type": "stream",
     "text": [
      "[Parallel(n_jobs=12)]: Using backend LokyBackend with 12 concurrent workers.\n",
      "[Parallel(n_jobs=12)]: Done  26 tasks      | elapsed:   39.6s\n",
      "[Parallel(n_jobs=12)]: Done 176 tasks      | elapsed:  3.3min\n",
      "[Parallel(n_jobs=12)]: Done 315 out of 315 | elapsed:  5.8min finished\n",
      "[Parallel(n_jobs=12)]: Using backend LokyBackend with 12 concurrent workers.\n",
      "[Parallel(n_jobs=12)]: Done  26 tasks      | elapsed:   39.9s\n",
      "[Parallel(n_jobs=12)]: Done 176 tasks      | elapsed:  3.3min\n",
      "[Parallel(n_jobs=12)]: Done 315 out of 315 | elapsed:  5.8min finished\n"
     ]
    },
    {
     "name": "stdout",
     "output_type": "stream",
     "text": [
      "filter_membership.shape (672, 315)\n",
      "membership cnt [(0, 47158), (1, 43488), (2, 55667), (3, 32413), (4, 32954)]\n",
      "filter_membership.shape (648, 315)\n",
      "membership cnt [(0, 40907), (1, 41300), (2, 56238), (3, 32375), (4, 33300)]\n",
      "util.save_variable, save variable to:  /home/yuchen/workspace/Brain_Network/Output/jitter/coupling_filter/CD_DE_condition21_joint_fit_fixed_portion_kernel80ms_11272021_1356/filter_membership_CD_itr13_20211128_014128.pkl\n",
      "util.save_variable, save variable to:  /home/yuchen/workspace/Brain_Network/Output/jitter/coupling_filter/CD_DE_condition21_joint_fit_fixed_portion_kernel80ms_11272021_1356/filter_membership_DE_itr13_20211128_014128.pkl\n",
      "util.save_variable, save variable to:  /home/yuchen/workspace/Brain_Network/Output/jitter/coupling_filter/CD_DE_condition21_joint_fit_fixed_portion_kernel80ms_11272021_1356/group_portion_itr13_20211128_014128.pkl\n",
      "filter_membership.shape (1320, 315)\n",
      "#all trials:84788\t#batch trials:84788\n",
      "X.shape (1510863, 3), basis_integral.shape (3, 1),beta.shape(3, 1)\n",
      " 28%|█████████████████▊                                             | 17/60 [00:02<00:06,  7.05it/s]\n",
      "num itr 17 [[-2163818.7676644]] 9.19731061815865e-06\n",
      "beta [11.1368908  -0.14143717  3.54937014]\n",
      "gradient [-0.07042283 -2.1180502  -0.13667785]\n",
      "Finish 1.\n",
      "#all trials:111905\t#batch trials:111905\n",
      "X.shape (1958051, 3), basis_integral.shape (3, 1),beta.shape(3, 1)\n",
      " 27%|████████████████▊                                              | 16/60 [00:03<00:08,  5.31it/s]\n",
      "num itr 16 [[-2763021.10866547]] 7.455029336522756e-06\n",
      "beta [10.93547117  0.26099379 -2.84162998]\n",
      "gradient [ -1.70044917 -46.71993151 -10.30169945]\n",
      "Finish 2.\n",
      "#all trials:64788\t#batch trials:64788\n",
      "X.shape (1476860, 11), basis_integral.shape (11, 1),beta.shape(11, 1)\n",
      "100%|███████████████████████████████████████████████████████████████| 60/60 [00:12<00:00,  4.86it/s]\n",
      "num itr 59 [[-2488871.84447781]] 0.021963968070037802\n",
      "beta [ 1.37656097e+01  2.63575414e-03  1.30326614e+00 -1.40525604e+01  4.07984820e+01 -1.81286973e+01\n",
      "  1.27690100e+01 -6.86090356e+00 -8.63406404e-02 -1.42816785e+00 -1.99624084e+00]\n",
      "gradient [ -1.71024251 115.90606056   0.47929473  -1.6744274   -5.38380425  -1.36249004  -0.13549095   1.57145706\n",
      "   2.51631551   1.63390307   1.1669429 ]\n",
      "Finish 3.\n"
     ]
    },
    {
     "name": "stderr",
     "output_type": "stream",
     "text": [
      "/home/yuchen/workspace/Brain_Network/Code/jitter.py:4090: UserWarning: Reach max itrs 60. Last err:2.196e-02\n",
      "  warnings.warn(f'Reach max itrs {max_num_itrs}. Last err:{beta_err:.3e}')\n"
     ]
    },
    {
     "name": "stdout",
     "output_type": "stream",
     "text": [
      "#all trials:66254\t#batch trials:66254\n",
      "X.shape (1522149, 11), basis_integral.shape (11, 1),beta.shape(11, 1)\n",
      "100%|███████████████████████████████████████████████████████████████| 60/60 [00:12<00:00,  4.76it/s]\n",
      "num itr 59 [[-2578401.24760508]] 0.0249702357646999\n",
      "beta [ 1.37950019e+01  7.03024003e-03  1.49882858e+01  2.84404715e+01 -2.40825202e+01  2.34270088e+01\n",
      " -9.84135099e+00  6.53637384e-01 -1.21903042e+00  8.31940155e-01 -3.73939916e+00]\n",
      "gradient [-1.80762915 78.69750025 -3.06648345 -3.2544009  -0.78037971 -2.93434596  0.28654887  2.07386185  1.03318272\n",
      "  0.89286837  0.98324476]\n",
      "Finish 4.\n"
     ]
    },
    {
     "name": "stderr",
     "output_type": "stream",
     "text": [
      "/home/yuchen/workspace/Brain_Network/Code/jitter.py:4090: UserWarning: Reach max itrs 60. Last err:2.497e-02\n",
      "  warnings.warn(f'Reach max itrs {max_num_itrs}. Last err:{beta_err:.3e}')\n"
     ]
    },
    {
     "data": {
      "image/png": "[encoded data removed]",
      "text/plain": [
       "<Figure size 1260x144 with 5 Axes>"
      ]
     },
     "metadata": {
      "needs_background": "light"
     },
     "output_type": "display_data"
    },
    {
     "name": "stdout",
     "output_type": "stream",
     "text": [
      "util.save_variable, save variable to:  /home/yuchen/workspace/Brain_Network/Output/jitter/coupling_filter/CD_DE_condition21_joint_fit_fixed_portion_kernel80ms_11272021_1356/group_model_pars_joint_itr13_20211128_015952.pkl\n"
     ]
    },
    {
     "name": "stderr",
     "output_type": "stream",
     "text": [
      "[Parallel(n_jobs=12)]: Using backend LokyBackend with 12 concurrent workers.\n",
      "[Parallel(n_jobs=12)]: Done  26 tasks      | elapsed:   39.7s\n",
      "[Parallel(n_jobs=12)]: Done 176 tasks      | elapsed:  3.3min\n",
      "[Parallel(n_jobs=12)]: Done 315 out of 315 | elapsed:  5.8min finished\n",
      "[Parallel(n_jobs=12)]: Using backend LokyBackend with 12 concurrent workers.\n",
      "[Parallel(n_jobs=12)]: Done  26 tasks      | elapsed:   39.9s\n",
      "[Parallel(n_jobs=12)]: Done 176 tasks      | elapsed:  3.3min\n",
      "[Parallel(n_jobs=12)]: Done 315 out of 315 | elapsed:  5.8min finished\n"
     ]
    },
    {
     "name": "stdout",
     "output_type": "stream",
     "text": [
      "filter_membership.shape (672, 315)\n",
      "membership cnt [(0, 47417), (1, 43307), (2, 55867), (3, 32251), (4, 32838)]\n",
      "filter_membership.shape (648, 315)\n",
      "membership cnt [(0, 41198), (1, 41278), (2, 56129), (3, 32249), (4, 33266)]\n",
      "util.save_variable, save variable to:  /home/yuchen/workspace/Brain_Network/Output/jitter/coupling_filter/CD_DE_condition21_joint_fit_fixed_portion_kernel80ms_11272021_1356/filter_membership_CD_itr14_20211128_021127.pkl\n",
      "util.save_variable, save variable to:  /home/yuchen/workspace/Brain_Network/Output/jitter/coupling_filter/CD_DE_condition21_joint_fit_fixed_portion_kernel80ms_11272021_1356/filter_membership_DE_itr14_20211128_021127.pkl\n",
      "util.save_variable, save variable to:  /home/yuchen/workspace/Brain_Network/Output/jitter/coupling_filter/CD_DE_condition21_joint_fit_fixed_portion_kernel80ms_11272021_1356/group_portion_itr14_20211128_021127.pkl\n",
      "filter_membership.shape (1320, 315)\n",
      "#all trials:84585\t#batch trials:84585\n",
      "X.shape (1511927, 3), basis_integral.shape (3, 1),beta.shape(3, 1)\n",
      " 55%|██████████████████████████████████▋                            | 33/60 [00:04<00:03,  7.30it/s]\n",
      "num itr 33 [[-2170298.28605052]] 7.26510450110851e-06\n",
      "beta [11.17136604 -0.15153961  3.67018608]\n",
      "gradient [ -0.59294    -34.95299301   0.35870649]\n",
      "Finish 1.\n",
      "#all trials:111996\t#batch trials:111996\n",
      "X.shape (1953589, 3), basis_integral.shape (3, 1),beta.shape(3, 1)\n",
      " 40%|█████████████████████████▏                                     | 24/60 [00:04<00:06,  5.25it/s]\n",
      "num itr 24 [[-2750021.56697004]] 6.202181673964358e-06\n",
      "beta [10.90168394  0.26305416 -2.78626831]\n",
      "gradient [ -0.18239463 -14.28198105  -2.05524225]\n",
      "Finish 2.\n",
      "#all trials:64500\t#batch trials:64500\n",
      "X.shape (1472982, 11), basis_integral.shape (11, 1),beta.shape(11, 1)\n",
      "100%|███████████████████████████████████████████████████████████████| 60/60 [00:12<00:00,  4.95it/s]\n",
      "num itr 59 [[-2485077.6205166]] 0.022985790100130857\n",
      "beta [ 1.37962479e+01  4.44762682e-03  1.30475470e+00 -1.41553448e+01  4.09466874e+01 -1.81124903e+01\n",
      "  1.26853711e+01 -6.89691294e+00 -1.61234916e-02 -1.59582138e+00 -1.91698631e+00]\n",
      "gradient [-1.63096364e+00  1.14371595e+02  4.85832261e-01 -1.65215988e+00 -5.37896640e+00 -1.35032129e+00\n",
      " -9.68906657e-02  1.62604923e+00  2.55860889e+00  1.65262487e+00  1.15234003e+00]\n",
      "Finish 3.\n"
     ]
    },
    {
     "name": "stderr",
     "output_type": "stream",
     "text": [
      "/home/yuchen/workspace/Brain_Network/Code/jitter.py:4090: UserWarning: Reach max itrs 60. Last err:2.299e-02\n",
      "  warnings.warn(f'Reach max itrs {max_num_itrs}. Last err:{beta_err:.3e}')\n"
     ]
    },
    {
     "name": "stdout",
     "output_type": "stream",
     "text": [
      "#all trials:66104\t#batch trials:66104\n",
      "X.shape (1517311, 11), basis_integral.shape (11, 1),beta.shape(11, 1)\n",
      "100%|███████████████████████████████████████████████████████████████| 60/60 [00:12<00:00,  4.71it/s]\n",
      "num itr 59 [[-2568780.83701818]] 0.024897942796020124\n",
      "beta [ 1.37773153e+01  5.37042706e-03  1.50664330e+01  2.83328849e+01 -2.40626463e+01  2.33529503e+01\n",
      " -9.71128080e+00  6.42450590e-01 -1.25335462e+00  9.21871168e-01 -3.76821059e+00]\n",
      "gradient [-1.83355856 80.49011287 -3.06563569 -3.23472358 -0.75573912 -2.92174473  0.26231018  2.06805091  1.04770324\n",
      "  0.89701093  0.98286231]\n",
      "Finish 4.\n"
     ]
    },
    {
     "name": "stderr",
     "output_type": "stream",
     "text": [
      "/home/yuchen/workspace/Brain_Network/Code/jitter.py:4090: UserWarning: Reach max itrs 60. Last err:2.490e-02\n",
      "  warnings.warn(f'Reach max itrs {max_num_itrs}. Last err:{beta_err:.3e}')\n"
     ]
    },
    {
     "data": {
      "image/png": "[encoded data removed]",
      "text/plain": [
       "<Figure size 1260x144 with 5 Axes>"
      ]
     },
     "metadata": {
      "needs_background": "light"
     },
     "output_type": "display_data"
    },
    {
     "name": "stdout",
     "output_type": "stream",
     "text": [
      "util.save_variable, save variable to:  /home/yuchen/workspace/Brain_Network/Output/jitter/coupling_filter/CD_DE_condition21_joint_fit_fixed_portion_kernel80ms_11272021_1356/group_model_pars_joint_itr14_20211128_023004.pkl\n"
     ]
    },
    {
     "name": "stderr",
     "output_type": "stream",
     "text": [
      "[Parallel(n_jobs=12)]: Using backend LokyBackend with 12 concurrent workers.\n",
      "[Parallel(n_jobs=12)]: Done  26 tasks      | elapsed:   39.9s\n",
      "[Parallel(n_jobs=12)]: Done 176 tasks      | elapsed:  3.3min\n",
      "[Parallel(n_jobs=12)]: Done 315 out of 315 | elapsed:  5.8min finished\n",
      "[Parallel(n_jobs=12)]: Using backend LokyBackend with 12 concurrent workers.\n",
      "[Parallel(n_jobs=12)]: Done  26 tasks      | elapsed:   40.0s\n",
      "[Parallel(n_jobs=12)]: Done 176 tasks      | elapsed:  3.3min\n",
      "[Parallel(n_jobs=12)]: Done 315 out of 315 | elapsed:  5.8min finished\n"
     ]
    },
    {
     "name": "stdout",
     "output_type": "stream",
     "text": [
      "filter_membership.shape (672, 315)\n",
      "membership cnt [(0, 47667), (1, 43622), (2, 55602), (3, 32109), (4, 32680)]\n",
      "filter_membership.shape (648, 315)\n",
      "membership cnt [(0, 41351), (1, 41411), (2, 56043), (3, 32197), (4, 33118)]\n",
      "util.save_variable, save variable to:  /home/yuchen/workspace/Brain_Network/Output/jitter/coupling_filter/CD_DE_condition21_joint_fit_fixed_portion_kernel80ms_11272021_1356/filter_membership_CD_itr15_20211128_024139.pkl\n",
      "util.save_variable, save variable to:  /home/yuchen/workspace/Brain_Network/Output/jitter/coupling_filter/CD_DE_condition21_joint_fit_fixed_portion_kernel80ms_11272021_1356/filter_membership_DE_itr15_20211128_024139.pkl\n",
      "util.save_variable, save variable to:  /home/yuchen/workspace/Brain_Network/Output/jitter/coupling_filter/CD_DE_condition21_joint_fit_fixed_portion_kernel80ms_11272021_1356/group_portion_itr15_20211128_024139.pkl\n",
      "filter_membership.shape (1320, 315)\n",
      "#all trials:85033\t#batch trials:85033\n",
      "X.shape (1513117, 3), basis_integral.shape (3, 1),beta.shape(3, 1)\n",
      " 28%|█████████████████▊                                             | 17/60 [00:02<00:06,  7.08it/s]\n",
      "num itr 17 [[-2164974.10668965]] 9.216510996223892e-06\n",
      "beta [11.12137732 -0.13646183  3.48461336]\n",
      "gradient [ -0.95290695 -59.17820834   0.45078694]\n",
      "Finish 1.\n",
      "#all trials:111645\t#batch trials:111645\n",
      "X.shape (1953060, 3), basis_integral.shape (3, 1),beta.shape(3, 1)\n",
      " 25%|███████████████▊                                               | 15/60 [00:02<00:08,  5.46it/s]\n",
      "num itr 15 [[-2754292.89607317]] 8.642271858705364e-06\n",
      "beta [10.93306067  0.26250573 -2.76292396]\n",
      "gradient [ -1.18173504 -42.50827016  -7.62426248]\n",
      "Finish 2.\n",
      "#all trials:64306\t#batch trials:64306\n",
      "X.shape (1469541, 11), basis_integral.shape (11, 1),beta.shape(11, 1)\n",
      "100%|███████████████████████████████████████████████████████████████| 60/60 [00:12<00:00,  4.94it/s]\n",
      "num itr 59 [[-2480290.70021148]] 0.02333056026353717\n",
      "beta [ 1.38169665e+01  6.25192429e-03  1.26931630e+00 -1.42001797e+01  4.10005165e+01 -1.80657336e+01\n",
      "  1.25732416e+01 -6.96671946e+00  7.99570568e-02 -1.78876750e+00 -1.85612329e+00]\n",
      "gradient [-1.60899388e+00  1.12572688e+02  4.89826136e-01 -1.64244706e+00 -5.37724164e+00 -1.36726870e+00\n",
      " -6.88529817e-02  1.64133391e+00  2.55073430e+00  1.67152709e+00  1.15599217e+00]\n",
      "Finish 3.\n"
     ]
    },
    {
     "name": "stderr",
     "output_type": "stream",
     "text": [
      "/home/yuchen/workspace/Brain_Network/Code/jitter.py:4090: UserWarning: Reach max itrs 60. Last err:2.333e-02\n",
      "  warnings.warn(f'Reach max itrs {max_num_itrs}. Last err:{beta_err:.3e}')\n"
     ]
    },
    {
     "name": "stdout",
     "output_type": "stream",
     "text": [
      "#all trials:65798\t#batch trials:65798\n",
      "X.shape (1514098, 11), basis_integral.shape (11, 1),beta.shape(11, 1)\n",
      "100%|███████████████████████████████████████████████████████████████| 60/60 [00:12<00:00,  4.75it/s]\n",
      "num itr 59 [[-2567240.94306001]] 0.02496687102012847\n",
      "beta [ 1.38228891e+01  8.18108837e-03  1.52004638e+01  2.84454922e+01 -2.42609353e+01  2.34271185e+01\n",
      " -9.74388571e+00  6.51138296e-01 -1.36573435e+00  1.00879442e+00 -3.86800039e+00]\n",
      "gradient [-1.76158745 77.67840698 -3.06364723 -3.22186981 -0.73273505 -2.89945125  0.25801889  2.06753527  1.07284984\n",
      "  0.89940503  0.98805111]\n",
      "Finish 4.\n"
     ]
    },
    {
     "name": "stderr",
     "output_type": "stream",
     "text": [
      "/home/yuchen/workspace/Brain_Network/Code/jitter.py:4090: UserWarning: Reach max itrs 60. Last err:2.497e-02\n",
      "  warnings.warn(f'Reach max itrs {max_num_itrs}. Last err:{beta_err:.3e}')\n"
     ]
    },
    {
     "data": {
      "image/png": "[encoded data removed]",
      "text/plain": [
       "<Figure size 1260x144 with 5 Axes>"
      ]
     },
     "metadata": {
      "needs_background": "light"
     },
     "output_type": "display_data"
    },
    {
     "name": "stdout",
     "output_type": "stream",
     "text": [
      "util.save_variable, save variable to:  /home/yuchen/workspace/Brain_Network/Output/jitter/coupling_filter/CD_DE_condition21_joint_fit_fixed_portion_kernel80ms_11272021_1356/group_model_pars_joint_itr15_20211128_025959.pkl\n"
     ]
    },
    {
     "name": "stderr",
     "output_type": "stream",
     "text": [
      "[Parallel(n_jobs=12)]: Using backend LokyBackend with 12 concurrent workers.\n",
      "[Parallel(n_jobs=12)]: Done  26 tasks      | elapsed:   40.1s\n",
      "[Parallel(n_jobs=12)]: Done 176 tasks      | elapsed:  3.3min\n",
      "[Parallel(n_jobs=12)]: Done 315 out of 315 | elapsed:  5.8min finished\n",
      "[Parallel(n_jobs=12)]: Using backend LokyBackend with 12 concurrent workers.\n",
      "[Parallel(n_jobs=12)]: Done  26 tasks      | elapsed:   40.5s\n",
      "[Parallel(n_jobs=12)]: Done 176 tasks      | elapsed:  3.3min\n",
      "[Parallel(n_jobs=12)]: Done 315 out of 315 | elapsed:  5.8min finished\n"
     ]
    },
    {
     "name": "stdout",
     "output_type": "stream",
     "text": [
      "filter_membership.shape (672, 315)\n",
      "membership cnt [(0, 47243), (1, 43433), (2, 55708), (3, 32396), (4, 32900)]\n",
      "filter_membership.shape (648, 315)\n",
      "membership cnt [(0, 40906), (1, 41419), (2, 56132), (3, 32352), (4, 33311)]\n",
      "util.save_variable, save variable to:  /home/yuchen/workspace/Brain_Network/Output/jitter/coupling_filter/CD_DE_condition21_joint_fit_fixed_portion_kernel80ms_11272021_1356/filter_membership_CD_itr16_20211128_031137.pkl\n",
      "util.save_variable, save variable to:  /home/yuchen/workspace/Brain_Network/Output/jitter/coupling_filter/CD_DE_condition21_joint_fit_fixed_portion_kernel80ms_11272021_1356/filter_membership_DE_itr16_20211128_031137.pkl\n",
      "util.save_variable, save variable to:  /home/yuchen/workspace/Brain_Network/Output/jitter/coupling_filter/CD_DE_condition21_joint_fit_fixed_portion_kernel80ms_11272021_1356/group_portion_itr16_20211128_031137.pkl\n",
      "filter_membership.shape (1320, 315)\n",
      "#all trials:84852\t#batch trials:84852\n",
      "X.shape (1515763, 3), basis_integral.shape (3, 1),beta.shape(3, 1)\n",
      " 35%|██████████████████████                                         | 21/60 [00:02<00:05,  7.12it/s]\n",
      "num itr 21 [[-2174685.17595068]] 7.098603344801724e-06\n",
      "beta [11.16457897 -0.14179977  3.59155866]\n",
      "gradient [ -0.19153109 -16.00759685  -0.05447523]\n",
      "Finish 1.\n",
      "#all trials:111840\t#batch trials:111840\n",
      "X.shape (1952547, 3), basis_integral.shape (3, 1),beta.shape(3, 1)\n",
      " 28%|█████████████████▊                                             | 17/60 [00:03<00:07,  5.54it/s]\n",
      "num itr 17 [[-2750458.36900413]] 5.734254659106597e-06\n",
      "beta [10.91101404  0.25890531 -2.85615588]\n",
      "gradient [ -1.62835447 -23.9302636   -8.03728076]\n",
      "Finish 2.\n",
      "#all trials:64748\t#batch trials:64748\n",
      "X.shape (1477398, 11), basis_integral.shape (11, 1),beta.shape(11, 1)\n",
      "100%|███████████████████████████████████████████████████████████████| 60/60 [00:12<00:00,  4.83it/s]\n",
      "num itr 59 [[-2491167.77157595]] 0.023674691078131718\n",
      "beta [ 1.37910599e+01  3.83986582e-03  1.31411055e+00 -1.41310168e+01  4.08739894e+01 -1.79310610e+01\n",
      "  1.24470016e+01 -6.94534342e+00  1.54764196e-01 -1.88692957e+00 -1.73165725e+00]\n",
      "gradient [-1.63181500e+00  1.18090421e+02  4.95299094e-01 -1.64443172e+00 -5.40837250e+00 -1.35065741e+00\n",
      " -1.58453439e-02  1.71164443e+00  2.61440811e+00  1.70985283e+00  1.16363350e+00]\n",
      "Finish 3.\n"
     ]
    },
    {
     "name": "stderr",
     "output_type": "stream",
     "text": [
      "/home/yuchen/workspace/Brain_Network/Code/jitter.py:4090: UserWarning: Reach max itrs 60. Last err:2.367e-02\n",
      "  warnings.warn(f'Reach max itrs {max_num_itrs}. Last err:{beta_err:.3e}')\n"
     ]
    },
    {
     "name": "stdout",
     "output_type": "stream",
     "text": [
      "#all trials:66211\t#batch trials:66211\n",
      "X.shape (1521257, 11), basis_integral.shape (11, 1),beta.shape(11, 1)\n",
      "100%|███████████████████████████████████████████████████████████████| 60/60 [00:12<00:00,  4.70it/s]\n",
      "num itr 59 [[-2577020.08915151]] 0.024940924514052713\n",
      "beta [ 1.37975744e+01  7.34095463e-03  1.52500508e+01  2.83865103e+01 -2.42341282e+01  2.34006106e+01\n",
      " -9.67278216e+00  6.75194869e-01 -1.44095880e+00  1.11718532e+00 -3.91245812e+00]\n",
      "gradient [-1.77856779 78.79392529 -3.08525019 -3.2360206  -0.72990193 -2.92171906  0.23880994  2.07809931  1.09898033\n",
      "  0.90883873  0.99486508]\n",
      "Finish 4.\n"
     ]
    },
    {
     "name": "stderr",
     "output_type": "stream",
     "text": [
      "/home/yuchen/workspace/Brain_Network/Code/jitter.py:4090: UserWarning: Reach max itrs 60. Last err:2.494e-02\n",
      "  warnings.warn(f'Reach max itrs {max_num_itrs}. Last err:{beta_err:.3e}')\n"
     ]
    },
    {
     "data": {
      "image/png": "[encoded data removed]",
      "text/plain": [
       "<Figure size 1260x144 with 5 Axes>"
      ]
     },
     "metadata": {
      "needs_background": "light"
     },
     "output_type": "display_data"
    },
    {
     "name": "stdout",
     "output_type": "stream",
     "text": [
      "util.save_variable, save variable to:  /home/yuchen/workspace/Brain_Network/Output/jitter/coupling_filter/CD_DE_condition21_joint_fit_fixed_portion_kernel80ms_11272021_1356/group_model_pars_joint_itr16_20211128_032950.pkl\n"
     ]
    },
    {
     "name": "stderr",
     "output_type": "stream",
     "text": [
      "[Parallel(n_jobs=12)]: Using backend LokyBackend with 12 concurrent workers.\n",
      "[Parallel(n_jobs=12)]: Done  26 tasks      | elapsed:   39.8s\n",
      "[Parallel(n_jobs=12)]: Done 176 tasks      | elapsed:  3.3min\n",
      "[Parallel(n_jobs=12)]: Done 315 out of 315 | elapsed:  5.8min finished\n",
      "[Parallel(n_jobs=12)]: Using backend LokyBackend with 12 concurrent workers.\n",
      "ERROR:concurrent.futures:exception calling callback for <Future at 0x7fea8e425850 state=finished raised BrokenProcessPool>\n",
      "joblib.externals.loky.process_executor._RemoteTraceback: \n",
      "\"\"\"\n",
      "Traceback (most recent call last):\n",
      "  File \"/home/yuchen/anaconda3/lib/python3.8/site-packages/joblib/externals/loky/process_executor.py\", line 404, in _process_worker\n",
      "    call_item = call_queue.get(block=True, timeout=timeout)\n",
      "  File \"/home/yuchen/anaconda3/lib/python3.8/multiprocessing/queues.py\", line 102, in get\n",
      "    if not self._rlock.acquire(block, timeout):\n",
      "KeyboardInterrupt\n",
      "\"\"\"\n",
      "\n",
      "The above exception was the direct cause of the following exception:\n",
      "\n",
      "Traceback (most recent call last):\n",
      "  File \"/home/yuchen/anaconda3/lib/python3.8/site-packages/joblib/externals/loky/_base.py\", line 625, in _invoke_callbacks\n",
      "    callback(self)\n",
      "  File \"/home/yuchen/anaconda3/lib/python3.8/site-packages/joblib/parallel.py\", line 347, in __call__\n",
      "    self.parallel.dispatch_next()\n",
      "  File \"/home/yuchen/anaconda3/lib/python3.8/site-packages/joblib/parallel.py\", line 780, in dispatch_next\n",
      "    if not self.dispatch_one_batch(self._original_iterator):\n",
      "  File \"/home/yuchen/anaconda3/lib/python3.8/site-packages/joblib/parallel.py\", line 847, in dispatch_one_batch\n",
      "    self._dispatch(tasks)\n",
      "  File \"/home/yuchen/anaconda3/lib/python3.8/site-packages/joblib/parallel.py\", line 765, in _dispatch\n",
      "    job = self._backend.apply_async(batch, callback=cb)\n",
      "  File \"/home/yuchen/anaconda3/lib/python3.8/site-packages/joblib/_parallel_backends.py\", line 531, in apply_async\n",
      "    future = self._workers.submit(SafeFunction(func))\n",
      "  File \"/home/yuchen/anaconda3/lib/python3.8/site-packages/joblib/externals/loky/reusable_executor.py\", line 177, in submit\n",
      "    return super(_ReusablePoolExecutor, self).submit(\n",
      "  File \"/home/yuchen/anaconda3/lib/python3.8/site-packages/joblib/externals/loky/process_executor.py\", line 1102, in submit\n",
      "    raise self._flags.broken\n",
      "joblib.externals.loky.process_executor.BrokenProcessPool: A task has failed to un-serialize. Please ensure that the arguments of the function are all picklable.\n"
     ]
    },
    {
     "ename": "KeyboardInterrupt",
     "evalue": "",
     "output_type": "error",
     "traceback": [
      "\u001b[0;31m---------------------------------------------------------------------------\u001b[0m",
      "\u001b[0;31mKeyboardInterrupt\u001b[0m                         Traceback (most recent call last)",
      "\u001b[0;32m<ipython-input-28-226edae80773>\u001b[0m in \u001b[0;36m<module>\u001b[0;34m\u001b[0m\n\u001b[1;32m     12\u001b[0m     \u001b[0;32mwith\u001b[0m \u001b[0mParallel\u001b[0m\u001b[0;34m(\u001b[0m\u001b[0mn_jobs\u001b[0m\u001b[0;34m=\u001b[0m\u001b[0mnum_paral_jobs\u001b[0m\u001b[0;34m,\u001b[0m \u001b[0mverbose\u001b[0m\u001b[0;34m=\u001b[0m\u001b[0;36m1\u001b[0m\u001b[0;34m)\u001b[0m \u001b[0;32mas\u001b[0m \u001b[0mparallel_pool\u001b[0m\u001b[0;34m:\u001b[0m\u001b[0;34m\u001b[0m\u001b[0;34m\u001b[0m\u001b[0m\n\u001b[1;32m     13\u001b[0m         \u001b[0mjobs_CD_out\u001b[0m \u001b[0;34m=\u001b[0m \u001b[0mparallel_pool\u001b[0m\u001b[0;34m(\u001b[0m\u001b[0mjobs_CD\u001b[0m\u001b[0;34m)\u001b[0m\u001b[0;34m\u001b[0m\u001b[0;34m\u001b[0m\u001b[0m\n\u001b[0;32m---> 14\u001b[0;31m         \u001b[0mjobs_DE_out\u001b[0m \u001b[0;34m=\u001b[0m \u001b[0mparallel_pool\u001b[0m\u001b[0;34m(\u001b[0m\u001b[0mjobs_DE\u001b[0m\u001b[0;34m)\u001b[0m\u001b[0;34m\u001b[0m\u001b[0;34m\u001b[0m\u001b[0m\n\u001b[0m\u001b[1;32m     15\u001b[0m     \u001b[0mfilter_membership_CD\u001b[0m \u001b[0;34m=\u001b[0m \u001b[0mpd\u001b[0m\u001b[0;34m.\u001b[0m\u001b[0mconcat\u001b[0m\u001b[0;34m(\u001b[0m\u001b[0mjobs_CD_out\u001b[0m\u001b[0;34m,\u001b[0m \u001b[0maxis\u001b[0m\u001b[0;34m=\u001b[0m\u001b[0;36m1\u001b[0m\u001b[0;34m)\u001b[0m\u001b[0;34m\u001b[0m\u001b[0;34m\u001b[0m\u001b[0m\n\u001b[1;32m     16\u001b[0m     \u001b[0mfilter_membership_DE\u001b[0m \u001b[0;34m=\u001b[0m \u001b[0mpd\u001b[0m\u001b[0;34m.\u001b[0m\u001b[0mconcat\u001b[0m\u001b[0;34m(\u001b[0m\u001b[0mjobs_DE_out\u001b[0m\u001b[0;34m,\u001b[0m \u001b[0maxis\u001b[0m\u001b[0;34m=\u001b[0m\u001b[0;36m1\u001b[0m\u001b[0;34m)\u001b[0m\u001b[0;34m\u001b[0m\u001b[0;34m\u001b[0m\u001b[0m\n",
      "\u001b[0;32m~/anaconda3/lib/python3.8/site-packages/joblib/parallel.py\u001b[0m in \u001b[0;36m__call__\u001b[0;34m(self, iterable)\u001b[0m\n\u001b[1;32m   1040\u001b[0m \u001b[0;34m\u001b[0m\u001b[0m\n\u001b[1;32m   1041\u001b[0m             \u001b[0;32mwith\u001b[0m \u001b[0mself\u001b[0m\u001b[0;34m.\u001b[0m\u001b[0m_backend\u001b[0m\u001b[0;34m.\u001b[0m\u001b[0mretrieval_context\u001b[0m\u001b[0;34m(\u001b[0m\u001b[0;34m)\u001b[0m\u001b[0;34m:\u001b[0m\u001b[0;34m\u001b[0m\u001b[0;34m\u001b[0m\u001b[0m\n\u001b[0;32m-> 1042\u001b[0;31m                 \u001b[0mself\u001b[0m\u001b[0;34m.\u001b[0m\u001b[0mretrieve\u001b[0m\u001b[0;34m(\u001b[0m\u001b[0;34m)\u001b[0m\u001b[0;34m\u001b[0m\u001b[0;34m\u001b[0m\u001b[0m\n\u001b[0m\u001b[1;32m   1043\u001b[0m             \u001b[0;31m# Make sure that we get a last message telling us we are done\u001b[0m\u001b[0;34m\u001b[0m\u001b[0;34m\u001b[0m\u001b[0;34m\u001b[0m\u001b[0m\n\u001b[1;32m   1044\u001b[0m             \u001b[0melapsed_time\u001b[0m \u001b[0;34m=\u001b[0m \u001b[0mtime\u001b[0m\u001b[0;34m.\u001b[0m\u001b[0mtime\u001b[0m\u001b[0;34m(\u001b[0m\u001b[0;34m)\u001b[0m \u001b[0;34m-\u001b[0m \u001b[0mself\u001b[0m\u001b[0;34m.\u001b[0m\u001b[0m_start_time\u001b[0m\u001b[0;34m\u001b[0m\u001b[0;34m\u001b[0m\u001b[0m\n",
      "\u001b[0;32m~/anaconda3/lib/python3.8/site-packages/joblib/parallel.py\u001b[0m in \u001b[0;36mretrieve\u001b[0;34m(self)\u001b[0m\n\u001b[1;32m    919\u001b[0m             \u001b[0;32mtry\u001b[0m\u001b[0;34m:\u001b[0m\u001b[0;34m\u001b[0m\u001b[0;34m\u001b[0m\u001b[0m\n\u001b[1;32m    920\u001b[0m                 \u001b[0;32mif\u001b[0m \u001b[0mgetattr\u001b[0m\u001b[0;34m(\u001b[0m\u001b[0mself\u001b[0m\u001b[0;34m.\u001b[0m\u001b[0m_backend\u001b[0m\u001b[0;34m,\u001b[0m \u001b[0;34m'supports_timeout'\u001b[0m\u001b[0;34m,\u001b[0m \u001b[0;32mFalse\u001b[0m\u001b[0;34m)\u001b[0m\u001b[0;34m:\u001b[0m\u001b[0;34m\u001b[0m\u001b[0;34m\u001b[0m\u001b[0m\n\u001b[0;32m--> 921\u001b[0;31m                     \u001b[0mself\u001b[0m\u001b[0;34m.\u001b[0m\u001b[0m_output\u001b[0m\u001b[0;34m.\u001b[0m\u001b[0mextend\u001b[0m\u001b[0;34m(\u001b[0m\u001b[0mjob\u001b[0m\u001b[0;34m.\u001b[0m\u001b[0mget\u001b[0m\u001b[0;34m(\u001b[0m\u001b[0mtimeout\u001b[0m\u001b[0;34m=\u001b[0m\u001b[0mself\u001b[0m\u001b[0;34m.\u001b[0m\u001b[0mtimeout\u001b[0m\u001b[0;34m)\u001b[0m\u001b[0;34m)\u001b[0m\u001b[0;34m\u001b[0m\u001b[0;34m\u001b[0m\u001b[0m\n\u001b[0m\u001b[1;32m    922\u001b[0m                 \u001b[0;32melse\u001b[0m\u001b[0;34m:\u001b[0m\u001b[0;34m\u001b[0m\u001b[0;34m\u001b[0m\u001b[0m\n\u001b[1;32m    923\u001b[0m                     \u001b[0mself\u001b[0m\u001b[0;34m.\u001b[0m\u001b[0m_output\u001b[0m\u001b[0;34m.\u001b[0m\u001b[0mextend\u001b[0m\u001b[0;34m(\u001b[0m\u001b[0mjob\u001b[0m\u001b[0;34m.\u001b[0m\u001b[0mget\u001b[0m\u001b[0;34m(\u001b[0m\u001b[0;34m)\u001b[0m\u001b[0;34m)\u001b[0m\u001b[0;34m\u001b[0m\u001b[0;34m\u001b[0m\u001b[0m\n",
      "\u001b[0;32m~/anaconda3/lib/python3.8/site-packages/joblib/_parallel_backends.py\u001b[0m in \u001b[0;36mwrap_future_result\u001b[0;34m(future, timeout)\u001b[0m\n\u001b[1;32m    540\u001b[0m         AsyncResults.get from multiprocessing.\"\"\"\n\u001b[1;32m    541\u001b[0m         \u001b[0;32mtry\u001b[0m\u001b[0;34m:\u001b[0m\u001b[0;34m\u001b[0m\u001b[0;34m\u001b[0m\u001b[0m\n\u001b[0;32m--> 542\u001b[0;31m             \u001b[0;32mreturn\u001b[0m \u001b[0mfuture\u001b[0m\u001b[0;34m.\u001b[0m\u001b[0mresult\u001b[0m\u001b[0;34m(\u001b[0m\u001b[0mtimeout\u001b[0m\u001b[0;34m=\u001b[0m\u001b[0mtimeout\u001b[0m\u001b[0;34m)\u001b[0m\u001b[0;34m\u001b[0m\u001b[0;34m\u001b[0m\u001b[0m\n\u001b[0m\u001b[1;32m    543\u001b[0m         \u001b[0;32mexcept\u001b[0m \u001b[0mCfTimeoutError\u001b[0m \u001b[0;32mas\u001b[0m \u001b[0me\u001b[0m\u001b[0;34m:\u001b[0m\u001b[0;34m\u001b[0m\u001b[0;34m\u001b[0m\u001b[0m\n\u001b[1;32m    544\u001b[0m             \u001b[0;32mraise\u001b[0m \u001b[0mTimeoutError\u001b[0m \u001b[0;32mfrom\u001b[0m \u001b[0me\u001b[0m\u001b[0;34m\u001b[0m\u001b[0;34m\u001b[0m\u001b[0m\n",
      "\u001b[0;32m~/anaconda3/lib/python3.8/concurrent/futures/_base.py\u001b[0m in \u001b[0;36mresult\u001b[0;34m(self, timeout)\u001b[0m\n\u001b[1;32m    432\u001b[0m                 \u001b[0;32mreturn\u001b[0m \u001b[0mself\u001b[0m\u001b[0;34m.\u001b[0m\u001b[0m__get_result\u001b[0m\u001b[0;34m(\u001b[0m\u001b[0;34m)\u001b[0m\u001b[0;34m\u001b[0m\u001b[0;34m\u001b[0m\u001b[0m\n\u001b[1;32m    433\u001b[0m \u001b[0;34m\u001b[0m\u001b[0m\n\u001b[0;32m--> 434\u001b[0;31m             \u001b[0mself\u001b[0m\u001b[0;34m.\u001b[0m\u001b[0m_condition\u001b[0m\u001b[0;34m.\u001b[0m\u001b[0mwait\u001b[0m\u001b[0;34m(\u001b[0m\u001b[0mtimeout\u001b[0m\u001b[0;34m)\u001b[0m\u001b[0;34m\u001b[0m\u001b[0;34m\u001b[0m\u001b[0m\n\u001b[0m\u001b[1;32m    435\u001b[0m \u001b[0;34m\u001b[0m\u001b[0m\n\u001b[1;32m    436\u001b[0m             \u001b[0;32mif\u001b[0m \u001b[0mself\u001b[0m\u001b[0;34m.\u001b[0m\u001b[0m_state\u001b[0m \u001b[0;32min\u001b[0m \u001b[0;34m[\u001b[0m\u001b[0mCANCELLED\u001b[0m\u001b[0;34m,\u001b[0m \u001b[0mCANCELLED_AND_NOTIFIED\u001b[0m\u001b[0;34m]\u001b[0m\u001b[0;34m:\u001b[0m\u001b[0;34m\u001b[0m\u001b[0;34m\u001b[0m\u001b[0m\n",
      "\u001b[0;32m~/anaconda3/lib/python3.8/threading.py\u001b[0m in \u001b[0;36mwait\u001b[0;34m(self, timeout)\u001b[0m\n\u001b[1;32m    300\u001b[0m         \u001b[0;32mtry\u001b[0m\u001b[0;34m:\u001b[0m    \u001b[0;31m# restore state no matter what (e.g., KeyboardInterrupt)\u001b[0m\u001b[0;34m\u001b[0m\u001b[0;34m\u001b[0m\u001b[0m\n\u001b[1;32m    301\u001b[0m             \u001b[0;32mif\u001b[0m \u001b[0mtimeout\u001b[0m \u001b[0;32mis\u001b[0m \u001b[0;32mNone\u001b[0m\u001b[0;34m:\u001b[0m\u001b[0;34m\u001b[0m\u001b[0;34m\u001b[0m\u001b[0m\n\u001b[0;32m--> 302\u001b[0;31m                 \u001b[0mwaiter\u001b[0m\u001b[0;34m.\u001b[0m\u001b[0macquire\u001b[0m\u001b[0;34m(\u001b[0m\u001b[0;34m)\u001b[0m\u001b[0;34m\u001b[0m\u001b[0;34m\u001b[0m\u001b[0m\n\u001b[0m\u001b[1;32m    303\u001b[0m                 \u001b[0mgotit\u001b[0m \u001b[0;34m=\u001b[0m \u001b[0;32mTrue\u001b[0m\u001b[0;34m\u001b[0m\u001b[0;34m\u001b[0m\u001b[0m\n\u001b[1;32m    304\u001b[0m             \u001b[0;32melse\u001b[0m\u001b[0;34m:\u001b[0m\u001b[0;34m\u001b[0m\u001b[0;34m\u001b[0m\u001b[0m\n",
      "\u001b[0;31mKeyboardInterrupt\u001b[0m: "
     ]
    }
   ],
   "source": [
    "output_dir = project_dir + f'Output/jitter/coupling_filter/CD_DE_condition21_joint_fit_fixed_portion_kernel80ms_11272021_1356/'\n",
    "\n",
    "for itr in range(0, 30):\n",
    "    jobs_CD, jobs_DE = [], []\n",
    "    for trial_id in selected_trial_ids:\n",
    "        job1 = delayed(model.update_filter_membership)(spike_times, trial_window, group_portion, group_model_pars, \n",
    "                                                       filter_membership_CD, [trial_id], parallel=True)\n",
    "        job2 = delayed(model.update_filter_membership)(spike_times, trial_window, group_portion, group_model_pars, \n",
    "                                                       filter_membership_DE, [trial_id], parallel=True)\n",
    "        jobs_CD.append(job1)\n",
    "        jobs_DE.append(job2)\n",
    "    with Parallel(n_jobs=num_paral_jobs, verbose=1) as parallel_pool:\n",
    "        jobs_CD_out = parallel_pool(jobs_CD)\n",
    "        jobs_DE_out = parallel_pool(jobs_DE)\n",
    "    filter_membership_CD = pd.concat(jobs_CD_out, axis=1)\n",
    "    filter_membership_DE = pd.concat(jobs_DE_out, axis=1)\n",
    "    model.filter_membership_statistics(filter_membership_CD)\n",
    "    model.filter_membership_statistics(filter_membership_DE)\n",
    "    file_path = output_dir + f'filter_membership_CD_itr{itr}_{time.strftime(\"%Y%m%d_%H%M%S\")}.pkl'\n",
    "    util.save_variable(file_path, filter_membership_CD)\n",
    "    file_path = output_dir + f'filter_membership_DE_itr{itr}_{time.strftime(\"%Y%m%d_%H%M%S\")}.pkl'\n",
    "    util.save_variable(file_path, filter_membership_DE)\n",
    "\n",
    "    filter_membership_joint = filter_membership_CD.append(filter_membership_DE)\n",
    "\n",
    "#     group_portion = model.update_membership_portion(5, filter_membership_joint)\n",
    "    file_path = output_dir + f'group_portion_itr{itr}_{time.strftime(\"%Y%m%d_%H%M%S\")}.pkl'\n",
    "    util.save_variable(file_path, group_portion)\n",
    "\n",
    "    group_model_pars = model.update_cluster_filter_joint_trail(filter_membership_joint, verbose=True)\n",
    "    model.plot_multiple_filters(group_model_pars, ylim=[-7, 20], num_rows_cols=[1,5])\n",
    "    file_path = output_dir + f'group_model_pars_joint_itr{itr}_{time.strftime(\"%Y%m%d_%H%M%S\")}.pkl'\n",
    "    util.save_variable(file_path, group_model_pars)"
   ]
  },
  {
   "cell_type": "code",
   "execution_count": null,
   "metadata": {},
   "outputs": [],
   "source": []
  },
  {
   "cell_type": "code",
   "execution_count": null,
   "metadata": {},
   "outputs": [],
   "source": []
  },
  {
   "cell_type": "code",
   "execution_count": null,
   "metadata": {},
   "outputs": [],
   "source": []
  }
 ],
 "metadata": {
  "kernelspec": {
   "display_name": "Python 3",
   "language": "python",
   "name": "python3"
  },
  "nbdime-conflicts": {
   "local_diff": [
    {
     "key": "kernelspec",
     "op": "add",
     "value": {
      "display_name": "allensdk",
      "language": "python",
      "name": "allensdk"
     }
    },
    {
     "key": "language_info",
     "op": "add",
     "value": {
      "codemirror_mode": {
       "name": "ipython",
       "version": 3
      },
      "file_extension": ".py",
      "mimetype": "text/x-python",
      "name": "python",
      "nbconvert_exporter": "python",
      "pygments_lexer": "ipython3",
      "version": "3.6.8"
     }
    }
   ],
   "remote_diff": [
    {
     "key": "kernelspec",
     "op": "add",
     "value": {
      "display_name": "py37",
      "language": "python",
      "name": "py37"
     }
    },
    {
     "key": "language_info",
     "op": "add",
     "value": {
      "codemirror_mode": {
       "name": "ipython",
       "version": 3
      },
      "file_extension": ".py",
      "mimetype": "text/x-python",
      "name": "python",
      "nbconvert_exporter": "python",
      "pygments_lexer": "ipython3",
      "version": "3.7.3"
     }
    }
   ]
  }
 },
 "nbformat": 4,
 "nbformat_minor": 2
}
