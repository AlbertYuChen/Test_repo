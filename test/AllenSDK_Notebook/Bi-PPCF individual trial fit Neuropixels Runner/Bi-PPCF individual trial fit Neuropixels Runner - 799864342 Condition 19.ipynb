{
 "cells": [
  {
   "cell_type": "code",
   "execution_count": 1,
   "metadata": {
    "scrolled": true
   },
   "outputs": [
    {
     "data": {
      "text/html": [
       "<style>.container { width:75% !important; }</style>"
      ],
      "text/plain": [
       "<IPython.core.display.HTML object>"
      ]
     },
     "metadata": {},
     "output_type": "display_data"
    }
   ],
   "source": [
    "%load_ext autoreload\n",
    "%autoreload 2\n",
    "\n",
    "from IPython.core.display import display, HTML\n",
    "display(HTML(\"<style>.container { width:75% !important; }</style>\"))\n",
    "import numpy as np; np.set_printoptions(linewidth=110);\n",
    "import pandas as pd\n",
    "# tell pandas to show all columns when we display a DataFrame\n",
    "pd.set_option(\"display.max_columns\", None)\n",
    "\n",
    "# first we need a bit of import boilerplate\n",
    "import os\n",
    "import sys\n",
    "from sys import platform\n",
    "if platform == 'win32':\n",
    "    sys.path.append('D:/Brain_Network/Code/')\n",
    "    manifest_path = 'D:/Brain_Network/Data/Allen_Institute_Dataset/manifest.json'\n",
    "    project_dir = 'D:/Brain_Network/'\n",
    "    num_paral_jobs = 8\n",
    "elif platform =='darwin':\n",
    "    sys.path.append('/Users/chenyu/Workspace/Brain_Network/Code/')\n",
    "    manifest_path = '/Users/chenyu/Workspace/Brain_Network/Data/Allen_Institute_Dataset/manifest.json'\n",
    "    project_dir = '/Users/chenyu/Workspace/Brain_Network/'\n",
    "elif platform == 'linux':\n",
    "    sys.path.append('/home/yuchen/workspace/Brain_Network/Code/')\n",
    "    manifest_path = '/home/yuchen/workspace/Brain_Network/Data/Allen_Institute_Dataset/manifest.json'\n",
    "    project_dir = '/home/yuchen/workspace/Brain_Network/'\n",
    "    num_paral_jobs = 12\n",
    "else:\n",
    "    print('Add new computer system settings.')\n",
    "\n",
    "import matplotlib.pyplot as plt\n",
    "import networkx as nx\n",
    "import seaborn\n",
    "import scipy\n",
    "import scipy.io as sio\n",
    "from scipy.ndimage.filters import gaussian_filter\n",
    "import seaborn\n",
    "from tqdm import tqdm\n",
    "from tqdm.notebook import trange\n",
    "import time\n",
    "import joblib\n",
    "from joblib import Parallel, delayed\n",
    "\n",
    "from allensdk.brain_observatory.ecephys.ecephys_project_cache import EcephysProjectCache\n",
    "from allensdk.brain_observatory.ecephys.ecephys_session import EcephysSession\n",
    "\n",
    "import data_visualizer\n",
    "import data_model\n",
    "import fine_time_coupling_model\n",
    "import smoothing_spline\n",
    "import util\n",
    "import hierarchical_sampling_model\n",
    "import hierarchical_model_generator\n",
    "import jitter\n"
   ]
  },
  {
   "cell_type": "code",
   "execution_count": 2,
   "metadata": {},
   "outputs": [
    {
     "name": "stdout",
     "output_type": "stream",
     "text": [
      "allensdk 2.3.1\n",
      "pandas 1.2.4\n",
      "h5py 2.10.0\n",
      "pynwb 1.4.0\n",
      "hdmf 2.2.0\n",
      "matplotlib 3.4.2\n"
     ]
    }
   ],
   "source": [
    "import allensdk\n",
    "import pandas\n",
    "import h5py\n",
    "import pynwb\n",
    "import hdmf\n",
    "import matplotlib\n",
    "print('allensdk', allensdk.__version__)\n",
    "print('pandas', pandas.__version__)\n",
    "print('h5py', h5py.__version__)\n",
    "print('pynwb', pynwb.__version__)\n",
    "print('hdmf', hdmf.__version__)\n",
    "print('matplotlib', matplotlib.__version__)"
   ]
  },
  {
   "cell_type": "markdown",
   "metadata": {},
   "source": [
    "# Neuropixels data."
   ]
  },
  {
   "cell_type": "code",
   "execution_count": 3,
   "metadata": {
    "scrolled": true
   },
   "outputs": [
    {
     "name": "stdout",
     "output_type": "stream",
     "text": [
      "Donload time: 288000\n"
     ]
    }
   ],
   "source": [
    "cache = EcephysProjectCache.from_warehouse(manifest=manifest_path)"
   ]
  },
  {
   "cell_type": "code",
   "execution_count": 4,
   "metadata": {},
   "outputs": [],
   "source": [
    "session_id = 799864342  #  791319847 798911424  799864342\n",
    "session = cache.get_session_data(session_id)"
   ]
  },
  {
   "cell_type": "code",
   "execution_count": 5,
   "metadata": {},
   "outputs": [
    {
     "data": {
      "text/plain": [
       "probeC    75\n",
       "probeE    52\n",
       "probeD    40\n",
       "Name: probe_description, dtype: int64"
      ]
     },
     "metadata": {},
     "output_type": "display_data"
    },
    {
     "data": {
      "text/plain": [
       "167"
      ]
     },
     "metadata": {},
     "output_type": "display_data"
    }
   ],
   "source": [
    "probes = ['probeC', 'probeD', 'probeE'] # ['probeC', 'probeE']\n",
    "selected_units = session.units[\n",
    "    session.units['ecephys_structure_acronym'].isin(util.VISUAL_AREA) &\n",
    "    session.units['probe_description'].isin(probes)]\n",
    "display(selected_units['probe_description'].value_counts())\n",
    "display(selected_units['probe_description'].count())"
   ]
  },
  {
   "cell_type": "markdown",
   "metadata": {},
   "source": [
    "#### Fine Time Coupling Model"
   ]
  },
  {
   "cell_type": "code",
   "execution_count": 6,
   "metadata": {},
   "outputs": [],
   "source": [
    "model = fine_time_coupling_model.FineTimeCouplingModel(session)"
   ]
  },
  {
   "cell_type": "markdown",
   "metadata": {},
   "source": [
    "#### Trials Selection"
   ]
  },
  {
   "cell_type": "code",
   "execution_count": 7,
   "metadata": {
    "scrolled": false
   },
   "outputs": [
    {
     "name": "stdout",
     "output_type": "stream",
     "text": [
      "0  246 temp freq [4.0] orient [135.0] contrast [0.8] [ 3798  3834  3835  3895  3968 31064 31096 31097 31111 31131 31185 49262 49341 49356 49375]\n",
      "1  249 temp freq [1.0] orient [0.0] contrast [0.8] [ 3801  3822  3842  3955  3963  3971  3982 31034 31063 49250 49342 49368 49374 49407 49429]\n",
      "2  256 temp freq [15.0] orient [315.0] contrast [0.8] [ 3809  3850  3854  3891  3910  3960  3970  3974 31018 31038 31051 31106 49242 49353 49369]\n",
      "3  257 temp freq [4.0] orient [180.0] contrast [0.8] [ 3810  3857  3865  3902  3991 31016 31146 31160 31170 31184 49249 49253 49316 49333 49361]\n",
      "4  258 temp freq [2.0] orient [0.0] contrast [0.8] [ 3811  3828  3831  3875 31033 31048 31060 31075 31084 31101 31163 49219 49286 49346 49351]\n",
      "5  260 temp freq [4.0] orient [270.0] contrast [0.8] [ 3813  3879  3993 31037 31079 31081 31117 31118 31168 49243 49268 49315 49321 49388 49399]\n",
      "6  261 temp freq [4.0] orient [315.0] contrast [0.8] [ 3814  3837  3856  3881  3882  3950  3979 31093 31116 31157 49216 49222 49233 49309 49357]\n",
      "7  263 temp freq [2.0] orient [90.0] contrast [0.8] [ 3817  3862  3932  3942  3992 31008 31023 31066 31076 31140 49213 49237 49344 49367 49370]\n",
      "8  265 temp freq [8.0] orient [90.0] contrast [0.8] [ 3819  3852  3928 31004 31026 31124 31126 31137 31193 49224 49291 49327 49335 49362 49418]\n",
      "9  267 temp freq [15.0] orient [225.0] contrast [0.8] [ 3823  3888  3934  3985  3994  3997 31053 31057 31059 31150 49212 49238 49272 49320 49392]\n",
      "10  268 temp freq [8.0] orient [315.0] contrast [0.8] [ 3824  3867  3901 31044 31135 31172 31198 49205 49207 49257 49265 49395 49397 49406 49424]\n",
      "11  270 temp freq [1.0] orient [270.0] contrast [0.8] [ 3833  3913  3935  3957 31020 31091 31098 31105 31144 31148 31194 49229 49264 49293 49415]\n",
      "12  274 temp freq [4.0] orient [0.0] contrast [0.8] [ 3848  3885  3941  3951  3967 31025 31040 31082 31083 31141 49235 49239 49301 49378 49425]\n",
      "13  275 temp freq [2.0] orient [135.0] contrast [0.8] [ 3849  3863  3864  3904  3907 31052 31128 31182 31188 49208 49210 49313 49359 49379 49387]\n",
      "14  278 temp freq [2.0] orient [315.0] contrast [0.8] [ 3859  3873  3929  3964  3990 31001 31009 31178 49231 49252 49283 49332 49345 49383 49422]\n",
      "15  280 temp freq [1.0] orient [135.0] contrast [0.8] [ 3870  3887  3893  3915  3972  3981 31043 31087 31103 31179 49261 49290 49347 49364 49386]\n",
      "16  281 temp freq [2.0] orient [270.0] contrast [0.8] [ 3872  3919 31010 31017 31031 31162 31166 31196 49214 49269 49300 49305 49401 49413 49419]\n",
      "17  284 temp freq [1.0] orient [225.0] contrast [0.8] [ 3925  3944 31002 31019 31028 31036 31046 31068 31127 31177 49203 49267 49287 49319 49408]\n",
      "18  286 temp freq [8.0] orient [0.0] contrast [0.8] [ 3961  3978 31013 31049 31110 31134 31158 49218 49221 49270 49280 49288 49354 49428 49432]\n",
      "total num trials: 285\n"
     ]
    }
   ],
   "source": [
    "condition_ids = [275, 246, 268, 270, 284, 274, 249, 263, 265, 261, 286, 258, 278, 267, 280, 256, 260, 257, 281]\n",
    "# condition_ids = [247, 248, 250, 251, 252, 253, 254, 255, 259, 262, 264, 266, 269, 271, 272, 276, 277, 279, 282, 283, 285]\n",
    "stimulus_table = session.get_stimulus_table(['drifting_gratings'])\n",
    "trials_df = stimulus_table[stimulus_table['stimulus_condition_id'].isin(condition_ids)]\n",
    "all_trials_indices = trials_df.index.values\n",
    "trials_groups = trials_df.groupby('stimulus_condition_id')\n",
    "all_condition_ids = list(trials_groups.groups.keys())\n",
    "model.print_conditions(trials_groups)"
   ]
  },
  {
   "cell_type": "markdown",
   "metadata": {},
   "source": [
    "## Spike Trains"
   ]
  },
  {
   "cell_type": "code",
   "execution_count": 8,
   "metadata": {},
   "outputs": [],
   "source": [
    "trial_window = [0.4, 2.0]\n",
    "spike_times = model.get_trial_metric_per_unit_per_trial(\n",
    "        stimulus_presentation_ids=all_trials_indices,\n",
    "        unit_ids=selected_units.index.values,\n",
    "        trial_time_window=trial_window,\n",
    "        metric_type='spike_times')\n"
   ]
  },
  {
   "cell_type": "code",
   "execution_count": 9,
   "metadata": {},
   "outputs": [
    {
     "data": {
      "text/plain": [
       "(167, 285)"
      ]
     },
     "metadata": {},
     "output_type": "display_data"
    }
   ],
   "source": [
    "# display(spike_trains.shape)\n",
    "# display(spike_trains.iloc[0,0].shape)\n",
    "display(spike_times.shape)\n",
    "# display(spike_times.head())"
   ]
  },
  {
   "cell_type": "markdown",
   "metadata": {},
   "source": [
    "# Trial-wise cluster, joint-trial filter fit."
   ]
  },
  {
   "cell_type": "code",
   "execution_count": 10,
   "metadata": {},
   "outputs": [
    {
     "name": "stdout",
     "output_type": "stream",
     "text": [
      "conditions: [(0, 246), (1, 249), (2, 256), (3, 257), (4, 258), (5, 260), (6, 261), (7, 263), (8, 265), (9, 267), (10, 268), (11, 270), (12, 274), (13, 275), (14, 278), (15, 280), (16, 281), (17, 284), (18, 286)]\n"
     ]
    }
   ],
   "source": [
    "model = fine_time_coupling_model.FineTimeCouplingModel(session)\n",
    "model.initial_step(None, spike_times, selected_units, trials_groups, trial_window,\n",
    "                   probes=['probeC', 'probeD', 'probeE'], num_areas=3, verbose=False)"
   ]
  },
  {
   "cell_type": "code",
   "execution_count": 11,
   "metadata": {},
   "outputs": [
    {
     "name": "stdout",
     "output_type": "stream",
     "text": [
      "[ 3798  3801  3809  3810  3811  3813  3814  3817  3819  3822  3823  3824  3828  3831  3833  3834  3835  3837\n",
      "  3842  3848  3849  3850  3852  3854  3856  3857  3859  3862  3863  3864  3865  3867  3870  3872  3873  3875\n",
      "  3879  3881  3882  3885  3887  3888  3891  3893  3895  3901  3902  3904  3907  3910  3913  3915  3919  3925\n",
      "  3928  3929  3932  3934  3935  3941  3942  3944  3950  3951  3955  3957  3960  3961  3963  3964  3967  3968\n",
      "  3970  3971  3972  3974  3978  3979  3981  3982  3985  3990  3991  3992  3993  3994  3997 31001 31002 31004\n",
      " 31008 31009 31010 31013 31016 31017 31018 31019 31020 31023 31025 31026 31028 31031 31033 31034 31036 31037\n",
      " 31038 31040 31043 31044 31046 31048 31049 31051 31052 31053 31057 31059 31060 31063 31064 31066 31068 31075\n",
      " 31076 31079 31081 31082 31083 31084 31087 31091 31093 31096 31097 31098 31101 31103 31105 31106 31110 31111\n",
      " 31116 31117 31118 31124 31126 31127 31128 31131 31134 31135 31137 31140 31141 31144 31146 31148 31150 31157\n",
      " 31158 31160 31162 31163 31166 31168 31170 31172 31177 31178 31179 31182 31184 31185 31188 31193 31194 31196\n",
      " 31198 49203 49205 49207 49208 49210 49212 49213 49214 49216 49218 49219 49221 49222 49224 49229 49231 49233\n",
      " 49235 49237 49238 49239 49242 49243 49249 49250 49252 49253 49257 49261 49262 49264 49265 49267 49268 49269\n",
      " 49270 49272 49280 49283 49286 49287 49288 49290 49291 49293 49300 49301 49305 49309 49313 49315 49316 49319\n",
      " 49320 49321 49327 49332 49333 49335 49341 49342 49344 49345 49346 49347 49351 49353 49354 49356 49357 49359\n",
      " 49361 49362 49364 49367 49368 49369 49370 49374 49375 49378 49379 49383 49386 49387 49388 49392 49395 49397\n",
      " 49399 49401 49406 49407 49408 49413 49415 49418 49419 49422 49424 49425 49428 49429 49432]\n"
     ]
    }
   ],
   "source": [
    "select_condition_ids = [275, 246, 268, 270, 284, 274, 249, 263, 265, 261, 286, 258, 278, 267, 280, 256, 260, 257, 281]\n",
    "# select_condition_ids = [247, 248, 250, 251, 252, 253, 254, 255, 259, 262, 264, 266, 269, 271, 272, 276, 277, 279, 282, 283, 285]\n",
    "stimulus_table = session.get_stimulus_table(['drifting_gratings'])\n",
    "trials_df = stimulus_table[stimulus_table['stimulus_condition_id'].isin(select_condition_ids)]\n",
    "selected_trial_ids = trials_df.index.values\n",
    "print(selected_trial_ids)"
   ]
  },
  {
   "cell_type": "code",
   "execution_count": 12,
   "metadata": {},
   "outputs": [
    {
     "name": "stderr",
     "output_type": "stream",
     "text": [
      "/home/yuchen/anaconda3/lib/python3.8/site-packages/seaborn/distributions.py:2557: FutureWarning: `distplot` is a deprecated function and will be removed in a future version. Please adapt your code to use either `displot` (a figure-level function with similar flexibility) or `histplot` (an axes-level function for histograms).\n",
      "  warnings.warn(msg, FutureWarning)\n",
      "/home/yuchen/anaconda3/lib/python3.8/site-packages/seaborn/distributions.py:2557: FutureWarning: `distplot` is a deprecated function and will be removed in a future version. Please adapt your code to use either `displot` (a figure-level function with similar flexibility) or `histplot` (an axes-level function for histograms).\n",
      "  warnings.warn(msg, FutureWarning)\n",
      "/home/yuchen/anaconda3/lib/python3.8/site-packages/seaborn/distributions.py:2557: FutureWarning: `distplot` is a deprecated function and will be removed in a future version. Please adapt your code to use either `displot` (a figure-level function with similar flexibility) or `histplot` (an axes-level function for histograms).\n",
      "  warnings.warn(msg, FutureWarning)\n"
     ]
    },
    {
     "data": {
      "image/png": "[encoded data removed]",
      "text/plain": [
       "<Figure size 1080x144 with 3 Axes>"
      ]
     },
     "metadata": {
      "needs_background": "light"
     },
     "output_type": "display_data"
    },
    {
     "name": "stdout",
     "output_type": "stream",
     "text": [
      "num_pairs: 364\n",
      "num_pairs: 252\n",
      "filter_membership.shape (364, 285)\n",
      "membership cnt [(0, 103740)]\n",
      "filter_membership.shape (252, 285)\n",
      "membership cnt [(0, 71820)]\n",
      "filter_membership.shape (616, 285)\n",
      "membership cnt [(0, 175560)]\n"
     ]
    },
    {
     "data": {
      "image/png": "[encoded data removed]",
      "text/plain": [
       "<Figure size 1260x144 with 5 Axes>"
      ]
     },
     "metadata": {
      "needs_background": "light"
     },
     "output_type": "display_data"
    }
   ],
   "source": [
    "active_firing_rate_quantile_threshold = 0.65\n",
    "active_units = model.get_active_units(active_firing_rate_quantile_threshold, group_type='probe', verbose=True)\n",
    "\n",
    "probe_pairs = [('probeC', 'probeD')]\n",
    "neuron_pairs = model.construct_unit_pairs(active_units, pair_type='between_probe', probe_pairs=probe_pairs, verbose=True)\n",
    "filter_membership_CD = model.init_filter_membership(neuron_pairs, trial_ids=selected_trial_ids)\n",
    "\n",
    "probe_pairs = [('probeD', 'probeE')]\n",
    "neuron_pairs = model.construct_unit_pairs(active_units, pair_type='between_probe', probe_pairs=probe_pairs, verbose=True)\n",
    "filter_membership_DE = model.init_filter_membership(neuron_pairs, trial_ids=selected_trial_ids)\n",
    "\n",
    "# file_path = project_dir + 'Output/jitter/coupling_filter/CD_DE_condition19_joint_fit2/filter_membership_CD_itr149_20210523-070711.pkl'\n",
    "# filter_membership_CD = util.load_variable(file_path)\n",
    "# file_path = project_dir + 'Output/jitter/coupling_filter/CD_DE_condition19_joint_fit2/filter_membership_DE_itr149_20210523-070711.pkl'\n",
    "# filter_membership_DE = util.load_variable(file_path)\n",
    "filter_membership_joint = filter_membership_CD.append(filter_membership_DE)\n",
    "model.filter_membership_statistics(filter_membership_CD, verbose=True)\n",
    "model.filter_membership_statistics(filter_membership_DE, verbose=True)\n",
    "model.filter_membership_statistics(filter_membership_joint, verbose=True)\n",
    "group_portion = np.array([0.2, 0.2, 0.2, 0.2, 0.2])\n",
    "\n",
    "file_path = project_dir + 'Output/jitter/coupling_filter/CD_DE_condition19_joint_fit2/group_model_pars_joint_itr149_20210523-071613.pkl'\n",
    "group_model_pars = util.load_variable(file_path)\n",
    "group_model_pars[2]['beta'][2] = -3  # TMP manual modification.\n",
    "model.plot_multiple_filters(group_model_pars, ylim=[-7, 20], num_rows_cols=[1,5])"
   ]
  },
  {
   "cell_type": "markdown",
   "metadata": {},
   "source": [
    "#### Estimate optimal kernel width (plug-in estimator)"
   ]
  },
  {
   "cell_type": "code",
   "execution_count": 13,
   "metadata": {},
   "outputs": [
    {
     "name": "stdout",
     "output_type": "stream",
     "text": [
      "#all trials:175560\t#batch trials:2000\n",
      "optimal kernel width  55.0\n"
     ]
    },
    {
     "data": {
      "image/png": "[encoded data removed]",
      "text/plain": [
       "<Figure size 432x144 with 1 Axes>"
      ]
     },
     "metadata": {
      "needs_background": "light"
     },
     "output_type": "display_data"
    }
   ],
   "source": [
    "model.estimate_nuisance_kernel_width_together(filter_membership_joint, batch_size=2000)"
   ]
  },
  {
   "cell_type": "markdown",
   "metadata": {},
   "source": [
    "### Parallel programming."
   ]
  },
  {
   "cell_type": "code",
   "execution_count": 35,
   "metadata": {
    "scrolled": true
   },
   "outputs": [
    {
     "name": "stderr",
     "output_type": "stream",
     "text": [
      "[Parallel(n_jobs=12)]: Using backend LokyBackend with 12 concurrent workers.\n",
      "[Parallel(n_jobs=12)]: Done  26 tasks      | elapsed:   30.5s\n",
      "[Parallel(n_jobs=12)]: Done 176 tasks      | elapsed:  2.8min\n",
      "[Parallel(n_jobs=12)]: Done 300 out of 300 | elapsed:  4.8min finished\n",
      "[Parallel(n_jobs=12)]: Using backend LokyBackend with 12 concurrent workers.\n",
      "[Parallel(n_jobs=12)]: Done  26 tasks      | elapsed:   17.9s\n",
      "[Parallel(n_jobs=12)]: Done 176 tasks      | elapsed:  1.8min\n",
      "[Parallel(n_jobs=12)]: Done 300 out of 300 | elapsed:  3.1min finished\n"
     ]
    },
    {
     "name": "stdout",
     "output_type": "stream",
     "text": [
      "filter_membership.shape (660, 300)\n",
      "membership cnt [(0, 38618), (1, 41085), (2, 51461), (3, 36730), (4, 30106)]\n",
      "filter_membership.shape (300, 300)\n",
      "membership cnt [(0, 12860), (1, 19089), (2, 22371), (3, 18956), (4, 16724)]\n",
      "util.save_variable, save variable to:  /home/yuchen/workspace/Brain_Network/Output/jitter/coupling_filter/session791319847_CD_DE_condition19_joint_fit_fixed_portion_kernel70ms_11272021_2248/filter_membership_CD_itr0_20211128_043459.pkl\n",
      "util.save_variable, save variable to:  /home/yuchen/workspace/Brain_Network/Output/jitter/coupling_filter/session791319847_CD_DE_condition19_joint_fit_fixed_portion_kernel70ms_11272021_2248/filter_membership_DE_itr0_20211128_043459.pkl\n",
      "util.save_variable, save variable to:  /home/yuchen/workspace/Brain_Network/Output/jitter/coupling_filter/session791319847_CD_DE_condition19_joint_fit_fixed_portion_kernel70ms_11272021_2248/group_portion_itr0_20211128_043459.pkl\n",
      "filter_membership.shape (960, 300)\n",
      "#all trials:60174\t#batch trials:60174\n",
      "X.shape (1128625, 3), basis_integral.shape (3, 1),beta.shape(3, 1)\n",
      " 28%|█████████████████▊                                             | 17/60 [00:01<00:04,  9.15it/s]\n",
      "num itr 17 [[-1672169.57342275]] 9.266798826734757e-06\n",
      "beta [11.72242863 -0.15555903  3.86424282]\n",
      "gradient [-0.04794522 -0.70154441 -0.05212011]\n",
      "Finish 1.\n",
      "#all trials:73832\t#batch trials:73832\n",
      "X.shape (1255735, 3), basis_integral.shape (3, 1),beta.shape(3, 1)\n",
      " 27%|████████████████▊                                              | 16/60 [00:01<00:05,  8.47it/s]\n",
      "num itr 16 [[-1735391.06354501]] 7.727880366931172e-06\n",
      "beta [10.62951591  0.24411372 -2.72760385]\n",
      "gradient [ -0.5907367  -27.68728083  -4.39147331]\n",
      "Finish 2.\n",
      "#all trials:55686\t#batch trials:55686\n",
      "X.shape (1174350, 11), basis_integral.shape (11, 1),beta.shape(11, 1)\n",
      "100%|███████████████████████████████████████████████████████████████| 60/60 [00:09<00:00,  6.12it/s]\n",
      "num itr 59 [[-1876988.42186906]] 0.012591279155016162\n",
      "beta [ 1.31024092e+01  1.21250466e-02  4.90438774e-01 -1.22389228e+01  2.75580021e+01 -1.71301496e+01\n",
      "  1.25525517e+01 -5.11556992e+00 -2.58820887e+00  1.55135835e+00 -2.29240307e+00]\n",
      "gradient [-4.49242809 -8.26234421 -0.38612108 -1.36840969 -2.41581133 -1.12210418 -1.51225446 -0.85260145  0.48728319\n",
      "  0.01900469 -0.98129882]\n",
      "Finish 3.\n"
     ]
    },
    {
     "name": "stderr",
     "output_type": "stream",
     "text": [
      "/home/yuchen/workspace/Brain_Network/Code/jitter.py:4090: UserWarning: Reach max itrs 60. Last err:1.259e-02\n",
      "  warnings.warn(f'Reach max itrs {max_num_itrs}. Last err:{beta_err:.3e}')\n"
     ]
    },
    {
     "name": "stdout",
     "output_type": "stream",
     "text": [
      "#all trials:46830\t#batch trials:46830\n",
      "X.shape (1104972, 11), basis_integral.shape (11, 1),beta.shape(11, 1)\n",
      "100%|███████████████████████████████████████████████████████████████| 60/60 [00:09<00:00,  6.38it/s]\n",
      "num itr 59 [[-1893200.11749249]] 0.013912610997318366\n",
      "beta [ 1.45105009e+01 -1.99497766e-02  1.34972018e+01  2.07563818e+01 -2.04248866e+01  1.97743072e+01\n",
      " -8.61064071e+00  1.15006575e+00 -2.10290434e+00 -1.29257073e-01 -3.73448191e+00]\n",
      "gradient [-3.09864289 66.81877086 -1.51568267 -1.48931029 -0.46205651 -1.6457972  -0.49083416  0.820907    0.97240012\n",
      "  0.55671236  0.4944598 ]\n",
      "Finish 4.\n"
     ]
    },
    {
     "name": "stderr",
     "output_type": "stream",
     "text": [
      "/home/yuchen/workspace/Brain_Network/Code/jitter.py:4090: UserWarning: Reach max itrs 60. Last err:1.391e-02\n",
      "  warnings.warn(f'Reach max itrs {max_num_itrs}. Last err:{beta_err:.3e}')\n"
     ]
    },
    {
     "data": {
      "image/png": "[encoded data removed]",
      "text/plain": [
       "<Figure size 1260x144 with 5 Axes>"
      ]
     },
     "metadata": {
      "needs_background": "light"
     },
     "output_type": "display_data"
    },
    {
     "name": "stdout",
     "output_type": "stream",
     "text": [
      "util.save_variable, save variable to:  /home/yuchen/workspace/Brain_Network/Output/jitter/coupling_filter/session791319847_CD_DE_condition19_joint_fit_fixed_portion_kernel70ms_11272021_2248/group_model_pars_joint_itr0_20211128_044748.pkl\n"
     ]
    },
    {
     "name": "stderr",
     "output_type": "stream",
     "text": [
      "[Parallel(n_jobs=12)]: Using backend LokyBackend with 12 concurrent workers.\n",
      "[Parallel(n_jobs=12)]: Done  26 tasks      | elapsed:   30.1s\n",
      "[Parallel(n_jobs=12)]: Done 176 tasks      | elapsed:  2.8min\n",
      "[Parallel(n_jobs=12)]: Done 300 out of 300 | elapsed:  4.8min finished\n",
      "[Parallel(n_jobs=12)]: Using backend LokyBackend with 12 concurrent workers.\n",
      "[Parallel(n_jobs=12)]: Done  26 tasks      | elapsed:   18.4s\n",
      "[Parallel(n_jobs=12)]: Done 176 tasks      | elapsed:  1.8min\n",
      "[Parallel(n_jobs=12)]: Done 300 out of 300 | elapsed:  3.1min finished\n"
     ]
    },
    {
     "name": "stdout",
     "output_type": "stream",
     "text": [
      "filter_membership.shape (660, 300)\n",
      "membership cnt [(0, 42857), (1, 42411), (2, 53055), (3, 30807), (4, 28870)]\n",
      "filter_membership.shape (300, 300)\n",
      "membership cnt [(0, 14124), (1, 19417), (2, 23417), (3, 16888), (4, 16154)]\n",
      "util.save_variable, save variable to:  /home/yuchen/workspace/Brain_Network/Output/jitter/coupling_filter/session791319847_CD_DE_condition19_joint_fit_fixed_portion_kernel70ms_11272021_2248/filter_membership_CD_itr1_20211128_045545.pkl\n",
      "util.save_variable, save variable to:  /home/yuchen/workspace/Brain_Network/Output/jitter/coupling_filter/session791319847_CD_DE_condition19_joint_fit_fixed_portion_kernel70ms_11272021_2248/filter_membership_DE_itr1_20211128_045545.pkl\n",
      "util.save_variable, save variable to:  /home/yuchen/workspace/Brain_Network/Output/jitter/coupling_filter/session791319847_CD_DE_condition19_joint_fit_fixed_portion_kernel70ms_11272021_2248/group_portion_itr1_20211128_045545.pkl\n",
      "filter_membership.shape (960, 300)\n",
      "#all trials:61828\t#batch trials:61828\n",
      "X.shape (1119592, 3), basis_integral.shape (3, 1),beta.shape(3, 1)\n",
      " 28%|█████████████████▊                                             | 17/60 [00:01<00:04,  9.39it/s]\n",
      "num itr 17 [[-1619808.33079219]] 8.462459156338697e-06\n",
      "beta [11.31739091 -0.16595815  3.65674136]\n",
      "gradient [-0.06050941 -0.68349648 -0.04468586]\n",
      "Finish 1.\n",
      "#all trials:76472\t#batch trials:76472\n",
      "X.shape (1328751, 3), basis_integral.shape (3, 1),beta.shape(3, 1)\n",
      " 27%|████████████████▊                                              | 16/60 [00:02<00:05,  7.92it/s]\n",
      "num itr 16 [[-1865670.58957106]] 5.964260247626196e-06\n",
      "beta [10.85918252  0.25017033 -2.96441999]\n",
      "gradient [-0.13757483 -0.85947333 -0.20469867]\n",
      "Finish 2.\n",
      "#all trials:47695\t#batch trials:47695\n",
      "X.shape (1101035, 11), basis_integral.shape (11, 1),beta.shape(11, 1)\n",
      "100%|███████████████████████████████████████████████████████████████| 60/60 [00:09<00:00,  6.44it/s]\n",
      "num itr 59 [[-1860810.31171943]] 0.016731123449735777\n",
      "beta [ 1.42495603e+01  5.60560908e-03  1.26236995e+00 -1.42002675e+01  3.15642902e+01 -1.91087743e+01\n",
      "  1.48266326e+01 -6.09933477e+00 -2.15113007e+00  1.01168956e+00 -2.04660567e+00]\n",
      "gradient [-4.49512121e+00 -1.47674783e+02 -9.53686954e-01 -1.44819960e+00 -2.62025684e+00 -2.48853868e+00\n",
      " -2.06791411e+00 -7.92749139e-01 -1.45815147e+00 -8.99789660e-01  7.10476575e-02]\n",
      "Finish 3.\n"
     ]
    },
    {
     "name": "stderr",
     "output_type": "stream",
     "text": [
      "/home/yuchen/workspace/Brain_Network/Code/jitter.py:4090: UserWarning: Reach max itrs 60. Last err:1.673e-02\n",
      "  warnings.warn(f'Reach max itrs {max_num_itrs}. Last err:{beta_err:.3e}')\n"
     ]
    },
    {
     "name": "stdout",
     "output_type": "stream",
     "text": [
      "#all trials:45024\t#batch trials:45024\n",
      "X.shape (1077404, 11), basis_integral.shape (11, 1),beta.shape(11, 1)\n",
      "100%|███████████████████████████████████████████████████████████████| 60/60 [00:08<00:00,  6.68it/s]\n",
      "num itr 59 [[-1861926.19220451]] 0.01681979877851396\n",
      "beta [ 1.46686570e+01 -1.87143996e-02  1.51548608e+01  2.17268781e+01 -2.14962017e+01  2.11234943e+01\n",
      " -8.69533730e+00  1.38368077e+00 -2.37935861e+00 -2.70379996e-01 -4.00135565e+00]\n",
      "gradient [-2.43023141 74.14058104 -1.58253109 -1.43277312 -0.34253462 -1.59004967 -0.12821732  0.99648703  1.08287539\n",
      "  1.03684396  0.84634004]\n",
      "Finish 4.\n"
     ]
    },
    {
     "name": "stderr",
     "output_type": "stream",
     "text": [
      "/home/yuchen/workspace/Brain_Network/Code/jitter.py:4090: UserWarning: Reach max itrs 60. Last err:1.682e-02\n",
      "  warnings.warn(f'Reach max itrs {max_num_itrs}. Last err:{beta_err:.3e}')\n"
     ]
    },
    {
     "data": {
      "image/png": "[encoded data removed]",
      "text/plain": [
       "<Figure size 1260x144 with 5 Axes>"
      ]
     },
     "metadata": {
      "needs_background": "light"
     },
     "output_type": "display_data"
    },
    {
     "name": "stdout",
     "output_type": "stream",
     "text": [
      "util.save_variable, save variable to:  /home/yuchen/workspace/Brain_Network/Output/jitter/coupling_filter/session791319847_CD_DE_condition19_joint_fit_fixed_portion_kernel70ms_11272021_2248/group_model_pars_joint_itr1_20211128_050833.pkl\n"
     ]
    },
    {
     "name": "stderr",
     "output_type": "stream",
     "text": [
      "[Parallel(n_jobs=12)]: Using backend LokyBackend with 12 concurrent workers.\n",
      "[Parallel(n_jobs=12)]: Done  26 tasks      | elapsed:   30.1s\n",
      "[Parallel(n_jobs=12)]: Done 176 tasks      | elapsed:  2.7min\n",
      "[Parallel(n_jobs=12)]: Done 300 out of 300 | elapsed:  4.8min finished\n",
      "[Parallel(n_jobs=12)]: Using backend LokyBackend with 12 concurrent workers.\n",
      "[Parallel(n_jobs=12)]: Done  26 tasks      | elapsed:   18.3s\n",
      "[Parallel(n_jobs=12)]: Done 176 tasks      | elapsed:  1.8min\n",
      "[Parallel(n_jobs=12)]: Done 300 out of 300 | elapsed:  3.1min finished\n"
     ]
    },
    {
     "name": "stdout",
     "output_type": "stream",
     "text": [
      "filter_membership.shape (660, 300)\n",
      "membership cnt [(0, 43597), (1, 41626), (2, 53902), (3, 30437), (4, 28438)]\n",
      "filter_membership.shape (300, 300)\n",
      "membership cnt [(0, 14429), (1, 19000), (2, 23666), (3, 16924), (4, 15981)]\n",
      "util.save_variable, save variable to:  /home/yuchen/workspace/Brain_Network/Output/jitter/coupling_filter/session791319847_CD_DE_condition19_joint_fit_fixed_portion_kernel70ms_11272021_2248/filter_membership_CD_itr2_20211128_051632.pkl\n",
      "util.save_variable, save variable to:  /home/yuchen/workspace/Brain_Network/Output/jitter/coupling_filter/session791319847_CD_DE_condition19_joint_fit_fixed_portion_kernel70ms_11272021_2248/filter_membership_DE_itr2_20211128_051632.pkl\n",
      "util.save_variable, save variable to:  /home/yuchen/workspace/Brain_Network/Output/jitter/coupling_filter/session791319847_CD_DE_condition19_joint_fit_fixed_portion_kernel70ms_11272021_2248/group_portion_itr2_20211128_051632.pkl\n",
      "filter_membership.shape (960, 300)\n",
      "#all trials:60626\t#batch trials:60626\n",
      "X.shape (1097488, 3), basis_integral.shape (3, 1),beta.shape(3, 1)\n",
      " 30%|██████████████████▉                                            | 18/60 [00:01<00:04,  9.53it/s]\n",
      "num itr 18 [[-1587285.26603033]] 6.403570583485285e-06\n",
      "beta [11.3139866  -0.16210003  3.67419836]\n",
      "gradient [ -0.6596623  -36.05721833   0.33287881]\n",
      "Finish 1.\n",
      "#all trials:77568\t#batch trials:77568\n",
      "X.shape (1345102, 3), basis_integral.shape (3, 1),beta.shape(3, 1)\n",
      " 27%|████████████████▊                                              | 16/60 [00:02<00:05,  7.85it/s]\n",
      "num itr 16 [[-1884752.00724319]] 6.988476378755326e-06\n",
      "beta [10.83746188  0.25045654 -2.95834087]\n",
      "gradient [-0.13691128 -2.83858104 -0.32896145]\n",
      "Finish 2.\n",
      "#all trials:47361\t#batch trials:47361\n",
      "X.shape (1096177, 11), basis_integral.shape (11, 1),beta.shape(11, 1)\n",
      "100%|███████████████████████████████████████████████████████████████| 60/60 [00:09<00:00,  6.49it/s]\n",
      "num itr 59 [[-1856384.79746193]] 0.010773547618271954\n",
      "beta [ 1.42913897e+01 -1.04510587e-03  4.49177251e-01 -1.41163998e+01  3.25557911e+01 -1.92774607e+01\n",
      "  1.50380166e+01 -5.75838439e+00 -2.66756019e+00  1.12703513e+00 -2.74904566e+00]\n",
      "gradient [-2.21492528 88.83126381  0.36792232 -0.56237604 -2.11763416 -0.16908419 -0.62975953  0.79133768  2.02996042\n",
      "  1.07868733  0.82554954]\n",
      "Finish 3.\n"
     ]
    },
    {
     "name": "stderr",
     "output_type": "stream",
     "text": [
      "/home/yuchen/workspace/Brain_Network/Code/jitter.py:4090: UserWarning: Reach max itrs 60. Last err:1.077e-02\n",
      "  warnings.warn(f'Reach max itrs {max_num_itrs}. Last err:{beta_err:.3e}')\n"
     ]
    },
    {
     "name": "stdout",
     "output_type": "stream",
     "text": [
      "#all trials:44419\t#batch trials:44419\n",
      "X.shape (1065977, 11), basis_integral.shape (11, 1),beta.shape(11, 1)\n",
      "100%|███████████████████████████████████████████████████████████████| 60/60 [00:08<00:00,  6.79it/s]\n",
      "num itr 59 [[-1845681.3068483]] 0.018835547046407594\n",
      "beta [ 1.46784286e+01 -2.11883257e-02  1.57998230e+01  2.19737145e+01 -2.18378613e+01  2.17350220e+01\n",
      " -8.58474370e+00  1.64006694e+00 -2.75078636e+00  2.59369176e-02 -4.31129695e+00]\n",
      "gradient [-2.32101444 69.50126394 -1.59067731 -1.44287006 -0.34793831 -1.67522443 -0.27664858  1.01016962  1.16502873\n",
      "  0.91946171  0.7870286 ]\n",
      "Finish 4.\n"
     ]
    },
    {
     "name": "stderr",
     "output_type": "stream",
     "text": [
      "/home/yuchen/workspace/Brain_Network/Code/jitter.py:4090: UserWarning: Reach max itrs 60. Last err:1.884e-02\n",
      "  warnings.warn(f'Reach max itrs {max_num_itrs}. Last err:{beta_err:.3e}')\n"
     ]
    },
    {
     "data": {
      "image/png": "[encoded data removed]",
      "text/plain": [
       "<Figure size 1260x144 with 5 Axes>"
      ]
     },
     "metadata": {
      "needs_background": "light"
     },
     "output_type": "display_data"
    },
    {
     "name": "stdout",
     "output_type": "stream",
     "text": [
      "util.save_variable, save variable to:  /home/yuchen/workspace/Brain_Network/Output/jitter/coupling_filter/session791319847_CD_DE_condition19_joint_fit_fixed_portion_kernel70ms_11272021_2248/group_model_pars_joint_itr2_20211128_052857.pkl\n"
     ]
    },
    {
     "name": "stderr",
     "output_type": "stream",
     "text": [
      "[Parallel(n_jobs=12)]: Using backend LokyBackend with 12 concurrent workers.\n",
      "[Parallel(n_jobs=12)]: Done  26 tasks      | elapsed:   31.8s\n",
      "[Parallel(n_jobs=12)]: Done 176 tasks      | elapsed:  2.8min\n",
      "[Parallel(n_jobs=12)]: Done 300 out of 300 | elapsed:  4.9min finished\n",
      "[Parallel(n_jobs=12)]: Using backend LokyBackend with 12 concurrent workers.\n",
      "[Parallel(n_jobs=12)]: Done  26 tasks      | elapsed:   18.1s\n",
      "[Parallel(n_jobs=12)]: Done 176 tasks      | elapsed:  1.8min\n",
      "[Parallel(n_jobs=12)]: Done 300 out of 300 | elapsed:  3.1min finished\n"
     ]
    },
    {
     "name": "stdout",
     "output_type": "stream",
     "text": [
      "filter_membership.shape (660, 300)\n",
      "membership cnt [(0, 43904), (1, 41793), (2, 53828), (3, 30325), (4, 28150)]\n",
      "filter_membership.shape (300, 300)\n",
      "membership cnt [(0, 14537), (1, 19034), (2, 23678), (3, 16832), (4, 15919)]\n",
      "util.save_variable, save variable to:  /home/yuchen/workspace/Brain_Network/Output/jitter/coupling_filter/session791319847_CD_DE_condition19_joint_fit_fixed_portion_kernel70ms_11272021_2248/filter_membership_CD_itr3_20211128_053659.pkl\n",
      "util.save_variable, save variable to:  /home/yuchen/workspace/Brain_Network/Output/jitter/coupling_filter/session791319847_CD_DE_condition19_joint_fit_fixed_portion_kernel70ms_11272021_2248/filter_membership_DE_itr3_20211128_053659.pkl\n",
      "util.save_variable, save variable to:  /home/yuchen/workspace/Brain_Network/Output/jitter/coupling_filter/session791319847_CD_DE_condition19_joint_fit_fixed_portion_kernel70ms_11272021_2248/group_portion_itr3_20211128_053659.pkl\n",
      "filter_membership.shape (960, 300)\n",
      "#all trials:60827\t#batch trials:60827\n",
      "X.shape (1098726, 3), basis_integral.shape (3, 1),beta.shape(3, 1)\n",
      " 30%|██████████████████▉                                            | 18/60 [00:01<00:04,  9.21it/s]\n",
      "num itr 18 [[-1586629.27033773]] 5.596076324804189e-06\n",
      "beta [11.28926886 -0.16471738  3.70356566]\n",
      "gradient [-0.0147401   0.99331337 -0.03470799]\n",
      "Finish 1.\n",
      "#all trials:77506\t#batch trials:77506\n",
      "X.shape (1347557, 3), basis_integral.shape (3, 1),beta.shape(3, 1)\n",
      " 28%|█████████████████▊                                             | 17/60 [00:02<00:05,  7.76it/s]\n",
      "num itr 17 [[-1892547.75291296]] 5.275450718378316e-06\n",
      "beta [10.86571246  0.25997076 -3.13460296]\n",
      "gradient [ -1.05063849 -40.82023541  -6.8077347 ]\n",
      "Finish 2.\n",
      "#all trials:47157\t#batch trials:47157\n",
      "X.shape (1089834, 11), basis_integral.shape (11, 1),beta.shape(11, 1)\n",
      "100%|███████████████████████████████████████████████████████████████| 60/60 [00:09<00:00,  6.61it/s]\n",
      "num itr 59 [[-1844100.80417015]] 0.01393861283078743\n",
      "beta [ 1.42047736e+01 -9.87309675e-03  1.70152098e-01 -1.34538518e+01  3.23539109e+01 -1.83642772e+01\n",
      "  1.48551530e+01 -5.72245442e+00 -2.28200706e+00  8.53834373e-01 -2.62699478e+00]\n",
      "gradient [-5.63143584  1.43163488 -1.08737539 -2.26101    -2.89247445 -2.6463408  -1.509975   -0.74669628 -0.1194668\n",
      " -0.05447317 -1.17029123]\n",
      "Finish 3.\n"
     ]
    },
    {
     "name": "stderr",
     "output_type": "stream",
     "text": [
      "/home/yuchen/workspace/Brain_Network/Code/jitter.py:4090: UserWarning: Reach max itrs 60. Last err:1.394e-02\n",
      "  warnings.warn(f'Reach max itrs {max_num_itrs}. Last err:{beta_err:.3e}')\n"
     ]
    },
    {
     "name": "stdout",
     "output_type": "stream",
     "text": [
      "#all trials:44069\t#batch trials:44069\n",
      "X.shape (1059566, 11), basis_integral.shape (11, 1),beta.shape(11, 1)\n",
      "100%|███████████████████████████████████████████████████████████████| 60/60 [00:08<00:00,  6.85it/s]\n",
      "num itr 59 [[-1836774.09098136]] 0.018312520442167725\n",
      "beta [ 14.66065274  -0.02823315  16.26539541  21.72158882 -21.58050307  21.86150348  -8.22956336   1.68259148\n",
      "  -2.96891172   0.35061241  -4.21401531]\n",
      "gradient [-2.26215506 79.22963459 -1.58607935 -1.40067658 -0.32735245 -1.67082155 -0.19564156  1.09208434  1.20649754\n",
      "  0.9747799   0.7858982 ]\n",
      "Finish 4.\n"
     ]
    },
    {
     "name": "stderr",
     "output_type": "stream",
     "text": [
      "/home/yuchen/workspace/Brain_Network/Code/jitter.py:4090: UserWarning: Reach max itrs 60. Last err:1.831e-02\n",
      "  warnings.warn(f'Reach max itrs {max_num_itrs}. Last err:{beta_err:.3e}')\n"
     ]
    },
    {
     "data": {
      "image/png": "[encoded data removed]",
      "text/plain": [
       "<Figure size 1260x144 with 5 Axes>"
      ]
     },
     "metadata": {
      "needs_background": "light"
     },
     "output_type": "display_data"
    },
    {
     "name": "stdout",
     "output_type": "stream",
     "text": [
      "util.save_variable, save variable to:  /home/yuchen/workspace/Brain_Network/Output/jitter/coupling_filter/session791319847_CD_DE_condition19_joint_fit_fixed_portion_kernel70ms_11272021_2248/group_model_pars_joint_itr3_20211128_054935.pkl\n"
     ]
    },
    {
     "name": "stderr",
     "output_type": "stream",
     "text": [
      "[Parallel(n_jobs=12)]: Using backend LokyBackend with 12 concurrent workers.\n",
      "[Parallel(n_jobs=12)]: Done  26 tasks      | elapsed:   30.6s\n",
      "[Parallel(n_jobs=12)]: Done 176 tasks      | elapsed:  2.7min\n",
      "[Parallel(n_jobs=12)]: Done 300 out of 300 | elapsed:  4.8min finished\n",
      "[Parallel(n_jobs=12)]: Using backend LokyBackend with 12 concurrent workers.\n",
      "[Parallel(n_jobs=12)]: Done  26 tasks      | elapsed:   18.2s\n",
      "[Parallel(n_jobs=12)]: Done 176 tasks      | elapsed:  1.8min\n",
      "[Parallel(n_jobs=12)]: Done 300 out of 300 | elapsed:  3.1min finished\n"
     ]
    },
    {
     "name": "stdout",
     "output_type": "stream",
     "text": [
      "filter_membership.shape (660, 300)\n",
      "membership cnt [(0, 44541), (1, 41686), (2, 54541), (3, 29607), (4, 27625)]\n",
      "filter_membership.shape (300, 300)\n",
      "membership cnt [(0, 14842), (1, 19022), (2, 23993), (3, 16462), (4, 15681)]\n",
      "util.save_variable, save variable to:  /home/yuchen/workspace/Brain_Network/Output/jitter/coupling_filter/session791319847_CD_DE_condition19_joint_fit_fixed_portion_kernel70ms_11272021_2248/filter_membership_CD_itr4_20211128_055732.pkl\n",
      "util.save_variable, save variable to:  /home/yuchen/workspace/Brain_Network/Output/jitter/coupling_filter/session791319847_CD_DE_condition19_joint_fit_fixed_portion_kernel70ms_11272021_2248/filter_membership_DE_itr4_20211128_055732.pkl\n",
      "util.save_variable, save variable to:  /home/yuchen/workspace/Brain_Network/Output/jitter/coupling_filter/session791319847_CD_DE_condition19_joint_fit_fixed_portion_kernel70ms_11272021_2248/group_portion_itr4_20211128_055732.pkl\n",
      "filter_membership.shape (960, 300)\n",
      "#all trials:60708\t#batch trials:60708\n",
      "X.shape (1093740, 3), basis_integral.shape (3, 1),beta.shape(3, 1)\n",
      " 28%|█████████████████▊                                             | 17/60 [00:01<00:04,  9.61it/s]\n",
      "num itr 17 [[-1576498.75112597]] 8.677488141956013e-06\n",
      "beta [11.26004439 -0.16461688  3.67559745]\n",
      "gradient [-0.04556638  0.13341489 -0.05028452]\n",
      "Finish 1.\n",
      "#all trials:78534\t#batch trials:78534\n",
      "X.shape (1366387, 3), basis_integral.shape (3, 1),beta.shape(3, 1)\n",
      " 27%|████████████████▊                                              | 16/60 [00:02<00:05,  7.71it/s]\n",
      "num itr 16 [[-1917787.08614362]] 7.1686994652930824e-06\n",
      "beta [10.8736698   0.2364782  -2.71458957]\n",
      "gradient [-0.12489027 -3.74122205 -0.42430775]\n",
      "Finish 2.\n",
      "#all trials:46069\t#batch trials:46069\n",
      "X.shape (1072401, 11), basis_integral.shape (11, 1),beta.shape(11, 1)\n",
      "100%|███████████████████████████████████████████████████████████████| 60/60 [00:09<00:00,  6.65it/s]\n",
      "num itr 59 [[-1822782.87807338]] 0.011579571985323764\n",
      "beta [ 1.42789661e+01 -1.08723854e-02  3.53953823e-01 -1.41691927e+01  3.35759754e+01 -1.85374846e+01\n",
      "  1.49398606e+01 -5.63105297e+00 -2.25846930e+00  6.20226337e-01 -2.44657237e+00]\n",
      "gradient [-2.45453241 80.73618186  0.16442719 -0.70753876 -2.29429096 -0.56202455 -0.692535    0.61044875  1.60632025\n",
      "  0.88875044  0.54573903]\n",
      "Finish 3.\n"
     ]
    },
    {
     "name": "stderr",
     "output_type": "stream",
     "text": [
      "/home/yuchen/workspace/Brain_Network/Code/jitter.py:4090: UserWarning: Reach max itrs 60. Last err:1.158e-02\n",
      "  warnings.warn(f'Reach max itrs {max_num_itrs}. Last err:{beta_err:.3e}')\n"
     ]
    },
    {
     "name": "stdout",
     "output_type": "stream",
     "text": [
      "#all trials:43306\t#batch trials:43306\n",
      "X.shape (1046488, 11), basis_integral.shape (11, 1),beta.shape(11, 1)\n",
      "100%|███████████████████████████████████████████████████████████████| 60/60 [00:08<00:00,  6.94it/s]\n",
      "num itr 59 [[-1819689.73127425]] 0.020237719676011522\n",
      "beta [ 14.72716794  -0.02677695  16.82927719  22.06171836 -22.22409433  22.48904512  -8.40529396   1.9268937\n",
      "  -3.25957262   0.69780863  -4.67028202]\n",
      "gradient [-2.07762761 75.6009964  -1.59159942 -1.37600451 -0.2798995  -1.66609188 -0.18190583  1.06725915  1.18399583\n",
      "  1.00646643  0.89134365]\n",
      "Finish 4.\n"
     ]
    },
    {
     "name": "stderr",
     "output_type": "stream",
     "text": [
      "/home/yuchen/workspace/Brain_Network/Code/jitter.py:4090: UserWarning: Reach max itrs 60. Last err:2.024e-02\n",
      "  warnings.warn(f'Reach max itrs {max_num_itrs}. Last err:{beta_err:.3e}')\n"
     ]
    },
    {
     "data": {
      "image/png": "[encoded data removed]",
      "text/plain": [
       "<Figure size 1260x144 with 5 Axes>"
      ]
     },
     "metadata": {
      "needs_background": "light"
     },
     "output_type": "display_data"
    },
    {
     "name": "stdout",
     "output_type": "stream",
     "text": [
      "util.save_variable, save variable to:  /home/yuchen/workspace/Brain_Network/Output/jitter/coupling_filter/session791319847_CD_DE_condition19_joint_fit_fixed_portion_kernel70ms_11272021_2248/group_model_pars_joint_itr4_20211128_061006.pkl\n"
     ]
    },
    {
     "name": "stderr",
     "output_type": "stream",
     "text": [
      "[Parallel(n_jobs=12)]: Using backend LokyBackend with 12 concurrent workers.\n",
      "[Parallel(n_jobs=12)]: Done  26 tasks      | elapsed:   29.8s\n",
      "[Parallel(n_jobs=12)]: Done 176 tasks      | elapsed:  2.7min\n",
      "[Parallel(n_jobs=12)]: Done 300 out of 300 | elapsed:  4.8min finished\n",
      "[Parallel(n_jobs=12)]: Using backend LokyBackend with 12 concurrent workers.\n",
      "[Parallel(n_jobs=12)]: Done  26 tasks      | elapsed:   18.2s\n",
      "[Parallel(n_jobs=12)]: Done 176 tasks      | elapsed:  1.8min\n",
      "[Parallel(n_jobs=12)]: Done 300 out of 300 | elapsed:  3.1min finished\n"
     ]
    },
    {
     "name": "stdout",
     "output_type": "stream",
     "text": [
      "filter_membership.shape (660, 300)\n",
      "membership cnt [(0, 43950), (1, 41757), (2, 54366), (3, 29896), (4, 28031)]\n",
      "filter_membership.shape (300, 300)\n",
      "membership cnt [(0, 14470), (1, 18966), (2, 24048), (3, 16625), (4, 15891)]\n",
      "util.save_variable, save variable to:  /home/yuchen/workspace/Brain_Network/Output/jitter/coupling_filter/session791319847_CD_DE_condition19_joint_fit_fixed_portion_kernel70ms_11272021_2248/filter_membership_CD_itr5_20211128_061802.pkl\n",
      "util.save_variable, save variable to:  /home/yuchen/workspace/Brain_Network/Output/jitter/coupling_filter/session791319847_CD_DE_condition19_joint_fit_fixed_portion_kernel70ms_11272021_2248/filter_membership_DE_itr5_20211128_061802.pkl\n",
      "util.save_variable, save variable to:  /home/yuchen/workspace/Brain_Network/Output/jitter/coupling_filter/session791319847_CD_DE_condition19_joint_fit_fixed_portion_kernel70ms_11272021_2248/group_portion_itr5_20211128_061802.pkl\n",
      "filter_membership.shape (960, 300)\n",
      "#all trials:60723\t#batch trials:60723\n",
      "X.shape (1091857, 3), basis_integral.shape (3, 1),beta.shape(3, 1)\n",
      " 28%|█████████████████▊                                             | 17/60 [00:01<00:04,  9.52it/s]\n",
      "num itr 17 [[-1571558.93997409]] 9.2369426425154e-06\n",
      "beta [11.23793333 -0.16403683  3.6657115 ]\n",
      "gradient [-0.03586516  0.66981946 -0.05580046]\n",
      "Finish 1.\n",
      "#all trials:78414\t#batch trials:78414\n",
      "X.shape (1369196, 3), basis_integral.shape (3, 1),beta.shape(3, 1)\n",
      " 27%|████████████████▊                                              | 16/60 [00:02<00:05,  7.78it/s]\n",
      "num itr 16 [[-1928334.13169506]] 7.718990603339249e-06\n",
      "beta [10.9125474   0.24618076 -2.96331256]\n",
      "gradient [-0.10127741 -0.56971961 -0.00657195]\n",
      "Finish 2.\n",
      "#all trials:46521\t#batch trials:46521\n",
      "X.shape (1081588, 11), basis_integral.shape (11, 1),beta.shape(11, 1)\n",
      "100%|███████████████████████████████████████████████████████████████| 60/60 [00:08<00:00,  6.67it/s]\n",
      "num itr 59 [[-1837135.05571003]] 0.012435476101639824\n",
      "beta [ 1.42649174e+01 -1.09987416e-02  3.53320024e-01 -1.44540907e+01  3.38482010e+01 -1.82526311e+01\n",
      "  1.45186630e+01 -5.38648881e+00 -2.31827057e+00  4.93094078e-01 -2.46424461e+00]\n",
      "gradient [-2.62996373 54.34938567  0.15764569 -0.79932648 -2.43438852 -0.72621285 -0.69016607  0.46080848  1.42012844\n",
      "  0.76815368  0.54689863]\n",
      "Finish 3.\n"
     ]
    },
    {
     "name": "stderr",
     "output_type": "stream",
     "text": [
      "/home/yuchen/workspace/Brain_Network/Code/jitter.py:4090: UserWarning: Reach max itrs 60. Last err:1.244e-02\n",
      "  warnings.warn(f'Reach max itrs {max_num_itrs}. Last err:{beta_err:.3e}')\n"
     ]
    },
    {
     "name": "stdout",
     "output_type": "stream",
     "text": [
      "#all trials:43922\t#batch trials:43922\n",
      "X.shape (1057218, 11), basis_integral.shape (11, 1),beta.shape(11, 1)\n",
      "100%|███████████████████████████████████████████████████████████████| 60/60 [00:08<00:00,  6.90it/s]\n",
      "num itr 59 [[-1834111.40501819]] 0.01998255865589051\n",
      "beta [ 14.67338499  -0.02808441  16.62380961  21.77775458 -22.11892798  22.36859287  -8.29897158   2.123637\n",
      "  -3.48301821   0.96317369  -4.93763998]\n",
      "gradient [-2.12178322 82.57277915 -1.59170829 -1.35702166 -0.24474746 -1.66804201 -0.17174459  1.05156367  1.23624507\n",
      "  1.06005044  0.91694136]\n",
      "Finish 4.\n"
     ]
    },
    {
     "name": "stderr",
     "output_type": "stream",
     "text": [
      "/home/yuchen/workspace/Brain_Network/Code/jitter.py:4090: UserWarning: Reach max itrs 60. Last err:1.998e-02\n",
      "  warnings.warn(f'Reach max itrs {max_num_itrs}. Last err:{beta_err:.3e}')\n"
     ]
    },
    {
     "data": {
      "image/png": "[encoded data removed]",
      "text/plain": [
       "<Figure size 1260x144 with 5 Axes>"
      ]
     },
     "metadata": {
      "needs_background": "light"
     },
     "output_type": "display_data"
    },
    {
     "name": "stdout",
     "output_type": "stream",
     "text": [
      "util.save_variable, save variable to:  /home/yuchen/workspace/Brain_Network/Output/jitter/coupling_filter/session791319847_CD_DE_condition19_joint_fit_fixed_portion_kernel70ms_11272021_2248/group_model_pars_joint_itr5_20211128_063031.pkl\n"
     ]
    },
    {
     "name": "stderr",
     "output_type": "stream",
     "text": [
      "[Parallel(n_jobs=12)]: Using backend LokyBackend with 12 concurrent workers.\n",
      "[Parallel(n_jobs=12)]: Done  26 tasks      | elapsed:   30.3s\n",
      "[Parallel(n_jobs=12)]: Done 176 tasks      | elapsed:  2.7min\n",
      "[Parallel(n_jobs=12)]: Done 300 out of 300 | elapsed:  4.8min finished\n",
      "[Parallel(n_jobs=12)]: Using backend LokyBackend with 12 concurrent workers.\n",
      "[Parallel(n_jobs=12)]: Done  26 tasks      | elapsed:   19.1s\n",
      "[Parallel(n_jobs=12)]: Done 176 tasks      | elapsed:  1.8min\n",
      "[Parallel(n_jobs=12)]: Done 300 out of 300 | elapsed:  3.1min finished\n"
     ]
    },
    {
     "name": "stdout",
     "output_type": "stream",
     "text": [
      "filter_membership.shape (660, 300)\n",
      "membership cnt [(0, 44534), (1, 41464), (2, 54611), (3, 29523), (4, 27868)]\n",
      "filter_membership.shape (300, 300)\n",
      "membership cnt [(0, 14786), (1, 18975), (2, 24004), (3, 16428), (4, 15807)]\n",
      "util.save_variable, save variable to:  /home/yuchen/workspace/Brain_Network/Output/jitter/coupling_filter/session791319847_CD_DE_condition19_joint_fit_fixed_portion_kernel70ms_11272021_2248/filter_membership_CD_itr6_20211128_063831.pkl\n",
      "util.save_variable, save variable to:  /home/yuchen/workspace/Brain_Network/Output/jitter/coupling_filter/session791319847_CD_DE_condition19_joint_fit_fixed_portion_kernel70ms_11272021_2248/filter_membership_DE_itr6_20211128_063831.pkl\n",
      "util.save_variable, save variable to:  /home/yuchen/workspace/Brain_Network/Output/jitter/coupling_filter/session791319847_CD_DE_condition19_joint_fit_fixed_portion_kernel70ms_11272021_2248/group_portion_itr6_20211128_063831.pkl\n",
      "filter_membership.shape (960, 300)\n",
      "#all trials:60439\t#batch trials:60439\n",
      "X.shape (1091172, 3), basis_integral.shape (3, 1),beta.shape(3, 1)\n",
      " 28%|█████████████████▊                                             | 17/60 [00:01<00:04,  9.74it/s]\n",
      "num itr 17 [[-1574529.15694866]] 8.042538944874611e-06\n",
      "beta [11.28374969 -0.14443379  3.40261487]\n",
      "gradient [-0.07923781 -2.34518078 -0.02718655]\n",
      "Finish 1.\n",
      "#all trials:78615\t#batch trials:78615\n",
      "X.shape (1369924, 3), basis_integral.shape (3, 1),beta.shape(3, 1)\n",
      " 28%|█████████████████▊                                             | 17/60 [00:02<00:05,  7.53it/s]\n",
      "num itr 17 [[-1926403.77158139]] 7.2608303219867665e-06\n",
      "beta [10.89035463  0.24803296 -2.98754794]\n",
      "gradient [ -15.34102582 -529.03965354  -99.42026696]\n",
      "Finish 2.\n",
      "#all trials:45951\t#batch trials:45951\n",
      "X.shape (1072067, 11), basis_integral.shape (11, 1),beta.shape(11, 1)\n",
      "100%|███████████████████████████████████████████████████████████████| 60/60 [00:09<00:00,  6.66it/s]\n",
      "num itr 59 [[-1824671.19641008]] 0.014598030340282737\n",
      "beta [ 1.41801293e+01 -2.79213960e-02  8.13406275e-01 -1.39959583e+01  3.38760774e+01 -1.76879075e+01\n",
      "  1.43104298e+01 -4.52188872e+00 -1.82534511e+00 -3.52310759e-02 -1.58596193e+00]\n",
      "gradient [-2.79858160e+01 -4.05540689e+02 -1.28312507e+01 -1.19298507e+01 -7.52287859e+00 -1.76475045e+01\n",
      " -1.11129379e+01 -3.68973095e+01 -2.88684800e+01 -2.76143447e+00  3.31207943e-01]\n",
      "Finish 3.\n"
     ]
    },
    {
     "name": "stderr",
     "output_type": "stream",
     "text": [
      "/home/yuchen/workspace/Brain_Network/Code/jitter.py:4090: UserWarning: Reach max itrs 60. Last err:1.460e-02\n",
      "  warnings.warn(f'Reach max itrs {max_num_itrs}. Last err:{beta_err:.3e}')\n"
     ]
    },
    {
     "name": "stdout",
     "output_type": "stream",
     "text": [
      "#all trials:43675\t#batch trials:43675\n",
      "X.shape (1051342, 11), basis_integral.shape (11, 1),beta.shape(11, 1)\n",
      "100%|███████████████████████████████████████████████████████████████| 60/60 [00:08<00:00,  6.79it/s]\n",
      "num itr 59 [[-1824092.29659677]] 0.019911934189928055\n",
      "beta [ 14.66745967  -0.02822338  16.67940674  21.85345792 -22.39755283  22.56982322  -8.29795777   2.27820375\n",
      "  -3.60973463   1.13433279  -5.11123147]\n",
      "gradient [-2.06854666 82.97496472 -1.58731662 -1.3401183  -0.21912558 -1.67340203 -0.18993421  1.0418688   1.25057397\n",
      "  1.07270991  0.92921955]\n",
      "Finish 4.\n"
     ]
    },
    {
     "name": "stderr",
     "output_type": "stream",
     "text": [
      "/home/yuchen/workspace/Brain_Network/Code/jitter.py:4090: UserWarning: Reach max itrs 60. Last err:1.991e-02\n",
      "  warnings.warn(f'Reach max itrs {max_num_itrs}. Last err:{beta_err:.3e}')\n"
     ]
    },
    {
     "data": {
      "image/png": "[encoded data removed]",
      "text/plain": [
       "<Figure size 1260x144 with 5 Axes>"
      ]
     },
     "metadata": {
      "needs_background": "light"
     },
     "output_type": "display_data"
    },
    {
     "name": "stdout",
     "output_type": "stream",
     "text": [
      "util.save_variable, save variable to:  /home/yuchen/workspace/Brain_Network/Output/jitter/coupling_filter/session791319847_CD_DE_condition19_joint_fit_fixed_portion_kernel70ms_11272021_2248/group_model_pars_joint_itr6_20211128_065112.pkl\n"
     ]
    },
    {
     "name": "stderr",
     "output_type": "stream",
     "text": [
      "[Parallel(n_jobs=12)]: Using backend LokyBackend with 12 concurrent workers.\n",
      "[Parallel(n_jobs=12)]: Done  26 tasks      | elapsed:   31.1s\n",
      "[Parallel(n_jobs=12)]: Done 176 tasks      | elapsed:  2.7min\n",
      "[Parallel(n_jobs=12)]: Done 300 out of 300 | elapsed:  4.8min finished\n",
      "[Parallel(n_jobs=12)]: Using backend LokyBackend with 12 concurrent workers.\n",
      "[Parallel(n_jobs=12)]: Done  26 tasks      | elapsed:   18.9s\n",
      "[Parallel(n_jobs=12)]: Done 176 tasks      | elapsed:  1.8min\n",
      "[Parallel(n_jobs=12)]: Done 300 out of 300 | elapsed:  3.1min finished\n"
     ]
    },
    {
     "name": "stdout",
     "output_type": "stream",
     "text": [
      "filter_membership.shape (660, 300)\n",
      "membership cnt [(0, 44160), (1, 40985), (2, 55509), (3, 29040), (4, 28306)]\n",
      "filter_membership.shape (300, 300)\n",
      "membership cnt [(0, 14549), (1, 18643), (2, 24470), (3, 16392), (4, 15946)]\n",
      "util.save_variable, save variable to:  /home/yuchen/workspace/Brain_Network/Output/jitter/coupling_filter/session791319847_CD_DE_condition19_joint_fit_fixed_portion_kernel70ms_11272021_2248/filter_membership_CD_itr7_20211128_065908.pkl\n",
      "util.save_variable, save variable to:  /home/yuchen/workspace/Brain_Network/Output/jitter/coupling_filter/session791319847_CD_DE_condition19_joint_fit_fixed_portion_kernel70ms_11272021_2248/filter_membership_DE_itr7_20211128_065908.pkl\n",
      "util.save_variable, save variable to:  /home/yuchen/workspace/Brain_Network/Output/jitter/coupling_filter/session791319847_CD_DE_condition19_joint_fit_fixed_portion_kernel70ms_11272021_2248/group_portion_itr7_20211128_065908.pkl\n",
      "filter_membership.shape (960, 300)\n",
      "#all trials:59628\t#batch trials:59628\n",
      "X.shape (1073232, 3), basis_integral.shape (3, 1),beta.shape(3, 1)\n",
      " 28%|█████████████████▊                                             | 17/60 [00:01<00:04,  9.25it/s]\n",
      "num itr 17 [[-1545144.84772394]] 8.03029902640695e-06\n",
      "beta [11.2492211  -0.13920966  3.37720888]\n",
      "gradient [-0.04678084 -0.39654619 -0.04458505]\n",
      "Finish 1.\n",
      "#all trials:79979\t#batch trials:79979\n",
      "X.shape (1391474, 3), basis_integral.shape (3, 1),beta.shape(3, 1)\n",
      " 47%|█████████████████████████████▍                                 | 28/60 [00:03<00:04,  7.68it/s]\n",
      "num itr 28 [[-1954816.14324744]] 6.8683596311513995e-06\n",
      "beta [10.87276024  0.25738538 -3.19751887]\n",
      "gradient [ -0.31937381 -15.76468379  -2.34593044]\n",
      "Finish 2.\n",
      "#all trials:45432\t#batch trials:45432\n",
      "X.shape (1068814, 11), basis_integral.shape (11, 1),beta.shape(11, 1)\n",
      "100%|███████████████████████████████████████████████████████████████| 60/60 [00:08<00:00,  6.70it/s]\n",
      "num itr 59 [[-1828677.37665365]] 0.01574442209861557\n",
      "beta [ 1.42507342e+01 -2.90262179e-02  1.23495494e+00 -1.45826788e+01  3.57140046e+01 -1.82496358e+01\n",
      "  1.48666180e+01 -4.75549517e+00 -1.73533549e+00  5.53595171e-02 -1.79193075e+00]\n",
      "gradient [  -7.08649794 -287.27700556   -2.17156312   -3.03739548   -3.31982033   -3.86602168   -2.06099614\n",
      "   -0.76894034   -3.3763489    -4.14465198   -2.57003403]\n",
      "Finish 3.\n"
     ]
    },
    {
     "name": "stderr",
     "output_type": "stream",
     "text": [
      "/home/yuchen/workspace/Brain_Network/Code/jitter.py:4090: UserWarning: Reach max itrs 60. Last err:1.574e-02\n",
      "  warnings.warn(f'Reach max itrs {max_num_itrs}. Last err:{beta_err:.3e}')\n"
     ]
    },
    {
     "name": "stdout",
     "output_type": "stream",
     "text": [
      "#all trials:44252\t#batch trials:44252\n",
      "X.shape (1060833, 11), basis_integral.shape (11, 1),beta.shape(11, 1)\n",
      "100%|███████████████████████████████████████████████████████████████| 60/60 [00:08<00:00,  6.79it/s]\n",
      "num itr 59 [[-1836096.41424703]] 0.01968208577826447\n",
      "beta [ 14.60251042  -0.03029565  16.49953665  21.60269996 -22.29140815  22.42975512  -8.12680848   2.38457234\n",
      "  -3.78264397   1.40143887  -5.24362655]\n",
      "gradient [-2.12834333 85.57068242 -1.59257582 -1.33106353 -0.19675409 -1.68867628 -0.20959202  1.08326946  1.3306319\n",
      "  1.09524402  0.95062277]\n",
      "Finish 4.\n"
     ]
    },
    {
     "name": "stderr",
     "output_type": "stream",
     "text": [
      "/home/yuchen/workspace/Brain_Network/Code/jitter.py:4090: UserWarning: Reach max itrs 60. Last err:1.968e-02\n",
      "  warnings.warn(f'Reach max itrs {max_num_itrs}. Last err:{beta_err:.3e}')\n"
     ]
    },
    {
     "data": {
      "image/png": "[encoded data removed]",
      "text/plain": [
       "<Figure size 1260x144 with 5 Axes>"
      ]
     },
     "metadata": {
      "needs_background": "light"
     },
     "output_type": "display_data"
    },
    {
     "name": "stdout",
     "output_type": "stream",
     "text": [
      "util.save_variable, save variable to:  /home/yuchen/workspace/Brain_Network/Output/jitter/coupling_filter/session791319847_CD_DE_condition19_joint_fit_fixed_portion_kernel70ms_11272021_2248/group_model_pars_joint_itr7_20211128_071140.pkl\n"
     ]
    },
    {
     "name": "stderr",
     "output_type": "stream",
     "text": [
      "[Parallel(n_jobs=12)]: Using backend LokyBackend with 12 concurrent workers.\n",
      "[Parallel(n_jobs=12)]: Done  26 tasks      | elapsed:   31.7s\n",
      "[Parallel(n_jobs=12)]: Done 176 tasks      | elapsed:  2.7min\n",
      "[Parallel(n_jobs=12)]: Done 300 out of 300 | elapsed:  4.8min finished\n",
      "[Parallel(n_jobs=12)]: Using backend LokyBackend with 12 concurrent workers.\n",
      "[Parallel(n_jobs=12)]: Done  26 tasks      | elapsed:   18.2s\n",
      "[Parallel(n_jobs=12)]: Done 176 tasks      | elapsed:  1.8min\n",
      "[Parallel(n_jobs=12)]: Done 300 out of 300 | elapsed:  3.1min finished\n"
     ]
    },
    {
     "name": "stdout",
     "output_type": "stream",
     "text": [
      "filter_membership.shape (660, 300)\n",
      "membership cnt [(0, 44751), (1, 40936), (2, 55730), (3, 28522), (4, 28061)]\n",
      "filter_membership.shape (300, 300)\n",
      "membership cnt [(0, 14810), (1, 18548), (2, 24520), (3, 16235), (4, 15887)]\n",
      "util.save_variable, save variable to:  /home/yuchen/workspace/Brain_Network/Output/jitter/coupling_filter/session791319847_CD_DE_condition19_joint_fit_fixed_portion_kernel70ms_11272021_2248/filter_membership_CD_itr8_20211128_071936.pkl\n",
      "util.save_variable, save variable to:  /home/yuchen/workspace/Brain_Network/Output/jitter/coupling_filter/session791319847_CD_DE_condition19_joint_fit_fixed_portion_kernel70ms_11272021_2248/filter_membership_DE_itr8_20211128_071936.pkl\n",
      "util.save_variable, save variable to:  /home/yuchen/workspace/Brain_Network/Output/jitter/coupling_filter/session791319847_CD_DE_condition19_joint_fit_fixed_portion_kernel70ms_11272021_2248/group_portion_itr8_20211128_071936.pkl\n",
      "filter_membership.shape (960, 300)\n",
      "#all trials:59484\t#batch trials:59484\n",
      "X.shape (1069228, 3), basis_integral.shape (3, 1),beta.shape(3, 1)\n",
      " 28%|█████████████████▊                                             | 17/60 [00:01<00:04,  9.15it/s]\n",
      "num itr 17 [[-1538395.88302726]] 6.240086183911808e-06\n",
      "beta [11.23423588 -0.15784815  3.62453281]\n",
      "gradient [ -0.58839017 -31.53516844   0.26244909]\n",
      "Finish 1.\n",
      "#all trials:80250\t#batch trials:80250\n",
      "X.shape (1396740, 3), basis_integral.shape (3, 1),beta.shape(3, 1)\n",
      " 28%|█████████████████▊                                             | 17/60 [00:02<00:05,  7.70it/s]\n",
      "num itr 17 [[-1960462.61399192]] 9.732353973695984e-06\n",
      "beta [10.87758312  0.22269918 -2.63077065]\n",
      "gradient [  -28190.19165312 -1456377.5958965   -239843.44792073]\n",
      "Finish 2.\n",
      "#all trials:44757\t#batch trials:44757\n",
      "X.shape (1057058, 11), basis_integral.shape (11, 1),beta.shape(11, 1)\n",
      "100%|███████████████████████████████████████████████████████████████| 60/60 [00:08<00:00,  6.88it/s]\n",
      "num itr 59 [[-1812845.23223476]] 0.017276301878754268\n",
      "beta [ 1.42464478e+01 -3.09879988e-02  3.07143561e+00 -1.63781496e+01  3.74471102e+01 -1.88421386e+01\n",
      "  1.53667078e+01 -5.35519990e+00 -1.04891688e+00 -4.90281179e-01 -6.36267376e-01]\n",
      "gradient [ -4.26886967 -89.24647827  -1.30618292  -1.48598497  -2.82179981  -2.15285336  -1.26814166  -0.60334731\n",
      "  -1.40672884  -1.69652223  -1.69435379]\n",
      "Finish 3.\n"
     ]
    },
    {
     "name": "stderr",
     "output_type": "stream",
     "text": [
      "/home/yuchen/workspace/Brain_Network/Code/jitter.py:4090: UserWarning: Reach max itrs 60. Last err:1.728e-02\n",
      "  warnings.warn(f'Reach max itrs {max_num_itrs}. Last err:{beta_err:.3e}')\n"
     ]
    },
    {
     "name": "stdout",
     "output_type": "stream",
     "text": [
      "#all trials:43948\t#batch trials:43948\n",
      "X.shape (1054077, 11), basis_integral.shape (11, 1),beta.shape(11, 1)\n",
      "100%|███████████████████████████████████████████████████████████████| 60/60 [00:09<00:00,  6.63it/s]\n",
      "num itr 59 [[-1825066.48135634]] 0.01967285838290926\n",
      "beta [ 14.60141266  -0.03015241  16.50682895  21.81542118 -22.67847603  22.67928774  -8.12793282   2.49132902\n",
      "  -3.86092034   1.53369044  -5.33666271]\n",
      "gradient [-2.08876901 83.47597672 -1.58567645 -1.31978688 -0.18752183 -1.7074988  -0.26322514  1.01785968  1.27501174\n",
      "  1.07359051  0.93770171]\n",
      "Finish 4.\n"
     ]
    },
    {
     "name": "stderr",
     "output_type": "stream",
     "text": [
      "/home/yuchen/workspace/Brain_Network/Code/jitter.py:4090: UserWarning: Reach max itrs 60. Last err:1.967e-02\n",
      "  warnings.warn(f'Reach max itrs {max_num_itrs}. Last err:{beta_err:.3e}')\n"
     ]
    },
    {
     "data": {
      "image/png": "[encoded data removed]",
      "text/plain": [
       "<Figure size 1260x144 with 5 Axes>"
      ]
     },
     "metadata": {
      "needs_background": "light"
     },
     "output_type": "display_data"
    },
    {
     "name": "stdout",
     "output_type": "stream",
     "text": [
      "util.save_variable, save variable to:  /home/yuchen/workspace/Brain_Network/Output/jitter/coupling_filter/session791319847_CD_DE_condition19_joint_fit_fixed_portion_kernel70ms_11272021_2248/group_model_pars_joint_itr8_20211128_073159.pkl\n"
     ]
    },
    {
     "name": "stderr",
     "output_type": "stream",
     "text": [
      "[Parallel(n_jobs=12)]: Using backend LokyBackend with 12 concurrent workers.\n",
      "[Parallel(n_jobs=12)]: Done  26 tasks      | elapsed:   29.8s\n",
      "[Parallel(n_jobs=12)]: Done 176 tasks      | elapsed:  2.7min\n",
      "[Parallel(n_jobs=12)]: Done 300 out of 300 | elapsed:  4.8min finished\n",
      "[Parallel(n_jobs=12)]: Using backend LokyBackend with 12 concurrent workers.\n",
      "[Parallel(n_jobs=12)]: Done  26 tasks      | elapsed:   18.0s\n",
      "[Parallel(n_jobs=12)]: Done 176 tasks      | elapsed:  1.8min\n",
      "[Parallel(n_jobs=12)]: Done 300 out of 300 | elapsed:  3.1min finished\n"
     ]
    },
    {
     "name": "stdout",
     "output_type": "stream",
     "text": [
      "filter_membership.shape (660, 300)\n",
      "membership cnt [(0, 44044), (1, 41381), (2, 55392), (3, 28686), (4, 28497)]\n",
      "filter_membership.shape (300, 300)\n",
      "membership cnt [(0, 14478), (1, 18655), (2, 24546), (3, 16293), (4, 16028)]\n",
      "util.save_variable, save variable to:  /home/yuchen/workspace/Brain_Network/Output/jitter/coupling_filter/session791319847_CD_DE_condition19_joint_fit_fixed_portion_kernel70ms_11272021_2248/filter_membership_CD_itr9_20211128_073954.pkl\n",
      "util.save_variable, save variable to:  /home/yuchen/workspace/Brain_Network/Output/jitter/coupling_filter/session791319847_CD_DE_condition19_joint_fit_fixed_portion_kernel70ms_11272021_2248/filter_membership_DE_itr9_20211128_073954.pkl\n",
      "util.save_variable, save variable to:  /home/yuchen/workspace/Brain_Network/Output/jitter/coupling_filter/session791319847_CD_DE_condition19_joint_fit_fixed_portion_kernel70ms_11272021_2248/group_portion_itr9_20211128_073954.pkl\n",
      "filter_membership.shape (960, 300)\n",
      "#all trials:60036\t#batch trials:60036\n",
      "X.shape (1069393, 3), basis_integral.shape (3, 1),beta.shape(3, 1)\n",
      " 28%|█████████████████▊                                             | 17/60 [00:01<00:04, 10.03it/s]\n",
      "num itr 17 [[-1529013.92691654]] 8.011504483984577e-06\n",
      "beta [11.13274395 -0.15589952  3.54611686]\n",
      "gradient [-0.06411045 -1.09836238 -0.03591007]\n",
      "Finish 1.\n",
      "#all trials:79938\t#batch trials:79938\n",
      "X.shape (1406355, 3), basis_integral.shape (3, 1),beta.shape(3, 1)\n",
      " 28%|█████████████████▊                                             | 17/60 [00:02<00:06,  6.84it/s]\n",
      "num itr 17 [[-1990840.03002605]] 7.59152703055932e-06\n",
      "beta [10.99517509  0.2530585  -2.92406717]\n",
      "gradient [-0.08863653 -3.25722599 -0.40290677]\n",
      "Finish 2.\n",
      "#all trials:44979\t#batch trials:44979\n",
      "X.shape (1058865, 11), basis_integral.shape (11, 1),beta.shape(11, 1)\n",
      "100%|███████████████████████████████████████████████████████████████| 60/60 [00:08<00:00,  6.83it/s]\n",
      "num itr 59 [[-1812088.9063591]] 0.014000609696505576\n",
      "beta [ 1.41980569e+01 -2.99363023e-02  2.73728429e+00 -1.42143160e+01  3.51344885e+01 -1.70015471e+01\n",
      "  1.33620954e+01 -3.52486243e+00 -1.74089564e+00 -3.82969332e-01 -1.03291195e+00]\n",
      "gradient [-2.15152742 74.35680673  0.12412674 -0.8022351  -2.5445458  -0.72229164 -0.68508702  0.1558574   1.36670928\n",
      "  0.90742423  0.52241397]\n",
      "Finish 3.\n"
     ]
    },
    {
     "name": "stderr",
     "output_type": "stream",
     "text": [
      "/home/yuchen/workspace/Brain_Network/Code/jitter.py:4090: UserWarning: Reach max itrs 60. Last err:1.400e-02\n",
      "  warnings.warn(f'Reach max itrs {max_num_itrs}. Last err:{beta_err:.3e}')\n"
     ]
    },
    {
     "name": "stdout",
     "output_type": "stream",
     "text": [
      "#all trials:44525\t#batch trials:44525\n",
      "X.shape (1064042, 11), basis_integral.shape (11, 1),beta.shape(11, 1)\n",
      "100%|███████████████████████████████████████████████████████████████| 60/60 [00:08<00:00,  6.75it/s]\n",
      "num itr 59 [[-1838249.35027897]] 0.017428882151904967\n",
      "beta [ 14.57468957  -0.02890977  15.88662126  21.60024794 -22.63315024  22.4009906   -7.92535591   2.44388247\n",
      "  -3.84600115   1.27970712  -5.27496916]\n",
      "gradient [-2.24053059 81.8875289  -1.56386322 -1.3088743  -0.19662265 -1.72698881 -0.34137312  0.94827237  1.26814672\n",
      "  1.10247895  0.92065186]\n",
      "Finish 4.\n"
     ]
    },
    {
     "name": "stderr",
     "output_type": "stream",
     "text": [
      "/home/yuchen/workspace/Brain_Network/Code/jitter.py:4090: UserWarning: Reach max itrs 60. Last err:1.743e-02\n",
      "  warnings.warn(f'Reach max itrs {max_num_itrs}. Last err:{beta_err:.3e}')\n"
     ]
    },
    {
     "data": {
      "image/png": "[encoded data removed]",
      "text/plain": [
       "<Figure size 1260x144 with 5 Axes>"
      ]
     },
     "metadata": {
      "needs_background": "light"
     },
     "output_type": "display_data"
    },
    {
     "name": "stdout",
     "output_type": "stream",
     "text": [
      "util.save_variable, save variable to:  /home/yuchen/workspace/Brain_Network/Output/jitter/coupling_filter/session791319847_CD_DE_condition19_joint_fit_fixed_portion_kernel70ms_11272021_2248/group_model_pars_joint_itr9_20211128_075221.pkl\n"
     ]
    },
    {
     "name": "stderr",
     "output_type": "stream",
     "text": [
      "[Parallel(n_jobs=12)]: Using backend LokyBackend with 12 concurrent workers.\n",
      "[Parallel(n_jobs=12)]: Done  26 tasks      | elapsed:   31.4s\n",
      "[Parallel(n_jobs=12)]: Done 176 tasks      | elapsed:  2.8min\n",
      "[Parallel(n_jobs=12)]: Done 300 out of 300 | elapsed:  4.8min finished\n",
      "[Parallel(n_jobs=12)]: Using backend LokyBackend with 12 concurrent workers.\n",
      "[Parallel(n_jobs=12)]: Done  26 tasks      | elapsed:   18.2s\n",
      "[Parallel(n_jobs=12)]: Done 176 tasks      | elapsed:  1.8min\n",
      "[Parallel(n_jobs=12)]: Done 300 out of 300 | elapsed:  3.2min finished\n"
     ]
    },
    {
     "name": "stdout",
     "output_type": "stream",
     "text": [
      "filter_membership.shape (660, 300)\n",
      "membership cnt [(0, 44472), (1, 41230), (2, 55777), (3, 28162), (4, 28359)]\n",
      "filter_membership.shape (300, 300)\n",
      "membership cnt [(0, 14713), (1, 18675), (2, 24632), (3, 16019), (4, 15961)]\n",
      "util.save_variable, save variable to:  /home/yuchen/workspace/Brain_Network/Output/jitter/coupling_filter/session791319847_CD_DE_condition19_joint_fit_fixed_portion_kernel70ms_11272021_2248/filter_membership_CD_itr10_20211128_080020.pkl\n",
      "util.save_variable, save variable to:  /home/yuchen/workspace/Brain_Network/Output/jitter/coupling_filter/session791319847_CD_DE_condition19_joint_fit_fixed_portion_kernel70ms_11272021_2248/filter_membership_DE_itr10_20211128_080020.pkl\n",
      "util.save_variable, save variable to:  /home/yuchen/workspace/Brain_Network/Output/jitter/coupling_filter/session791319847_CD_DE_condition19_joint_fit_fixed_portion_kernel70ms_11272021_2248/group_portion_itr10_20211128_080020.pkl\n",
      "filter_membership.shape (960, 300)\n",
      "#all trials:59905\t#batch trials:59905\n",
      "X.shape (1071034, 3), basis_integral.shape (3, 1),beta.shape(3, 1)\n",
      " 28%|█████████████████▊                                             | 17/60 [00:01<00:04,  9.97it/s]\n",
      "num itr 17 [[-1535230.51118475]] 7.840112878493288e-06\n",
      "beta [11.17419934 -0.15983391  3.59130533]\n",
      "gradient [-0.10445432 -3.34900465 -0.01422337]\n",
      "Finish 1.\n",
      "#all trials:80409\t#batch trials:80409\n",
      "X.shape (1410784, 3), basis_integral.shape (3, 1),beta.shape(3, 1)\n",
      " 27%|████████████████▊                                              | 16/60 [00:02<00:05,  7.50it/s]\n",
      "num itr 16 [[-1992501.51033008]] 8.554575941149833e-06\n",
      "beta [10.96506176  0.23838821 -2.8547086 ]\n",
      "gradient [-0.13755237 -2.48573925 -0.34445975]\n",
      "Finish 2.\n",
      "#all trials:44181\t#batch trials:44181\n",
      "X.shape (1047662, 11), basis_integral.shape (11, 1),beta.shape(11, 1)\n",
      "100%|███████████████████████████████████████████████████████████████| 60/60 [00:08<00:00,  6.89it/s]\n",
      "num itr 59 [[-1801419.14080192]] 0.01833338120732788\n",
      "beta [ 1.43190530e+01 -3.22500530e-02  2.06223483e+00 -1.52825900e+01  3.79202165e+01 -1.86605491e+01\n",
      "  1.44851697e+01 -4.62465590e+00 -1.72546190e+00 -3.67666878e-01 -9.66942812e-01]\n",
      "gradient [-2.08255219 69.00278056  0.17030187 -0.89595797 -2.66215689 -0.74446925 -0.61191366  0.55472257  1.35812129\n",
      "  0.58529108  0.30104006]\n",
      "Finish 3.\n"
     ]
    },
    {
     "name": "stderr",
     "output_type": "stream",
     "text": [
      "/home/yuchen/workspace/Brain_Network/Code/jitter.py:4090: UserWarning: Reach max itrs 60. Last err:1.833e-02\n",
      "  warnings.warn(f'Reach max itrs {max_num_itrs}. Last err:{beta_err:.3e}')\n"
     ]
    },
    {
     "name": "stdout",
     "output_type": "stream",
     "text": [
      "#all trials:44320\t#batch trials:44320\n",
      "X.shape (1057620, 11), basis_integral.shape (11, 1),beta.shape(11, 1)\n",
      "100%|███████████████████████████████████████████████████████████████| 60/60 [00:08<00:00,  6.83it/s]\n",
      "num itr 59 [[-1825681.40402833]] 0.017921510113643097\n",
      "beta [ 14.5418851   -0.02813459  15.69682749  21.81783572 -23.12689884  22.72997783  -8.08694854   2.60044468\n",
      "  -3.86162364   1.54729596  -5.39040655]\n",
      "gradient [-2.18927322 83.78287893 -1.55069331 -1.29065559 -0.17527394 -1.72839991 -0.3119448   0.87291241  1.12160171\n",
      "  1.01372465  0.89913548]\n",
      "Finish 4.\n"
     ]
    },
    {
     "name": "stderr",
     "output_type": "stream",
     "text": [
      "/home/yuchen/workspace/Brain_Network/Code/jitter.py:4090: UserWarning: Reach max itrs 60. Last err:1.792e-02\n",
      "  warnings.warn(f'Reach max itrs {max_num_itrs}. Last err:{beta_err:.3e}')\n"
     ]
    },
    {
     "data": {
      "image/png": "[encoded data removed]",
      "text/plain": [
       "<Figure size 1260x144 with 5 Axes>"
      ]
     },
     "metadata": {
      "needs_background": "light"
     },
     "output_type": "display_data"
    },
    {
     "name": "stdout",
     "output_type": "stream",
     "text": [
      "util.save_variable, save variable to:  /home/yuchen/workspace/Brain_Network/Output/jitter/coupling_filter/session791319847_CD_DE_condition19_joint_fit_fixed_portion_kernel70ms_11272021_2248/group_model_pars_joint_itr10_20211128_081253.pkl\n"
     ]
    },
    {
     "name": "stderr",
     "output_type": "stream",
     "text": [
      "[Parallel(n_jobs=12)]: Using backend LokyBackend with 12 concurrent workers.\n",
      "[Parallel(n_jobs=12)]: Done  26 tasks      | elapsed:   29.7s\n",
      "[Parallel(n_jobs=12)]: Done 176 tasks      | elapsed:  2.8min\n",
      "[Parallel(n_jobs=12)]: Done 300 out of 300 | elapsed:  4.8min finished\n",
      "[Parallel(n_jobs=12)]: Using backend LokyBackend with 12 concurrent workers.\n",
      "[Parallel(n_jobs=12)]: Done  26 tasks      | elapsed:   18.6s\n",
      "[Parallel(n_jobs=12)]: Done 176 tasks      | elapsed:  1.8min\n",
      "[Parallel(n_jobs=12)]: Done 300 out of 300 | elapsed:  3.1min finished\n"
     ]
    },
    {
     "name": "stdout",
     "output_type": "stream",
     "text": [
      "filter_membership.shape (660, 300)\n",
      "membership cnt [(0, 44413), (1, 41380), (2, 55474), (3, 28313), (4, 28420)]\n",
      "filter_membership.shape (300, 300)\n",
      "membership cnt [(0, 14680), (1, 18702), (2, 24551), (3, 16112), (4, 15955)]\n",
      "util.save_variable, save variable to:  /home/yuchen/workspace/Brain_Network/Output/jitter/coupling_filter/session791319847_CD_DE_condition19_joint_fit_fixed_portion_kernel70ms_11272021_2248/filter_membership_CD_itr11_20211128_082051.pkl\n",
      "util.save_variable, save variable to:  /home/yuchen/workspace/Brain_Network/Output/jitter/coupling_filter/session791319847_CD_DE_condition19_joint_fit_fixed_portion_kernel70ms_11272021_2248/filter_membership_DE_itr11_20211128_082051.pkl\n",
      "util.save_variable, save variable to:  /home/yuchen/workspace/Brain_Network/Output/jitter/coupling_filter/session791319847_CD_DE_condition19_joint_fit_fixed_portion_kernel70ms_11272021_2248/group_portion_itr11_20211128_082051.pkl\n",
      "filter_membership.shape (960, 300)\n",
      "#all trials:60082\t#batch trials:60082\n",
      "X.shape (1071965, 3), basis_integral.shape (3, 1),beta.shape(3, 1)\n",
      " 28%|█████████████████▊                                             | 17/60 [00:01<00:04,  9.89it/s]\n",
      "num itr 17 [[-1533982.06218218]] 7.962205732320315e-06\n",
      "beta [11.15103825 -0.1379269   3.35695395]\n",
      "gradient [-0.05893455 -1.17752671 -0.03813373]\n",
      "Finish 1.\n",
      "#all trials:80025\t#batch trials:80025\n",
      "X.shape (1403242, 3), basis_integral.shape (3, 1),beta.shape(3, 1)\n",
      " 27%|████████████████▊                                              | 16/60 [00:02<00:05,  7.50it/s]\n",
      "num itr 16 [[-1981900.31062913]] 9.069942834338818e-06\n",
      "beta [10.95857834  0.25222379 -3.09498438]\n",
      "gradient [  -2.96179931 -105.49766406  -18.67802022]\n",
      "Finish 2.\n",
      "#all trials:44425\t#batch trials:44425\n",
      "X.shape (1051459, 11), basis_integral.shape (11, 1),beta.shape(11, 1)\n",
      "100%|███████████████████████████████████████████████████████████████| 60/60 [00:08<00:00,  6.80it/s]\n",
      "num itr 59 [[-1805863.13276525]] 0.01442472625711395\n",
      "beta [ 1.43746007e+01 -2.53877614e-02  1.44613885e+00 -1.51016259e+01  3.75806194e+01 -1.86863496e+01\n",
      "  1.43651743e+01 -5.24743117e+00 -1.76296175e+00 -3.76543897e-01 -1.24930588e+00]\n",
      "gradient [-3.69180902e+00 -6.52336683e+01 -5.64126816e-01 -1.55848327e+00 -2.87784866e+00 -1.74664416e+00\n",
      " -9.27963707e-01  4.80780029e-01 -3.67918057e-02 -1.00864339e+00 -6.71877415e-01]\n",
      "Finish 3.\n"
     ]
    },
    {
     "name": "stderr",
     "output_type": "stream",
     "text": [
      "/home/yuchen/workspace/Brain_Network/Code/jitter.py:4090: UserWarning: Reach max itrs 60. Last err:1.442e-02\n",
      "  warnings.warn(f'Reach max itrs {max_num_itrs}. Last err:{beta_err:.3e}')\n"
     ]
    },
    {
     "name": "stdout",
     "output_type": "stream",
     "text": [
      "#all trials:44375\t#batch trials:44375\n",
      "X.shape (1060048, 11), basis_integral.shape (11, 1),beta.shape(11, 1)\n",
      "100%|███████████████████████████████████████████████████████████████| 60/60 [00:08<00:00,  6.82it/s]\n",
      "num itr 59 [[-1830868.35013077]] 0.017830656113070695\n",
      "beta [ 14.55888038  -0.02821727  15.67178727  21.62458802 -23.2139733   22.73054745  -8.03698926   2.54079988\n",
      "  -3.78839138   1.49675152  -5.25178061]\n",
      "gradient [-2.22822841 83.14838168 -1.54351766 -1.27208966 -0.17470845 -1.75222683 -0.37179261  0.81911109  1.0691029\n",
      "  1.01347624  0.869029  ]\n",
      "Finish 4.\n"
     ]
    },
    {
     "name": "stderr",
     "output_type": "stream",
     "text": [
      "/home/yuchen/workspace/Brain_Network/Code/jitter.py:4090: UserWarning: Reach max itrs 60. Last err:1.783e-02\n",
      "  warnings.warn(f'Reach max itrs {max_num_itrs}. Last err:{beta_err:.3e}')\n"
     ]
    },
    {
     "data": {
      "image/png": "[encoded data removed]",
      "text/plain": [
       "<Figure size 1260x144 with 5 Axes>"
      ]
     },
     "metadata": {
      "needs_background": "light"
     },
     "output_type": "display_data"
    },
    {
     "name": "stdout",
     "output_type": "stream",
     "text": [
      "util.save_variable, save variable to:  /home/yuchen/workspace/Brain_Network/Output/jitter/coupling_filter/session791319847_CD_DE_condition19_joint_fit_fixed_portion_kernel70ms_11272021_2248/group_model_pars_joint_itr11_20211128_083316.pkl\n"
     ]
    },
    {
     "name": "stderr",
     "output_type": "stream",
     "text": [
      "[Parallel(n_jobs=12)]: Using backend LokyBackend with 12 concurrent workers.\n",
      "[Parallel(n_jobs=12)]: Done  26 tasks      | elapsed:   29.8s\n",
      "[Parallel(n_jobs=12)]: Done 176 tasks      | elapsed:  2.7min\n",
      "[Parallel(n_jobs=12)]: Done 300 out of 300 | elapsed:  4.8min finished\n",
      "[Parallel(n_jobs=12)]: Using backend LokyBackend with 12 concurrent workers.\n",
      "[Parallel(n_jobs=12)]: Done  26 tasks      | elapsed:   17.9s\n",
      "[Parallel(n_jobs=12)]: Done 176 tasks      | elapsed:  1.8min\n",
      "[Parallel(n_jobs=12)]: Done 300 out of 300 | elapsed:  3.1min finished\n"
     ]
    },
    {
     "name": "stdout",
     "output_type": "stream",
     "text": [
      "filter_membership.shape (660, 300)\n",
      "membership cnt [(0, 44581), (1, 40796), (2, 55749), (3, 28540), (4, 28334)]\n",
      "filter_membership.shape (300, 300)\n",
      "membership cnt [(0, 14675), (1, 18593), (2, 24496), (3, 16220), (4, 16016)]\n",
      "util.save_variable, save variable to:  /home/yuchen/workspace/Brain_Network/Output/jitter/coupling_filter/session791319847_CD_DE_condition19_joint_fit_fixed_portion_kernel70ms_11272021_2248/filter_membership_CD_itr12_20211128_084111.pkl\n",
      "util.save_variable, save variable to:  /home/yuchen/workspace/Brain_Network/Output/jitter/coupling_filter/session791319847_CD_DE_condition19_joint_fit_fixed_portion_kernel70ms_11272021_2248/filter_membership_DE_itr12_20211128_084111.pkl\n",
      "util.save_variable, save variable to:  /home/yuchen/workspace/Brain_Network/Output/jitter/coupling_filter/session791319847_CD_DE_condition19_joint_fit_fixed_portion_kernel70ms_11272021_2248/group_portion_itr12_20211128_084111.pkl\n",
      "filter_membership.shape (960, 300)\n",
      "#all trials:59389\t#batch trials:59389\n",
      "X.shape (1072632, 3), basis_integral.shape (3, 1),beta.shape(3, 1)\n",
      " 30%|██████████████████▉                                            | 18/60 [00:01<00:04,  9.64it/s]\n",
      "num itr 18 [[-1548376.91134642]] 5.061277654205831e-06\n",
      "beta [11.28804187 -0.1609221   3.66694721]\n",
      "gradient [ -0.29022128 -15.29263633   0.12935525]\n",
      "Finish 1.\n",
      "#all trials:80245\t#batch trials:80245\n",
      "X.shape (1392447, 3), basis_integral.shape (3, 1),beta.shape(3, 1)\n",
      " 28%|█████████████████▊                                             | 17/60 [00:02<00:06,  7.10it/s]\n",
      "num itr 17 [[-1950408.9889501]] 9.9757956689428e-06\n",
      "beta [10.84490257  0.22261448 -2.60261278]\n",
      "gradient [ -0.61629102 -20.1819695   -4.0876092 ]\n",
      "Finish 2.\n",
      "#all trials:44760\t#batch trials:44760\n",
      "X.shape (1056391, 11), basis_integral.shape (11, 1),beta.shape(11, 1)\n",
      "100%|███████████████████████████████████████████████████████████████| 60/60 [00:08<00:00,  6.71it/s]\n",
      "num itr 59 [[-1811230.11750116]] 0.01442390521659414\n",
      "beta [ 1.43304329e+01 -2.76956875e-02  1.14556545e+00 -1.45382163e+01  3.69712163e+01 -1.83982512e+01\n",
      "  1.42030205e+01 -5.30536669e+00 -1.49120446e+00 -9.64490778e-01 -5.85038882e-01]\n",
      "gradient [-2.90592474 17.65429379 -0.14780581 -1.19094235 -2.68739087 -1.06182787 -0.95852515 -0.25929407  0.8869093\n",
      "  0.38909217 -0.48799335]\n",
      "Finish 3.\n"
     ]
    },
    {
     "name": "stderr",
     "output_type": "stream",
     "text": [
      "/home/yuchen/workspace/Brain_Network/Code/jitter.py:4090: UserWarning: Reach max itrs 60. Last err:1.442e-02\n",
      "  warnings.warn(f'Reach max itrs {max_num_itrs}. Last err:{beta_err:.3e}')\n"
     ]
    },
    {
     "name": "stdout",
     "output_type": "stream",
     "text": [
      "#all trials:44350\t#batch trials:44350\n",
      "X.shape (1062403, 11), basis_integral.shape (11, 1),beta.shape(11, 1)\n",
      "100%|███████████████████████████████████████████████████████████████| 60/60 [00:08<00:00,  6.84it/s]\n",
      "num itr 59 [[-1837935.51238467]] 0.01632738437230057\n",
      "beta [ 14.59148661  -0.02900131  15.8866569   21.75937508 -23.5831983   23.14431323  -8.42320758   2.80219705\n",
      "  -3.87653204   1.36671887  -4.85989348]\n",
      "gradient [-2.24442027 75.75164793 -1.55157113 -1.27591516 -0.21698415 -1.77582656 -0.31733475  0.83899289  1.13616386\n",
      "  0.98865332  0.7452308 ]\n",
      "Finish 4.\n"
     ]
    },
    {
     "name": "stderr",
     "output_type": "stream",
     "text": [
      "/home/yuchen/workspace/Brain_Network/Code/jitter.py:4090: UserWarning: Reach max itrs 60. Last err:1.633e-02\n",
      "  warnings.warn(f'Reach max itrs {max_num_itrs}. Last err:{beta_err:.3e}')\n"
     ]
    },
    {
     "data": {
      "image/png": "[encoded data removed]",
      "text/plain": [
       "<Figure size 1260x144 with 5 Axes>"
      ]
     },
     "metadata": {
      "needs_background": "light"
     },
     "output_type": "display_data"
    },
    {
     "name": "stdout",
     "output_type": "stream",
     "text": [
      "util.save_variable, save variable to:  /home/yuchen/workspace/Brain_Network/Output/jitter/coupling_filter/session791319847_CD_DE_condition19_joint_fit_fixed_portion_kernel70ms_11272021_2248/group_model_pars_joint_itr12_20211128_085329.pkl\n"
     ]
    },
    {
     "name": "stderr",
     "output_type": "stream",
     "text": [
      "[Parallel(n_jobs=12)]: Using backend LokyBackend with 12 concurrent workers.\n",
      "[Parallel(n_jobs=12)]: Done  26 tasks      | elapsed:   29.5s\n",
      "[Parallel(n_jobs=12)]: Done 176 tasks      | elapsed:  2.7min\n",
      "[Parallel(n_jobs=12)]: Done 300 out of 300 | elapsed:  4.8min finished\n",
      "[Parallel(n_jobs=12)]: Using backend LokyBackend with 12 concurrent workers.\n",
      "[Parallel(n_jobs=12)]: Done  26 tasks      | elapsed:   19.3s\n",
      "[Parallel(n_jobs=12)]: Done 176 tasks      | elapsed:  1.8min\n",
      "[Parallel(n_jobs=12)]: Done 300 out of 300 | elapsed:  3.1min finished\n"
     ]
    },
    {
     "name": "stdout",
     "output_type": "stream",
     "text": [
      "filter_membership.shape (660, 300)\n",
      "membership cnt [(0, 44030), (1, 41823), (2, 54912), (3, 28751), (4, 28484)]\n",
      "filter_membership.shape (300, 300)\n",
      "membership cnt [(0, 14504), (1, 18824), (2, 24326), (3, 16272), (4, 16074)]\n",
      "util.save_variable, save variable to:  /home/yuchen/workspace/Brain_Network/Output/jitter/coupling_filter/session791319847_CD_DE_condition19_joint_fit_fixed_portion_kernel70ms_11272021_2248/filter_membership_CD_itr13_20211128_090126.pkl\n",
      "util.save_variable, save variable to:  /home/yuchen/workspace/Brain_Network/Output/jitter/coupling_filter/session791319847_CD_DE_condition19_joint_fit_fixed_portion_kernel70ms_11272021_2248/filter_membership_DE_itr13_20211128_090126.pkl\n",
      "util.save_variable, save variable to:  /home/yuchen/workspace/Brain_Network/Output/jitter/coupling_filter/session791319847_CD_DE_condition19_joint_fit_fixed_portion_kernel70ms_11272021_2248/group_portion_itr13_20211128_090126.pkl\n",
      "filter_membership.shape (960, 300)\n",
      "#all trials:60647\t#batch trials:60647\n",
      "X.shape (1078984, 3), basis_integral.shape (3, 1),beta.shape(3, 1)\n",
      " 28%|█████████████████▊                                             | 17/60 [00:01<00:04,  8.77it/s]\n",
      "num itr 17 [[-1541036.07596342]] 7.859900206519388e-06\n",
      "beta [11.11943584 -0.14060562  3.34464515]\n",
      "gradient [-0.06925827 -1.70518744 -0.03239119]\n",
      "Finish 1.\n",
      "#all trials:79238\t#batch trials:79238\n",
      "X.shape (1393004, 3), basis_integral.shape (3, 1),beta.shape(3, 1)\n",
      " 27%|████████████████▊                                              | 16/60 [00:02<00:05,  7.66it/s]\n",
      "num itr 16 [[-1970866.82888257]] 6.210958150565382e-06\n",
      "beta [10.98693468  0.25496459 -2.95808657]\n",
      "gradient [ -0.58767841 -27.20765191  -4.10085429]\n",
      "Finish 2.\n",
      "#all trials:45023\t#batch trials:45023\n",
      "X.shape (1062233, 11), basis_integral.shape (11, 1),beta.shape(11, 1)\n",
      "100%|███████████████████████████████████████████████████████████████| 60/60 [00:08<00:00,  6.87it/s]\n",
      "num itr 59 [[-1820661.85074531]] 0.0165216293057818\n",
      "beta [ 1.43143142e+01 -3.36032876e-02  1.40800928e+00 -1.41433577e+01  3.64976030e+01 -1.78445396e+01\n",
      "  1.37428578e+01 -5.24384595e+00 -1.18895455e+00 -1.14510603e+00 -6.89045693e-01]\n",
      "gradient [-2.97454728 49.14105385 -0.23730166 -1.17281382 -2.77389806 -1.21127462 -0.70276749 -0.09248326  0.63398596\n",
      "  0.48626342  0.29266932]\n",
      "Finish 3.\n"
     ]
    },
    {
     "name": "stderr",
     "output_type": "stream",
     "text": [
      "/home/yuchen/workspace/Brain_Network/Code/jitter.py:4090: UserWarning: Reach max itrs 60. Last err:1.652e-02\n",
      "  warnings.warn(f'Reach max itrs {max_num_itrs}. Last err:{beta_err:.3e}')\n"
     ]
    },
    {
     "name": "stdout",
     "output_type": "stream",
     "text": [
      "#all trials:44558\t#batch trials:44558\n",
      "X.shape (1065052, 11), basis_integral.shape (11, 1),beta.shape(11, 1)\n",
      "100%|███████████████████████████████████████████████████████████████| 60/60 [00:08<00:00,  6.85it/s]\n",
      "num itr 59 [[-1840139.2349777]] 0.018503404769025348\n",
      "beta [ 14.57699717  -0.02665827  15.94190519  21.3460891  -23.3832458   22.85877784  -8.12798888   2.59780101\n",
      "  -3.7936019    1.5226049   -5.35837854]\n",
      "gradient [-2.19323347 80.32707112 -1.55165853 -1.25191421 -0.1408573  -1.74771753 -0.36768689  0.89115388  1.08729899\n",
      "  0.9905644   0.93546512]\n",
      "Finish 4.\n"
     ]
    },
    {
     "name": "stderr",
     "output_type": "stream",
     "text": [
      "/home/yuchen/workspace/Brain_Network/Code/jitter.py:4090: UserWarning: Reach max itrs 60. Last err:1.850e-02\n",
      "  warnings.warn(f'Reach max itrs {max_num_itrs}. Last err:{beta_err:.3e}')\n"
     ]
    },
    {
     "data": {
      "image/png": "[encoded data removed]",
      "text/plain": [
       "<Figure size 1260x144 with 5 Axes>"
      ]
     },
     "metadata": {
      "needs_background": "light"
     },
     "output_type": "display_data"
    },
    {
     "name": "stdout",
     "output_type": "stream",
     "text": [
      "util.save_variable, save variable to:  /home/yuchen/workspace/Brain_Network/Output/jitter/coupling_filter/session791319847_CD_DE_condition19_joint_fit_fixed_portion_kernel70ms_11272021_2248/group_model_pars_joint_itr13_20211128_091351.pkl\n"
     ]
    },
    {
     "name": "stderr",
     "output_type": "stream",
     "text": [
      "[Parallel(n_jobs=12)]: Using backend LokyBackend with 12 concurrent workers.\n",
      "[Parallel(n_jobs=12)]: Done  26 tasks      | elapsed:   30.5s\n",
      "[Parallel(n_jobs=12)]: Done 176 tasks      | elapsed:  2.7min\n",
      "[Parallel(n_jobs=12)]: Done 300 out of 300 | elapsed:  4.8min finished\n",
      "[Parallel(n_jobs=12)]: Using backend LokyBackend with 12 concurrent workers.\n",
      "[Parallel(n_jobs=12)]: Done  26 tasks      | elapsed:   18.1s\n",
      "[Parallel(n_jobs=12)]: Done 176 tasks      | elapsed:  1.8min\n",
      "[Parallel(n_jobs=12)]: Done 300 out of 300 | elapsed:  3.1min finished\n"
     ]
    },
    {
     "name": "stdout",
     "output_type": "stream",
     "text": [
      "filter_membership.shape (660, 300)\n",
      "membership cnt [(0, 44246), (1, 41188), (2, 55452), (3, 28506), (4, 28608)]\n",
      "filter_membership.shape (300, 300)\n",
      "membership cnt [(0, 14574), (1, 18658), (2, 24489), (3, 16184), (4, 16095)]\n",
      "util.save_variable, save variable to:  /home/yuchen/workspace/Brain_Network/Output/jitter/coupling_filter/session791319847_CD_DE_condition19_joint_fit_fixed_portion_kernel70ms_11272021_2248/filter_membership_CD_itr14_20211128_092148.pkl\n",
      "util.save_variable, save variable to:  /home/yuchen/workspace/Brain_Network/Output/jitter/coupling_filter/session791319847_CD_DE_condition19_joint_fit_fixed_portion_kernel70ms_11272021_2248/filter_membership_DE_itr14_20211128_092148.pkl\n",
      "util.save_variable, save variable to:  /home/yuchen/workspace/Brain_Network/Output/jitter/coupling_filter/session791319847_CD_DE_condition19_joint_fit_fixed_portion_kernel70ms_11272021_2248/group_portion_itr14_20211128_092148.pkl\n",
      "filter_membership.shape (960, 300)\n",
      "#all trials:59846\t#batch trials:59846\n",
      "X.shape (1072917, 3), basis_integral.shape (3, 1),beta.shape(3, 1)\n",
      " 28%|█████████████████▊                                             | 17/60 [00:01<00:04, 10.01it/s]\n",
      "num itr 17 [[-1541014.00061217]] 4.987185197202759e-06\n",
      "beta [11.20480757 -0.15936934  3.67656124]\n",
      "gradient [-0.21181879 -9.58100297  0.04645412]\n",
      "Finish 1.\n",
      "#all trials:79941\t#batch trials:79941\n",
      "X.shape (1396748, 3), basis_integral.shape (3, 1),beta.shape(3, 1)\n",
      " 35%|██████████████████████                                         | 21/60 [00:02<00:05,  7.78it/s]\n",
      "num itr 21 [[-1966449.76915445]] 9.675899903111018e-06\n",
      "beta [10.91957646  0.23706495 -2.77333574]\n",
      "gradient [ -0.72537018 -36.19805445  -5.93480938]\n",
      "Finish 2.\n",
      "#all trials:44690\t#batch trials:44690\n",
      "X.shape (1057516, 11), basis_integral.shape (11, 1),beta.shape(11, 1)\n",
      "100%|███████████████████████████████████████████████████████████████| 60/60 [00:08<00:00,  6.77it/s]\n",
      "num itr 59 [[-1816097.50887631]] 0.013294568747636421\n",
      "beta [ 1.43868300e+01 -2.62203200e-02  9.62258606e-01 -1.44911321e+01  3.74865597e+01 -1.83190864e+01\n",
      "  1.40006452e+01 -5.73046977e+00 -1.20092591e+00 -1.12376140e+00 -9.49950781e-01]\n",
      "gradient [-2.38207535e+00  5.15884837e+01 -1.19079603e-03 -9.53219103e-01 -2.77649275e+00 -1.00697694e+00\n",
      " -5.26603094e-01  5.62994560e-01  1.27794077e+00  6.21355635e-01  3.50189203e-01]\n",
      "Finish 3.\n"
     ]
    },
    {
     "name": "stderr",
     "output_type": "stream",
     "text": [
      "/home/yuchen/workspace/Brain_Network/Code/jitter.py:4090: UserWarning: Reach max itrs 60. Last err:1.329e-02\n",
      "  warnings.warn(f'Reach max itrs {max_num_itrs}. Last err:{beta_err:.3e}')\n"
     ]
    },
    {
     "name": "stdout",
     "output_type": "stream",
     "text": [
      "#all trials:44703\t#batch trials:44703\n",
      "X.shape (1066818, 11), basis_integral.shape (11, 1),beta.shape(11, 1)\n",
      "100%|███████████████████████████████████████████████████████████████| 60/60 [00:08<00:00,  6.72it/s]\n",
      "num itr 59 [[-1841468.88625299]] 0.015951839007429625\n",
      "beta [ 14.54900634  -0.02885177  15.86056259  21.15608905 -23.33010009  22.88947853  -8.34579982   2.79255503\n",
      "  -3.8669436    1.43359761  -4.9652001 ]\n",
      "gradient [-2.35837594 74.36346162 -1.55110791 -1.2710931  -0.24292553 -1.79004355 -0.32994559  0.82216491  1.17145993\n",
      "  0.99382789  0.74987136]\n",
      "Finish 4.\n"
     ]
    },
    {
     "name": "stderr",
     "output_type": "stream",
     "text": [
      "/home/yuchen/workspace/Brain_Network/Code/jitter.py:4090: UserWarning: Reach max itrs 60. Last err:1.595e-02\n",
      "  warnings.warn(f'Reach max itrs {max_num_itrs}. Last err:{beta_err:.3e}')\n"
     ]
    },
    {
     "data": {
      "image/png": "[encoded data removed]",
      "text/plain": [
       "<Figure size 1260x144 with 5 Axes>"
      ]
     },
     "metadata": {
      "needs_background": "light"
     },
     "output_type": "display_data"
    },
    {
     "name": "stdout",
     "output_type": "stream",
     "text": [
      "util.save_variable, save variable to:  /home/yuchen/workspace/Brain_Network/Output/jitter/coupling_filter/session791319847_CD_DE_condition19_joint_fit_fixed_portion_kernel70ms_11272021_2248/group_model_pars_joint_itr14_20211128_093418.pkl\n"
     ]
    },
    {
     "name": "stderr",
     "output_type": "stream",
     "text": [
      "[Parallel(n_jobs=12)]: Using backend LokyBackend with 12 concurrent workers.\n",
      "[Parallel(n_jobs=12)]: Done  26 tasks      | elapsed:   30.1s\n",
      "[Parallel(n_jobs=12)]: Done 176 tasks      | elapsed:  2.7min\n",
      "[Parallel(n_jobs=12)]: Done 300 out of 300 | elapsed:  4.8min finished\n",
      "[Parallel(n_jobs=12)]: Using backend LokyBackend with 12 concurrent workers.\n",
      "[Parallel(n_jobs=12)]: Done  26 tasks      | elapsed:   18.0s\n",
      "[Parallel(n_jobs=12)]: Done 176 tasks      | elapsed:  1.8min\n",
      "[Parallel(n_jobs=12)]: Done 300 out of 300 | elapsed:  3.1min finished\n"
     ]
    },
    {
     "name": "stdout",
     "output_type": "stream",
     "text": [
      "filter_membership.shape (660, 300)\n",
      "membership cnt [(0, 44477), (1, 41635), (2, 55139), (3, 28452), (4, 28297)]\n",
      "filter_membership.shape (300, 300)\n",
      "membership cnt [(0, 14636), (1, 18847), (2, 24411), (3, 16101), (4, 16005)]\n",
      "util.save_variable, save variable to:  /home/yuchen/workspace/Brain_Network/Output/jitter/coupling_filter/session791319847_CD_DE_condition19_joint_fit_fixed_portion_kernel70ms_11272021_2248/filter_membership_CD_itr15_20211128_094212.pkl\n",
      "util.save_variable, save variable to:  /home/yuchen/workspace/Brain_Network/Output/jitter/coupling_filter/session791319847_CD_DE_condition19_joint_fit_fixed_portion_kernel70ms_11272021_2248/filter_membership_DE_itr15_20211128_094212.pkl\n",
      "util.save_variable, save variable to:  /home/yuchen/workspace/Brain_Network/Output/jitter/coupling_filter/session791319847_CD_DE_condition19_joint_fit_fixed_portion_kernel70ms_11272021_2248/group_portion_itr15_20211128_094212.pkl\n",
      "filter_membership.shape (960, 300)\n",
      "#all trials:60482\t#batch trials:60482\n",
      "X.shape (1082343, 3), basis_integral.shape (3, 1),beta.shape(3, 1)\n",
      " 30%|██████████████████▉                                            | 18/60 [00:01<00:04,  9.87it/s]\n",
      "num itr 18 [[-1552530.81923382]] 5.098722589469418e-06\n",
      "beta [11.18435863 -0.1636012   3.616791  ]\n",
      "gradient [-0.01015269  0.93592559 -0.03377227]\n",
      "Finish 1.\n",
      "#all trials:79550\t#batch trials:79550\n",
      "X.shape (1391940, 3), basis_integral.shape (3, 1),beta.shape(3, 1)\n",
      " 30%|██████████████████▉                                            | 18/60 [00:02<00:05,  7.73it/s]\n",
      "num itr 18 [[-1962692.5132521]] 6.4255604997898175e-06\n",
      "beta [10.93558177  0.24961646 -2.89675495]\n",
      "gradient [ -0.27298349 -12.8103684   -2.02926146]\n",
      "Finish 2.\n",
      "#all trials:44553\t#batch trials:44553\n",
      "X.shape (1053435, 11), basis_integral.shape (11, 1),beta.shape(11, 1)\n",
      "100%|███████████████████████████████████████████████████████████████| 60/60 [00:08<00:00,  6.91it/s]\n",
      "num itr 59 [[-1808168.26245262]] 0.01325943081039516\n",
      "beta [ 1.44194734e+01 -2.12287109e-02  4.71080179e-01 -1.45060884e+01  3.73337493e+01 -1.82156015e+01\n",
      "  1.36665149e+01 -5.86693758e+00 -1.22199349e+00 -1.11485943e+00 -1.13881270e+00]\n",
      "gradient [-2.15353017 66.34986746  0.17945892 -0.86239618 -2.69632679 -0.76793172 -0.33390824  0.83650176  1.49634008\n",
      "  0.76176579  0.47972296]\n",
      "Finish 3.\n"
     ]
    },
    {
     "name": "stderr",
     "output_type": "stream",
     "text": [
      "/home/yuchen/workspace/Brain_Network/Code/jitter.py:4090: UserWarning: Reach max itrs 60. Last err:1.326e-02\n",
      "  warnings.warn(f'Reach max itrs {max_num_itrs}. Last err:{beta_err:.3e}')\n"
     ]
    },
    {
     "name": "stdout",
     "output_type": "stream",
     "text": [
      "#all trials:44302\t#batch trials:44302\n",
      "X.shape (1061081, 11), basis_integral.shape (11, 1),beta.shape(11, 1)\n",
      "100%|███████████████████████████████████████████████████████████████| 60/60 [00:08<00:00,  6.75it/s]\n",
      "num itr 59 [[-1835319.34585144]] 0.01647589940117007\n",
      "beta [ 14.62614426  -0.02508466  15.99742154  20.8640333  -23.14541257  23.05388828  -8.74474822   2.96557544\n",
      "  -3.86603221   1.42579121  -5.51904392]\n",
      "gradient [-2.21569519 72.69665358 -1.53835544 -1.25419797 -0.26734063 -1.78979516 -0.18874634  0.90516498  1.1109631\n",
      "  1.05355472  0.99016149]\n",
      "Finish 4.\n"
     ]
    },
    {
     "name": "stderr",
     "output_type": "stream",
     "text": [
      "/home/yuchen/workspace/Brain_Network/Code/jitter.py:4090: UserWarning: Reach max itrs 60. Last err:1.648e-02\n",
      "  warnings.warn(f'Reach max itrs {max_num_itrs}. Last err:{beta_err:.3e}')\n"
     ]
    },
    {
     "data": {
      "image/png": "[encoded data removed]",
      "text/plain": [
       "<Figure size 1260x144 with 5 Axes>"
      ]
     },
     "metadata": {
      "needs_background": "light"
     },
     "output_type": "display_data"
    },
    {
     "name": "stdout",
     "output_type": "stream",
     "text": [
      "util.save_variable, save variable to:  /home/yuchen/workspace/Brain_Network/Output/jitter/coupling_filter/session791319847_CD_DE_condition19_joint_fit_fixed_portion_kernel70ms_11272021_2248/group_model_pars_joint_itr15_20211128_095439.pkl\n"
     ]
    },
    {
     "name": "stderr",
     "output_type": "stream",
     "text": [
      "[Parallel(n_jobs=12)]: Using backend LokyBackend with 12 concurrent workers.\n",
      "[Parallel(n_jobs=12)]: Done  26 tasks      | elapsed:   30.0s\n",
      "[Parallel(n_jobs=12)]: Done 176 tasks      | elapsed:  2.7min\n",
      "[Parallel(n_jobs=12)]: Done 300 out of 300 | elapsed:  4.8min finished\n",
      "[Parallel(n_jobs=12)]: Using backend LokyBackend with 12 concurrent workers.\n",
      "[Parallel(n_jobs=12)]: Done  26 tasks      | elapsed:   17.9s\n",
      "[Parallel(n_jobs=12)]: Done 176 tasks      | elapsed:  1.8min\n",
      "[Parallel(n_jobs=12)]: Done 300 out of 300 | elapsed:  3.1min finished\n"
     ]
    },
    {
     "name": "stdout",
     "output_type": "stream",
     "text": [
      "filter_membership.shape (660, 300)\n",
      "membership cnt [(0, 44505), (1, 41632), (2, 55000), (3, 28518), (4, 28345)]\n",
      "filter_membership.shape (300, 300)\n",
      "membership cnt [(0, 14737), (1, 18953), (2, 24242), (3, 16095), (4, 15973)]\n",
      "util.save_variable, save variable to:  /home/yuchen/workspace/Brain_Network/Output/jitter/coupling_filter/session791319847_CD_DE_condition19_joint_fit_fixed_portion_kernel70ms_11272021_2248/filter_membership_CD_itr16_20211128_100233.pkl\n",
      "util.save_variable, save variable to:  /home/yuchen/workspace/Brain_Network/Output/jitter/coupling_filter/session791319847_CD_DE_condition19_joint_fit_fixed_portion_kernel70ms_11272021_2248/filter_membership_DE_itr16_20211128_100233.pkl\n",
      "util.save_variable, save variable to:  /home/yuchen/workspace/Brain_Network/Output/jitter/coupling_filter/session791319847_CD_DE_condition19_joint_fit_fixed_portion_kernel70ms_11272021_2248/group_portion_itr16_20211128_100233.pkl\n",
      "filter_membership.shape (960, 300)\n",
      "#all trials:60585\t#batch trials:60585\n",
      "X.shape (1087597, 3), basis_integral.shape (3, 1),beta.shape(3, 1)\n",
      " 28%|█████████████████▊                                             | 17/60 [00:01<00:04,  9.71it/s]\n",
      "num itr 17 [[-1563599.08195441]] 9.605293332770604e-06\n",
      "beta [11.21956294 -0.16381282  3.66273099]\n",
      "gradient [-0.07596768 -0.70778062 -0.04272976]\n",
      "Finish 1.\n",
      "#all trials:79242\t#batch trials:79242\n",
      "X.shape (1383689, 3), basis_integral.shape (3, 1),beta.shape(3, 1)\n",
      " 27%|████████████████▊                                              | 16/60 [00:02<00:05,  7.74it/s]\n",
      "num itr 16 [[-1948299.79241172]] 6.070222942244907e-06\n",
      "beta [10.91280046  0.24613481 -2.95455096]\n",
      "gradient [-0.11673569 -1.02641098 -0.1201086 ]\n",
      "Finish 2.\n",
      "#all trials:44613\t#batch trials:44613\n",
      "X.shape (1053067, 11), basis_integral.shape (11, 1),beta.shape(11, 1)\n",
      "100%|███████████████████████████████████████████████████████████████| 60/60 [00:08<00:00,  6.73it/s]\n",
      "num itr 59 [[-1805637.76365902]] 0.012677618705720588\n",
      "beta [ 1.44184931e+01 -2.21859562e-02  4.27219425e-01 -1.41791229e+01  3.67138573e+01 -1.78017612e+01\n",
      "  1.32287815e+01 -5.87347492e+00 -1.21106783e+00 -1.10500546e+00 -1.32069663e+00]\n",
      "gradient [-2.24993943 70.138517    0.13337939 -0.84352789 -2.67800477 -0.75225053 -0.26853883  0.84769372  1.51924986\n",
      "  0.86695243  0.54872031]\n",
      "Finish 3.\n"
     ]
    },
    {
     "name": "stderr",
     "output_type": "stream",
     "text": [
      "/home/yuchen/workspace/Brain_Network/Code/jitter.py:4090: UserWarning: Reach max itrs 60. Last err:1.268e-02\n",
      "  warnings.warn(f'Reach max itrs {max_num_itrs}. Last err:{beta_err:.3e}')\n"
     ]
    },
    {
     "name": "stdout",
     "output_type": "stream",
     "text": [
      "#all trials:44318\t#batch trials:44318\n",
      "X.shape (1059039, 11), basis_integral.shape (11, 1),beta.shape(11, 1)\n",
      "100%|███████████████████████████████████████████████████████████████| 60/60 [00:08<00:00,  6.83it/s]\n",
      "num itr 59 [[-1829400.60651804]] 0.016156783915243677\n",
      "beta [ 1.46057535e+01 -2.27010564e-02  1.61214399e+01  2.07243741e+01 -2.32685891e+01  2.29297757e+01\n",
      " -8.37909536e+00  2.70215368e+00 -3.71174759e+00  1.23904109e+00 -5.63468217e+00]\n",
      "gradient [-2.1423137  79.53376666 -1.54062091 -1.19594482 -0.10569227 -1.74196836 -0.32768786  0.96657745  1.21774196\n",
      "  1.10911679  0.98713515]\n",
      "Finish 4.\n"
     ]
    },
    {
     "name": "stderr",
     "output_type": "stream",
     "text": [
      "/home/yuchen/workspace/Brain_Network/Code/jitter.py:4090: UserWarning: Reach max itrs 60. Last err:1.616e-02\n",
      "  warnings.warn(f'Reach max itrs {max_num_itrs}. Last err:{beta_err:.3e}')\n"
     ]
    },
    {
     "data": {
      "image/png": "[encoded data removed]",
      "text/plain": [
       "<Figure size 1260x144 with 5 Axes>"
      ]
     },
     "metadata": {
      "needs_background": "light"
     },
     "output_type": "display_data"
    },
    {
     "name": "stdout",
     "output_type": "stream",
     "text": [
      "util.save_variable, save variable to:  /home/yuchen/workspace/Brain_Network/Output/jitter/coupling_filter/session791319847_CD_DE_condition19_joint_fit_fixed_portion_kernel70ms_11272021_2248/group_model_pars_joint_itr16_20211128_101453.pkl\n"
     ]
    },
    {
     "name": "stderr",
     "output_type": "stream",
     "text": [
      "[Parallel(n_jobs=12)]: Using backend LokyBackend with 12 concurrent workers.\n",
      "[Parallel(n_jobs=12)]: Done  26 tasks      | elapsed:   30.8s\n",
      "[Parallel(n_jobs=12)]: Done 176 tasks      | elapsed:  2.7min\n",
      "[Parallel(n_jobs=12)]: Done 300 out of 300 | elapsed:  4.8min finished\n",
      "[Parallel(n_jobs=12)]: Using backend LokyBackend with 12 concurrent workers.\n",
      "[Parallel(n_jobs=12)]: Done  26 tasks      | elapsed:   18.0s\n",
      "[Parallel(n_jobs=12)]: Done 176 tasks      | elapsed:  1.8min\n",
      "[Parallel(n_jobs=12)]: Done 300 out of 300 | elapsed:  3.1min finished\n"
     ]
    },
    {
     "name": "stdout",
     "output_type": "stream",
     "text": [
      "filter_membership.shape (660, 300)\n",
      "membership cnt [(0, 44727), (1, 41749), (2, 54791), (3, 28382), (4, 28351)]\n",
      "filter_membership.shape (300, 300)\n",
      "membership cnt [(0, 14816), (1, 18999), (2, 24224), (3, 16030), (4, 15931)]\n",
      "util.save_variable, save variable to:  /home/yuchen/workspace/Brain_Network/Output/jitter/coupling_filter/session791319847_CD_DE_condition19_joint_fit_fixed_portion_kernel70ms_11272021_2248/filter_membership_CD_itr17_20211128_102249.pkl\n",
      "util.save_variable, save variable to:  /home/yuchen/workspace/Brain_Network/Output/jitter/coupling_filter/session791319847_CD_DE_condition19_joint_fit_fixed_portion_kernel70ms_11272021_2248/filter_membership_DE_itr17_20211128_102249.pkl\n",
      "util.save_variable, save variable to:  /home/yuchen/workspace/Brain_Network/Output/jitter/coupling_filter/session791319847_CD_DE_condition19_joint_fit_fixed_portion_kernel70ms_11272021_2248/group_portion_itr17_20211128_102249.pkl\n",
      "filter_membership.shape (960, 300)\n",
      "#all trials:60748\t#batch trials:60748\n",
      "X.shape (1092290, 3), basis_integral.shape (3, 1),beta.shape(3, 1)\n",
      " 28%|█████████████████▊                                             | 17/60 [00:01<00:04,  9.84it/s]\n",
      "num itr 17 [[-1571508.31436338]] 7.872288381283177e-06\n",
      "beta [11.23783579 -0.14324393  3.38011972]\n",
      "gradient [-0.14549056 -6.65587011  0.01096709]\n",
      "Finish 1.\n",
      "#all trials:79015\t#batch trials:79015\n",
      "X.shape (1379924, 3), basis_integral.shape (3, 1),beta.shape(3, 1)\n",
      " 35%|██████████████████████                                         | 21/60 [00:02<00:04,  7.84it/s]\n",
      "num itr 21 [[-1943792.56174518]] 8.076667899703516e-06\n",
      "beta [10.91419315  0.25112037 -3.12015142]\n",
      "gradient [ -0.56819688 -10.76667057  -2.82526558]\n",
      "Finish 2.\n",
      "#all trials:44412\t#batch trials:44412\n",
      "X.shape (1049516, 11), basis_integral.shape (11, 1),beta.shape(11, 1)\n",
      "100%|███████████████████████████████████████████████████████████████| 60/60 [00:08<00:00,  6.90it/s]\n",
      "num itr 59 [[-1800608.26816429]] 0.01747890051694625\n",
      "beta [ 1.43581123e+01 -3.24109669e-02  5.78003451e-01 -1.34463738e+01  3.64440613e+01 -1.74604048e+01\n",
      "  1.30506194e+01 -5.41563922e+00 -8.23950650e-01 -1.85015391e+00 -2.47533682e-01]\n",
      "gradient [ -7.12413192 -11.68593639  -2.35522848  -3.05713679  -3.66134885  -3.96197975  -2.30864375  -6.51766558\n",
      "  -4.32373182   0.22654341   0.33437883]\n",
      "Finish 3.\n"
     ]
    },
    {
     "name": "stderr",
     "output_type": "stream",
     "text": [
      "/home/yuchen/workspace/Brain_Network/Code/jitter.py:4090: UserWarning: Reach max itrs 60. Last err:1.748e-02\n",
      "  warnings.warn(f'Reach max itrs {max_num_itrs}. Last err:{beta_err:.3e}')\n"
     ]
    },
    {
     "name": "stdout",
     "output_type": "stream",
     "text": [
      "#all trials:44282\t#batch trials:44282\n",
      "X.shape (1056661, 11), basis_integral.shape (11, 1),beta.shape(11, 1)\n",
      "100%|███████████████████████████████████████████████████████████████| 60/60 [00:08<00:00,  6.91it/s]\n",
      "num itr 59 [[-1823735.04868739]] 0.01766552064125861\n",
      "beta [ 14.57430242  -0.02440265  16.18456255  20.45804034 -23.21894276  22.81847851  -8.27879826   2.70917801\n",
      "  -3.67262312   1.32687222  -5.49714394]\n",
      "gradient [-2.14029918e+00  8.66194632e+01 -1.53804120e+00 -1.17120515e+00 -6.29749534e-02 -1.71135442e+00\n",
      " -2.75381087e-01  9.19355447e-01  1.14830641e+00  1.07270878e+00  9.53419267e-01]\n",
      "Finish 4.\n"
     ]
    },
    {
     "name": "stderr",
     "output_type": "stream",
     "text": [
      "/home/yuchen/workspace/Brain_Network/Code/jitter.py:4090: UserWarning: Reach max itrs 60. Last err:1.767e-02\n",
      "  warnings.warn(f'Reach max itrs {max_num_itrs}. Last err:{beta_err:.3e}')\n"
     ]
    },
    {
     "data": {
      "image/png": "[encoded data removed]",
      "text/plain": [
       "<Figure size 1260x144 with 5 Axes>"
      ]
     },
     "metadata": {
      "needs_background": "light"
     },
     "output_type": "display_data"
    },
    {
     "name": "stdout",
     "output_type": "stream",
     "text": [
      "util.save_variable, save variable to:  /home/yuchen/workspace/Brain_Network/Output/jitter/coupling_filter/session791319847_CD_DE_condition19_joint_fit_fixed_portion_kernel70ms_11272021_2248/group_model_pars_joint_itr17_20211128_103511.pkl\n"
     ]
    },
    {
     "name": "stderr",
     "output_type": "stream",
     "text": [
      "[Parallel(n_jobs=12)]: Using backend LokyBackend with 12 concurrent workers.\n",
      "[Parallel(n_jobs=12)]: Done  26 tasks      | elapsed:   30.3s\n",
      "[Parallel(n_jobs=12)]: Done 176 tasks      | elapsed:  2.8min\n",
      "[Parallel(n_jobs=12)]: Done 300 out of 300 | elapsed:  4.8min finished\n",
      "[Parallel(n_jobs=12)]: Using backend LokyBackend with 12 concurrent workers.\n",
      "[Parallel(n_jobs=12)]: Done  26 tasks      | elapsed:   18.2s\n",
      "[Parallel(n_jobs=12)]: Done 176 tasks      | elapsed:  1.8min\n",
      "[Parallel(n_jobs=12)]: Done 300 out of 300 | elapsed:  3.1min finished\n"
     ]
    },
    {
     "name": "stdout",
     "output_type": "stream",
     "text": [
      "filter_membership.shape (660, 300)\n",
      "membership cnt [(0, 44609), (1, 40987), (2, 55664), (3, 28271), (4, 28469)]\n",
      "filter_membership.shape (300, 300)\n",
      "membership cnt [(0, 14774), (1, 18681), (2, 24498), (3, 16048), (4, 15999)]\n",
      "util.save_variable, save variable to:  /home/yuchen/workspace/Brain_Network/Output/jitter/coupling_filter/session791319847_CD_DE_condition19_joint_fit_fixed_portion_kernel70ms_11272021_2248/filter_membership_CD_itr18_20211128_104308.pkl\n",
      "util.save_variable, save variable to:  /home/yuchen/workspace/Brain_Network/Output/jitter/coupling_filter/session791319847_CD_DE_condition19_joint_fit_fixed_portion_kernel70ms_11272021_2248/filter_membership_DE_itr18_20211128_104308.pkl\n",
      "util.save_variable, save variable to:  /home/yuchen/workspace/Brain_Network/Output/jitter/coupling_filter/session791319847_CD_DE_condition19_joint_fit_fixed_portion_kernel70ms_11272021_2248/group_portion_itr18_20211128_104308.pkl\n",
      "filter_membership.shape (960, 300)\n",
      "#all trials:59668\t#batch trials:59668\n",
      "X.shape (1076984, 3), basis_integral.shape (3, 1),beta.shape(3, 1)\n",
      " 28%|█████████████████▊                                             | 17/60 [00:01<00:04,  9.83it/s]\n",
      "num itr 17 [[-1554057.66024228]] 9.40113119354824e-06\n",
      "beta [11.28081225 -0.16157607  3.66104114]\n",
      "gradient [-0.02245666  1.85474023 -0.06277463]\n",
      "Finish 1.\n",
      "#all trials:80162\t#batch trials:80162\n",
      "X.shape (1392919, 3), basis_integral.shape (3, 1),beta.shape(3, 1)\n",
      " 32%|███████████████████▉                                           | 19/60 [00:02<00:05,  7.40it/s]\n",
      "num itr 19 [[-1954420.96571115]] 6.858090702138719e-06\n",
      "beta [10.85944578  0.24701376 -2.97614482]\n",
      "gradient [ -0.15313956 -10.67803594  -1.32954271]\n",
      "Finish 2.\n",
      "#all trials:44319\t#batch trials:44319\n",
      "X.shape (1049999, 11), basis_integral.shape (11, 1),beta.shape(11, 1)\n",
      "100%|███████████████████████████████████████████████████████████████| 60/60 [00:08<00:00,  6.91it/s]\n",
      "num itr 59 [[-1804467.11462115]] 0.01668768033384766\n",
      "beta [ 1.43762014e+01 -3.32113924e-02  5.64564117e-01 -1.36862651e+01  3.71918604e+01 -1.74327049e+01\n",
      "  1.31053462e+01 -5.58317638e+00 -6.87890723e-01 -1.80619121e+00 -4.62001568e-01]\n",
      "gradient [-2.61554256 42.86976651 -0.13005468 -1.01372862 -2.89597719 -1.2829862  -0.49110077  0.42437686  1.01593992\n",
      "  0.51576274  0.30271539]\n",
      "Finish 3.\n"
     ]
    },
    {
     "name": "stderr",
     "output_type": "stream",
     "text": [
      "/home/yuchen/workspace/Brain_Network/Code/jitter.py:4090: UserWarning: Reach max itrs 60. Last err:1.669e-02\n",
      "  warnings.warn(f'Reach max itrs {max_num_itrs}. Last err:{beta_err:.3e}')\n"
     ]
    },
    {
     "name": "stdout",
     "output_type": "stream",
     "text": [
      "#all trials:44468\t#batch trials:44468\n",
      "X.shape (1061630, 11), basis_integral.shape (11, 1),beta.shape(11, 1)\n",
      "100%|███████████████████████████████████████████████████████████████| 60/60 [00:08<00:00,  6.79it/s]\n",
      "num itr 59 [[-1832937.67152089]] 0.01603624827205073\n",
      "beta [ 14.57429459  -0.02540632  16.29974904  20.57734089 -23.5197033   23.07000425  -8.54295899   2.8932707\n",
      "  -3.76881695   1.31304707  -5.16285166]\n",
      "gradient [-2.19000895e+00  8.17770849e+01 -1.55154195e+00 -1.17719547e+00 -7.73911706e-02 -1.72309361e+00\n",
      " -2.31099782e-01  9.16184156e-01  1.17317097e+00  1.03761542e+00  8.31803697e-01]\n",
      "Finish 4.\n"
     ]
    },
    {
     "name": "stderr",
     "output_type": "stream",
     "text": [
      "/home/yuchen/workspace/Brain_Network/Code/jitter.py:4090: UserWarning: Reach max itrs 60. Last err:1.604e-02\n",
      "  warnings.warn(f'Reach max itrs {max_num_itrs}. Last err:{beta_err:.3e}')\n"
     ]
    },
    {
     "data": {
      "image/png": "[encoded data removed]",
      "text/plain": [
       "<Figure size 1260x144 with 5 Axes>"
      ]
     },
     "metadata": {
      "needs_background": "light"
     },
     "output_type": "display_data"
    },
    {
     "name": "stdout",
     "output_type": "stream",
     "text": [
      "util.save_variable, save variable to:  /home/yuchen/workspace/Brain_Network/Output/jitter/coupling_filter/session791319847_CD_DE_condition19_joint_fit_fixed_portion_kernel70ms_11272021_2248/group_model_pars_joint_itr18_20211128_105555.pkl\n"
     ]
    },
    {
     "name": "stderr",
     "output_type": "stream",
     "text": [
      "[Parallel(n_jobs=12)]: Using backend LokyBackend with 12 concurrent workers.\n",
      "[Parallel(n_jobs=12)]: Done  26 tasks      | elapsed:   30.1s\n",
      "[Parallel(n_jobs=12)]: Done 176 tasks      | elapsed:  2.7min\n",
      "[Parallel(n_jobs=12)]: Done 300 out of 300 | elapsed:  4.8min finished\n",
      "[Parallel(n_jobs=12)]: Using backend LokyBackend with 12 concurrent workers.\n",
      "[Parallel(n_jobs=12)]: Done  26 tasks      | elapsed:   18.1s\n",
      "[Parallel(n_jobs=12)]: Done 176 tasks      | elapsed:  1.8min\n",
      "[Parallel(n_jobs=12)]: Done 300 out of 300 | elapsed:  3.1min finished\n"
     ]
    },
    {
     "name": "stdout",
     "output_type": "stream",
     "text": [
      "filter_membership.shape (660, 300)\n",
      "membership cnt [(0, 44818), (1, 41642), (2, 55378), (3, 27876), (4, 28286)]\n",
      "filter_membership.shape (300, 300)\n",
      "membership cnt [(0, 14917), (1, 18817), (2, 24437), (3, 15858), (4, 15971)]\n",
      "util.save_variable, save variable to:  /home/yuchen/workspace/Brain_Network/Output/jitter/coupling_filter/session791319847_CD_DE_condition19_joint_fit_fixed_portion_kernel70ms_11272021_2248/filter_membership_CD_itr19_20211128_110352.pkl\n",
      "util.save_variable, save variable to:  /home/yuchen/workspace/Brain_Network/Output/jitter/coupling_filter/session791319847_CD_DE_condition19_joint_fit_fixed_portion_kernel70ms_11272021_2248/filter_membership_DE_itr19_20211128_110352.pkl\n",
      "util.save_variable, save variable to:  /home/yuchen/workspace/Brain_Network/Output/jitter/coupling_filter/session791319847_CD_DE_condition19_joint_fit_fixed_portion_kernel70ms_11272021_2248/group_portion_itr19_20211128_110352.pkl\n",
      "filter_membership.shape (960, 300)\n",
      "#all trials:60459\t#batch trials:60459\n",
      "X.shape (1081266, 3), basis_integral.shape (3, 1),beta.shape(3, 1)\n",
      " 30%|██████████████████▉                                            | 18/60 [00:01<00:04,  9.84it/s]\n",
      "num itr 18 [[-1550403.23328996]] 6.5107559486243805e-06\n",
      "beta [11.17747962 -0.16302561  3.65329949]\n",
      "gradient [ 0.00687461  2.1060514  -0.0450204 ]\n",
      "Finish 1.\n",
      "#all trials:79815\t#batch trials:79815\n",
      "X.shape (1395890, 3), basis_integral.shape (3, 1),beta.shape(3, 1)\n",
      " 28%|█████████████████▊                                             | 17/60 [00:02<00:05,  7.24it/s]\n",
      "num itr 17 [[-1967443.75128875]] 5.854878836086819e-06\n",
      "beta [10.9299529   0.24959824 -2.99891513]\n",
      "gradient [ -1.18586643 -53.79996876  -8.60281159]\n",
      "Finish 2.\n",
      "#all trials:43734\t#batch trials:43734\n",
      "X.shape (1040292, 11), basis_integral.shape (11, 1),beta.shape(11, 1)\n",
      "100%|███████████████████████████████████████████████████████████████| 60/60 [00:08<00:00,  6.90it/s]\n",
      "num itr 59 [[-1792157.62010044]] 0.016743018352101617\n",
      "beta [ 1.44315729e+01 -3.29992810e-02  5.56689727e-01 -1.37638989e+01  3.77623649e+01 -1.74969548e+01\n",
      "  1.31189671e+01 -5.75346241e+00 -5.54640045e-01 -1.86845513e+00 -6.41454628e-01]\n",
      "gradient [-2.22325197e+00  6.54875031e+01  4.92713395e-02 -9.48320121e-01 -2.82442789e+00 -9.77187360e-01\n",
      " -3.23268254e-01  6.72654350e-01  1.28864303e+00  7.41087989e-01  4.36583462e-01]\n",
      "Finish 3.\n"
     ]
    },
    {
     "name": "stderr",
     "output_type": "stream",
     "text": [
      "/home/yuchen/workspace/Brain_Network/Code/jitter.py:4090: UserWarning: Reach max itrs 60. Last err:1.674e-02\n",
      "  warnings.warn(f'Reach max itrs {max_num_itrs}. Last err:{beta_err:.3e}')\n"
     ]
    },
    {
     "name": "stdout",
     "output_type": "stream",
     "text": [
      "#all trials:44257\t#batch trials:44257\n",
      "X.shape (1056783, 11), basis_integral.shape (11, 1),beta.shape(11, 1)\n",
      "100%|███████████████████████████████████████████████████████████████| 60/60 [00:08<00:00,  6.87it/s]\n",
      "num itr 59 [[-1824740.33570604]] 0.015966570380337473\n",
      "beta [ 14.58398919  -0.02486322  16.2343908   20.55634903 -23.68568533  23.09739313  -8.70961907   2.94870976\n",
      "  -3.73047349   1.14077309  -4.84407954]\n",
      "gradient [-2.22501826e+00  8.07939130e+01 -1.54077200e+00 -1.16379381e+00 -6.87915247e-02 -1.70095704e+00\n",
      " -2.37725378e-01  8.55841963e-01  1.09554206e+00  1.01491396e+00  7.96575763e-01]\n",
      "Finish 4.\n"
     ]
    },
    {
     "name": "stderr",
     "output_type": "stream",
     "text": [
      "/home/yuchen/workspace/Brain_Network/Code/jitter.py:4090: UserWarning: Reach max itrs 60. Last err:1.597e-02\n",
      "  warnings.warn(f'Reach max itrs {max_num_itrs}. Last err:{beta_err:.3e}')\n"
     ]
    },
    {
     "data": {
      "image/png": "[encoded data removed]",
      "text/plain": [
       "<Figure size 1260x144 with 5 Axes>"
      ]
     },
     "metadata": {
      "needs_background": "light"
     },
     "output_type": "display_data"
    },
    {
     "name": "stdout",
     "output_type": "stream",
     "text": [
      "util.save_variable, save variable to:  /home/yuchen/workspace/Brain_Network/Output/jitter/coupling_filter/session791319847_CD_DE_condition19_joint_fit_fixed_portion_kernel70ms_11272021_2248/group_model_pars_joint_itr19_20211128_111618.pkl\n"
     ]
    },
    {
     "name": "stderr",
     "output_type": "stream",
     "text": [
      "[Parallel(n_jobs=12)]: Using backend LokyBackend with 12 concurrent workers.\n",
      "[Parallel(n_jobs=12)]: Done  26 tasks      | elapsed:   30.4s\n",
      "[Parallel(n_jobs=12)]: Done 176 tasks      | elapsed:  2.7min\n",
      "[Parallel(n_jobs=12)]: Done 300 out of 300 | elapsed:  4.8min finished\n",
      "[Parallel(n_jobs=12)]: Using backend LokyBackend with 12 concurrent workers.\n",
      "[Parallel(n_jobs=12)]: Done  26 tasks      | elapsed:   18.4s\n",
      "[Parallel(n_jobs=12)]: Done 176 tasks      | elapsed:  1.8min\n",
      "[Parallel(n_jobs=12)]: Done 300 out of 300 | elapsed:  3.2min finished\n"
     ]
    },
    {
     "name": "stdout",
     "output_type": "stream",
     "text": [
      "filter_membership.shape (660, 300)\n",
      "membership cnt [(0, 44927), (1, 41661), (2, 55365), (3, 27742), (4, 28305)]\n",
      "filter_membership.shape (300, 300)\n",
      "membership cnt [(0, 14936), (1, 18902), (2, 24428), (3, 15803), (4, 15931)]\n",
      "util.save_variable, save variable to:  /home/yuchen/workspace/Brain_Network/Output/jitter/coupling_filter/session791319847_CD_DE_condition19_joint_fit_fixed_portion_kernel70ms_11272021_2248/filter_membership_CD_itr20_20211128_112417.pkl\n",
      "util.save_variable, save variable to:  /home/yuchen/workspace/Brain_Network/Output/jitter/coupling_filter/session791319847_CD_DE_condition19_joint_fit_fixed_portion_kernel70ms_11272021_2248/filter_membership_DE_itr20_20211128_112417.pkl\n",
      "util.save_variable, save variable to:  /home/yuchen/workspace/Brain_Network/Output/jitter/coupling_filter/session791319847_CD_DE_condition19_joint_fit_fixed_portion_kernel70ms_11272021_2248/group_portion_itr20_20211128_112417.pkl\n",
      "filter_membership.shape (960, 300)\n",
      "#all trials:60563\t#batch trials:60563\n",
      "X.shape (1082533, 3), basis_integral.shape (3, 1),beta.shape(3, 1)\n",
      " 30%|██████████████████▉                                            | 18/60 [00:01<00:04,  9.91it/s]\n",
      "num itr 18 [[-1551493.3496117]] 5.133295364556645e-06\n",
      "beta [11.17135059 -0.16312863  3.6358951 ]\n",
      "gradient [-0.01063087  0.88639241 -0.032728  ]\n",
      "Finish 1.\n",
      "#all trials:79793\t#batch trials:79793\n",
      "X.shape (1395125, 3), basis_integral.shape (3, 1),beta.shape(3, 1)\n",
      " 32%|███████████████████▉                                           | 19/60 [00:02<00:05,  7.72it/s]\n",
      "num itr 19 [[-1965935.95419193]] 6.377017896713744e-06\n",
      "beta [10.92707009  0.24275292 -2.90370129]\n",
      "gradient [ -2.31654678 -49.28919164 -12.78745427]\n",
      "Finish 2.\n",
      "#all trials:43545\t#batch trials:43545\n",
      "X.shape (1037265, 11), basis_integral.shape (11, 1),beta.shape(11, 1)\n",
      "100%|███████████████████████████████████████████████████████████████| 60/60 [00:08<00:00,  6.92it/s]\n",
      "num itr 59 [[-1788474.55450616]] 0.01704195679399491\n",
      "beta [ 1.44562292e+01 -3.09247992e-02  1.89239358e-01 -1.40976479e+01  3.79052902e+01 -1.74944183e+01\n",
      "  1.30833541e+01 -5.54262311e+00 -4.52490584e-01 -2.70759963e+00  1.58099236e-01]\n",
      "gradient [-2.29026694 53.63895122  0.14556555 -0.91866933 -2.7808553  -0.96249057 -0.48658606  0.32928247  1.28996811\n",
      "  0.85191306  0.15612082]\n",
      "Finish 3.\n"
     ]
    },
    {
     "name": "stderr",
     "output_type": "stream",
     "text": [
      "/home/yuchen/workspace/Brain_Network/Code/jitter.py:4090: UserWarning: Reach max itrs 60. Last err:1.704e-02\n",
      "  warnings.warn(f'Reach max itrs {max_num_itrs}. Last err:{beta_err:.3e}')\n"
     ]
    },
    {
     "name": "stdout",
     "output_type": "stream",
     "text": [
      "#all trials:44236\t#batch trials:44236\n",
      "X.shape (1056250, 11), basis_integral.shape (11, 1),beta.shape(11, 1)\n",
      "100%|███████████████████████████████████████████████████████████████| 60/60 [00:08<00:00,  6.76it/s]\n",
      "num itr 59 [[-1823720.27775032]] 0.01615617268441939\n",
      "beta [ 14.58572015  -0.02435329  16.12940601  20.7615386  -23.70057409  23.14937652  -8.9455352    3.08712561\n",
      "  -3.74455291   0.898845    -4.56182853]\n",
      "gradient [-2.2213417  79.99341808 -1.54322207 -1.21496009 -0.14733911 -1.70715372 -0.18800601  0.85416555  1.11973761\n",
      "  1.05724574  0.79404144]\n",
      "Finish 4.\n"
     ]
    },
    {
     "name": "stderr",
     "output_type": "stream",
     "text": [
      "/home/yuchen/workspace/Brain_Network/Code/jitter.py:4090: UserWarning: Reach max itrs 60. Last err:1.616e-02\n",
      "  warnings.warn(f'Reach max itrs {max_num_itrs}. Last err:{beta_err:.3e}')\n"
     ]
    },
    {
     "data": {
      "image/png": "[encoded data removed]",
      "text/plain": [
       "<Figure size 1260x144 with 5 Axes>"
      ]
     },
     "metadata": {
      "needs_background": "light"
     },
     "output_type": "display_data"
    },
    {
     "name": "stdout",
     "output_type": "stream",
     "text": [
      "util.save_variable, save variable to:  /home/yuchen/workspace/Brain_Network/Output/jitter/coupling_filter/session791319847_CD_DE_condition19_joint_fit_fixed_portion_kernel70ms_11272021_2248/group_model_pars_joint_itr20_20211128_113647.pkl\n"
     ]
    },
    {
     "name": "stderr",
     "output_type": "stream",
     "text": [
      "[Parallel(n_jobs=12)]: Using backend LokyBackend with 12 concurrent workers.\n",
      "[Parallel(n_jobs=12)]: Done  26 tasks      | elapsed:   30.5s\n",
      "[Parallel(n_jobs=12)]: Done 176 tasks      | elapsed:  2.7min\n",
      "[Parallel(n_jobs=12)]: Done 300 out of 300 | elapsed:  4.8min finished\n",
      "[Parallel(n_jobs=12)]: Using backend LokyBackend with 12 concurrent workers.\n",
      "[Parallel(n_jobs=12)]: Done  26 tasks      | elapsed:   19.0s\n",
      "[Parallel(n_jobs=12)]: Done 176 tasks      | elapsed:  1.8min\n",
      "[Parallel(n_jobs=12)]: Done 300 out of 300 | elapsed:  3.1min finished\n"
     ]
    },
    {
     "name": "stdout",
     "output_type": "stream",
     "text": [
      "filter_membership.shape (660, 300)\n",
      "membership cnt [(0, 44718), (1, 41733), (2, 55230), (3, 27874), (4, 28445)]\n",
      "filter_membership.shape (300, 300)\n",
      "membership cnt [(0, 14801), (1, 18899), (2, 24384), (3, 15916), (4, 16000)]\n",
      "util.save_variable, save variable to:  /home/yuchen/workspace/Brain_Network/Output/jitter/coupling_filter/session791319847_CD_DE_condition19_joint_fit_fixed_portion_kernel70ms_11272021_2248/filter_membership_CD_itr21_20211128_114446.pkl\n",
      "util.save_variable, save variable to:  /home/yuchen/workspace/Brain_Network/Output/jitter/coupling_filter/session791319847_CD_DE_condition19_joint_fit_fixed_portion_kernel70ms_11272021_2248/filter_membership_DE_itr21_20211128_114446.pkl\n",
      "util.save_variable, save variable to:  /home/yuchen/workspace/Brain_Network/Output/jitter/coupling_filter/session791319847_CD_DE_condition19_joint_fit_fixed_portion_kernel70ms_11272021_2248/group_portion_itr21_20211128_114446.pkl\n",
      "filter_membership.shape (960, 300)\n",
      "#all trials:60632\t#batch trials:60632\n",
      "X.shape (1080996, 3), basis_integral.shape (3, 1),beta.shape(3, 1)\n",
      " 28%|█████████████████▊                                             | 17/60 [00:01<00:04,  9.85it/s]\n",
      "num itr 17 [[-1546765.38294499]] 8.69739459255503e-06\n",
      "beta [11.14281291 -0.16233576  3.65974117]\n",
      "gradient [-0.04631967  0.01801435 -0.04864118]\n",
      "Finish 1.\n",
      "#all trials:79614\t#batch trials:79614\n",
      "X.shape (1394128, 3), basis_integral.shape (3, 1),beta.shape(3, 1)\n",
      " 27%|████████████████▊                                              | 16/60 [00:02<00:05,  7.70it/s]\n",
      "num itr 16 [[-1966909.68558886]] 7.568824222925485e-06\n",
      "beta [10.94379146  0.24970433 -3.00347094]\n",
      "gradient [-0.19215578 -5.38631027 -0.76251763]\n",
      "Finish 2.\n",
      "#all trials:43790\t#batch trials:43790\n",
      "X.shape (1043022, 11), basis_integral.shape (11, 1),beta.shape(11, 1)\n",
      "100%|███████████████████████████████████████████████████████████████| 60/60 [00:08<00:00,  6.92it/s]\n",
      "num itr 59 [[-1798275.83015261]] 0.014565986086556196\n",
      "beta [ 1.44793649e+01 -3.00932566e-02  3.83017920e-01 -1.48572609e+01  3.83196725e+01 -1.74776599e+01\n",
      "  1.28380528e+01 -5.51748249e+00 -2.64506621e-01 -3.06778636e+00  7.20838985e-02]\n",
      "gradient [-2.63714482 32.22483898 -0.19490239 -0.96679598 -2.92745907 -1.37635902 -0.46723381  0.10333898  0.91190816\n",
      "  0.74925105  0.3432749 ]\n",
      "Finish 3.\n"
     ]
    },
    {
     "name": "stderr",
     "output_type": "stream",
     "text": [
      "/home/yuchen/workspace/Brain_Network/Code/jitter.py:4090: UserWarning: Reach max itrs 60. Last err:1.457e-02\n",
      "  warnings.warn(f'Reach max itrs {max_num_itrs}. Last err:{beta_err:.3e}')\n"
     ]
    },
    {
     "name": "stdout",
     "output_type": "stream",
     "text": [
      "#all trials:44445\t#batch trials:44445\n",
      "X.shape (1060499, 11), basis_integral.shape (11, 1),beta.shape(11, 1)\n",
      "100%|███████████████████████████████████████████████████████████████| 60/60 [00:08<00:00,  6.76it/s]\n",
      "num itr 59 [[-1830296.3595522]] 0.016030962228159668\n",
      "beta [ 14.5806777   -0.02416092  16.06971088  20.80777441 -23.70079237  23.09850314  -9.08203926   3.13933752\n",
      "  -3.71346384   0.747031    -4.35943898]\n",
      "gradient [-2.28553803 75.98837576 -1.55007111 -1.22384669 -0.15754548 -1.70895344 -0.20396214  0.83047504  1.10486678\n",
      "  1.03112132  0.75604282]\n",
      "Finish 4.\n"
     ]
    },
    {
     "name": "stderr",
     "output_type": "stream",
     "text": [
      "/home/yuchen/workspace/Brain_Network/Code/jitter.py:4090: UserWarning: Reach max itrs 60. Last err:1.603e-02\n",
      "  warnings.warn(f'Reach max itrs {max_num_itrs}. Last err:{beta_err:.3e}')\n"
     ]
    },
    {
     "data": {
      "image/png": "[encoded data removed]",
      "text/plain": [
       "<Figure size 1260x144 with 5 Axes>"
      ]
     },
     "metadata": {
      "needs_background": "light"
     },
     "output_type": "display_data"
    },
    {
     "name": "stdout",
     "output_type": "stream",
     "text": [
      "util.save_variable, save variable to:  /home/yuchen/workspace/Brain_Network/Output/jitter/coupling_filter/session791319847_CD_DE_condition19_joint_fit_fixed_portion_kernel70ms_11272021_2248/group_model_pars_joint_itr21_20211128_115706.pkl\n"
     ]
    },
    {
     "name": "stderr",
     "output_type": "stream",
     "text": [
      "[Parallel(n_jobs=12)]: Using backend LokyBackend with 12 concurrent workers.\n",
      "[Parallel(n_jobs=12)]: Done  26 tasks      | elapsed:   30.0s\n",
      "[Parallel(n_jobs=12)]: Done 176 tasks      | elapsed:  2.7min\n",
      "[Parallel(n_jobs=12)]: Done 300 out of 300 | elapsed:  4.8min finished\n",
      "[Parallel(n_jobs=12)]: Using backend LokyBackend with 12 concurrent workers.\n",
      "[Parallel(n_jobs=12)]: Done  26 tasks      | elapsed:   18.0s\n",
      "[Parallel(n_jobs=12)]: Done 176 tasks      | elapsed:  1.8min\n",
      "[Parallel(n_jobs=12)]: Done 300 out of 300 | elapsed:  3.1min finished\n"
     ]
    },
    {
     "name": "stdout",
     "output_type": "stream",
     "text": [
      "filter_membership.shape (660, 300)\n",
      "membership cnt [(0, 44947), (1, 41676), (2, 55227), (3, 27851), (4, 28299)]\n",
      "filter_membership.shape (300, 300)\n",
      "membership cnt [(0, 14940), (1, 18883), (2, 24345), (3, 15870), (4, 15962)]\n",
      "util.save_variable, save variable to:  /home/yuchen/workspace/Brain_Network/Output/jitter/coupling_filter/session791319847_CD_DE_condition19_joint_fit_fixed_portion_kernel70ms_11272021_2248/filter_membership_CD_itr22_20211128_120502.pkl\n",
      "util.save_variable, save variable to:  /home/yuchen/workspace/Brain_Network/Output/jitter/coupling_filter/session791319847_CD_DE_condition19_joint_fit_fixed_portion_kernel70ms_11272021_2248/filter_membership_DE_itr22_20211128_120502.pkl\n",
      "util.save_variable, save variable to:  /home/yuchen/workspace/Brain_Network/Output/jitter/coupling_filter/session791319847_CD_DE_condition19_joint_fit_fixed_portion_kernel70ms_11272021_2248/group_portion_itr22_20211128_120502.pkl\n",
      "filter_membership.shape (960, 300)\n",
      "#all trials:60559\t#batch trials:60559\n",
      "X.shape (1083616, 3), basis_integral.shape (3, 1),beta.shape(3, 1)\n",
      " 28%|█████████████████▊                                             | 17/60 [00:01<00:04,  9.35it/s]\n",
      "num itr 17 [[-1554266.9069728]] 8.24614402158974e-06\n",
      "beta [11.18333617 -0.15994054  3.59798135]\n",
      "gradient [-0.04987984 -0.11579885 -0.04569971]\n",
      "Finish 1.\n",
      "#all trials:79572\t#batch trials:79572\n",
      "X.shape (1389605, 3), basis_integral.shape (3, 1),beta.shape(3, 1)\n",
      " 28%|█████████████████▊                                             | 17/60 [00:02<00:05,  7.73it/s]\n",
      "num itr 17 [[-1957444.32106335]] 8.287096950554407e-06\n",
      "beta [10.91375293  0.25750537 -3.18924666]\n",
      "gradient [ -1.98884551 -75.60321815 -12.68233836]\n",
      "Finish 2.\n",
      "#all trials:43721\t#batch trials:43721\n",
      "X.shape (1040221, 11), basis_integral.shape (11, 1),beta.shape(11, 1)\n",
      "100%|███████████████████████████████████████████████████████████████| 60/60 [00:08<00:00,  6.94it/s]\n",
      "num itr 59 [[-1792252.49212944]] 0.014620972045014356\n",
      "beta [ 1.44654397e+01 -3.26526476e-02  4.12039666e-01 -1.40724363e+01  3.75781753e+01 -1.71186274e+01\n",
      "  1.26270073e+01 -5.28028150e+00 -2.53453673e-01 -3.58269670e+00  3.37364643e-01]\n",
      "gradient [-2.39083334e+00  6.25457168e+01 -1.55468275e-02 -9.85122471e-01 -2.81897470e+00 -1.04020506e+00\n",
      " -3.83890778e-01  3.51188925e-01  1.29846544e+00  1.02660526e+00  4.65241419e-01]\n",
      "Finish 3.\n"
     ]
    },
    {
     "name": "stderr",
     "output_type": "stream",
     "text": [
      "/home/yuchen/workspace/Brain_Network/Code/jitter.py:4090: UserWarning: Reach max itrs 60. Last err:1.462e-02\n",
      "  warnings.warn(f'Reach max itrs {max_num_itrs}. Last err:{beta_err:.3e}')\n"
     ]
    },
    {
     "name": "stdout",
     "output_type": "stream",
     "text": [
      "#all trials:44261\t#batch trials:44261\n",
      "X.shape (1058335, 11), basis_integral.shape (11, 1),beta.shape(11, 1)\n",
      "100%|███████████████████████████████████████████████████████████████| 60/60 [00:08<00:00,  6.81it/s]\n",
      "num itr 59 [[-1828686.55819308]] 0.016868300576305523\n",
      "beta [ 1.46277625e+01 -2.02551034e-02  1.61685394e+01  2.06702042e+01 -2.34475049e+01  2.32561506e+01\n",
      " -9.39238400e+00  3.27781225e+00 -3.72933232e+00  9.36322253e-01 -5.18765202e+00]\n",
      "gradient [-2.47681394 34.43344172 -1.54787849 -1.35027587 -0.626208   -1.96772275 -0.3094795   0.53538141  0.61613591\n",
      "  0.84819764  1.03703139]\n",
      "Finish 4.\n"
     ]
    },
    {
     "name": "stderr",
     "output_type": "stream",
     "text": [
      "/home/yuchen/workspace/Brain_Network/Code/jitter.py:4090: UserWarning: Reach max itrs 60. Last err:1.687e-02\n",
      "  warnings.warn(f'Reach max itrs {max_num_itrs}. Last err:{beta_err:.3e}')\n"
     ]
    },
    {
     "data": {
      "image/png": "[encoded data removed]",
      "text/plain": [
       "<Figure size 1260x144 with 5 Axes>"
      ]
     },
     "metadata": {
      "needs_background": "light"
     },
     "output_type": "display_data"
    },
    {
     "name": "stdout",
     "output_type": "stream",
     "text": [
      "util.save_variable, save variable to:  /home/yuchen/workspace/Brain_Network/Output/jitter/coupling_filter/session791319847_CD_DE_condition19_joint_fit_fixed_portion_kernel70ms_11272021_2248/group_model_pars_joint_itr22_20211128_121727.pkl\n"
     ]
    },
    {
     "name": "stderr",
     "output_type": "stream",
     "text": [
      "[Parallel(n_jobs=12)]: Using backend LokyBackend with 12 concurrent workers.\n",
      "[Parallel(n_jobs=12)]: Done  26 tasks      | elapsed:   30.4s\n",
      "[Parallel(n_jobs=12)]: Done 176 tasks      | elapsed:  2.7min\n",
      "[Parallel(n_jobs=12)]: Done 300 out of 300 | elapsed:  4.8min finished\n",
      "[Parallel(n_jobs=12)]: Using backend LokyBackend with 12 concurrent workers.\n",
      "[Parallel(n_jobs=12)]: Done  26 tasks      | elapsed:   18.7s\n",
      "[Parallel(n_jobs=12)]: Done 176 tasks      | elapsed:  1.8min\n",
      "[Parallel(n_jobs=12)]: Done 300 out of 300 | elapsed:  3.1min finished\n"
     ]
    },
    {
     "name": "stdout",
     "output_type": "stream",
     "text": [
      "filter_membership.shape (660, 300)\n",
      "membership cnt [(0, 45168), (1, 41423), (2, 55418), (3, 27715), (4, 28276)]\n",
      "filter_membership.shape (300, 300)\n",
      "membership cnt [(0, 15041), (1, 18871), (2, 24447), (3, 15757), (4, 15884)]\n",
      "util.save_variable, save variable to:  /home/yuchen/workspace/Brain_Network/Output/jitter/coupling_filter/session791319847_CD_DE_condition19_joint_fit_fixed_portion_kernel70ms_11272021_2248/filter_membership_CD_itr23_20211128_122524.pkl\n",
      "util.save_variable, save variable to:  /home/yuchen/workspace/Brain_Network/Output/jitter/coupling_filter/session791319847_CD_DE_condition19_joint_fit_fixed_portion_kernel70ms_11272021_2248/filter_membership_DE_itr23_20211128_122524.pkl\n",
      "util.save_variable, save variable to:  /home/yuchen/workspace/Brain_Network/Output/jitter/coupling_filter/session791319847_CD_DE_condition19_joint_fit_fixed_portion_kernel70ms_11272021_2248/group_portion_itr23_20211128_122524.pkl\n",
      "filter_membership.shape (960, 300)\n",
      "#all trials:60294\t#batch trials:60294\n",
      "X.shape (1085257, 3), basis_integral.shape (3, 1),beta.shape(3, 1)\n",
      " 28%|█████████████████▊                                             | 17/60 [00:01<00:04,  9.64it/s]\n",
      "num itr 17 [[-1562575.50081573]] 7.8776839110839e-06\n",
      "beta [11.24956133 -0.14266783  3.40123855]\n",
      "gradient [ -0.22494365 -11.93457323   0.05617894]\n",
      "Finish 1.\n",
      "#all trials:79865\t#batch trials:79865\n",
      "X.shape (1388062, 3), basis_integral.shape (3, 1),beta.shape(3, 1)\n",
      " 35%|██████████████████████                                         | 21/60 [00:02<00:04,  7.84it/s]\n",
      "num itr 21 [[-1948323.92983356]] 8.709850771393413e-06\n",
      "beta [10.86171609  0.25407562 -3.09158946]\n",
      "gradient [ -0.26365782 -15.99075538  -1.93594405]\n",
      "Finish 2.\n",
      "#all trials:43472\t#batch trials:43472\n",
      "X.shape (1035046, 11), basis_integral.shape (11, 1),beta.shape(11, 1)\n",
      "100%|███████████████████████████████████████████████████████████████| 60/60 [00:08<00:00,  6.95it/s]\n",
      "num itr 59 [[-1784147.73303146]] 0.014736747602202574\n",
      "beta [ 1.44824266e+01 -3.27557902e-02  4.19293706e-01 -1.42616077e+01  3.76768862e+01 -1.70044697e+01\n",
      "  1.25217937e+01 -5.21903269e+00 -8.77106773e-02 -3.87078790e+00  1.74615649e-01]\n",
      "gradient [-2.55790581 48.5245625  -0.11664776 -0.95321253 -2.85797434 -1.23847026 -0.41376182  0.21444935  1.05252427\n",
      "  0.94291148  0.50460966]\n",
      "Finish 3.\n"
     ]
    },
    {
     "name": "stderr",
     "output_type": "stream",
     "text": [
      "/home/yuchen/workspace/Brain_Network/Code/jitter.py:4090: UserWarning: Reach max itrs 60. Last err:1.474e-02\n",
      "  warnings.warn(f'Reach max itrs {max_num_itrs}. Last err:{beta_err:.3e}')\n"
     ]
    },
    {
     "name": "stdout",
     "output_type": "stream",
     "text": [
      "#all trials:44160\t#batch trials:44160\n",
      "X.shape (1053553, 11), basis_integral.shape (11, 1),beta.shape(11, 1)\n",
      "100%|███████████████████████████████████████████████████████████████| 60/60 [00:08<00:00,  6.91it/s]\n",
      "num itr 59 [[-1818102.54710842]] 0.015745181827264396\n",
      "beta [ 1.45839888e+01 -2.29837791e-02  1.60715913e+01  2.07933983e+01 -2.36236253e+01  2.30745798e+01\n",
      " -9.18293411e+00  3.24157681e+00 -3.71645856e+00  8.84706658e-01 -4.74646541e+00]\n",
      "gradient [-2.21760107 80.01955394 -1.54261704 -1.20693413 -0.09108293 -1.6596101  -0.22223464  0.84308337  1.11701494\n",
      "  1.04763688  0.78827075]\n",
      "Finish 4.\n"
     ]
    },
    {
     "name": "stderr",
     "output_type": "stream",
     "text": [
      "/home/yuchen/workspace/Brain_Network/Code/jitter.py:4090: UserWarning: Reach max itrs 60. Last err:1.575e-02\n",
      "  warnings.warn(f'Reach max itrs {max_num_itrs}. Last err:{beta_err:.3e}')\n"
     ]
    },
    {
     "data": {
      "image/png": "[encoded data removed]",
      "text/plain": [
       "<Figure size 1260x144 with 5 Axes>"
      ]
     },
     "metadata": {
      "needs_background": "light"
     },
     "output_type": "display_data"
    },
    {
     "name": "stdout",
     "output_type": "stream",
     "text": [
      "util.save_variable, save variable to:  /home/yuchen/workspace/Brain_Network/Output/jitter/coupling_filter/session791319847_CD_DE_condition19_joint_fit_fixed_portion_kernel70ms_11272021_2248/group_model_pars_joint_itr23_20211128_123745.pkl\n"
     ]
    },
    {
     "name": "stderr",
     "output_type": "stream",
     "text": [
      "[Parallel(n_jobs=12)]: Using backend LokyBackend with 12 concurrent workers.\n",
      "[Parallel(n_jobs=12)]: Done  26 tasks      | elapsed:   30.5s\n",
      "[Parallel(n_jobs=12)]: Done 176 tasks      | elapsed:  2.8min\n",
      "[Parallel(n_jobs=12)]: Done 300 out of 300 | elapsed:  4.8min finished\n",
      "[Parallel(n_jobs=12)]: Using backend LokyBackend with 12 concurrent workers.\n",
      "[Parallel(n_jobs=12)]: Done  26 tasks      | elapsed:   18.7s\n",
      "[Parallel(n_jobs=12)]: Done 176 tasks      | elapsed:  1.8min\n",
      "[Parallel(n_jobs=12)]: Done 300 out of 300 | elapsed:  3.2min finished\n"
     ]
    },
    {
     "name": "stdout",
     "output_type": "stream",
     "text": [
      "filter_membership.shape (660, 300)\n",
      "membership cnt [(0, 44656), (1, 41382), (2, 55585), (3, 28044), (4, 28333)]\n",
      "filter_membership.shape (300, 300)\n",
      "membership cnt [(0, 14787), (1, 18744), (2, 24496), (3, 15915), (4, 16058)]\n",
      "util.save_variable, save variable to:  /home/yuchen/workspace/Brain_Network/Output/jitter/coupling_filter/session791319847_CD_DE_condition19_joint_fit_fixed_portion_kernel70ms_11272021_2248/filter_membership_CD_itr24_20211128_124545.pkl\n",
      "util.save_variable, save variable to:  /home/yuchen/workspace/Brain_Network/Output/jitter/coupling_filter/session791319847_CD_DE_condition19_joint_fit_fixed_portion_kernel70ms_11272021_2248/filter_membership_DE_itr24_20211128_124545.pkl\n",
      "util.save_variable, save variable to:  /home/yuchen/workspace/Brain_Network/Output/jitter/coupling_filter/session791319847_CD_DE_condition19_joint_fit_fixed_portion_kernel70ms_11272021_2248/group_portion_itr24_20211128_124545.pkl\n",
      "filter_membership.shape (960, 300)\n",
      "#all trials:60126\t#batch trials:60126\n",
      "X.shape (1082063, 3), basis_integral.shape (3, 1),beta.shape(3, 1)\n",
      " 28%|█████████████████▊                                             | 17/60 [00:01<00:04,  8.75it/s]\n",
      "num itr 17 [[-1558183.4331601]] 7.880383930847223e-06\n",
      "beta [11.24770969 -0.15701576  3.63227899]\n",
      "gradient [-0.1467402  -6.06343896  0.00985838]\n",
      "Finish 1.\n",
      "#all trials:80081\t#batch trials:80081\n",
      "X.shape (1390425, 3), basis_integral.shape (3, 1),beta.shape(3, 1)\n",
      " 33%|█████████████████████                                          | 20/60 [00:02<00:05,  7.76it/s]\n",
      "num itr 20 [[-1948977.51592904]] 7.873375301364893e-06\n",
      "beta [10.85119254  0.23778125 -2.7540117 ]\n",
      "gradient [ -0.46783785 -22.16631018  -3.72818621]\n",
      "Finish 2.\n",
      "#all trials:43959\t#batch trials:43959\n",
      "X.shape (1045685, 11), basis_integral.shape (11, 1),beta.shape(11, 1)\n",
      "100%|███████████████████████████████████████████████████████████████| 60/60 [00:08<00:00,  6.77it/s]\n",
      "num itr 59 [[-1801509.57516917]] 0.013022906923112424\n",
      "beta [ 1.44680242e+01 -3.41519461e-02  4.32594776e-01 -1.45268357e+01  3.76593487e+01 -1.67001092e+01\n",
      "  1.22377823e+01 -5.13618259e+00  1.37109316e-02 -3.71029022e+00 -2.00568318e-01]\n",
      "gradient [-2.37956231e+00  6.52317607e+01  5.50760979e-02 -8.61751329e-01 -2.83501492e+00 -1.03063973e+00\n",
      " -2.56844681e-01  4.80794251e-01  1.30094267e+00  1.06237709e+00  5.72436481e-01]\n",
      "Finish 3.\n"
     ]
    },
    {
     "name": "stderr",
     "output_type": "stream",
     "text": [
      "/home/yuchen/workspace/Brain_Network/Code/jitter.py:4090: UserWarning: Reach max itrs 60. Last err:1.302e-02\n",
      "  warnings.warn(f'Reach max itrs {max_num_itrs}. Last err:{beta_err:.3e}')\n"
     ]
    },
    {
     "name": "stdout",
     "output_type": "stream",
     "text": [
      "#all trials:44391\t#batch trials:44391\n",
      "X.shape (1060394, 11), basis_integral.shape (11, 1),beta.shape(11, 1)\n",
      "100%|███████████████████████████████████████████████████████████████| 60/60 [00:08<00:00,  6.79it/s]\n",
      "num itr 59 [[-1831317.35637282]] 0.01594396085563582\n",
      "beta [ 14.59827705  -0.02434571  16.3038698   20.73764482 -23.64837413  23.05755223  -9.20913377   3.23991037\n",
      "  -3.73766001   0.79323288  -4.39818702]\n",
      "gradient [-2.4165818  59.5943778  -1.55952373 -1.24299938 -0.25720846 -1.77420577 -0.31090042  0.7583931   1.07820503\n",
      "  0.94253707  0.67491722]\n",
      "Finish 4.\n"
     ]
    },
    {
     "name": "stderr",
     "output_type": "stream",
     "text": [
      "/home/yuchen/workspace/Brain_Network/Code/jitter.py:4090: UserWarning: Reach max itrs 60. Last err:1.594e-02\n",
      "  warnings.warn(f'Reach max itrs {max_num_itrs}. Last err:{beta_err:.3e}')\n"
     ]
    },
    {
     "data": {
      "image/png": "[encoded data removed]",
      "text/plain": [
       "<Figure size 1260x144 with 5 Axes>"
      ]
     },
     "metadata": {
      "needs_background": "light"
     },
     "output_type": "display_data"
    },
    {
     "name": "stdout",
     "output_type": "stream",
     "text": [
      "util.save_variable, save variable to:  /home/yuchen/workspace/Brain_Network/Output/jitter/coupling_filter/session791319847_CD_DE_condition19_joint_fit_fixed_portion_kernel70ms_11272021_2248/group_model_pars_joint_itr24_20211128_125830.pkl\n"
     ]
    },
    {
     "name": "stderr",
     "output_type": "stream",
     "text": [
      "[Parallel(n_jobs=12)]: Using backend LokyBackend with 12 concurrent workers.\n",
      "[Parallel(n_jobs=12)]: Done  26 tasks      | elapsed:   30.3s\n",
      "[Parallel(n_jobs=12)]: Done 176 tasks      | elapsed:  2.8min\n",
      "[Parallel(n_jobs=12)]: Done 300 out of 300 | elapsed:  4.8min finished\n",
      "[Parallel(n_jobs=12)]: Using backend LokyBackend with 12 concurrent workers.\n",
      "[Parallel(n_jobs=12)]: Done  26 tasks      | elapsed:   18.2s\n",
      "[Parallel(n_jobs=12)]: Done 176 tasks      | elapsed:  1.8min\n",
      "[Parallel(n_jobs=12)]: Done 300 out of 300 | elapsed:  3.1min finished\n"
     ]
    },
    {
     "name": "stdout",
     "output_type": "stream",
     "text": [
      "filter_membership.shape (660, 300)\n",
      "membership cnt [(0, 44433), (1, 41946), (2, 55260), (3, 27959), (4, 28402)]\n",
      "filter_membership.shape (300, 300)\n",
      "membership cnt [(0, 14617), (1, 19000), (2, 24422), (3, 15907), (4, 16054)]\n",
      "util.save_variable, save variable to:  /home/yuchen/workspace/Brain_Network/Output/jitter/coupling_filter/session791319847_CD_DE_condition19_joint_fit_fixed_portion_kernel70ms_11272021_2248/filter_membership_CD_itr25_20211128_130629.pkl\n",
      "util.save_variable, save variable to:  /home/yuchen/workspace/Brain_Network/Output/jitter/coupling_filter/session791319847_CD_DE_condition19_joint_fit_fixed_portion_kernel70ms_11272021_2248/filter_membership_DE_itr25_20211128_130629.pkl\n",
      "util.save_variable, save variable to:  /home/yuchen/workspace/Brain_Network/Output/jitter/coupling_filter/session791319847_CD_DE_condition19_joint_fit_fixed_portion_kernel70ms_11272021_2248/group_portion_itr25_20211128_130629.pkl\n",
      "filter_membership.shape (960, 300)\n",
      "#all trials:60946\t#batch trials:60946\n",
      "X.shape (1087910, 3), basis_integral.shape (3, 1),beta.shape(3, 1)\n",
      " 30%|██████████████████▉                                            | 18/60 [00:01<00:04,  9.28it/s]\n",
      "num itr 18 [[-1557860.53745827]] 7.723155742767052e-06\n",
      "beta [11.15630737 -0.16284566  3.63200664]\n",
      "gradient [-0.01269155  1.85302264 -0.04631503]\n",
      "Finish 1.\n",
      "#all trials:79682\t#batch trials:79682\n",
      "X.shape (1394013, 3), basis_integral.shape (3, 1),beta.shape(3, 1)\n",
      " 35%|██████████████████████                                         | 21/60 [00:02<00:05,  7.75it/s]\n",
      "num itr 21 [[-1966125.71024532]] 6.087903222762314e-06\n",
      "beta [10.93336471  0.25797599 -3.13575203]\n",
      "gradient [0.02635056 0.74030075 0.2883254 ]\n",
      "Finish 2.\n",
      "#all trials:43866\t#batch trials:43866\n",
      "X.shape (1044320, 11), basis_integral.shape (11, 1),beta.shape(11, 1)\n",
      "100%|███████████████████████████████████████████████████████████████| 60/60 [00:08<00:00,  6.88it/s]\n",
      "num itr 59 [[-1799966.73693296]] 0.014738906497297758\n",
      "beta [ 1.44832355e+01 -3.42421558e-02  4.09402712e-01 -1.41618727e+01  3.74327463e+01 -1.67232688e+01\n",
      "  1.22646336e+01 -5.00490818e+00  1.65806494e-02 -4.39553689e+00  4.60074653e-01]\n",
      "gradient [-2.24012206 79.2969337   0.11880656 -0.90102951 -2.774943   -0.85287281 -0.2717229   0.48868195  1.51463858\n",
      "  1.25017691  0.52628277]\n",
      "Finish 3.\n"
     ]
    },
    {
     "name": "stderr",
     "output_type": "stream",
     "text": [
      "/home/yuchen/workspace/Brain_Network/Code/jitter.py:4090: UserWarning: Reach max itrs 60. Last err:1.474e-02\n",
      "  warnings.warn(f'Reach max itrs {max_num_itrs}. Last err:{beta_err:.3e}')\n"
     ]
    },
    {
     "name": "stdout",
     "output_type": "stream",
     "text": [
      "#all trials:44456\t#batch trials:44456\n",
      "X.shape (1061798, 11), basis_integral.shape (11, 1),beta.shape(11, 1)\n",
      "100%|███████████████████████████████████████████████████████████████| 60/60 [00:09<00:00,  6.34it/s]\n",
      "num itr 59 [[-1833561.78898998]] 0.0160795738382759\n",
      "beta [ 1.46047238e+01 -2.32033475e-02  1.64895678e+01  2.06786928e+01 -2.38612111e+01  2.30365209e+01\n",
      " -9.22855592e+00  3.19782847e+00 -3.65574483e+00  6.14779033e-01 -4.15960476e+00]\n",
      "gradient [-2.30886493 69.09416878 -1.56760276 -1.18794729 -0.10153789 -1.69400049 -0.26179826  0.78771933  1.00305175\n",
      "  0.96221169  0.70723876]\n",
      "Finish 4.\n"
     ]
    },
    {
     "name": "stderr",
     "output_type": "stream",
     "text": [
      "/home/yuchen/workspace/Brain_Network/Code/jitter.py:4090: UserWarning: Reach max itrs 60. Last err:1.608e-02\n",
      "  warnings.warn(f'Reach max itrs {max_num_itrs}. Last err:{beta_err:.3e}')\n"
     ]
    },
    {
     "data": {
      "image/png": "[encoded data removed]",
      "text/plain": [
       "<Figure size 1260x144 with 5 Axes>"
      ]
     },
     "metadata": {
      "needs_background": "light"
     },
     "output_type": "display_data"
    },
    {
     "name": "stdout",
     "output_type": "stream",
     "text": [
      "util.save_variable, save variable to:  /home/yuchen/workspace/Brain_Network/Output/jitter/coupling_filter/session791319847_CD_DE_condition19_joint_fit_fixed_portion_kernel70ms_11272021_2248/group_model_pars_joint_itr25_20211128_131855.pkl\n"
     ]
    },
    {
     "name": "stderr",
     "output_type": "stream",
     "text": [
      "[Parallel(n_jobs=12)]: Using backend LokyBackend with 12 concurrent workers.\n",
      "[Parallel(n_jobs=12)]: Done  26 tasks      | elapsed:   30.5s\n",
      "[Parallel(n_jobs=12)]: Done 176 tasks      | elapsed:  2.8min\n",
      "[Parallel(n_jobs=12)]: Done 300 out of 300 | elapsed:  4.8min finished\n",
      "[Parallel(n_jobs=12)]: Using backend LokyBackend with 12 concurrent workers.\n",
      "[Parallel(n_jobs=12)]: Done  26 tasks      | elapsed:   18.4s\n",
      "[Parallel(n_jobs=12)]: Done 176 tasks      | elapsed:  1.8min\n",
      "[Parallel(n_jobs=12)]: Done 300 out of 300 | elapsed:  3.1min finished\n"
     ]
    },
    {
     "name": "stdout",
     "output_type": "stream",
     "text": [
      "filter_membership.shape (660, 300)\n",
      "membership cnt [(0, 45077), (1, 41580), (2, 55361), (3, 27856), (4, 28126)]\n",
      "filter_membership.shape (300, 300)\n",
      "membership cnt [(0, 15028), (1, 18930), (2, 24350), (3, 15805), (4, 15887)]\n",
      "util.save_variable, save variable to:  /home/yuchen/workspace/Brain_Network/Output/jitter/coupling_filter/session791319847_CD_DE_condition19_joint_fit_fixed_portion_kernel70ms_11272021_2248/filter_membership_CD_itr26_20211128_132653.pkl\n",
      "util.save_variable, save variable to:  /home/yuchen/workspace/Brain_Network/Output/jitter/coupling_filter/session791319847_CD_DE_condition19_joint_fit_fixed_portion_kernel70ms_11272021_2248/filter_membership_DE_itr26_20211128_132653.pkl\n",
      "util.save_variable, save variable to:  /home/yuchen/workspace/Brain_Network/Output/jitter/coupling_filter/session791319847_CD_DE_condition19_joint_fit_fixed_portion_kernel70ms_11272021_2248/group_portion_itr26_20211128_132653.pkl\n",
      "filter_membership.shape (960, 300)\n",
      "#all trials:60510\t#batch trials:60510\n",
      "X.shape (1084709, 3), basis_integral.shape (3, 1),beta.shape(3, 1)\n",
      " 30%|██████████████████▉                                            | 18/60 [00:01<00:04,  9.81it/s]\n",
      "num itr 18 [[-1557996.3194355]] 5.917533513311035e-06\n",
      "beta [11.20360064 -0.16332371  3.67904809]\n",
      "gradient [ 0.00568518  1.8734266  -0.04307661]\n",
      "Finish 1.\n",
      "#all trials:79711\t#batch trials:79711\n"
     ]
    },
    {
     "ename": "KeyboardInterrupt",
     "evalue": "",
     "output_type": "error",
     "traceback": [
      "\u001b[0;31m---------------------------------------------------------------------------\u001b[0m",
      "\u001b[0;31mKeyboardInterrupt\u001b[0m                         Traceback (most recent call last)",
      "\u001b[0;32m<ipython-input-35-4de096fd4f22>\u001b[0m in \u001b[0;36m<module>\u001b[0;34m\u001b[0m\n\u001b[1;32m     28\u001b[0m     \u001b[0mutil\u001b[0m\u001b[0;34m.\u001b[0m\u001b[0msave_variable\u001b[0m\u001b[0;34m(\u001b[0m\u001b[0mfile_path\u001b[0m\u001b[0;34m,\u001b[0m \u001b[0mgroup_portion\u001b[0m\u001b[0;34m)\u001b[0m\u001b[0;34m\u001b[0m\u001b[0;34m\u001b[0m\u001b[0m\n\u001b[1;32m     29\u001b[0m \u001b[0;34m\u001b[0m\u001b[0m\n\u001b[0;32m---> 30\u001b[0;31m     \u001b[0mgroup_model_pars\u001b[0m \u001b[0;34m=\u001b[0m \u001b[0mmodel\u001b[0m\u001b[0;34m.\u001b[0m\u001b[0mupdate_cluster_filter_joint_trail\u001b[0m\u001b[0;34m(\u001b[0m\u001b[0mfilter_membership_joint\u001b[0m\u001b[0;34m,\u001b[0m \u001b[0mverbose\u001b[0m\u001b[0;34m=\u001b[0m\u001b[0;32mTrue\u001b[0m\u001b[0;34m)\u001b[0m\u001b[0;34m\u001b[0m\u001b[0;34m\u001b[0m\u001b[0m\n\u001b[0m\u001b[1;32m     31\u001b[0m     \u001b[0mmodel\u001b[0m\u001b[0;34m.\u001b[0m\u001b[0mplot_multiple_filters\u001b[0m\u001b[0;34m(\u001b[0m\u001b[0mgroup_model_pars\u001b[0m\u001b[0;34m,\u001b[0m \u001b[0mylim\u001b[0m\u001b[0;34m=\u001b[0m\u001b[0;34m[\u001b[0m\u001b[0;34m-\u001b[0m\u001b[0;36m7\u001b[0m\u001b[0;34m,\u001b[0m \u001b[0;36m20\u001b[0m\u001b[0;34m]\u001b[0m\u001b[0;34m,\u001b[0m \u001b[0mnum_rows_cols\u001b[0m\u001b[0;34m=\u001b[0m\u001b[0;34m[\u001b[0m\u001b[0;36m1\u001b[0m\u001b[0;34m,\u001b[0m\u001b[0;36m5\u001b[0m\u001b[0;34m]\u001b[0m\u001b[0;34m)\u001b[0m\u001b[0;34m\u001b[0m\u001b[0;34m\u001b[0m\u001b[0m\n\u001b[1;32m     32\u001b[0m     \u001b[0mfile_path\u001b[0m \u001b[0;34m=\u001b[0m \u001b[0moutput_dir\u001b[0m \u001b[0;34m+\u001b[0m \u001b[0;34mf'group_model_pars_joint_itr{itr}_{time.strftime(\"%Y%m%d_%H%M%S\")}.pkl'\u001b[0m\u001b[0;34m\u001b[0m\u001b[0;34m\u001b[0m\u001b[0m\n",
      "\u001b[0;32m~/workspace/Brain_Network/Code/fine_time_coupling_model.py\u001b[0m in \u001b[0;36mupdate_cluster_filter_joint_trail\u001b[0;34m(self, filter_membership, batch_training, verbose)\u001b[0m\n\u001b[1;32m   2158\u001b[0m         \u001b[0;34m'batch_size'\u001b[0m\u001b[0;34m:\u001b[0m\u001b[0mbatch_size\u001b[0m\u001b[0;34m,\u001b[0m \u001b[0;34m'max_num_itrs'\u001b[0m\u001b[0;34m:\u001b[0m \u001b[0mmax_num_itrs\u001b[0m\u001b[0;34m,\u001b[0m \u001b[0;34m'epsilon'\u001b[0m\u001b[0;34m:\u001b[0m \u001b[0mepsilon\u001b[0m\u001b[0;34m,\u001b[0m\u001b[0;34m\u001b[0m\u001b[0;34m\u001b[0m\u001b[0m\n\u001b[1;32m   2159\u001b[0m         'model_id': model_id}\n\u001b[0;32m-> 2160\u001b[0;31m     spike_times_x, spike_times_y = self.stack_spike_times_by_pairs(\n\u001b[0m\u001b[1;32m   2161\u001b[0m         spike_times, filter_membership, group_id=model_id, verbose=verbose)\n\u001b[1;32m   2162\u001b[0m     model_pars[model_id] = fit_func(\n",
      "\u001b[0;32m~/workspace/Brain_Network/Code/fine_time_coupling_model.py\u001b[0m in \u001b[0;36mstack_spike_times_by_pairs\u001b[0;34m(cls, spike_times, filter_membership, group_id, batch_size, verbose)\u001b[0m\n\u001b[1;32m   1434\u001b[0m     \u001b[0;32mfor\u001b[0m \u001b[0;34m(\u001b[0m\u001b[0mneuron_x\u001b[0m\u001b[0;34m,\u001b[0m \u001b[0mneuron_y\u001b[0m\u001b[0;34m)\u001b[0m\u001b[0;34m,\u001b[0m \u001b[0mtrial_id\u001b[0m \u001b[0;32min\u001b[0m \u001b[0mpair_trial_batch\u001b[0m\u001b[0;34m:\u001b[0m\u001b[0;34m\u001b[0m\u001b[0;34m\u001b[0m\u001b[0m\n\u001b[1;32m   1435\u001b[0m       \u001b[0mspike_times_x\u001b[0m \u001b[0;34m=\u001b[0m \u001b[0mspike_times_x\u001b[0m \u001b[0;34m+\u001b[0m \u001b[0mspike_times\u001b[0m\u001b[0;34m.\u001b[0m\u001b[0mloc\u001b[0m\u001b[0;34m[\u001b[0m\u001b[0mneuron_x\u001b[0m\u001b[0;34m,\u001b[0m\u001b[0;34m[\u001b[0m\u001b[0mtrial_id\u001b[0m\u001b[0;34m]\u001b[0m\u001b[0;34m]\u001b[0m\u001b[0;34m.\u001b[0m\u001b[0mtolist\u001b[0m\u001b[0;34m(\u001b[0m\u001b[0;34m)\u001b[0m\u001b[0;34m\u001b[0m\u001b[0;34m\u001b[0m\u001b[0m\n\u001b[0;32m-> 1436\u001b[0;31m       \u001b[0mspike_times_y\u001b[0m \u001b[0;34m=\u001b[0m \u001b[0mspike_times_y\u001b[0m \u001b[0;34m+\u001b[0m \u001b[0mspike_times\u001b[0m\u001b[0;34m.\u001b[0m\u001b[0mloc\u001b[0m\u001b[0;34m[\u001b[0m\u001b[0mneuron_y\u001b[0m\u001b[0;34m,\u001b[0m\u001b[0;34m[\u001b[0m\u001b[0mtrial_id\u001b[0m\u001b[0;34m]\u001b[0m\u001b[0;34m]\u001b[0m\u001b[0;34m.\u001b[0m\u001b[0mtolist\u001b[0m\u001b[0;34m(\u001b[0m\u001b[0;34m)\u001b[0m\u001b[0;34m\u001b[0m\u001b[0;34m\u001b[0m\u001b[0m\n\u001b[0m\u001b[1;32m   1437\u001b[0m \u001b[0;34m\u001b[0m\u001b[0m\n\u001b[1;32m   1438\u001b[0m     \u001b[0;32mreturn\u001b[0m \u001b[0mspike_times_x\u001b[0m\u001b[0;34m,\u001b[0m \u001b[0mspike_times_y\u001b[0m\u001b[0;34m\u001b[0m\u001b[0;34m\u001b[0m\u001b[0m\n",
      "\u001b[0;32m~/anaconda3/lib/python3.8/site-packages/pandas/core/indexing.py\u001b[0m in \u001b[0;36m__getitem__\u001b[0;34m(self, key)\u001b[0m\n\u001b[1;32m    887\u001b[0m                     \u001b[0;31m# AttributeError for IntervalTree get_value\u001b[0m\u001b[0;34m\u001b[0m\u001b[0;34m\u001b[0m\u001b[0;34m\u001b[0m\u001b[0m\n\u001b[1;32m    888\u001b[0m                     \u001b[0;32mreturn\u001b[0m \u001b[0mself\u001b[0m\u001b[0;34m.\u001b[0m\u001b[0mobj\u001b[0m\u001b[0;34m.\u001b[0m\u001b[0m_get_value\u001b[0m\u001b[0;34m(\u001b[0m\u001b[0;34m*\u001b[0m\u001b[0mkey\u001b[0m\u001b[0;34m,\u001b[0m \u001b[0mtakeable\u001b[0m\u001b[0;34m=\u001b[0m\u001b[0mself\u001b[0m\u001b[0;34m.\u001b[0m\u001b[0m_takeable\u001b[0m\u001b[0;34m)\u001b[0m\u001b[0;34m\u001b[0m\u001b[0;34m\u001b[0m\u001b[0m\n\u001b[0;32m--> 889\u001b[0;31m             \u001b[0;32mreturn\u001b[0m \u001b[0mself\u001b[0m\u001b[0;34m.\u001b[0m\u001b[0m_getitem_tuple\u001b[0m\u001b[0;34m(\u001b[0m\u001b[0mkey\u001b[0m\u001b[0;34m)\u001b[0m\u001b[0;34m\u001b[0m\u001b[0;34m\u001b[0m\u001b[0m\n\u001b[0m\u001b[1;32m    890\u001b[0m         \u001b[0;32melse\u001b[0m\u001b[0;34m:\u001b[0m\u001b[0;34m\u001b[0m\u001b[0;34m\u001b[0m\u001b[0m\n\u001b[1;32m    891\u001b[0m             \u001b[0;31m# we by definition only have the 0th axis\u001b[0m\u001b[0;34m\u001b[0m\u001b[0;34m\u001b[0m\u001b[0;34m\u001b[0m\u001b[0m\n",
      "\u001b[0;32m~/anaconda3/lib/python3.8/site-packages/pandas/core/indexing.py\u001b[0m in \u001b[0;36m_getitem_tuple\u001b[0;34m(self, tup)\u001b[0m\n\u001b[1;32m   1058\u001b[0m     \u001b[0;32mdef\u001b[0m \u001b[0m_getitem_tuple\u001b[0m\u001b[0;34m(\u001b[0m\u001b[0mself\u001b[0m\u001b[0;34m,\u001b[0m \u001b[0mtup\u001b[0m\u001b[0;34m:\u001b[0m \u001b[0mTuple\u001b[0m\u001b[0;34m)\u001b[0m\u001b[0;34m:\u001b[0m\u001b[0;34m\u001b[0m\u001b[0;34m\u001b[0m\u001b[0m\n\u001b[1;32m   1059\u001b[0m         \u001b[0;32mwith\u001b[0m \u001b[0msuppress\u001b[0m\u001b[0;34m(\u001b[0m\u001b[0mIndexingError\u001b[0m\u001b[0;34m)\u001b[0m\u001b[0;34m:\u001b[0m\u001b[0;34m\u001b[0m\u001b[0;34m\u001b[0m\u001b[0m\n\u001b[0;32m-> 1060\u001b[0;31m             \u001b[0;32mreturn\u001b[0m \u001b[0mself\u001b[0m\u001b[0;34m.\u001b[0m\u001b[0m_getitem_lowerdim\u001b[0m\u001b[0;34m(\u001b[0m\u001b[0mtup\u001b[0m\u001b[0;34m)\u001b[0m\u001b[0;34m\u001b[0m\u001b[0;34m\u001b[0m\u001b[0m\n\u001b[0m\u001b[1;32m   1061\u001b[0m \u001b[0;34m\u001b[0m\u001b[0m\n\u001b[1;32m   1062\u001b[0m         \u001b[0;31m# no multi-index, so validate all of the indexers\u001b[0m\u001b[0;34m\u001b[0m\u001b[0;34m\u001b[0m\u001b[0;34m\u001b[0m\u001b[0m\n",
      "\u001b[0;32m~/anaconda3/lib/python3.8/site-packages/pandas/core/indexing.py\u001b[0m in \u001b[0;36m_getitem_lowerdim\u001b[0;34m(self, tup)\u001b[0m\n\u001b[1;32m    829\u001b[0m                     \u001b[0;32mreturn\u001b[0m \u001b[0msection\u001b[0m\u001b[0;34m\u001b[0m\u001b[0;34m\u001b[0m\u001b[0m\n\u001b[1;32m    830\u001b[0m                 \u001b[0;31m# This is an elided recursive call to iloc/loc\u001b[0m\u001b[0;34m\u001b[0m\u001b[0;34m\u001b[0m\u001b[0;34m\u001b[0m\u001b[0m\n\u001b[0;32m--> 831\u001b[0;31m                 \u001b[0;32mreturn\u001b[0m \u001b[0mgetattr\u001b[0m\u001b[0;34m(\u001b[0m\u001b[0msection\u001b[0m\u001b[0;34m,\u001b[0m \u001b[0mself\u001b[0m\u001b[0;34m.\u001b[0m\u001b[0mname\u001b[0m\u001b[0;34m)\u001b[0m\u001b[0;34m[\u001b[0m\u001b[0mnew_key\u001b[0m\u001b[0;34m]\u001b[0m\u001b[0;34m\u001b[0m\u001b[0;34m\u001b[0m\u001b[0m\n\u001b[0m\u001b[1;32m    832\u001b[0m \u001b[0;34m\u001b[0m\u001b[0m\n\u001b[1;32m    833\u001b[0m         \u001b[0;32mraise\u001b[0m \u001b[0mIndexingError\u001b[0m\u001b[0;34m(\u001b[0m\u001b[0;34m\"not applicable\"\u001b[0m\u001b[0;34m)\u001b[0m\u001b[0;34m\u001b[0m\u001b[0;34m\u001b[0m\u001b[0m\n",
      "\u001b[0;32m~/anaconda3/lib/python3.8/site-packages/pandas/core/indexing.py\u001b[0m in \u001b[0;36m__getitem__\u001b[0;34m(self, key)\u001b[0m\n\u001b[1;32m    893\u001b[0m \u001b[0;34m\u001b[0m\u001b[0m\n\u001b[1;32m    894\u001b[0m             \u001b[0mmaybe_callable\u001b[0m \u001b[0;34m=\u001b[0m \u001b[0mcom\u001b[0m\u001b[0;34m.\u001b[0m\u001b[0mapply_if_callable\u001b[0m\u001b[0;34m(\u001b[0m\u001b[0mkey\u001b[0m\u001b[0;34m,\u001b[0m \u001b[0mself\u001b[0m\u001b[0;34m.\u001b[0m\u001b[0mobj\u001b[0m\u001b[0;34m)\u001b[0m\u001b[0;34m\u001b[0m\u001b[0;34m\u001b[0m\u001b[0m\n\u001b[0;32m--> 895\u001b[0;31m             \u001b[0;32mreturn\u001b[0m \u001b[0mself\u001b[0m\u001b[0;34m.\u001b[0m\u001b[0m_getitem_axis\u001b[0m\u001b[0;34m(\u001b[0m\u001b[0mmaybe_callable\u001b[0m\u001b[0;34m,\u001b[0m \u001b[0maxis\u001b[0m\u001b[0;34m=\u001b[0m\u001b[0maxis\u001b[0m\u001b[0;34m)\u001b[0m\u001b[0;34m\u001b[0m\u001b[0;34m\u001b[0m\u001b[0m\n\u001b[0m\u001b[1;32m    896\u001b[0m \u001b[0;34m\u001b[0m\u001b[0m\n\u001b[1;32m    897\u001b[0m     \u001b[0;32mdef\u001b[0m \u001b[0m_is_scalar_access\u001b[0m\u001b[0;34m(\u001b[0m\u001b[0mself\u001b[0m\u001b[0;34m,\u001b[0m \u001b[0mkey\u001b[0m\u001b[0;34m:\u001b[0m \u001b[0mTuple\u001b[0m\u001b[0;34m)\u001b[0m\u001b[0;34m:\u001b[0m\u001b[0;34m\u001b[0m\u001b[0;34m\u001b[0m\u001b[0m\n",
      "\u001b[0;32m~/anaconda3/lib/python3.8/site-packages/pandas/core/indexing.py\u001b[0m in \u001b[0;36m_getitem_axis\u001b[0;34m(self, key, axis)\u001b[0m\n\u001b[1;32m   1111\u001b[0m                     \u001b[0;32mraise\u001b[0m \u001b[0mValueError\u001b[0m\u001b[0;34m(\u001b[0m\u001b[0;34m\"Cannot index with multidimensional key\"\u001b[0m\u001b[0;34m)\u001b[0m\u001b[0;34m\u001b[0m\u001b[0;34m\u001b[0m\u001b[0m\n\u001b[1;32m   1112\u001b[0m \u001b[0;34m\u001b[0m\u001b[0m\n\u001b[0;32m-> 1113\u001b[0;31m                 \u001b[0;32mreturn\u001b[0m \u001b[0mself\u001b[0m\u001b[0;34m.\u001b[0m\u001b[0m_getitem_iterable\u001b[0m\u001b[0;34m(\u001b[0m\u001b[0mkey\u001b[0m\u001b[0;34m,\u001b[0m \u001b[0maxis\u001b[0m\u001b[0;34m=\u001b[0m\u001b[0maxis\u001b[0m\u001b[0;34m)\u001b[0m\u001b[0;34m\u001b[0m\u001b[0;34m\u001b[0m\u001b[0m\n\u001b[0m\u001b[1;32m   1114\u001b[0m \u001b[0;34m\u001b[0m\u001b[0m\n\u001b[1;32m   1115\u001b[0m             \u001b[0;31m# nested tuple slicing\u001b[0m\u001b[0;34m\u001b[0m\u001b[0;34m\u001b[0m\u001b[0;34m\u001b[0m\u001b[0m\n",
      "\u001b[0;32m~/anaconda3/lib/python3.8/site-packages/pandas/core/indexing.py\u001b[0m in \u001b[0;36m_getitem_iterable\u001b[0;34m(self, key, axis)\u001b[0m\n\u001b[1;32m   1051\u001b[0m \u001b[0;34m\u001b[0m\u001b[0m\n\u001b[1;32m   1052\u001b[0m         \u001b[0;31m# A collection of keys\u001b[0m\u001b[0;34m\u001b[0m\u001b[0;34m\u001b[0m\u001b[0;34m\u001b[0m\u001b[0m\n\u001b[0;32m-> 1053\u001b[0;31m         \u001b[0mkeyarr\u001b[0m\u001b[0;34m,\u001b[0m \u001b[0mindexer\u001b[0m \u001b[0;34m=\u001b[0m \u001b[0mself\u001b[0m\u001b[0;34m.\u001b[0m\u001b[0m_get_listlike_indexer\u001b[0m\u001b[0;34m(\u001b[0m\u001b[0mkey\u001b[0m\u001b[0;34m,\u001b[0m \u001b[0maxis\u001b[0m\u001b[0;34m,\u001b[0m \u001b[0mraise_missing\u001b[0m\u001b[0;34m=\u001b[0m\u001b[0;32mFalse\u001b[0m\u001b[0;34m)\u001b[0m\u001b[0;34m\u001b[0m\u001b[0;34m\u001b[0m\u001b[0m\n\u001b[0m\u001b[1;32m   1054\u001b[0m         return self.obj._reindex_with_indexers(\n\u001b[1;32m   1055\u001b[0m             \u001b[0;34m{\u001b[0m\u001b[0maxis\u001b[0m\u001b[0;34m:\u001b[0m \u001b[0;34m[\u001b[0m\u001b[0mkeyarr\u001b[0m\u001b[0;34m,\u001b[0m \u001b[0mindexer\u001b[0m\u001b[0;34m]\u001b[0m\u001b[0;34m}\u001b[0m\u001b[0;34m,\u001b[0m \u001b[0mcopy\u001b[0m\u001b[0;34m=\u001b[0m\u001b[0;32mTrue\u001b[0m\u001b[0;34m,\u001b[0m \u001b[0mallow_dups\u001b[0m\u001b[0;34m=\u001b[0m\u001b[0;32mTrue\u001b[0m\u001b[0;34m\u001b[0m\u001b[0;34m\u001b[0m\u001b[0m\n",
      "\u001b[0;32m~/anaconda3/lib/python3.8/site-packages/pandas/core/indexing.py\u001b[0m in \u001b[0;36m_get_listlike_indexer\u001b[0;34m(self, key, axis, raise_missing)\u001b[0m\n\u001b[1;32m   1260\u001b[0m         \u001b[0;32mif\u001b[0m \u001b[0max\u001b[0m\u001b[0;34m.\u001b[0m\u001b[0m_index_as_unique\u001b[0m\u001b[0;34m:\u001b[0m\u001b[0;34m\u001b[0m\u001b[0;34m\u001b[0m\u001b[0m\n\u001b[1;32m   1261\u001b[0m             \u001b[0mindexer\u001b[0m \u001b[0;34m=\u001b[0m \u001b[0max\u001b[0m\u001b[0;34m.\u001b[0m\u001b[0mget_indexer_for\u001b[0m\u001b[0;34m(\u001b[0m\u001b[0mkeyarr\u001b[0m\u001b[0;34m)\u001b[0m\u001b[0;34m\u001b[0m\u001b[0;34m\u001b[0m\u001b[0m\n\u001b[0;32m-> 1262\u001b[0;31m             \u001b[0mkeyarr\u001b[0m \u001b[0;34m=\u001b[0m \u001b[0max\u001b[0m\u001b[0;34m.\u001b[0m\u001b[0mreindex\u001b[0m\u001b[0;34m(\u001b[0m\u001b[0mkeyarr\u001b[0m\u001b[0;34m)\u001b[0m\u001b[0;34m[\u001b[0m\u001b[0;36m0\u001b[0m\u001b[0;34m]\u001b[0m\u001b[0;34m\u001b[0m\u001b[0;34m\u001b[0m\u001b[0m\n\u001b[0m\u001b[1;32m   1263\u001b[0m         \u001b[0;32melse\u001b[0m\u001b[0;34m:\u001b[0m\u001b[0;34m\u001b[0m\u001b[0;34m\u001b[0m\u001b[0m\n\u001b[1;32m   1264\u001b[0m             \u001b[0mkeyarr\u001b[0m\u001b[0;34m,\u001b[0m \u001b[0mindexer\u001b[0m\u001b[0;34m,\u001b[0m \u001b[0mnew_indexer\u001b[0m \u001b[0;34m=\u001b[0m \u001b[0max\u001b[0m\u001b[0;34m.\u001b[0m\u001b[0m_reindex_non_unique\u001b[0m\u001b[0;34m(\u001b[0m\u001b[0mkeyarr\u001b[0m\u001b[0;34m)\u001b[0m\u001b[0;34m\u001b[0m\u001b[0;34m\u001b[0m\u001b[0m\n",
      "\u001b[0;32m~/anaconda3/lib/python3.8/site-packages/pandas/core/indexes/base.py\u001b[0m in \u001b[0;36mreindex\u001b[0;34m(self, target, method, level, limit, tolerance)\u001b[0m\n\u001b[1;32m   3510\u001b[0m             )\n\u001b[1;32m   3511\u001b[0m         \u001b[0;32melse\u001b[0m\u001b[0;34m:\u001b[0m\u001b[0;34m\u001b[0m\u001b[0;34m\u001b[0m\u001b[0m\n\u001b[0;32m-> 3512\u001b[0;31m             \u001b[0;32mif\u001b[0m \u001b[0mself\u001b[0m\u001b[0;34m.\u001b[0m\u001b[0mequals\u001b[0m\u001b[0;34m(\u001b[0m\u001b[0mtarget\u001b[0m\u001b[0;34m)\u001b[0m\u001b[0;34m:\u001b[0m\u001b[0;34m\u001b[0m\u001b[0;34m\u001b[0m\u001b[0m\n\u001b[0m\u001b[1;32m   3513\u001b[0m                 \u001b[0mindexer\u001b[0m \u001b[0;34m=\u001b[0m \u001b[0;32mNone\u001b[0m\u001b[0;34m\u001b[0m\u001b[0;34m\u001b[0m\u001b[0m\n\u001b[1;32m   3514\u001b[0m             \u001b[0;32melse\u001b[0m\u001b[0;34m:\u001b[0m\u001b[0;34m\u001b[0m\u001b[0;34m\u001b[0m\u001b[0m\n",
      "\u001b[0;32m~/anaconda3/lib/python3.8/site-packages/pandas/core/indexes/base.py\u001b[0m in \u001b[0;36mequals\u001b[0;34m(self, other)\u001b[0m\n\u001b[1;32m   4468\u001b[0m             \u001b[0;32mreturn\u001b[0m \u001b[0mother\u001b[0m\u001b[0;34m.\u001b[0m\u001b[0mequals\u001b[0m\u001b[0;34m(\u001b[0m\u001b[0mself\u001b[0m\u001b[0;34m)\u001b[0m\u001b[0;34m\u001b[0m\u001b[0;34m\u001b[0m\u001b[0m\n\u001b[1;32m   4469\u001b[0m \u001b[0;34m\u001b[0m\u001b[0m\n\u001b[0;32m-> 4470\u001b[0;31m         \u001b[0;32mreturn\u001b[0m \u001b[0marray_equivalent\u001b[0m\u001b[0;34m(\u001b[0m\u001b[0mself\u001b[0m\u001b[0;34m.\u001b[0m\u001b[0m_values\u001b[0m\u001b[0;34m,\u001b[0m \u001b[0mother\u001b[0m\u001b[0;34m.\u001b[0m\u001b[0m_values\u001b[0m\u001b[0;34m)\u001b[0m\u001b[0;34m\u001b[0m\u001b[0;34m\u001b[0m\u001b[0m\n\u001b[0m\u001b[1;32m   4471\u001b[0m \u001b[0;34m\u001b[0m\u001b[0m\n\u001b[1;32m   4472\u001b[0m     \u001b[0;34m@\u001b[0m\u001b[0mfinal\u001b[0m\u001b[0;34m\u001b[0m\u001b[0;34m\u001b[0m\u001b[0m\n",
      "\u001b[0;32m~/anaconda3/lib/python3.8/site-packages/pandas/core/dtypes/missing.py\u001b[0m in \u001b[0;36marray_equivalent\u001b[0;34m(left, right, strict_nan, dtype_equal)\u001b[0m\n\u001b[1;32m    406\u001b[0m \u001b[0;34m\u001b[0m\u001b[0m\n\u001b[1;32m    407\u001b[0m     \u001b[0;31m# shape compat\u001b[0m\u001b[0;34m\u001b[0m\u001b[0;34m\u001b[0m\u001b[0;34m\u001b[0m\u001b[0m\n\u001b[0;32m--> 408\u001b[0;31m     \u001b[0;32mif\u001b[0m \u001b[0mleft\u001b[0m\u001b[0;34m.\u001b[0m\u001b[0mshape\u001b[0m \u001b[0;34m!=\u001b[0m \u001b[0mright\u001b[0m\u001b[0;34m.\u001b[0m\u001b[0mshape\u001b[0m\u001b[0;34m:\u001b[0m\u001b[0;34m\u001b[0m\u001b[0;34m\u001b[0m\u001b[0m\n\u001b[0m\u001b[1;32m    409\u001b[0m         \u001b[0;32mreturn\u001b[0m \u001b[0;32mFalse\u001b[0m\u001b[0;34m\u001b[0m\u001b[0;34m\u001b[0m\u001b[0m\n\u001b[1;32m    410\u001b[0m \u001b[0;34m\u001b[0m\u001b[0m\n",
      "\u001b[0;31mKeyboardInterrupt\u001b[0m: "
     ]
    }
   ],
   "source": [
    "output_dir = project_dir + f'Output/jitter/coupling_filter/session791319847_CD_DE_condition19_joint_fit_fixed_portion_kernel70ms_11272021_2248/'\n",
    "\n",
    "for itr in range(0, 30):\n",
    "    jobs_CD, jobs_DE = [], []\n",
    "    for trial_id in selected_trial_ids:\n",
    "        job1 = delayed(model.update_filter_membership)(spike_times, trial_window, group_portion, group_model_pars, \n",
    "                                                       filter_membership_CD, [trial_id], parallel=True)\n",
    "        job2 = delayed(model.update_filter_membership)(spike_times, trial_window, group_portion, group_model_pars, \n",
    "                                                       filter_membership_DE, [trial_id], parallel=True)\n",
    "        jobs_CD.append(job1)\n",
    "        jobs_DE.append(job2)\n",
    "    with Parallel(n_jobs=num_paral_jobs, verbose=1) as parallel_pool:\n",
    "        jobs_CD_out = parallel_pool(jobs_CD)\n",
    "        jobs_DE_out = parallel_pool(jobs_DE)\n",
    "    filter_membership_CD = pd.concat(jobs_CD_out, axis=1)\n",
    "    filter_membership_DE = pd.concat(jobs_DE_out, axis=1)\n",
    "    model.filter_membership_statistics(filter_membership_CD)\n",
    "    model.filter_membership_statistics(filter_membership_DE)\n",
    "    file_path = output_dir + f'filter_membership_CD_itr{itr}_{time.strftime(\"%Y%m%d_%H%M%S\")}.pkl'\n",
    "    util.save_variable(file_path, filter_membership_CD)\n",
    "    file_path = output_dir + f'filter_membership_DE_itr{itr}_{time.strftime(\"%Y%m%d_%H%M%S\")}.pkl'\n",
    "    util.save_variable(file_path, filter_membership_DE)\n",
    "\n",
    "    filter_membership_joint = filter_membership_CD.append(filter_membership_DE)\n",
    "\n",
    "#     group_portion = model.update_membership_portion(5, filter_membership_joint)\n",
    "    file_path = output_dir + f'group_portion_itr{itr}_{time.strftime(\"%Y%m%d_%H%M%S\")}.pkl'\n",
    "    util.save_variable(file_path, group_portion)\n",
    "\n",
    "    group_model_pars = model.update_cluster_filter_joint_trail(filter_membership_joint, verbose=True)\n",
    "    model.plot_multiple_filters(group_model_pars, ylim=[-7, 20], num_rows_cols=[1,5])\n",
    "    file_path = output_dir + f'group_model_pars_joint_itr{itr}_{time.strftime(\"%Y%m%d_%H%M%S\")}.pkl'\n",
    "    util.save_variable(file_path, group_model_pars)"
   ]
  },
  {
   "cell_type": "code",
   "execution_count": null,
   "metadata": {},
   "outputs": [],
   "source": []
  },
  {
   "cell_type": "code",
   "execution_count": null,
   "metadata": {},
   "outputs": [],
   "source": []
  },
  {
   "cell_type": "code",
   "execution_count": null,
   "metadata": {},
   "outputs": [],
   "source": []
  }
 ],
 "metadata": {
  "kernelspec": {
   "display_name": "Python 3",
   "language": "python",
   "name": "python3"
  },
  "language_info": {
   "codemirror_mode": {
    "name": "ipython",
    "version": 3
   },
   "file_extension": ".py",
   "mimetype": "text/x-python",
   "name": "python",
   "nbconvert_exporter": "python",
   "pygments_lexer": "ipython3",
   "version": "3.8.3"
  },
  "nbdime-conflicts": {
   "local_diff": [
    {
     "key": "kernelspec",
     "op": "add",
     "value": {
      "display_name": "allensdk",
      "language": "python",
      "name": "allensdk"
     }
    },
    {
     "key": "language_info",
     "op": "add",
     "value": {
      "codemirror_mode": {
       "name": "ipython",
       "version": 3
      },
      "file_extension": ".py",
      "mimetype": "text/x-python",
      "name": "python",
      "nbconvert_exporter": "python",
      "pygments_lexer": "ipython3",
      "version": "3.6.8"
     }
    }
   ],
   "remote_diff": [
    {
     "key": "kernelspec",
     "op": "add",
     "value": {
      "display_name": "py37",
      "language": "python",
      "name": "py37"
     }
    },
    {
     "key": "language_info",
     "op": "add",
     "value": {
      "codemirror_mode": {
       "name": "ipython",
       "version": 3
      },
      "file_extension": ".py",
      "mimetype": "text/x-python",
      "name": "python",
      "nbconvert_exporter": "python",
      "pygments_lexer": "ipython3",
      "version": "3.7.3"
     }
    }
   ]
  }
 },
 "nbformat": 4,
 "nbformat_minor": 2
}
