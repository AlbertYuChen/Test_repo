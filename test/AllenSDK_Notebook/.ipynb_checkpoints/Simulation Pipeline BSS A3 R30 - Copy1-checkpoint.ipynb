{
 "cells": [
  {
   "cell_type": "code",
   "execution_count": 1,
   "metadata": {},
   "outputs": [
    {
     "name": "stdout",
     "output_type": "stream",
     "text": [
      "110\n",
      "Download time: 291600\n"
     ]
    }
   ],
   "source": [
    "%load_ext autoreload\n",
    "%autoreload 2\n",
    "\n",
    "# first we need a bit of import boilerplate\n",
    "import os\n",
    "import sys\n",
    "from sys import platform\n",
    "if platform == 'win32':\n",
    "    sys.path.append('D:/Brain_Network/Code/')\n",
    "    manifest_path = 'D:/Brain_Network/Data/Allen_Institute_Dataset/manifest.json'\n",
    "    project_dir = 'D:/Brain_Network/'\n",
    "elif platform =='darwin':\n",
    "    sys.path.append('/Users/chenyu/Workspace/Brain_Network/Code/')\n",
    "    manifest_path = '/Users/chenyu/Workspace/Brain_Network/Data/Allen_Institute_Dataset/manifest.json'\n",
    "    project_dir = '/Users/chenyu/Workspace/Brain_Network/'\n",
    "elif platform == 'linux':\n",
    "    sys.path.append('/home/yuchen/workspace/Brain_Network/Code/')\n",
    "    manifest_path = '/home/yuchen/workspace/Brain_Network/Data/Allen_Institute_Dataset/manifest.json'\n",
    "    project_dir = '/home/yuchen/workspace/Brain_Network/'\n",
    "else:\n",
    "    print('Add new computer system settings.')\n",
    "\n",
    "import numpy as np; np.set_printoptions(linewidth=110); print(np.get_printoptions()['linewidth'])\n",
    "import glob\n",
    "import pandas as pd\n",
    "import matplotlib.pyplot as plt\n",
    "# import seaborn\n",
    "import scipy\n",
    "import scipy.io as sio\n",
    "from scipy.ndimage.filters import gaussian_filter\n",
    "import seaborn\n",
    "from tqdm.notebook import trange\n",
    "import time\n",
    "\n",
    "from allensdk.brain_observatory.ecephys.ecephys_project_cache import EcephysProjectCache\n",
    "from allensdk.brain_observatory.ecephys.ecephys_session import (\n",
    "    EcephysSession,\n",
    "    removed_unused_stimulus_presentation_columns\n",
    ")\n",
    "from allensdk.brain_observatory.ecephys.visualization import (\n",
    "    plot_mean_waveforms, \n",
    "    plot_spike_counts, \n",
    "    raster_plot)\n",
    "from allensdk.brain_observatory.visualization import plot_running_speed\n",
    "\n",
    "# tell pandas to show all columns when we display a DataFrame\n",
    "pd.set_option(\"display.max_columns\", None)\n",
    "\n",
    "import data_visualizer\n",
    "import data_model\n",
    "import hierarchical_model\n",
    "import hierarchical_model_generator\n",
    "import hierarchical_sampling_model\n",
    "import util\n",
    "import smoothing_spline"
   ]
  },
  {
   "cell_type": "markdown",
   "metadata": {},
   "source": [
    "Number of samples needed to get accurate coverage estimation. If 95% CI is used. $\\sigma$ is the standard error.\n",
    "\n",
    "$\\sigma^2 = \\text{Var}(C) = \\frac{p(1-p)}{n} = \\frac{0.95*0.05}{n}$\n",
    "So, $n = \\frac{0.95*0.05}{\\sigma^2}$"
   ]
  },
  {
   "cell_type": "code",
   "execution_count": 158,
   "metadata": {},
   "outputs": [
    {
     "name": "stdout",
     "output_type": "stream",
     "text": [
      "1900.0\n",
      "475.0\n"
     ]
    }
   ],
   "source": [
    "sigma_coverage_error = 0.005\n",
    "number_samples = 0.95 * 0.05 / sigma_coverage_error**2\n",
    "print(number_samples)\n",
    "\n",
    "sigma_coverage_error = 0.01\n",
    "number_samples = 0.95 * 0.05 / sigma_coverage_error**2\n",
    "print(number_samples)"
   ]
  },
  {
   "cell_type": "markdown",
   "metadata": {},
   "source": [
    "# Hierarchical model Generator"
   ]
  },
  {
   "cell_type": "markdown",
   "metadata": {},
   "source": [
    "### Load tamplate model"
   ]
  },
  {
   "cell_type": "code",
   "execution_count": 2,
   "metadata": {},
   "outputs": [],
   "source": [
    "model_files = [\n",
    "'HBM_checkpoint_B_MC_0_500ms_probeCE_condition1_20200813-092937_generator_template.pkl',\n",
    "'HBM_checkpoint_BSS_MC_0_500ms_probeCE_o225_270_f8_20200801-174224_generator_template.pkl',\n",
    "'HBM_checkpoint_BSS_MC_0_500ms_probeCDE_o225_270_f8_20200731-125456_generator_template.pkl',\n",
    "'798911424_checkpoints_batch10_20200910-194436_generator_template.pkl']"
   ]
  },
  {
   "cell_type": "code",
   "execution_count": 4,
   "metadata": {},
   "outputs": [],
   "source": [
    "\n",
    "def runner(random_seed):\n",
    "\n",
    "    print(f'---------------------- {random_seed} --------------------')\n",
    "    ## Load simulation\n",
    "    generator_model = hierarchical_model_generator.HierarchicalModelGenerator()\n",
    "    data_folder = project_dir + 'Output/simulation/'\n",
    "    file_path = (data_folder + model_files[3])\n",
    "    generator_model.load_model(file_path)\n",
    "\n",
    "    np.random.seed(random_seed)\n",
    "    model_feature_type = 'BSS'\n",
    "    generator_model.initial_step(model_feature_type=model_feature_type, num_trials=30, num_conditions = 1)\n",
    "\n",
    "    ## Generate data\n",
    "    generator_model.generate_mu_sigma(sample_type='fixed', verbose=False)\n",
    "    generator_model.generate_q()\n",
    "    generator_model.generate_f_pop_gac(select_clist=[6], same_as_cross=False, verbose=False)\n",
    "    generator_model.generate_z(verbose=False)\n",
    "    generator_model.generate_p_gac(verbose=False)\n",
    "    generator_model.generate_log_lambda_nargc(verbose=False)\n",
    "    generator_model.generate_spikes(verbose=False)\n",
    "\n",
    "    ## Prepare for the data fitting.\n",
    "    trial_time_window=generator_model.trial_time_window\n",
    "    spike_train_time_line = generator_model.spike_train_time_line\n",
    "    spike_trains, spike_times = generator_model.spike_trains, generator_model.spike_times\n",
    "    session = None\n",
    "    spike_counts, spike_shifts = generator_model.spike_counts, generator_model.spike_shifts\n",
    "    units_probes = generator_model.selected_units['probe_description']\n",
    "    probes = generator_model.probes\n",
    "    selected_units = generator_model.selected_units\n",
    "    trials_indices = generator_model.trials_indices\n",
    "    trials_groups = generator_model.trials_groups\n",
    "\n",
    "    ## Initial HBM\n",
    "    model = hierarchical_sampling_model.HierarchicalSamplingModel(session)\n",
    "    np.random.seed(2)\n",
    "    model.initial_step(spike_trains, spike_times, spike_train_time_line, selected_units, trials_groups,\n",
    "                       trial_time_window, probes=['probeC', 'probeD', 'probeE'], \n",
    "                       model_feature_type=model_feature_type, num_areas=3, num_groups=3, \n",
    "                       eta_smooth_tuning=1e-8, verbose=False)\n",
    "\n",
    "    ##\n",
    "    clist = [0]\n",
    "    slc_begin = 200\n",
    "    slc_step = 5\n",
    "\n",
    "    t = trange(0, 1000)\n",
    "    for itr in t:\n",
    "        slc = (itr >= slc_begin) and (itr % slc_step == 0)\n",
    "        for c in clist:\n",
    "            if itr < 150:\n",
    "                model.update_f_local_pop_cag(c, sample_type='fit', verbose=False)\n",
    "                model.update_f_cross_pop_ca(c, sample_type='fit', record=(c==clist[-1] and slc), verbose=False)\n",
    "            elif itr >= 150:\n",
    "                model.update_f_local_pop_cag(c, sample_type='sample', verbose=False)\n",
    "                model.update_f_cross_pop_ca(c, sample_type='sample', record=(c==clist[-1] and slc), verbose=False)\n",
    "\n",
    "            if itr < 15:\n",
    "                model.update_q_arc(c, sample_type='fit', fit_peak_ratio=0,\n",
    "                                   record=(c==clist[-1] and slc), verbose=False)\n",
    "            if (itr >= 15) and (itr < 30):  # Fit peaks.\n",
    "                model.update_q_arc(c, sample_type='fit', fit_peak_ratio=0.01,\n",
    "                                   record=(c==clist[-1] and slc), verbose=False)\n",
    "            if itr >= 30:\n",
    "                model.update_q_arc(c, sample_type='sample', proposal_scalar=0.02, fit_peak_ratio=0,\n",
    "                                   record=(c==clist[-1] and slc), verbose=False)\n",
    "            if itr >= 60 and (itr % 10 == 0):\n",
    "                model.update_z_ngac(c, sample_type='sample', \n",
    "                                    record=(c==clist[-1]), verbose=False)\n",
    "            if itr >= 60:\n",
    "                model.update_p_gac(c, sample_type='sample',\n",
    "                                   record=(c==clist[-1] and slc), verbose=False)\n",
    "        if (itr >= 60) and (itr < 100):\n",
    "            model.update_mu_simga(clist=clist, sample_type='iw_fit', update_prior_ratio=0.3, \n",
    "                                  record=slc, verbose=False)\n",
    "        if itr >= 100:\n",
    "            model.update_mu_simga(clist=clist, sample_type='iw_sample', record=slc, verbose=False)\n",
    "        model.complete_log_likelihood(clist)\n",
    "        t.set_description(f'log-likelihood: {model.samples.log_likelihood[-1]:.2f}')\n",
    "\n",
    "    ## Output\n",
    "    model.samples.plot_log_likelihood()\n",
    "    model.samples.plot_marginal_correlation(0, 1, burn_in=0, end=-1, step=1, plot_type='rho',\n",
    "            true_model=generator_model, model_feature_type=model.model_feature_type,\n",
    "            distribution_type='hist')\n",
    "\n",
    "    # Save data.\n",
    "    experiment_name = (f'{model_feature_type}_0_500ms_probe3_R{len(trials_indices)}_' + \n",
    "                       f'sim_slcbegin{slc_begin}_slcstep{slc_step}_')\n",
    "    timestr = time.strftime(\"%Y%m%d-%H%M%S\")\n",
    "    output_folder = project_dir + 'Output/simulation_output/BSS_A3_R30_fixed_sigma/'\n",
    "\n",
    "    prefix = f'HBM_samples_seed{random_seed}_'\n",
    "    file_path = output_folder + prefix + experiment_name + timestr + '.pkl'\n",
    "    print(file_path)\n",
    "    model.samples.save(file_path)\n",
    "\n",
    "    # Save model.\n",
    "    prefix = f'HBM_checkpoint_seed{random_seed}_'\n",
    "    file_path = output_folder + prefix + experiment_name + timestr + '.pkl'\n",
    "    model.save_model(save_data=False, file_path=file_path)\n",
    "\n",
    "    # Save true model.\n",
    "    prefix = f'HBM_generator_seed{random_seed}_'\n",
    "    file_path = output_folder + prefix + experiment_name + timestr + '.pkl'\n",
    "    print(file_path)\n",
    "    generator_model.save_data(save_spikes=False, file_path=file_path)\n"
   ]
  },
  {
   "cell_type": "code",
   "execution_count": null,
   "metadata": {},
   "outputs": [
    {
     "data": {
      "application/vnd.jupyter.widget-view+json": {
       "model_id": "57bc92f531fa4818a96532d241e1bd28",
       "version_major": 2,
       "version_minor": 0
      },
      "text/plain": [
       "HBox(children=(FloatProgress(value=0.0, max=125.0), HTML(value='')))"
      ]
     },
     "metadata": {},
     "output_type": "display_data"
    },
    {
     "name": "stdout",
     "output_type": "stream",
     "text": [
      "---------------------- 75 --------------------\n",
      "model_feature_type: BSS\n",
      "\n",
      "num areas 3   num trials 30   num conditions 1   num qs 3\n"
     ]
    }
   ],
   "source": [
    "seed_range = trange(75, 200)\n",
    "for random_seed in seed_range:\n",
    "    runner(random_seed)"
   ]
  },
  {
   "cell_type": "code",
   "execution_count": null,
   "metadata": {},
   "outputs": [],
   "source": []
  }
 ],
 "metadata": {
  "kernelspec": {
   "display_name": "Python 3",
   "language": "python",
   "name": "python3"
  },
  "language_info": {
   "codemirror_mode": {
    "name": "ipython",
    "version": 3
   },
   "file_extension": ".py",
   "mimetype": "text/x-python",
   "name": "python",
   "nbconvert_exporter": "python",
   "pygments_lexer": "ipython3",
   "version": "3.6.5"
  },
  "nbdime-conflicts": {
   "local_diff": [
    {
     "key": "kernelspec",
     "op": "add",
     "value": {
      "display_name": "allensdk",
      "language": "python",
      "name": "allensdk"
     }
    },
    {
     "key": "language_info",
     "op": "add",
     "value": {
      "codemirror_mode": {
       "name": "ipython",
       "version": 3
      },
      "file_extension": ".py",
      "mimetype": "text/x-python",
      "name": "python",
      "nbconvert_exporter": "python",
      "pygments_lexer": "ipython3",
      "version": "3.6.8"
     }
    }
   ],
   "remote_diff": [
    {
     "key": "kernelspec",
     "op": "add",
     "value": {
      "display_name": "py37",
      "language": "python",
      "name": "py37"
     }
    },
    {
     "key": "language_info",
     "op": "add",
     "value": {
      "codemirror_mode": {
       "name": "ipython",
       "version": 3
      },
      "file_extension": ".py",
      "mimetype": "text/x-python",
      "name": "python",
      "nbconvert_exporter": "python",
      "pygments_lexer": "ipython3",
      "version": "3.7.3"
     }
    }
   ]
  }
 },
 "nbformat": 4,
 "nbformat_minor": 2
}
